{
 "cells": [
  {
   "cell_type": "code",
   "execution_count": 50,
   "metadata": {},
   "outputs": [],
   "source": [
    "import pandas as pd\n",
    "import numpy as np\n",
    "from sklearn.model_selection import train_test_split, GridSearchCV\n",
    "from sklearn.preprocessing import MinMaxScaler\n",
    "from sklearn.linear_model import LogisticRegression\n",
    "from sklearn.feature_selection import RFECV\n",
    "import joblib"
   ]
  },
  {
   "cell_type": "code",
   "execution_count": 51,
   "metadata": {},
   "outputs": [
    {
     "data": {
      "text/html": [
       "<div>\n",
       "<style scoped>\n",
       "    .dataframe tbody tr th:only-of-type {\n",
       "        vertical-align: middle;\n",
       "    }\n",
       "\n",
       "    .dataframe tbody tr th {\n",
       "        vertical-align: top;\n",
       "    }\n",
       "\n",
       "    .dataframe thead th {\n",
       "        text-align: right;\n",
       "    }\n",
       "</style>\n",
       "<table border=\"1\" class=\"dataframe\">\n",
       "  <thead>\n",
       "    <tr style=\"text-align: right;\">\n",
       "      <th></th>\n",
       "      <th>koi_disposition</th>\n",
       "      <th>koi_fpflag_nt</th>\n",
       "      <th>koi_fpflag_ss</th>\n",
       "      <th>koi_fpflag_co</th>\n",
       "      <th>koi_fpflag_ec</th>\n",
       "      <th>koi_period</th>\n",
       "      <th>koi_period_err1</th>\n",
       "      <th>koi_period_err2</th>\n",
       "      <th>koi_time0bk</th>\n",
       "      <th>koi_time0bk_err1</th>\n",
       "      <th>...</th>\n",
       "      <th>koi_steff_err2</th>\n",
       "      <th>koi_slogg</th>\n",
       "      <th>koi_slogg_err1</th>\n",
       "      <th>koi_slogg_err2</th>\n",
       "      <th>koi_srad</th>\n",
       "      <th>koi_srad_err1</th>\n",
       "      <th>koi_srad_err2</th>\n",
       "      <th>ra</th>\n",
       "      <th>dec</th>\n",
       "      <th>koi_kepmag</th>\n",
       "    </tr>\n",
       "  </thead>\n",
       "  <tbody>\n",
       "    <tr>\n",
       "      <th>0</th>\n",
       "      <td>CONFIRMED</td>\n",
       "      <td>0</td>\n",
       "      <td>0</td>\n",
       "      <td>0</td>\n",
       "      <td>0</td>\n",
       "      <td>54.418383</td>\n",
       "      <td>2.479000e-04</td>\n",
       "      <td>-2.479000e-04</td>\n",
       "      <td>162.513840</td>\n",
       "      <td>0.003520</td>\n",
       "      <td>...</td>\n",
       "      <td>-81</td>\n",
       "      <td>4.467</td>\n",
       "      <td>0.064</td>\n",
       "      <td>-0.096</td>\n",
       "      <td>0.927</td>\n",
       "      <td>0.105</td>\n",
       "      <td>-0.061</td>\n",
       "      <td>291.93423</td>\n",
       "      <td>48.141651</td>\n",
       "      <td>15.347</td>\n",
       "    </tr>\n",
       "    <tr>\n",
       "      <th>1</th>\n",
       "      <td>FALSE POSITIVE</td>\n",
       "      <td>0</td>\n",
       "      <td>1</td>\n",
       "      <td>0</td>\n",
       "      <td>0</td>\n",
       "      <td>19.899140</td>\n",
       "      <td>1.490000e-05</td>\n",
       "      <td>-1.490000e-05</td>\n",
       "      <td>175.850252</td>\n",
       "      <td>0.000581</td>\n",
       "      <td>...</td>\n",
       "      <td>-176</td>\n",
       "      <td>4.544</td>\n",
       "      <td>0.044</td>\n",
       "      <td>-0.176</td>\n",
       "      <td>0.868</td>\n",
       "      <td>0.233</td>\n",
       "      <td>-0.078</td>\n",
       "      <td>297.00482</td>\n",
       "      <td>48.134129</td>\n",
       "      <td>15.436</td>\n",
       "    </tr>\n",
       "    <tr>\n",
       "      <th>2</th>\n",
       "      <td>FALSE POSITIVE</td>\n",
       "      <td>0</td>\n",
       "      <td>1</td>\n",
       "      <td>0</td>\n",
       "      <td>0</td>\n",
       "      <td>1.736952</td>\n",
       "      <td>2.630000e-07</td>\n",
       "      <td>-2.630000e-07</td>\n",
       "      <td>170.307565</td>\n",
       "      <td>0.000115</td>\n",
       "      <td>...</td>\n",
       "      <td>-174</td>\n",
       "      <td>4.564</td>\n",
       "      <td>0.053</td>\n",
       "      <td>-0.168</td>\n",
       "      <td>0.791</td>\n",
       "      <td>0.201</td>\n",
       "      <td>-0.067</td>\n",
       "      <td>285.53461</td>\n",
       "      <td>48.285210</td>\n",
       "      <td>15.597</td>\n",
       "    </tr>\n",
       "    <tr>\n",
       "      <th>3</th>\n",
       "      <td>CONFIRMED</td>\n",
       "      <td>0</td>\n",
       "      <td>0</td>\n",
       "      <td>0</td>\n",
       "      <td>0</td>\n",
       "      <td>2.525592</td>\n",
       "      <td>3.760000e-06</td>\n",
       "      <td>-3.760000e-06</td>\n",
       "      <td>171.595550</td>\n",
       "      <td>0.001130</td>\n",
       "      <td>...</td>\n",
       "      <td>-211</td>\n",
       "      <td>4.438</td>\n",
       "      <td>0.070</td>\n",
       "      <td>-0.210</td>\n",
       "      <td>1.046</td>\n",
       "      <td>0.334</td>\n",
       "      <td>-0.133</td>\n",
       "      <td>288.75488</td>\n",
       "      <td>48.226200</td>\n",
       "      <td>15.509</td>\n",
       "    </tr>\n",
       "    <tr>\n",
       "      <th>4</th>\n",
       "      <td>CONFIRMED</td>\n",
       "      <td>0</td>\n",
       "      <td>0</td>\n",
       "      <td>0</td>\n",
       "      <td>0</td>\n",
       "      <td>4.134435</td>\n",
       "      <td>1.050000e-05</td>\n",
       "      <td>-1.050000e-05</td>\n",
       "      <td>172.979370</td>\n",
       "      <td>0.001900</td>\n",
       "      <td>...</td>\n",
       "      <td>-232</td>\n",
       "      <td>4.486</td>\n",
       "      <td>0.054</td>\n",
       "      <td>-0.229</td>\n",
       "      <td>0.972</td>\n",
       "      <td>0.315</td>\n",
       "      <td>-0.105</td>\n",
       "      <td>296.28613</td>\n",
       "      <td>48.224670</td>\n",
       "      <td>15.714</td>\n",
       "    </tr>\n",
       "  </tbody>\n",
       "</table>\n",
       "<p>5 rows × 41 columns</p>\n",
       "</div>"
      ],
      "text/plain": [
       "  koi_disposition  koi_fpflag_nt  koi_fpflag_ss  koi_fpflag_co  koi_fpflag_ec  \\\n",
       "0       CONFIRMED              0              0              0              0   \n",
       "1  FALSE POSITIVE              0              1              0              0   \n",
       "2  FALSE POSITIVE              0              1              0              0   \n",
       "3       CONFIRMED              0              0              0              0   \n",
       "4       CONFIRMED              0              0              0              0   \n",
       "\n",
       "   koi_period  koi_period_err1  koi_period_err2  koi_time0bk  \\\n",
       "0   54.418383     2.479000e-04    -2.479000e-04   162.513840   \n",
       "1   19.899140     1.490000e-05    -1.490000e-05   175.850252   \n",
       "2    1.736952     2.630000e-07    -2.630000e-07   170.307565   \n",
       "3    2.525592     3.760000e-06    -3.760000e-06   171.595550   \n",
       "4    4.134435     1.050000e-05    -1.050000e-05   172.979370   \n",
       "\n",
       "   koi_time0bk_err1  ...  koi_steff_err2  koi_slogg  koi_slogg_err1  \\\n",
       "0          0.003520  ...             -81      4.467           0.064   \n",
       "1          0.000581  ...            -176      4.544           0.044   \n",
       "2          0.000115  ...            -174      4.564           0.053   \n",
       "3          0.001130  ...            -211      4.438           0.070   \n",
       "4          0.001900  ...            -232      4.486           0.054   \n",
       "\n",
       "   koi_slogg_err2  koi_srad  koi_srad_err1  koi_srad_err2         ra  \\\n",
       "0          -0.096     0.927          0.105         -0.061  291.93423   \n",
       "1          -0.176     0.868          0.233         -0.078  297.00482   \n",
       "2          -0.168     0.791          0.201         -0.067  285.53461   \n",
       "3          -0.210     1.046          0.334         -0.133  288.75488   \n",
       "4          -0.229     0.972          0.315         -0.105  296.28613   \n",
       "\n",
       "         dec  koi_kepmag  \n",
       "0  48.141651      15.347  \n",
       "1  48.134129      15.436  \n",
       "2  48.285210      15.597  \n",
       "3  48.226200      15.509  \n",
       "4  48.224670      15.714  \n",
       "\n",
       "[5 rows x 41 columns]"
      ]
     },
     "execution_count": 51,
     "metadata": {},
     "output_type": "execute_result"
    }
   ],
   "source": [
    "df = pd.read_csv(\"exoplanet_data.csv\")\n",
    "# Drop the null columns where all values are null\n",
    "df = df.dropna(axis='columns', how='all')\n",
    "# Drop the null rows\n",
    "df = df.dropna()\n",
    "df.head()"
   ]
  },
  {
   "cell_type": "code",
   "execution_count": 52,
   "metadata": {},
   "outputs": [
    {
     "data": {
      "text/plain": [
       "0    1\n",
       "1    0\n",
       "2    0\n",
       "3    1\n",
       "4    1\n",
       "Name: koi_disposition, dtype: int64"
      ]
     },
     "execution_count": 52,
     "metadata": {},
     "output_type": "execute_result"
    }
   ],
   "source": [
    "#Use `koi_disposition` for the y values\n",
    "X=df[['koi_steff_err1','koi_model_snr', 'koi_duration_err2', 'koi_steff_err2', 'koi_duration_err1', 'koi_prad', 'koi_fpflag_co',\n",
    "    'koi_prad_err1', 'koi_time0bk_err1', 'koi_time0bk_err2' ]]\n",
    "feature_names = X.columns\n",
    "y=df[\"koi_disposition\"]\n",
    "\n",
    "def functionrand(x):\n",
    "    if x == 'CONFIRMED':\n",
    "        return 1\n",
    "    else:\n",
    "        return 0\n",
    "y = y.apply(functionrand)\n",
    "y[:5]"
   ]
  },
  {
   "cell_type": "code",
   "execution_count": 53,
   "metadata": {},
   "outputs": [
    {
     "name": "stdout",
     "output_type": "stream",
     "text": [
      "(6991, 10) (6991,)\n"
     ]
    }
   ],
   "source": [
    "print(X.shape, y.shape)"
   ]
  },
  {
   "cell_type": "code",
   "execution_count": 54,
   "metadata": {},
   "outputs": [],
   "source": [
    "# Split data into training and testing groups\n",
    "X_train, X_test, y_train, y_test = train_test_split(X, y, random_state=42)"
   ]
  },
  {
   "cell_type": "code",
   "execution_count": 55,
   "metadata": {},
   "outputs": [],
   "source": [
    "# Scale your data\n",
    "X_scaler = MinMaxScaler().fit(X_train)\n",
    "X_train_scaled = X_scaler.transform(X_train)\n",
    "X_test_scaled = X_scaler.transform(X_test)"
   ]
  },
  {
   "cell_type": "code",
   "execution_count": 56,
   "metadata": {},
   "outputs": [
    {
     "data": {
      "text/plain": [
       "LogisticRegression()"
      ]
     },
     "execution_count": 56,
     "metadata": {},
     "output_type": "execute_result"
    }
   ],
   "source": [
    "from sklearn.linear_model import LogisticRegression\n",
    "classifier = LogisticRegression()\n",
    "classifier"
   ]
  },
  {
   "cell_type": "code",
   "execution_count": 57,
   "metadata": {},
   "outputs": [
    {
     "data": {
      "text/plain": [
       "LogisticRegression()"
      ]
     },
     "execution_count": 57,
     "metadata": {},
     "output_type": "execute_result"
    }
   ],
   "source": [
    "classifier.fit(X_train_scaled, y_train)"
   ]
  },
  {
   "cell_type": "code",
   "execution_count": 58,
   "metadata": {},
   "outputs": [
    {
     "name": "stdout",
     "output_type": "stream",
     "text": [
      "Training Data Score: 0.788670608430288\n",
      "Testing Data Score: 0.7631578947368421\n"
     ]
    }
   ],
   "source": [
    "print(f\"Training Data Score: {classifier.score(X_train_scaled, y_train)}\")\n",
    "print(f\"Testing Data Score: {classifier.score(X_test_scaled, y_test)}\")"
   ]
  },
  {
   "cell_type": "code",
   "execution_count": 59,
   "metadata": {},
   "outputs": [],
   "source": [
    "from sklearn.model_selection import GridSearchCV\n",
    "param_grid = { 'C': [0.001, 0.01, 0.1, 1, 10, 100, 1000],\n",
    "    'penalty': ['l1', 'l2'],\n",
    "    'max_iter': list(range(100,800,100)),\n",
    "    'solver': ['newton-cg', 'lbfgs', 'liblinear', 'sag', 'saga']}\n",
    "grid = GridSearchCV(classifier, param_grid, verbose=3)"
   ]
  },
  {
   "cell_type": "code",
   "execution_count": 60,
   "metadata": {},
   "outputs": [
    {
     "name": "stdout",
     "output_type": "stream",
     "text": [
      "Fitting 5 folds for each of 490 candidates, totalling 2450 fits\n",
      "[CV] C=0.001, max_iter=100, penalty=l1, solver=newton-cg .............\n",
      "[CV]  C=0.001, max_iter=100, penalty=l1, solver=newton-cg, score=nan, total=   0.0s\n",
      "[CV] C=0.001, max_iter=100, penalty=l1, solver=newton-cg .............\n",
      "[CV]  C=0.001, max_iter=100, penalty=l1, solver=newton-cg, score=nan, total=   0.0s\n",
      "[CV] C=0.001, max_iter=100, penalty=l1, solver=newton-cg .............\n",
      "[CV]  C=0.001, max_iter=100, penalty=l1, solver=newton-cg, score=nan, total=   0.0s\n",
      "[CV] C=0.001, max_iter=100, penalty=l1, solver=newton-cg .............\n",
      "[CV]  C=0.001, max_iter=100, penalty=l1, solver=newton-cg, score=nan, total=   0.0s\n",
      "[CV] C=0.001, max_iter=100, penalty=l1, solver=newton-cg .............\n",
      "[CV]  C=0.001, max_iter=100, penalty=l1, solver=newton-cg, score=nan, total=   0.0s\n",
      "[CV] C=0.001, max_iter=100, penalty=l1, solver=lbfgs .................\n",
      "[CV]  C=0.001, max_iter=100, penalty=l1, solver=lbfgs, score=nan, total=   0.0s\n",
      "[CV] C=0.001, max_iter=100, penalty=l1, solver=lbfgs .................\n",
      "[CV]  C=0.001, max_iter=100, penalty=l1, solver=lbfgs, score=nan, total=   0.0s\n",
      "[CV] C=0.001, max_iter=100, penalty=l1, solver=lbfgs .................\n",
      "[CV]  C=0.001, max_iter=100, penalty=l1, solver=lbfgs, score=nan, total=   0.0s\n",
      "[CV] C=0.001, max_iter=100, penalty=l1, solver=lbfgs .................\n",
      "[CV]  C=0.001, max_iter=100, penalty=l1, solver=lbfgs, score=nan, total=   0.0s\n",
      "[CV] C=0.001, max_iter=100, penalty=l1, solver=lbfgs .................\n",
      "[CV]  C=0.001, max_iter=100, penalty=l1, solver=lbfgs, score=nan, total=   0.0s\n",
      "[CV] C=0.001, max_iter=100, penalty=l1, solver=liblinear .............\n",
      "[CV]  C=0.001, max_iter=100, penalty=l1, solver=liblinear, score=0.749, total=   0.0s\n",
      "[CV] C=0.001, max_iter=100, penalty=l1, solver=liblinear .............\n",
      "[CV]  C=0.001, max_iter=100, penalty=l1, solver=liblinear, score=0.749, total=   0.0s\n",
      "[CV] C=0.001, max_iter=100, penalty=l1, solver=liblinear .............\n",
      "[CV]  C=0.001, max_iter=100, penalty=l1, solver=liblinear, score=0.748, total=   0.0s\n",
      "[CV] C=0.001, max_iter=100, penalty=l1, solver=liblinear .............\n",
      "[CV]  C=0.001, max_iter=100, penalty=l1, solver=liblinear, score=0.749, total=   0.0s\n",
      "[CV] C=0.001, max_iter=100, penalty=l1, solver=liblinear .............\n",
      "[CV]  C=0.001, max_iter=100, penalty=l1, solver=liblinear, score=0.749, total=   0.0s\n",
      "[CV] C=0.001, max_iter=100, penalty=l1, solver=sag ...................\n",
      "[CV]  C=0.001, max_iter=100, penalty=l1, solver=sag, score=nan, total=   0.0s\n",
      "[CV] C=0.001, max_iter=100, penalty=l1, solver=sag ...................\n",
      "[CV]  C=0.001, max_iter=100, penalty=l1, solver=sag, score=nan, total=   0.0s\n",
      "[CV] C=0.001, max_iter=100, penalty=l1, solver=sag ...................\n",
      "[CV]  C=0.001, max_iter=100, penalty=l1, solver=sag, score=nan, total=   0.0s\n",
      "[CV] C=0.001, max_iter=100, penalty=l1, solver=sag ...................\n",
      "[CV]  C=0.001, max_iter=100, penalty=l1, solver=sag, score=nan, total=   0.0s\n",
      "[CV] C=0.001, max_iter=100, penalty=l1, solver=sag ...................\n",
      "[CV]  C=0.001, max_iter=100, penalty=l1, solver=sag, score=nan, total=   0.0s\n",
      "[CV] C=0.001, max_iter=100, penalty=l1, solver=saga ..................\n",
      "[CV]  C=0.001, max_iter=100, penalty=l1, solver=saga, score=0.749, total=   0.0s\n",
      "[CV] C=0.001, max_iter=100, penalty=l1, solver=saga ..................\n",
      "[CV]  C=0.001, max_iter=100, penalty=l1, solver=saga, score=0.749, total=   0.0s\n",
      "[CV] C=0.001, max_iter=100, penalty=l1, solver=saga ..................\n",
      "[CV]  C=0.001, max_iter=100, penalty=l1, solver=saga, score=0.748, total=   0.0s\n",
      "[CV] C=0.001, max_iter=100, penalty=l1, solver=saga ..................\n",
      "[CV]  C=0.001, max_iter=100, penalty=l1, solver=saga, score=0.749, total=   0.0s\n",
      "[CV] C=0.001, max_iter=100, penalty=l1, solver=saga ..................\n",
      "[CV]  C=0.001, max_iter=100, penalty=l1, solver=saga, score=0.749, total=   0.0s\n",
      "[CV] C=0.001, max_iter=100, penalty=l2, solver=newton-cg .............\n",
      "[CV]  C=0.001, max_iter=100, penalty=l2, solver=newton-cg, score=0.749, total=   0.0s\n",
      "[CV] C=0.001, max_iter=100, penalty=l2, solver=newton-cg .............\n",
      "[CV]  C=0.001, max_iter=100, penalty=l2, solver=newton-cg, score=0.749, total=   0.0s\n",
      "[CV] C=0.001, max_iter=100, penalty=l2, solver=newton-cg .............\n",
      "[CV]  C=0.001, max_iter=100, penalty=l2, solver=newton-cg, score=0.748, total=   0.0s\n",
      "[CV] C=0.001, max_iter=100, penalty=l2, solver=newton-cg .............\n",
      "[CV]  C=0.001, max_iter=100, penalty=l2, solver=newton-cg, score=0.749, total=   0.0s\n",
      "[CV] C=0.001, max_iter=100, penalty=l2, solver=newton-cg .............\n",
      "[CV]  C=0.001, max_iter=100, penalty=l2, solver=newton-cg, score=0.749, total=   0.0s\n",
      "[CV] C=0.001, max_iter=100, penalty=l2, solver=lbfgs .................\n",
      "[CV]  C=0.001, max_iter=100, penalty=l2, solver=lbfgs, score=0.749, total=   0.0s\n",
      "[CV] C=0.001, max_iter=100, penalty=l2, solver=lbfgs .................\n",
      "[CV]  C=0.001, max_iter=100, penalty=l2, solver=lbfgs, score=0.749, total=   0.0s\n",
      "[CV] C=0.001, max_iter=100, penalty=l2, solver=lbfgs .................\n",
      "[CV]  C=0.001, max_iter=100, penalty=l2, solver=lbfgs, score=0.748, total=   0.0s\n",
      "[CV] C=0.001, max_iter=100, penalty=l2, solver=lbfgs .................\n",
      "[CV]  C=0.001, max_iter=100, penalty=l2, solver=lbfgs, score=0.749, total=   0.0s\n",
      "[CV] C=0.001, max_iter=100, penalty=l2, solver=lbfgs .................\n",
      "[CV]  C=0.001, max_iter=100, penalty=l2, solver=lbfgs, score=0.749, total=   0.0s\n",
      "[CV] C=0.001, max_iter=100, penalty=l2, solver=liblinear .............\n",
      "[CV]  C=0.001, max_iter=100, penalty=l2, solver=liblinear, score=0.749, total=   0.0s"
     ]
    },
    {
     "name": "stderr",
     "output_type": "stream",
     "text": [
      "[Parallel(n_jobs=1)]: Using backend SequentialBackend with 1 concurrent workers.\n",
      "C:\\Users\\hanie\\anaconda3\\lib\\site-packages\\sklearn\\model_selection\\_validation.py:548: FitFailedWarning: Estimator fit failed. The score on this train-test partition for these parameters will be set to nan. Details: \n",
      "Traceback (most recent call last):\n",
      "  File \"C:\\Users\\hanie\\anaconda3\\lib\\site-packages\\sklearn\\model_selection\\_validation.py\", line 531, in _fit_and_score\n",
      "    estimator.fit(X_train, y_train, **fit_params)\n",
      "  File \"C:\\Users\\hanie\\anaconda3\\lib\\site-packages\\sklearn\\linear_model\\_logistic.py\", line 1304, in fit\n",
      "    solver = _check_solver(self.solver, self.penalty, self.dual)\n",
      "  File \"C:\\Users\\hanie\\anaconda3\\lib\\site-packages\\sklearn\\linear_model\\_logistic.py\", line 442, in _check_solver\n",
      "    raise ValueError(\"Solver %s supports only 'l2' or 'none' penalties, \"\n",
      "ValueError: Solver newton-cg supports only 'l2' or 'none' penalties, got l1 penalty.\n",
      "\n",
      "  warnings.warn(\"Estimator fit failed. The score on this train-test\"\n",
      "[Parallel(n_jobs=1)]: Done   1 out of   1 | elapsed:    0.0s remaining:    0.0s\n",
      "[Parallel(n_jobs=1)]: Done   2 out of   2 | elapsed:    0.0s remaining:    0.0s\n",
      "C:\\Users\\hanie\\anaconda3\\lib\\site-packages\\sklearn\\model_selection\\_validation.py:548: FitFailedWarning: Estimator fit failed. The score on this train-test partition for these parameters will be set to nan. Details: \n",
      "Traceback (most recent call last):\n",
      "  File \"C:\\Users\\hanie\\anaconda3\\lib\\site-packages\\sklearn\\model_selection\\_validation.py\", line 531, in _fit_and_score\n",
      "    estimator.fit(X_train, y_train, **fit_params)\n",
      "  File \"C:\\Users\\hanie\\anaconda3\\lib\\site-packages\\sklearn\\linear_model\\_logistic.py\", line 1304, in fit\n",
      "    solver = _check_solver(self.solver, self.penalty, self.dual)\n",
      "  File \"C:\\Users\\hanie\\anaconda3\\lib\\site-packages\\sklearn\\linear_model\\_logistic.py\", line 442, in _check_solver\n",
      "    raise ValueError(\"Solver %s supports only 'l2' or 'none' penalties, \"\n",
      "ValueError: Solver lbfgs supports only 'l2' or 'none' penalties, got l1 penalty.\n",
      "\n",
      "  warnings.warn(\"Estimator fit failed. The score on this train-test\"\n",
      "C:\\Users\\hanie\\anaconda3\\lib\\site-packages\\sklearn\\model_selection\\_validation.py:548: FitFailedWarning: Estimator fit failed. The score on this train-test partition for these parameters will be set to nan. Details: \n",
      "Traceback (most recent call last):\n",
      "  File \"C:\\Users\\hanie\\anaconda3\\lib\\site-packages\\sklearn\\model_selection\\_validation.py\", line 531, in _fit_and_score\n",
      "    estimator.fit(X_train, y_train, **fit_params)\n",
      "  File \"C:\\Users\\hanie\\anaconda3\\lib\\site-packages\\sklearn\\linear_model\\_logistic.py\", line 1304, in fit\n",
      "    solver = _check_solver(self.solver, self.penalty, self.dual)\n",
      "  File \"C:\\Users\\hanie\\anaconda3\\lib\\site-packages\\sklearn\\linear_model\\_logistic.py\", line 442, in _check_solver\n",
      "    raise ValueError(\"Solver %s supports only 'l2' or 'none' penalties, \"\n",
      "ValueError: Solver sag supports only 'l2' or 'none' penalties, got l1 penalty.\n",
      "\n",
      "  warnings.warn(\"Estimator fit failed. The score on this train-test\"\n"
     ]
    },
    {
     "name": "stdout",
     "output_type": "stream",
     "text": [
      "\n",
      "[CV] C=0.001, max_iter=100, penalty=l2, solver=liblinear .............\n",
      "[CV]  C=0.001, max_iter=100, penalty=l2, solver=liblinear, score=0.749, total=   0.0s\n",
      "[CV] C=0.001, max_iter=100, penalty=l2, solver=liblinear .............\n",
      "[CV]  C=0.001, max_iter=100, penalty=l2, solver=liblinear, score=0.748, total=   0.0s\n",
      "[CV] C=0.001, max_iter=100, penalty=l2, solver=liblinear .............\n",
      "[CV]  C=0.001, max_iter=100, penalty=l2, solver=liblinear, score=0.749, total=   0.0s\n",
      "[CV] C=0.001, max_iter=100, penalty=l2, solver=liblinear .............\n",
      "[CV]  C=0.001, max_iter=100, penalty=l2, solver=liblinear, score=0.749, total=   0.0s\n",
      "[CV] C=0.001, max_iter=100, penalty=l2, solver=sag ...................\n",
      "[CV]  C=0.001, max_iter=100, penalty=l2, solver=sag, score=0.749, total=   0.0s\n",
      "[CV] C=0.001, max_iter=100, penalty=l2, solver=sag ...................\n",
      "[CV]  C=0.001, max_iter=100, penalty=l2, solver=sag, score=0.749, total=   0.0s\n",
      "[CV] C=0.001, max_iter=100, penalty=l2, solver=sag ...................\n",
      "[CV]  C=0.001, max_iter=100, penalty=l2, solver=sag, score=0.748, total=   0.0s\n",
      "[CV] C=0.001, max_iter=100, penalty=l2, solver=sag ...................\n",
      "[CV]  C=0.001, max_iter=100, penalty=l2, solver=sag, score=0.749, total=   0.0s\n",
      "[CV] C=0.001, max_iter=100, penalty=l2, solver=sag ...................\n",
      "[CV]  C=0.001, max_iter=100, penalty=l2, solver=sag, score=0.749, total=   0.0s\n",
      "[CV] C=0.001, max_iter=100, penalty=l2, solver=saga ..................\n",
      "[CV]  C=0.001, max_iter=100, penalty=l2, solver=saga, score=0.749, total=   0.0s\n",
      "[CV] C=0.001, max_iter=100, penalty=l2, solver=saga ..................\n",
      "[CV]  C=0.001, max_iter=100, penalty=l2, solver=saga, score=0.749, total=   0.0s\n",
      "[CV] C=0.001, max_iter=100, penalty=l2, solver=saga ..................\n",
      "[CV]  C=0.001, max_iter=100, penalty=l2, solver=saga, score=0.748, total=   0.0s\n",
      "[CV] C=0.001, max_iter=100, penalty=l2, solver=saga ..................\n",
      "[CV]  C=0.001, max_iter=100, penalty=l2, solver=saga, score=0.749, total=   0.0s\n",
      "[CV] C=0.001, max_iter=100, penalty=l2, solver=saga ..................\n",
      "[CV]  C=0.001, max_iter=100, penalty=l2, solver=saga, score=0.749, total=   0.0s\n",
      "[CV] C=0.001, max_iter=200, penalty=l1, solver=newton-cg .............\n",
      "[CV]  C=0.001, max_iter=200, penalty=l1, solver=newton-cg, score=nan, total=   0.0s\n",
      "[CV] C=0.001, max_iter=200, penalty=l1, solver=newton-cg .............\n",
      "[CV]  C=0.001, max_iter=200, penalty=l1, solver=newton-cg, score=nan, total=   0.0s\n",
      "[CV] C=0.001, max_iter=200, penalty=l1, solver=newton-cg .............\n",
      "[CV]  C=0.001, max_iter=200, penalty=l1, solver=newton-cg, score=nan, total=   0.0s\n",
      "[CV] C=0.001, max_iter=200, penalty=l1, solver=newton-cg .............\n",
      "[CV]  C=0.001, max_iter=200, penalty=l1, solver=newton-cg, score=nan, total=   0.0s\n",
      "[CV] C=0.001, max_iter=200, penalty=l1, solver=newton-cg .............\n",
      "[CV]  C=0.001, max_iter=200, penalty=l1, solver=newton-cg, score=nan, total=   0.0s\n",
      "[CV] C=0.001, max_iter=200, penalty=l1, solver=lbfgs .................\n",
      "[CV]  C=0.001, max_iter=200, penalty=l1, solver=lbfgs, score=nan, total=   0.0s\n",
      "[CV] C=0.001, max_iter=200, penalty=l1, solver=lbfgs .................\n",
      "[CV]  C=0.001, max_iter=200, penalty=l1, solver=lbfgs, score=nan, total=   0.0s\n",
      "[CV] C=0.001, max_iter=200, penalty=l1, solver=lbfgs .................\n",
      "[CV]  C=0.001, max_iter=200, penalty=l1, solver=lbfgs, score=nan, total=   0.0s\n",
      "[CV] C=0.001, max_iter=200, penalty=l1, solver=lbfgs .................\n",
      "[CV]  C=0.001, max_iter=200, penalty=l1, solver=lbfgs, score=nan, total=   0.0s\n",
      "[CV] C=0.001, max_iter=200, penalty=l1, solver=lbfgs .................\n",
      "[CV]  C=0.001, max_iter=200, penalty=l1, solver=lbfgs, score=nan, total=   0.0s\n",
      "[CV] C=0.001, max_iter=200, penalty=l1, solver=liblinear .............\n",
      "[CV]  C=0.001, max_iter=200, penalty=l1, solver=liblinear, score=0.749, total=   0.0s\n",
      "[CV] C=0.001, max_iter=200, penalty=l1, solver=liblinear .............\n",
      "[CV]  C=0.001, max_iter=200, penalty=l1, solver=liblinear, score=0.749, total=   0.0s\n",
      "[CV] C=0.001, max_iter=200, penalty=l1, solver=liblinear .............\n",
      "[CV]  C=0.001, max_iter=200, penalty=l1, solver=liblinear, score=0.748, total=   0.0s\n",
      "[CV] C=0.001, max_iter=200, penalty=l1, solver=liblinear .............\n",
      "[CV]  C=0.001, max_iter=200, penalty=l1, solver=liblinear, score=0.749, total=   0.0s\n",
      "[CV] C=0.001, max_iter=200, penalty=l1, solver=liblinear .............\n",
      "[CV]  C=0.001, max_iter=200, penalty=l1, solver=liblinear, score=0.749, total=   0.0s\n",
      "[CV] C=0.001, max_iter=200, penalty=l1, solver=sag ...................\n",
      "[CV]  C=0.001, max_iter=200, penalty=l1, solver=sag, score=nan, total=   0.0s\n",
      "[CV] C=0.001, max_iter=200, penalty=l1, solver=sag ...................\n",
      "[CV]  C=0.001, max_iter=200, penalty=l1, solver=sag, score=nan, total=   0.0s\n",
      "[CV] C=0.001, max_iter=200, penalty=l1, solver=sag ...................\n",
      "[CV]  C=0.001, max_iter=200, penalty=l1, solver=sag, score=nan, total=   0.0s\n",
      "[CV] C=0.001, max_iter=200, penalty=l1, solver=sag ...................\n",
      "[CV]  C=0.001, max_iter=200, penalty=l1, solver=sag, score=nan, total=   0.0s\n",
      "[CV] C=0.001, max_iter=200, penalty=l1, solver=sag ...................\n",
      "[CV]  C=0.001, max_iter=200, penalty=l1, solver=sag, score=nan, total=   0.0s\n",
      "[CV] C=0.001, max_iter=200, penalty=l1, solver=saga ..................\n",
      "[CV]  C=0.001, max_iter=200, penalty=l1, solver=saga, score=0.749, total=   0.0s\n",
      "[CV] C=0.001, max_iter=200, penalty=l1, solver=saga ..................\n",
      "[CV]  C=0.001, max_iter=200, penalty=l1, solver=saga, score=0.749, total=   0.0s\n",
      "[CV] C=0.001, max_iter=200, penalty=l1, solver=saga ..................\n",
      "[CV]  C=0.001, max_iter=200, penalty=l1, solver=saga, score=0.748, total=   0.0s\n",
      "[CV] C=0.001, max_iter=200, penalty=l1, solver=saga ..................\n",
      "[CV]  C=0.001, max_iter=200, penalty=l1, solver=saga, score=0.749, total=   0.0s\n",
      "[CV] C=0.001, max_iter=200, penalty=l1, solver=saga ..................\n",
      "[CV]  C=0.001, max_iter=200, penalty=l1, solver=saga, score=0.749, total=   0.0s\n",
      "[CV] C=0.001, max_iter=200, penalty=l2, solver=newton-cg .............\n",
      "[CV]  C=0.001, max_iter=200, penalty=l2, solver=newton-cg, score=0.749, total=   0.0s\n",
      "[CV] C=0.001, max_iter=200, penalty=l2, solver=newton-cg .............\n",
      "[CV]  C=0.001, max_iter=200, penalty=l2, solver=newton-cg, score=0.749, total=   0.0s\n",
      "[CV] C=0.001, max_iter=200, penalty=l2, solver=newton-cg .............\n",
      "[CV]  C=0.001, max_iter=200, penalty=l2, solver=newton-cg, score=0.748, total=   0.0s\n",
      "[CV] C=0.001, max_iter=200, penalty=l2, solver=newton-cg .............\n",
      "[CV]  C=0.001, max_iter=200, penalty=l2, solver=newton-cg, score=0.749, total=   0.0s\n",
      "[CV] C=0.001, max_iter=200, penalty=l2, solver=newton-cg .............\n",
      "[CV]  C=0.001, max_iter=200, penalty=l2, solver=newton-cg, score=0.749, total=   0.0s\n",
      "[CV] C=0.001, max_iter=200, penalty=l2, solver=lbfgs .................\n",
      "[CV]  C=0.001, max_iter=200, penalty=l2, solver=lbfgs, score=0.749, total=   0.0s\n",
      "[CV] C=0.001, max_iter=200, penalty=l2, solver=lbfgs .................\n",
      "[CV]  C=0.001, max_iter=200, penalty=l2, solver=lbfgs, score=0.749, total=   0.0s\n",
      "[CV] C=0.001, max_iter=200, penalty=l2, solver=lbfgs .................\n",
      "[CV]  C=0.001, max_iter=200, penalty=l2, solver=lbfgs, score=0.748, total=   0.0s\n",
      "[CV] C=0.001, max_iter=200, penalty=l2, solver=lbfgs .................\n",
      "[CV]  C=0.001, max_iter=200, penalty=l2, solver=lbfgs, score=0.749, total=   0.0s\n",
      "[CV] C=0.001, max_iter=200, penalty=l2, solver=lbfgs .................\n",
      "[CV]  C=0.001, max_iter=200, penalty=l2, solver=lbfgs, score=0.749, total=   0.0s\n",
      "[CV] C=0.001, max_iter=200, penalty=l2, solver=liblinear .............\n",
      "[CV]  C=0.001, max_iter=200, penalty=l2, solver=liblinear, score=0.749, total=   0.0s\n",
      "[CV] C=0.001, max_iter=200, penalty=l2, solver=liblinear .............\n",
      "[CV]  C=0.001, max_iter=200, penalty=l2, solver=liblinear, score=0.749, total=   0.0s\n",
      "[CV] C=0.001, max_iter=200, penalty=l2, solver=liblinear .............\n",
      "[CV]  C=0.001, max_iter=200, penalty=l2, solver=liblinear, score=0.748, total=   0.0s\n",
      "[CV] C=0.001, max_iter=200, penalty=l2, solver=liblinear .............\n",
      "[CV]  C=0.001, max_iter=200, penalty=l2, solver=liblinear, score=0.749, total=   0.0s"
     ]
    },
    {
     "name": "stderr",
     "output_type": "stream",
     "text": [
      "C:\\Users\\hanie\\anaconda3\\lib\\site-packages\\sklearn\\model_selection\\_validation.py:548: FitFailedWarning: Estimator fit failed. The score on this train-test partition for these parameters will be set to nan. Details: \n",
      "Traceback (most recent call last):\n",
      "  File \"C:\\Users\\hanie\\anaconda3\\lib\\site-packages\\sklearn\\model_selection\\_validation.py\", line 531, in _fit_and_score\n",
      "    estimator.fit(X_train, y_train, **fit_params)\n",
      "  File \"C:\\Users\\hanie\\anaconda3\\lib\\site-packages\\sklearn\\linear_model\\_logistic.py\", line 1304, in fit\n",
      "    solver = _check_solver(self.solver, self.penalty, self.dual)\n",
      "  File \"C:\\Users\\hanie\\anaconda3\\lib\\site-packages\\sklearn\\linear_model\\_logistic.py\", line 442, in _check_solver\n",
      "    raise ValueError(\"Solver %s supports only 'l2' or 'none' penalties, \"\n",
      "ValueError: Solver newton-cg supports only 'l2' or 'none' penalties, got l1 penalty.\n",
      "\n",
      "  warnings.warn(\"Estimator fit failed. The score on this train-test\"\n",
      "C:\\Users\\hanie\\anaconda3\\lib\\site-packages\\sklearn\\model_selection\\_validation.py:548: FitFailedWarning: Estimator fit failed. The score on this train-test partition for these parameters will be set to nan. Details: \n",
      "Traceback (most recent call last):\n",
      "  File \"C:\\Users\\hanie\\anaconda3\\lib\\site-packages\\sklearn\\model_selection\\_validation.py\", line 531, in _fit_and_score\n",
      "    estimator.fit(X_train, y_train, **fit_params)\n",
      "  File \"C:\\Users\\hanie\\anaconda3\\lib\\site-packages\\sklearn\\linear_model\\_logistic.py\", line 1304, in fit\n",
      "    solver = _check_solver(self.solver, self.penalty, self.dual)\n",
      "  File \"C:\\Users\\hanie\\anaconda3\\lib\\site-packages\\sklearn\\linear_model\\_logistic.py\", line 442, in _check_solver\n",
      "    raise ValueError(\"Solver %s supports only 'l2' or 'none' penalties, \"\n",
      "ValueError: Solver lbfgs supports only 'l2' or 'none' penalties, got l1 penalty.\n",
      "\n",
      "  warnings.warn(\"Estimator fit failed. The score on this train-test\"\n",
      "C:\\Users\\hanie\\anaconda3\\lib\\site-packages\\sklearn\\model_selection\\_validation.py:548: FitFailedWarning: Estimator fit failed. The score on this train-test partition for these parameters will be set to nan. Details: \n",
      "Traceback (most recent call last):\n",
      "  File \"C:\\Users\\hanie\\anaconda3\\lib\\site-packages\\sklearn\\model_selection\\_validation.py\", line 531, in _fit_and_score\n",
      "    estimator.fit(X_train, y_train, **fit_params)\n",
      "  File \"C:\\Users\\hanie\\anaconda3\\lib\\site-packages\\sklearn\\linear_model\\_logistic.py\", line 1304, in fit\n",
      "    solver = _check_solver(self.solver, self.penalty, self.dual)\n",
      "  File \"C:\\Users\\hanie\\anaconda3\\lib\\site-packages\\sklearn\\linear_model\\_logistic.py\", line 442, in _check_solver\n",
      "    raise ValueError(\"Solver %s supports only 'l2' or 'none' penalties, \"\n",
      "ValueError: Solver sag supports only 'l2' or 'none' penalties, got l1 penalty.\n",
      "\n",
      "  warnings.warn(\"Estimator fit failed. The score on this train-test\"\n"
     ]
    },
    {
     "name": "stdout",
     "output_type": "stream",
     "text": [
      "\n",
      "[CV] C=0.001, max_iter=200, penalty=l2, solver=liblinear .............\n",
      "[CV]  C=0.001, max_iter=200, penalty=l2, solver=liblinear, score=0.749, total=   0.0s\n",
      "[CV] C=0.001, max_iter=200, penalty=l2, solver=sag ...................\n",
      "[CV]  C=0.001, max_iter=200, penalty=l2, solver=sag, score=0.749, total=   0.0s\n",
      "[CV] C=0.001, max_iter=200, penalty=l2, solver=sag ...................\n",
      "[CV]  C=0.001, max_iter=200, penalty=l2, solver=sag, score=0.749, total=   0.0s\n",
      "[CV] C=0.001, max_iter=200, penalty=l2, solver=sag ...................\n",
      "[CV]  C=0.001, max_iter=200, penalty=l2, solver=sag, score=0.748, total=   0.0s\n",
      "[CV] C=0.001, max_iter=200, penalty=l2, solver=sag ...................\n",
      "[CV]  C=0.001, max_iter=200, penalty=l2, solver=sag, score=0.749, total=   0.0s\n",
      "[CV] C=0.001, max_iter=200, penalty=l2, solver=sag ...................\n",
      "[CV]  C=0.001, max_iter=200, penalty=l2, solver=sag, score=0.749, total=   0.0s\n",
      "[CV] C=0.001, max_iter=200, penalty=l2, solver=saga ..................\n",
      "[CV]  C=0.001, max_iter=200, penalty=l2, solver=saga, score=0.749, total=   0.0s\n",
      "[CV] C=0.001, max_iter=200, penalty=l2, solver=saga ..................\n",
      "[CV]  C=0.001, max_iter=200, penalty=l2, solver=saga, score=0.749, total=   0.0s\n",
      "[CV] C=0.001, max_iter=200, penalty=l2, solver=saga ..................\n",
      "[CV]  C=0.001, max_iter=200, penalty=l2, solver=saga, score=0.748, total=   0.0s\n",
      "[CV] C=0.001, max_iter=200, penalty=l2, solver=saga ..................\n",
      "[CV]  C=0.001, max_iter=200, penalty=l2, solver=saga, score=0.749, total=   0.0s\n",
      "[CV] C=0.001, max_iter=200, penalty=l2, solver=saga ..................\n",
      "[CV]  C=0.001, max_iter=200, penalty=l2, solver=saga, score=0.749, total=   0.0s\n",
      "[CV] C=0.001, max_iter=300, penalty=l1, solver=newton-cg .............\n",
      "[CV]  C=0.001, max_iter=300, penalty=l1, solver=newton-cg, score=nan, total=   0.0s\n",
      "[CV] C=0.001, max_iter=300, penalty=l1, solver=newton-cg .............\n",
      "[CV]  C=0.001, max_iter=300, penalty=l1, solver=newton-cg, score=nan, total=   0.0s\n",
      "[CV] C=0.001, max_iter=300, penalty=l1, solver=newton-cg .............\n",
      "[CV]  C=0.001, max_iter=300, penalty=l1, solver=newton-cg, score=nan, total=   0.0s\n",
      "[CV] C=0.001, max_iter=300, penalty=l1, solver=newton-cg .............\n",
      "[CV]  C=0.001, max_iter=300, penalty=l1, solver=newton-cg, score=nan, total=   0.0s\n",
      "[CV] C=0.001, max_iter=300, penalty=l1, solver=newton-cg .............\n",
      "[CV]  C=0.001, max_iter=300, penalty=l1, solver=newton-cg, score=nan, total=   0.0s\n",
      "[CV] C=0.001, max_iter=300, penalty=l1, solver=lbfgs .................\n",
      "[CV]  C=0.001, max_iter=300, penalty=l1, solver=lbfgs, score=nan, total=   0.0s\n",
      "[CV] C=0.001, max_iter=300, penalty=l1, solver=lbfgs .................\n",
      "[CV]  C=0.001, max_iter=300, penalty=l1, solver=lbfgs, score=nan, total=   0.0s\n",
      "[CV] C=0.001, max_iter=300, penalty=l1, solver=lbfgs .................\n",
      "[CV]  C=0.001, max_iter=300, penalty=l1, solver=lbfgs, score=nan, total=   0.0s\n",
      "[CV] C=0.001, max_iter=300, penalty=l1, solver=lbfgs .................\n",
      "[CV]  C=0.001, max_iter=300, penalty=l1, solver=lbfgs, score=nan, total=   0.0s\n",
      "[CV] C=0.001, max_iter=300, penalty=l1, solver=lbfgs .................\n",
      "[CV]  C=0.001, max_iter=300, penalty=l1, solver=lbfgs, score=nan, total=   0.0s\n",
      "[CV] C=0.001, max_iter=300, penalty=l1, solver=liblinear .............\n",
      "[CV]  C=0.001, max_iter=300, penalty=l1, solver=liblinear, score=0.749, total=   0.0s\n",
      "[CV] C=0.001, max_iter=300, penalty=l1, solver=liblinear .............\n",
      "[CV]  C=0.001, max_iter=300, penalty=l1, solver=liblinear, score=0.749, total=   0.0s"
     ]
    },
    {
     "name": "stderr",
     "output_type": "stream",
     "text": [
      "C:\\Users\\hanie\\anaconda3\\lib\\site-packages\\sklearn\\model_selection\\_validation.py:548: FitFailedWarning: Estimator fit failed. The score on this train-test partition for these parameters will be set to nan. Details: \n",
      "Traceback (most recent call last):\n",
      "  File \"C:\\Users\\hanie\\anaconda3\\lib\\site-packages\\sklearn\\model_selection\\_validation.py\", line 531, in _fit_and_score\n",
      "    estimator.fit(X_train, y_train, **fit_params)\n",
      "  File \"C:\\Users\\hanie\\anaconda3\\lib\\site-packages\\sklearn\\linear_model\\_logistic.py\", line 1304, in fit\n",
      "    solver = _check_solver(self.solver, self.penalty, self.dual)\n",
      "  File \"C:\\Users\\hanie\\anaconda3\\lib\\site-packages\\sklearn\\linear_model\\_logistic.py\", line 442, in _check_solver\n",
      "    raise ValueError(\"Solver %s supports only 'l2' or 'none' penalties, \"\n",
      "ValueError: Solver newton-cg supports only 'l2' or 'none' penalties, got l1 penalty.\n",
      "\n",
      "  warnings.warn(\"Estimator fit failed. The score on this train-test\"\n",
      "C:\\Users\\hanie\\anaconda3\\lib\\site-packages\\sklearn\\model_selection\\_validation.py:548: FitFailedWarning: Estimator fit failed. The score on this train-test partition for these parameters will be set to nan. Details: \n",
      "Traceback (most recent call last):\n",
      "  File \"C:\\Users\\hanie\\anaconda3\\lib\\site-packages\\sklearn\\model_selection\\_validation.py\", line 531, in _fit_and_score\n",
      "    estimator.fit(X_train, y_train, **fit_params)\n",
      "  File \"C:\\Users\\hanie\\anaconda3\\lib\\site-packages\\sklearn\\linear_model\\_logistic.py\", line 1304, in fit\n",
      "    solver = _check_solver(self.solver, self.penalty, self.dual)\n",
      "  File \"C:\\Users\\hanie\\anaconda3\\lib\\site-packages\\sklearn\\linear_model\\_logistic.py\", line 442, in _check_solver\n",
      "    raise ValueError(\"Solver %s supports only 'l2' or 'none' penalties, \"\n",
      "ValueError: Solver lbfgs supports only 'l2' or 'none' penalties, got l1 penalty.\n",
      "\n",
      "  warnings.warn(\"Estimator fit failed. The score on this train-test\"\n",
      "C:\\Users\\hanie\\anaconda3\\lib\\site-packages\\sklearn\\model_selection\\_validation.py:548: FitFailedWarning: Estimator fit failed. The score on this train-test partition for these parameters will be set to nan. Details: \n",
      "Traceback (most recent call last):\n",
      "  File \"C:\\Users\\hanie\\anaconda3\\lib\\site-packages\\sklearn\\model_selection\\_validation.py\", line 531, in _fit_and_score\n",
      "    estimator.fit(X_train, y_train, **fit_params)\n",
      "  File \"C:\\Users\\hanie\\anaconda3\\lib\\site-packages\\sklearn\\linear_model\\_logistic.py\", line 1304, in fit\n",
      "    solver = _check_solver(self.solver, self.penalty, self.dual)\n",
      "  File \"C:\\Users\\hanie\\anaconda3\\lib\\site-packages\\sklearn\\linear_model\\_logistic.py\", line 442, in _check_solver\n",
      "    raise ValueError(\"Solver %s supports only 'l2' or 'none' penalties, \"\n",
      "ValueError: Solver sag supports only 'l2' or 'none' penalties, got l1 penalty.\n",
      "\n",
      "  warnings.warn(\"Estimator fit failed. The score on this train-test\"\n"
     ]
    },
    {
     "name": "stdout",
     "output_type": "stream",
     "text": [
      "\n",
      "[CV] C=0.001, max_iter=300, penalty=l1, solver=liblinear .............\n",
      "[CV]  C=0.001, max_iter=300, penalty=l1, solver=liblinear, score=0.748, total=   0.0s\n",
      "[CV] C=0.001, max_iter=300, penalty=l1, solver=liblinear .............\n",
      "[CV]  C=0.001, max_iter=300, penalty=l1, solver=liblinear, score=0.749, total=   0.0s\n",
      "[CV] C=0.001, max_iter=300, penalty=l1, solver=liblinear .............\n",
      "[CV]  C=0.001, max_iter=300, penalty=l1, solver=liblinear, score=0.749, total=   0.0s\n",
      "[CV] C=0.001, max_iter=300, penalty=l1, solver=sag ...................\n",
      "[CV]  C=0.001, max_iter=300, penalty=l1, solver=sag, score=nan, total=   0.0s\n",
      "[CV] C=0.001, max_iter=300, penalty=l1, solver=sag ...................\n",
      "[CV]  C=0.001, max_iter=300, penalty=l1, solver=sag, score=nan, total=   0.0s\n",
      "[CV] C=0.001, max_iter=300, penalty=l1, solver=sag ...................\n",
      "[CV]  C=0.001, max_iter=300, penalty=l1, solver=sag, score=nan, total=   0.0s\n",
      "[CV] C=0.001, max_iter=300, penalty=l1, solver=sag ...................\n",
      "[CV]  C=0.001, max_iter=300, penalty=l1, solver=sag, score=nan, total=   0.0s\n",
      "[CV] C=0.001, max_iter=300, penalty=l1, solver=sag ...................\n",
      "[CV]  C=0.001, max_iter=300, penalty=l1, solver=sag, score=nan, total=   0.0s\n",
      "[CV] C=0.001, max_iter=300, penalty=l1, solver=saga ..................\n",
      "[CV]  C=0.001, max_iter=300, penalty=l1, solver=saga, score=0.749, total=   0.0s\n",
      "[CV] C=0.001, max_iter=300, penalty=l1, solver=saga ..................\n",
      "[CV]  C=0.001, max_iter=300, penalty=l1, solver=saga, score=0.749, total=   0.0s\n",
      "[CV] C=0.001, max_iter=300, penalty=l1, solver=saga ..................\n",
      "[CV]  C=0.001, max_iter=300, penalty=l1, solver=saga, score=0.748, total=   0.0s\n",
      "[CV] C=0.001, max_iter=300, penalty=l1, solver=saga ..................\n",
      "[CV]  C=0.001, max_iter=300, penalty=l1, solver=saga, score=0.749, total=   0.0s\n",
      "[CV] C=0.001, max_iter=300, penalty=l1, solver=saga ..................\n",
      "[CV]  C=0.001, max_iter=300, penalty=l1, solver=saga, score=0.749, total=   0.0s\n",
      "[CV] C=0.001, max_iter=300, penalty=l2, solver=newton-cg .............\n",
      "[CV]  C=0.001, max_iter=300, penalty=l2, solver=newton-cg, score=0.749, total=   0.0s\n",
      "[CV] C=0.001, max_iter=300, penalty=l2, solver=newton-cg .............\n",
      "[CV]  C=0.001, max_iter=300, penalty=l2, solver=newton-cg, score=0.749, total=   0.0s\n",
      "[CV] C=0.001, max_iter=300, penalty=l2, solver=newton-cg .............\n",
      "[CV]  C=0.001, max_iter=300, penalty=l2, solver=newton-cg, score=0.748, total=   0.0s\n",
      "[CV] C=0.001, max_iter=300, penalty=l2, solver=newton-cg .............\n",
      "[CV]  C=0.001, max_iter=300, penalty=l2, solver=newton-cg, score=0.749, total=   0.0s\n",
      "[CV] C=0.001, max_iter=300, penalty=l2, solver=newton-cg .............\n",
      "[CV]  C=0.001, max_iter=300, penalty=l2, solver=newton-cg, score=0.749, total=   0.0s\n",
      "[CV] C=0.001, max_iter=300, penalty=l2, solver=lbfgs .................\n",
      "[CV]  C=0.001, max_iter=300, penalty=l2, solver=lbfgs, score=0.749, total=   0.0s\n",
      "[CV] C=0.001, max_iter=300, penalty=l2, solver=lbfgs .................\n",
      "[CV]  C=0.001, max_iter=300, penalty=l2, solver=lbfgs, score=0.749, total=   0.0s\n",
      "[CV] C=0.001, max_iter=300, penalty=l2, solver=lbfgs .................\n",
      "[CV]  C=0.001, max_iter=300, penalty=l2, solver=lbfgs, score=0.748, total=   0.0s\n",
      "[CV] C=0.001, max_iter=300, penalty=l2, solver=lbfgs .................\n",
      "[CV]  C=0.001, max_iter=300, penalty=l2, solver=lbfgs, score=0.749, total=   0.0s\n",
      "[CV] C=0.001, max_iter=300, penalty=l2, solver=lbfgs .................\n",
      "[CV]  C=0.001, max_iter=300, penalty=l2, solver=lbfgs, score=0.749, total=   0.0s\n",
      "[CV] C=0.001, max_iter=300, penalty=l2, solver=liblinear .............\n",
      "[CV]  C=0.001, max_iter=300, penalty=l2, solver=liblinear, score=0.749, total=   0.0s\n",
      "[CV] C=0.001, max_iter=300, penalty=l2, solver=liblinear .............\n",
      "[CV]  C=0.001, max_iter=300, penalty=l2, solver=liblinear, score=0.749, total=   0.0s\n",
      "[CV] C=0.001, max_iter=300, penalty=l2, solver=liblinear .............\n",
      "[CV]  C=0.001, max_iter=300, penalty=l2, solver=liblinear, score=0.748, total=   0.0s\n",
      "[CV] C=0.001, max_iter=300, penalty=l2, solver=liblinear .............\n",
      "[CV]  C=0.001, max_iter=300, penalty=l2, solver=liblinear, score=0.749, total=   0.0s\n",
      "[CV] C=0.001, max_iter=300, penalty=l2, solver=liblinear .............\n",
      "[CV]  C=0.001, max_iter=300, penalty=l2, solver=liblinear, score=0.749, total=   0.0s\n",
      "[CV] C=0.001, max_iter=300, penalty=l2, solver=sag ...................\n",
      "[CV]  C=0.001, max_iter=300, penalty=l2, solver=sag, score=0.749, total=   0.0s\n",
      "[CV] C=0.001, max_iter=300, penalty=l2, solver=sag ...................\n",
      "[CV]  C=0.001, max_iter=300, penalty=l2, solver=sag, score=0.749, total=   0.0s\n",
      "[CV] C=0.001, max_iter=300, penalty=l2, solver=sag ...................\n",
      "[CV]  C=0.001, max_iter=300, penalty=l2, solver=sag, score=0.748, total=   0.0s\n",
      "[CV] C=0.001, max_iter=300, penalty=l2, solver=sag ...................\n",
      "[CV]  C=0.001, max_iter=300, penalty=l2, solver=sag, score=0.749, total=   0.0s\n",
      "[CV] C=0.001, max_iter=300, penalty=l2, solver=sag ...................\n",
      "[CV]  C=0.001, max_iter=300, penalty=l2, solver=sag, score=0.749, total=   0.0s\n",
      "[CV] C=0.001, max_iter=300, penalty=l2, solver=saga ..................\n",
      "[CV]  C=0.001, max_iter=300, penalty=l2, solver=saga, score=0.749, total=   0.0s\n",
      "[CV] C=0.001, max_iter=300, penalty=l2, solver=saga ..................\n",
      "[CV]  C=0.001, max_iter=300, penalty=l2, solver=saga, score=0.749, total=   0.0s\n",
      "[CV] C=0.001, max_iter=300, penalty=l2, solver=saga ..................\n",
      "[CV]  C=0.001, max_iter=300, penalty=l2, solver=saga, score=0.748, total=   0.0s\n",
      "[CV] C=0.001, max_iter=300, penalty=l2, solver=saga ..................\n",
      "[CV]  C=0.001, max_iter=300, penalty=l2, solver=saga, score=0.749, total=   0.0s\n",
      "[CV] C=0.001, max_iter=300, penalty=l2, solver=saga ..................\n",
      "[CV]  C=0.001, max_iter=300, penalty=l2, solver=saga, score=0.749, total=   0.0s\n",
      "[CV] C=0.001, max_iter=400, penalty=l1, solver=newton-cg .............\n",
      "[CV]  C=0.001, max_iter=400, penalty=l1, solver=newton-cg, score=nan, total=   0.0s\n",
      "[CV] C=0.001, max_iter=400, penalty=l1, solver=newton-cg .............\n",
      "[CV]  C=0.001, max_iter=400, penalty=l1, solver=newton-cg, score=nan, total=   0.0s\n",
      "[CV] C=0.001, max_iter=400, penalty=l1, solver=newton-cg .............\n",
      "[CV]  C=0.001, max_iter=400, penalty=l1, solver=newton-cg, score=nan, total=   0.0s\n",
      "[CV] C=0.001, max_iter=400, penalty=l1, solver=newton-cg .............\n",
      "[CV]  C=0.001, max_iter=400, penalty=l1, solver=newton-cg, score=nan, total=   0.0s\n",
      "[CV] C=0.001, max_iter=400, penalty=l1, solver=newton-cg .............\n",
      "[CV]  C=0.001, max_iter=400, penalty=l1, solver=newton-cg, score=nan, total=   0.0s\n",
      "[CV] C=0.001, max_iter=400, penalty=l1, solver=lbfgs .................\n",
      "[CV]  C=0.001, max_iter=400, penalty=l1, solver=lbfgs, score=nan, total=   0.0s\n",
      "[CV] C=0.001, max_iter=400, penalty=l1, solver=lbfgs .................\n",
      "[CV]  C=0.001, max_iter=400, penalty=l1, solver=lbfgs, score=nan, total=   0.0s\n",
      "[CV] C=0.001, max_iter=400, penalty=l1, solver=lbfgs .................\n",
      "[CV]  C=0.001, max_iter=400, penalty=l1, solver=lbfgs, score=nan, total=   0.0s\n",
      "[CV] C=0.001, max_iter=400, penalty=l1, solver=lbfgs .................\n",
      "[CV]  C=0.001, max_iter=400, penalty=l1, solver=lbfgs, score=nan, total=   0.0s\n",
      "[CV] C=0.001, max_iter=400, penalty=l1, solver=lbfgs .................\n",
      "[CV]  C=0.001, max_iter=400, penalty=l1, solver=lbfgs, score=nan, total=   0.0s\n",
      "[CV] C=0.001, max_iter=400, penalty=l1, solver=liblinear .............\n",
      "[CV]  C=0.001, max_iter=400, penalty=l1, solver=liblinear, score=0.749, total=   0.0s\n",
      "[CV] C=0.001, max_iter=400, penalty=l1, solver=liblinear .............\n",
      "[CV]  C=0.001, max_iter=400, penalty=l1, solver=liblinear, score=0.749, total=   0.0s\n",
      "[CV] C=0.001, max_iter=400, penalty=l1, solver=liblinear .............\n",
      "[CV]  C=0.001, max_iter=400, penalty=l1, solver=liblinear, score=0.748, total=   0.0s\n",
      "[CV] C=0.001, max_iter=400, penalty=l1, solver=liblinear .............\n",
      "[CV]  C=0.001, max_iter=400, penalty=l1, solver=liblinear, score=0.749, total=   0.0s\n",
      "[CV] C=0.001, max_iter=400, penalty=l1, solver=liblinear .............\n",
      "[CV]  C=0.001, max_iter=400, penalty=l1, solver=liblinear, score=0.749, total=   0.0s\n",
      "[CV] C=0.001, max_iter=400, penalty=l1, solver=sag ...................\n",
      "[CV]  C=0.001, max_iter=400, penalty=l1, solver=sag, score=nan, total=   0.0s\n",
      "[CV] C=0.001, max_iter=400, penalty=l1, solver=sag ...................\n",
      "[CV]  C=0.001, max_iter=400, penalty=l1, solver=sag, score=nan, total=   0.0s\n",
      "[CV] C=0.001, max_iter=400, penalty=l1, solver=sag ...................\n",
      "[CV]  C=0.001, max_iter=400, penalty=l1, solver=sag, score=nan, total=   0.0s\n",
      "[CV] C=0.001, max_iter=400, penalty=l1, solver=sag ...................\n",
      "[CV]  C=0.001, max_iter=400, penalty=l1, solver=sag, score=nan, total=   0.0s\n",
      "[CV] C=0.001, max_iter=400, penalty=l1, solver=sag ...................\n",
      "[CV]  C=0.001, max_iter=400, penalty=l1, solver=sag, score=nan, total=   0.0s\n",
      "[CV] C=0.001, max_iter=400, penalty=l1, solver=saga ..................\n",
      "[CV]  C=0.001, max_iter=400, penalty=l1, solver=saga, score=0.749, total=   0.0s\n",
      "[CV] C=0.001, max_iter=400, penalty=l1, solver=saga ..................\n",
      "[CV]  C=0.001, max_iter=400, penalty=l1, solver=saga, score=0.749, total=   0.0s\n",
      "[CV] C=0.001, max_iter=400, penalty=l1, solver=saga ..................\n",
      "[CV]  C=0.001, max_iter=400, penalty=l1, solver=saga, score=0.748, total=   0.0s\n",
      "[CV] C=0.001, max_iter=400, penalty=l1, solver=saga ..................\n",
      "[CV]  C=0.001, max_iter=400, penalty=l1, solver=saga, score=0.749, total=   0.0s\n",
      "[CV] C=0.001, max_iter=400, penalty=l1, solver=saga ..................\n",
      "[CV]  C=0.001, max_iter=400, penalty=l1, solver=saga, score=0.749, total=   0.0s\n",
      "[CV] C=0.001, max_iter=400, penalty=l2, solver=newton-cg .............\n",
      "[CV]  C=0.001, max_iter=400, penalty=l2, solver=newton-cg, score=0.749, total=   0.0s\n",
      "[CV] C=0.001, max_iter=400, penalty=l2, solver=newton-cg .............\n",
      "[CV]  C=0.001, max_iter=400, penalty=l2, solver=newton-cg, score=0.749, total=   0.0s\n",
      "[CV] C=0.001, max_iter=400, penalty=l2, solver=newton-cg .............\n",
      "[CV]  C=0.001, max_iter=400, penalty=l2, solver=newton-cg, score=0.748, total=   0.0s\n",
      "[CV] C=0.001, max_iter=400, penalty=l2, solver=newton-cg .............\n"
     ]
    },
    {
     "name": "stderr",
     "output_type": "stream",
     "text": [
      "C:\\Users\\hanie\\anaconda3\\lib\\site-packages\\sklearn\\model_selection\\_validation.py:548: FitFailedWarning: Estimator fit failed. The score on this train-test partition for these parameters will be set to nan. Details: \n",
      "Traceback (most recent call last):\n",
      "  File \"C:\\Users\\hanie\\anaconda3\\lib\\site-packages\\sklearn\\model_selection\\_validation.py\", line 531, in _fit_and_score\n",
      "    estimator.fit(X_train, y_train, **fit_params)\n",
      "  File \"C:\\Users\\hanie\\anaconda3\\lib\\site-packages\\sklearn\\linear_model\\_logistic.py\", line 1304, in fit\n",
      "    solver = _check_solver(self.solver, self.penalty, self.dual)\n",
      "  File \"C:\\Users\\hanie\\anaconda3\\lib\\site-packages\\sklearn\\linear_model\\_logistic.py\", line 442, in _check_solver\n",
      "    raise ValueError(\"Solver %s supports only 'l2' or 'none' penalties, \"\n",
      "ValueError: Solver newton-cg supports only 'l2' or 'none' penalties, got l1 penalty.\n",
      "\n",
      "  warnings.warn(\"Estimator fit failed. The score on this train-test\"\n",
      "C:\\Users\\hanie\\anaconda3\\lib\\site-packages\\sklearn\\model_selection\\_validation.py:548: FitFailedWarning: Estimator fit failed. The score on this train-test partition for these parameters will be set to nan. Details: \n",
      "Traceback (most recent call last):\n",
      "  File \"C:\\Users\\hanie\\anaconda3\\lib\\site-packages\\sklearn\\model_selection\\_validation.py\", line 531, in _fit_and_score\n",
      "    estimator.fit(X_train, y_train, **fit_params)\n",
      "  File \"C:\\Users\\hanie\\anaconda3\\lib\\site-packages\\sklearn\\linear_model\\_logistic.py\", line 1304, in fit\n",
      "    solver = _check_solver(self.solver, self.penalty, self.dual)\n",
      "  File \"C:\\Users\\hanie\\anaconda3\\lib\\site-packages\\sklearn\\linear_model\\_logistic.py\", line 442, in _check_solver\n",
      "    raise ValueError(\"Solver %s supports only 'l2' or 'none' penalties, \"\n",
      "ValueError: Solver lbfgs supports only 'l2' or 'none' penalties, got l1 penalty.\n",
      "\n",
      "  warnings.warn(\"Estimator fit failed. The score on this train-test\"\n",
      "C:\\Users\\hanie\\anaconda3\\lib\\site-packages\\sklearn\\model_selection\\_validation.py:548: FitFailedWarning: Estimator fit failed. The score on this train-test partition for these parameters will be set to nan. Details: \n",
      "Traceback (most recent call last):\n",
      "  File \"C:\\Users\\hanie\\anaconda3\\lib\\site-packages\\sklearn\\model_selection\\_validation.py\", line 531, in _fit_and_score\n",
      "    estimator.fit(X_train, y_train, **fit_params)\n",
      "  File \"C:\\Users\\hanie\\anaconda3\\lib\\site-packages\\sklearn\\linear_model\\_logistic.py\", line 1304, in fit\n",
      "    solver = _check_solver(self.solver, self.penalty, self.dual)\n",
      "  File \"C:\\Users\\hanie\\anaconda3\\lib\\site-packages\\sklearn\\linear_model\\_logistic.py\", line 442, in _check_solver\n",
      "    raise ValueError(\"Solver %s supports only 'l2' or 'none' penalties, \"\n",
      "ValueError: Solver sag supports only 'l2' or 'none' penalties, got l1 penalty.\n",
      "\n",
      "  warnings.warn(\"Estimator fit failed. The score on this train-test\"\n"
     ]
    },
    {
     "name": "stdout",
     "output_type": "stream",
     "text": [
      "[CV]  C=0.001, max_iter=400, penalty=l2, solver=newton-cg, score=0.749, total=   0.0s\n",
      "[CV] C=0.001, max_iter=400, penalty=l2, solver=newton-cg .............\n",
      "[CV]  C=0.001, max_iter=400, penalty=l2, solver=newton-cg, score=0.749, total=   0.0s\n",
      "[CV] C=0.001, max_iter=400, penalty=l2, solver=lbfgs .................\n",
      "[CV]  C=0.001, max_iter=400, penalty=l2, solver=lbfgs, score=0.749, total=   0.0s\n",
      "[CV] C=0.001, max_iter=400, penalty=l2, solver=lbfgs .................\n",
      "[CV]  C=0.001, max_iter=400, penalty=l2, solver=lbfgs, score=0.749, total=   0.0s\n",
      "[CV] C=0.001, max_iter=400, penalty=l2, solver=lbfgs .................\n",
      "[CV]  C=0.001, max_iter=400, penalty=l2, solver=lbfgs, score=0.748, total=   0.0s\n",
      "[CV] C=0.001, max_iter=400, penalty=l2, solver=lbfgs .................\n",
      "[CV]  C=0.001, max_iter=400, penalty=l2, solver=lbfgs, score=0.749, total=   0.0s\n",
      "[CV] C=0.001, max_iter=400, penalty=l2, solver=lbfgs .................\n",
      "[CV]  C=0.001, max_iter=400, penalty=l2, solver=lbfgs, score=0.749, total=   0.0s\n",
      "[CV] C=0.001, max_iter=400, penalty=l2, solver=liblinear .............\n",
      "[CV]  C=0.001, max_iter=400, penalty=l2, solver=liblinear, score=0.749, total=   0.0s\n",
      "[CV] C=0.001, max_iter=400, penalty=l2, solver=liblinear .............\n",
      "[CV]  C=0.001, max_iter=400, penalty=l2, solver=liblinear, score=0.749, total=   0.0s\n",
      "[CV] C=0.001, max_iter=400, penalty=l2, solver=liblinear .............\n",
      "[CV]  C=0.001, max_iter=400, penalty=l2, solver=liblinear, score=0.748, total=   0.0s\n",
      "[CV] C=0.001, max_iter=400, penalty=l2, solver=liblinear .............\n",
      "[CV]  C=0.001, max_iter=400, penalty=l2, solver=liblinear, score=0.749, total=   0.0s\n",
      "[CV] C=0.001, max_iter=400, penalty=l2, solver=liblinear .............\n",
      "[CV]  C=0.001, max_iter=400, penalty=l2, solver=liblinear, score=0.749, total=   0.0s\n",
      "[CV] C=0.001, max_iter=400, penalty=l2, solver=sag ...................\n",
      "[CV]  C=0.001, max_iter=400, penalty=l2, solver=sag, score=0.749, total=   0.0s\n",
      "[CV] C=0.001, max_iter=400, penalty=l2, solver=sag ...................\n",
      "[CV]  C=0.001, max_iter=400, penalty=l2, solver=sag, score=0.749, total=   0.0s\n",
      "[CV] C=0.001, max_iter=400, penalty=l2, solver=sag ...................\n",
      "[CV]  C=0.001, max_iter=400, penalty=l2, solver=sag, score=0.748, total=   0.0s\n",
      "[CV] C=0.001, max_iter=400, penalty=l2, solver=sag ...................\n",
      "[CV]  C=0.001, max_iter=400, penalty=l2, solver=sag, score=0.749, total=   0.0s\n",
      "[CV] C=0.001, max_iter=400, penalty=l2, solver=sag ...................\n",
      "[CV]  C=0.001, max_iter=400, penalty=l2, solver=sag, score=0.749, total=   0.0s\n",
      "[CV] C=0.001, max_iter=400, penalty=l2, solver=saga ..................\n",
      "[CV]  C=0.001, max_iter=400, penalty=l2, solver=saga, score=0.749, total=   0.0s\n",
      "[CV] C=0.001, max_iter=400, penalty=l2, solver=saga ..................\n",
      "[CV]  C=0.001, max_iter=400, penalty=l2, solver=saga, score=0.749, total=   0.0s\n",
      "[CV] C=0.001, max_iter=400, penalty=l2, solver=saga ..................\n",
      "[CV]  C=0.001, max_iter=400, penalty=l2, solver=saga, score=0.748, total=   0.0s\n",
      "[CV] C=0.001, max_iter=400, penalty=l2, solver=saga ..................\n",
      "[CV]  C=0.001, max_iter=400, penalty=l2, solver=saga, score=0.749, total=   0.0s\n",
      "[CV] C=0.001, max_iter=400, penalty=l2, solver=saga ..................\n",
      "[CV]  C=0.001, max_iter=400, penalty=l2, solver=saga, score=0.749, total=   0.0s\n",
      "[CV] C=0.001, max_iter=500, penalty=l1, solver=newton-cg .............\n",
      "[CV]  C=0.001, max_iter=500, penalty=l1, solver=newton-cg, score=nan, total=   0.0s\n",
      "[CV] C=0.001, max_iter=500, penalty=l1, solver=newton-cg .............\n",
      "[CV]  C=0.001, max_iter=500, penalty=l1, solver=newton-cg, score=nan, total=   0.0s\n",
      "[CV] C=0.001, max_iter=500, penalty=l1, solver=newton-cg .............\n",
      "[CV]  C=0.001, max_iter=500, penalty=l1, solver=newton-cg, score=nan, total=   0.0s\n",
      "[CV] C=0.001, max_iter=500, penalty=l1, solver=newton-cg .............\n",
      "[CV]  C=0.001, max_iter=500, penalty=l1, solver=newton-cg, score=nan, total=   0.0s\n",
      "[CV] C=0.001, max_iter=500, penalty=l1, solver=newton-cg .............\n",
      "[CV]  C=0.001, max_iter=500, penalty=l1, solver=newton-cg, score=nan, total=   0.0s\n",
      "[CV] C=0.001, max_iter=500, penalty=l1, solver=lbfgs .................\n",
      "[CV]  C=0.001, max_iter=500, penalty=l1, solver=lbfgs, score=nan, total=   0.0s\n",
      "[CV] C=0.001, max_iter=500, penalty=l1, solver=lbfgs .................\n",
      "[CV]  C=0.001, max_iter=500, penalty=l1, solver=lbfgs, score=nan, total=   0.0s\n",
      "[CV] C=0.001, max_iter=500, penalty=l1, solver=lbfgs .................\n",
      "[CV]  C=0.001, max_iter=500, penalty=l1, solver=lbfgs, score=nan, total=   0.0s\n",
      "[CV] C=0.001, max_iter=500, penalty=l1, solver=lbfgs .................\n",
      "[CV]  C=0.001, max_iter=500, penalty=l1, solver=lbfgs, score=nan, total=   0.0s\n",
      "[CV] C=0.001, max_iter=500, penalty=l1, solver=lbfgs .................\n",
      "[CV]  C=0.001, max_iter=500, penalty=l1, solver=lbfgs, score=nan, total=   0.0s\n",
      "[CV] C=0.001, max_iter=500, penalty=l1, solver=liblinear .............\n",
      "[CV]  C=0.001, max_iter=500, penalty=l1, solver=liblinear, score=0.749, total=   0.0s\n",
      "[CV] C=0.001, max_iter=500, penalty=l1, solver=liblinear .............\n",
      "[CV]  C=0.001, max_iter=500, penalty=l1, solver=liblinear, score=0.749, total=   0.0s\n",
      "[CV] C=0.001, max_iter=500, penalty=l1, solver=liblinear .............\n",
      "[CV]  C=0.001, max_iter=500, penalty=l1, solver=liblinear, score=0.748, total=   0.0s\n",
      "[CV] C=0.001, max_iter=500, penalty=l1, solver=liblinear .............\n",
      "[CV]  C=0.001, max_iter=500, penalty=l1, solver=liblinear, score=0.749, total=   0.0s\n",
      "[CV] C=0.001, max_iter=500, penalty=l1, solver=liblinear .............\n",
      "[CV]  C=0.001, max_iter=500, penalty=l1, solver=liblinear, score=0.749, total=   0.0s\n",
      "[CV] C=0.001, max_iter=500, penalty=l1, solver=sag ...................\n",
      "[CV]  C=0.001, max_iter=500, penalty=l1, solver=sag, score=nan, total=   0.0s\n",
      "[CV] C=0.001, max_iter=500, penalty=l1, solver=sag ...................\n",
      "[CV]  C=0.001, max_iter=500, penalty=l1, solver=sag, score=nan, total=   0.0s\n",
      "[CV] C=0.001, max_iter=500, penalty=l1, solver=sag ...................\n",
      "[CV]  C=0.001, max_iter=500, penalty=l1, solver=sag, score=nan, total=   0.0s\n",
      "[CV] C=0.001, max_iter=500, penalty=l1, solver=sag ...................\n",
      "[CV]  C=0.001, max_iter=500, penalty=l1, solver=sag, score=nan, total=   0.0s\n",
      "[CV] C=0.001, max_iter=500, penalty=l1, solver=sag ...................\n",
      "[CV]  C=0.001, max_iter=500, penalty=l1, solver=sag, score=nan, total=   0.0s\n",
      "[CV] C=0.001, max_iter=500, penalty=l1, solver=saga ..................\n",
      "[CV]  C=0.001, max_iter=500, penalty=l1, solver=saga, score=0.749, total=   0.0s\n",
      "[CV] C=0.001, max_iter=500, penalty=l1, solver=saga ..................\n",
      "[CV]  C=0.001, max_iter=500, penalty=l1, solver=saga, score=0.749, total=   0.0s\n",
      "[CV] C=0.001, max_iter=500, penalty=l1, solver=saga ..................\n",
      "[CV]  C=0.001, max_iter=500, penalty=l1, solver=saga, score=0.748, total=   0.0s\n",
      "[CV] C=0.001, max_iter=500, penalty=l1, solver=saga ..................\n",
      "[CV]  C=0.001, max_iter=500, penalty=l1, solver=saga, score=0.749, total=   0.0s\n",
      "[CV] C=0.001, max_iter=500, penalty=l1, solver=saga ..................\n",
      "[CV]  C=0.001, max_iter=500, penalty=l1, solver=saga, score=0.749, total=   0.0s\n",
      "[CV] C=0.001, max_iter=500, penalty=l2, solver=newton-cg ............."
     ]
    },
    {
     "name": "stderr",
     "output_type": "stream",
     "text": [
      "C:\\Users\\hanie\\anaconda3\\lib\\site-packages\\sklearn\\model_selection\\_validation.py:548: FitFailedWarning: Estimator fit failed. The score on this train-test partition for these parameters will be set to nan. Details: \n",
      "Traceback (most recent call last):\n",
      "  File \"C:\\Users\\hanie\\anaconda3\\lib\\site-packages\\sklearn\\model_selection\\_validation.py\", line 531, in _fit_and_score\n",
      "    estimator.fit(X_train, y_train, **fit_params)\n",
      "  File \"C:\\Users\\hanie\\anaconda3\\lib\\site-packages\\sklearn\\linear_model\\_logistic.py\", line 1304, in fit\n",
      "    solver = _check_solver(self.solver, self.penalty, self.dual)\n",
      "  File \"C:\\Users\\hanie\\anaconda3\\lib\\site-packages\\sklearn\\linear_model\\_logistic.py\", line 442, in _check_solver\n",
      "    raise ValueError(\"Solver %s supports only 'l2' or 'none' penalties, \"\n",
      "ValueError: Solver newton-cg supports only 'l2' or 'none' penalties, got l1 penalty.\n",
      "\n",
      "  warnings.warn(\"Estimator fit failed. The score on this train-test\"\n",
      "C:\\Users\\hanie\\anaconda3\\lib\\site-packages\\sklearn\\model_selection\\_validation.py:548: FitFailedWarning: Estimator fit failed. The score on this train-test partition for these parameters will be set to nan. Details: \n",
      "Traceback (most recent call last):\n",
      "  File \"C:\\Users\\hanie\\anaconda3\\lib\\site-packages\\sklearn\\model_selection\\_validation.py\", line 531, in _fit_and_score\n",
      "    estimator.fit(X_train, y_train, **fit_params)\n",
      "  File \"C:\\Users\\hanie\\anaconda3\\lib\\site-packages\\sklearn\\linear_model\\_logistic.py\", line 1304, in fit\n",
      "    solver = _check_solver(self.solver, self.penalty, self.dual)\n",
      "  File \"C:\\Users\\hanie\\anaconda3\\lib\\site-packages\\sklearn\\linear_model\\_logistic.py\", line 442, in _check_solver\n",
      "    raise ValueError(\"Solver %s supports only 'l2' or 'none' penalties, \"\n",
      "ValueError: Solver lbfgs supports only 'l2' or 'none' penalties, got l1 penalty.\n",
      "\n",
      "  warnings.warn(\"Estimator fit failed. The score on this train-test\"\n",
      "C:\\Users\\hanie\\anaconda3\\lib\\site-packages\\sklearn\\model_selection\\_validation.py:548: FitFailedWarning: Estimator fit failed. The score on this train-test partition for these parameters will be set to nan. Details: \n",
      "Traceback (most recent call last):\n",
      "  File \"C:\\Users\\hanie\\anaconda3\\lib\\site-packages\\sklearn\\model_selection\\_validation.py\", line 531, in _fit_and_score\n",
      "    estimator.fit(X_train, y_train, **fit_params)\n",
      "  File \"C:\\Users\\hanie\\anaconda3\\lib\\site-packages\\sklearn\\linear_model\\_logistic.py\", line 1304, in fit\n",
      "    solver = _check_solver(self.solver, self.penalty, self.dual)\n",
      "  File \"C:\\Users\\hanie\\anaconda3\\lib\\site-packages\\sklearn\\linear_model\\_logistic.py\", line 442, in _check_solver\n",
      "    raise ValueError(\"Solver %s supports only 'l2' or 'none' penalties, \"\n",
      "ValueError: Solver sag supports only 'l2' or 'none' penalties, got l1 penalty.\n",
      "\n",
      "  warnings.warn(\"Estimator fit failed. The score on this train-test\"\n"
     ]
    },
    {
     "name": "stdout",
     "output_type": "stream",
     "text": [
      "\n",
      "[CV]  C=0.001, max_iter=500, penalty=l2, solver=newton-cg, score=0.749, total=   0.0s\n",
      "[CV] C=0.001, max_iter=500, penalty=l2, solver=newton-cg .............\n",
      "[CV]  C=0.001, max_iter=500, penalty=l2, solver=newton-cg, score=0.749, total=   0.0s\n",
      "[CV] C=0.001, max_iter=500, penalty=l2, solver=newton-cg .............\n",
      "[CV]  C=0.001, max_iter=500, penalty=l2, solver=newton-cg, score=0.748, total=   0.0s\n",
      "[CV] C=0.001, max_iter=500, penalty=l2, solver=newton-cg .............\n",
      "[CV]  C=0.001, max_iter=500, penalty=l2, solver=newton-cg, score=0.749, total=   0.0s\n",
      "[CV] C=0.001, max_iter=500, penalty=l2, solver=newton-cg .............\n",
      "[CV]  C=0.001, max_iter=500, penalty=l2, solver=newton-cg, score=0.749, total=   0.0s\n",
      "[CV] C=0.001, max_iter=500, penalty=l2, solver=lbfgs .................\n",
      "[CV]  C=0.001, max_iter=500, penalty=l2, solver=lbfgs, score=0.749, total=   0.0s\n",
      "[CV] C=0.001, max_iter=500, penalty=l2, solver=lbfgs .................\n",
      "[CV]  C=0.001, max_iter=500, penalty=l2, solver=lbfgs, score=0.749, total=   0.0s\n",
      "[CV] C=0.001, max_iter=500, penalty=l2, solver=lbfgs .................\n",
      "[CV]  C=0.001, max_iter=500, penalty=l2, solver=lbfgs, score=0.748, total=   0.0s\n",
      "[CV] C=0.001, max_iter=500, penalty=l2, solver=lbfgs .................\n",
      "[CV]  C=0.001, max_iter=500, penalty=l2, solver=lbfgs, score=0.749, total=   0.0s\n",
      "[CV] C=0.001, max_iter=500, penalty=l2, solver=lbfgs .................\n",
      "[CV]  C=0.001, max_iter=500, penalty=l2, solver=lbfgs, score=0.749, total=   0.0s\n",
      "[CV] C=0.001, max_iter=500, penalty=l2, solver=liblinear .............\n",
      "[CV]  C=0.001, max_iter=500, penalty=l2, solver=liblinear, score=0.749, total=   0.0s\n",
      "[CV] C=0.001, max_iter=500, penalty=l2, solver=liblinear .............\n",
      "[CV]  C=0.001, max_iter=500, penalty=l2, solver=liblinear, score=0.749, total=   0.0s\n",
      "[CV] C=0.001, max_iter=500, penalty=l2, solver=liblinear .............\n",
      "[CV]  C=0.001, max_iter=500, penalty=l2, solver=liblinear, score=0.748, total=   0.0s\n",
      "[CV] C=0.001, max_iter=500, penalty=l2, solver=liblinear .............\n",
      "[CV]  C=0.001, max_iter=500, penalty=l2, solver=liblinear, score=0.749, total=   0.0s\n",
      "[CV] C=0.001, max_iter=500, penalty=l2, solver=liblinear .............\n",
      "[CV]  C=0.001, max_iter=500, penalty=l2, solver=liblinear, score=0.749, total=   0.0s\n",
      "[CV] C=0.001, max_iter=500, penalty=l2, solver=sag ...................\n",
      "[CV]  C=0.001, max_iter=500, penalty=l2, solver=sag, score=0.749, total=   0.0s\n",
      "[CV] C=0.001, max_iter=500, penalty=l2, solver=sag ...................\n",
      "[CV]  C=0.001, max_iter=500, penalty=l2, solver=sag, score=0.749, total=   0.0s\n",
      "[CV] C=0.001, max_iter=500, penalty=l2, solver=sag ...................\n",
      "[CV]  C=0.001, max_iter=500, penalty=l2, solver=sag, score=0.748, total=   0.0s\n",
      "[CV] C=0.001, max_iter=500, penalty=l2, solver=sag ...................\n",
      "[CV]  C=0.001, max_iter=500, penalty=l2, solver=sag, score=0.749, total=   0.0s\n",
      "[CV] C=0.001, max_iter=500, penalty=l2, solver=sag ...................\n",
      "[CV]  C=0.001, max_iter=500, penalty=l2, solver=sag, score=0.749, total=   0.0s\n",
      "[CV] C=0.001, max_iter=500, penalty=l2, solver=saga ..................\n",
      "[CV]  C=0.001, max_iter=500, penalty=l2, solver=saga, score=0.749, total=   0.0s\n",
      "[CV] C=0.001, max_iter=500, penalty=l2, solver=saga ..................\n",
      "[CV]  C=0.001, max_iter=500, penalty=l2, solver=saga, score=0.749, total=   0.0s\n",
      "[CV] C=0.001, max_iter=500, penalty=l2, solver=saga ..................\n",
      "[CV]  C=0.001, max_iter=500, penalty=l2, solver=saga, score=0.748, total=   0.0s\n",
      "[CV] C=0.001, max_iter=500, penalty=l2, solver=saga ..................\n",
      "[CV]  C=0.001, max_iter=500, penalty=l2, solver=saga, score=0.749, total=   0.0s\n",
      "[CV] C=0.001, max_iter=500, penalty=l2, solver=saga ..................\n",
      "[CV]  C=0.001, max_iter=500, penalty=l2, solver=saga, score=0.749, total=   0.0s\n",
      "[CV] C=0.001, max_iter=600, penalty=l1, solver=newton-cg .............\n",
      "[CV]  C=0.001, max_iter=600, penalty=l1, solver=newton-cg, score=nan, total=   0.0s\n",
      "[CV] C=0.001, max_iter=600, penalty=l1, solver=newton-cg .............\n",
      "[CV]  C=0.001, max_iter=600, penalty=l1, solver=newton-cg, score=nan, total=   0.0s\n",
      "[CV] C=0.001, max_iter=600, penalty=l1, solver=newton-cg .............\n",
      "[CV]  C=0.001, max_iter=600, penalty=l1, solver=newton-cg, score=nan, total=   0.0s\n",
      "[CV] C=0.001, max_iter=600, penalty=l1, solver=newton-cg .............\n",
      "[CV]  C=0.001, max_iter=600, penalty=l1, solver=newton-cg, score=nan, total=   0.0s\n",
      "[CV] C=0.001, max_iter=600, penalty=l1, solver=newton-cg .............\n",
      "[CV]  C=0.001, max_iter=600, penalty=l1, solver=newton-cg, score=nan, total=   0.0s\n",
      "[CV] C=0.001, max_iter=600, penalty=l1, solver=lbfgs .................\n",
      "[CV]  C=0.001, max_iter=600, penalty=l1, solver=lbfgs, score=nan, total=   0.0s\n",
      "[CV] C=0.001, max_iter=600, penalty=l1, solver=lbfgs .................\n",
      "[CV]  C=0.001, max_iter=600, penalty=l1, solver=lbfgs, score=nan, total=   0.0s\n",
      "[CV] C=0.001, max_iter=600, penalty=l1, solver=lbfgs .................\n",
      "[CV]  C=0.001, max_iter=600, penalty=l1, solver=lbfgs, score=nan, total=   0.0s\n",
      "[CV] C=0.001, max_iter=600, penalty=l1, solver=lbfgs .................\n",
      "[CV]  C=0.001, max_iter=600, penalty=l1, solver=lbfgs, score=nan, total=   0.0s\n",
      "[CV] C=0.001, max_iter=600, penalty=l1, solver=lbfgs .................\n",
      "[CV]  C=0.001, max_iter=600, penalty=l1, solver=lbfgs, score=nan, total=   0.0s\n",
      "[CV] C=0.001, max_iter=600, penalty=l1, solver=liblinear .............\n",
      "[CV]  C=0.001, max_iter=600, penalty=l1, solver=liblinear, score=0.749, total=   0.0s\n",
      "[CV] C=0.001, max_iter=600, penalty=l1, solver=liblinear .............\n",
      "[CV]  C=0.001, max_iter=600, penalty=l1, solver=liblinear, score=0.749, total=   0.0s\n",
      "[CV] C=0.001, max_iter=600, penalty=l1, solver=liblinear .............\n",
      "[CV]  C=0.001, max_iter=600, penalty=l1, solver=liblinear, score=0.748, total=   0.0s\n",
      "[CV] C=0.001, max_iter=600, penalty=l1, solver=liblinear ............."
     ]
    },
    {
     "name": "stderr",
     "output_type": "stream",
     "text": [
      "C:\\Users\\hanie\\anaconda3\\lib\\site-packages\\sklearn\\model_selection\\_validation.py:548: FitFailedWarning: Estimator fit failed. The score on this train-test partition for these parameters will be set to nan. Details: \n",
      "Traceback (most recent call last):\n",
      "  File \"C:\\Users\\hanie\\anaconda3\\lib\\site-packages\\sklearn\\model_selection\\_validation.py\", line 531, in _fit_and_score\n",
      "    estimator.fit(X_train, y_train, **fit_params)\n",
      "  File \"C:\\Users\\hanie\\anaconda3\\lib\\site-packages\\sklearn\\linear_model\\_logistic.py\", line 1304, in fit\n",
      "    solver = _check_solver(self.solver, self.penalty, self.dual)\n",
      "  File \"C:\\Users\\hanie\\anaconda3\\lib\\site-packages\\sklearn\\linear_model\\_logistic.py\", line 442, in _check_solver\n",
      "    raise ValueError(\"Solver %s supports only 'l2' or 'none' penalties, \"\n",
      "ValueError: Solver newton-cg supports only 'l2' or 'none' penalties, got l1 penalty.\n",
      "\n",
      "  warnings.warn(\"Estimator fit failed. The score on this train-test\"\n",
      "C:\\Users\\hanie\\anaconda3\\lib\\site-packages\\sklearn\\model_selection\\_validation.py:548: FitFailedWarning: Estimator fit failed. The score on this train-test partition for these parameters will be set to nan. Details: \n",
      "Traceback (most recent call last):\n",
      "  File \"C:\\Users\\hanie\\anaconda3\\lib\\site-packages\\sklearn\\model_selection\\_validation.py\", line 531, in _fit_and_score\n",
      "    estimator.fit(X_train, y_train, **fit_params)\n",
      "  File \"C:\\Users\\hanie\\anaconda3\\lib\\site-packages\\sklearn\\linear_model\\_logistic.py\", line 1304, in fit\n",
      "    solver = _check_solver(self.solver, self.penalty, self.dual)\n",
      "  File \"C:\\Users\\hanie\\anaconda3\\lib\\site-packages\\sklearn\\linear_model\\_logistic.py\", line 442, in _check_solver\n",
      "    raise ValueError(\"Solver %s supports only 'l2' or 'none' penalties, \"\n",
      "ValueError: Solver lbfgs supports only 'l2' or 'none' penalties, got l1 penalty.\n",
      "\n",
      "  warnings.warn(\"Estimator fit failed. The score on this train-test\"\n",
      "C:\\Users\\hanie\\anaconda3\\lib\\site-packages\\sklearn\\model_selection\\_validation.py:548: FitFailedWarning: Estimator fit failed. The score on this train-test partition for these parameters will be set to nan. Details: \n",
      "Traceback (most recent call last):\n",
      "  File \"C:\\Users\\hanie\\anaconda3\\lib\\site-packages\\sklearn\\model_selection\\_validation.py\", line 531, in _fit_and_score\n",
      "    estimator.fit(X_train, y_train, **fit_params)\n",
      "  File \"C:\\Users\\hanie\\anaconda3\\lib\\site-packages\\sklearn\\linear_model\\_logistic.py\", line 1304, in fit\n",
      "    solver = _check_solver(self.solver, self.penalty, self.dual)\n",
      "  File \"C:\\Users\\hanie\\anaconda3\\lib\\site-packages\\sklearn\\linear_model\\_logistic.py\", line 442, in _check_solver\n",
      "    raise ValueError(\"Solver %s supports only 'l2' or 'none' penalties, \"\n",
      "ValueError: Solver sag supports only 'l2' or 'none' penalties, got l1 penalty.\n",
      "\n",
      "  warnings.warn(\"Estimator fit failed. The score on this train-test\"\n"
     ]
    },
    {
     "name": "stdout",
     "output_type": "stream",
     "text": [
      "\n",
      "[CV]  C=0.001, max_iter=600, penalty=l1, solver=liblinear, score=0.749, total=   0.0s\n",
      "[CV] C=0.001, max_iter=600, penalty=l1, solver=liblinear .............\n",
      "[CV]  C=0.001, max_iter=600, penalty=l1, solver=liblinear, score=0.749, total=   0.0s\n",
      "[CV] C=0.001, max_iter=600, penalty=l1, solver=sag ...................\n",
      "[CV]  C=0.001, max_iter=600, penalty=l1, solver=sag, score=nan, total=   0.0s\n",
      "[CV] C=0.001, max_iter=600, penalty=l1, solver=sag ...................\n",
      "[CV]  C=0.001, max_iter=600, penalty=l1, solver=sag, score=nan, total=   0.0s\n",
      "[CV] C=0.001, max_iter=600, penalty=l1, solver=sag ...................\n",
      "[CV]  C=0.001, max_iter=600, penalty=l1, solver=sag, score=nan, total=   0.0s\n",
      "[CV] C=0.001, max_iter=600, penalty=l1, solver=sag ...................\n",
      "[CV]  C=0.001, max_iter=600, penalty=l1, solver=sag, score=nan, total=   0.0s\n",
      "[CV] C=0.001, max_iter=600, penalty=l1, solver=sag ...................\n",
      "[CV]  C=0.001, max_iter=600, penalty=l1, solver=sag, score=nan, total=   0.0s\n",
      "[CV] C=0.001, max_iter=600, penalty=l1, solver=saga ..................\n",
      "[CV]  C=0.001, max_iter=600, penalty=l1, solver=saga, score=0.749, total=   0.0s\n",
      "[CV] C=0.001, max_iter=600, penalty=l1, solver=saga ..................\n",
      "[CV]  C=0.001, max_iter=600, penalty=l1, solver=saga, score=0.749, total=   0.0s\n",
      "[CV] C=0.001, max_iter=600, penalty=l1, solver=saga ..................\n",
      "[CV]  C=0.001, max_iter=600, penalty=l1, solver=saga, score=0.748, total=   0.0s\n",
      "[CV] C=0.001, max_iter=600, penalty=l1, solver=saga ..................\n",
      "[CV]  C=0.001, max_iter=600, penalty=l1, solver=saga, score=0.749, total=   0.0s\n",
      "[CV] C=0.001, max_iter=600, penalty=l1, solver=saga ..................\n",
      "[CV]  C=0.001, max_iter=600, penalty=l1, solver=saga, score=0.749, total=   0.0s\n",
      "[CV] C=0.001, max_iter=600, penalty=l2, solver=newton-cg .............\n",
      "[CV]  C=0.001, max_iter=600, penalty=l2, solver=newton-cg, score=0.749, total=   0.0s\n",
      "[CV] C=0.001, max_iter=600, penalty=l2, solver=newton-cg .............\n",
      "[CV]  C=0.001, max_iter=600, penalty=l2, solver=newton-cg, score=0.749, total=   0.0s\n",
      "[CV] C=0.001, max_iter=600, penalty=l2, solver=newton-cg .............\n",
      "[CV]  C=0.001, max_iter=600, penalty=l2, solver=newton-cg, score=0.748, total=   0.0s\n",
      "[CV] C=0.001, max_iter=600, penalty=l2, solver=newton-cg .............\n",
      "[CV]  C=0.001, max_iter=600, penalty=l2, solver=newton-cg, score=0.749, total=   0.0s\n",
      "[CV] C=0.001, max_iter=600, penalty=l2, solver=newton-cg .............\n",
      "[CV]  C=0.001, max_iter=600, penalty=l2, solver=newton-cg, score=0.749, total=   0.0s\n",
      "[CV] C=0.001, max_iter=600, penalty=l2, solver=lbfgs .................\n",
      "[CV]  C=0.001, max_iter=600, penalty=l2, solver=lbfgs, score=0.749, total=   0.0s\n",
      "[CV] C=0.001, max_iter=600, penalty=l2, solver=lbfgs .................\n",
      "[CV]  C=0.001, max_iter=600, penalty=l2, solver=lbfgs, score=0.749, total=   0.0s\n",
      "[CV] C=0.001, max_iter=600, penalty=l2, solver=lbfgs .................\n",
      "[CV]  C=0.001, max_iter=600, penalty=l2, solver=lbfgs, score=0.748, total=   0.0s\n",
      "[CV] C=0.001, max_iter=600, penalty=l2, solver=lbfgs .................\n",
      "[CV]  C=0.001, max_iter=600, penalty=l2, solver=lbfgs, score=0.749, total=   0.0s\n",
      "[CV] C=0.001, max_iter=600, penalty=l2, solver=lbfgs .................\n",
      "[CV]  C=0.001, max_iter=600, penalty=l2, solver=lbfgs, score=0.749, total=   0.0s\n",
      "[CV] C=0.001, max_iter=600, penalty=l2, solver=liblinear .............\n",
      "[CV]  C=0.001, max_iter=600, penalty=l2, solver=liblinear, score=0.749, total=   0.0s\n",
      "[CV] C=0.001, max_iter=600, penalty=l2, solver=liblinear .............\n",
      "[CV]  C=0.001, max_iter=600, penalty=l2, solver=liblinear, score=0.749, total=   0.0s\n",
      "[CV] C=0.001, max_iter=600, penalty=l2, solver=liblinear .............\n",
      "[CV]  C=0.001, max_iter=600, penalty=l2, solver=liblinear, score=0.748, total=   0.0s\n",
      "[CV] C=0.001, max_iter=600, penalty=l2, solver=liblinear .............\n",
      "[CV]  C=0.001, max_iter=600, penalty=l2, solver=liblinear, score=0.749, total=   0.0s\n",
      "[CV] C=0.001, max_iter=600, penalty=l2, solver=liblinear .............\n",
      "[CV]  C=0.001, max_iter=600, penalty=l2, solver=liblinear, score=0.749, total=   0.0s\n",
      "[CV] C=0.001, max_iter=600, penalty=l2, solver=sag ...................\n",
      "[CV]  C=0.001, max_iter=600, penalty=l2, solver=sag, score=0.749, total=   0.0s\n",
      "[CV] C=0.001, max_iter=600, penalty=l2, solver=sag ...................\n",
      "[CV]  C=0.001, max_iter=600, penalty=l2, solver=sag, score=0.749, total=   0.0s\n",
      "[CV] C=0.001, max_iter=600, penalty=l2, solver=sag ...................\n",
      "[CV]  C=0.001, max_iter=600, penalty=l2, solver=sag, score=0.748, total=   0.0s\n",
      "[CV] C=0.001, max_iter=600, penalty=l2, solver=sag ...................\n",
      "[CV]  C=0.001, max_iter=600, penalty=l2, solver=sag, score=0.749, total=   0.0s\n",
      "[CV] C=0.001, max_iter=600, penalty=l2, solver=sag ...................\n",
      "[CV]  C=0.001, max_iter=600, penalty=l2, solver=sag, score=0.749, total=   0.0s\n",
      "[CV] C=0.001, max_iter=600, penalty=l2, solver=saga ..................\n",
      "[CV]  C=0.001, max_iter=600, penalty=l2, solver=saga, score=0.749, total=   0.0s\n",
      "[CV] C=0.001, max_iter=600, penalty=l2, solver=saga ..................\n",
      "[CV]  C=0.001, max_iter=600, penalty=l2, solver=saga, score=0.749, total=   0.0s\n",
      "[CV] C=0.001, max_iter=600, penalty=l2, solver=saga ..................\n",
      "[CV]  C=0.001, max_iter=600, penalty=l2, solver=saga, score=0.748, total=   0.0s\n",
      "[CV] C=0.001, max_iter=600, penalty=l2, solver=saga ..................\n",
      "[CV]  C=0.001, max_iter=600, penalty=l2, solver=saga, score=0.749, total=   0.0s\n",
      "[CV] C=0.001, max_iter=600, penalty=l2, solver=saga ..................\n",
      "[CV]  C=0.001, max_iter=600, penalty=l2, solver=saga, score=0.749, total=   0.0s\n",
      "[CV] C=0.001, max_iter=700, penalty=l1, solver=newton-cg .............\n",
      "[CV]  C=0.001, max_iter=700, penalty=l1, solver=newton-cg, score=nan, total=   0.0s\n",
      "[CV] C=0.001, max_iter=700, penalty=l1, solver=newton-cg .............\n",
      "[CV]  C=0.001, max_iter=700, penalty=l1, solver=newton-cg, score=nan, total=   0.0s\n",
      "[CV] C=0.001, max_iter=700, penalty=l1, solver=newton-cg .............\n",
      "[CV]  C=0.001, max_iter=700, penalty=l1, solver=newton-cg, score=nan, total=   0.0s"
     ]
    },
    {
     "name": "stderr",
     "output_type": "stream",
     "text": [
      "C:\\Users\\hanie\\anaconda3\\lib\\site-packages\\sklearn\\model_selection\\_validation.py:548: FitFailedWarning: Estimator fit failed. The score on this train-test partition for these parameters will be set to nan. Details: \n",
      "Traceback (most recent call last):\n",
      "  File \"C:\\Users\\hanie\\anaconda3\\lib\\site-packages\\sklearn\\model_selection\\_validation.py\", line 531, in _fit_and_score\n",
      "    estimator.fit(X_train, y_train, **fit_params)\n",
      "  File \"C:\\Users\\hanie\\anaconda3\\lib\\site-packages\\sklearn\\linear_model\\_logistic.py\", line 1304, in fit\n",
      "    solver = _check_solver(self.solver, self.penalty, self.dual)\n",
      "  File \"C:\\Users\\hanie\\anaconda3\\lib\\site-packages\\sklearn\\linear_model\\_logistic.py\", line 442, in _check_solver\n",
      "    raise ValueError(\"Solver %s supports only 'l2' or 'none' penalties, \"\n",
      "ValueError: Solver newton-cg supports only 'l2' or 'none' penalties, got l1 penalty.\n",
      "\n",
      "  warnings.warn(\"Estimator fit failed. The score on this train-test\"\n",
      "C:\\Users\\hanie\\anaconda3\\lib\\site-packages\\sklearn\\model_selection\\_validation.py:548: FitFailedWarning: Estimator fit failed. The score on this train-test partition for these parameters will be set to nan. Details: \n",
      "Traceback (most recent call last):\n",
      "  File \"C:\\Users\\hanie\\anaconda3\\lib\\site-packages\\sklearn\\model_selection\\_validation.py\", line 531, in _fit_and_score\n",
      "    estimator.fit(X_train, y_train, **fit_params)\n",
      "  File \"C:\\Users\\hanie\\anaconda3\\lib\\site-packages\\sklearn\\linear_model\\_logistic.py\", line 1304, in fit\n",
      "    solver = _check_solver(self.solver, self.penalty, self.dual)\n",
      "  File \"C:\\Users\\hanie\\anaconda3\\lib\\site-packages\\sklearn\\linear_model\\_logistic.py\", line 442, in _check_solver\n",
      "    raise ValueError(\"Solver %s supports only 'l2' or 'none' penalties, \"\n",
      "ValueError: Solver lbfgs supports only 'l2' or 'none' penalties, got l1 penalty.\n",
      "\n",
      "  warnings.warn(\"Estimator fit failed. The score on this train-test\"\n",
      "C:\\Users\\hanie\\anaconda3\\lib\\site-packages\\sklearn\\model_selection\\_validation.py:548: FitFailedWarning: Estimator fit failed. The score on this train-test partition for these parameters will be set to nan. Details: \n",
      "Traceback (most recent call last):\n",
      "  File \"C:\\Users\\hanie\\anaconda3\\lib\\site-packages\\sklearn\\model_selection\\_validation.py\", line 531, in _fit_and_score\n",
      "    estimator.fit(X_train, y_train, **fit_params)\n",
      "  File \"C:\\Users\\hanie\\anaconda3\\lib\\site-packages\\sklearn\\linear_model\\_logistic.py\", line 1304, in fit\n",
      "    solver = _check_solver(self.solver, self.penalty, self.dual)\n",
      "  File \"C:\\Users\\hanie\\anaconda3\\lib\\site-packages\\sklearn\\linear_model\\_logistic.py\", line 442, in _check_solver\n",
      "    raise ValueError(\"Solver %s supports only 'l2' or 'none' penalties, \"\n",
      "ValueError: Solver sag supports only 'l2' or 'none' penalties, got l1 penalty.\n",
      "\n",
      "  warnings.warn(\"Estimator fit failed. The score on this train-test\"\n"
     ]
    },
    {
     "name": "stdout",
     "output_type": "stream",
     "text": [
      "\n",
      "[CV] C=0.001, max_iter=700, penalty=l1, solver=newton-cg .............\n",
      "[CV]  C=0.001, max_iter=700, penalty=l1, solver=newton-cg, score=nan, total=   0.0s\n",
      "[CV] C=0.001, max_iter=700, penalty=l1, solver=newton-cg .............\n",
      "[CV]  C=0.001, max_iter=700, penalty=l1, solver=newton-cg, score=nan, total=   0.0s\n",
      "[CV] C=0.001, max_iter=700, penalty=l1, solver=lbfgs .................\n",
      "[CV]  C=0.001, max_iter=700, penalty=l1, solver=lbfgs, score=nan, total=   0.0s\n",
      "[CV] C=0.001, max_iter=700, penalty=l1, solver=lbfgs .................\n",
      "[CV]  C=0.001, max_iter=700, penalty=l1, solver=lbfgs, score=nan, total=   0.0s\n",
      "[CV] C=0.001, max_iter=700, penalty=l1, solver=lbfgs .................\n",
      "[CV]  C=0.001, max_iter=700, penalty=l1, solver=lbfgs, score=nan, total=   0.0s\n",
      "[CV] C=0.001, max_iter=700, penalty=l1, solver=lbfgs .................\n",
      "[CV]  C=0.001, max_iter=700, penalty=l1, solver=lbfgs, score=nan, total=   0.0s\n",
      "[CV] C=0.001, max_iter=700, penalty=l1, solver=lbfgs .................\n",
      "[CV]  C=0.001, max_iter=700, penalty=l1, solver=lbfgs, score=nan, total=   0.0s\n",
      "[CV] C=0.001, max_iter=700, penalty=l1, solver=liblinear .............\n",
      "[CV]  C=0.001, max_iter=700, penalty=l1, solver=liblinear, score=0.749, total=   0.0s\n",
      "[CV] C=0.001, max_iter=700, penalty=l1, solver=liblinear .............\n",
      "[CV]  C=0.001, max_iter=700, penalty=l1, solver=liblinear, score=0.749, total=   0.0s\n",
      "[CV] C=0.001, max_iter=700, penalty=l1, solver=liblinear .............\n",
      "[CV]  C=0.001, max_iter=700, penalty=l1, solver=liblinear, score=0.748, total=   0.0s\n",
      "[CV] C=0.001, max_iter=700, penalty=l1, solver=liblinear .............\n",
      "[CV]  C=0.001, max_iter=700, penalty=l1, solver=liblinear, score=0.749, total=   0.0s\n",
      "[CV] C=0.001, max_iter=700, penalty=l1, solver=liblinear .............\n",
      "[CV]  C=0.001, max_iter=700, penalty=l1, solver=liblinear, score=0.749, total=   0.0s\n",
      "[CV] C=0.001, max_iter=700, penalty=l1, solver=sag ...................\n",
      "[CV]  C=0.001, max_iter=700, penalty=l1, solver=sag, score=nan, total=   0.0s\n",
      "[CV] C=0.001, max_iter=700, penalty=l1, solver=sag ...................\n",
      "[CV]  C=0.001, max_iter=700, penalty=l1, solver=sag, score=nan, total=   0.0s\n",
      "[CV] C=0.001, max_iter=700, penalty=l1, solver=sag ...................\n",
      "[CV]  C=0.001, max_iter=700, penalty=l1, solver=sag, score=nan, total=   0.0s\n",
      "[CV] C=0.001, max_iter=700, penalty=l1, solver=sag ...................\n",
      "[CV]  C=0.001, max_iter=700, penalty=l1, solver=sag, score=nan, total=   0.0s\n",
      "[CV] C=0.001, max_iter=700, penalty=l1, solver=sag ...................\n",
      "[CV]  C=0.001, max_iter=700, penalty=l1, solver=sag, score=nan, total=   0.0s\n",
      "[CV] C=0.001, max_iter=700, penalty=l1, solver=saga ..................\n",
      "[CV]  C=0.001, max_iter=700, penalty=l1, solver=saga, score=0.749, total=   0.0s\n",
      "[CV] C=0.001, max_iter=700, penalty=l1, solver=saga ..................\n",
      "[CV]  C=0.001, max_iter=700, penalty=l1, solver=saga, score=0.749, total=   0.0s\n",
      "[CV] C=0.001, max_iter=700, penalty=l1, solver=saga ..................\n",
      "[CV]  C=0.001, max_iter=700, penalty=l1, solver=saga, score=0.748, total=   0.0s\n",
      "[CV] C=0.001, max_iter=700, penalty=l1, solver=saga ..................\n",
      "[CV]  C=0.001, max_iter=700, penalty=l1, solver=saga, score=0.749, total=   0.0s\n",
      "[CV] C=0.001, max_iter=700, penalty=l1, solver=saga ..................\n",
      "[CV]  C=0.001, max_iter=700, penalty=l1, solver=saga, score=0.749, total=   0.0s\n",
      "[CV] C=0.001, max_iter=700, penalty=l2, solver=newton-cg .............\n",
      "[CV]  C=0.001, max_iter=700, penalty=l2, solver=newton-cg, score=0.749, total=   0.0s\n",
      "[CV] C=0.001, max_iter=700, penalty=l2, solver=newton-cg .............\n",
      "[CV]  C=0.001, max_iter=700, penalty=l2, solver=newton-cg, score=0.749, total=   0.0s\n",
      "[CV] C=0.001, max_iter=700, penalty=l2, solver=newton-cg .............\n",
      "[CV]  C=0.001, max_iter=700, penalty=l2, solver=newton-cg, score=0.748, total=   0.0s\n",
      "[CV] C=0.001, max_iter=700, penalty=l2, solver=newton-cg .............\n",
      "[CV]  C=0.001, max_iter=700, penalty=l2, solver=newton-cg, score=0.749, total=   0.0s\n",
      "[CV] C=0.001, max_iter=700, penalty=l2, solver=newton-cg .............\n",
      "[CV]  C=0.001, max_iter=700, penalty=l2, solver=newton-cg, score=0.749, total=   0.0s\n",
      "[CV] C=0.001, max_iter=700, penalty=l2, solver=lbfgs .................\n",
      "[CV]  C=0.001, max_iter=700, penalty=l2, solver=lbfgs, score=0.749, total=   0.0s\n",
      "[CV] C=0.001, max_iter=700, penalty=l2, solver=lbfgs .................\n",
      "[CV]  C=0.001, max_iter=700, penalty=l2, solver=lbfgs, score=0.749, total=   0.0s\n",
      "[CV] C=0.001, max_iter=700, penalty=l2, solver=lbfgs .................\n",
      "[CV]  C=0.001, max_iter=700, penalty=l2, solver=lbfgs, score=0.748, total=   0.0s\n",
      "[CV] C=0.001, max_iter=700, penalty=l2, solver=lbfgs .................\n",
      "[CV]  C=0.001, max_iter=700, penalty=l2, solver=lbfgs, score=0.749, total=   0.0s\n",
      "[CV] C=0.001, max_iter=700, penalty=l2, solver=lbfgs .................\n",
      "[CV]  C=0.001, max_iter=700, penalty=l2, solver=lbfgs, score=0.749, total=   0.0s\n",
      "[CV] C=0.001, max_iter=700, penalty=l2, solver=liblinear .............\n",
      "[CV]  C=0.001, max_iter=700, penalty=l2, solver=liblinear, score=0.749, total=   0.0s\n",
      "[CV] C=0.001, max_iter=700, penalty=l2, solver=liblinear .............\n",
      "[CV]  C=0.001, max_iter=700, penalty=l2, solver=liblinear, score=0.749, total=   0.0s\n",
      "[CV] C=0.001, max_iter=700, penalty=l2, solver=liblinear .............\n",
      "[CV]  C=0.001, max_iter=700, penalty=l2, solver=liblinear, score=0.748, total=   0.0s\n",
      "[CV] C=0.001, max_iter=700, penalty=l2, solver=liblinear .............\n",
      "[CV]  C=0.001, max_iter=700, penalty=l2, solver=liblinear, score=0.749, total=   0.0s\n",
      "[CV] C=0.001, max_iter=700, penalty=l2, solver=liblinear .............\n",
      "[CV]  C=0.001, max_iter=700, penalty=l2, solver=liblinear, score=0.749, total=   0.0s\n",
      "[CV] C=0.001, max_iter=700, penalty=l2, solver=sag ...................\n",
      "[CV]  C=0.001, max_iter=700, penalty=l2, solver=sag, score=0.749, total=   0.0s\n",
      "[CV] C=0.001, max_iter=700, penalty=l2, solver=sag ...................\n",
      "[CV]  C=0.001, max_iter=700, penalty=l2, solver=sag, score=0.749, total=   0.0s\n",
      "[CV] C=0.001, max_iter=700, penalty=l2, solver=sag ...................\n",
      "[CV]  C=0.001, max_iter=700, penalty=l2, solver=sag, score=0.748, total=   0.0s\n",
      "[CV] C=0.001, max_iter=700, penalty=l2, solver=sag ...................\n",
      "[CV]  C=0.001, max_iter=700, penalty=l2, solver=sag, score=0.749, total=   0.0s\n",
      "[CV] C=0.001, max_iter=700, penalty=l2, solver=sag ...................\n",
      "[CV]  C=0.001, max_iter=700, penalty=l2, solver=sag, score=0.749, total=   0.0s\n",
      "[CV] C=0.001, max_iter=700, penalty=l2, solver=saga ..................\n",
      "[CV]  C=0.001, max_iter=700, penalty=l2, solver=saga, score=0.749, total=   0.0s\n",
      "[CV] C=0.001, max_iter=700, penalty=l2, solver=saga ..................\n",
      "[CV]  C=0.001, max_iter=700, penalty=l2, solver=saga, score=0.749, total=   0.0s\n",
      "[CV] C=0.001, max_iter=700, penalty=l2, solver=saga ..................\n",
      "[CV]  C=0.001, max_iter=700, penalty=l2, solver=saga, score=0.748, total=   0.0s\n",
      "[CV] C=0.001, max_iter=700, penalty=l2, solver=saga ..................\n",
      "[CV]  C=0.001, max_iter=700, penalty=l2, solver=saga, score=0.749, total=   0.0s\n",
      "[CV] C=0.001, max_iter=700, penalty=l2, solver=saga ..................\n",
      "[CV]  C=0.001, max_iter=700, penalty=l2, solver=saga, score=0.749, total=   0.0s\n",
      "[CV] C=0.01, max_iter=100, penalty=l1, solver=newton-cg ..............\n",
      "[CV]  C=0.01, max_iter=100, penalty=l1, solver=newton-cg, score=nan, total=   0.0s\n",
      "[CV] C=0.01, max_iter=100, penalty=l1, solver=newton-cg ..............\n",
      "[CV]  C=0.01, max_iter=100, penalty=l1, solver=newton-cg, score=nan, total=   0.0s\n",
      "[CV] C=0.01, max_iter=100, penalty=l1, solver=newton-cg ..............\n",
      "[CV]  C=0.01, max_iter=100, penalty=l1, solver=newton-cg, score=nan, total=   0.0s\n",
      "[CV] C=0.01, max_iter=100, penalty=l1, solver=newton-cg ..............\n",
      "[CV]  C=0.01, max_iter=100, penalty=l1, solver=newton-cg, score=nan, total=   0.0s\n",
      "[CV] C=0.01, max_iter=100, penalty=l1, solver=newton-cg ..............\n",
      "[CV]  C=0.01, max_iter=100, penalty=l1, solver=newton-cg, score=nan, total=   0.0s\n",
      "[CV] C=0.01, max_iter=100, penalty=l1, solver=lbfgs ..................\n",
      "[CV]  C=0.01, max_iter=100, penalty=l1, solver=lbfgs, score=nan, total=   0.0s\n",
      "[CV] C=0.01, max_iter=100, penalty=l1, solver=lbfgs ..................\n",
      "[CV]  C=0.01, max_iter=100, penalty=l1, solver=lbfgs, score=nan, total=   0.0s\n",
      "[CV] C=0.01, max_iter=100, penalty=l1, solver=lbfgs ..................\n",
      "[CV]  C=0.01, max_iter=100, penalty=l1, solver=lbfgs, score=nan, total=   0.0s\n",
      "[CV] C=0.01, max_iter=100, penalty=l1, solver=lbfgs ..................\n",
      "[CV]  C=0.01, max_iter=100, penalty=l1, solver=lbfgs, score=nan, total=   0.0s\n",
      "[CV] C=0.01, max_iter=100, penalty=l1, solver=lbfgs ..................\n",
      "[CV]  C=0.01, max_iter=100, penalty=l1, solver=lbfgs, score=nan, total=   0.0s\n",
      "[CV] C=0.01, max_iter=100, penalty=l1, solver=liblinear ..............\n",
      "[CV]  C=0.01, max_iter=100, penalty=l1, solver=liblinear, score=0.749, total=   0.0s\n",
      "[CV] C=0.01, max_iter=100, penalty=l1, solver=liblinear ..............\n",
      "[CV]  C=0.01, max_iter=100, penalty=l1, solver=liblinear, score=0.749, total=   0.0s\n",
      "[CV] C=0.01, max_iter=100, penalty=l1, solver=liblinear ..............\n",
      "[CV]  C=0.01, max_iter=100, penalty=l1, solver=liblinear, score=0.748, total=   0.0s\n",
      "[CV] C=0.01, max_iter=100, penalty=l1, solver=liblinear ..............\n",
      "[CV]  C=0.01, max_iter=100, penalty=l1, solver=liblinear, score=0.749, total=   0.0s\n",
      "[CV] C=0.01, max_iter=100, penalty=l1, solver=liblinear ..............\n",
      "[CV]  C=0.01, max_iter=100, penalty=l1, solver=liblinear, score=0.749, total=   0.0s\n",
      "[CV] C=0.01, max_iter=100, penalty=l1, solver=sag ....................\n",
      "[CV]  C=0.01, max_iter=100, penalty=l1, solver=sag, score=nan, total=   0.0s\n",
      "[CV] C=0.01, max_iter=100, penalty=l1, solver=sag ....................\n",
      "[CV]  C=0.01, max_iter=100, penalty=l1, solver=sag, score=nan, total=   0.0s\n",
      "[CV] C=0.01, max_iter=100, penalty=l1, solver=sag ....................\n",
      "[CV]  C=0.01, max_iter=100, penalty=l1, solver=sag, score=nan, total=   0.0s\n",
      "[CV] C=0.01, max_iter=100, penalty=l1, solver=sag ....................\n",
      "[CV]  C=0.01, max_iter=100, penalty=l1, solver=sag, score=nan, total=   0.0s\n",
      "[CV] C=0.01, max_iter=100, penalty=l1, solver=sag ....................\n",
      "[CV]  C=0.01, max_iter=100, penalty=l1, solver=sag, score=nan, total=   0.0s\n",
      "[CV] C=0.01, max_iter=100, penalty=l1, solver=saga ...................\n",
      "[CV]  C=0.01, max_iter=100, penalty=l1, solver=saga, score=0.749, total=   0.0s\n",
      "[CV] C=0.01, max_iter=100, penalty=l1, solver=saga ...................\n",
      "[CV]  C=0.01, max_iter=100, penalty=l1, solver=saga, score=0.749, total=   0.0s\n",
      "[CV] C=0.01, max_iter=100, penalty=l1, solver=saga ...................\n",
      "[CV]  C=0.01, max_iter=100, penalty=l1, solver=saga, score=0.748, total=   0.0s\n",
      "[CV] C=0.01, max_iter=100, penalty=l1, solver=saga ...................\n",
      "[CV]  C=0.01, max_iter=100, penalty=l1, solver=saga, score=0.749, total=   0.0s\n",
      "[CV] C=0.01, max_iter=100, penalty=l1, solver=saga ...................\n",
      "[CV]  C=0.01, max_iter=100, penalty=l1, solver=saga, score=0.749, total=   0.0s"
     ]
    },
    {
     "name": "stderr",
     "output_type": "stream",
     "text": [
      "C:\\Users\\hanie\\anaconda3\\lib\\site-packages\\sklearn\\model_selection\\_validation.py:548: FitFailedWarning: Estimator fit failed. The score on this train-test partition for these parameters will be set to nan. Details: \n",
      "Traceback (most recent call last):\n",
      "  File \"C:\\Users\\hanie\\anaconda3\\lib\\site-packages\\sklearn\\model_selection\\_validation.py\", line 531, in _fit_and_score\n",
      "    estimator.fit(X_train, y_train, **fit_params)\n",
      "  File \"C:\\Users\\hanie\\anaconda3\\lib\\site-packages\\sklearn\\linear_model\\_logistic.py\", line 1304, in fit\n",
      "    solver = _check_solver(self.solver, self.penalty, self.dual)\n",
      "  File \"C:\\Users\\hanie\\anaconda3\\lib\\site-packages\\sklearn\\linear_model\\_logistic.py\", line 442, in _check_solver\n",
      "    raise ValueError(\"Solver %s supports only 'l2' or 'none' penalties, \"\n",
      "ValueError: Solver newton-cg supports only 'l2' or 'none' penalties, got l1 penalty.\n",
      "\n",
      "  warnings.warn(\"Estimator fit failed. The score on this train-test\"\n",
      "C:\\Users\\hanie\\anaconda3\\lib\\site-packages\\sklearn\\model_selection\\_validation.py:548: FitFailedWarning: Estimator fit failed. The score on this train-test partition for these parameters will be set to nan. Details: \n",
      "Traceback (most recent call last):\n",
      "  File \"C:\\Users\\hanie\\anaconda3\\lib\\site-packages\\sklearn\\model_selection\\_validation.py\", line 531, in _fit_and_score\n",
      "    estimator.fit(X_train, y_train, **fit_params)\n",
      "  File \"C:\\Users\\hanie\\anaconda3\\lib\\site-packages\\sklearn\\linear_model\\_logistic.py\", line 1304, in fit\n",
      "    solver = _check_solver(self.solver, self.penalty, self.dual)\n",
      "  File \"C:\\Users\\hanie\\anaconda3\\lib\\site-packages\\sklearn\\linear_model\\_logistic.py\", line 442, in _check_solver\n",
      "    raise ValueError(\"Solver %s supports only 'l2' or 'none' penalties, \"\n",
      "ValueError: Solver lbfgs supports only 'l2' or 'none' penalties, got l1 penalty.\n",
      "\n",
      "  warnings.warn(\"Estimator fit failed. The score on this train-test\"\n",
      "C:\\Users\\hanie\\anaconda3\\lib\\site-packages\\sklearn\\model_selection\\_validation.py:548: FitFailedWarning: Estimator fit failed. The score on this train-test partition for these parameters will be set to nan. Details: \n",
      "Traceback (most recent call last):\n",
      "  File \"C:\\Users\\hanie\\anaconda3\\lib\\site-packages\\sklearn\\model_selection\\_validation.py\", line 531, in _fit_and_score\n",
      "    estimator.fit(X_train, y_train, **fit_params)\n",
      "  File \"C:\\Users\\hanie\\anaconda3\\lib\\site-packages\\sklearn\\linear_model\\_logistic.py\", line 1304, in fit\n",
      "    solver = _check_solver(self.solver, self.penalty, self.dual)\n",
      "  File \"C:\\Users\\hanie\\anaconda3\\lib\\site-packages\\sklearn\\linear_model\\_logistic.py\", line 442, in _check_solver\n",
      "    raise ValueError(\"Solver %s supports only 'l2' or 'none' penalties, \"\n",
      "ValueError: Solver sag supports only 'l2' or 'none' penalties, got l1 penalty.\n",
      "\n",
      "  warnings.warn(\"Estimator fit failed. The score on this train-test\"\n"
     ]
    },
    {
     "name": "stdout",
     "output_type": "stream",
     "text": [
      "\n",
      "[CV] C=0.01, max_iter=100, penalty=l2, solver=newton-cg ..............\n",
      "[CV]  C=0.01, max_iter=100, penalty=l2, solver=newton-cg, score=0.749, total=   0.0s\n",
      "[CV] C=0.01, max_iter=100, penalty=l2, solver=newton-cg ..............\n",
      "[CV]  C=0.01, max_iter=100, penalty=l2, solver=newton-cg, score=0.749, total=   0.0s\n",
      "[CV] C=0.01, max_iter=100, penalty=l2, solver=newton-cg ..............\n",
      "[CV]  C=0.01, max_iter=100, penalty=l2, solver=newton-cg, score=0.748, total=   0.0s\n",
      "[CV] C=0.01, max_iter=100, penalty=l2, solver=newton-cg ..............\n",
      "[CV]  C=0.01, max_iter=100, penalty=l2, solver=newton-cg, score=0.749, total=   0.0s\n",
      "[CV] C=0.01, max_iter=100, penalty=l2, solver=newton-cg ..............\n",
      "[CV]  C=0.01, max_iter=100, penalty=l2, solver=newton-cg, score=0.749, total=   0.0s\n",
      "[CV] C=0.01, max_iter=100, penalty=l2, solver=lbfgs ..................\n",
      "[CV]  C=0.01, max_iter=100, penalty=l2, solver=lbfgs, score=0.749, total=   0.0s\n",
      "[CV] C=0.01, max_iter=100, penalty=l2, solver=lbfgs ..................\n",
      "[CV]  C=0.01, max_iter=100, penalty=l2, solver=lbfgs, score=0.749, total=   0.0s\n",
      "[CV] C=0.01, max_iter=100, penalty=l2, solver=lbfgs ..................\n",
      "[CV]  C=0.01, max_iter=100, penalty=l2, solver=lbfgs, score=0.748, total=   0.0s\n",
      "[CV] C=0.01, max_iter=100, penalty=l2, solver=lbfgs ..................\n",
      "[CV]  C=0.01, max_iter=100, penalty=l2, solver=lbfgs, score=0.749, total=   0.0s\n",
      "[CV] C=0.01, max_iter=100, penalty=l2, solver=lbfgs ..................\n",
      "[CV]  C=0.01, max_iter=100, penalty=l2, solver=lbfgs, score=0.749, total=   0.0s\n",
      "[CV] C=0.01, max_iter=100, penalty=l2, solver=liblinear ..............\n",
      "[CV]  C=0.01, max_iter=100, penalty=l2, solver=liblinear, score=0.749, total=   0.0s\n",
      "[CV] C=0.01, max_iter=100, penalty=l2, solver=liblinear ..............\n",
      "[CV]  C=0.01, max_iter=100, penalty=l2, solver=liblinear, score=0.749, total=   0.0s\n",
      "[CV] C=0.01, max_iter=100, penalty=l2, solver=liblinear ..............\n",
      "[CV]  C=0.01, max_iter=100, penalty=l2, solver=liblinear, score=0.748, total=   0.0s\n",
      "[CV] C=0.01, max_iter=100, penalty=l2, solver=liblinear ..............\n",
      "[CV]  C=0.01, max_iter=100, penalty=l2, solver=liblinear, score=0.749, total=   0.0s\n",
      "[CV] C=0.01, max_iter=100, penalty=l2, solver=liblinear ..............\n",
      "[CV]  C=0.01, max_iter=100, penalty=l2, solver=liblinear, score=0.749, total=   0.0s\n",
      "[CV] C=0.01, max_iter=100, penalty=l2, solver=sag ....................\n",
      "[CV]  C=0.01, max_iter=100, penalty=l2, solver=sag, score=0.749, total=   0.0s\n",
      "[CV] C=0.01, max_iter=100, penalty=l2, solver=sag ....................\n",
      "[CV]  C=0.01, max_iter=100, penalty=l2, solver=sag, score=0.749, total=   0.0s\n",
      "[CV] C=0.01, max_iter=100, penalty=l2, solver=sag ....................\n",
      "[CV]  C=0.01, max_iter=100, penalty=l2, solver=sag, score=0.748, total=   0.0s\n",
      "[CV] C=0.01, max_iter=100, penalty=l2, solver=sag ....................\n",
      "[CV]  C=0.01, max_iter=100, penalty=l2, solver=sag, score=0.749, total=   0.0s\n",
      "[CV] C=0.01, max_iter=100, penalty=l2, solver=sag ....................\n",
      "[CV]  C=0.01, max_iter=100, penalty=l2, solver=sag, score=0.749, total=   0.0s\n",
      "[CV] C=0.01, max_iter=100, penalty=l2, solver=saga ...................\n",
      "[CV]  C=0.01, max_iter=100, penalty=l2, solver=saga, score=0.749, total=   0.0s\n",
      "[CV] C=0.01, max_iter=100, penalty=l2, solver=saga ...................\n",
      "[CV]  C=0.01, max_iter=100, penalty=l2, solver=saga, score=0.749, total=   0.0s\n",
      "[CV] C=0.01, max_iter=100, penalty=l2, solver=saga ...................\n",
      "[CV]  C=0.01, max_iter=100, penalty=l2, solver=saga, score=0.748, total=   0.0s\n",
      "[CV] C=0.01, max_iter=100, penalty=l2, solver=saga ...................\n",
      "[CV]  C=0.01, max_iter=100, penalty=l2, solver=saga, score=0.749, total=   0.0s\n",
      "[CV] C=0.01, max_iter=100, penalty=l2, solver=saga ...................\n",
      "[CV]  C=0.01, max_iter=100, penalty=l2, solver=saga, score=0.749, total=   0.0s\n",
      "[CV] C=0.01, max_iter=200, penalty=l1, solver=newton-cg ..............\n",
      "[CV]  C=0.01, max_iter=200, penalty=l1, solver=newton-cg, score=nan, total=   0.0s\n",
      "[CV] C=0.01, max_iter=200, penalty=l1, solver=newton-cg ..............\n",
      "[CV]  C=0.01, max_iter=200, penalty=l1, solver=newton-cg, score=nan, total=   0.0s\n",
      "[CV] C=0.01, max_iter=200, penalty=l1, solver=newton-cg ..............\n",
      "[CV]  C=0.01, max_iter=200, penalty=l1, solver=newton-cg, score=nan, total=   0.0s\n",
      "[CV] C=0.01, max_iter=200, penalty=l1, solver=newton-cg ..............\n",
      "[CV]  C=0.01, max_iter=200, penalty=l1, solver=newton-cg, score=nan, total=   0.0s\n",
      "[CV] C=0.01, max_iter=200, penalty=l1, solver=newton-cg ..............\n",
      "[CV]  C=0.01, max_iter=200, penalty=l1, solver=newton-cg, score=nan, total=   0.0s\n",
      "[CV] C=0.01, max_iter=200, penalty=l1, solver=lbfgs ..................\n",
      "[CV]  C=0.01, max_iter=200, penalty=l1, solver=lbfgs, score=nan, total=   0.0s\n",
      "[CV] C=0.01, max_iter=200, penalty=l1, solver=lbfgs ..................\n",
      "[CV]  C=0.01, max_iter=200, penalty=l1, solver=lbfgs, score=nan, total=   0.0s\n",
      "[CV] C=0.01, max_iter=200, penalty=l1, solver=lbfgs ..................\n",
      "[CV]  C=0.01, max_iter=200, penalty=l1, solver=lbfgs, score=nan, total=   0.0s\n",
      "[CV] C=0.01, max_iter=200, penalty=l1, solver=lbfgs ..................\n",
      "[CV]  C=0.01, max_iter=200, penalty=l1, solver=lbfgs, score=nan, total=   0.0s\n",
      "[CV] C=0.01, max_iter=200, penalty=l1, solver=lbfgs ..................\n",
      "[CV]  C=0.01, max_iter=200, penalty=l1, solver=lbfgs, score=nan, total=   0.0s\n",
      "[CV] C=0.01, max_iter=200, penalty=l1, solver=liblinear ..............\n",
      "[CV]  C=0.01, max_iter=200, penalty=l1, solver=liblinear, score=0.749, total=   0.0s\n",
      "[CV] C=0.01, max_iter=200, penalty=l1, solver=liblinear ..............\n",
      "[CV]  C=0.01, max_iter=200, penalty=l1, solver=liblinear, score=0.749, total=   0.0s\n",
      "[CV] C=0.01, max_iter=200, penalty=l1, solver=liblinear ..............\n",
      "[CV]  C=0.01, max_iter=200, penalty=l1, solver=liblinear, score=0.748, total=   0.0s\n",
      "[CV] C=0.01, max_iter=200, penalty=l1, solver=liblinear ..............\n",
      "[CV]  C=0.01, max_iter=200, penalty=l1, solver=liblinear, score=0.749, total=   0.0s\n",
      "[CV] C=0.01, max_iter=200, penalty=l1, solver=liblinear ..............\n",
      "[CV]  C=0.01, max_iter=200, penalty=l1, solver=liblinear, score=0.749, total=   0.0s\n",
      "[CV] C=0.01, max_iter=200, penalty=l1, solver=sag ....................\n",
      "[CV]  C=0.01, max_iter=200, penalty=l1, solver=sag, score=nan, total=   0.0s\n",
      "[CV] C=0.01, max_iter=200, penalty=l1, solver=sag ....................\n",
      "[CV]  C=0.01, max_iter=200, penalty=l1, solver=sag, score=nan, total=   0.0s\n",
      "[CV] C=0.01, max_iter=200, penalty=l1, solver=sag ....................\n",
      "[CV]  C=0.01, max_iter=200, penalty=l1, solver=sag, score=nan, total=   0.0s\n",
      "[CV] C=0.01, max_iter=200, penalty=l1, solver=sag ....................\n",
      "[CV]  C=0.01, max_iter=200, penalty=l1, solver=sag, score=nan, total=   0.0s\n",
      "[CV] C=0.01, max_iter=200, penalty=l1, solver=sag ....................\n",
      "[CV]  C=0.01, max_iter=200, penalty=l1, solver=sag, score=nan, total=   0.0s\n",
      "[CV] C=0.01, max_iter=200, penalty=l1, solver=saga ...................\n",
      "[CV]  C=0.01, max_iter=200, penalty=l1, solver=saga, score=0.749, total=   0.0s\n",
      "[CV] C=0.01, max_iter=200, penalty=l1, solver=saga ...................\n",
      "[CV]  C=0.01, max_iter=200, penalty=l1, solver=saga, score=0.749, total=   0.0s\n",
      "[CV] C=0.01, max_iter=200, penalty=l1, solver=saga ...................\n",
      "[CV]  C=0.01, max_iter=200, penalty=l1, solver=saga, score=0.748, total=   0.0s\n",
      "[CV] C=0.01, max_iter=200, penalty=l1, solver=saga ...................\n",
      "[CV]  C=0.01, max_iter=200, penalty=l1, solver=saga, score=0.749, total=   0.0s\n",
      "[CV] C=0.01, max_iter=200, penalty=l1, solver=saga ...................\n",
      "[CV]  C=0.01, max_iter=200, penalty=l1, solver=saga, score=0.749, total=   0.0s\n",
      "[CV] C=0.01, max_iter=200, penalty=l2, solver=newton-cg ..............\n",
      "[CV]  C=0.01, max_iter=200, penalty=l2, solver=newton-cg, score=0.749, total=   0.0s\n",
      "[CV] C=0.01, max_iter=200, penalty=l2, solver=newton-cg ..............\n",
      "[CV]  C=0.01, max_iter=200, penalty=l2, solver=newton-cg, score=0.749, total=   0.0s\n",
      "[CV] C=0.01, max_iter=200, penalty=l2, solver=newton-cg ..............\n",
      "[CV]  C=0.01, max_iter=200, penalty=l2, solver=newton-cg, score=0.748, total=   0.0s\n",
      "[CV] C=0.01, max_iter=200, penalty=l2, solver=newton-cg ..............\n"
     ]
    },
    {
     "name": "stderr",
     "output_type": "stream",
     "text": [
      "C:\\Users\\hanie\\anaconda3\\lib\\site-packages\\sklearn\\model_selection\\_validation.py:548: FitFailedWarning: Estimator fit failed. The score on this train-test partition for these parameters will be set to nan. Details: \n",
      "Traceback (most recent call last):\n",
      "  File \"C:\\Users\\hanie\\anaconda3\\lib\\site-packages\\sklearn\\model_selection\\_validation.py\", line 531, in _fit_and_score\n",
      "    estimator.fit(X_train, y_train, **fit_params)\n",
      "  File \"C:\\Users\\hanie\\anaconda3\\lib\\site-packages\\sklearn\\linear_model\\_logistic.py\", line 1304, in fit\n",
      "    solver = _check_solver(self.solver, self.penalty, self.dual)\n",
      "  File \"C:\\Users\\hanie\\anaconda3\\lib\\site-packages\\sklearn\\linear_model\\_logistic.py\", line 442, in _check_solver\n",
      "    raise ValueError(\"Solver %s supports only 'l2' or 'none' penalties, \"\n",
      "ValueError: Solver newton-cg supports only 'l2' or 'none' penalties, got l1 penalty.\n",
      "\n",
      "  warnings.warn(\"Estimator fit failed. The score on this train-test\"\n",
      "C:\\Users\\hanie\\anaconda3\\lib\\site-packages\\sklearn\\model_selection\\_validation.py:548: FitFailedWarning: Estimator fit failed. The score on this train-test partition for these parameters will be set to nan. Details: \n",
      "Traceback (most recent call last):\n",
      "  File \"C:\\Users\\hanie\\anaconda3\\lib\\site-packages\\sklearn\\model_selection\\_validation.py\", line 531, in _fit_and_score\n",
      "    estimator.fit(X_train, y_train, **fit_params)\n",
      "  File \"C:\\Users\\hanie\\anaconda3\\lib\\site-packages\\sklearn\\linear_model\\_logistic.py\", line 1304, in fit\n",
      "    solver = _check_solver(self.solver, self.penalty, self.dual)\n",
      "  File \"C:\\Users\\hanie\\anaconda3\\lib\\site-packages\\sklearn\\linear_model\\_logistic.py\", line 442, in _check_solver\n",
      "    raise ValueError(\"Solver %s supports only 'l2' or 'none' penalties, \"\n",
      "ValueError: Solver lbfgs supports only 'l2' or 'none' penalties, got l1 penalty.\n",
      "\n",
      "  warnings.warn(\"Estimator fit failed. The score on this train-test\"\n",
      "C:\\Users\\hanie\\anaconda3\\lib\\site-packages\\sklearn\\model_selection\\_validation.py:548: FitFailedWarning: Estimator fit failed. The score on this train-test partition for these parameters will be set to nan. Details: \n",
      "Traceback (most recent call last):\n",
      "  File \"C:\\Users\\hanie\\anaconda3\\lib\\site-packages\\sklearn\\model_selection\\_validation.py\", line 531, in _fit_and_score\n",
      "    estimator.fit(X_train, y_train, **fit_params)\n",
      "  File \"C:\\Users\\hanie\\anaconda3\\lib\\site-packages\\sklearn\\linear_model\\_logistic.py\", line 1304, in fit\n",
      "    solver = _check_solver(self.solver, self.penalty, self.dual)\n",
      "  File \"C:\\Users\\hanie\\anaconda3\\lib\\site-packages\\sklearn\\linear_model\\_logistic.py\", line 442, in _check_solver\n",
      "    raise ValueError(\"Solver %s supports only 'l2' or 'none' penalties, \"\n",
      "ValueError: Solver sag supports only 'l2' or 'none' penalties, got l1 penalty.\n",
      "\n",
      "  warnings.warn(\"Estimator fit failed. The score on this train-test\"\n"
     ]
    },
    {
     "name": "stdout",
     "output_type": "stream",
     "text": [
      "[CV]  C=0.01, max_iter=200, penalty=l2, solver=newton-cg, score=0.749, total=   0.0s\n",
      "[CV] C=0.01, max_iter=200, penalty=l2, solver=newton-cg ..............\n",
      "[CV]  C=0.01, max_iter=200, penalty=l2, solver=newton-cg, score=0.749, total=   0.0s\n",
      "[CV] C=0.01, max_iter=200, penalty=l2, solver=lbfgs ..................\n",
      "[CV]  C=0.01, max_iter=200, penalty=l2, solver=lbfgs, score=0.749, total=   0.0s\n",
      "[CV] C=0.01, max_iter=200, penalty=l2, solver=lbfgs ..................\n",
      "[CV]  C=0.01, max_iter=200, penalty=l2, solver=lbfgs, score=0.749, total=   0.0s\n",
      "[CV] C=0.01, max_iter=200, penalty=l2, solver=lbfgs ..................\n",
      "[CV]  C=0.01, max_iter=200, penalty=l2, solver=lbfgs, score=0.748, total=   0.0s\n",
      "[CV] C=0.01, max_iter=200, penalty=l2, solver=lbfgs ..................\n",
      "[CV]  C=0.01, max_iter=200, penalty=l2, solver=lbfgs, score=0.749, total=   0.0s\n",
      "[CV] C=0.01, max_iter=200, penalty=l2, solver=lbfgs ..................\n",
      "[CV]  C=0.01, max_iter=200, penalty=l2, solver=lbfgs, score=0.749, total=   0.0s\n",
      "[CV] C=0.01, max_iter=200, penalty=l2, solver=liblinear ..............\n",
      "[CV]  C=0.01, max_iter=200, penalty=l2, solver=liblinear, score=0.749, total=   0.0s\n",
      "[CV] C=0.01, max_iter=200, penalty=l2, solver=liblinear ..............\n",
      "[CV]  C=0.01, max_iter=200, penalty=l2, solver=liblinear, score=0.749, total=   0.0s\n",
      "[CV] C=0.01, max_iter=200, penalty=l2, solver=liblinear ..............\n",
      "[CV]  C=0.01, max_iter=200, penalty=l2, solver=liblinear, score=0.748, total=   0.0s\n",
      "[CV] C=0.01, max_iter=200, penalty=l2, solver=liblinear ..............\n",
      "[CV]  C=0.01, max_iter=200, penalty=l2, solver=liblinear, score=0.749, total=   0.0s\n",
      "[CV] C=0.01, max_iter=200, penalty=l2, solver=liblinear ..............\n",
      "[CV]  C=0.01, max_iter=200, penalty=l2, solver=liblinear, score=0.749, total=   0.0s\n",
      "[CV] C=0.01, max_iter=200, penalty=l2, solver=sag ....................\n",
      "[CV]  C=0.01, max_iter=200, penalty=l2, solver=sag, score=0.749, total=   0.0s\n",
      "[CV] C=0.01, max_iter=200, penalty=l2, solver=sag ....................\n",
      "[CV]  C=0.01, max_iter=200, penalty=l2, solver=sag, score=0.749, total=   0.0s\n",
      "[CV] C=0.01, max_iter=200, penalty=l2, solver=sag ....................\n",
      "[CV]  C=0.01, max_iter=200, penalty=l2, solver=sag, score=0.748, total=   0.0s\n",
      "[CV] C=0.01, max_iter=200, penalty=l2, solver=sag ....................\n",
      "[CV]  C=0.01, max_iter=200, penalty=l2, solver=sag, score=0.749, total=   0.0s\n",
      "[CV] C=0.01, max_iter=200, penalty=l2, solver=sag ....................\n",
      "[CV]  C=0.01, max_iter=200, penalty=l2, solver=sag, score=0.749, total=   0.0s\n",
      "[CV] C=0.01, max_iter=200, penalty=l2, solver=saga ...................\n",
      "[CV]  C=0.01, max_iter=200, penalty=l2, solver=saga, score=0.749, total=   0.0s\n",
      "[CV] C=0.01, max_iter=200, penalty=l2, solver=saga ...................\n",
      "[CV]  C=0.01, max_iter=200, penalty=l2, solver=saga, score=0.749, total=   0.0s\n",
      "[CV] C=0.01, max_iter=200, penalty=l2, solver=saga ...................\n",
      "[CV]  C=0.01, max_iter=200, penalty=l2, solver=saga, score=0.748, total=   0.0s\n",
      "[CV] C=0.01, max_iter=200, penalty=l2, solver=saga ...................\n",
      "[CV]  C=0.01, max_iter=200, penalty=l2, solver=saga, score=0.749, total=   0.0s\n",
      "[CV] C=0.01, max_iter=200, penalty=l2, solver=saga ...................\n",
      "[CV]  C=0.01, max_iter=200, penalty=l2, solver=saga, score=0.749, total=   0.0s\n",
      "[CV] C=0.01, max_iter=300, penalty=l1, solver=newton-cg ..............\n",
      "[CV]  C=0.01, max_iter=300, penalty=l1, solver=newton-cg, score=nan, total=   0.0s\n",
      "[CV] C=0.01, max_iter=300, penalty=l1, solver=newton-cg ..............\n",
      "[CV]  C=0.01, max_iter=300, penalty=l1, solver=newton-cg, score=nan, total=   0.0s\n",
      "[CV] C=0.01, max_iter=300, penalty=l1, solver=newton-cg ..............\n",
      "[CV]  C=0.01, max_iter=300, penalty=l1, solver=newton-cg, score=nan, total=   0.0s\n",
      "[CV] C=0.01, max_iter=300, penalty=l1, solver=newton-cg ..............\n",
      "[CV]  C=0.01, max_iter=300, penalty=l1, solver=newton-cg, score=nan, total=   0.0s\n",
      "[CV] C=0.01, max_iter=300, penalty=l1, solver=newton-cg ..............\n",
      "[CV]  C=0.01, max_iter=300, penalty=l1, solver=newton-cg, score=nan, total=   0.0s\n",
      "[CV] C=0.01, max_iter=300, penalty=l1, solver=lbfgs ..................\n",
      "[CV]  C=0.01, max_iter=300, penalty=l1, solver=lbfgs, score=nan, total=   0.0s\n",
      "[CV] C=0.01, max_iter=300, penalty=l1, solver=lbfgs ..................\n",
      "[CV]  C=0.01, max_iter=300, penalty=l1, solver=lbfgs, score=nan, total=   0.0s\n",
      "[CV] C=0.01, max_iter=300, penalty=l1, solver=lbfgs ..................\n",
      "[CV]  C=0.01, max_iter=300, penalty=l1, solver=lbfgs, score=nan, total=   0.0s\n",
      "[CV] C=0.01, max_iter=300, penalty=l1, solver=lbfgs ..................\n",
      "[CV]  C=0.01, max_iter=300, penalty=l1, solver=lbfgs, score=nan, total=   0.0s\n",
      "[CV] C=0.01, max_iter=300, penalty=l1, solver=lbfgs ..................\n",
      "[CV]  C=0.01, max_iter=300, penalty=l1, solver=lbfgs, score=nan, total=   0.0s\n",
      "[CV] C=0.01, max_iter=300, penalty=l1, solver=liblinear ..............\n",
      "[CV]  C=0.01, max_iter=300, penalty=l1, solver=liblinear, score=0.749, total=   0.0s\n",
      "[CV] C=0.01, max_iter=300, penalty=l1, solver=liblinear ..............\n",
      "[CV]  C=0.01, max_iter=300, penalty=l1, solver=liblinear, score=0.749, total=   0.0s\n",
      "[CV] C=0.01, max_iter=300, penalty=l1, solver=liblinear ..............\n",
      "[CV]  C=0.01, max_iter=300, penalty=l1, solver=liblinear, score=0.748, total=   0.0s\n",
      "[CV] C=0.01, max_iter=300, penalty=l1, solver=liblinear ..............\n",
      "[CV]  C=0.01, max_iter=300, penalty=l1, solver=liblinear, score=0.749, total=   0.0s\n",
      "[CV] C=0.01, max_iter=300, penalty=l1, solver=liblinear ..............\n",
      "[CV]  C=0.01, max_iter=300, penalty=l1, solver=liblinear, score=0.749, total=   0.0s\n",
      "[CV] C=0.01, max_iter=300, penalty=l1, solver=sag ....................\n",
      "[CV]  C=0.01, max_iter=300, penalty=l1, solver=sag, score=nan, total=   0.0s\n",
      "[CV] C=0.01, max_iter=300, penalty=l1, solver=sag ....................\n",
      "[CV]  C=0.01, max_iter=300, penalty=l1, solver=sag, score=nan, total=   0.0s\n",
      "[CV] C=0.01, max_iter=300, penalty=l1, solver=sag ....................\n",
      "[CV]  C=0.01, max_iter=300, penalty=l1, solver=sag, score=nan, total=   0.0s\n",
      "[CV] C=0.01, max_iter=300, penalty=l1, solver=sag ....................\n",
      "[CV]  C=0.01, max_iter=300, penalty=l1, solver=sag, score=nan, total=   0.0s\n",
      "[CV] C=0.01, max_iter=300, penalty=l1, solver=sag ....................\n",
      "[CV]  C=0.01, max_iter=300, penalty=l1, solver=sag, score=nan, total=   0.0s\n",
      "[CV] C=0.01, max_iter=300, penalty=l1, solver=saga ...................\n",
      "[CV]  C=0.01, max_iter=300, penalty=l1, solver=saga, score=0.749, total=   0.0s\n",
      "[CV] C=0.01, max_iter=300, penalty=l1, solver=saga ...................\n",
      "[CV]  C=0.01, max_iter=300, penalty=l1, solver=saga, score=0.749, total=   0.0s"
     ]
    },
    {
     "name": "stderr",
     "output_type": "stream",
     "text": [
      "C:\\Users\\hanie\\anaconda3\\lib\\site-packages\\sklearn\\model_selection\\_validation.py:548: FitFailedWarning: Estimator fit failed. The score on this train-test partition for these parameters will be set to nan. Details: \n",
      "Traceback (most recent call last):\n",
      "  File \"C:\\Users\\hanie\\anaconda3\\lib\\site-packages\\sklearn\\model_selection\\_validation.py\", line 531, in _fit_and_score\n",
      "    estimator.fit(X_train, y_train, **fit_params)\n",
      "  File \"C:\\Users\\hanie\\anaconda3\\lib\\site-packages\\sklearn\\linear_model\\_logistic.py\", line 1304, in fit\n",
      "    solver = _check_solver(self.solver, self.penalty, self.dual)\n",
      "  File \"C:\\Users\\hanie\\anaconda3\\lib\\site-packages\\sklearn\\linear_model\\_logistic.py\", line 442, in _check_solver\n",
      "    raise ValueError(\"Solver %s supports only 'l2' or 'none' penalties, \"\n",
      "ValueError: Solver newton-cg supports only 'l2' or 'none' penalties, got l1 penalty.\n",
      "\n",
      "  warnings.warn(\"Estimator fit failed. The score on this train-test\"\n",
      "C:\\Users\\hanie\\anaconda3\\lib\\site-packages\\sklearn\\model_selection\\_validation.py:548: FitFailedWarning: Estimator fit failed. The score on this train-test partition for these parameters will be set to nan. Details: \n",
      "Traceback (most recent call last):\n",
      "  File \"C:\\Users\\hanie\\anaconda3\\lib\\site-packages\\sklearn\\model_selection\\_validation.py\", line 531, in _fit_and_score\n",
      "    estimator.fit(X_train, y_train, **fit_params)\n",
      "  File \"C:\\Users\\hanie\\anaconda3\\lib\\site-packages\\sklearn\\linear_model\\_logistic.py\", line 1304, in fit\n",
      "    solver = _check_solver(self.solver, self.penalty, self.dual)\n",
      "  File \"C:\\Users\\hanie\\anaconda3\\lib\\site-packages\\sklearn\\linear_model\\_logistic.py\", line 442, in _check_solver\n",
      "    raise ValueError(\"Solver %s supports only 'l2' or 'none' penalties, \"\n",
      "ValueError: Solver lbfgs supports only 'l2' or 'none' penalties, got l1 penalty.\n",
      "\n",
      "  warnings.warn(\"Estimator fit failed. The score on this train-test\"\n",
      "C:\\Users\\hanie\\anaconda3\\lib\\site-packages\\sklearn\\model_selection\\_validation.py:548: FitFailedWarning: Estimator fit failed. The score on this train-test partition for these parameters will be set to nan. Details: \n",
      "Traceback (most recent call last):\n",
      "  File \"C:\\Users\\hanie\\anaconda3\\lib\\site-packages\\sklearn\\model_selection\\_validation.py\", line 531, in _fit_and_score\n",
      "    estimator.fit(X_train, y_train, **fit_params)\n",
      "  File \"C:\\Users\\hanie\\anaconda3\\lib\\site-packages\\sklearn\\linear_model\\_logistic.py\", line 1304, in fit\n",
      "    solver = _check_solver(self.solver, self.penalty, self.dual)\n",
      "  File \"C:\\Users\\hanie\\anaconda3\\lib\\site-packages\\sklearn\\linear_model\\_logistic.py\", line 442, in _check_solver\n",
      "    raise ValueError(\"Solver %s supports only 'l2' or 'none' penalties, \"\n",
      "ValueError: Solver sag supports only 'l2' or 'none' penalties, got l1 penalty.\n",
      "\n",
      "  warnings.warn(\"Estimator fit failed. The score on this train-test\"\n"
     ]
    },
    {
     "name": "stdout",
     "output_type": "stream",
     "text": [
      "\n",
      "[CV] C=0.01, max_iter=300, penalty=l1, solver=saga ...................\n",
      "[CV]  C=0.01, max_iter=300, penalty=l1, solver=saga, score=0.748, total=   0.0s\n",
      "[CV] C=0.01, max_iter=300, penalty=l1, solver=saga ...................\n",
      "[CV]  C=0.01, max_iter=300, penalty=l1, solver=saga, score=0.749, total=   0.0s\n",
      "[CV] C=0.01, max_iter=300, penalty=l1, solver=saga ...................\n",
      "[CV]  C=0.01, max_iter=300, penalty=l1, solver=saga, score=0.749, total=   0.0s\n",
      "[CV] C=0.01, max_iter=300, penalty=l2, solver=newton-cg ..............\n",
      "[CV]  C=0.01, max_iter=300, penalty=l2, solver=newton-cg, score=0.749, total=   0.0s\n",
      "[CV] C=0.01, max_iter=300, penalty=l2, solver=newton-cg ..............\n",
      "[CV]  C=0.01, max_iter=300, penalty=l2, solver=newton-cg, score=0.749, total=   0.0s\n",
      "[CV] C=0.01, max_iter=300, penalty=l2, solver=newton-cg ..............\n",
      "[CV]  C=0.01, max_iter=300, penalty=l2, solver=newton-cg, score=0.748, total=   0.0s\n",
      "[CV] C=0.01, max_iter=300, penalty=l2, solver=newton-cg ..............\n",
      "[CV]  C=0.01, max_iter=300, penalty=l2, solver=newton-cg, score=0.749, total=   0.0s\n",
      "[CV] C=0.01, max_iter=300, penalty=l2, solver=newton-cg ..............\n",
      "[CV]  C=0.01, max_iter=300, penalty=l2, solver=newton-cg, score=0.749, total=   0.0s\n",
      "[CV] C=0.01, max_iter=300, penalty=l2, solver=lbfgs ..................\n",
      "[CV]  C=0.01, max_iter=300, penalty=l2, solver=lbfgs, score=0.749, total=   0.0s\n",
      "[CV] C=0.01, max_iter=300, penalty=l2, solver=lbfgs ..................\n",
      "[CV]  C=0.01, max_iter=300, penalty=l2, solver=lbfgs, score=0.749, total=   0.0s\n",
      "[CV] C=0.01, max_iter=300, penalty=l2, solver=lbfgs ..................\n",
      "[CV]  C=0.01, max_iter=300, penalty=l2, solver=lbfgs, score=0.748, total=   0.0s\n",
      "[CV] C=0.01, max_iter=300, penalty=l2, solver=lbfgs ..................\n",
      "[CV]  C=0.01, max_iter=300, penalty=l2, solver=lbfgs, score=0.749, total=   0.0s\n",
      "[CV] C=0.01, max_iter=300, penalty=l2, solver=lbfgs ..................\n",
      "[CV]  C=0.01, max_iter=300, penalty=l2, solver=lbfgs, score=0.749, total=   0.0s\n",
      "[CV] C=0.01, max_iter=300, penalty=l2, solver=liblinear ..............\n",
      "[CV]  C=0.01, max_iter=300, penalty=l2, solver=liblinear, score=0.749, total=   0.0s\n",
      "[CV] C=0.01, max_iter=300, penalty=l2, solver=liblinear ..............\n",
      "[CV]  C=0.01, max_iter=300, penalty=l2, solver=liblinear, score=0.749, total=   0.0s\n",
      "[CV] C=0.01, max_iter=300, penalty=l2, solver=liblinear ..............\n",
      "[CV]  C=0.01, max_iter=300, penalty=l2, solver=liblinear, score=0.748, total=   0.0s\n",
      "[CV] C=0.01, max_iter=300, penalty=l2, solver=liblinear ..............\n",
      "[CV]  C=0.01, max_iter=300, penalty=l2, solver=liblinear, score=0.749, total=   0.0s\n",
      "[CV] C=0.01, max_iter=300, penalty=l2, solver=liblinear ..............\n",
      "[CV]  C=0.01, max_iter=300, penalty=l2, solver=liblinear, score=0.749, total=   0.0s\n",
      "[CV] C=0.01, max_iter=300, penalty=l2, solver=sag ....................\n",
      "[CV]  C=0.01, max_iter=300, penalty=l2, solver=sag, score=0.749, total=   0.0s\n",
      "[CV] C=0.01, max_iter=300, penalty=l2, solver=sag ....................\n",
      "[CV]  C=0.01, max_iter=300, penalty=l2, solver=sag, score=0.749, total=   0.0s\n",
      "[CV] C=0.01, max_iter=300, penalty=l2, solver=sag ....................\n",
      "[CV]  C=0.01, max_iter=300, penalty=l2, solver=sag, score=0.748, total=   0.0s\n",
      "[CV] C=0.01, max_iter=300, penalty=l2, solver=sag ....................\n",
      "[CV]  C=0.01, max_iter=300, penalty=l2, solver=sag, score=0.749, total=   0.0s\n",
      "[CV] C=0.01, max_iter=300, penalty=l2, solver=sag ....................\n",
      "[CV]  C=0.01, max_iter=300, penalty=l2, solver=sag, score=0.749, total=   0.0s\n",
      "[CV] C=0.01, max_iter=300, penalty=l2, solver=saga ...................\n",
      "[CV]  C=0.01, max_iter=300, penalty=l2, solver=saga, score=0.749, total=   0.0s\n",
      "[CV] C=0.01, max_iter=300, penalty=l2, solver=saga ...................\n",
      "[CV]  C=0.01, max_iter=300, penalty=l2, solver=saga, score=0.749, total=   0.0s\n",
      "[CV] C=0.01, max_iter=300, penalty=l2, solver=saga ...................\n",
      "[CV]  C=0.01, max_iter=300, penalty=l2, solver=saga, score=0.748, total=   0.0s\n",
      "[CV] C=0.01, max_iter=300, penalty=l2, solver=saga ...................\n",
      "[CV]  C=0.01, max_iter=300, penalty=l2, solver=saga, score=0.749, total=   0.0s\n",
      "[CV] C=0.01, max_iter=300, penalty=l2, solver=saga ...................\n",
      "[CV]  C=0.01, max_iter=300, penalty=l2, solver=saga, score=0.749, total=   0.0s\n",
      "[CV] C=0.01, max_iter=400, penalty=l1, solver=newton-cg ..............\n",
      "[CV]  C=0.01, max_iter=400, penalty=l1, solver=newton-cg, score=nan, total=   0.0s\n",
      "[CV] C=0.01, max_iter=400, penalty=l1, solver=newton-cg ..............\n",
      "[CV]  C=0.01, max_iter=400, penalty=l1, solver=newton-cg, score=nan, total=   0.0s\n",
      "[CV] C=0.01, max_iter=400, penalty=l1, solver=newton-cg ..............\n",
      "[CV]  C=0.01, max_iter=400, penalty=l1, solver=newton-cg, score=nan, total=   0.0s\n",
      "[CV] C=0.01, max_iter=400, penalty=l1, solver=newton-cg ..............\n",
      "[CV]  C=0.01, max_iter=400, penalty=l1, solver=newton-cg, score=nan, total=   0.0s\n",
      "[CV] C=0.01, max_iter=400, penalty=l1, solver=newton-cg ..............\n",
      "[CV]  C=0.01, max_iter=400, penalty=l1, solver=newton-cg, score=nan, total=   0.0s\n",
      "[CV] C=0.01, max_iter=400, penalty=l1, solver=lbfgs ..................\n",
      "[CV]  C=0.01, max_iter=400, penalty=l1, solver=lbfgs, score=nan, total=   0.0s\n",
      "[CV] C=0.01, max_iter=400, penalty=l1, solver=lbfgs ..................\n",
      "[CV]  C=0.01, max_iter=400, penalty=l1, solver=lbfgs, score=nan, total=   0.0s\n",
      "[CV] C=0.01, max_iter=400, penalty=l1, solver=lbfgs ..................\n",
      "[CV]  C=0.01, max_iter=400, penalty=l1, solver=lbfgs, score=nan, total=   0.0s\n",
      "[CV] C=0.01, max_iter=400, penalty=l1, solver=lbfgs ..................\n",
      "[CV]  C=0.01, max_iter=400, penalty=l1, solver=lbfgs, score=nan, total=   0.0s\n",
      "[CV] C=0.01, max_iter=400, penalty=l1, solver=lbfgs ..................\n",
      "[CV]  C=0.01, max_iter=400, penalty=l1, solver=lbfgs, score=nan, total=   0.0s\n",
      "[CV] C=0.01, max_iter=400, penalty=l1, solver=liblinear ..............\n",
      "[CV]  C=0.01, max_iter=400, penalty=l1, solver=liblinear, score=0.749, total=   0.0s\n",
      "[CV] C=0.01, max_iter=400, penalty=l1, solver=liblinear ..............\n",
      "[CV]  C=0.01, max_iter=400, penalty=l1, solver=liblinear, score=0.749, total=   0.0s\n",
      "[CV] C=0.01, max_iter=400, penalty=l1, solver=liblinear ..............\n",
      "[CV]  C=0.01, max_iter=400, penalty=l1, solver=liblinear, score=0.748, total=   0.0s\n",
      "[CV] C=0.01, max_iter=400, penalty=l1, solver=liblinear ..............\n",
      "[CV]  C=0.01, max_iter=400, penalty=l1, solver=liblinear, score=0.749, total=   0.0s\n",
      "[CV] C=0.01, max_iter=400, penalty=l1, solver=liblinear ..............\n",
      "[CV]  C=0.01, max_iter=400, penalty=l1, solver=liblinear, score=0.749, total=   0.0s\n",
      "[CV] C=0.01, max_iter=400, penalty=l1, solver=sag ....................\n",
      "[CV]  C=0.01, max_iter=400, penalty=l1, solver=sag, score=nan, total=   0.0s\n",
      "[CV] C=0.01, max_iter=400, penalty=l1, solver=sag ....................\n",
      "[CV]  C=0.01, max_iter=400, penalty=l1, solver=sag, score=nan, total=   0.0s\n",
      "[CV] C=0.01, max_iter=400, penalty=l1, solver=sag ....................\n",
      "[CV]  C=0.01, max_iter=400, penalty=l1, solver=sag, score=nan, total=   0.0s\n",
      "[CV] C=0.01, max_iter=400, penalty=l1, solver=sag ....................\n",
      "[CV]  C=0.01, max_iter=400, penalty=l1, solver=sag, score=nan, total=   0.0s\n",
      "[CV] C=0.01, max_iter=400, penalty=l1, solver=sag ....................\n",
      "[CV]  C=0.01, max_iter=400, penalty=l1, solver=sag, score=nan, total=   0.0s\n",
      "[CV] C=0.01, max_iter=400, penalty=l1, solver=saga ...................\n",
      "[CV]  C=0.01, max_iter=400, penalty=l1, solver=saga, score=0.749, total=   0.0s\n",
      "[CV] C=0.01, max_iter=400, penalty=l1, solver=saga ...................\n",
      "[CV]  C=0.01, max_iter=400, penalty=l1, solver=saga, score=0.749, total=   0.0s\n",
      "[CV] C=0.01, max_iter=400, penalty=l1, solver=saga ...................\n",
      "[CV]  C=0.01, max_iter=400, penalty=l1, solver=saga, score=0.748, total=   0.0s\n",
      "[CV] C=0.01, max_iter=400, penalty=l1, solver=saga ...................\n",
      "[CV]  C=0.01, max_iter=400, penalty=l1, solver=saga, score=0.749, total=   0.0s\n",
      "[CV] C=0.01, max_iter=400, penalty=l1, solver=saga ...................\n",
      "[CV]  C=0.01, max_iter=400, penalty=l1, solver=saga, score=0.749, total=   0.0s\n",
      "[CV] C=0.01, max_iter=400, penalty=l2, solver=newton-cg ..............\n",
      "[CV]  C=0.01, max_iter=400, penalty=l2, solver=newton-cg, score=0.749, total=   0.0s"
     ]
    },
    {
     "name": "stderr",
     "output_type": "stream",
     "text": [
      "C:\\Users\\hanie\\anaconda3\\lib\\site-packages\\sklearn\\model_selection\\_validation.py:548: FitFailedWarning: Estimator fit failed. The score on this train-test partition for these parameters will be set to nan. Details: \n",
      "Traceback (most recent call last):\n",
      "  File \"C:\\Users\\hanie\\anaconda3\\lib\\site-packages\\sklearn\\model_selection\\_validation.py\", line 531, in _fit_and_score\n",
      "    estimator.fit(X_train, y_train, **fit_params)\n",
      "  File \"C:\\Users\\hanie\\anaconda3\\lib\\site-packages\\sklearn\\linear_model\\_logistic.py\", line 1304, in fit\n",
      "    solver = _check_solver(self.solver, self.penalty, self.dual)\n",
      "  File \"C:\\Users\\hanie\\anaconda3\\lib\\site-packages\\sklearn\\linear_model\\_logistic.py\", line 442, in _check_solver\n",
      "    raise ValueError(\"Solver %s supports only 'l2' or 'none' penalties, \"\n",
      "ValueError: Solver newton-cg supports only 'l2' or 'none' penalties, got l1 penalty.\n",
      "\n",
      "  warnings.warn(\"Estimator fit failed. The score on this train-test\"\n",
      "C:\\Users\\hanie\\anaconda3\\lib\\site-packages\\sklearn\\model_selection\\_validation.py:548: FitFailedWarning: Estimator fit failed. The score on this train-test partition for these parameters will be set to nan. Details: \n",
      "Traceback (most recent call last):\n",
      "  File \"C:\\Users\\hanie\\anaconda3\\lib\\site-packages\\sklearn\\model_selection\\_validation.py\", line 531, in _fit_and_score\n",
      "    estimator.fit(X_train, y_train, **fit_params)\n",
      "  File \"C:\\Users\\hanie\\anaconda3\\lib\\site-packages\\sklearn\\linear_model\\_logistic.py\", line 1304, in fit\n",
      "    solver = _check_solver(self.solver, self.penalty, self.dual)\n",
      "  File \"C:\\Users\\hanie\\anaconda3\\lib\\site-packages\\sklearn\\linear_model\\_logistic.py\", line 442, in _check_solver\n",
      "    raise ValueError(\"Solver %s supports only 'l2' or 'none' penalties, \"\n",
      "ValueError: Solver lbfgs supports only 'l2' or 'none' penalties, got l1 penalty.\n",
      "\n",
      "  warnings.warn(\"Estimator fit failed. The score on this train-test\"\n",
      "C:\\Users\\hanie\\anaconda3\\lib\\site-packages\\sklearn\\model_selection\\_validation.py:548: FitFailedWarning: Estimator fit failed. The score on this train-test partition for these parameters will be set to nan. Details: \n",
      "Traceback (most recent call last):\n",
      "  File \"C:\\Users\\hanie\\anaconda3\\lib\\site-packages\\sklearn\\model_selection\\_validation.py\", line 531, in _fit_and_score\n",
      "    estimator.fit(X_train, y_train, **fit_params)\n",
      "  File \"C:\\Users\\hanie\\anaconda3\\lib\\site-packages\\sklearn\\linear_model\\_logistic.py\", line 1304, in fit\n",
      "    solver = _check_solver(self.solver, self.penalty, self.dual)\n",
      "  File \"C:\\Users\\hanie\\anaconda3\\lib\\site-packages\\sklearn\\linear_model\\_logistic.py\", line 442, in _check_solver\n",
      "    raise ValueError(\"Solver %s supports only 'l2' or 'none' penalties, \"\n",
      "ValueError: Solver sag supports only 'l2' or 'none' penalties, got l1 penalty.\n",
      "\n",
      "  warnings.warn(\"Estimator fit failed. The score on this train-test\"\n"
     ]
    },
    {
     "name": "stdout",
     "output_type": "stream",
     "text": [
      "\n",
      "[CV] C=0.01, max_iter=400, penalty=l2, solver=newton-cg ..............\n",
      "[CV]  C=0.01, max_iter=400, penalty=l2, solver=newton-cg, score=0.749, total=   0.0s\n",
      "[CV] C=0.01, max_iter=400, penalty=l2, solver=newton-cg ..............\n",
      "[CV]  C=0.01, max_iter=400, penalty=l2, solver=newton-cg, score=0.748, total=   0.0s\n",
      "[CV] C=0.01, max_iter=400, penalty=l2, solver=newton-cg ..............\n",
      "[CV]  C=0.01, max_iter=400, penalty=l2, solver=newton-cg, score=0.749, total=   0.0s\n",
      "[CV] C=0.01, max_iter=400, penalty=l2, solver=newton-cg ..............\n",
      "[CV]  C=0.01, max_iter=400, penalty=l2, solver=newton-cg, score=0.749, total=   0.0s\n",
      "[CV] C=0.01, max_iter=400, penalty=l2, solver=lbfgs ..................\n",
      "[CV]  C=0.01, max_iter=400, penalty=l2, solver=lbfgs, score=0.749, total=   0.0s\n",
      "[CV] C=0.01, max_iter=400, penalty=l2, solver=lbfgs ..................\n",
      "[CV]  C=0.01, max_iter=400, penalty=l2, solver=lbfgs, score=0.749, total=   0.0s\n",
      "[CV] C=0.01, max_iter=400, penalty=l2, solver=lbfgs ..................\n",
      "[CV]  C=0.01, max_iter=400, penalty=l2, solver=lbfgs, score=0.748, total=   0.0s\n",
      "[CV] C=0.01, max_iter=400, penalty=l2, solver=lbfgs ..................\n",
      "[CV]  C=0.01, max_iter=400, penalty=l2, solver=lbfgs, score=0.749, total=   0.0s\n",
      "[CV] C=0.01, max_iter=400, penalty=l2, solver=lbfgs ..................\n",
      "[CV]  C=0.01, max_iter=400, penalty=l2, solver=lbfgs, score=0.749, total=   0.0s\n",
      "[CV] C=0.01, max_iter=400, penalty=l2, solver=liblinear ..............\n",
      "[CV]  C=0.01, max_iter=400, penalty=l2, solver=liblinear, score=0.749, total=   0.0s\n",
      "[CV] C=0.01, max_iter=400, penalty=l2, solver=liblinear ..............\n",
      "[CV]  C=0.01, max_iter=400, penalty=l2, solver=liblinear, score=0.749, total=   0.0s\n",
      "[CV] C=0.01, max_iter=400, penalty=l2, solver=liblinear ..............\n",
      "[CV]  C=0.01, max_iter=400, penalty=l2, solver=liblinear, score=0.748, total=   0.0s\n",
      "[CV] C=0.01, max_iter=400, penalty=l2, solver=liblinear ..............\n",
      "[CV]  C=0.01, max_iter=400, penalty=l2, solver=liblinear, score=0.749, total=   0.0s\n",
      "[CV] C=0.01, max_iter=400, penalty=l2, solver=liblinear ..............\n",
      "[CV]  C=0.01, max_iter=400, penalty=l2, solver=liblinear, score=0.749, total=   0.0s\n",
      "[CV] C=0.01, max_iter=400, penalty=l2, solver=sag ....................\n",
      "[CV]  C=0.01, max_iter=400, penalty=l2, solver=sag, score=0.749, total=   0.0s\n",
      "[CV] C=0.01, max_iter=400, penalty=l2, solver=sag ....................\n",
      "[CV]  C=0.01, max_iter=400, penalty=l2, solver=sag, score=0.749, total=   0.0s\n",
      "[CV] C=0.01, max_iter=400, penalty=l2, solver=sag ....................\n",
      "[CV]  C=0.01, max_iter=400, penalty=l2, solver=sag, score=0.748, total=   0.0s\n",
      "[CV] C=0.01, max_iter=400, penalty=l2, solver=sag ....................\n",
      "[CV]  C=0.01, max_iter=400, penalty=l2, solver=sag, score=0.749, total=   0.0s\n",
      "[CV] C=0.01, max_iter=400, penalty=l2, solver=sag ....................\n",
      "[CV]  C=0.01, max_iter=400, penalty=l2, solver=sag, score=0.749, total=   0.0s\n",
      "[CV] C=0.01, max_iter=400, penalty=l2, solver=saga ...................\n",
      "[CV]  C=0.01, max_iter=400, penalty=l2, solver=saga, score=0.749, total=   0.0s\n",
      "[CV] C=0.01, max_iter=400, penalty=l2, solver=saga ...................\n",
      "[CV]  C=0.01, max_iter=400, penalty=l2, solver=saga, score=0.749, total=   0.0s\n",
      "[CV] C=0.01, max_iter=400, penalty=l2, solver=saga ...................\n",
      "[CV]  C=0.01, max_iter=400, penalty=l2, solver=saga, score=0.748, total=   0.0s\n",
      "[CV] C=0.01, max_iter=400, penalty=l2, solver=saga ...................\n",
      "[CV]  C=0.01, max_iter=400, penalty=l2, solver=saga, score=0.749, total=   0.0s\n",
      "[CV] C=0.01, max_iter=400, penalty=l2, solver=saga ...................\n",
      "[CV]  C=0.01, max_iter=400, penalty=l2, solver=saga, score=0.749, total=   0.0s\n",
      "[CV] C=0.01, max_iter=500, penalty=l1, solver=newton-cg ..............\n",
      "[CV]  C=0.01, max_iter=500, penalty=l1, solver=newton-cg, score=nan, total=   0.0s\n",
      "[CV] C=0.01, max_iter=500, penalty=l1, solver=newton-cg ..............\n",
      "[CV]  C=0.01, max_iter=500, penalty=l1, solver=newton-cg, score=nan, total=   0.0s\n",
      "[CV] C=0.01, max_iter=500, penalty=l1, solver=newton-cg ..............\n",
      "[CV]  C=0.01, max_iter=500, penalty=l1, solver=newton-cg, score=nan, total=   0.0s\n",
      "[CV] C=0.01, max_iter=500, penalty=l1, solver=newton-cg ..............\n",
      "[CV]  C=0.01, max_iter=500, penalty=l1, solver=newton-cg, score=nan, total=   0.0s\n",
      "[CV] C=0.01, max_iter=500, penalty=l1, solver=newton-cg ..............\n",
      "[CV]  C=0.01, max_iter=500, penalty=l1, solver=newton-cg, score=nan, total=   0.0s\n",
      "[CV] C=0.01, max_iter=500, penalty=l1, solver=lbfgs ..................\n",
      "[CV]  C=0.01, max_iter=500, penalty=l1, solver=lbfgs, score=nan, total=   0.0s\n",
      "[CV] C=0.01, max_iter=500, penalty=l1, solver=lbfgs ..................\n",
      "[CV]  C=0.01, max_iter=500, penalty=l1, solver=lbfgs, score=nan, total=   0.0s\n",
      "[CV] C=0.01, max_iter=500, penalty=l1, solver=lbfgs ..................\n",
      "[CV]  C=0.01, max_iter=500, penalty=l1, solver=lbfgs, score=nan, total=   0.0s\n",
      "[CV] C=0.01, max_iter=500, penalty=l1, solver=lbfgs ..................\n",
      "[CV]  C=0.01, max_iter=500, penalty=l1, solver=lbfgs, score=nan, total=   0.0s\n",
      "[CV] C=0.01, max_iter=500, penalty=l1, solver=lbfgs ..................\n",
      "[CV]  C=0.01, max_iter=500, penalty=l1, solver=lbfgs, score=nan, total=   0.0s\n",
      "[CV] C=0.01, max_iter=500, penalty=l1, solver=liblinear ..............\n",
      "[CV]  C=0.01, max_iter=500, penalty=l1, solver=liblinear, score=0.749, total=   0.0s\n",
      "[CV] C=0.01, max_iter=500, penalty=l1, solver=liblinear ..............\n",
      "[CV]  C=0.01, max_iter=500, penalty=l1, solver=liblinear, score=0.749, total=   0.0s\n",
      "[CV] C=0.01, max_iter=500, penalty=l1, solver=liblinear ..............\n",
      "[CV]  C=0.01, max_iter=500, penalty=l1, solver=liblinear, score=0.748, total=   0.0s\n",
      "[CV] C=0.01, max_iter=500, penalty=l1, solver=liblinear ..............\n"
     ]
    },
    {
     "name": "stderr",
     "output_type": "stream",
     "text": [
      "C:\\Users\\hanie\\anaconda3\\lib\\site-packages\\sklearn\\model_selection\\_validation.py:548: FitFailedWarning: Estimator fit failed. The score on this train-test partition for these parameters will be set to nan. Details: \n",
      "Traceback (most recent call last):\n",
      "  File \"C:\\Users\\hanie\\anaconda3\\lib\\site-packages\\sklearn\\model_selection\\_validation.py\", line 531, in _fit_and_score\n",
      "    estimator.fit(X_train, y_train, **fit_params)\n",
      "  File \"C:\\Users\\hanie\\anaconda3\\lib\\site-packages\\sklearn\\linear_model\\_logistic.py\", line 1304, in fit\n",
      "    solver = _check_solver(self.solver, self.penalty, self.dual)\n",
      "  File \"C:\\Users\\hanie\\anaconda3\\lib\\site-packages\\sklearn\\linear_model\\_logistic.py\", line 442, in _check_solver\n",
      "    raise ValueError(\"Solver %s supports only 'l2' or 'none' penalties, \"\n",
      "ValueError: Solver newton-cg supports only 'l2' or 'none' penalties, got l1 penalty.\n",
      "\n",
      "  warnings.warn(\"Estimator fit failed. The score on this train-test\"\n",
      "C:\\Users\\hanie\\anaconda3\\lib\\site-packages\\sklearn\\model_selection\\_validation.py:548: FitFailedWarning: Estimator fit failed. The score on this train-test partition for these parameters will be set to nan. Details: \n",
      "Traceback (most recent call last):\n",
      "  File \"C:\\Users\\hanie\\anaconda3\\lib\\site-packages\\sklearn\\model_selection\\_validation.py\", line 531, in _fit_and_score\n",
      "    estimator.fit(X_train, y_train, **fit_params)\n",
      "  File \"C:\\Users\\hanie\\anaconda3\\lib\\site-packages\\sklearn\\linear_model\\_logistic.py\", line 1304, in fit\n",
      "    solver = _check_solver(self.solver, self.penalty, self.dual)\n",
      "  File \"C:\\Users\\hanie\\anaconda3\\lib\\site-packages\\sklearn\\linear_model\\_logistic.py\", line 442, in _check_solver\n",
      "    raise ValueError(\"Solver %s supports only 'l2' or 'none' penalties, \"\n",
      "ValueError: Solver lbfgs supports only 'l2' or 'none' penalties, got l1 penalty.\n",
      "\n",
      "  warnings.warn(\"Estimator fit failed. The score on this train-test\"\n",
      "C:\\Users\\hanie\\anaconda3\\lib\\site-packages\\sklearn\\model_selection\\_validation.py:548: FitFailedWarning: Estimator fit failed. The score on this train-test partition for these parameters will be set to nan. Details: \n",
      "Traceback (most recent call last):\n",
      "  File \"C:\\Users\\hanie\\anaconda3\\lib\\site-packages\\sklearn\\model_selection\\_validation.py\", line 531, in _fit_and_score\n",
      "    estimator.fit(X_train, y_train, **fit_params)\n",
      "  File \"C:\\Users\\hanie\\anaconda3\\lib\\site-packages\\sklearn\\linear_model\\_logistic.py\", line 1304, in fit\n",
      "    solver = _check_solver(self.solver, self.penalty, self.dual)\n",
      "  File \"C:\\Users\\hanie\\anaconda3\\lib\\site-packages\\sklearn\\linear_model\\_logistic.py\", line 442, in _check_solver\n",
      "    raise ValueError(\"Solver %s supports only 'l2' or 'none' penalties, \"\n",
      "ValueError: Solver sag supports only 'l2' or 'none' penalties, got l1 penalty.\n",
      "\n",
      "  warnings.warn(\"Estimator fit failed. The score on this train-test\"\n"
     ]
    },
    {
     "name": "stdout",
     "output_type": "stream",
     "text": [
      "[CV]  C=0.01, max_iter=500, penalty=l1, solver=liblinear, score=0.749, total=   0.0s\n",
      "[CV] C=0.01, max_iter=500, penalty=l1, solver=liblinear ..............\n",
      "[CV]  C=0.01, max_iter=500, penalty=l1, solver=liblinear, score=0.749, total=   0.0s\n",
      "[CV] C=0.01, max_iter=500, penalty=l1, solver=sag ....................\n",
      "[CV]  C=0.01, max_iter=500, penalty=l1, solver=sag, score=nan, total=   0.0s\n",
      "[CV] C=0.01, max_iter=500, penalty=l1, solver=sag ....................\n",
      "[CV]  C=0.01, max_iter=500, penalty=l1, solver=sag, score=nan, total=   0.0s\n",
      "[CV] C=0.01, max_iter=500, penalty=l1, solver=sag ....................\n",
      "[CV]  C=0.01, max_iter=500, penalty=l1, solver=sag, score=nan, total=   0.0s\n",
      "[CV] C=0.01, max_iter=500, penalty=l1, solver=sag ....................\n",
      "[CV]  C=0.01, max_iter=500, penalty=l1, solver=sag, score=nan, total=   0.0s\n",
      "[CV] C=0.01, max_iter=500, penalty=l1, solver=sag ....................\n",
      "[CV]  C=0.01, max_iter=500, penalty=l1, solver=sag, score=nan, total=   0.0s\n",
      "[CV] C=0.01, max_iter=500, penalty=l1, solver=saga ...................\n",
      "[CV]  C=0.01, max_iter=500, penalty=l1, solver=saga, score=0.749, total=   0.0s\n",
      "[CV] C=0.01, max_iter=500, penalty=l1, solver=saga ...................\n",
      "[CV]  C=0.01, max_iter=500, penalty=l1, solver=saga, score=0.749, total=   0.0s\n",
      "[CV] C=0.01, max_iter=500, penalty=l1, solver=saga ...................\n",
      "[CV]  C=0.01, max_iter=500, penalty=l1, solver=saga, score=0.748, total=   0.0s\n",
      "[CV] C=0.01, max_iter=500, penalty=l1, solver=saga ...................\n",
      "[CV]  C=0.01, max_iter=500, penalty=l1, solver=saga, score=0.749, total=   0.0s\n",
      "[CV] C=0.01, max_iter=500, penalty=l1, solver=saga ...................\n",
      "[CV]  C=0.01, max_iter=500, penalty=l1, solver=saga, score=0.749, total=   0.0s\n",
      "[CV] C=0.01, max_iter=500, penalty=l2, solver=newton-cg ..............\n",
      "[CV]  C=0.01, max_iter=500, penalty=l2, solver=newton-cg, score=0.749, total=   0.0s\n",
      "[CV] C=0.01, max_iter=500, penalty=l2, solver=newton-cg ..............\n",
      "[CV]  C=0.01, max_iter=500, penalty=l2, solver=newton-cg, score=0.749, total=   0.0s\n",
      "[CV] C=0.01, max_iter=500, penalty=l2, solver=newton-cg ..............\n",
      "[CV]  C=0.01, max_iter=500, penalty=l2, solver=newton-cg, score=0.748, total=   0.0s\n",
      "[CV] C=0.01, max_iter=500, penalty=l2, solver=newton-cg ..............\n",
      "[CV]  C=0.01, max_iter=500, penalty=l2, solver=newton-cg, score=0.749, total=   0.0s\n",
      "[CV] C=0.01, max_iter=500, penalty=l2, solver=newton-cg ..............\n",
      "[CV]  C=0.01, max_iter=500, penalty=l2, solver=newton-cg, score=0.749, total=   0.0s\n",
      "[CV] C=0.01, max_iter=500, penalty=l2, solver=lbfgs ..................\n",
      "[CV]  C=0.01, max_iter=500, penalty=l2, solver=lbfgs, score=0.749, total=   0.0s\n",
      "[CV] C=0.01, max_iter=500, penalty=l2, solver=lbfgs ..................\n",
      "[CV]  C=0.01, max_iter=500, penalty=l2, solver=lbfgs, score=0.749, total=   0.0s\n",
      "[CV] C=0.01, max_iter=500, penalty=l2, solver=lbfgs ..................\n",
      "[CV]  C=0.01, max_iter=500, penalty=l2, solver=lbfgs, score=0.748, total=   0.0s\n",
      "[CV] C=0.01, max_iter=500, penalty=l2, solver=lbfgs ..................\n",
      "[CV]  C=0.01, max_iter=500, penalty=l2, solver=lbfgs, score=0.749, total=   0.0s\n",
      "[CV] C=0.01, max_iter=500, penalty=l2, solver=lbfgs ..................\n",
      "[CV]  C=0.01, max_iter=500, penalty=l2, solver=lbfgs, score=0.749, total=   0.0s\n",
      "[CV] C=0.01, max_iter=500, penalty=l2, solver=liblinear ..............\n",
      "[CV]  C=0.01, max_iter=500, penalty=l2, solver=liblinear, score=0.749, total=   0.0s\n",
      "[CV] C=0.01, max_iter=500, penalty=l2, solver=liblinear ..............\n",
      "[CV]  C=0.01, max_iter=500, penalty=l2, solver=liblinear, score=0.749, total=   0.0s\n",
      "[CV] C=0.01, max_iter=500, penalty=l2, solver=liblinear ..............\n",
      "[CV]  C=0.01, max_iter=500, penalty=l2, solver=liblinear, score=0.748, total=   0.0s\n",
      "[CV] C=0.01, max_iter=500, penalty=l2, solver=liblinear ..............\n",
      "[CV]  C=0.01, max_iter=500, penalty=l2, solver=liblinear, score=0.749, total=   0.0s\n",
      "[CV] C=0.01, max_iter=500, penalty=l2, solver=liblinear ..............\n",
      "[CV]  C=0.01, max_iter=500, penalty=l2, solver=liblinear, score=0.749, total=   0.0s\n",
      "[CV] C=0.01, max_iter=500, penalty=l2, solver=sag ....................\n",
      "[CV]  C=0.01, max_iter=500, penalty=l2, solver=sag, score=0.749, total=   0.0s\n",
      "[CV] C=0.01, max_iter=500, penalty=l2, solver=sag ....................\n",
      "[CV]  C=0.01, max_iter=500, penalty=l2, solver=sag, score=0.749, total=   0.0s\n",
      "[CV] C=0.01, max_iter=500, penalty=l2, solver=sag ....................\n",
      "[CV]  C=0.01, max_iter=500, penalty=l2, solver=sag, score=0.748, total=   0.0s\n",
      "[CV] C=0.01, max_iter=500, penalty=l2, solver=sag ....................\n",
      "[CV]  C=0.01, max_iter=500, penalty=l2, solver=sag, score=0.749, total=   0.0s\n",
      "[CV] C=0.01, max_iter=500, penalty=l2, solver=sag ....................\n",
      "[CV]  C=0.01, max_iter=500, penalty=l2, solver=sag, score=0.749, total=   0.0s\n",
      "[CV] C=0.01, max_iter=500, penalty=l2, solver=saga ...................\n",
      "[CV]  C=0.01, max_iter=500, penalty=l2, solver=saga, score=0.749, total=   0.0s\n",
      "[CV] C=0.01, max_iter=500, penalty=l2, solver=saga ...................\n",
      "[CV]  C=0.01, max_iter=500, penalty=l2, solver=saga, score=0.749, total=   0.0s\n",
      "[CV] C=0.01, max_iter=500, penalty=l2, solver=saga ...................\n",
      "[CV]  C=0.01, max_iter=500, penalty=l2, solver=saga, score=0.748, total=   0.0s\n",
      "[CV] C=0.01, max_iter=500, penalty=l2, solver=saga ...................\n",
      "[CV]  C=0.01, max_iter=500, penalty=l2, solver=saga, score=0.749, total=   0.0s\n",
      "[CV] C=0.01, max_iter=500, penalty=l2, solver=saga ...................\n",
      "[CV]  C=0.01, max_iter=500, penalty=l2, solver=saga, score=0.749, total=   0.0s\n",
      "[CV] C=0.01, max_iter=600, penalty=l1, solver=newton-cg ..............\n",
      "[CV]  C=0.01, max_iter=600, penalty=l1, solver=newton-cg, score=nan, total=   0.0s\n",
      "[CV] C=0.01, max_iter=600, penalty=l1, solver=newton-cg ..............\n",
      "[CV]  C=0.01, max_iter=600, penalty=l1, solver=newton-cg, score=nan, total=   0.0s\n",
      "[CV] C=0.01, max_iter=600, penalty=l1, solver=newton-cg ..............\n",
      "[CV]  C=0.01, max_iter=600, penalty=l1, solver=newton-cg, score=nan, total=   0.0s\n",
      "[CV] C=0.01, max_iter=600, penalty=l1, solver=newton-cg ..............\n",
      "[CV]  C=0.01, max_iter=600, penalty=l1, solver=newton-cg, score=nan, total=   0.0s\n",
      "[CV] C=0.01, max_iter=600, penalty=l1, solver=newton-cg ..............\n",
      "[CV]  C=0.01, max_iter=600, penalty=l1, solver=newton-cg, score=nan, total=   0.0s\n",
      "[CV] C=0.01, max_iter=600, penalty=l1, solver=lbfgs ..................\n",
      "[CV]  C=0.01, max_iter=600, penalty=l1, solver=lbfgs, score=nan, total=   0.0s\n",
      "[CV] C=0.01, max_iter=600, penalty=l1, solver=lbfgs ..................\n",
      "[CV]  C=0.01, max_iter=600, penalty=l1, solver=lbfgs, score=nan, total=   0.0s\n",
      "[CV] C=0.01, max_iter=600, penalty=l1, solver=lbfgs ..................\n",
      "[CV]  C=0.01, max_iter=600, penalty=l1, solver=lbfgs, score=nan, total=   0.0s\n",
      "[CV] C=0.01, max_iter=600, penalty=l1, solver=lbfgs ..................\n",
      "[CV]  C=0.01, max_iter=600, penalty=l1, solver=lbfgs, score=nan, total=   0.0s\n",
      "[CV] C=0.01, max_iter=600, penalty=l1, solver=lbfgs ..................\n",
      "[CV]  C=0.01, max_iter=600, penalty=l1, solver=lbfgs, score=nan, total=   0.0s\n",
      "[CV] C=0.01, max_iter=600, penalty=l1, solver=liblinear ..............\n",
      "[CV]  C=0.01, max_iter=600, penalty=l1, solver=liblinear, score=0.749, total=   0.0s\n",
      "[CV] C=0.01, max_iter=600, penalty=l1, solver=liblinear ..............\n",
      "[CV]  C=0.01, max_iter=600, penalty=l1, solver=liblinear, score=0.749, total=   0.0s\n",
      "[CV] C=0.01, max_iter=600, penalty=l1, solver=liblinear ..............\n",
      "[CV]  C=0.01, max_iter=600, penalty=l1, solver=liblinear, score=0.748, total=   0.0s\n",
      "[CV] C=0.01, max_iter=600, penalty=l1, solver=liblinear ..............\n",
      "[CV]  C=0.01, max_iter=600, penalty=l1, solver=liblinear, score=0.749, total=   0.0s\n",
      "[CV] C=0.01, max_iter=600, penalty=l1, solver=liblinear ..............\n",
      "[CV]  C=0.01, max_iter=600, penalty=l1, solver=liblinear, score=0.749, total=   0.0s\n",
      "[CV] C=0.01, max_iter=600, penalty=l1, solver=sag ....................\n",
      "[CV]  C=0.01, max_iter=600, penalty=l1, solver=sag, score=nan, total=   0.0s\n",
      "[CV] C=0.01, max_iter=600, penalty=l1, solver=sag ....................\n",
      "[CV]  C=0.01, max_iter=600, penalty=l1, solver=sag, score=nan, total=   0.0s\n",
      "[CV] C=0.01, max_iter=600, penalty=l1, solver=sag ....................\n",
      "[CV]  C=0.01, max_iter=600, penalty=l1, solver=sag, score=nan, total=   0.0s\n",
      "[CV] C=0.01, max_iter=600, penalty=l1, solver=sag ....................\n",
      "[CV]  C=0.01, max_iter=600, penalty=l1, solver=sag, score=nan, total=   0.0s\n",
      "[CV] C=0.01, max_iter=600, penalty=l1, solver=sag ....................\n",
      "[CV]  C=0.01, max_iter=600, penalty=l1, solver=sag, score=nan, total=   0.0s\n",
      "[CV] C=0.01, max_iter=600, penalty=l1, solver=saga ...................\n",
      "[CV]  C=0.01, max_iter=600, penalty=l1, solver=saga, score=0.749, total=   0.0s\n",
      "[CV] C=0.01, max_iter=600, penalty=l1, solver=saga ...................\n",
      "[CV]  C=0.01, max_iter=600, penalty=l1, solver=saga, score=0.749, total=   0.0s\n",
      "[CV] C=0.01, max_iter=600, penalty=l1, solver=saga ...................\n",
      "[CV]  C=0.01, max_iter=600, penalty=l1, solver=saga, score=0.748, total=   0.0s\n",
      "[CV] C=0.01, max_iter=600, penalty=l1, solver=saga ...................\n",
      "[CV]  C=0.01, max_iter=600, penalty=l1, solver=saga, score=0.749, total=   0.0s\n",
      "[CV] C=0.01, max_iter=600, penalty=l1, solver=saga ...................\n"
     ]
    },
    {
     "name": "stderr",
     "output_type": "stream",
     "text": [
      "C:\\Users\\hanie\\anaconda3\\lib\\site-packages\\sklearn\\model_selection\\_validation.py:548: FitFailedWarning: Estimator fit failed. The score on this train-test partition for these parameters will be set to nan. Details: \n",
      "Traceback (most recent call last):\n",
      "  File \"C:\\Users\\hanie\\anaconda3\\lib\\site-packages\\sklearn\\model_selection\\_validation.py\", line 531, in _fit_and_score\n",
      "    estimator.fit(X_train, y_train, **fit_params)\n",
      "  File \"C:\\Users\\hanie\\anaconda3\\lib\\site-packages\\sklearn\\linear_model\\_logistic.py\", line 1304, in fit\n",
      "    solver = _check_solver(self.solver, self.penalty, self.dual)\n",
      "  File \"C:\\Users\\hanie\\anaconda3\\lib\\site-packages\\sklearn\\linear_model\\_logistic.py\", line 442, in _check_solver\n",
      "    raise ValueError(\"Solver %s supports only 'l2' or 'none' penalties, \"\n",
      "ValueError: Solver newton-cg supports only 'l2' or 'none' penalties, got l1 penalty.\n",
      "\n",
      "  warnings.warn(\"Estimator fit failed. The score on this train-test\"\n",
      "C:\\Users\\hanie\\anaconda3\\lib\\site-packages\\sklearn\\model_selection\\_validation.py:548: FitFailedWarning: Estimator fit failed. The score on this train-test partition for these parameters will be set to nan. Details: \n",
      "Traceback (most recent call last):\n",
      "  File \"C:\\Users\\hanie\\anaconda3\\lib\\site-packages\\sklearn\\model_selection\\_validation.py\", line 531, in _fit_and_score\n",
      "    estimator.fit(X_train, y_train, **fit_params)\n",
      "  File \"C:\\Users\\hanie\\anaconda3\\lib\\site-packages\\sklearn\\linear_model\\_logistic.py\", line 1304, in fit\n",
      "    solver = _check_solver(self.solver, self.penalty, self.dual)\n",
      "  File \"C:\\Users\\hanie\\anaconda3\\lib\\site-packages\\sklearn\\linear_model\\_logistic.py\", line 442, in _check_solver\n",
      "    raise ValueError(\"Solver %s supports only 'l2' or 'none' penalties, \"\n",
      "ValueError: Solver lbfgs supports only 'l2' or 'none' penalties, got l1 penalty.\n",
      "\n",
      "  warnings.warn(\"Estimator fit failed. The score on this train-test\"\n",
      "C:\\Users\\hanie\\anaconda3\\lib\\site-packages\\sklearn\\model_selection\\_validation.py:548: FitFailedWarning: Estimator fit failed. The score on this train-test partition for these parameters will be set to nan. Details: \n",
      "Traceback (most recent call last):\n",
      "  File \"C:\\Users\\hanie\\anaconda3\\lib\\site-packages\\sklearn\\model_selection\\_validation.py\", line 531, in _fit_and_score\n",
      "    estimator.fit(X_train, y_train, **fit_params)\n",
      "  File \"C:\\Users\\hanie\\anaconda3\\lib\\site-packages\\sklearn\\linear_model\\_logistic.py\", line 1304, in fit\n",
      "    solver = _check_solver(self.solver, self.penalty, self.dual)\n",
      "  File \"C:\\Users\\hanie\\anaconda3\\lib\\site-packages\\sklearn\\linear_model\\_logistic.py\", line 442, in _check_solver\n",
      "    raise ValueError(\"Solver %s supports only 'l2' or 'none' penalties, \"\n",
      "ValueError: Solver sag supports only 'l2' or 'none' penalties, got l1 penalty.\n",
      "\n",
      "  warnings.warn(\"Estimator fit failed. The score on this train-test\"\n"
     ]
    },
    {
     "name": "stdout",
     "output_type": "stream",
     "text": [
      "[CV]  C=0.01, max_iter=600, penalty=l1, solver=saga, score=0.749, total=   0.0s\n",
      "[CV] C=0.01, max_iter=600, penalty=l2, solver=newton-cg ..............\n",
      "[CV]  C=0.01, max_iter=600, penalty=l2, solver=newton-cg, score=0.749, total=   0.0s\n",
      "[CV] C=0.01, max_iter=600, penalty=l2, solver=newton-cg ..............\n",
      "[CV]  C=0.01, max_iter=600, penalty=l2, solver=newton-cg, score=0.749, total=   0.0s\n",
      "[CV] C=0.01, max_iter=600, penalty=l2, solver=newton-cg ..............\n",
      "[CV]  C=0.01, max_iter=600, penalty=l2, solver=newton-cg, score=0.748, total=   0.0s\n",
      "[CV] C=0.01, max_iter=600, penalty=l2, solver=newton-cg ..............\n",
      "[CV]  C=0.01, max_iter=600, penalty=l2, solver=newton-cg, score=0.749, total=   0.0s\n",
      "[CV] C=0.01, max_iter=600, penalty=l2, solver=newton-cg ..............\n",
      "[CV]  C=0.01, max_iter=600, penalty=l2, solver=newton-cg, score=0.749, total=   0.0s\n",
      "[CV] C=0.01, max_iter=600, penalty=l2, solver=lbfgs ..................\n",
      "[CV]  C=0.01, max_iter=600, penalty=l2, solver=lbfgs, score=0.749, total=   0.0s\n",
      "[CV] C=0.01, max_iter=600, penalty=l2, solver=lbfgs ..................\n",
      "[CV]  C=0.01, max_iter=600, penalty=l2, solver=lbfgs, score=0.749, total=   0.0s\n",
      "[CV] C=0.01, max_iter=600, penalty=l2, solver=lbfgs ..................\n",
      "[CV]  C=0.01, max_iter=600, penalty=l2, solver=lbfgs, score=0.748, total=   0.0s\n",
      "[CV] C=0.01, max_iter=600, penalty=l2, solver=lbfgs ..................\n",
      "[CV]  C=0.01, max_iter=600, penalty=l2, solver=lbfgs, score=0.749, total=   0.0s\n",
      "[CV] C=0.01, max_iter=600, penalty=l2, solver=lbfgs ..................\n",
      "[CV]  C=0.01, max_iter=600, penalty=l2, solver=lbfgs, score=0.749, total=   0.0s\n",
      "[CV] C=0.01, max_iter=600, penalty=l2, solver=liblinear ..............\n",
      "[CV]  C=0.01, max_iter=600, penalty=l2, solver=liblinear, score=0.749, total=   0.0s\n",
      "[CV] C=0.01, max_iter=600, penalty=l2, solver=liblinear ..............\n",
      "[CV]  C=0.01, max_iter=600, penalty=l2, solver=liblinear, score=0.749, total=   0.0s\n",
      "[CV] C=0.01, max_iter=600, penalty=l2, solver=liblinear ..............\n",
      "[CV]  C=0.01, max_iter=600, penalty=l2, solver=liblinear, score=0.748, total=   0.0s\n",
      "[CV] C=0.01, max_iter=600, penalty=l2, solver=liblinear ..............\n",
      "[CV]  C=0.01, max_iter=600, penalty=l2, solver=liblinear, score=0.749, total=   0.0s\n",
      "[CV] C=0.01, max_iter=600, penalty=l2, solver=liblinear ..............\n",
      "[CV]  C=0.01, max_iter=600, penalty=l2, solver=liblinear, score=0.749, total=   0.0s\n",
      "[CV] C=0.01, max_iter=600, penalty=l2, solver=sag ....................\n",
      "[CV]  C=0.01, max_iter=600, penalty=l2, solver=sag, score=0.749, total=   0.0s\n",
      "[CV] C=0.01, max_iter=600, penalty=l2, solver=sag ....................\n",
      "[CV]  C=0.01, max_iter=600, penalty=l2, solver=sag, score=0.749, total=   0.0s\n",
      "[CV] C=0.01, max_iter=600, penalty=l2, solver=sag ....................\n",
      "[CV]  C=0.01, max_iter=600, penalty=l2, solver=sag, score=0.748, total=   0.0s\n",
      "[CV] C=0.01, max_iter=600, penalty=l2, solver=sag ....................\n",
      "[CV]  C=0.01, max_iter=600, penalty=l2, solver=sag, score=0.749, total=   0.0s\n",
      "[CV] C=0.01, max_iter=600, penalty=l2, solver=sag ....................\n",
      "[CV]  C=0.01, max_iter=600, penalty=l2, solver=sag, score=0.749, total=   0.0s\n",
      "[CV] C=0.01, max_iter=600, penalty=l2, solver=saga ...................\n",
      "[CV]  C=0.01, max_iter=600, penalty=l2, solver=saga, score=0.749, total=   0.0s\n",
      "[CV] C=0.01, max_iter=600, penalty=l2, solver=saga ...................\n",
      "[CV]  C=0.01, max_iter=600, penalty=l2, solver=saga, score=0.749, total=   0.0s\n",
      "[CV] C=0.01, max_iter=600, penalty=l2, solver=saga ...................\n",
      "[CV]  C=0.01, max_iter=600, penalty=l2, solver=saga, score=0.748, total=   0.0s\n",
      "[CV] C=0.01, max_iter=600, penalty=l2, solver=saga ...................\n",
      "[CV]  C=0.01, max_iter=600, penalty=l2, solver=saga, score=0.749, total=   0.0s\n",
      "[CV] C=0.01, max_iter=600, penalty=l2, solver=saga ...................\n",
      "[CV]  C=0.01, max_iter=600, penalty=l2, solver=saga, score=0.749, total=   0.0s\n",
      "[CV] C=0.01, max_iter=700, penalty=l1, solver=newton-cg ..............\n",
      "[CV]  C=0.01, max_iter=700, penalty=l1, solver=newton-cg, score=nan, total=   0.0s\n",
      "[CV] C=0.01, max_iter=700, penalty=l1, solver=newton-cg ..............\n",
      "[CV]  C=0.01, max_iter=700, penalty=l1, solver=newton-cg, score=nan, total=   0.0s\n",
      "[CV] C=0.01, max_iter=700, penalty=l1, solver=newton-cg ..............\n",
      "[CV]  C=0.01, max_iter=700, penalty=l1, solver=newton-cg, score=nan, total=   0.0s\n",
      "[CV] C=0.01, max_iter=700, penalty=l1, solver=newton-cg ..............\n",
      "[CV]  C=0.01, max_iter=700, penalty=l1, solver=newton-cg, score=nan, total=   0.0s\n",
      "[CV] C=0.01, max_iter=700, penalty=l1, solver=newton-cg ..............\n",
      "[CV]  C=0.01, max_iter=700, penalty=l1, solver=newton-cg, score=nan, total=   0.0s\n",
      "[CV] C=0.01, max_iter=700, penalty=l1, solver=lbfgs ..................\n",
      "[CV]  C=0.01, max_iter=700, penalty=l1, solver=lbfgs, score=nan, total=   0.0s\n",
      "[CV] C=0.01, max_iter=700, penalty=l1, solver=lbfgs ..................\n",
      "[CV]  C=0.01, max_iter=700, penalty=l1, solver=lbfgs, score=nan, total=   0.0s\n",
      "[CV] C=0.01, max_iter=700, penalty=l1, solver=lbfgs ..................\n",
      "[CV]  C=0.01, max_iter=700, penalty=l1, solver=lbfgs, score=nan, total=   0.0s\n",
      "[CV] C=0.01, max_iter=700, penalty=l1, solver=lbfgs ..................\n",
      "[CV]  C=0.01, max_iter=700, penalty=l1, solver=lbfgs, score=nan, total=   0.0s\n",
      "[CV] C=0.01, max_iter=700, penalty=l1, solver=lbfgs ..................\n",
      "[CV]  C=0.01, max_iter=700, penalty=l1, solver=lbfgs, score=nan, total=   0.0s\n",
      "[CV] C=0.01, max_iter=700, penalty=l1, solver=liblinear ..............\n",
      "[CV]  C=0.01, max_iter=700, penalty=l1, solver=liblinear, score=0.749, total=   0.0s\n",
      "[CV] C=0.01, max_iter=700, penalty=l1, solver=liblinear ..............\n",
      "[CV]  C=0.01, max_iter=700, penalty=l1, solver=liblinear, score=0.749, total=   0.0s\n",
      "[CV] C=0.01, max_iter=700, penalty=l1, solver=liblinear ..............\n",
      "[CV]  C=0.01, max_iter=700, penalty=l1, solver=liblinear, score=0.748, total=   0.0s\n",
      "[CV] C=0.01, max_iter=700, penalty=l1, solver=liblinear ..............\n",
      "[CV]  C=0.01, max_iter=700, penalty=l1, solver=liblinear, score=0.749, total=   0.0s\n",
      "[CV] C=0.01, max_iter=700, penalty=l1, solver=liblinear ..............\n",
      "[CV]  C=0.01, max_iter=700, penalty=l1, solver=liblinear, score=0.749, total=   0.0s\n",
      "[CV] C=0.01, max_iter=700, penalty=l1, solver=sag ....................\n",
      "[CV]  C=0.01, max_iter=700, penalty=l1, solver=sag, score=nan, total=   0.0s\n",
      "[CV] C=0.01, max_iter=700, penalty=l1, solver=sag ....................\n",
      "[CV]  C=0.01, max_iter=700, penalty=l1, solver=sag, score=nan, total=   0.0s\n",
      "[CV] C=0.01, max_iter=700, penalty=l1, solver=sag ....................\n",
      "[CV]  C=0.01, max_iter=700, penalty=l1, solver=sag, score=nan, total=   0.0s\n",
      "[CV] C=0.01, max_iter=700, penalty=l1, solver=sag ....................\n",
      "[CV]  C=0.01, max_iter=700, penalty=l1, solver=sag, score=nan, total=   0.0s\n",
      "[CV] C=0.01, max_iter=700, penalty=l1, solver=sag ....................\n",
      "[CV]  C=0.01, max_iter=700, penalty=l1, solver=sag, score=nan, total=   0.0s\n",
      "[CV] C=0.01, max_iter=700, penalty=l1, solver=saga ...................\n",
      "[CV]  C=0.01, max_iter=700, penalty=l1, solver=saga, score=0.749, total=   0.0s\n",
      "[CV] C=0.01, max_iter=700, penalty=l1, solver=saga ...................\n",
      "[CV]  C=0.01, max_iter=700, penalty=l1, solver=saga, score=0.749, total=   0.0s\n",
      "[CV] C=0.01, max_iter=700, penalty=l1, solver=saga ...................\n"
     ]
    },
    {
     "name": "stderr",
     "output_type": "stream",
     "text": [
      "C:\\Users\\hanie\\anaconda3\\lib\\site-packages\\sklearn\\model_selection\\_validation.py:548: FitFailedWarning: Estimator fit failed. The score on this train-test partition for these parameters will be set to nan. Details: \n",
      "Traceback (most recent call last):\n",
      "  File \"C:\\Users\\hanie\\anaconda3\\lib\\site-packages\\sklearn\\model_selection\\_validation.py\", line 531, in _fit_and_score\n",
      "    estimator.fit(X_train, y_train, **fit_params)\n",
      "  File \"C:\\Users\\hanie\\anaconda3\\lib\\site-packages\\sklearn\\linear_model\\_logistic.py\", line 1304, in fit\n",
      "    solver = _check_solver(self.solver, self.penalty, self.dual)\n",
      "  File \"C:\\Users\\hanie\\anaconda3\\lib\\site-packages\\sklearn\\linear_model\\_logistic.py\", line 442, in _check_solver\n",
      "    raise ValueError(\"Solver %s supports only 'l2' or 'none' penalties, \"\n",
      "ValueError: Solver newton-cg supports only 'l2' or 'none' penalties, got l1 penalty.\n",
      "\n",
      "  warnings.warn(\"Estimator fit failed. The score on this train-test\"\n",
      "C:\\Users\\hanie\\anaconda3\\lib\\site-packages\\sklearn\\model_selection\\_validation.py:548: FitFailedWarning: Estimator fit failed. The score on this train-test partition for these parameters will be set to nan. Details: \n",
      "Traceback (most recent call last):\n",
      "  File \"C:\\Users\\hanie\\anaconda3\\lib\\site-packages\\sklearn\\model_selection\\_validation.py\", line 531, in _fit_and_score\n",
      "    estimator.fit(X_train, y_train, **fit_params)\n",
      "  File \"C:\\Users\\hanie\\anaconda3\\lib\\site-packages\\sklearn\\linear_model\\_logistic.py\", line 1304, in fit\n",
      "    solver = _check_solver(self.solver, self.penalty, self.dual)\n",
      "  File \"C:\\Users\\hanie\\anaconda3\\lib\\site-packages\\sklearn\\linear_model\\_logistic.py\", line 442, in _check_solver\n",
      "    raise ValueError(\"Solver %s supports only 'l2' or 'none' penalties, \"\n",
      "ValueError: Solver lbfgs supports only 'l2' or 'none' penalties, got l1 penalty.\n",
      "\n",
      "  warnings.warn(\"Estimator fit failed. The score on this train-test\"\n",
      "C:\\Users\\hanie\\anaconda3\\lib\\site-packages\\sklearn\\model_selection\\_validation.py:548: FitFailedWarning: Estimator fit failed. The score on this train-test partition for these parameters will be set to nan. Details: \n",
      "Traceback (most recent call last):\n",
      "  File \"C:\\Users\\hanie\\anaconda3\\lib\\site-packages\\sklearn\\model_selection\\_validation.py\", line 531, in _fit_and_score\n",
      "    estimator.fit(X_train, y_train, **fit_params)\n",
      "  File \"C:\\Users\\hanie\\anaconda3\\lib\\site-packages\\sklearn\\linear_model\\_logistic.py\", line 1304, in fit\n",
      "    solver = _check_solver(self.solver, self.penalty, self.dual)\n",
      "  File \"C:\\Users\\hanie\\anaconda3\\lib\\site-packages\\sklearn\\linear_model\\_logistic.py\", line 442, in _check_solver\n",
      "    raise ValueError(\"Solver %s supports only 'l2' or 'none' penalties, \"\n",
      "ValueError: Solver sag supports only 'l2' or 'none' penalties, got l1 penalty.\n",
      "\n",
      "  warnings.warn(\"Estimator fit failed. The score on this train-test\"\n"
     ]
    },
    {
     "name": "stdout",
     "output_type": "stream",
     "text": [
      "[CV]  C=0.01, max_iter=700, penalty=l1, solver=saga, score=0.748, total=   0.0s\n",
      "[CV] C=0.01, max_iter=700, penalty=l1, solver=saga ...................\n",
      "[CV]  C=0.01, max_iter=700, penalty=l1, solver=saga, score=0.749, total=   0.0s\n",
      "[CV] C=0.01, max_iter=700, penalty=l1, solver=saga ...................\n",
      "[CV]  C=0.01, max_iter=700, penalty=l1, solver=saga, score=0.749, total=   0.0s\n",
      "[CV] C=0.01, max_iter=700, penalty=l2, solver=newton-cg ..............\n",
      "[CV]  C=0.01, max_iter=700, penalty=l2, solver=newton-cg, score=0.749, total=   0.0s\n",
      "[CV] C=0.01, max_iter=700, penalty=l2, solver=newton-cg ..............\n",
      "[CV]  C=0.01, max_iter=700, penalty=l2, solver=newton-cg, score=0.749, total=   0.0s\n",
      "[CV] C=0.01, max_iter=700, penalty=l2, solver=newton-cg ..............\n",
      "[CV]  C=0.01, max_iter=700, penalty=l2, solver=newton-cg, score=0.748, total=   0.0s\n",
      "[CV] C=0.01, max_iter=700, penalty=l2, solver=newton-cg ..............\n",
      "[CV]  C=0.01, max_iter=700, penalty=l2, solver=newton-cg, score=0.749, total=   0.0s\n",
      "[CV] C=0.01, max_iter=700, penalty=l2, solver=newton-cg ..............\n",
      "[CV]  C=0.01, max_iter=700, penalty=l2, solver=newton-cg, score=0.749, total=   0.0s\n",
      "[CV] C=0.01, max_iter=700, penalty=l2, solver=lbfgs ..................\n",
      "[CV]  C=0.01, max_iter=700, penalty=l2, solver=lbfgs, score=0.749, total=   0.0s\n",
      "[CV] C=0.01, max_iter=700, penalty=l2, solver=lbfgs ..................\n",
      "[CV]  C=0.01, max_iter=700, penalty=l2, solver=lbfgs, score=0.749, total=   0.0s\n",
      "[CV] C=0.01, max_iter=700, penalty=l2, solver=lbfgs ..................\n",
      "[CV]  C=0.01, max_iter=700, penalty=l2, solver=lbfgs, score=0.748, total=   0.0s\n",
      "[CV] C=0.01, max_iter=700, penalty=l2, solver=lbfgs ..................\n",
      "[CV]  C=0.01, max_iter=700, penalty=l2, solver=lbfgs, score=0.749, total=   0.0s\n",
      "[CV] C=0.01, max_iter=700, penalty=l2, solver=lbfgs ..................\n",
      "[CV]  C=0.01, max_iter=700, penalty=l2, solver=lbfgs, score=0.749, total=   0.0s\n",
      "[CV] C=0.01, max_iter=700, penalty=l2, solver=liblinear ..............\n",
      "[CV]  C=0.01, max_iter=700, penalty=l2, solver=liblinear, score=0.749, total=   0.0s\n",
      "[CV] C=0.01, max_iter=700, penalty=l2, solver=liblinear ..............\n",
      "[CV]  C=0.01, max_iter=700, penalty=l2, solver=liblinear, score=0.749, total=   0.0s\n",
      "[CV] C=0.01, max_iter=700, penalty=l2, solver=liblinear ..............\n",
      "[CV]  C=0.01, max_iter=700, penalty=l2, solver=liblinear, score=0.748, total=   0.0s\n",
      "[CV] C=0.01, max_iter=700, penalty=l2, solver=liblinear ..............\n",
      "[CV]  C=0.01, max_iter=700, penalty=l2, solver=liblinear, score=0.749, total=   0.0s\n",
      "[CV] C=0.01, max_iter=700, penalty=l2, solver=liblinear ..............\n",
      "[CV]  C=0.01, max_iter=700, penalty=l2, solver=liblinear, score=0.749, total=   0.0s\n",
      "[CV] C=0.01, max_iter=700, penalty=l2, solver=sag ....................\n",
      "[CV]  C=0.01, max_iter=700, penalty=l2, solver=sag, score=0.749, total=   0.0s\n",
      "[CV] C=0.01, max_iter=700, penalty=l2, solver=sag ....................\n",
      "[CV]  C=0.01, max_iter=700, penalty=l2, solver=sag, score=0.749, total=   0.0s\n",
      "[CV] C=0.01, max_iter=700, penalty=l2, solver=sag ....................\n",
      "[CV]  C=0.01, max_iter=700, penalty=l2, solver=sag, score=0.748, total=   0.0s\n",
      "[CV] C=0.01, max_iter=700, penalty=l2, solver=sag ....................\n",
      "[CV]  C=0.01, max_iter=700, penalty=l2, solver=sag, score=0.749, total=   0.0s\n",
      "[CV] C=0.01, max_iter=700, penalty=l2, solver=sag ....................\n",
      "[CV]  C=0.01, max_iter=700, penalty=l2, solver=sag, score=0.749, total=   0.0s\n",
      "[CV] C=0.01, max_iter=700, penalty=l2, solver=saga ...................\n",
      "[CV]  C=0.01, max_iter=700, penalty=l2, solver=saga, score=0.749, total=   0.0s\n",
      "[CV] C=0.01, max_iter=700, penalty=l2, solver=saga ...................\n",
      "[CV]  C=0.01, max_iter=700, penalty=l2, solver=saga, score=0.749, total=   0.0s\n",
      "[CV] C=0.01, max_iter=700, penalty=l2, solver=saga ...................\n",
      "[CV]  C=0.01, max_iter=700, penalty=l2, solver=saga, score=0.748, total=   0.0s\n",
      "[CV] C=0.01, max_iter=700, penalty=l2, solver=saga ...................\n",
      "[CV]  C=0.01, max_iter=700, penalty=l2, solver=saga, score=0.749, total=   0.0s\n",
      "[CV] C=0.01, max_iter=700, penalty=l2, solver=saga ...................\n",
      "[CV]  C=0.01, max_iter=700, penalty=l2, solver=saga, score=0.749, total=   0.0s\n",
      "[CV] C=0.1, max_iter=100, penalty=l1, solver=newton-cg ...............\n",
      "[CV]  C=0.1, max_iter=100, penalty=l1, solver=newton-cg, score=nan, total=   0.0s\n",
      "[CV] C=0.1, max_iter=100, penalty=l1, solver=newton-cg ...............\n",
      "[CV]  C=0.1, max_iter=100, penalty=l1, solver=newton-cg, score=nan, total=   0.0s\n",
      "[CV] C=0.1, max_iter=100, penalty=l1, solver=newton-cg ...............\n",
      "[CV]  C=0.1, max_iter=100, penalty=l1, solver=newton-cg, score=nan, total=   0.0s\n",
      "[CV] C=0.1, max_iter=100, penalty=l1, solver=newton-cg ...............\n",
      "[CV]  C=0.1, max_iter=100, penalty=l1, solver=newton-cg, score=nan, total=   0.0s\n",
      "[CV] C=0.1, max_iter=100, penalty=l1, solver=newton-cg ...............\n",
      "[CV]  C=0.1, max_iter=100, penalty=l1, solver=newton-cg, score=nan, total=   0.0s\n",
      "[CV] C=0.1, max_iter=100, penalty=l1, solver=lbfgs ...................\n",
      "[CV]  C=0.1, max_iter=100, penalty=l1, solver=lbfgs, score=nan, total=   0.0s\n",
      "[CV] C=0.1, max_iter=100, penalty=l1, solver=lbfgs ...................\n",
      "[CV]  C=0.1, max_iter=100, penalty=l1, solver=lbfgs, score=nan, total=   0.0s\n",
      "[CV] C=0.1, max_iter=100, penalty=l1, solver=lbfgs ...................\n",
      "[CV]  C=0.1, max_iter=100, penalty=l1, solver=lbfgs, score=nan, total=   0.0s\n",
      "[CV] C=0.1, max_iter=100, penalty=l1, solver=lbfgs ...................\n",
      "[CV]  C=0.1, max_iter=100, penalty=l1, solver=lbfgs, score=nan, total=   0.0s\n",
      "[CV] C=0.1, max_iter=100, penalty=l1, solver=lbfgs ...................\n",
      "[CV]  C=0.1, max_iter=100, penalty=l1, solver=lbfgs, score=nan, total=   0.0s\n",
      "[CV] C=0.1, max_iter=100, penalty=l1, solver=liblinear ...............\n",
      "[CV]  C=0.1, max_iter=100, penalty=l1, solver=liblinear, score=0.759, total=   0.0s\n",
      "[CV] C=0.1, max_iter=100, penalty=l1, solver=liblinear ...............\n",
      "[CV]  C=0.1, max_iter=100, penalty=l1, solver=liblinear, score=0.748, total=   0.0s\n",
      "[CV] C=0.1, max_iter=100, penalty=l1, solver=liblinear ...............\n",
      "[CV]  C=0.1, max_iter=100, penalty=l1, solver=liblinear, score=0.749, total=   0.1s\n",
      "[CV] C=0.1, max_iter=100, penalty=l1, solver=liblinear ...............\n"
     ]
    },
    {
     "name": "stderr",
     "output_type": "stream",
     "text": [
      "C:\\Users\\hanie\\anaconda3\\lib\\site-packages\\sklearn\\model_selection\\_validation.py:548: FitFailedWarning: Estimator fit failed. The score on this train-test partition for these parameters will be set to nan. Details: \n",
      "Traceback (most recent call last):\n",
      "  File \"C:\\Users\\hanie\\anaconda3\\lib\\site-packages\\sklearn\\model_selection\\_validation.py\", line 531, in _fit_and_score\n",
      "    estimator.fit(X_train, y_train, **fit_params)\n",
      "  File \"C:\\Users\\hanie\\anaconda3\\lib\\site-packages\\sklearn\\linear_model\\_logistic.py\", line 1304, in fit\n",
      "    solver = _check_solver(self.solver, self.penalty, self.dual)\n",
      "  File \"C:\\Users\\hanie\\anaconda3\\lib\\site-packages\\sklearn\\linear_model\\_logistic.py\", line 442, in _check_solver\n",
      "    raise ValueError(\"Solver %s supports only 'l2' or 'none' penalties, \"\n",
      "ValueError: Solver newton-cg supports only 'l2' or 'none' penalties, got l1 penalty.\n",
      "\n",
      "  warnings.warn(\"Estimator fit failed. The score on this train-test\"\n",
      "C:\\Users\\hanie\\anaconda3\\lib\\site-packages\\sklearn\\model_selection\\_validation.py:548: FitFailedWarning: Estimator fit failed. The score on this train-test partition for these parameters will be set to nan. Details: \n",
      "Traceback (most recent call last):\n",
      "  File \"C:\\Users\\hanie\\anaconda3\\lib\\site-packages\\sklearn\\model_selection\\_validation.py\", line 531, in _fit_and_score\n",
      "    estimator.fit(X_train, y_train, **fit_params)\n",
      "  File \"C:\\Users\\hanie\\anaconda3\\lib\\site-packages\\sklearn\\linear_model\\_logistic.py\", line 1304, in fit\n",
      "    solver = _check_solver(self.solver, self.penalty, self.dual)\n",
      "  File \"C:\\Users\\hanie\\anaconda3\\lib\\site-packages\\sklearn\\linear_model\\_logistic.py\", line 442, in _check_solver\n",
      "    raise ValueError(\"Solver %s supports only 'l2' or 'none' penalties, \"\n",
      "ValueError: Solver lbfgs supports only 'l2' or 'none' penalties, got l1 penalty.\n",
      "\n",
      "  warnings.warn(\"Estimator fit failed. The score on this train-test\"\n"
     ]
    },
    {
     "name": "stdout",
     "output_type": "stream",
     "text": [
      "[CV]  C=0.1, max_iter=100, penalty=l1, solver=liblinear, score=0.741, total=   0.1s\n",
      "[CV] C=0.1, max_iter=100, penalty=l1, solver=liblinear ...............\n",
      "[CV]  C=0.1, max_iter=100, penalty=l1, solver=liblinear, score=0.746, total=   0.1s\n",
      "[CV] C=0.1, max_iter=100, penalty=l1, solver=sag .....................\n",
      "[CV]  C=0.1, max_iter=100, penalty=l1, solver=sag, score=nan, total=   0.0s\n",
      "[CV] C=0.1, max_iter=100, penalty=l1, solver=sag .....................\n",
      "[CV]  C=0.1, max_iter=100, penalty=l1, solver=sag, score=nan, total=   0.0s\n",
      "[CV] C=0.1, max_iter=100, penalty=l1, solver=sag .....................\n",
      "[CV]  C=0.1, max_iter=100, penalty=l1, solver=sag, score=nan, total=   0.0s\n",
      "[CV] C=0.1, max_iter=100, penalty=l1, solver=sag .....................\n",
      "[CV]  C=0.1, max_iter=100, penalty=l1, solver=sag, score=nan, total=   0.0s\n",
      "[CV] C=0.1, max_iter=100, penalty=l1, solver=sag .....................\n",
      "[CV]  C=0.1, max_iter=100, penalty=l1, solver=sag, score=nan, total=   0.0s\n",
      "[CV] C=0.1, max_iter=100, penalty=l1, solver=saga ....................\n",
      "[CV]  C=0.1, max_iter=100, penalty=l1, solver=saga, score=0.755, total=   0.0s\n",
      "[CV] C=0.1, max_iter=100, penalty=l1, solver=saga ....................\n",
      "[CV]  C=0.1, max_iter=100, penalty=l1, solver=saga, score=0.746, total=   0.0s\n",
      "[CV] C=0.1, max_iter=100, penalty=l1, solver=saga ....................\n",
      "[CV]  C=0.1, max_iter=100, penalty=l1, solver=saga, score=0.749, total=   0.0s"
     ]
    },
    {
     "name": "stderr",
     "output_type": "stream",
     "text": [
      "C:\\Users\\hanie\\anaconda3\\lib\\site-packages\\sklearn\\model_selection\\_validation.py:548: FitFailedWarning: Estimator fit failed. The score on this train-test partition for these parameters will be set to nan. Details: \n",
      "Traceback (most recent call last):\n",
      "  File \"C:\\Users\\hanie\\anaconda3\\lib\\site-packages\\sklearn\\model_selection\\_validation.py\", line 531, in _fit_and_score\n",
      "    estimator.fit(X_train, y_train, **fit_params)\n",
      "  File \"C:\\Users\\hanie\\anaconda3\\lib\\site-packages\\sklearn\\linear_model\\_logistic.py\", line 1304, in fit\n",
      "    solver = _check_solver(self.solver, self.penalty, self.dual)\n",
      "  File \"C:\\Users\\hanie\\anaconda3\\lib\\site-packages\\sklearn\\linear_model\\_logistic.py\", line 442, in _check_solver\n",
      "    raise ValueError(\"Solver %s supports only 'l2' or 'none' penalties, \"\n",
      "ValueError: Solver sag supports only 'l2' or 'none' penalties, got l1 penalty.\n",
      "\n",
      "  warnings.warn(\"Estimator fit failed. The score on this train-test\"\n"
     ]
    },
    {
     "name": "stdout",
     "output_type": "stream",
     "text": [
      "\n",
      "[CV] C=0.1, max_iter=100, penalty=l1, solver=saga ....................\n",
      "[CV]  C=0.1, max_iter=100, penalty=l1, solver=saga, score=0.738, total=   0.0s\n",
      "[CV] C=0.1, max_iter=100, penalty=l1, solver=saga ....................\n",
      "[CV]  C=0.1, max_iter=100, penalty=l1, solver=saga, score=0.748, total=   0.0s\n",
      "[CV] C=0.1, max_iter=100, penalty=l2, solver=newton-cg ...............\n",
      "[CV]  C=0.1, max_iter=100, penalty=l2, solver=newton-cg, score=0.749, total=   0.0s\n",
      "[CV] C=0.1, max_iter=100, penalty=l2, solver=newton-cg ...............\n",
      "[CV]  C=0.1, max_iter=100, penalty=l2, solver=newton-cg, score=0.749, total=   0.0s\n",
      "[CV] C=0.1, max_iter=100, penalty=l2, solver=newton-cg ...............\n",
      "[CV]  C=0.1, max_iter=100, penalty=l2, solver=newton-cg, score=0.748, total=   0.0s\n",
      "[CV] C=0.1, max_iter=100, penalty=l2, solver=newton-cg ...............\n",
      "[CV]  C=0.1, max_iter=100, penalty=l2, solver=newton-cg, score=0.749, total=   0.0s\n",
      "[CV] C=0.1, max_iter=100, penalty=l2, solver=newton-cg ...............\n",
      "[CV]  C=0.1, max_iter=100, penalty=l2, solver=newton-cg, score=0.749, total=   0.0s\n",
      "[CV] C=0.1, max_iter=100, penalty=l2, solver=lbfgs ...................\n",
      "[CV]  C=0.1, max_iter=100, penalty=l2, solver=lbfgs, score=0.749, total=   0.0s\n",
      "[CV] C=0.1, max_iter=100, penalty=l2, solver=lbfgs ...................\n",
      "[CV]  C=0.1, max_iter=100, penalty=l2, solver=lbfgs, score=0.749, total=   0.0s\n",
      "[CV] C=0.1, max_iter=100, penalty=l2, solver=lbfgs ...................\n",
      "[CV]  C=0.1, max_iter=100, penalty=l2, solver=lbfgs, score=0.748, total=   0.0s\n",
      "[CV] C=0.1, max_iter=100, penalty=l2, solver=lbfgs ...................\n",
      "[CV]  C=0.1, max_iter=100, penalty=l2, solver=lbfgs, score=0.749, total=   0.0s\n",
      "[CV] C=0.1, max_iter=100, penalty=l2, solver=lbfgs ...................\n",
      "[CV]  C=0.1, max_iter=100, penalty=l2, solver=lbfgs, score=0.749, total=   0.0s\n",
      "[CV] C=0.1, max_iter=100, penalty=l2, solver=liblinear ...............\n",
      "[CV]  C=0.1, max_iter=100, penalty=l2, solver=liblinear, score=0.749, total=   0.0s\n",
      "[CV] C=0.1, max_iter=100, penalty=l2, solver=liblinear ...............\n",
      "[CV]  C=0.1, max_iter=100, penalty=l2, solver=liblinear, score=0.749, total=   0.0s\n",
      "[CV] C=0.1, max_iter=100, penalty=l2, solver=liblinear ...............\n",
      "[CV]  C=0.1, max_iter=100, penalty=l2, solver=liblinear, score=0.748, total=   0.0s\n",
      "[CV] C=0.1, max_iter=100, penalty=l2, solver=liblinear ...............\n",
      "[CV]  C=0.1, max_iter=100, penalty=l2, solver=liblinear, score=0.749, total=   0.0s\n",
      "[CV] C=0.1, max_iter=100, penalty=l2, solver=liblinear ...............\n",
      "[CV]  C=0.1, max_iter=100, penalty=l2, solver=liblinear, score=0.749, total=   0.0s\n",
      "[CV] C=0.1, max_iter=100, penalty=l2, solver=sag .....................\n",
      "[CV]  C=0.1, max_iter=100, penalty=l2, solver=sag, score=0.749, total=   0.0s\n",
      "[CV] C=0.1, max_iter=100, penalty=l2, solver=sag .....................\n",
      "[CV]  C=0.1, max_iter=100, penalty=l2, solver=sag, score=0.749, total=   0.0s\n",
      "[CV] C=0.1, max_iter=100, penalty=l2, solver=sag .....................\n",
      "[CV]  C=0.1, max_iter=100, penalty=l2, solver=sag, score=0.748, total=   0.0s\n",
      "[CV] C=0.1, max_iter=100, penalty=l2, solver=sag .....................\n",
      "[CV]  C=0.1, max_iter=100, penalty=l2, solver=sag, score=0.749, total=   0.0s\n",
      "[CV] C=0.1, max_iter=100, penalty=l2, solver=sag .....................\n",
      "[CV]  C=0.1, max_iter=100, penalty=l2, solver=sag, score=0.749, total=   0.0s\n",
      "[CV] C=0.1, max_iter=100, penalty=l2, solver=saga ....................\n",
      "[CV]  C=0.1, max_iter=100, penalty=l2, solver=saga, score=0.749, total=   0.0s\n",
      "[CV] C=0.1, max_iter=100, penalty=l2, solver=saga ....................\n",
      "[CV]  C=0.1, max_iter=100, penalty=l2, solver=saga, score=0.749, total=   0.0s\n",
      "[CV] C=0.1, max_iter=100, penalty=l2, solver=saga ....................\n",
      "[CV]  C=0.1, max_iter=100, penalty=l2, solver=saga, score=0.748, total=   0.0s\n",
      "[CV] C=0.1, max_iter=100, penalty=l2, solver=saga ....................\n",
      "[CV]  C=0.1, max_iter=100, penalty=l2, solver=saga, score=0.749, total=   0.0s\n",
      "[CV] C=0.1, max_iter=100, penalty=l2, solver=saga ....................\n",
      "[CV]  C=0.1, max_iter=100, penalty=l2, solver=saga, score=0.749, total=   0.0s\n",
      "[CV] C=0.1, max_iter=200, penalty=l1, solver=newton-cg ...............\n",
      "[CV]  C=0.1, max_iter=200, penalty=l1, solver=newton-cg, score=nan, total=   0.0s\n",
      "[CV] C=0.1, max_iter=200, penalty=l1, solver=newton-cg ...............\n",
      "[CV]  C=0.1, max_iter=200, penalty=l1, solver=newton-cg, score=nan, total=   0.0s\n",
      "[CV] C=0.1, max_iter=200, penalty=l1, solver=newton-cg ...............\n",
      "[CV]  C=0.1, max_iter=200, penalty=l1, solver=newton-cg, score=nan, total=   0.0s\n",
      "[CV] C=0.1, max_iter=200, penalty=l1, solver=newton-cg ...............\n",
      "[CV]  C=0.1, max_iter=200, penalty=l1, solver=newton-cg, score=nan, total=   0.0s\n",
      "[CV] C=0.1, max_iter=200, penalty=l1, solver=newton-cg ...............\n",
      "[CV]  C=0.1, max_iter=200, penalty=l1, solver=newton-cg, score=nan, total=   0.0s\n",
      "[CV] C=0.1, max_iter=200, penalty=l1, solver=lbfgs ...................\n",
      "[CV]  C=0.1, max_iter=200, penalty=l1, solver=lbfgs, score=nan, total=   0.0s\n",
      "[CV] C=0.1, max_iter=200, penalty=l1, solver=lbfgs ...................\n",
      "[CV]  C=0.1, max_iter=200, penalty=l1, solver=lbfgs, score=nan, total=   0.0s\n",
      "[CV] C=0.1, max_iter=200, penalty=l1, solver=lbfgs ...................\n",
      "[CV]  C=0.1, max_iter=200, penalty=l1, solver=lbfgs, score=nan, total=   0.0s\n",
      "[CV] C=0.1, max_iter=200, penalty=l1, solver=lbfgs ...................\n",
      "[CV]  C=0.1, max_iter=200, penalty=l1, solver=lbfgs, score=nan, total=   0.0s\n",
      "[CV] C=0.1, max_iter=200, penalty=l1, solver=lbfgs ...................\n",
      "[CV]  C=0.1, max_iter=200, penalty=l1, solver=lbfgs, score=nan, total=   0.0s\n",
      "[CV] C=0.1, max_iter=200, penalty=l1, solver=liblinear ...............\n"
     ]
    },
    {
     "name": "stderr",
     "output_type": "stream",
     "text": [
      "C:\\Users\\hanie\\anaconda3\\lib\\site-packages\\sklearn\\model_selection\\_validation.py:548: FitFailedWarning: Estimator fit failed. The score on this train-test partition for these parameters will be set to nan. Details: \n",
      "Traceback (most recent call last):\n",
      "  File \"C:\\Users\\hanie\\anaconda3\\lib\\site-packages\\sklearn\\model_selection\\_validation.py\", line 531, in _fit_and_score\n",
      "    estimator.fit(X_train, y_train, **fit_params)\n",
      "  File \"C:\\Users\\hanie\\anaconda3\\lib\\site-packages\\sklearn\\linear_model\\_logistic.py\", line 1304, in fit\n",
      "    solver = _check_solver(self.solver, self.penalty, self.dual)\n",
      "  File \"C:\\Users\\hanie\\anaconda3\\lib\\site-packages\\sklearn\\linear_model\\_logistic.py\", line 442, in _check_solver\n",
      "    raise ValueError(\"Solver %s supports only 'l2' or 'none' penalties, \"\n",
      "ValueError: Solver newton-cg supports only 'l2' or 'none' penalties, got l1 penalty.\n",
      "\n",
      "  warnings.warn(\"Estimator fit failed. The score on this train-test\"\n",
      "C:\\Users\\hanie\\anaconda3\\lib\\site-packages\\sklearn\\model_selection\\_validation.py:548: FitFailedWarning: Estimator fit failed. The score on this train-test partition for these parameters will be set to nan. Details: \n",
      "Traceback (most recent call last):\n",
      "  File \"C:\\Users\\hanie\\anaconda3\\lib\\site-packages\\sklearn\\model_selection\\_validation.py\", line 531, in _fit_and_score\n",
      "    estimator.fit(X_train, y_train, **fit_params)\n",
      "  File \"C:\\Users\\hanie\\anaconda3\\lib\\site-packages\\sklearn\\linear_model\\_logistic.py\", line 1304, in fit\n",
      "    solver = _check_solver(self.solver, self.penalty, self.dual)\n",
      "  File \"C:\\Users\\hanie\\anaconda3\\lib\\site-packages\\sklearn\\linear_model\\_logistic.py\", line 442, in _check_solver\n",
      "    raise ValueError(\"Solver %s supports only 'l2' or 'none' penalties, \"\n",
      "ValueError: Solver lbfgs supports only 'l2' or 'none' penalties, got l1 penalty.\n",
      "\n",
      "  warnings.warn(\"Estimator fit failed. The score on this train-test\"\n"
     ]
    },
    {
     "name": "stdout",
     "output_type": "stream",
     "text": [
      "[CV]  C=0.1, max_iter=200, penalty=l1, solver=liblinear, score=0.759, total=   0.0s\n",
      "[CV] C=0.1, max_iter=200, penalty=l1, solver=liblinear ...............\n",
      "[CV]  C=0.1, max_iter=200, penalty=l1, solver=liblinear, score=0.748, total=   0.1s\n",
      "[CV] C=0.1, max_iter=200, penalty=l1, solver=liblinear ...............\n",
      "[CV]  C=0.1, max_iter=200, penalty=l1, solver=liblinear, score=0.749, total=   0.1s\n",
      "[CV] C=0.1, max_iter=200, penalty=l1, solver=liblinear ...............\n",
      "[CV]  C=0.1, max_iter=200, penalty=l1, solver=liblinear, score=0.741, total=   0.1s\n",
      "[CV] C=0.1, max_iter=200, penalty=l1, solver=liblinear ...............\n",
      "[CV]  C=0.1, max_iter=200, penalty=l1, solver=liblinear, score=0.746, total=   0.0s\n",
      "[CV] C=0.1, max_iter=200, penalty=l1, solver=sag .....................\n",
      "[CV]  C=0.1, max_iter=200, penalty=l1, solver=sag, score=nan, total=   0.0s\n",
      "[CV] C=0.1, max_iter=200, penalty=l1, solver=sag .....................\n",
      "[CV]  C=0.1, max_iter=200, penalty=l1, solver=sag, score=nan, total=   0.0s\n",
      "[CV] C=0.1, max_iter=200, penalty=l1, solver=sag .....................\n",
      "[CV]  C=0.1, max_iter=200, penalty=l1, solver=sag, score=nan, total=   0.0s\n",
      "[CV] C=0.1, max_iter=200, penalty=l1, solver=sag .....................\n",
      "[CV]  C=0.1, max_iter=200, penalty=l1, solver=sag, score=nan, total=   0.0s\n",
      "[CV] C=0.1, max_iter=200, penalty=l1, solver=sag .....................\n",
      "[CV]  C=0.1, max_iter=200, penalty=l1, solver=sag, score=nan, total=   0.0s\n",
      "[CV] C=0.1, max_iter=200, penalty=l1, solver=saga ....................\n",
      "[CV]  C=0.1, max_iter=200, penalty=l1, solver=saga, score=0.755, total=   0.0s\n",
      "[CV] C=0.1, max_iter=200, penalty=l1, solver=saga ....................\n",
      "[CV]  C=0.1, max_iter=200, penalty=l1, solver=saga, score=0.746, total=   0.1s\n",
      "[CV] C=0.1, max_iter=200, penalty=l1, solver=saga ....................\n",
      "[CV]  C=0.1, max_iter=200, penalty=l1, solver=saga, score=0.749, total=   0.0s\n",
      "[CV] C=0.1, max_iter=200, penalty=l1, solver=saga ....................\n"
     ]
    },
    {
     "name": "stderr",
     "output_type": "stream",
     "text": [
      "C:\\Users\\hanie\\anaconda3\\lib\\site-packages\\sklearn\\model_selection\\_validation.py:548: FitFailedWarning: Estimator fit failed. The score on this train-test partition for these parameters will be set to nan. Details: \n",
      "Traceback (most recent call last):\n",
      "  File \"C:\\Users\\hanie\\anaconda3\\lib\\site-packages\\sklearn\\model_selection\\_validation.py\", line 531, in _fit_and_score\n",
      "    estimator.fit(X_train, y_train, **fit_params)\n",
      "  File \"C:\\Users\\hanie\\anaconda3\\lib\\site-packages\\sklearn\\linear_model\\_logistic.py\", line 1304, in fit\n",
      "    solver = _check_solver(self.solver, self.penalty, self.dual)\n",
      "  File \"C:\\Users\\hanie\\anaconda3\\lib\\site-packages\\sklearn\\linear_model\\_logistic.py\", line 442, in _check_solver\n",
      "    raise ValueError(\"Solver %s supports only 'l2' or 'none' penalties, \"\n",
      "ValueError: Solver sag supports only 'l2' or 'none' penalties, got l1 penalty.\n",
      "\n",
      "  warnings.warn(\"Estimator fit failed. The score on this train-test\"\n"
     ]
    },
    {
     "name": "stdout",
     "output_type": "stream",
     "text": [
      "[CV]  C=0.1, max_iter=200, penalty=l1, solver=saga, score=0.738, total=   0.0s\n",
      "[CV] C=0.1, max_iter=200, penalty=l1, solver=saga ....................\n",
      "[CV]  C=0.1, max_iter=200, penalty=l1, solver=saga, score=0.748, total=   0.0s\n",
      "[CV] C=0.1, max_iter=200, penalty=l2, solver=newton-cg ...............\n",
      "[CV]  C=0.1, max_iter=200, penalty=l2, solver=newton-cg, score=0.749, total=   0.0s\n",
      "[CV] C=0.1, max_iter=200, penalty=l2, solver=newton-cg ...............\n",
      "[CV]  C=0.1, max_iter=200, penalty=l2, solver=newton-cg, score=0.749, total=   0.0s\n",
      "[CV] C=0.1, max_iter=200, penalty=l2, solver=newton-cg ...............\n",
      "[CV]  C=0.1, max_iter=200, penalty=l2, solver=newton-cg, score=0.748, total=   0.0s\n",
      "[CV] C=0.1, max_iter=200, penalty=l2, solver=newton-cg ...............\n",
      "[CV]  C=0.1, max_iter=200, penalty=l2, solver=newton-cg, score=0.749, total=   0.0s\n",
      "[CV] C=0.1, max_iter=200, penalty=l2, solver=newton-cg ...............\n",
      "[CV]  C=0.1, max_iter=200, penalty=l2, solver=newton-cg, score=0.749, total=   0.0s\n",
      "[CV] C=0.1, max_iter=200, penalty=l2, solver=lbfgs ...................\n",
      "[CV]  C=0.1, max_iter=200, penalty=l2, solver=lbfgs, score=0.749, total=   0.0s\n",
      "[CV] C=0.1, max_iter=200, penalty=l2, solver=lbfgs ...................\n",
      "[CV]  C=0.1, max_iter=200, penalty=l2, solver=lbfgs, score=0.749, total=   0.0s\n",
      "[CV] C=0.1, max_iter=200, penalty=l2, solver=lbfgs ...................\n",
      "[CV]  C=0.1, max_iter=200, penalty=l2, solver=lbfgs, score=0.748, total=   0.0s\n",
      "[CV] C=0.1, max_iter=200, penalty=l2, solver=lbfgs ...................\n",
      "[CV]  C=0.1, max_iter=200, penalty=l2, solver=lbfgs, score=0.749, total=   0.0s\n",
      "[CV] C=0.1, max_iter=200, penalty=l2, solver=lbfgs ...................\n",
      "[CV]  C=0.1, max_iter=200, penalty=l2, solver=lbfgs, score=0.749, total=   0.0s\n",
      "[CV] C=0.1, max_iter=200, penalty=l2, solver=liblinear ...............\n",
      "[CV]  C=0.1, max_iter=200, penalty=l2, solver=liblinear, score=0.749, total=   0.0s\n",
      "[CV] C=0.1, max_iter=200, penalty=l2, solver=liblinear ...............\n",
      "[CV]  C=0.1, max_iter=200, penalty=l2, solver=liblinear, score=0.749, total=   0.0s\n",
      "[CV] C=0.1, max_iter=200, penalty=l2, solver=liblinear ...............\n",
      "[CV]  C=0.1, max_iter=200, penalty=l2, solver=liblinear, score=0.748, total=   0.0s\n",
      "[CV] C=0.1, max_iter=200, penalty=l2, solver=liblinear ...............\n",
      "[CV]  C=0.1, max_iter=200, penalty=l2, solver=liblinear, score=0.749, total=   0.0s\n",
      "[CV] C=0.1, max_iter=200, penalty=l2, solver=liblinear ...............\n",
      "[CV]  C=0.1, max_iter=200, penalty=l2, solver=liblinear, score=0.749, total=   0.0s\n",
      "[CV] C=0.1, max_iter=200, penalty=l2, solver=sag .....................\n",
      "[CV]  C=0.1, max_iter=200, penalty=l2, solver=sag, score=0.749, total=   0.0s\n",
      "[CV] C=0.1, max_iter=200, penalty=l2, solver=sag .....................\n",
      "[CV]  C=0.1, max_iter=200, penalty=l2, solver=sag, score=0.749, total=   0.0s\n",
      "[CV] C=0.1, max_iter=200, penalty=l2, solver=sag .....................\n",
      "[CV]  C=0.1, max_iter=200, penalty=l2, solver=sag, score=0.748, total=   0.0s\n",
      "[CV] C=0.1, max_iter=200, penalty=l2, solver=sag .....................\n",
      "[CV]  C=0.1, max_iter=200, penalty=l2, solver=sag, score=0.749, total=   0.0s\n",
      "[CV] C=0.1, max_iter=200, penalty=l2, solver=sag .....................\n",
      "[CV]  C=0.1, max_iter=200, penalty=l2, solver=sag, score=0.749, total=   0.0s\n",
      "[CV] C=0.1, max_iter=200, penalty=l2, solver=saga ....................\n",
      "[CV]  C=0.1, max_iter=200, penalty=l2, solver=saga, score=0.749, total=   0.0s\n",
      "[CV] C=0.1, max_iter=200, penalty=l2, solver=saga ....................\n",
      "[CV]  C=0.1, max_iter=200, penalty=l2, solver=saga, score=0.749, total=   0.0s\n",
      "[CV] C=0.1, max_iter=200, penalty=l2, solver=saga ....................\n",
      "[CV]  C=0.1, max_iter=200, penalty=l2, solver=saga, score=0.748, total=   0.0s\n",
      "[CV] C=0.1, max_iter=200, penalty=l2, solver=saga ....................\n",
      "[CV]  C=0.1, max_iter=200, penalty=l2, solver=saga, score=0.749, total=   0.0s\n",
      "[CV] C=0.1, max_iter=200, penalty=l2, solver=saga ....................\n",
      "[CV]  C=0.1, max_iter=200, penalty=l2, solver=saga, score=0.749, total=   0.0s\n",
      "[CV] C=0.1, max_iter=300, penalty=l1, solver=newton-cg ...............\n",
      "[CV]  C=0.1, max_iter=300, penalty=l1, solver=newton-cg, score=nan, total=   0.0s\n",
      "[CV] C=0.1, max_iter=300, penalty=l1, solver=newton-cg ...............\n",
      "[CV]  C=0.1, max_iter=300, penalty=l1, solver=newton-cg, score=nan, total=   0.0s\n",
      "[CV] C=0.1, max_iter=300, penalty=l1, solver=newton-cg ...............\n",
      "[CV]  C=0.1, max_iter=300, penalty=l1, solver=newton-cg, score=nan, total=   0.0s\n",
      "[CV] C=0.1, max_iter=300, penalty=l1, solver=newton-cg ...............\n",
      "[CV]  C=0.1, max_iter=300, penalty=l1, solver=newton-cg, score=nan, total=   0.0s\n",
      "[CV] C=0.1, max_iter=300, penalty=l1, solver=newton-cg ...............\n",
      "[CV]  C=0.1, max_iter=300, penalty=l1, solver=newton-cg, score=nan, total=   0.0s\n",
      "[CV] C=0.1, max_iter=300, penalty=l1, solver=lbfgs ...................\n",
      "[CV]  C=0.1, max_iter=300, penalty=l1, solver=lbfgs, score=nan, total=   0.0s\n",
      "[CV] C=0.1, max_iter=300, penalty=l1, solver=lbfgs ...................\n",
      "[CV]  C=0.1, max_iter=300, penalty=l1, solver=lbfgs, score=nan, total=   0.0s\n",
      "[CV] C=0.1, max_iter=300, penalty=l1, solver=lbfgs ...................\n",
      "[CV]  C=0.1, max_iter=300, penalty=l1, solver=lbfgs, score=nan, total=   0.0s\n",
      "[CV] C=0.1, max_iter=300, penalty=l1, solver=lbfgs ...................\n",
      "[CV]  C=0.1, max_iter=300, penalty=l1, solver=lbfgs, score=nan, total=   0.0s\n",
      "[CV] C=0.1, max_iter=300, penalty=l1, solver=lbfgs ...................\n",
      "[CV]  C=0.1, max_iter=300, penalty=l1, solver=lbfgs, score=nan, total=   0.0s\n",
      "[CV] C=0.1, max_iter=300, penalty=l1, solver=liblinear ...............\n",
      "[CV]  C=0.1, max_iter=300, penalty=l1, solver=liblinear, score=0.759, total=   0.0s\n",
      "[CV] C=0.1, max_iter=300, penalty=l1, solver=liblinear ...............\n",
      "[CV]  C=0.1, max_iter=300, penalty=l1, solver=liblinear, score=0.748, total=   0.0s\n",
      "[CV] C=0.1, max_iter=300, penalty=l1, solver=liblinear ...............\n",
      "[CV]  C=0.1, max_iter=300, penalty=l1, solver=liblinear, score=0.749, total=   0.0s\n",
      "[CV] C=0.1, max_iter=300, penalty=l1, solver=liblinear ...............\n"
     ]
    },
    {
     "name": "stderr",
     "output_type": "stream",
     "text": [
      "C:\\Users\\hanie\\anaconda3\\lib\\site-packages\\sklearn\\model_selection\\_validation.py:548: FitFailedWarning: Estimator fit failed. The score on this train-test partition for these parameters will be set to nan. Details: \n",
      "Traceback (most recent call last):\n",
      "  File \"C:\\Users\\hanie\\anaconda3\\lib\\site-packages\\sklearn\\model_selection\\_validation.py\", line 531, in _fit_and_score\n",
      "    estimator.fit(X_train, y_train, **fit_params)\n",
      "  File \"C:\\Users\\hanie\\anaconda3\\lib\\site-packages\\sklearn\\linear_model\\_logistic.py\", line 1304, in fit\n",
      "    solver = _check_solver(self.solver, self.penalty, self.dual)\n",
      "  File \"C:\\Users\\hanie\\anaconda3\\lib\\site-packages\\sklearn\\linear_model\\_logistic.py\", line 442, in _check_solver\n",
      "    raise ValueError(\"Solver %s supports only 'l2' or 'none' penalties, \"\n",
      "ValueError: Solver newton-cg supports only 'l2' or 'none' penalties, got l1 penalty.\n",
      "\n",
      "  warnings.warn(\"Estimator fit failed. The score on this train-test\"\n",
      "C:\\Users\\hanie\\anaconda3\\lib\\site-packages\\sklearn\\model_selection\\_validation.py:548: FitFailedWarning: Estimator fit failed. The score on this train-test partition for these parameters will be set to nan. Details: \n",
      "Traceback (most recent call last):\n",
      "  File \"C:\\Users\\hanie\\anaconda3\\lib\\site-packages\\sklearn\\model_selection\\_validation.py\", line 531, in _fit_and_score\n",
      "    estimator.fit(X_train, y_train, **fit_params)\n",
      "  File \"C:\\Users\\hanie\\anaconda3\\lib\\site-packages\\sklearn\\linear_model\\_logistic.py\", line 1304, in fit\n",
      "    solver = _check_solver(self.solver, self.penalty, self.dual)\n",
      "  File \"C:\\Users\\hanie\\anaconda3\\lib\\site-packages\\sklearn\\linear_model\\_logistic.py\", line 442, in _check_solver\n",
      "    raise ValueError(\"Solver %s supports only 'l2' or 'none' penalties, \"\n",
      "ValueError: Solver lbfgs supports only 'l2' or 'none' penalties, got l1 penalty.\n",
      "\n",
      "  warnings.warn(\"Estimator fit failed. The score on this train-test\"\n"
     ]
    },
    {
     "name": "stdout",
     "output_type": "stream",
     "text": [
      "[CV]  C=0.1, max_iter=300, penalty=l1, solver=liblinear, score=0.741, total=   0.1s\n",
      "[CV] C=0.1, max_iter=300, penalty=l1, solver=liblinear ...............\n",
      "[CV]  C=0.1, max_iter=300, penalty=l1, solver=liblinear, score=0.746, total=   0.0s\n",
      "[CV] C=0.1, max_iter=300, penalty=l1, solver=sag .....................\n",
      "[CV]  C=0.1, max_iter=300, penalty=l1, solver=sag, score=nan, total=   0.0s\n",
      "[CV] C=0.1, max_iter=300, penalty=l1, solver=sag .....................\n",
      "[CV]  C=0.1, max_iter=300, penalty=l1, solver=sag, score=nan, total=   0.0s\n",
      "[CV] C=0.1, max_iter=300, penalty=l1, solver=sag .....................\n",
      "[CV]  C=0.1, max_iter=300, penalty=l1, solver=sag, score=nan, total=   0.0s\n",
      "[CV] C=0.1, max_iter=300, penalty=l1, solver=sag .....................\n",
      "[CV]  C=0.1, max_iter=300, penalty=l1, solver=sag, score=nan, total=   0.0s\n",
      "[CV] C=0.1, max_iter=300, penalty=l1, solver=sag .....................\n",
      "[CV]  C=0.1, max_iter=300, penalty=l1, solver=sag, score=nan, total=   0.0s\n",
      "[CV] C=0.1, max_iter=300, penalty=l1, solver=saga ....................\n",
      "[CV]  C=0.1, max_iter=300, penalty=l1, solver=saga, score=0.755, total=   0.0s\n",
      "[CV] C=0.1, max_iter=300, penalty=l1, solver=saga ....................\n",
      "[CV]  C=0.1, max_iter=300, penalty=l1, solver=saga, score=0.746, total=   0.0s\n",
      "[CV] C=0.1, max_iter=300, penalty=l1, solver=saga ....................\n",
      "[CV]  C=0.1, max_iter=300, penalty=l1, solver=saga, score=0.749, total=   0.0s\n",
      "[CV] C=0.1, max_iter=300, penalty=l1, solver=saga ....................\n",
      "[CV]  C=0.1, max_iter=300, penalty=l1, solver=saga, score=0.738, total=   0.0s\n",
      "[CV] C=0.1, max_iter=300, penalty=l1, solver=saga ....................\n",
      "[CV]  C=0.1, max_iter=300, penalty=l1, solver=saga, score=0.748, total=   0.0s\n",
      "[CV] C=0.1, max_iter=300, penalty=l2, solver=newton-cg ...............\n"
     ]
    },
    {
     "name": "stderr",
     "output_type": "stream",
     "text": [
      "C:\\Users\\hanie\\anaconda3\\lib\\site-packages\\sklearn\\model_selection\\_validation.py:548: FitFailedWarning: Estimator fit failed. The score on this train-test partition for these parameters will be set to nan. Details: \n",
      "Traceback (most recent call last):\n",
      "  File \"C:\\Users\\hanie\\anaconda3\\lib\\site-packages\\sklearn\\model_selection\\_validation.py\", line 531, in _fit_and_score\n",
      "    estimator.fit(X_train, y_train, **fit_params)\n",
      "  File \"C:\\Users\\hanie\\anaconda3\\lib\\site-packages\\sklearn\\linear_model\\_logistic.py\", line 1304, in fit\n",
      "    solver = _check_solver(self.solver, self.penalty, self.dual)\n",
      "  File \"C:\\Users\\hanie\\anaconda3\\lib\\site-packages\\sklearn\\linear_model\\_logistic.py\", line 442, in _check_solver\n",
      "    raise ValueError(\"Solver %s supports only 'l2' or 'none' penalties, \"\n",
      "ValueError: Solver sag supports only 'l2' or 'none' penalties, got l1 penalty.\n",
      "\n",
      "  warnings.warn(\"Estimator fit failed. The score on this train-test\"\n"
     ]
    },
    {
     "name": "stdout",
     "output_type": "stream",
     "text": [
      "[CV]  C=0.1, max_iter=300, penalty=l2, solver=newton-cg, score=0.749, total=   0.0s\n",
      "[CV] C=0.1, max_iter=300, penalty=l2, solver=newton-cg ...............\n",
      "[CV]  C=0.1, max_iter=300, penalty=l2, solver=newton-cg, score=0.749, total=   0.0s\n",
      "[CV] C=0.1, max_iter=300, penalty=l2, solver=newton-cg ...............\n",
      "[CV]  C=0.1, max_iter=300, penalty=l2, solver=newton-cg, score=0.748, total=   0.0s\n",
      "[CV] C=0.1, max_iter=300, penalty=l2, solver=newton-cg ...............\n",
      "[CV]  C=0.1, max_iter=300, penalty=l2, solver=newton-cg, score=0.749, total=   0.0s\n",
      "[CV] C=0.1, max_iter=300, penalty=l2, solver=newton-cg ...............\n",
      "[CV]  C=0.1, max_iter=300, penalty=l2, solver=newton-cg, score=0.749, total=   0.0s\n",
      "[CV] C=0.1, max_iter=300, penalty=l2, solver=lbfgs ...................\n",
      "[CV]  C=0.1, max_iter=300, penalty=l2, solver=lbfgs, score=0.749, total=   0.0s\n",
      "[CV] C=0.1, max_iter=300, penalty=l2, solver=lbfgs ...................\n",
      "[CV]  C=0.1, max_iter=300, penalty=l2, solver=lbfgs, score=0.749, total=   0.0s\n",
      "[CV] C=0.1, max_iter=300, penalty=l2, solver=lbfgs ...................\n",
      "[CV]  C=0.1, max_iter=300, penalty=l2, solver=lbfgs, score=0.748, total=   0.0s\n",
      "[CV] C=0.1, max_iter=300, penalty=l2, solver=lbfgs ...................\n",
      "[CV]  C=0.1, max_iter=300, penalty=l2, solver=lbfgs, score=0.749, total=   0.0s\n",
      "[CV] C=0.1, max_iter=300, penalty=l2, solver=lbfgs ...................\n",
      "[CV]  C=0.1, max_iter=300, penalty=l2, solver=lbfgs, score=0.749, total=   0.0s\n",
      "[CV] C=0.1, max_iter=300, penalty=l2, solver=liblinear ...............\n",
      "[CV]  C=0.1, max_iter=300, penalty=l2, solver=liblinear, score=0.749, total=   0.0s\n",
      "[CV] C=0.1, max_iter=300, penalty=l2, solver=liblinear ...............\n",
      "[CV]  C=0.1, max_iter=300, penalty=l2, solver=liblinear, score=0.749, total=   0.0s\n",
      "[CV] C=0.1, max_iter=300, penalty=l2, solver=liblinear ...............\n",
      "[CV]  C=0.1, max_iter=300, penalty=l2, solver=liblinear, score=0.748, total=   0.0s\n",
      "[CV] C=0.1, max_iter=300, penalty=l2, solver=liblinear ...............\n",
      "[CV]  C=0.1, max_iter=300, penalty=l2, solver=liblinear, score=0.749, total=   0.0s\n",
      "[CV] C=0.1, max_iter=300, penalty=l2, solver=liblinear ...............\n",
      "[CV]  C=0.1, max_iter=300, penalty=l2, solver=liblinear, score=0.749, total=   0.0s\n",
      "[CV] C=0.1, max_iter=300, penalty=l2, solver=sag .....................\n",
      "[CV]  C=0.1, max_iter=300, penalty=l2, solver=sag, score=0.749, total=   0.0s\n",
      "[CV] C=0.1, max_iter=300, penalty=l2, solver=sag .....................\n",
      "[CV]  C=0.1, max_iter=300, penalty=l2, solver=sag, score=0.749, total=   0.0s\n",
      "[CV] C=0.1, max_iter=300, penalty=l2, solver=sag .....................\n",
      "[CV]  C=0.1, max_iter=300, penalty=l2, solver=sag, score=0.748, total=   0.0s\n",
      "[CV] C=0.1, max_iter=300, penalty=l2, solver=sag .....................\n",
      "[CV]  C=0.1, max_iter=300, penalty=l2, solver=sag, score=0.749, total=   0.0s\n",
      "[CV] C=0.1, max_iter=300, penalty=l2, solver=sag .....................\n",
      "[CV]  C=0.1, max_iter=300, penalty=l2, solver=sag, score=0.749, total=   0.0s\n",
      "[CV] C=0.1, max_iter=300, penalty=l2, solver=saga ....................\n",
      "[CV]  C=0.1, max_iter=300, penalty=l2, solver=saga, score=0.749, total=   0.0s\n",
      "[CV] C=0.1, max_iter=300, penalty=l2, solver=saga ....................\n",
      "[CV]  C=0.1, max_iter=300, penalty=l2, solver=saga, score=0.749, total=   0.0s\n",
      "[CV] C=0.1, max_iter=300, penalty=l2, solver=saga ....................\n",
      "[CV]  C=0.1, max_iter=300, penalty=l2, solver=saga, score=0.748, total=   0.0s\n",
      "[CV] C=0.1, max_iter=300, penalty=l2, solver=saga ....................\n",
      "[CV]  C=0.1, max_iter=300, penalty=l2, solver=saga, score=0.749, total=   0.0s\n",
      "[CV] C=0.1, max_iter=300, penalty=l2, solver=saga ....................\n",
      "[CV]  C=0.1, max_iter=300, penalty=l2, solver=saga, score=0.749, total=   0.0s\n",
      "[CV] C=0.1, max_iter=400, penalty=l1, solver=newton-cg ...............\n",
      "[CV]  C=0.1, max_iter=400, penalty=l1, solver=newton-cg, score=nan, total=   0.0s\n",
      "[CV] C=0.1, max_iter=400, penalty=l1, solver=newton-cg ...............\n",
      "[CV]  C=0.1, max_iter=400, penalty=l1, solver=newton-cg, score=nan, total=   0.0s\n",
      "[CV] C=0.1, max_iter=400, penalty=l1, solver=newton-cg ...............\n",
      "[CV]  C=0.1, max_iter=400, penalty=l1, solver=newton-cg, score=nan, total=   0.0s\n",
      "[CV] C=0.1, max_iter=400, penalty=l1, solver=newton-cg ...............\n",
      "[CV]  C=0.1, max_iter=400, penalty=l1, solver=newton-cg, score=nan, total=   0.0s\n",
      "[CV] C=0.1, max_iter=400, penalty=l1, solver=newton-cg ...............\n",
      "[CV]  C=0.1, max_iter=400, penalty=l1, solver=newton-cg, score=nan, total=   0.0s"
     ]
    },
    {
     "name": "stderr",
     "output_type": "stream",
     "text": [
      "C:\\Users\\hanie\\anaconda3\\lib\\site-packages\\sklearn\\model_selection\\_validation.py:548: FitFailedWarning: Estimator fit failed. The score on this train-test partition for these parameters will be set to nan. Details: \n",
      "Traceback (most recent call last):\n",
      "  File \"C:\\Users\\hanie\\anaconda3\\lib\\site-packages\\sklearn\\model_selection\\_validation.py\", line 531, in _fit_and_score\n",
      "    estimator.fit(X_train, y_train, **fit_params)\n",
      "  File \"C:\\Users\\hanie\\anaconda3\\lib\\site-packages\\sklearn\\linear_model\\_logistic.py\", line 1304, in fit\n",
      "    solver = _check_solver(self.solver, self.penalty, self.dual)\n",
      "  File \"C:\\Users\\hanie\\anaconda3\\lib\\site-packages\\sklearn\\linear_model\\_logistic.py\", line 442, in _check_solver\n",
      "    raise ValueError(\"Solver %s supports only 'l2' or 'none' penalties, \"\n",
      "ValueError: Solver newton-cg supports only 'l2' or 'none' penalties, got l1 penalty.\n",
      "\n",
      "  warnings.warn(\"Estimator fit failed. The score on this train-test\"\n",
      "C:\\Users\\hanie\\anaconda3\\lib\\site-packages\\sklearn\\model_selection\\_validation.py:548: FitFailedWarning: Estimator fit failed. The score on this train-test partition for these parameters will be set to nan. Details: \n",
      "Traceback (most recent call last):\n",
      "  File \"C:\\Users\\hanie\\anaconda3\\lib\\site-packages\\sklearn\\model_selection\\_validation.py\", line 531, in _fit_and_score\n",
      "    estimator.fit(X_train, y_train, **fit_params)\n",
      "  File \"C:\\Users\\hanie\\anaconda3\\lib\\site-packages\\sklearn\\linear_model\\_logistic.py\", line 1304, in fit\n",
      "    solver = _check_solver(self.solver, self.penalty, self.dual)\n",
      "  File \"C:\\Users\\hanie\\anaconda3\\lib\\site-packages\\sklearn\\linear_model\\_logistic.py\", line 442, in _check_solver\n",
      "    raise ValueError(\"Solver %s supports only 'l2' or 'none' penalties, \"\n",
      "ValueError: Solver lbfgs supports only 'l2' or 'none' penalties, got l1 penalty.\n",
      "\n",
      "  warnings.warn(\"Estimator fit failed. The score on this train-test\"\n"
     ]
    },
    {
     "name": "stdout",
     "output_type": "stream",
     "text": [
      "\n",
      "[CV] C=0.1, max_iter=400, penalty=l1, solver=lbfgs ...................\n",
      "[CV]  C=0.1, max_iter=400, penalty=l1, solver=lbfgs, score=nan, total=   0.0s\n",
      "[CV] C=0.1, max_iter=400, penalty=l1, solver=lbfgs ...................\n",
      "[CV]  C=0.1, max_iter=400, penalty=l1, solver=lbfgs, score=nan, total=   0.0s\n",
      "[CV] C=0.1, max_iter=400, penalty=l1, solver=lbfgs ...................\n",
      "[CV]  C=0.1, max_iter=400, penalty=l1, solver=lbfgs, score=nan, total=   0.0s\n",
      "[CV] C=0.1, max_iter=400, penalty=l1, solver=lbfgs ...................\n",
      "[CV]  C=0.1, max_iter=400, penalty=l1, solver=lbfgs, score=nan, total=   0.0s\n",
      "[CV] C=0.1, max_iter=400, penalty=l1, solver=lbfgs ...................\n",
      "[CV]  C=0.1, max_iter=400, penalty=l1, solver=lbfgs, score=nan, total=   0.0s\n",
      "[CV] C=0.1, max_iter=400, penalty=l1, solver=liblinear ...............\n",
      "[CV]  C=0.1, max_iter=400, penalty=l1, solver=liblinear, score=0.759, total=   0.0s\n",
      "[CV] C=0.1, max_iter=400, penalty=l1, solver=liblinear ...............\n",
      "[CV]  C=0.1, max_iter=400, penalty=l1, solver=liblinear, score=0.748, total=   0.1s\n",
      "[CV] C=0.1, max_iter=400, penalty=l1, solver=liblinear ...............\n",
      "[CV]  C=0.1, max_iter=400, penalty=l1, solver=liblinear, score=0.749, total=   0.1s\n",
      "[CV] C=0.1, max_iter=400, penalty=l1, solver=liblinear ...............\n",
      "[CV]  C=0.1, max_iter=400, penalty=l1, solver=liblinear, score=0.741, total=   0.1s\n",
      "[CV] C=0.1, max_iter=400, penalty=l1, solver=liblinear ...............\n",
      "[CV]  C=0.1, max_iter=400, penalty=l1, solver=liblinear, score=0.746, total=   0.0s\n",
      "[CV] C=0.1, max_iter=400, penalty=l1, solver=sag .....................\n",
      "[CV]  C=0.1, max_iter=400, penalty=l1, solver=sag, score=nan, total=   0.0s\n",
      "[CV] C=0.1, max_iter=400, penalty=l1, solver=sag .....................\n",
      "[CV]  C=0.1, max_iter=400, penalty=l1, solver=sag, score=nan, total=   0.0s\n",
      "[CV] C=0.1, max_iter=400, penalty=l1, solver=sag .....................\n",
      "[CV]  C=0.1, max_iter=400, penalty=l1, solver=sag, score=nan, total=   0.0s\n",
      "[CV] C=0.1, max_iter=400, penalty=l1, solver=sag .....................\n",
      "[CV]  C=0.1, max_iter=400, penalty=l1, solver=sag, score=nan, total=   0.0s\n",
      "[CV] C=0.1, max_iter=400, penalty=l1, solver=sag .....................\n",
      "[CV]  C=0.1, max_iter=400, penalty=l1, solver=sag, score=nan, total=   0.0s\n",
      "[CV] C=0.1, max_iter=400, penalty=l1, solver=saga ....................\n",
      "[CV]  C=0.1, max_iter=400, penalty=l1, solver=saga, score=0.755, total=   0.0s\n",
      "[CV] C=0.1, max_iter=400, penalty=l1, solver=saga ....................\n",
      "[CV]  C=0.1, max_iter=400, penalty=l1, solver=saga, score=0.746, total=   0.0s\n",
      "[CV] C=0.1, max_iter=400, penalty=l1, solver=saga ....................\n"
     ]
    },
    {
     "name": "stderr",
     "output_type": "stream",
     "text": [
      "C:\\Users\\hanie\\anaconda3\\lib\\site-packages\\sklearn\\model_selection\\_validation.py:548: FitFailedWarning: Estimator fit failed. The score on this train-test partition for these parameters will be set to nan. Details: \n",
      "Traceback (most recent call last):\n",
      "  File \"C:\\Users\\hanie\\anaconda3\\lib\\site-packages\\sklearn\\model_selection\\_validation.py\", line 531, in _fit_and_score\n",
      "    estimator.fit(X_train, y_train, **fit_params)\n",
      "  File \"C:\\Users\\hanie\\anaconda3\\lib\\site-packages\\sklearn\\linear_model\\_logistic.py\", line 1304, in fit\n",
      "    solver = _check_solver(self.solver, self.penalty, self.dual)\n",
      "  File \"C:\\Users\\hanie\\anaconda3\\lib\\site-packages\\sklearn\\linear_model\\_logistic.py\", line 442, in _check_solver\n",
      "    raise ValueError(\"Solver %s supports only 'l2' or 'none' penalties, \"\n",
      "ValueError: Solver sag supports only 'l2' or 'none' penalties, got l1 penalty.\n",
      "\n",
      "  warnings.warn(\"Estimator fit failed. The score on this train-test\"\n"
     ]
    },
    {
     "name": "stdout",
     "output_type": "stream",
     "text": [
      "[CV]  C=0.1, max_iter=400, penalty=l1, solver=saga, score=0.749, total=   0.1s\n",
      "[CV] C=0.1, max_iter=400, penalty=l1, solver=saga ....................\n",
      "[CV]  C=0.1, max_iter=400, penalty=l1, solver=saga, score=0.738, total=   0.0s\n",
      "[CV] C=0.1, max_iter=400, penalty=l1, solver=saga ....................\n",
      "[CV]  C=0.1, max_iter=400, penalty=l1, solver=saga, score=0.748, total=   0.0s\n",
      "[CV] C=0.1, max_iter=400, penalty=l2, solver=newton-cg ...............\n",
      "[CV]  C=0.1, max_iter=400, penalty=l2, solver=newton-cg, score=0.749, total=   0.0s\n",
      "[CV] C=0.1, max_iter=400, penalty=l2, solver=newton-cg ...............\n",
      "[CV]  C=0.1, max_iter=400, penalty=l2, solver=newton-cg, score=0.749, total=   0.0s\n",
      "[CV] C=0.1, max_iter=400, penalty=l2, solver=newton-cg ...............\n",
      "[CV]  C=0.1, max_iter=400, penalty=l2, solver=newton-cg, score=0.748, total=   0.0s\n",
      "[CV] C=0.1, max_iter=400, penalty=l2, solver=newton-cg ...............\n",
      "[CV]  C=0.1, max_iter=400, penalty=l2, solver=newton-cg, score=0.749, total=   0.0s\n",
      "[CV] C=0.1, max_iter=400, penalty=l2, solver=newton-cg ...............\n",
      "[CV]  C=0.1, max_iter=400, penalty=l2, solver=newton-cg, score=0.749, total=   0.0s\n",
      "[CV] C=0.1, max_iter=400, penalty=l2, solver=lbfgs ...................\n",
      "[CV]  C=0.1, max_iter=400, penalty=l2, solver=lbfgs, score=0.749, total=   0.0s\n",
      "[CV] C=0.1, max_iter=400, penalty=l2, solver=lbfgs ...................\n",
      "[CV]  C=0.1, max_iter=400, penalty=l2, solver=lbfgs, score=0.749, total=   0.0s\n",
      "[CV] C=0.1, max_iter=400, penalty=l2, solver=lbfgs ...................\n",
      "[CV]  C=0.1, max_iter=400, penalty=l2, solver=lbfgs, score=0.748, total=   0.0s\n",
      "[CV] C=0.1, max_iter=400, penalty=l2, solver=lbfgs ...................\n",
      "[CV]  C=0.1, max_iter=400, penalty=l2, solver=lbfgs, score=0.749, total=   0.0s\n",
      "[CV] C=0.1, max_iter=400, penalty=l2, solver=lbfgs ...................\n",
      "[CV]  C=0.1, max_iter=400, penalty=l2, solver=lbfgs, score=0.749, total=   0.0s\n",
      "[CV] C=0.1, max_iter=400, penalty=l2, solver=liblinear ...............\n",
      "[CV]  C=0.1, max_iter=400, penalty=l2, solver=liblinear, score=0.749, total=   0.0s\n",
      "[CV] C=0.1, max_iter=400, penalty=l2, solver=liblinear ...............\n",
      "[CV]  C=0.1, max_iter=400, penalty=l2, solver=liblinear, score=0.749, total=   0.0s\n",
      "[CV] C=0.1, max_iter=400, penalty=l2, solver=liblinear ...............\n",
      "[CV]  C=0.1, max_iter=400, penalty=l2, solver=liblinear, score=0.748, total=   0.0s\n",
      "[CV] C=0.1, max_iter=400, penalty=l2, solver=liblinear ...............\n",
      "[CV]  C=0.1, max_iter=400, penalty=l2, solver=liblinear, score=0.749, total=   0.0s\n",
      "[CV] C=0.1, max_iter=400, penalty=l2, solver=liblinear ...............\n",
      "[CV]  C=0.1, max_iter=400, penalty=l2, solver=liblinear, score=0.749, total=   0.0s\n",
      "[CV] C=0.1, max_iter=400, penalty=l2, solver=sag .....................\n",
      "[CV]  C=0.1, max_iter=400, penalty=l2, solver=sag, score=0.749, total=   0.0s\n",
      "[CV] C=0.1, max_iter=400, penalty=l2, solver=sag .....................\n",
      "[CV]  C=0.1, max_iter=400, penalty=l2, solver=sag, score=0.749, total=   0.0s\n",
      "[CV] C=0.1, max_iter=400, penalty=l2, solver=sag .....................\n",
      "[CV]  C=0.1, max_iter=400, penalty=l2, solver=sag, score=0.748, total=   0.0s\n",
      "[CV] C=0.1, max_iter=400, penalty=l2, solver=sag .....................\n",
      "[CV]  C=0.1, max_iter=400, penalty=l2, solver=sag, score=0.749, total=   0.0s\n",
      "[CV] C=0.1, max_iter=400, penalty=l2, solver=sag .....................\n",
      "[CV]  C=0.1, max_iter=400, penalty=l2, solver=sag, score=0.749, total=   0.0s\n",
      "[CV] C=0.1, max_iter=400, penalty=l2, solver=saga ....................\n",
      "[CV]  C=0.1, max_iter=400, penalty=l2, solver=saga, score=0.749, total=   0.0s\n",
      "[CV] C=0.1, max_iter=400, penalty=l2, solver=saga ....................\n",
      "[CV]  C=0.1, max_iter=400, penalty=l2, solver=saga, score=0.749, total=   0.0s\n",
      "[CV] C=0.1, max_iter=400, penalty=l2, solver=saga ....................\n",
      "[CV]  C=0.1, max_iter=400, penalty=l2, solver=saga, score=0.748, total=   0.0s\n",
      "[CV] C=0.1, max_iter=400, penalty=l2, solver=saga ....................\n",
      "[CV]  C=0.1, max_iter=400, penalty=l2, solver=saga, score=0.749, total=   0.0s\n",
      "[CV] C=0.1, max_iter=400, penalty=l2, solver=saga ....................\n",
      "[CV]  C=0.1, max_iter=400, penalty=l2, solver=saga, score=0.749, total=   0.0s\n",
      "[CV] C=0.1, max_iter=500, penalty=l1, solver=newton-cg ...............\n",
      "[CV]  C=0.1, max_iter=500, penalty=l1, solver=newton-cg, score=nan, total=   0.0s\n",
      "[CV] C=0.1, max_iter=500, penalty=l1, solver=newton-cg ...............\n",
      "[CV]  C=0.1, max_iter=500, penalty=l1, solver=newton-cg, score=nan, total=   0.0s\n",
      "[CV] C=0.1, max_iter=500, penalty=l1, solver=newton-cg ...............\n",
      "[CV]  C=0.1, max_iter=500, penalty=l1, solver=newton-cg, score=nan, total=   0.0s\n",
      "[CV] C=0.1, max_iter=500, penalty=l1, solver=newton-cg ...............\n",
      "[CV]  C=0.1, max_iter=500, penalty=l1, solver=newton-cg, score=nan, total=   0.0s\n",
      "[CV] C=0.1, max_iter=500, penalty=l1, solver=newton-cg ...............\n",
      "[CV]  C=0.1, max_iter=500, penalty=l1, solver=newton-cg, score=nan, total=   0.0s\n",
      "[CV] C=0.1, max_iter=500, penalty=l1, solver=lbfgs ...................\n",
      "[CV]  C=0.1, max_iter=500, penalty=l1, solver=lbfgs, score=nan, total=   0.0s\n",
      "[CV] C=0.1, max_iter=500, penalty=l1, solver=lbfgs ...................\n",
      "[CV]  C=0.1, max_iter=500, penalty=l1, solver=lbfgs, score=nan, total=   0.0s\n",
      "[CV] C=0.1, max_iter=500, penalty=l1, solver=lbfgs ...................\n",
      "[CV]  C=0.1, max_iter=500, penalty=l1, solver=lbfgs, score=nan, total=   0.0s\n",
      "[CV] C=0.1, max_iter=500, penalty=l1, solver=lbfgs ...................\n",
      "[CV]  C=0.1, max_iter=500, penalty=l1, solver=lbfgs, score=nan, total=   0.0s\n",
      "[CV] C=0.1, max_iter=500, penalty=l1, solver=lbfgs ...................\n",
      "[CV]  C=0.1, max_iter=500, penalty=l1, solver=lbfgs, score=nan, total=   0.0s\n",
      "[CV] C=0.1, max_iter=500, penalty=l1, solver=liblinear ...............\n",
      "[CV]  C=0.1, max_iter=500, penalty=l1, solver=liblinear, score=0.759, total=   0.0s\n",
      "[CV] C=0.1, max_iter=500, penalty=l1, solver=liblinear ...............\n"
     ]
    },
    {
     "name": "stderr",
     "output_type": "stream",
     "text": [
      "C:\\Users\\hanie\\anaconda3\\lib\\site-packages\\sklearn\\model_selection\\_validation.py:548: FitFailedWarning: Estimator fit failed. The score on this train-test partition for these parameters will be set to nan. Details: \n",
      "Traceback (most recent call last):\n",
      "  File \"C:\\Users\\hanie\\anaconda3\\lib\\site-packages\\sklearn\\model_selection\\_validation.py\", line 531, in _fit_and_score\n",
      "    estimator.fit(X_train, y_train, **fit_params)\n",
      "  File \"C:\\Users\\hanie\\anaconda3\\lib\\site-packages\\sklearn\\linear_model\\_logistic.py\", line 1304, in fit\n",
      "    solver = _check_solver(self.solver, self.penalty, self.dual)\n",
      "  File \"C:\\Users\\hanie\\anaconda3\\lib\\site-packages\\sklearn\\linear_model\\_logistic.py\", line 442, in _check_solver\n",
      "    raise ValueError(\"Solver %s supports only 'l2' or 'none' penalties, \"\n",
      "ValueError: Solver newton-cg supports only 'l2' or 'none' penalties, got l1 penalty.\n",
      "\n",
      "  warnings.warn(\"Estimator fit failed. The score on this train-test\"\n",
      "C:\\Users\\hanie\\anaconda3\\lib\\site-packages\\sklearn\\model_selection\\_validation.py:548: FitFailedWarning: Estimator fit failed. The score on this train-test partition for these parameters will be set to nan. Details: \n",
      "Traceback (most recent call last):\n",
      "  File \"C:\\Users\\hanie\\anaconda3\\lib\\site-packages\\sklearn\\model_selection\\_validation.py\", line 531, in _fit_and_score\n",
      "    estimator.fit(X_train, y_train, **fit_params)\n",
      "  File \"C:\\Users\\hanie\\anaconda3\\lib\\site-packages\\sklearn\\linear_model\\_logistic.py\", line 1304, in fit\n",
      "    solver = _check_solver(self.solver, self.penalty, self.dual)\n",
      "  File \"C:\\Users\\hanie\\anaconda3\\lib\\site-packages\\sklearn\\linear_model\\_logistic.py\", line 442, in _check_solver\n",
      "    raise ValueError(\"Solver %s supports only 'l2' or 'none' penalties, \"\n",
      "ValueError: Solver lbfgs supports only 'l2' or 'none' penalties, got l1 penalty.\n",
      "\n",
      "  warnings.warn(\"Estimator fit failed. The score on this train-test\"\n"
     ]
    },
    {
     "name": "stdout",
     "output_type": "stream",
     "text": [
      "[CV]  C=0.1, max_iter=500, penalty=l1, solver=liblinear, score=0.748, total=   0.0s\n",
      "[CV] C=0.1, max_iter=500, penalty=l1, solver=liblinear ...............\n",
      "[CV]  C=0.1, max_iter=500, penalty=l1, solver=liblinear, score=0.749, total=   0.0s\n",
      "[CV] C=0.1, max_iter=500, penalty=l1, solver=liblinear ...............\n",
      "[CV]  C=0.1, max_iter=500, penalty=l1, solver=liblinear, score=0.741, total=   0.1s\n",
      "[CV] C=0.1, max_iter=500, penalty=l1, solver=liblinear ...............\n",
      "[CV]  C=0.1, max_iter=500, penalty=l1, solver=liblinear, score=0.746, total=   0.0s\n",
      "[CV] C=0.1, max_iter=500, penalty=l1, solver=sag .....................\n",
      "[CV]  C=0.1, max_iter=500, penalty=l1, solver=sag, score=nan, total=   0.0s\n",
      "[CV] C=0.1, max_iter=500, penalty=l1, solver=sag .....................\n",
      "[CV]  C=0.1, max_iter=500, penalty=l1, solver=sag, score=nan, total=   0.0s\n",
      "[CV] C=0.1, max_iter=500, penalty=l1, solver=sag .....................\n",
      "[CV]  C=0.1, max_iter=500, penalty=l1, solver=sag, score=nan, total=   0.0s\n",
      "[CV] C=0.1, max_iter=500, penalty=l1, solver=sag .....................\n",
      "[CV]  C=0.1, max_iter=500, penalty=l1, solver=sag, score=nan, total=   0.0s\n",
      "[CV] C=0.1, max_iter=500, penalty=l1, solver=sag .....................\n",
      "[CV]  C=0.1, max_iter=500, penalty=l1, solver=sag, score=nan, total=   0.0s\n",
      "[CV] C=0.1, max_iter=500, penalty=l1, solver=saga ....................\n",
      "[CV]  C=0.1, max_iter=500, penalty=l1, solver=saga, score=0.755, total=   0.0s\n",
      "[CV] C=0.1, max_iter=500, penalty=l1, solver=saga ....................\n",
      "[CV]  C=0.1, max_iter=500, penalty=l1, solver=saga, score=0.746, total=   0.0s"
     ]
    },
    {
     "name": "stderr",
     "output_type": "stream",
     "text": [
      "C:\\Users\\hanie\\anaconda3\\lib\\site-packages\\sklearn\\model_selection\\_validation.py:548: FitFailedWarning: Estimator fit failed. The score on this train-test partition for these parameters will be set to nan. Details: \n",
      "Traceback (most recent call last):\n",
      "  File \"C:\\Users\\hanie\\anaconda3\\lib\\site-packages\\sklearn\\model_selection\\_validation.py\", line 531, in _fit_and_score\n",
      "    estimator.fit(X_train, y_train, **fit_params)\n",
      "  File \"C:\\Users\\hanie\\anaconda3\\lib\\site-packages\\sklearn\\linear_model\\_logistic.py\", line 1304, in fit\n",
      "    solver = _check_solver(self.solver, self.penalty, self.dual)\n",
      "  File \"C:\\Users\\hanie\\anaconda3\\lib\\site-packages\\sklearn\\linear_model\\_logistic.py\", line 442, in _check_solver\n",
      "    raise ValueError(\"Solver %s supports only 'l2' or 'none' penalties, \"\n",
      "ValueError: Solver sag supports only 'l2' or 'none' penalties, got l1 penalty.\n",
      "\n",
      "  warnings.warn(\"Estimator fit failed. The score on this train-test\"\n"
     ]
    },
    {
     "name": "stdout",
     "output_type": "stream",
     "text": [
      "\n",
      "[CV] C=0.1, max_iter=500, penalty=l1, solver=saga ....................\n",
      "[CV]  C=0.1, max_iter=500, penalty=l1, solver=saga, score=0.749, total=   0.1s\n",
      "[CV] C=0.1, max_iter=500, penalty=l1, solver=saga ....................\n",
      "[CV]  C=0.1, max_iter=500, penalty=l1, solver=saga, score=0.738, total=   0.0s\n",
      "[CV] C=0.1, max_iter=500, penalty=l1, solver=saga ....................\n",
      "[CV]  C=0.1, max_iter=500, penalty=l1, solver=saga, score=0.748, total=   0.0s\n",
      "[CV] C=0.1, max_iter=500, penalty=l2, solver=newton-cg ...............\n",
      "[CV]  C=0.1, max_iter=500, penalty=l2, solver=newton-cg, score=0.749, total=   0.0s\n",
      "[CV] C=0.1, max_iter=500, penalty=l2, solver=newton-cg ...............\n",
      "[CV]  C=0.1, max_iter=500, penalty=l2, solver=newton-cg, score=0.749, total=   0.0s\n",
      "[CV] C=0.1, max_iter=500, penalty=l2, solver=newton-cg ...............\n",
      "[CV]  C=0.1, max_iter=500, penalty=l2, solver=newton-cg, score=0.748, total=   0.0s\n",
      "[CV] C=0.1, max_iter=500, penalty=l2, solver=newton-cg ...............\n",
      "[CV]  C=0.1, max_iter=500, penalty=l2, solver=newton-cg, score=0.749, total=   0.0s\n",
      "[CV] C=0.1, max_iter=500, penalty=l2, solver=newton-cg ...............\n",
      "[CV]  C=0.1, max_iter=500, penalty=l2, solver=newton-cg, score=0.749, total=   0.0s\n",
      "[CV] C=0.1, max_iter=500, penalty=l2, solver=lbfgs ...................\n",
      "[CV]  C=0.1, max_iter=500, penalty=l2, solver=lbfgs, score=0.749, total=   0.0s\n",
      "[CV] C=0.1, max_iter=500, penalty=l2, solver=lbfgs ...................\n",
      "[CV]  C=0.1, max_iter=500, penalty=l2, solver=lbfgs, score=0.749, total=   0.0s\n",
      "[CV] C=0.1, max_iter=500, penalty=l2, solver=lbfgs ...................\n",
      "[CV]  C=0.1, max_iter=500, penalty=l2, solver=lbfgs, score=0.748, total=   0.0s\n",
      "[CV] C=0.1, max_iter=500, penalty=l2, solver=lbfgs ...................\n",
      "[CV]  C=0.1, max_iter=500, penalty=l2, solver=lbfgs, score=0.749, total=   0.0s\n",
      "[CV] C=0.1, max_iter=500, penalty=l2, solver=lbfgs ...................\n",
      "[CV]  C=0.1, max_iter=500, penalty=l2, solver=lbfgs, score=0.749, total=   0.0s\n",
      "[CV] C=0.1, max_iter=500, penalty=l2, solver=liblinear ...............\n",
      "[CV]  C=0.1, max_iter=500, penalty=l2, solver=liblinear, score=0.749, total=   0.0s\n",
      "[CV] C=0.1, max_iter=500, penalty=l2, solver=liblinear ...............\n",
      "[CV]  C=0.1, max_iter=500, penalty=l2, solver=liblinear, score=0.749, total=   0.0s\n",
      "[CV] C=0.1, max_iter=500, penalty=l2, solver=liblinear ...............\n",
      "[CV]  C=0.1, max_iter=500, penalty=l2, solver=liblinear, score=0.748, total=   0.0s\n",
      "[CV] C=0.1, max_iter=500, penalty=l2, solver=liblinear ...............\n",
      "[CV]  C=0.1, max_iter=500, penalty=l2, solver=liblinear, score=0.749, total=   0.0s\n",
      "[CV] C=0.1, max_iter=500, penalty=l2, solver=liblinear ...............\n",
      "[CV]  C=0.1, max_iter=500, penalty=l2, solver=liblinear, score=0.749, total=   0.0s\n",
      "[CV] C=0.1, max_iter=500, penalty=l2, solver=sag .....................\n",
      "[CV]  C=0.1, max_iter=500, penalty=l2, solver=sag, score=0.749, total=   0.0s\n",
      "[CV] C=0.1, max_iter=500, penalty=l2, solver=sag .....................\n",
      "[CV]  C=0.1, max_iter=500, penalty=l2, solver=sag, score=0.749, total=   0.0s\n",
      "[CV] C=0.1, max_iter=500, penalty=l2, solver=sag .....................\n",
      "[CV]  C=0.1, max_iter=500, penalty=l2, solver=sag, score=0.748, total=   0.0s\n",
      "[CV] C=0.1, max_iter=500, penalty=l2, solver=sag .....................\n",
      "[CV]  C=0.1, max_iter=500, penalty=l2, solver=sag, score=0.749, total=   0.0s\n",
      "[CV] C=0.1, max_iter=500, penalty=l2, solver=sag .....................\n",
      "[CV]  C=0.1, max_iter=500, penalty=l2, solver=sag, score=0.749, total=   0.0s\n",
      "[CV] C=0.1, max_iter=500, penalty=l2, solver=saga ....................\n",
      "[CV]  C=0.1, max_iter=500, penalty=l2, solver=saga, score=0.749, total=   0.0s\n",
      "[CV] C=0.1, max_iter=500, penalty=l2, solver=saga ....................\n",
      "[CV]  C=0.1, max_iter=500, penalty=l2, solver=saga, score=0.749, total=   0.0s\n",
      "[CV] C=0.1, max_iter=500, penalty=l2, solver=saga ....................\n",
      "[CV]  C=0.1, max_iter=500, penalty=l2, solver=saga, score=0.748, total=   0.0s\n",
      "[CV] C=0.1, max_iter=500, penalty=l2, solver=saga ....................\n",
      "[CV]  C=0.1, max_iter=500, penalty=l2, solver=saga, score=0.749, total=   0.0s\n",
      "[CV] C=0.1, max_iter=500, penalty=l2, solver=saga ....................\n",
      "[CV]  C=0.1, max_iter=500, penalty=l2, solver=saga, score=0.749, total=   0.0s\n",
      "[CV] C=0.1, max_iter=600, penalty=l1, solver=newton-cg ...............\n",
      "[CV]  C=0.1, max_iter=600, penalty=l1, solver=newton-cg, score=nan, total=   0.0s\n",
      "[CV] C=0.1, max_iter=600, penalty=l1, solver=newton-cg ...............\n",
      "[CV]  C=0.1, max_iter=600, penalty=l1, solver=newton-cg, score=nan, total=   0.0s\n",
      "[CV] C=0.1, max_iter=600, penalty=l1, solver=newton-cg ...............\n",
      "[CV]  C=0.1, max_iter=600, penalty=l1, solver=newton-cg, score=nan, total=   0.0s\n",
      "[CV] C=0.1, max_iter=600, penalty=l1, solver=newton-cg ...............\n",
      "[CV]  C=0.1, max_iter=600, penalty=l1, solver=newton-cg, score=nan, total=   0.0s\n",
      "[CV] C=0.1, max_iter=600, penalty=l1, solver=newton-cg ...............\n",
      "[CV]  C=0.1, max_iter=600, penalty=l1, solver=newton-cg, score=nan, total=   0.0s\n",
      "[CV] C=0.1, max_iter=600, penalty=l1, solver=lbfgs ...................\n",
      "[CV]  C=0.1, max_iter=600, penalty=l1, solver=lbfgs, score=nan, total=   0.0s\n",
      "[CV] C=0.1, max_iter=600, penalty=l1, solver=lbfgs ...................\n",
      "[CV]  C=0.1, max_iter=600, penalty=l1, solver=lbfgs, score=nan, total=   0.0s\n",
      "[CV] C=0.1, max_iter=600, penalty=l1, solver=lbfgs ...................\n",
      "[CV]  C=0.1, max_iter=600, penalty=l1, solver=lbfgs, score=nan, total=   0.0s\n",
      "[CV] C=0.1, max_iter=600, penalty=l1, solver=lbfgs ...................\n",
      "[CV]  C=0.1, max_iter=600, penalty=l1, solver=lbfgs, score=nan, total=   0.0s\n",
      "[CV] C=0.1, max_iter=600, penalty=l1, solver=lbfgs ...................\n",
      "[CV]  C=0.1, max_iter=600, penalty=l1, solver=lbfgs, score=nan, total=   0.0s\n",
      "[CV] C=0.1, max_iter=600, penalty=l1, solver=liblinear ...............\n",
      "[CV]  C=0.1, max_iter=600, penalty=l1, solver=liblinear, score=0.759, total=   0.0s"
     ]
    },
    {
     "name": "stderr",
     "output_type": "stream",
     "text": [
      "C:\\Users\\hanie\\anaconda3\\lib\\site-packages\\sklearn\\model_selection\\_validation.py:548: FitFailedWarning: Estimator fit failed. The score on this train-test partition for these parameters will be set to nan. Details: \n",
      "Traceback (most recent call last):\n",
      "  File \"C:\\Users\\hanie\\anaconda3\\lib\\site-packages\\sklearn\\model_selection\\_validation.py\", line 531, in _fit_and_score\n",
      "    estimator.fit(X_train, y_train, **fit_params)\n",
      "  File \"C:\\Users\\hanie\\anaconda3\\lib\\site-packages\\sklearn\\linear_model\\_logistic.py\", line 1304, in fit\n",
      "    solver = _check_solver(self.solver, self.penalty, self.dual)\n",
      "  File \"C:\\Users\\hanie\\anaconda3\\lib\\site-packages\\sklearn\\linear_model\\_logistic.py\", line 442, in _check_solver\n",
      "    raise ValueError(\"Solver %s supports only 'l2' or 'none' penalties, \"\n",
      "ValueError: Solver newton-cg supports only 'l2' or 'none' penalties, got l1 penalty.\n",
      "\n",
      "  warnings.warn(\"Estimator fit failed. The score on this train-test\"\n",
      "C:\\Users\\hanie\\anaconda3\\lib\\site-packages\\sklearn\\model_selection\\_validation.py:548: FitFailedWarning: Estimator fit failed. The score on this train-test partition for these parameters will be set to nan. Details: \n",
      "Traceback (most recent call last):\n",
      "  File \"C:\\Users\\hanie\\anaconda3\\lib\\site-packages\\sklearn\\model_selection\\_validation.py\", line 531, in _fit_and_score\n",
      "    estimator.fit(X_train, y_train, **fit_params)\n",
      "  File \"C:\\Users\\hanie\\anaconda3\\lib\\site-packages\\sklearn\\linear_model\\_logistic.py\", line 1304, in fit\n",
      "    solver = _check_solver(self.solver, self.penalty, self.dual)\n",
      "  File \"C:\\Users\\hanie\\anaconda3\\lib\\site-packages\\sklearn\\linear_model\\_logistic.py\", line 442, in _check_solver\n",
      "    raise ValueError(\"Solver %s supports only 'l2' or 'none' penalties, \"\n",
      "ValueError: Solver lbfgs supports only 'l2' or 'none' penalties, got l1 penalty.\n",
      "\n",
      "  warnings.warn(\"Estimator fit failed. The score on this train-test\"\n"
     ]
    },
    {
     "name": "stdout",
     "output_type": "stream",
     "text": [
      "\n",
      "[CV] C=0.1, max_iter=600, penalty=l1, solver=liblinear ...............\n",
      "[CV]  C=0.1, max_iter=600, penalty=l1, solver=liblinear, score=0.748, total=   0.0s\n",
      "[CV] C=0.1, max_iter=600, penalty=l1, solver=liblinear ...............\n",
      "[CV]  C=0.1, max_iter=600, penalty=l1, solver=liblinear, score=0.749, total=   0.1s\n",
      "[CV] C=0.1, max_iter=600, penalty=l1, solver=liblinear ...............\n",
      "[CV]  C=0.1, max_iter=600, penalty=l1, solver=liblinear, score=0.741, total=   0.1s\n",
      "[CV] C=0.1, max_iter=600, penalty=l1, solver=liblinear ...............\n",
      "[CV]  C=0.1, max_iter=600, penalty=l1, solver=liblinear, score=0.746, total=   0.0s\n",
      "[CV] C=0.1, max_iter=600, penalty=l1, solver=sag .....................\n"
     ]
    },
    {
     "name": "stderr",
     "output_type": "stream",
     "text": [
      "C:\\Users\\hanie\\anaconda3\\lib\\site-packages\\sklearn\\model_selection\\_validation.py:548: FitFailedWarning: Estimator fit failed. The score on this train-test partition for these parameters will be set to nan. Details: \n",
      "Traceback (most recent call last):\n",
      "  File \"C:\\Users\\hanie\\anaconda3\\lib\\site-packages\\sklearn\\model_selection\\_validation.py\", line 531, in _fit_and_score\n",
      "    estimator.fit(X_train, y_train, **fit_params)\n",
      "  File \"C:\\Users\\hanie\\anaconda3\\lib\\site-packages\\sklearn\\linear_model\\_logistic.py\", line 1304, in fit\n",
      "    solver = _check_solver(self.solver, self.penalty, self.dual)\n",
      "  File \"C:\\Users\\hanie\\anaconda3\\lib\\site-packages\\sklearn\\linear_model\\_logistic.py\", line 442, in _check_solver\n",
      "    raise ValueError(\"Solver %s supports only 'l2' or 'none' penalties, \"\n",
      "ValueError: Solver sag supports only 'l2' or 'none' penalties, got l1 penalty.\n",
      "\n",
      "  warnings.warn(\"Estimator fit failed. The score on this train-test\"\n"
     ]
    },
    {
     "name": "stdout",
     "output_type": "stream",
     "text": [
      "[CV]  C=0.1, max_iter=600, penalty=l1, solver=sag, score=nan, total=   0.0s\n",
      "[CV] C=0.1, max_iter=600, penalty=l1, solver=sag .....................\n",
      "[CV]  C=0.1, max_iter=600, penalty=l1, solver=sag, score=nan, total=   0.0s\n",
      "[CV] C=0.1, max_iter=600, penalty=l1, solver=sag .....................\n",
      "[CV]  C=0.1, max_iter=600, penalty=l1, solver=sag, score=nan, total=   0.0s\n",
      "[CV] C=0.1, max_iter=600, penalty=l1, solver=sag .....................\n",
      "[CV]  C=0.1, max_iter=600, penalty=l1, solver=sag, score=nan, total=   0.0s\n",
      "[CV] C=0.1, max_iter=600, penalty=l1, solver=sag .....................\n",
      "[CV]  C=0.1, max_iter=600, penalty=l1, solver=sag, score=nan, total=   0.0s\n",
      "[CV] C=0.1, max_iter=600, penalty=l1, solver=saga ....................\n",
      "[CV]  C=0.1, max_iter=600, penalty=l1, solver=saga, score=0.755, total=   0.0s\n",
      "[CV] C=0.1, max_iter=600, penalty=l1, solver=saga ....................\n",
      "[CV]  C=0.1, max_iter=600, penalty=l1, solver=saga, score=0.746, total=   0.0s\n",
      "[CV] C=0.1, max_iter=600, penalty=l1, solver=saga ....................\n",
      "[CV]  C=0.1, max_iter=600, penalty=l1, solver=saga, score=0.749, total=   0.0s\n",
      "[CV] C=0.1, max_iter=600, penalty=l1, solver=saga ....................\n",
      "[CV]  C=0.1, max_iter=600, penalty=l1, solver=saga, score=0.738, total=   0.0s\n",
      "[CV] C=0.1, max_iter=600, penalty=l1, solver=saga ....................\n",
      "[CV]  C=0.1, max_iter=600, penalty=l1, solver=saga, score=0.748, total=   0.0s\n",
      "[CV] C=0.1, max_iter=600, penalty=l2, solver=newton-cg ...............\n",
      "[CV]  C=0.1, max_iter=600, penalty=l2, solver=newton-cg, score=0.749, total=   0.0s\n",
      "[CV] C=0.1, max_iter=600, penalty=l2, solver=newton-cg ...............\n",
      "[CV]  C=0.1, max_iter=600, penalty=l2, solver=newton-cg, score=0.749, total=   0.0s\n",
      "[CV] C=0.1, max_iter=600, penalty=l2, solver=newton-cg ...............\n",
      "[CV]  C=0.1, max_iter=600, penalty=l2, solver=newton-cg, score=0.748, total=   0.0s\n",
      "[CV] C=0.1, max_iter=600, penalty=l2, solver=newton-cg ...............\n",
      "[CV]  C=0.1, max_iter=600, penalty=l2, solver=newton-cg, score=0.749, total=   0.0s\n",
      "[CV] C=0.1, max_iter=600, penalty=l2, solver=newton-cg ...............\n",
      "[CV]  C=0.1, max_iter=600, penalty=l2, solver=newton-cg, score=0.749, total=   0.0s\n",
      "[CV] C=0.1, max_iter=600, penalty=l2, solver=lbfgs ...................\n",
      "[CV]  C=0.1, max_iter=600, penalty=l2, solver=lbfgs, score=0.749, total=   0.0s\n",
      "[CV] C=0.1, max_iter=600, penalty=l2, solver=lbfgs ...................\n",
      "[CV]  C=0.1, max_iter=600, penalty=l2, solver=lbfgs, score=0.749, total=   0.0s\n",
      "[CV] C=0.1, max_iter=600, penalty=l2, solver=lbfgs ...................\n",
      "[CV]  C=0.1, max_iter=600, penalty=l2, solver=lbfgs, score=0.748, total=   0.0s\n",
      "[CV] C=0.1, max_iter=600, penalty=l2, solver=lbfgs ...................\n",
      "[CV]  C=0.1, max_iter=600, penalty=l2, solver=lbfgs, score=0.749, total=   0.0s\n",
      "[CV] C=0.1, max_iter=600, penalty=l2, solver=lbfgs ...................\n",
      "[CV]  C=0.1, max_iter=600, penalty=l2, solver=lbfgs, score=0.749, total=   0.0s\n",
      "[CV] C=0.1, max_iter=600, penalty=l2, solver=liblinear ...............\n",
      "[CV]  C=0.1, max_iter=600, penalty=l2, solver=liblinear, score=0.749, total=   0.0s\n",
      "[CV] C=0.1, max_iter=600, penalty=l2, solver=liblinear ...............\n",
      "[CV]  C=0.1, max_iter=600, penalty=l2, solver=liblinear, score=0.749, total=   0.0s\n",
      "[CV] C=0.1, max_iter=600, penalty=l2, solver=liblinear ...............\n",
      "[CV]  C=0.1, max_iter=600, penalty=l2, solver=liblinear, score=0.748, total=   0.0s\n",
      "[CV] C=0.1, max_iter=600, penalty=l2, solver=liblinear ...............\n",
      "[CV]  C=0.1, max_iter=600, penalty=l2, solver=liblinear, score=0.749, total=   0.0s\n",
      "[CV] C=0.1, max_iter=600, penalty=l2, solver=liblinear ...............\n",
      "[CV]  C=0.1, max_iter=600, penalty=l2, solver=liblinear, score=0.749, total=   0.0s\n",
      "[CV] C=0.1, max_iter=600, penalty=l2, solver=sag .....................\n",
      "[CV]  C=0.1, max_iter=600, penalty=l2, solver=sag, score=0.749, total=   0.0s\n",
      "[CV] C=0.1, max_iter=600, penalty=l2, solver=sag .....................\n",
      "[CV]  C=0.1, max_iter=600, penalty=l2, solver=sag, score=0.749, total=   0.0s\n",
      "[CV] C=0.1, max_iter=600, penalty=l2, solver=sag .....................\n",
      "[CV]  C=0.1, max_iter=600, penalty=l2, solver=sag, score=0.748, total=   0.0s\n",
      "[CV] C=0.1, max_iter=600, penalty=l2, solver=sag .....................\n",
      "[CV]  C=0.1, max_iter=600, penalty=l2, solver=sag, score=0.749, total=   0.0s\n",
      "[CV] C=0.1, max_iter=600, penalty=l2, solver=sag .....................\n",
      "[CV]  C=0.1, max_iter=600, penalty=l2, solver=sag, score=0.749, total=   0.0s\n",
      "[CV] C=0.1, max_iter=600, penalty=l2, solver=saga ....................\n",
      "[CV]  C=0.1, max_iter=600, penalty=l2, solver=saga, score=0.749, total=   0.0s\n",
      "[CV] C=0.1, max_iter=600, penalty=l2, solver=saga ....................\n",
      "[CV]  C=0.1, max_iter=600, penalty=l2, solver=saga, score=0.749, total=   0.0s\n",
      "[CV] C=0.1, max_iter=600, penalty=l2, solver=saga ....................\n",
      "[CV]  C=0.1, max_iter=600, penalty=l2, solver=saga, score=0.748, total=   0.0s\n",
      "[CV] C=0.1, max_iter=600, penalty=l2, solver=saga ....................\n",
      "[CV]  C=0.1, max_iter=600, penalty=l2, solver=saga, score=0.749, total=   0.0s\n",
      "[CV] C=0.1, max_iter=600, penalty=l2, solver=saga ....................\n"
     ]
    },
    {
     "name": "stderr",
     "output_type": "stream",
     "text": [
      "C:\\Users\\hanie\\anaconda3\\lib\\site-packages\\sklearn\\model_selection\\_validation.py:548: FitFailedWarning: Estimator fit failed. The score on this train-test partition for these parameters will be set to nan. Details: \n",
      "Traceback (most recent call last):\n",
      "  File \"C:\\Users\\hanie\\anaconda3\\lib\\site-packages\\sklearn\\model_selection\\_validation.py\", line 531, in _fit_and_score\n",
      "    estimator.fit(X_train, y_train, **fit_params)\n",
      "  File \"C:\\Users\\hanie\\anaconda3\\lib\\site-packages\\sklearn\\linear_model\\_logistic.py\", line 1304, in fit\n",
      "    solver = _check_solver(self.solver, self.penalty, self.dual)\n",
      "  File \"C:\\Users\\hanie\\anaconda3\\lib\\site-packages\\sklearn\\linear_model\\_logistic.py\", line 442, in _check_solver\n",
      "    raise ValueError(\"Solver %s supports only 'l2' or 'none' penalties, \"\n",
      "ValueError: Solver newton-cg supports only 'l2' or 'none' penalties, got l1 penalty.\n",
      "\n",
      "  warnings.warn(\"Estimator fit failed. The score on this train-test\"\n",
      "C:\\Users\\hanie\\anaconda3\\lib\\site-packages\\sklearn\\model_selection\\_validation.py:548: FitFailedWarning: Estimator fit failed. The score on this train-test partition for these parameters will be set to nan. Details: \n",
      "Traceback (most recent call last):\n",
      "  File \"C:\\Users\\hanie\\anaconda3\\lib\\site-packages\\sklearn\\model_selection\\_validation.py\", line 531, in _fit_and_score\n",
      "    estimator.fit(X_train, y_train, **fit_params)\n",
      "  File \"C:\\Users\\hanie\\anaconda3\\lib\\site-packages\\sklearn\\linear_model\\_logistic.py\", line 1304, in fit\n",
      "    solver = _check_solver(self.solver, self.penalty, self.dual)\n",
      "  File \"C:\\Users\\hanie\\anaconda3\\lib\\site-packages\\sklearn\\linear_model\\_logistic.py\", line 442, in _check_solver\n",
      "    raise ValueError(\"Solver %s supports only 'l2' or 'none' penalties, \"\n",
      "ValueError: Solver lbfgs supports only 'l2' or 'none' penalties, got l1 penalty.\n",
      "\n",
      "  warnings.warn(\"Estimator fit failed. The score on this train-test\"\n"
     ]
    },
    {
     "name": "stdout",
     "output_type": "stream",
     "text": [
      "[CV]  C=0.1, max_iter=600, penalty=l2, solver=saga, score=0.749, total=   0.0s\n",
      "[CV] C=0.1, max_iter=700, penalty=l1, solver=newton-cg ...............\n",
      "[CV]  C=0.1, max_iter=700, penalty=l1, solver=newton-cg, score=nan, total=   0.0s\n",
      "[CV] C=0.1, max_iter=700, penalty=l1, solver=newton-cg ...............\n",
      "[CV]  C=0.1, max_iter=700, penalty=l1, solver=newton-cg, score=nan, total=   0.0s\n",
      "[CV] C=0.1, max_iter=700, penalty=l1, solver=newton-cg ...............\n",
      "[CV]  C=0.1, max_iter=700, penalty=l1, solver=newton-cg, score=nan, total=   0.0s\n",
      "[CV] C=0.1, max_iter=700, penalty=l1, solver=newton-cg ...............\n",
      "[CV]  C=0.1, max_iter=700, penalty=l1, solver=newton-cg, score=nan, total=   0.0s\n",
      "[CV] C=0.1, max_iter=700, penalty=l1, solver=newton-cg ...............\n",
      "[CV]  C=0.1, max_iter=700, penalty=l1, solver=newton-cg, score=nan, total=   0.0s\n",
      "[CV] C=0.1, max_iter=700, penalty=l1, solver=lbfgs ...................\n",
      "[CV]  C=0.1, max_iter=700, penalty=l1, solver=lbfgs, score=nan, total=   0.0s\n",
      "[CV] C=0.1, max_iter=700, penalty=l1, solver=lbfgs ...................\n",
      "[CV]  C=0.1, max_iter=700, penalty=l1, solver=lbfgs, score=nan, total=   0.0s\n",
      "[CV] C=0.1, max_iter=700, penalty=l1, solver=lbfgs ...................\n",
      "[CV]  C=0.1, max_iter=700, penalty=l1, solver=lbfgs, score=nan, total=   0.0s\n",
      "[CV] C=0.1, max_iter=700, penalty=l1, solver=lbfgs ...................\n",
      "[CV]  C=0.1, max_iter=700, penalty=l1, solver=lbfgs, score=nan, total=   0.0s\n",
      "[CV] C=0.1, max_iter=700, penalty=l1, solver=lbfgs ...................\n",
      "[CV]  C=0.1, max_iter=700, penalty=l1, solver=lbfgs, score=nan, total=   0.0s\n",
      "[CV] C=0.1, max_iter=700, penalty=l1, solver=liblinear ...............\n",
      "[CV]  C=0.1, max_iter=700, penalty=l1, solver=liblinear, score=0.759, total=   0.0s\n",
      "[CV] C=0.1, max_iter=700, penalty=l1, solver=liblinear ...............\n",
      "[CV]  C=0.1, max_iter=700, penalty=l1, solver=liblinear, score=0.748, total=   0.1s\n",
      "[CV] C=0.1, max_iter=700, penalty=l1, solver=liblinear ...............\n",
      "[CV]  C=0.1, max_iter=700, penalty=l1, solver=liblinear, score=0.749, total=   0.0s\n",
      "[CV] C=0.1, max_iter=700, penalty=l1, solver=liblinear ...............\n",
      "[CV]  C=0.1, max_iter=700, penalty=l1, solver=liblinear, score=0.741, total=   0.1s\n",
      "[CV] C=0.1, max_iter=700, penalty=l1, solver=liblinear ...............\n",
      "[CV]  C=0.1, max_iter=700, penalty=l1, solver=liblinear, score=0.746, total=   0.1s\n",
      "[CV] C=0.1, max_iter=700, penalty=l1, solver=sag .....................\n",
      "[CV]  C=0.1, max_iter=700, penalty=l1, solver=sag, score=nan, total=   0.0s\n",
      "[CV] C=0.1, max_iter=700, penalty=l1, solver=sag .....................\n",
      "[CV]  C=0.1, max_iter=700, penalty=l1, solver=sag, score=nan, total=   0.0s\n",
      "[CV] C=0.1, max_iter=700, penalty=l1, solver=sag .....................\n",
      "[CV]  C=0.1, max_iter=700, penalty=l1, solver=sag, score=nan, total=   0.0s\n",
      "[CV] C=0.1, max_iter=700, penalty=l1, solver=sag .....................\n",
      "[CV]  C=0.1, max_iter=700, penalty=l1, solver=sag, score=nan, total=   0.0s\n",
      "[CV] C=0.1, max_iter=700, penalty=l1, solver=sag .....................\n",
      "[CV]  C=0.1, max_iter=700, penalty=l1, solver=sag, score=nan, total=   0.0s\n",
      "[CV] C=0.1, max_iter=700, penalty=l1, solver=saga ....................\n",
      "[CV]  C=0.1, max_iter=700, penalty=l1, solver=saga, score=0.755, total=   0.0s\n",
      "[CV] C=0.1, max_iter=700, penalty=l1, solver=saga ....................\n",
      "[CV]  C=0.1, max_iter=700, penalty=l1, solver=saga, score=0.746, total=   0.0s\n",
      "[CV] C=0.1, max_iter=700, penalty=l1, solver=saga ....................\n",
      "[CV]  C=0.1, max_iter=700, penalty=l1, solver=saga, score=0.749, total=   0.0s\n",
      "[CV] C=0.1, max_iter=700, penalty=l1, solver=saga ....................\n",
      "[CV]  C=0.1, max_iter=700, penalty=l1, solver=saga, score=0.738, total=   0.0s\n",
      "[CV] C=0.1, max_iter=700, penalty=l1, solver=saga ....................\n",
      "[CV]  C=0.1, max_iter=700, penalty=l1, solver=saga, score=0.748, total=   0.0s\n",
      "[CV] C=0.1, max_iter=700, penalty=l2, solver=newton-cg ...............\n",
      "[CV]  C=0.1, max_iter=700, penalty=l2, solver=newton-cg, score=0.749, total=   0.0s"
     ]
    },
    {
     "name": "stderr",
     "output_type": "stream",
     "text": [
      "C:\\Users\\hanie\\anaconda3\\lib\\site-packages\\sklearn\\model_selection\\_validation.py:548: FitFailedWarning: Estimator fit failed. The score on this train-test partition for these parameters will be set to nan. Details: \n",
      "Traceback (most recent call last):\n",
      "  File \"C:\\Users\\hanie\\anaconda3\\lib\\site-packages\\sklearn\\model_selection\\_validation.py\", line 531, in _fit_and_score\n",
      "    estimator.fit(X_train, y_train, **fit_params)\n",
      "  File \"C:\\Users\\hanie\\anaconda3\\lib\\site-packages\\sklearn\\linear_model\\_logistic.py\", line 1304, in fit\n",
      "    solver = _check_solver(self.solver, self.penalty, self.dual)\n",
      "  File \"C:\\Users\\hanie\\anaconda3\\lib\\site-packages\\sklearn\\linear_model\\_logistic.py\", line 442, in _check_solver\n",
      "    raise ValueError(\"Solver %s supports only 'l2' or 'none' penalties, \"\n",
      "ValueError: Solver sag supports only 'l2' or 'none' penalties, got l1 penalty.\n",
      "\n",
      "  warnings.warn(\"Estimator fit failed. The score on this train-test\"\n"
     ]
    },
    {
     "name": "stdout",
     "output_type": "stream",
     "text": [
      "\n",
      "[CV] C=0.1, max_iter=700, penalty=l2, solver=newton-cg ...............\n",
      "[CV]  C=0.1, max_iter=700, penalty=l2, solver=newton-cg, score=0.749, total=   0.0s\n",
      "[CV] C=0.1, max_iter=700, penalty=l2, solver=newton-cg ...............\n",
      "[CV]  C=0.1, max_iter=700, penalty=l2, solver=newton-cg, score=0.748, total=   0.0s\n",
      "[CV] C=0.1, max_iter=700, penalty=l2, solver=newton-cg ...............\n",
      "[CV]  C=0.1, max_iter=700, penalty=l2, solver=newton-cg, score=0.749, total=   0.0s\n",
      "[CV] C=0.1, max_iter=700, penalty=l2, solver=newton-cg ...............\n",
      "[CV]  C=0.1, max_iter=700, penalty=l2, solver=newton-cg, score=0.749, total=   0.0s\n",
      "[CV] C=0.1, max_iter=700, penalty=l2, solver=lbfgs ...................\n",
      "[CV]  C=0.1, max_iter=700, penalty=l2, solver=lbfgs, score=0.749, total=   0.0s\n",
      "[CV] C=0.1, max_iter=700, penalty=l2, solver=lbfgs ...................\n",
      "[CV]  C=0.1, max_iter=700, penalty=l2, solver=lbfgs, score=0.749, total=   0.0s\n",
      "[CV] C=0.1, max_iter=700, penalty=l2, solver=lbfgs ...................\n",
      "[CV]  C=0.1, max_iter=700, penalty=l2, solver=lbfgs, score=0.748, total=   0.0s\n",
      "[CV] C=0.1, max_iter=700, penalty=l2, solver=lbfgs ...................\n",
      "[CV]  C=0.1, max_iter=700, penalty=l2, solver=lbfgs, score=0.749, total=   0.0s\n",
      "[CV] C=0.1, max_iter=700, penalty=l2, solver=lbfgs ...................\n",
      "[CV]  C=0.1, max_iter=700, penalty=l2, solver=lbfgs, score=0.749, total=   0.0s\n",
      "[CV] C=0.1, max_iter=700, penalty=l2, solver=liblinear ...............\n",
      "[CV]  C=0.1, max_iter=700, penalty=l2, solver=liblinear, score=0.749, total=   0.0s\n",
      "[CV] C=0.1, max_iter=700, penalty=l2, solver=liblinear ...............\n",
      "[CV]  C=0.1, max_iter=700, penalty=l2, solver=liblinear, score=0.749, total=   0.0s\n",
      "[CV] C=0.1, max_iter=700, penalty=l2, solver=liblinear ...............\n",
      "[CV]  C=0.1, max_iter=700, penalty=l2, solver=liblinear, score=0.748, total=   0.0s\n",
      "[CV] C=0.1, max_iter=700, penalty=l2, solver=liblinear ...............\n",
      "[CV]  C=0.1, max_iter=700, penalty=l2, solver=liblinear, score=0.749, total=   0.0s\n",
      "[CV] C=0.1, max_iter=700, penalty=l2, solver=liblinear ...............\n",
      "[CV]  C=0.1, max_iter=700, penalty=l2, solver=liblinear, score=0.749, total=   0.0s\n",
      "[CV] C=0.1, max_iter=700, penalty=l2, solver=sag .....................\n",
      "[CV]  C=0.1, max_iter=700, penalty=l2, solver=sag, score=0.749, total=   0.0s\n",
      "[CV] C=0.1, max_iter=700, penalty=l2, solver=sag .....................\n",
      "[CV]  C=0.1, max_iter=700, penalty=l2, solver=sag, score=0.749, total=   0.0s\n",
      "[CV] C=0.1, max_iter=700, penalty=l2, solver=sag .....................\n",
      "[CV]  C=0.1, max_iter=700, penalty=l2, solver=sag, score=0.748, total=   0.0s\n",
      "[CV] C=0.1, max_iter=700, penalty=l2, solver=sag .....................\n",
      "[CV]  C=0.1, max_iter=700, penalty=l2, solver=sag, score=0.749, total=   0.0s\n",
      "[CV] C=0.1, max_iter=700, penalty=l2, solver=sag .....................\n",
      "[CV]  C=0.1, max_iter=700, penalty=l2, solver=sag, score=0.749, total=   0.0s\n",
      "[CV] C=0.1, max_iter=700, penalty=l2, solver=saga ....................\n",
      "[CV]  C=0.1, max_iter=700, penalty=l2, solver=saga, score=0.749, total=   0.0s\n",
      "[CV] C=0.1, max_iter=700, penalty=l2, solver=saga ....................\n",
      "[CV]  C=0.1, max_iter=700, penalty=l2, solver=saga, score=0.749, total=   0.0s\n",
      "[CV] C=0.1, max_iter=700, penalty=l2, solver=saga ....................\n",
      "[CV]  C=0.1, max_iter=700, penalty=l2, solver=saga, score=0.748, total=   0.0s\n",
      "[CV] C=0.1, max_iter=700, penalty=l2, solver=saga ....................\n",
      "[CV]  C=0.1, max_iter=700, penalty=l2, solver=saga, score=0.749, total=   0.0s\n",
      "[CV] C=0.1, max_iter=700, penalty=l2, solver=saga ....................\n",
      "[CV]  C=0.1, max_iter=700, penalty=l2, solver=saga, score=0.749, total=   0.0s\n",
      "[CV] C=1, max_iter=100, penalty=l1, solver=newton-cg .................\n",
      "[CV]  C=1, max_iter=100, penalty=l1, solver=newton-cg, score=nan, total=   0.0s\n",
      "[CV] C=1, max_iter=100, penalty=l1, solver=newton-cg .................\n",
      "[CV]  C=1, max_iter=100, penalty=l1, solver=newton-cg, score=nan, total=   0.0s\n",
      "[CV] C=1, max_iter=100, penalty=l1, solver=newton-cg .................\n",
      "[CV]  C=1, max_iter=100, penalty=l1, solver=newton-cg, score=nan, total=   0.0s\n",
      "[CV] C=1, max_iter=100, penalty=l1, solver=newton-cg .................\n",
      "[CV]  C=1, max_iter=100, penalty=l1, solver=newton-cg, score=nan, total=   0.0s\n",
      "[CV] C=1, max_iter=100, penalty=l1, solver=newton-cg .................\n",
      "[CV]  C=1, max_iter=100, penalty=l1, solver=newton-cg, score=nan, total=   0.0s\n",
      "[CV] C=1, max_iter=100, penalty=l1, solver=lbfgs .....................\n",
      "[CV]  C=1, max_iter=100, penalty=l1, solver=lbfgs, score=nan, total=   0.0s\n",
      "[CV] C=1, max_iter=100, penalty=l1, solver=lbfgs .....................\n",
      "[CV]  C=1, max_iter=100, penalty=l1, solver=lbfgs, score=nan, total=   0.0s\n",
      "[CV] C=1, max_iter=100, penalty=l1, solver=lbfgs .....................\n",
      "[CV]  C=1, max_iter=100, penalty=l1, solver=lbfgs, score=nan, total=   0.0s\n",
      "[CV] C=1, max_iter=100, penalty=l1, solver=lbfgs .....................\n",
      "[CV]  C=1, max_iter=100, penalty=l1, solver=lbfgs, score=nan, total=   0.0s\n",
      "[CV] C=1, max_iter=100, penalty=l1, solver=lbfgs .....................\n",
      "[CV]  C=1, max_iter=100, penalty=l1, solver=lbfgs, score=nan, total=   0.0s\n",
      "[CV] C=1, max_iter=100, penalty=l1, solver=liblinear .................\n",
      "[CV]  C=1, max_iter=100, penalty=l1, solver=liblinear, score=0.845, total=   0.1s\n",
      "[CV] C=1, max_iter=100, penalty=l1, solver=liblinear .................\n"
     ]
    },
    {
     "name": "stderr",
     "output_type": "stream",
     "text": [
      "C:\\Users\\hanie\\anaconda3\\lib\\site-packages\\sklearn\\model_selection\\_validation.py:548: FitFailedWarning: Estimator fit failed. The score on this train-test partition for these parameters will be set to nan. Details: \n",
      "Traceback (most recent call last):\n",
      "  File \"C:\\Users\\hanie\\anaconda3\\lib\\site-packages\\sklearn\\model_selection\\_validation.py\", line 531, in _fit_and_score\n",
      "    estimator.fit(X_train, y_train, **fit_params)\n",
      "  File \"C:\\Users\\hanie\\anaconda3\\lib\\site-packages\\sklearn\\linear_model\\_logistic.py\", line 1304, in fit\n",
      "    solver = _check_solver(self.solver, self.penalty, self.dual)\n",
      "  File \"C:\\Users\\hanie\\anaconda3\\lib\\site-packages\\sklearn\\linear_model\\_logistic.py\", line 442, in _check_solver\n",
      "    raise ValueError(\"Solver %s supports only 'l2' or 'none' penalties, \"\n",
      "ValueError: Solver newton-cg supports only 'l2' or 'none' penalties, got l1 penalty.\n",
      "\n",
      "  warnings.warn(\"Estimator fit failed. The score on this train-test\"\n",
      "C:\\Users\\hanie\\anaconda3\\lib\\site-packages\\sklearn\\model_selection\\_validation.py:548: FitFailedWarning: Estimator fit failed. The score on this train-test partition for these parameters will be set to nan. Details: \n",
      "Traceback (most recent call last):\n",
      "  File \"C:\\Users\\hanie\\anaconda3\\lib\\site-packages\\sklearn\\model_selection\\_validation.py\", line 531, in _fit_and_score\n",
      "    estimator.fit(X_train, y_train, **fit_params)\n",
      "  File \"C:\\Users\\hanie\\anaconda3\\lib\\site-packages\\sklearn\\linear_model\\_logistic.py\", line 1304, in fit\n",
      "    solver = _check_solver(self.solver, self.penalty, self.dual)\n",
      "  File \"C:\\Users\\hanie\\anaconda3\\lib\\site-packages\\sklearn\\linear_model\\_logistic.py\", line 442, in _check_solver\n",
      "    raise ValueError(\"Solver %s supports only 'l2' or 'none' penalties, \"\n",
      "ValueError: Solver lbfgs supports only 'l2' or 'none' penalties, got l1 penalty.\n",
      "\n",
      "  warnings.warn(\"Estimator fit failed. The score on this train-test\"\n"
     ]
    },
    {
     "name": "stdout",
     "output_type": "stream",
     "text": [
      "[CV]  C=1, max_iter=100, penalty=l1, solver=liblinear, score=0.838, total=   0.1s\n",
      "[CV] C=1, max_iter=100, penalty=l1, solver=liblinear .................\n",
      "[CV]  C=1, max_iter=100, penalty=l1, solver=liblinear, score=0.850, total=   0.1s\n",
      "[CV] C=1, max_iter=100, penalty=l1, solver=liblinear .................\n",
      "[CV]  C=1, max_iter=100, penalty=l1, solver=liblinear, score=0.819, total=   0.0s\n",
      "[CV] C=1, max_iter=100, penalty=l1, solver=liblinear .................\n",
      "[CV]  C=1, max_iter=100, penalty=l1, solver=liblinear, score=0.825, total=   0.1s\n",
      "[CV] C=1, max_iter=100, penalty=l1, solver=sag .......................\n"
     ]
    },
    {
     "name": "stderr",
     "output_type": "stream",
     "text": [
      "C:\\Users\\hanie\\anaconda3\\lib\\site-packages\\sklearn\\model_selection\\_validation.py:548: FitFailedWarning: Estimator fit failed. The score on this train-test partition for these parameters will be set to nan. Details: \n",
      "Traceback (most recent call last):\n",
      "  File \"C:\\Users\\hanie\\anaconda3\\lib\\site-packages\\sklearn\\model_selection\\_validation.py\", line 531, in _fit_and_score\n",
      "    estimator.fit(X_train, y_train, **fit_params)\n",
      "  File \"C:\\Users\\hanie\\anaconda3\\lib\\site-packages\\sklearn\\linear_model\\_logistic.py\", line 1304, in fit\n",
      "    solver = _check_solver(self.solver, self.penalty, self.dual)\n",
      "  File \"C:\\Users\\hanie\\anaconda3\\lib\\site-packages\\sklearn\\linear_model\\_logistic.py\", line 442, in _check_solver\n",
      "    raise ValueError(\"Solver %s supports only 'l2' or 'none' penalties, \"\n",
      "ValueError: Solver sag supports only 'l2' or 'none' penalties, got l1 penalty.\n",
      "\n",
      "  warnings.warn(\"Estimator fit failed. The score on this train-test\"\n",
      "C:\\Users\\hanie\\anaconda3\\lib\\site-packages\\sklearn\\linear_model\\_sag.py:329: ConvergenceWarning: The max_iter was reached which means the coef_ did not converge\n",
      "  warnings.warn(\"The max_iter was reached which means \"\n"
     ]
    },
    {
     "name": "stdout",
     "output_type": "stream",
     "text": [
      "[CV]  C=1, max_iter=100, penalty=l1, solver=sag, score=nan, total=   0.0s\n",
      "[CV] C=1, max_iter=100, penalty=l1, solver=sag .......................\n",
      "[CV]  C=1, max_iter=100, penalty=l1, solver=sag, score=nan, total=   0.0s\n",
      "[CV] C=1, max_iter=100, penalty=l1, solver=sag .......................\n",
      "[CV]  C=1, max_iter=100, penalty=l1, solver=sag, score=nan, total=   0.0s\n",
      "[CV] C=1, max_iter=100, penalty=l1, solver=sag .......................\n",
      "[CV]  C=1, max_iter=100, penalty=l1, solver=sag, score=nan, total=   0.0s\n",
      "[CV] C=1, max_iter=100, penalty=l1, solver=sag .......................\n",
      "[CV]  C=1, max_iter=100, penalty=l1, solver=sag, score=nan, total=   0.0s\n",
      "[CV] C=1, max_iter=100, penalty=l1, solver=saga ......................\n",
      "[CV]  C=1, max_iter=100, penalty=l1, solver=saga, score=0.840, total=   0.1s\n",
      "[CV] C=1, max_iter=100, penalty=l1, solver=saga ......................\n"
     ]
    },
    {
     "name": "stderr",
     "output_type": "stream",
     "text": [
      "C:\\Users\\hanie\\anaconda3\\lib\\site-packages\\sklearn\\linear_model\\_sag.py:329: ConvergenceWarning: The max_iter was reached which means the coef_ did not converge\n",
      "  warnings.warn(\"The max_iter was reached which means \"\n",
      "C:\\Users\\hanie\\anaconda3\\lib\\site-packages\\sklearn\\linear_model\\_sag.py:329: ConvergenceWarning: The max_iter was reached which means the coef_ did not converge\n",
      "  warnings.warn(\"The max_iter was reached which means \"\n",
      "C:\\Users\\hanie\\anaconda3\\lib\\site-packages\\sklearn\\linear_model\\_sag.py:329: ConvergenceWarning: The max_iter was reached which means the coef_ did not converge\n",
      "  warnings.warn(\"The max_iter was reached which means \"\n"
     ]
    },
    {
     "name": "stdout",
     "output_type": "stream",
     "text": [
      "[CV]  C=1, max_iter=100, penalty=l1, solver=saga, score=0.837, total=   0.1s\n",
      "[CV] C=1, max_iter=100, penalty=l1, solver=saga ......................\n",
      "[CV]  C=1, max_iter=100, penalty=l1, solver=saga, score=0.850, total=   0.1s\n",
      "[CV] C=1, max_iter=100, penalty=l1, solver=saga ......................\n"
     ]
    },
    {
     "name": "stderr",
     "output_type": "stream",
     "text": [
      "C:\\Users\\hanie\\anaconda3\\lib\\site-packages\\sklearn\\linear_model\\_sag.py:329: ConvergenceWarning: The max_iter was reached which means the coef_ did not converge\n",
      "  warnings.warn(\"The max_iter was reached which means \"\n"
     ]
    },
    {
     "name": "stdout",
     "output_type": "stream",
     "text": [
      "[CV]  C=1, max_iter=100, penalty=l1, solver=saga, score=0.821, total=   0.1s\n",
      "[CV] C=1, max_iter=100, penalty=l1, solver=saga ......................\n",
      "[CV]  C=1, max_iter=100, penalty=l1, solver=saga, score=0.825, total=   0.1s\n",
      "[CV] C=1, max_iter=100, penalty=l2, solver=newton-cg .................\n",
      "[CV]  C=1, max_iter=100, penalty=l2, solver=newton-cg, score=0.779, total=   0.0s\n",
      "[CV] C=1, max_iter=100, penalty=l2, solver=newton-cg .................\n",
      "[CV]  C=1, max_iter=100, penalty=l2, solver=newton-cg, score=0.786, total=   0.0s\n",
      "[CV] C=1, max_iter=100, penalty=l2, solver=newton-cg .................\n",
      "[CV]  C=1, max_iter=100, penalty=l2, solver=newton-cg, score=0.793, total=   0.1s\n",
      "[CV] C=1, max_iter=100, penalty=l2, solver=newton-cg .................\n",
      "[CV]  C=1, max_iter=100, penalty=l2, solver=newton-cg, score=0.779, total=   0.0s\n",
      "[CV] C=1, max_iter=100, penalty=l2, solver=newton-cg .................\n",
      "[CV]  C=1, max_iter=100, penalty=l2, solver=newton-cg, score=0.787, total=   0.0s\n",
      "[CV] C=1, max_iter=100, penalty=l2, solver=lbfgs .....................\n",
      "[CV]  C=1, max_iter=100, penalty=l2, solver=lbfgs, score=0.779, total=   0.0s\n",
      "[CV] C=1, max_iter=100, penalty=l2, solver=lbfgs .....................\n",
      "[CV]  C=1, max_iter=100, penalty=l2, solver=lbfgs, score=0.786, total=   0.0s\n",
      "[CV] C=1, max_iter=100, penalty=l2, solver=lbfgs .....................\n",
      "[CV]  C=1, max_iter=100, penalty=l2, solver=lbfgs, score=0.793, total=   0.0s\n",
      "[CV] C=1, max_iter=100, penalty=l2, solver=lbfgs .....................\n",
      "[CV]  C=1, max_iter=100, penalty=l2, solver=lbfgs, score=0.779, total=   0.0s\n",
      "[CV] C=1, max_iter=100, penalty=l2, solver=lbfgs .....................\n",
      "[CV]  C=1, max_iter=100, penalty=l2, solver=lbfgs, score=0.787, total=   0.0s\n",
      "[CV] C=1, max_iter=100, penalty=l2, solver=liblinear .................\n",
      "[CV]  C=1, max_iter=100, penalty=l2, solver=liblinear, score=0.773, total=   0.0s\n",
      "[CV] C=1, max_iter=100, penalty=l2, solver=liblinear .................\n",
      "[CV]  C=1, max_iter=100, penalty=l2, solver=liblinear, score=0.782, total=   0.0s\n",
      "[CV] C=1, max_iter=100, penalty=l2, solver=liblinear .................\n",
      "[CV]  C=1, max_iter=100, penalty=l2, solver=liblinear, score=0.792, total=   0.0s\n",
      "[CV] C=1, max_iter=100, penalty=l2, solver=liblinear .................\n",
      "[CV]  C=1, max_iter=100, penalty=l2, solver=liblinear, score=0.764, total=   0.0s\n",
      "[CV] C=1, max_iter=100, penalty=l2, solver=liblinear .................\n",
      "[CV]  C=1, max_iter=100, penalty=l2, solver=liblinear, score=0.775, total=   0.0s\n",
      "[CV] C=1, max_iter=100, penalty=l2, solver=sag .......................\n",
      "[CV]  C=1, max_iter=100, penalty=l2, solver=sag, score=0.778, total=   0.0s\n",
      "[CV] C=1, max_iter=100, penalty=l2, solver=sag .......................\n",
      "[CV]  C=1, max_iter=100, penalty=l2, solver=sag, score=0.786, total=   0.0s\n",
      "[CV] C=1, max_iter=100, penalty=l2, solver=sag .......................\n",
      "[CV]  C=1, max_iter=100, penalty=l2, solver=sag, score=0.793, total=   0.0s\n",
      "[CV] C=1, max_iter=100, penalty=l2, solver=sag .......................\n",
      "[CV]  C=1, max_iter=100, penalty=l2, solver=sag, score=0.779, total=   0.0s\n",
      "[CV] C=1, max_iter=100, penalty=l2, solver=sag .......................\n",
      "[CV]  C=1, max_iter=100, penalty=l2, solver=sag, score=0.787, total=   0.0s\n",
      "[CV] C=1, max_iter=100, penalty=l2, solver=saga ......................\n",
      "[CV]  C=1, max_iter=100, penalty=l2, solver=saga, score=0.778, total=   0.1s\n",
      "[CV] C=1, max_iter=100, penalty=l2, solver=saga ......................\n",
      "[CV]  C=1, max_iter=100, penalty=l2, solver=saga, score=0.786, total=   0.0s\n",
      "[CV] C=1, max_iter=100, penalty=l2, solver=saga ......................\n",
      "[CV]  C=1, max_iter=100, penalty=l2, solver=saga, score=0.793, total=   0.1s\n",
      "[CV] C=1, max_iter=100, penalty=l2, solver=saga ......................\n",
      "[CV]  C=1, max_iter=100, penalty=l2, solver=saga, score=0.779, total=   0.1s\n",
      "[CV] C=1, max_iter=100, penalty=l2, solver=saga ......................\n",
      "[CV]  C=1, max_iter=100, penalty=l2, solver=saga, score=0.787, total=   0.1s\n",
      "[CV] C=1, max_iter=200, penalty=l1, solver=newton-cg .................\n",
      "[CV]  C=1, max_iter=200, penalty=l1, solver=newton-cg, score=nan, total=   0.0s\n",
      "[CV] C=1, max_iter=200, penalty=l1, solver=newton-cg .................\n",
      "[CV]  C=1, max_iter=200, penalty=l1, solver=newton-cg, score=nan, total=   0.0s\n",
      "[CV] C=1, max_iter=200, penalty=l1, solver=newton-cg .................\n",
      "[CV]  C=1, max_iter=200, penalty=l1, solver=newton-cg, score=nan, total=   0.0s\n",
      "[CV] C=1, max_iter=200, penalty=l1, solver=newton-cg .................\n",
      "[CV]  C=1, max_iter=200, penalty=l1, solver=newton-cg, score=nan, total=   0.0s\n",
      "[CV] C=1, max_iter=200, penalty=l1, solver=newton-cg .................\n",
      "[CV]  C=1, max_iter=200, penalty=l1, solver=newton-cg, score=nan, total=   0.0s\n",
      "[CV] C=1, max_iter=200, penalty=l1, solver=lbfgs .....................\n",
      "[CV]  C=1, max_iter=200, penalty=l1, solver=lbfgs, score=nan, total=   0.0s\n",
      "[CV] C=1, max_iter=200, penalty=l1, solver=lbfgs .....................\n",
      "[CV]  C=1, max_iter=200, penalty=l1, solver=lbfgs, score=nan, total=   0.0s\n",
      "[CV] C=1, max_iter=200, penalty=l1, solver=lbfgs .....................\n",
      "[CV]  C=1, max_iter=200, penalty=l1, solver=lbfgs, score=nan, total=   0.0s\n",
      "[CV] C=1, max_iter=200, penalty=l1, solver=lbfgs .....................\n",
      "[CV]  C=1, max_iter=200, penalty=l1, solver=lbfgs, score=nan, total=   0.0s\n",
      "[CV] C=1, max_iter=200, penalty=l1, solver=lbfgs .....................\n",
      "[CV]  C=1, max_iter=200, penalty=l1, solver=lbfgs, score=nan, total=   0.0s\n",
      "[CV] C=1, max_iter=200, penalty=l1, solver=liblinear .................\n",
      "[CV]  C=1, max_iter=200, penalty=l1, solver=liblinear, score=0.845, total=   0.1s"
     ]
    },
    {
     "name": "stderr",
     "output_type": "stream",
     "text": [
      "C:\\Users\\hanie\\anaconda3\\lib\\site-packages\\sklearn\\model_selection\\_validation.py:548: FitFailedWarning: Estimator fit failed. The score on this train-test partition for these parameters will be set to nan. Details: \n",
      "Traceback (most recent call last):\n",
      "  File \"C:\\Users\\hanie\\anaconda3\\lib\\site-packages\\sklearn\\model_selection\\_validation.py\", line 531, in _fit_and_score\n",
      "    estimator.fit(X_train, y_train, **fit_params)\n",
      "  File \"C:\\Users\\hanie\\anaconda3\\lib\\site-packages\\sklearn\\linear_model\\_logistic.py\", line 1304, in fit\n",
      "    solver = _check_solver(self.solver, self.penalty, self.dual)\n",
      "  File \"C:\\Users\\hanie\\anaconda3\\lib\\site-packages\\sklearn\\linear_model\\_logistic.py\", line 442, in _check_solver\n",
      "    raise ValueError(\"Solver %s supports only 'l2' or 'none' penalties, \"\n",
      "ValueError: Solver newton-cg supports only 'l2' or 'none' penalties, got l1 penalty.\n",
      "\n",
      "  warnings.warn(\"Estimator fit failed. The score on this train-test\"\n",
      "C:\\Users\\hanie\\anaconda3\\lib\\site-packages\\sklearn\\model_selection\\_validation.py:548: FitFailedWarning: Estimator fit failed. The score on this train-test partition for these parameters will be set to nan. Details: \n",
      "Traceback (most recent call last):\n",
      "  File \"C:\\Users\\hanie\\anaconda3\\lib\\site-packages\\sklearn\\model_selection\\_validation.py\", line 531, in _fit_and_score\n",
      "    estimator.fit(X_train, y_train, **fit_params)\n",
      "  File \"C:\\Users\\hanie\\anaconda3\\lib\\site-packages\\sklearn\\linear_model\\_logistic.py\", line 1304, in fit\n",
      "    solver = _check_solver(self.solver, self.penalty, self.dual)\n",
      "  File \"C:\\Users\\hanie\\anaconda3\\lib\\site-packages\\sklearn\\linear_model\\_logistic.py\", line 442, in _check_solver\n",
      "    raise ValueError(\"Solver %s supports only 'l2' or 'none' penalties, \"\n",
      "ValueError: Solver lbfgs supports only 'l2' or 'none' penalties, got l1 penalty.\n",
      "\n",
      "  warnings.warn(\"Estimator fit failed. The score on this train-test\"\n"
     ]
    },
    {
     "name": "stdout",
     "output_type": "stream",
     "text": [
      "\n",
      "[CV] C=1, max_iter=200, penalty=l1, solver=liblinear .................\n",
      "[CV]  C=1, max_iter=200, penalty=l1, solver=liblinear, score=0.838, total=   0.1s\n",
      "[CV] C=1, max_iter=200, penalty=l1, solver=liblinear .................\n",
      "[CV]  C=1, max_iter=200, penalty=l1, solver=liblinear, score=0.850, total=   0.1s\n",
      "[CV] C=1, max_iter=200, penalty=l1, solver=liblinear .................\n",
      "[CV]  C=1, max_iter=200, penalty=l1, solver=liblinear, score=0.819, total=   0.1s\n",
      "[CV] C=1, max_iter=200, penalty=l1, solver=liblinear .................\n",
      "[CV]  C=1, max_iter=200, penalty=l1, solver=liblinear, score=0.825, total=   0.1s\n",
      "[CV] C=1, max_iter=200, penalty=l1, solver=sag .......................\n",
      "[CV]  C=1, max_iter=200, penalty=l1, solver=sag, score=nan, total=   0.0s\n",
      "[CV] C=1, max_iter=200, penalty=l1, solver=sag .......................\n",
      "[CV]  C=1, max_iter=200, penalty=l1, solver=sag, score=nan, total=   0.0s\n",
      "[CV] C=1, max_iter=200, penalty=l1, solver=sag .......................\n",
      "[CV]  C=1, max_iter=200, penalty=l1, solver=sag, score=nan, total=   0.0s\n",
      "[CV] C=1, max_iter=200, penalty=l1, solver=sag .......................\n",
      "[CV]  C=1, max_iter=200, penalty=l1, solver=sag, score=nan, total=   0.0s\n",
      "[CV] C=1, max_iter=200, penalty=l1, solver=sag .......................\n",
      "[CV]  C=1, max_iter=200, penalty=l1, solver=sag, score=nan, total=   0.0s\n",
      "[CV] C=1, max_iter=200, penalty=l1, solver=saga ......................\n"
     ]
    },
    {
     "name": "stderr",
     "output_type": "stream",
     "text": [
      "C:\\Users\\hanie\\anaconda3\\lib\\site-packages\\sklearn\\model_selection\\_validation.py:548: FitFailedWarning: Estimator fit failed. The score on this train-test partition for these parameters will be set to nan. Details: \n",
      "Traceback (most recent call last):\n",
      "  File \"C:\\Users\\hanie\\anaconda3\\lib\\site-packages\\sklearn\\model_selection\\_validation.py\", line 531, in _fit_and_score\n",
      "    estimator.fit(X_train, y_train, **fit_params)\n",
      "  File \"C:\\Users\\hanie\\anaconda3\\lib\\site-packages\\sklearn\\linear_model\\_logistic.py\", line 1304, in fit\n",
      "    solver = _check_solver(self.solver, self.penalty, self.dual)\n",
      "  File \"C:\\Users\\hanie\\anaconda3\\lib\\site-packages\\sklearn\\linear_model\\_logistic.py\", line 442, in _check_solver\n",
      "    raise ValueError(\"Solver %s supports only 'l2' or 'none' penalties, \"\n",
      "ValueError: Solver sag supports only 'l2' or 'none' penalties, got l1 penalty.\n",
      "\n",
      "  warnings.warn(\"Estimator fit failed. The score on this train-test\"\n",
      "C:\\Users\\hanie\\anaconda3\\lib\\site-packages\\sklearn\\linear_model\\_sag.py:329: ConvergenceWarning: The max_iter was reached which means the coef_ did not converge\n",
      "  warnings.warn(\"The max_iter was reached which means \"\n"
     ]
    },
    {
     "name": "stdout",
     "output_type": "stream",
     "text": [
      "[CV]  C=1, max_iter=200, penalty=l1, solver=saga, score=0.843, total=   0.2s\n",
      "[CV] C=1, max_iter=200, penalty=l1, solver=saga ......................\n",
      "[CV]  C=1, max_iter=200, penalty=l1, solver=saga, score=0.837, total=   0.2s\n",
      "[CV] C=1, max_iter=200, penalty=l1, solver=saga ......................\n"
     ]
    },
    {
     "name": "stderr",
     "output_type": "stream",
     "text": [
      "C:\\Users\\hanie\\anaconda3\\lib\\site-packages\\sklearn\\linear_model\\_sag.py:329: ConvergenceWarning: The max_iter was reached which means the coef_ did not converge\n",
      "  warnings.warn(\"The max_iter was reached which means \"\n",
      "C:\\Users\\hanie\\anaconda3\\lib\\site-packages\\sklearn\\linear_model\\_sag.py:329: ConvergenceWarning: The max_iter was reached which means the coef_ did not converge\n",
      "  warnings.warn(\"The max_iter was reached which means \"\n",
      "C:\\Users\\hanie\\anaconda3\\lib\\site-packages\\sklearn\\linear_model\\_sag.py:329: ConvergenceWarning: The max_iter was reached which means the coef_ did not converge\n",
      "  warnings.warn(\"The max_iter was reached which means \"\n"
     ]
    },
    {
     "name": "stdout",
     "output_type": "stream",
     "text": [
      "[CV]  C=1, max_iter=200, penalty=l1, solver=saga, score=0.853, total=   0.2s\n",
      "[CV] C=1, max_iter=200, penalty=l1, solver=saga ......................\n",
      "[CV]  C=1, max_iter=200, penalty=l1, solver=saga, score=0.821, total=   0.2s\n",
      "[CV] C=1, max_iter=200, penalty=l1, solver=saga ......................\n"
     ]
    },
    {
     "name": "stderr",
     "output_type": "stream",
     "text": [
      "C:\\Users\\hanie\\anaconda3\\lib\\site-packages\\sklearn\\linear_model\\_sag.py:329: ConvergenceWarning: The max_iter was reached which means the coef_ did not converge\n",
      "  warnings.warn(\"The max_iter was reached which means \"\n"
     ]
    },
    {
     "name": "stdout",
     "output_type": "stream",
     "text": [
      "[CV]  C=1, max_iter=200, penalty=l1, solver=saga, score=0.826, total=   0.2s\n",
      "[CV] C=1, max_iter=200, penalty=l2, solver=newton-cg .................\n",
      "[CV]  C=1, max_iter=200, penalty=l2, solver=newton-cg, score=0.779, total=   0.0s\n",
      "[CV] C=1, max_iter=200, penalty=l2, solver=newton-cg .................\n",
      "[CV]  C=1, max_iter=200, penalty=l2, solver=newton-cg, score=0.786, total=   0.0s\n",
      "[CV] C=1, max_iter=200, penalty=l2, solver=newton-cg .................\n",
      "[CV]  C=1, max_iter=200, penalty=l2, solver=newton-cg, score=0.793, total=   0.0s\n",
      "[CV] C=1, max_iter=200, penalty=l2, solver=newton-cg .................\n",
      "[CV]  C=1, max_iter=200, penalty=l2, solver=newton-cg, score=0.779, total=   0.0s\n",
      "[CV] C=1, max_iter=200, penalty=l2, solver=newton-cg .................\n",
      "[CV]  C=1, max_iter=200, penalty=l2, solver=newton-cg, score=0.787, total=   0.0s\n",
      "[CV] C=1, max_iter=200, penalty=l2, solver=lbfgs .....................\n",
      "[CV]  C=1, max_iter=200, penalty=l2, solver=lbfgs, score=0.779, total=   0.0s\n",
      "[CV] C=1, max_iter=200, penalty=l2, solver=lbfgs .....................\n",
      "[CV]  C=1, max_iter=200, penalty=l2, solver=lbfgs, score=0.786, total=   0.0s\n",
      "[CV] C=1, max_iter=200, penalty=l2, solver=lbfgs .....................\n",
      "[CV]  C=1, max_iter=200, penalty=l2, solver=lbfgs, score=0.793, total=   0.0s\n",
      "[CV] C=1, max_iter=200, penalty=l2, solver=lbfgs .....................\n",
      "[CV]  C=1, max_iter=200, penalty=l2, solver=lbfgs, score=0.779, total=   0.0s\n",
      "[CV] C=1, max_iter=200, penalty=l2, solver=lbfgs .....................\n",
      "[CV]  C=1, max_iter=200, penalty=l2, solver=lbfgs, score=0.787, total=   0.0s\n",
      "[CV] C=1, max_iter=200, penalty=l2, solver=liblinear .................\n",
      "[CV]  C=1, max_iter=200, penalty=l2, solver=liblinear, score=0.773, total=   0.0s\n",
      "[CV] C=1, max_iter=200, penalty=l2, solver=liblinear .................\n",
      "[CV]  C=1, max_iter=200, penalty=l2, solver=liblinear, score=0.782, total=   0.0s\n",
      "[CV] C=1, max_iter=200, penalty=l2, solver=liblinear .................\n",
      "[CV]  C=1, max_iter=200, penalty=l2, solver=liblinear, score=0.792, total=   0.0s\n",
      "[CV] C=1, max_iter=200, penalty=l2, solver=liblinear .................\n",
      "[CV]  C=1, max_iter=200, penalty=l2, solver=liblinear, score=0.764, total=   0.0s\n",
      "[CV] C=1, max_iter=200, penalty=l2, solver=liblinear .................\n",
      "[CV]  C=1, max_iter=200, penalty=l2, solver=liblinear, score=0.775, total=   0.0s\n",
      "[CV] C=1, max_iter=200, penalty=l2, solver=sag .......................\n",
      "[CV]  C=1, max_iter=200, penalty=l2, solver=sag, score=0.779, total=   0.0s\n",
      "[CV] C=1, max_iter=200, penalty=l2, solver=sag .......................\n",
      "[CV]  C=1, max_iter=200, penalty=l2, solver=sag, score=0.786, total=   0.0s\n",
      "[CV] C=1, max_iter=200, penalty=l2, solver=sag .......................\n",
      "[CV]  C=1, max_iter=200, penalty=l2, solver=sag, score=0.793, total=   0.0s\n",
      "[CV] C=1, max_iter=200, penalty=l2, solver=sag .......................\n",
      "[CV]  C=1, max_iter=200, penalty=l2, solver=sag, score=0.779, total=   0.0s\n",
      "[CV] C=1, max_iter=200, penalty=l2, solver=sag .......................\n",
      "[CV]  C=1, max_iter=200, penalty=l2, solver=sag, score=0.787, total=   0.0s\n",
      "[CV] C=1, max_iter=200, penalty=l2, solver=saga ......................\n",
      "[CV]  C=1, max_iter=200, penalty=l2, solver=saga, score=0.778, total=   0.1s\n",
      "[CV] C=1, max_iter=200, penalty=l2, solver=saga ......................\n",
      "[CV]  C=1, max_iter=200, penalty=l2, solver=saga, score=0.786, total=   0.1s\n",
      "[CV] C=1, max_iter=200, penalty=l2, solver=saga ......................\n",
      "[CV]  C=1, max_iter=200, penalty=l2, solver=saga, score=0.793, total=   0.1s\n",
      "[CV] C=1, max_iter=200, penalty=l2, solver=saga ......................\n",
      "[CV]  C=1, max_iter=200, penalty=l2, solver=saga, score=0.779, total=   0.1s\n",
      "[CV] C=1, max_iter=200, penalty=l2, solver=saga ......................\n",
      "[CV]  C=1, max_iter=200, penalty=l2, solver=saga, score=0.787, total=   0.1s\n",
      "[CV] C=1, max_iter=300, penalty=l1, solver=newton-cg .................\n"
     ]
    },
    {
     "name": "stderr",
     "output_type": "stream",
     "text": [
      "C:\\Users\\hanie\\anaconda3\\lib\\site-packages\\sklearn\\model_selection\\_validation.py:548: FitFailedWarning: Estimator fit failed. The score on this train-test partition for these parameters will be set to nan. Details: \n",
      "Traceback (most recent call last):\n",
      "  File \"C:\\Users\\hanie\\anaconda3\\lib\\site-packages\\sklearn\\model_selection\\_validation.py\", line 531, in _fit_and_score\n",
      "    estimator.fit(X_train, y_train, **fit_params)\n",
      "  File \"C:\\Users\\hanie\\anaconda3\\lib\\site-packages\\sklearn\\linear_model\\_logistic.py\", line 1304, in fit\n",
      "    solver = _check_solver(self.solver, self.penalty, self.dual)\n",
      "  File \"C:\\Users\\hanie\\anaconda3\\lib\\site-packages\\sklearn\\linear_model\\_logistic.py\", line 442, in _check_solver\n",
      "    raise ValueError(\"Solver %s supports only 'l2' or 'none' penalties, \"\n",
      "ValueError: Solver newton-cg supports only 'l2' or 'none' penalties, got l1 penalty.\n",
      "\n",
      "  warnings.warn(\"Estimator fit failed. The score on this train-test\"\n",
      "C:\\Users\\hanie\\anaconda3\\lib\\site-packages\\sklearn\\model_selection\\_validation.py:548: FitFailedWarning: Estimator fit failed. The score on this train-test partition for these parameters will be set to nan. Details: \n",
      "Traceback (most recent call last):\n",
      "  File \"C:\\Users\\hanie\\anaconda3\\lib\\site-packages\\sklearn\\model_selection\\_validation.py\", line 531, in _fit_and_score\n",
      "    estimator.fit(X_train, y_train, **fit_params)\n",
      "  File \"C:\\Users\\hanie\\anaconda3\\lib\\site-packages\\sklearn\\linear_model\\_logistic.py\", line 1304, in fit\n",
      "    solver = _check_solver(self.solver, self.penalty, self.dual)\n",
      "  File \"C:\\Users\\hanie\\anaconda3\\lib\\site-packages\\sklearn\\linear_model\\_logistic.py\", line 442, in _check_solver\n",
      "    raise ValueError(\"Solver %s supports only 'l2' or 'none' penalties, \"\n",
      "ValueError: Solver lbfgs supports only 'l2' or 'none' penalties, got l1 penalty.\n",
      "\n",
      "  warnings.warn(\"Estimator fit failed. The score on this train-test\"\n"
     ]
    },
    {
     "name": "stdout",
     "output_type": "stream",
     "text": [
      "[CV]  C=1, max_iter=300, penalty=l1, solver=newton-cg, score=nan, total=   0.0s\n",
      "[CV] C=1, max_iter=300, penalty=l1, solver=newton-cg .................\n",
      "[CV]  C=1, max_iter=300, penalty=l1, solver=newton-cg, score=nan, total=   0.0s\n",
      "[CV] C=1, max_iter=300, penalty=l1, solver=newton-cg .................\n",
      "[CV]  C=1, max_iter=300, penalty=l1, solver=newton-cg, score=nan, total=   0.0s\n",
      "[CV] C=1, max_iter=300, penalty=l1, solver=newton-cg .................\n",
      "[CV]  C=1, max_iter=300, penalty=l1, solver=newton-cg, score=nan, total=   0.0s\n",
      "[CV] C=1, max_iter=300, penalty=l1, solver=newton-cg .................\n",
      "[CV]  C=1, max_iter=300, penalty=l1, solver=newton-cg, score=nan, total=   0.0s\n",
      "[CV] C=1, max_iter=300, penalty=l1, solver=lbfgs .....................\n",
      "[CV]  C=1, max_iter=300, penalty=l1, solver=lbfgs, score=nan, total=   0.0s\n",
      "[CV] C=1, max_iter=300, penalty=l1, solver=lbfgs .....................\n",
      "[CV]  C=1, max_iter=300, penalty=l1, solver=lbfgs, score=nan, total=   0.0s\n",
      "[CV] C=1, max_iter=300, penalty=l1, solver=lbfgs .....................\n",
      "[CV]  C=1, max_iter=300, penalty=l1, solver=lbfgs, score=nan, total=   0.0s\n",
      "[CV] C=1, max_iter=300, penalty=l1, solver=lbfgs .....................\n",
      "[CV]  C=1, max_iter=300, penalty=l1, solver=lbfgs, score=nan, total=   0.0s\n",
      "[CV] C=1, max_iter=300, penalty=l1, solver=lbfgs .....................\n",
      "[CV]  C=1, max_iter=300, penalty=l1, solver=lbfgs, score=nan, total=   0.0s\n",
      "[CV] C=1, max_iter=300, penalty=l1, solver=liblinear .................\n",
      "[CV]  C=1, max_iter=300, penalty=l1, solver=liblinear, score=0.845, total=   0.1s\n",
      "[CV] C=1, max_iter=300, penalty=l1, solver=liblinear .................\n",
      "[CV]  C=1, max_iter=300, penalty=l1, solver=liblinear, score=0.838, total=   0.1s\n",
      "[CV] C=1, max_iter=300, penalty=l1, solver=liblinear .................\n",
      "[CV]  C=1, max_iter=300, penalty=l1, solver=liblinear, score=0.850, total=   0.1s\n",
      "[CV] C=1, max_iter=300, penalty=l1, solver=liblinear .................\n",
      "[CV]  C=1, max_iter=300, penalty=l1, solver=liblinear, score=0.819, total=   0.1s\n",
      "[CV] C=1, max_iter=300, penalty=l1, solver=liblinear .................\n",
      "[CV]  C=1, max_iter=300, penalty=l1, solver=liblinear, score=0.825, total=   0.1s\n",
      "[CV] C=1, max_iter=300, penalty=l1, solver=sag .......................\n",
      "[CV]  C=1, max_iter=300, penalty=l1, solver=sag, score=nan, total=   0.0s\n",
      "[CV] C=1, max_iter=300, penalty=l1, solver=sag .......................\n",
      "[CV]  C=1, max_iter=300, penalty=l1, solver=sag, score=nan, total=   0.0s\n",
      "[CV] C=1, max_iter=300, penalty=l1, solver=sag .......................\n",
      "[CV]  C=1, max_iter=300, penalty=l1, solver=sag, score=nan, total=   0.0s\n",
      "[CV] C=1, max_iter=300, penalty=l1, solver=sag .......................\n",
      "[CV]  C=1, max_iter=300, penalty=l1, solver=sag, score=nan, total=   0.0s\n",
      "[CV] C=1, max_iter=300, penalty=l1, solver=sag .......................\n",
      "[CV]  C=1, max_iter=300, penalty=l1, solver=sag, score=nan, total=   0.0s\n",
      "[CV] C=1, max_iter=300, penalty=l1, solver=saga ......................\n"
     ]
    },
    {
     "name": "stderr",
     "output_type": "stream",
     "text": [
      "C:\\Users\\hanie\\anaconda3\\lib\\site-packages\\sklearn\\model_selection\\_validation.py:548: FitFailedWarning: Estimator fit failed. The score on this train-test partition for these parameters will be set to nan. Details: \n",
      "Traceback (most recent call last):\n",
      "  File \"C:\\Users\\hanie\\anaconda3\\lib\\site-packages\\sklearn\\model_selection\\_validation.py\", line 531, in _fit_and_score\n",
      "    estimator.fit(X_train, y_train, **fit_params)\n",
      "  File \"C:\\Users\\hanie\\anaconda3\\lib\\site-packages\\sklearn\\linear_model\\_logistic.py\", line 1304, in fit\n",
      "    solver = _check_solver(self.solver, self.penalty, self.dual)\n",
      "  File \"C:\\Users\\hanie\\anaconda3\\lib\\site-packages\\sklearn\\linear_model\\_logistic.py\", line 442, in _check_solver\n",
      "    raise ValueError(\"Solver %s supports only 'l2' or 'none' penalties, \"\n",
      "ValueError: Solver sag supports only 'l2' or 'none' penalties, got l1 penalty.\n",
      "\n",
      "  warnings.warn(\"Estimator fit failed. The score on this train-test\"\n",
      "C:\\Users\\hanie\\anaconda3\\lib\\site-packages\\sklearn\\linear_model\\_sag.py:329: ConvergenceWarning: The max_iter was reached which means the coef_ did not converge\n",
      "  warnings.warn(\"The max_iter was reached which means \"\n"
     ]
    },
    {
     "name": "stdout",
     "output_type": "stream",
     "text": [
      "[CV]  C=1, max_iter=300, penalty=l1, solver=saga, score=0.844, total=   0.3s\n",
      "[CV] C=1, max_iter=300, penalty=l1, solver=saga ......................\n"
     ]
    },
    {
     "name": "stderr",
     "output_type": "stream",
     "text": [
      "C:\\Users\\hanie\\anaconda3\\lib\\site-packages\\sklearn\\linear_model\\_sag.py:329: ConvergenceWarning: The max_iter was reached which means the coef_ did not converge\n",
      "  warnings.warn(\"The max_iter was reached which means \"\n"
     ]
    },
    {
     "name": "stdout",
     "output_type": "stream",
     "text": [
      "[CV]  C=1, max_iter=300, penalty=l1, solver=saga, score=0.837, total=   0.3s\n",
      "[CV] C=1, max_iter=300, penalty=l1, solver=saga ......................\n"
     ]
    },
    {
     "name": "stderr",
     "output_type": "stream",
     "text": [
      "C:\\Users\\hanie\\anaconda3\\lib\\site-packages\\sklearn\\linear_model\\_sag.py:329: ConvergenceWarning: The max_iter was reached which means the coef_ did not converge\n",
      "  warnings.warn(\"The max_iter was reached which means \"\n"
     ]
    },
    {
     "name": "stdout",
     "output_type": "stream",
     "text": [
      "[CV]  C=1, max_iter=300, penalty=l1, solver=saga, score=0.855, total=   0.2s\n",
      "[CV] C=1, max_iter=300, penalty=l1, solver=saga ......................\n"
     ]
    },
    {
     "name": "stderr",
     "output_type": "stream",
     "text": [
      "C:\\Users\\hanie\\anaconda3\\lib\\site-packages\\sklearn\\linear_model\\_sag.py:329: ConvergenceWarning: The max_iter was reached which means the coef_ did not converge\n",
      "  warnings.warn(\"The max_iter was reached which means \"\n"
     ]
    },
    {
     "name": "stdout",
     "output_type": "stream",
     "text": [
      "[CV]  C=1, max_iter=300, penalty=l1, solver=saga, score=0.822, total=   0.3s\n",
      "[CV] C=1, max_iter=300, penalty=l1, solver=saga ......................\n"
     ]
    },
    {
     "name": "stderr",
     "output_type": "stream",
     "text": [
      "C:\\Users\\hanie\\anaconda3\\lib\\site-packages\\sklearn\\linear_model\\_sag.py:329: ConvergenceWarning: The max_iter was reached which means the coef_ did not converge\n",
      "  warnings.warn(\"The max_iter was reached which means \"\n"
     ]
    },
    {
     "name": "stdout",
     "output_type": "stream",
     "text": [
      "[CV]  C=1, max_iter=300, penalty=l1, solver=saga, score=0.825, total=   0.3s\n",
      "[CV] C=1, max_iter=300, penalty=l2, solver=newton-cg .................\n",
      "[CV]  C=1, max_iter=300, penalty=l2, solver=newton-cg, score=0.779, total=   0.0s\n",
      "[CV] C=1, max_iter=300, penalty=l2, solver=newton-cg .................\n",
      "[CV]  C=1, max_iter=300, penalty=l2, solver=newton-cg, score=0.786, total=   0.0s\n",
      "[CV] C=1, max_iter=300, penalty=l2, solver=newton-cg .................\n",
      "[CV]  C=1, max_iter=300, penalty=l2, solver=newton-cg, score=0.793, total=   0.0s\n",
      "[CV] C=1, max_iter=300, penalty=l2, solver=newton-cg .................\n",
      "[CV]  C=1, max_iter=300, penalty=l2, solver=newton-cg, score=0.779, total=   0.0s\n",
      "[CV] C=1, max_iter=300, penalty=l2, solver=newton-cg .................\n",
      "[CV]  C=1, max_iter=300, penalty=l2, solver=newton-cg, score=0.787, total=   0.0s\n",
      "[CV] C=1, max_iter=300, penalty=l2, solver=lbfgs .....................\n",
      "[CV]  C=1, max_iter=300, penalty=l2, solver=lbfgs, score=0.779, total=   0.0s\n",
      "[CV] C=1, max_iter=300, penalty=l2, solver=lbfgs .....................\n",
      "[CV]  C=1, max_iter=300, penalty=l2, solver=lbfgs, score=0.786, total=   0.0s\n",
      "[CV] C=1, max_iter=300, penalty=l2, solver=lbfgs .....................\n",
      "[CV]  C=1, max_iter=300, penalty=l2, solver=lbfgs, score=0.793, total=   0.0s\n",
      "[CV] C=1, max_iter=300, penalty=l2, solver=lbfgs .....................\n",
      "[CV]  C=1, max_iter=300, penalty=l2, solver=lbfgs, score=0.779, total=   0.0s\n",
      "[CV] C=1, max_iter=300, penalty=l2, solver=lbfgs .....................\n",
      "[CV]  C=1, max_iter=300, penalty=l2, solver=lbfgs, score=0.787, total=   0.0s\n",
      "[CV] C=1, max_iter=300, penalty=l2, solver=liblinear .................\n",
      "[CV]  C=1, max_iter=300, penalty=l2, solver=liblinear, score=0.773, total=   0.0s\n",
      "[CV] C=1, max_iter=300, penalty=l2, solver=liblinear .................\n",
      "[CV]  C=1, max_iter=300, penalty=l2, solver=liblinear, score=0.782, total=   0.0s\n",
      "[CV] C=1, max_iter=300, penalty=l2, solver=liblinear .................\n",
      "[CV]  C=1, max_iter=300, penalty=l2, solver=liblinear, score=0.792, total=   0.0s\n",
      "[CV] C=1, max_iter=300, penalty=l2, solver=liblinear .................\n",
      "[CV]  C=1, max_iter=300, penalty=l2, solver=liblinear, score=0.764, total=   0.0s\n",
      "[CV] C=1, max_iter=300, penalty=l2, solver=liblinear .................\n",
      "[CV]  C=1, max_iter=300, penalty=l2, solver=liblinear, score=0.775, total=   0.0s\n",
      "[CV] C=1, max_iter=300, penalty=l2, solver=sag .......................\n",
      "[CV]  C=1, max_iter=300, penalty=l2, solver=sag, score=0.779, total=   0.0s\n",
      "[CV] C=1, max_iter=300, penalty=l2, solver=sag .......................\n",
      "[CV]  C=1, max_iter=300, penalty=l2, solver=sag, score=0.786, total=   0.0s\n",
      "[CV] C=1, max_iter=300, penalty=l2, solver=sag .......................\n",
      "[CV]  C=1, max_iter=300, penalty=l2, solver=sag, score=0.793, total=   0.0s\n",
      "[CV] C=1, max_iter=300, penalty=l2, solver=sag .......................\n",
      "[CV]  C=1, max_iter=300, penalty=l2, solver=sag, score=0.779, total=   0.0s\n",
      "[CV] C=1, max_iter=300, penalty=l2, solver=sag .......................\n",
      "[CV]  C=1, max_iter=300, penalty=l2, solver=sag, score=0.787, total=   0.0s\n",
      "[CV] C=1, max_iter=300, penalty=l2, solver=saga ......................\n",
      "[CV]  C=1, max_iter=300, penalty=l2, solver=saga, score=0.778, total=   0.1s\n",
      "[CV] C=1, max_iter=300, penalty=l2, solver=saga ......................\n",
      "[CV]  C=1, max_iter=300, penalty=l2, solver=saga, score=0.786, total=   0.0s\n",
      "[CV] C=1, max_iter=300, penalty=l2, solver=saga ......................\n",
      "[CV]  C=1, max_iter=300, penalty=l2, solver=saga, score=0.793, total=   0.1s\n",
      "[CV] C=1, max_iter=300, penalty=l2, solver=saga ......................\n",
      "[CV]  C=1, max_iter=300, penalty=l2, solver=saga, score=0.779, total=   0.1s\n",
      "[CV] C=1, max_iter=300, penalty=l2, solver=saga ......................\n",
      "[CV]  C=1, max_iter=300, penalty=l2, solver=saga, score=0.787, total=   0.0s\n",
      "[CV] C=1, max_iter=400, penalty=l1, solver=newton-cg .................\n",
      "[CV]  C=1, max_iter=400, penalty=l1, solver=newton-cg, score=nan, total=   0.0s\n",
      "[CV] C=1, max_iter=400, penalty=l1, solver=newton-cg .................\n",
      "[CV]  C=1, max_iter=400, penalty=l1, solver=newton-cg, score=nan, total=   0.0s\n",
      "[CV] C=1, max_iter=400, penalty=l1, solver=newton-cg .................\n",
      "[CV]  C=1, max_iter=400, penalty=l1, solver=newton-cg, score=nan, total=   0.0s\n",
      "[CV] C=1, max_iter=400, penalty=l1, solver=newton-cg .................\n",
      "[CV]  C=1, max_iter=400, penalty=l1, solver=newton-cg, score=nan, total=   0.0s\n",
      "[CV] C=1, max_iter=400, penalty=l1, solver=newton-cg .................\n",
      "[CV]  C=1, max_iter=400, penalty=l1, solver=newton-cg, score=nan, total=   0.0s\n",
      "[CV] C=1, max_iter=400, penalty=l1, solver=lbfgs .....................\n",
      "[CV]  C=1, max_iter=400, penalty=l1, solver=lbfgs, score=nan, total=   0.0s\n",
      "[CV] C=1, max_iter=400, penalty=l1, solver=lbfgs .....................\n",
      "[CV]  C=1, max_iter=400, penalty=l1, solver=lbfgs, score=nan, total=   0.0s\n",
      "[CV] C=1, max_iter=400, penalty=l1, solver=lbfgs .....................\n",
      "[CV]  C=1, max_iter=400, penalty=l1, solver=lbfgs, score=nan, total=   0.0s\n",
      "[CV] C=1, max_iter=400, penalty=l1, solver=lbfgs .....................\n",
      "[CV]  C=1, max_iter=400, penalty=l1, solver=lbfgs, score=nan, total=   0.0s\n",
      "[CV] C=1, max_iter=400, penalty=l1, solver=lbfgs .....................\n",
      "[CV]  C=1, max_iter=400, penalty=l1, solver=lbfgs, score=nan, total=   0.0s\n",
      "[CV] C=1, max_iter=400, penalty=l1, solver=liblinear .................\n"
     ]
    },
    {
     "name": "stderr",
     "output_type": "stream",
     "text": [
      "C:\\Users\\hanie\\anaconda3\\lib\\site-packages\\sklearn\\model_selection\\_validation.py:548: FitFailedWarning: Estimator fit failed. The score on this train-test partition for these parameters will be set to nan. Details: \n",
      "Traceback (most recent call last):\n",
      "  File \"C:\\Users\\hanie\\anaconda3\\lib\\site-packages\\sklearn\\model_selection\\_validation.py\", line 531, in _fit_and_score\n",
      "    estimator.fit(X_train, y_train, **fit_params)\n",
      "  File \"C:\\Users\\hanie\\anaconda3\\lib\\site-packages\\sklearn\\linear_model\\_logistic.py\", line 1304, in fit\n",
      "    solver = _check_solver(self.solver, self.penalty, self.dual)\n",
      "  File \"C:\\Users\\hanie\\anaconda3\\lib\\site-packages\\sklearn\\linear_model\\_logistic.py\", line 442, in _check_solver\n",
      "    raise ValueError(\"Solver %s supports only 'l2' or 'none' penalties, \"\n",
      "ValueError: Solver newton-cg supports only 'l2' or 'none' penalties, got l1 penalty.\n",
      "\n",
      "  warnings.warn(\"Estimator fit failed. The score on this train-test\"\n",
      "C:\\Users\\hanie\\anaconda3\\lib\\site-packages\\sklearn\\model_selection\\_validation.py:548: FitFailedWarning: Estimator fit failed. The score on this train-test partition for these parameters will be set to nan. Details: \n",
      "Traceback (most recent call last):\n",
      "  File \"C:\\Users\\hanie\\anaconda3\\lib\\site-packages\\sklearn\\model_selection\\_validation.py\", line 531, in _fit_and_score\n",
      "    estimator.fit(X_train, y_train, **fit_params)\n",
      "  File \"C:\\Users\\hanie\\anaconda3\\lib\\site-packages\\sklearn\\linear_model\\_logistic.py\", line 1304, in fit\n",
      "    solver = _check_solver(self.solver, self.penalty, self.dual)\n",
      "  File \"C:\\Users\\hanie\\anaconda3\\lib\\site-packages\\sklearn\\linear_model\\_logistic.py\", line 442, in _check_solver\n",
      "    raise ValueError(\"Solver %s supports only 'l2' or 'none' penalties, \"\n",
      "ValueError: Solver lbfgs supports only 'l2' or 'none' penalties, got l1 penalty.\n",
      "\n",
      "  warnings.warn(\"Estimator fit failed. The score on this train-test\"\n"
     ]
    },
    {
     "name": "stdout",
     "output_type": "stream",
     "text": [
      "[CV]  C=1, max_iter=400, penalty=l1, solver=liblinear, score=0.845, total=   0.1s\n",
      "[CV] C=1, max_iter=400, penalty=l1, solver=liblinear .................\n",
      "[CV]  C=1, max_iter=400, penalty=l1, solver=liblinear, score=0.838, total=   0.1s\n",
      "[CV] C=1, max_iter=400, penalty=l1, solver=liblinear .................\n",
      "[CV]  C=1, max_iter=400, penalty=l1, solver=liblinear, score=0.850, total=   0.1s\n",
      "[CV] C=1, max_iter=400, penalty=l1, solver=liblinear .................\n",
      "[CV]  C=1, max_iter=400, penalty=l1, solver=liblinear, score=0.819, total=   0.1s\n",
      "[CV] C=1, max_iter=400, penalty=l1, solver=liblinear .................\n",
      "[CV]  C=1, max_iter=400, penalty=l1, solver=liblinear, score=0.825, total=   0.1s\n",
      "[CV] C=1, max_iter=400, penalty=l1, solver=sag .......................\n",
      "[CV]  C=1, max_iter=400, penalty=l1, solver=sag, score=nan, total=   0.0s\n",
      "[CV] C=1, max_iter=400, penalty=l1, solver=sag .......................\n",
      "[CV]  C=1, max_iter=400, penalty=l1, solver=sag, score=nan, total=   0.0s\n",
      "[CV] C=1, max_iter=400, penalty=l1, solver=sag .......................\n",
      "[CV]  C=1, max_iter=400, penalty=l1, solver=sag, score=nan, total=   0.0s\n",
      "[CV] C=1, max_iter=400, penalty=l1, solver=sag .......................\n",
      "[CV]  C=1, max_iter=400, penalty=l1, solver=sag, score=nan, total=   0.0s\n",
      "[CV] C=1, max_iter=400, penalty=l1, solver=sag .......................\n",
      "[CV]  C=1, max_iter=400, penalty=l1, solver=sag, score=nan, total=   0.0s\n",
      "[CV] C=1, max_iter=400, penalty=l1, solver=saga ......................\n"
     ]
    },
    {
     "name": "stderr",
     "output_type": "stream",
     "text": [
      "C:\\Users\\hanie\\anaconda3\\lib\\site-packages\\sklearn\\model_selection\\_validation.py:548: FitFailedWarning: Estimator fit failed. The score on this train-test partition for these parameters will be set to nan. Details: \n",
      "Traceback (most recent call last):\n",
      "  File \"C:\\Users\\hanie\\anaconda3\\lib\\site-packages\\sklearn\\model_selection\\_validation.py\", line 531, in _fit_and_score\n",
      "    estimator.fit(X_train, y_train, **fit_params)\n",
      "  File \"C:\\Users\\hanie\\anaconda3\\lib\\site-packages\\sklearn\\linear_model\\_logistic.py\", line 1304, in fit\n",
      "    solver = _check_solver(self.solver, self.penalty, self.dual)\n",
      "  File \"C:\\Users\\hanie\\anaconda3\\lib\\site-packages\\sklearn\\linear_model\\_logistic.py\", line 442, in _check_solver\n",
      "    raise ValueError(\"Solver %s supports only 'l2' or 'none' penalties, \"\n",
      "ValueError: Solver sag supports only 'l2' or 'none' penalties, got l1 penalty.\n",
      "\n",
      "  warnings.warn(\"Estimator fit failed. The score on this train-test\"\n",
      "C:\\Users\\hanie\\anaconda3\\lib\\site-packages\\sklearn\\linear_model\\_sag.py:329: ConvergenceWarning: The max_iter was reached which means the coef_ did not converge\n",
      "  warnings.warn(\"The max_iter was reached which means \"\n"
     ]
    },
    {
     "name": "stdout",
     "output_type": "stream",
     "text": [
      "[CV]  C=1, max_iter=400, penalty=l1, solver=saga, score=0.844, total=   0.5s\n",
      "[CV] C=1, max_iter=400, penalty=l1, solver=saga ......................\n"
     ]
    },
    {
     "name": "stderr",
     "output_type": "stream",
     "text": [
      "C:\\Users\\hanie\\anaconda3\\lib\\site-packages\\sklearn\\linear_model\\_sag.py:329: ConvergenceWarning: The max_iter was reached which means the coef_ did not converge\n",
      "  warnings.warn(\"The max_iter was reached which means \"\n"
     ]
    },
    {
     "name": "stdout",
     "output_type": "stream",
     "text": [
      "[CV]  C=1, max_iter=400, penalty=l1, solver=saga, score=0.837, total=   0.4s\n",
      "[CV] C=1, max_iter=400, penalty=l1, solver=saga ......................\n"
     ]
    },
    {
     "name": "stderr",
     "output_type": "stream",
     "text": [
      "C:\\Users\\hanie\\anaconda3\\lib\\site-packages\\sklearn\\linear_model\\_sag.py:329: ConvergenceWarning: The max_iter was reached which means the coef_ did not converge\n",
      "  warnings.warn(\"The max_iter was reached which means \"\n"
     ]
    },
    {
     "name": "stdout",
     "output_type": "stream",
     "text": [
      "[CV]  C=1, max_iter=400, penalty=l1, solver=saga, score=0.855, total=   0.3s\n",
      "[CV] C=1, max_iter=400, penalty=l1, solver=saga ......................\n"
     ]
    },
    {
     "name": "stderr",
     "output_type": "stream",
     "text": [
      "C:\\Users\\hanie\\anaconda3\\lib\\site-packages\\sklearn\\linear_model\\_sag.py:329: ConvergenceWarning: The max_iter was reached which means the coef_ did not converge\n",
      "  warnings.warn(\"The max_iter was reached which means \"\n"
     ]
    },
    {
     "name": "stdout",
     "output_type": "stream",
     "text": [
      "[CV]  C=1, max_iter=400, penalty=l1, solver=saga, score=0.822, total=   0.5s\n",
      "[CV] C=1, max_iter=400, penalty=l1, solver=saga ......................\n"
     ]
    },
    {
     "name": "stderr",
     "output_type": "stream",
     "text": [
      "C:\\Users\\hanie\\anaconda3\\lib\\site-packages\\sklearn\\linear_model\\_sag.py:329: ConvergenceWarning: The max_iter was reached which means the coef_ did not converge\n",
      "  warnings.warn(\"The max_iter was reached which means \"\n"
     ]
    },
    {
     "name": "stdout",
     "output_type": "stream",
     "text": [
      "[CV]  C=1, max_iter=400, penalty=l1, solver=saga, score=0.824, total=   0.3s\n",
      "[CV] C=1, max_iter=400, penalty=l2, solver=newton-cg .................\n",
      "[CV]  C=1, max_iter=400, penalty=l2, solver=newton-cg, score=0.779, total=   0.0s\n",
      "[CV] C=1, max_iter=400, penalty=l2, solver=newton-cg .................\n",
      "[CV]  C=1, max_iter=400, penalty=l2, solver=newton-cg, score=0.786, total=   0.0s\n",
      "[CV] C=1, max_iter=400, penalty=l2, solver=newton-cg .................\n",
      "[CV]  C=1, max_iter=400, penalty=l2, solver=newton-cg, score=0.793, total=   0.0s\n",
      "[CV] C=1, max_iter=400, penalty=l2, solver=newton-cg .................\n",
      "[CV]  C=1, max_iter=400, penalty=l2, solver=newton-cg, score=0.779, total=   0.0s\n",
      "[CV] C=1, max_iter=400, penalty=l2, solver=newton-cg .................\n",
      "[CV]  C=1, max_iter=400, penalty=l2, solver=newton-cg, score=0.787, total=   0.0s\n",
      "[CV] C=1, max_iter=400, penalty=l2, solver=lbfgs .....................\n",
      "[CV]  C=1, max_iter=400, penalty=l2, solver=lbfgs, score=0.779, total=   0.0s\n",
      "[CV] C=1, max_iter=400, penalty=l2, solver=lbfgs .....................\n",
      "[CV]  C=1, max_iter=400, penalty=l2, solver=lbfgs, score=0.786, total=   0.0s\n",
      "[CV] C=1, max_iter=400, penalty=l2, solver=lbfgs .....................\n",
      "[CV]  C=1, max_iter=400, penalty=l2, solver=lbfgs, score=0.793, total=   0.0s\n",
      "[CV] C=1, max_iter=400, penalty=l2, solver=lbfgs .....................\n",
      "[CV]  C=1, max_iter=400, penalty=l2, solver=lbfgs, score=0.779, total=   0.0s\n",
      "[CV] C=1, max_iter=400, penalty=l2, solver=lbfgs .....................\n",
      "[CV]  C=1, max_iter=400, penalty=l2, solver=lbfgs, score=0.787, total=   0.0s\n",
      "[CV] C=1, max_iter=400, penalty=l2, solver=liblinear .................\n",
      "[CV]  C=1, max_iter=400, penalty=l2, solver=liblinear, score=0.773, total=   0.0s\n",
      "[CV] C=1, max_iter=400, penalty=l2, solver=liblinear .................\n",
      "[CV]  C=1, max_iter=400, penalty=l2, solver=liblinear, score=0.782, total=   0.0s\n",
      "[CV] C=1, max_iter=400, penalty=l2, solver=liblinear .................\n",
      "[CV]  C=1, max_iter=400, penalty=l2, solver=liblinear, score=0.792, total=   0.0s\n",
      "[CV] C=1, max_iter=400, penalty=l2, solver=liblinear .................\n",
      "[CV]  C=1, max_iter=400, penalty=l2, solver=liblinear, score=0.764, total=   0.0s\n",
      "[CV] C=1, max_iter=400, penalty=l2, solver=liblinear .................\n",
      "[CV]  C=1, max_iter=400, penalty=l2, solver=liblinear, score=0.775, total=   0.0s\n",
      "[CV] C=1, max_iter=400, penalty=l2, solver=sag .......................\n",
      "[CV]  C=1, max_iter=400, penalty=l2, solver=sag, score=0.778, total=   0.0s\n",
      "[CV] C=1, max_iter=400, penalty=l2, solver=sag .......................\n",
      "[CV]  C=1, max_iter=400, penalty=l2, solver=sag, score=0.786, total=   0.0s\n",
      "[CV] C=1, max_iter=400, penalty=l2, solver=sag .......................\n",
      "[CV]  C=1, max_iter=400, penalty=l2, solver=sag, score=0.793, total=   0.0s\n",
      "[CV] C=1, max_iter=400, penalty=l2, solver=sag .......................\n",
      "[CV]  C=1, max_iter=400, penalty=l2, solver=sag, score=0.779, total=   0.0s\n",
      "[CV] C=1, max_iter=400, penalty=l2, solver=sag .......................\n",
      "[CV]  C=1, max_iter=400, penalty=l2, solver=sag, score=0.787, total=   0.0s\n",
      "[CV] C=1, max_iter=400, penalty=l2, solver=saga ......................\n",
      "[CV]  C=1, max_iter=400, penalty=l2, solver=saga, score=0.778, total=   0.1s\n",
      "[CV] C=1, max_iter=400, penalty=l2, solver=saga ......................\n",
      "[CV]  C=1, max_iter=400, penalty=l2, solver=saga, score=0.786, total=   0.1s\n",
      "[CV] C=1, max_iter=400, penalty=l2, solver=saga ......................\n",
      "[CV]  C=1, max_iter=400, penalty=l2, solver=saga, score=0.793, total=   0.1s\n",
      "[CV] C=1, max_iter=400, penalty=l2, solver=saga ......................\n",
      "[CV]  C=1, max_iter=400, penalty=l2, solver=saga, score=0.779, total=   0.1s\n",
      "[CV] C=1, max_iter=400, penalty=l2, solver=saga ......................\n",
      "[CV]  C=1, max_iter=400, penalty=l2, solver=saga, score=0.787, total=   0.1s\n",
      "[CV] C=1, max_iter=500, penalty=l1, solver=newton-cg .................\n",
      "[CV]  C=1, max_iter=500, penalty=l1, solver=newton-cg, score=nan, total=   0.0s\n",
      "[CV] C=1, max_iter=500, penalty=l1, solver=newton-cg .................\n",
      "[CV]  C=1, max_iter=500, penalty=l1, solver=newton-cg, score=nan, total=   0.0s\n",
      "[CV] C=1, max_iter=500, penalty=l1, solver=newton-cg .................\n",
      "[CV]  C=1, max_iter=500, penalty=l1, solver=newton-cg, score=nan, total=   0.0s\n",
      "[CV] C=1, max_iter=500, penalty=l1, solver=newton-cg .................\n",
      "[CV]  C=1, max_iter=500, penalty=l1, solver=newton-cg, score=nan, total=   0.0s\n",
      "[CV] C=1, max_iter=500, penalty=l1, solver=newton-cg .................\n",
      "[CV]  C=1, max_iter=500, penalty=l1, solver=newton-cg, score=nan, total=   0.0s\n",
      "[CV] C=1, max_iter=500, penalty=l1, solver=lbfgs .....................\n",
      "[CV]  C=1, max_iter=500, penalty=l1, solver=lbfgs, score=nan, total=   0.0s\n",
      "[CV] C=1, max_iter=500, penalty=l1, solver=lbfgs .....................\n",
      "[CV]  C=1, max_iter=500, penalty=l1, solver=lbfgs, score=nan, total=   0.0s\n",
      "[CV] C=1, max_iter=500, penalty=l1, solver=lbfgs .....................\n",
      "[CV]  C=1, max_iter=500, penalty=l1, solver=lbfgs, score=nan, total=   0.0s\n",
      "[CV] C=1, max_iter=500, penalty=l1, solver=lbfgs .....................\n",
      "[CV]  C=1, max_iter=500, penalty=l1, solver=lbfgs, score=nan, total=   0.0s\n",
      "[CV] C=1, max_iter=500, penalty=l1, solver=lbfgs .....................\n",
      "[CV]  C=1, max_iter=500, penalty=l1, solver=lbfgs, score=nan, total=   0.0s\n",
      "[CV] C=1, max_iter=500, penalty=l1, solver=liblinear .................\n",
      "[CV]  C=1, max_iter=500, penalty=l1, solver=liblinear, score=0.845, total=   0.1s\n",
      "[CV] C=1, max_iter=500, penalty=l1, solver=liblinear .................\n"
     ]
    },
    {
     "name": "stderr",
     "output_type": "stream",
     "text": [
      "C:\\Users\\hanie\\anaconda3\\lib\\site-packages\\sklearn\\model_selection\\_validation.py:548: FitFailedWarning: Estimator fit failed. The score on this train-test partition for these parameters will be set to nan. Details: \n",
      "Traceback (most recent call last):\n",
      "  File \"C:\\Users\\hanie\\anaconda3\\lib\\site-packages\\sklearn\\model_selection\\_validation.py\", line 531, in _fit_and_score\n",
      "    estimator.fit(X_train, y_train, **fit_params)\n",
      "  File \"C:\\Users\\hanie\\anaconda3\\lib\\site-packages\\sklearn\\linear_model\\_logistic.py\", line 1304, in fit\n",
      "    solver = _check_solver(self.solver, self.penalty, self.dual)\n",
      "  File \"C:\\Users\\hanie\\anaconda3\\lib\\site-packages\\sklearn\\linear_model\\_logistic.py\", line 442, in _check_solver\n",
      "    raise ValueError(\"Solver %s supports only 'l2' or 'none' penalties, \"\n",
      "ValueError: Solver newton-cg supports only 'l2' or 'none' penalties, got l1 penalty.\n",
      "\n",
      "  warnings.warn(\"Estimator fit failed. The score on this train-test\"\n",
      "C:\\Users\\hanie\\anaconda3\\lib\\site-packages\\sklearn\\model_selection\\_validation.py:548: FitFailedWarning: Estimator fit failed. The score on this train-test partition for these parameters will be set to nan. Details: \n",
      "Traceback (most recent call last):\n",
      "  File \"C:\\Users\\hanie\\anaconda3\\lib\\site-packages\\sklearn\\model_selection\\_validation.py\", line 531, in _fit_and_score\n",
      "    estimator.fit(X_train, y_train, **fit_params)\n",
      "  File \"C:\\Users\\hanie\\anaconda3\\lib\\site-packages\\sklearn\\linear_model\\_logistic.py\", line 1304, in fit\n",
      "    solver = _check_solver(self.solver, self.penalty, self.dual)\n",
      "  File \"C:\\Users\\hanie\\anaconda3\\lib\\site-packages\\sklearn\\linear_model\\_logistic.py\", line 442, in _check_solver\n",
      "    raise ValueError(\"Solver %s supports only 'l2' or 'none' penalties, \"\n",
      "ValueError: Solver lbfgs supports only 'l2' or 'none' penalties, got l1 penalty.\n",
      "\n",
      "  warnings.warn(\"Estimator fit failed. The score on this train-test\"\n"
     ]
    },
    {
     "name": "stdout",
     "output_type": "stream",
     "text": [
      "[CV]  C=1, max_iter=500, penalty=l1, solver=liblinear, score=0.838, total=   0.0s\n",
      "[CV] C=1, max_iter=500, penalty=l1, solver=liblinear .................\n",
      "[CV]  C=1, max_iter=500, penalty=l1, solver=liblinear, score=0.850, total=   0.1s\n",
      "[CV] C=1, max_iter=500, penalty=l1, solver=liblinear .................\n",
      "[CV]  C=1, max_iter=500, penalty=l1, solver=liblinear, score=0.819, total=   0.1s\n",
      "[CV] C=1, max_iter=500, penalty=l1, solver=liblinear .................\n",
      "[CV]  C=1, max_iter=500, penalty=l1, solver=liblinear, score=0.825, total=   0.1s\n",
      "[CV] C=1, max_iter=500, penalty=l1, solver=sag .......................\n",
      "[CV]  C=1, max_iter=500, penalty=l1, solver=sag, score=nan, total=   0.0s\n",
      "[CV] C=1, max_iter=500, penalty=l1, solver=sag .......................\n",
      "[CV]  C=1, max_iter=500, penalty=l1, solver=sag, score=nan, total=   0.0s\n",
      "[CV] C=1, max_iter=500, penalty=l1, solver=sag .......................\n",
      "[CV]  C=1, max_iter=500, penalty=l1, solver=sag, score=nan, total=   0.0s\n",
      "[CV] C=1, max_iter=500, penalty=l1, solver=sag .......................\n",
      "[CV]  C=1, max_iter=500, penalty=l1, solver=sag, score=nan, total=   0.0s\n",
      "[CV] C=1, max_iter=500, penalty=l1, solver=sag .......................\n",
      "[CV]  C=1, max_iter=500, penalty=l1, solver=sag, score=nan, total=   0.0s\n",
      "[CV] C=1, max_iter=500, penalty=l1, solver=saga ......................\n"
     ]
    },
    {
     "name": "stderr",
     "output_type": "stream",
     "text": [
      "C:\\Users\\hanie\\anaconda3\\lib\\site-packages\\sklearn\\model_selection\\_validation.py:548: FitFailedWarning: Estimator fit failed. The score on this train-test partition for these parameters will be set to nan. Details: \n",
      "Traceback (most recent call last):\n",
      "  File \"C:\\Users\\hanie\\anaconda3\\lib\\site-packages\\sklearn\\model_selection\\_validation.py\", line 531, in _fit_and_score\n",
      "    estimator.fit(X_train, y_train, **fit_params)\n",
      "  File \"C:\\Users\\hanie\\anaconda3\\lib\\site-packages\\sklearn\\linear_model\\_logistic.py\", line 1304, in fit\n",
      "    solver = _check_solver(self.solver, self.penalty, self.dual)\n",
      "  File \"C:\\Users\\hanie\\anaconda3\\lib\\site-packages\\sklearn\\linear_model\\_logistic.py\", line 442, in _check_solver\n",
      "    raise ValueError(\"Solver %s supports only 'l2' or 'none' penalties, \"\n",
      "ValueError: Solver sag supports only 'l2' or 'none' penalties, got l1 penalty.\n",
      "\n",
      "  warnings.warn(\"Estimator fit failed. The score on this train-test\"\n"
     ]
    },
    {
     "name": "stdout",
     "output_type": "stream",
     "text": [
      "[CV]  C=1, max_iter=500, penalty=l1, solver=saga, score=0.844, total=   0.4s\n",
      "[CV] C=1, max_iter=500, penalty=l1, solver=saga ......................\n",
      "[CV]  C=1, max_iter=500, penalty=l1, solver=saga, score=0.837, total=   0.4s\n",
      "[CV] C=1, max_iter=500, penalty=l1, solver=saga ......................\n",
      "[CV]  C=1, max_iter=500, penalty=l1, solver=saga, score=0.855, total=   0.4s\n",
      "[CV] C=1, max_iter=500, penalty=l1, solver=saga ......................\n"
     ]
    },
    {
     "name": "stderr",
     "output_type": "stream",
     "text": [
      "C:\\Users\\hanie\\anaconda3\\lib\\site-packages\\sklearn\\linear_model\\_sag.py:329: ConvergenceWarning: The max_iter was reached which means the coef_ did not converge\n",
      "  warnings.warn(\"The max_iter was reached which means \"\n"
     ]
    },
    {
     "name": "stdout",
     "output_type": "stream",
     "text": [
      "[CV]  C=1, max_iter=500, penalty=l1, solver=saga, score=0.822, total=   0.4s\n",
      "[CV] C=1, max_iter=500, penalty=l1, solver=saga ......................\n"
     ]
    },
    {
     "name": "stderr",
     "output_type": "stream",
     "text": [
      "C:\\Users\\hanie\\anaconda3\\lib\\site-packages\\sklearn\\linear_model\\_sag.py:329: ConvergenceWarning: The max_iter was reached which means the coef_ did not converge\n",
      "  warnings.warn(\"The max_iter was reached which means \"\n"
     ]
    },
    {
     "name": "stdout",
     "output_type": "stream",
     "text": [
      "[CV]  C=1, max_iter=500, penalty=l1, solver=saga, score=0.825, total=   0.4s\n",
      "[CV] C=1, max_iter=500, penalty=l2, solver=newton-cg .................\n",
      "[CV]  C=1, max_iter=500, penalty=l2, solver=newton-cg, score=0.779, total=   0.0s\n",
      "[CV] C=1, max_iter=500, penalty=l2, solver=newton-cg .................\n",
      "[CV]  C=1, max_iter=500, penalty=l2, solver=newton-cg, score=0.786, total=   0.0s\n",
      "[CV] C=1, max_iter=500, penalty=l2, solver=newton-cg .................\n",
      "[CV]  C=1, max_iter=500, penalty=l2, solver=newton-cg, score=0.793, total=   0.0s\n",
      "[CV] C=1, max_iter=500, penalty=l2, solver=newton-cg .................\n",
      "[CV]  C=1, max_iter=500, penalty=l2, solver=newton-cg, score=0.779, total=   0.0s\n",
      "[CV] C=1, max_iter=500, penalty=l2, solver=newton-cg .................\n",
      "[CV]  C=1, max_iter=500, penalty=l2, solver=newton-cg, score=0.787, total=   0.0s\n",
      "[CV] C=1, max_iter=500, penalty=l2, solver=lbfgs .....................\n",
      "[CV]  C=1, max_iter=500, penalty=l2, solver=lbfgs, score=0.779, total=   0.0s\n",
      "[CV] C=1, max_iter=500, penalty=l2, solver=lbfgs .....................\n",
      "[CV]  C=1, max_iter=500, penalty=l2, solver=lbfgs, score=0.786, total=   0.0s\n",
      "[CV] C=1, max_iter=500, penalty=l2, solver=lbfgs .....................\n",
      "[CV]  C=1, max_iter=500, penalty=l2, solver=lbfgs, score=0.793, total=   0.0s\n",
      "[CV] C=1, max_iter=500, penalty=l2, solver=lbfgs .....................\n",
      "[CV]  C=1, max_iter=500, penalty=l2, solver=lbfgs, score=0.779, total=   0.0s\n",
      "[CV] C=1, max_iter=500, penalty=l2, solver=lbfgs .....................\n",
      "[CV]  C=1, max_iter=500, penalty=l2, solver=lbfgs, score=0.787, total=   0.0s\n",
      "[CV] C=1, max_iter=500, penalty=l2, solver=liblinear .................\n",
      "[CV]  C=1, max_iter=500, penalty=l2, solver=liblinear, score=0.773, total=   0.0s\n",
      "[CV] C=1, max_iter=500, penalty=l2, solver=liblinear .................\n",
      "[CV]  C=1, max_iter=500, penalty=l2, solver=liblinear, score=0.782, total=   0.0s\n",
      "[CV] C=1, max_iter=500, penalty=l2, solver=liblinear .................\n",
      "[CV]  C=1, max_iter=500, penalty=l2, solver=liblinear, score=0.792, total=   0.0s\n",
      "[CV] C=1, max_iter=500, penalty=l2, solver=liblinear .................\n",
      "[CV]  C=1, max_iter=500, penalty=l2, solver=liblinear, score=0.764, total=   0.0s\n",
      "[CV] C=1, max_iter=500, penalty=l2, solver=liblinear .................\n",
      "[CV]  C=1, max_iter=500, penalty=l2, solver=liblinear, score=0.775, total=   0.0s\n",
      "[CV] C=1, max_iter=500, penalty=l2, solver=sag .......................\n",
      "[CV]  C=1, max_iter=500, penalty=l2, solver=sag, score=0.779, total=   0.0s\n",
      "[CV] C=1, max_iter=500, penalty=l2, solver=sag .......................\n",
      "[CV]  C=1, max_iter=500, penalty=l2, solver=sag, score=0.786, total=   0.0s\n",
      "[CV] C=1, max_iter=500, penalty=l2, solver=sag .......................\n",
      "[CV]  C=1, max_iter=500, penalty=l2, solver=sag, score=0.793, total=   0.0s\n",
      "[CV] C=1, max_iter=500, penalty=l2, solver=sag .......................\n",
      "[CV]  C=1, max_iter=500, penalty=l2, solver=sag, score=0.779, total=   0.0s\n",
      "[CV] C=1, max_iter=500, penalty=l2, solver=sag .......................\n",
      "[CV]  C=1, max_iter=500, penalty=l2, solver=sag, score=0.787, total=   0.0s\n",
      "[CV] C=1, max_iter=500, penalty=l2, solver=saga ......................\n",
      "[CV]  C=1, max_iter=500, penalty=l2, solver=saga, score=0.778, total=   0.1s\n",
      "[CV] C=1, max_iter=500, penalty=l2, solver=saga ......................\n",
      "[CV]  C=1, max_iter=500, penalty=l2, solver=saga, score=0.786, total=   0.1s\n",
      "[CV] C=1, max_iter=500, penalty=l2, solver=saga ......................\n",
      "[CV]  C=1, max_iter=500, penalty=l2, solver=saga, score=0.793, total=   0.1s\n",
      "[CV] C=1, max_iter=500, penalty=l2, solver=saga ......................\n",
      "[CV]  C=1, max_iter=500, penalty=l2, solver=saga, score=0.779, total=   0.1s\n",
      "[CV] C=1, max_iter=500, penalty=l2, solver=saga ......................\n",
      "[CV]  C=1, max_iter=500, penalty=l2, solver=saga, score=0.787, total=   0.1s\n",
      "[CV] C=1, max_iter=600, penalty=l1, solver=newton-cg .................\n"
     ]
    },
    {
     "name": "stderr",
     "output_type": "stream",
     "text": [
      "C:\\Users\\hanie\\anaconda3\\lib\\site-packages\\sklearn\\model_selection\\_validation.py:548: FitFailedWarning: Estimator fit failed. The score on this train-test partition for these parameters will be set to nan. Details: \n",
      "Traceback (most recent call last):\n",
      "  File \"C:\\Users\\hanie\\anaconda3\\lib\\site-packages\\sklearn\\model_selection\\_validation.py\", line 531, in _fit_and_score\n",
      "    estimator.fit(X_train, y_train, **fit_params)\n",
      "  File \"C:\\Users\\hanie\\anaconda3\\lib\\site-packages\\sklearn\\linear_model\\_logistic.py\", line 1304, in fit\n",
      "    solver = _check_solver(self.solver, self.penalty, self.dual)\n",
      "  File \"C:\\Users\\hanie\\anaconda3\\lib\\site-packages\\sklearn\\linear_model\\_logistic.py\", line 442, in _check_solver\n",
      "    raise ValueError(\"Solver %s supports only 'l2' or 'none' penalties, \"\n",
      "ValueError: Solver newton-cg supports only 'l2' or 'none' penalties, got l1 penalty.\n",
      "\n",
      "  warnings.warn(\"Estimator fit failed. The score on this train-test\"\n",
      "C:\\Users\\hanie\\anaconda3\\lib\\site-packages\\sklearn\\model_selection\\_validation.py:548: FitFailedWarning: Estimator fit failed. The score on this train-test partition for these parameters will be set to nan. Details: \n",
      "Traceback (most recent call last):\n",
      "  File \"C:\\Users\\hanie\\anaconda3\\lib\\site-packages\\sklearn\\model_selection\\_validation.py\", line 531, in _fit_and_score\n",
      "    estimator.fit(X_train, y_train, **fit_params)\n",
      "  File \"C:\\Users\\hanie\\anaconda3\\lib\\site-packages\\sklearn\\linear_model\\_logistic.py\", line 1304, in fit\n",
      "    solver = _check_solver(self.solver, self.penalty, self.dual)\n",
      "  File \"C:\\Users\\hanie\\anaconda3\\lib\\site-packages\\sklearn\\linear_model\\_logistic.py\", line 442, in _check_solver\n",
      "    raise ValueError(\"Solver %s supports only 'l2' or 'none' penalties, \"\n",
      "ValueError: Solver lbfgs supports only 'l2' or 'none' penalties, got l1 penalty.\n",
      "\n",
      "  warnings.warn(\"Estimator fit failed. The score on this train-test\"\n"
     ]
    },
    {
     "name": "stdout",
     "output_type": "stream",
     "text": [
      "[CV]  C=1, max_iter=600, penalty=l1, solver=newton-cg, score=nan, total=   0.0s\n",
      "[CV] C=1, max_iter=600, penalty=l1, solver=newton-cg .................\n",
      "[CV]  C=1, max_iter=600, penalty=l1, solver=newton-cg, score=nan, total=   0.0s\n",
      "[CV] C=1, max_iter=600, penalty=l1, solver=newton-cg .................\n",
      "[CV]  C=1, max_iter=600, penalty=l1, solver=newton-cg, score=nan, total=   0.0s\n",
      "[CV] C=1, max_iter=600, penalty=l1, solver=newton-cg .................\n",
      "[CV]  C=1, max_iter=600, penalty=l1, solver=newton-cg, score=nan, total=   0.0s\n",
      "[CV] C=1, max_iter=600, penalty=l1, solver=newton-cg .................\n",
      "[CV]  C=1, max_iter=600, penalty=l1, solver=newton-cg, score=nan, total=   0.0s\n",
      "[CV] C=1, max_iter=600, penalty=l1, solver=lbfgs .....................\n",
      "[CV]  C=1, max_iter=600, penalty=l1, solver=lbfgs, score=nan, total=   0.0s\n",
      "[CV] C=1, max_iter=600, penalty=l1, solver=lbfgs .....................\n",
      "[CV]  C=1, max_iter=600, penalty=l1, solver=lbfgs, score=nan, total=   0.0s\n",
      "[CV] C=1, max_iter=600, penalty=l1, solver=lbfgs .....................\n",
      "[CV]  C=1, max_iter=600, penalty=l1, solver=lbfgs, score=nan, total=   0.0s\n",
      "[CV] C=1, max_iter=600, penalty=l1, solver=lbfgs .....................\n",
      "[CV]  C=1, max_iter=600, penalty=l1, solver=lbfgs, score=nan, total=   0.0s\n",
      "[CV] C=1, max_iter=600, penalty=l1, solver=lbfgs .....................\n",
      "[CV]  C=1, max_iter=600, penalty=l1, solver=lbfgs, score=nan, total=   0.0s\n",
      "[CV] C=1, max_iter=600, penalty=l1, solver=liblinear .................\n",
      "[CV]  C=1, max_iter=600, penalty=l1, solver=liblinear, score=0.845, total=   0.1s\n",
      "[CV] C=1, max_iter=600, penalty=l1, solver=liblinear .................\n",
      "[CV]  C=1, max_iter=600, penalty=l1, solver=liblinear, score=0.838, total=   0.0s\n",
      "[CV] C=1, max_iter=600, penalty=l1, solver=liblinear .................\n",
      "[CV]  C=1, max_iter=600, penalty=l1, solver=liblinear, score=0.850, total=   0.1s\n",
      "[CV] C=1, max_iter=600, penalty=l1, solver=liblinear .................\n",
      "[CV]  C=1, max_iter=600, penalty=l1, solver=liblinear, score=0.819, total=   0.1s\n",
      "[CV] C=1, max_iter=600, penalty=l1, solver=liblinear .................\n",
      "[CV]  C=1, max_iter=600, penalty=l1, solver=liblinear, score=0.825, total=   0.1s\n",
      "[CV] C=1, max_iter=600, penalty=l1, solver=sag .......................\n",
      "[CV]  C=1, max_iter=600, penalty=l1, solver=sag, score=nan, total=   0.0s\n",
      "[CV] C=1, max_iter=600, penalty=l1, solver=sag .......................\n",
      "[CV]  C=1, max_iter=600, penalty=l1, solver=sag, score=nan, total=   0.0s\n",
      "[CV] C=1, max_iter=600, penalty=l1, solver=sag .......................\n",
      "[CV]  C=1, max_iter=600, penalty=l1, solver=sag, score=nan, total=   0.0s\n",
      "[CV] C=1, max_iter=600, penalty=l1, solver=sag .......................\n",
      "[CV]  C=1, max_iter=600, penalty=l1, solver=sag, score=nan, total=   0.0s\n",
      "[CV] C=1, max_iter=600, penalty=l1, solver=sag .......................\n",
      "[CV]  C=1, max_iter=600, penalty=l1, solver=sag, score=nan, total=   0.0s\n",
      "[CV] C=1, max_iter=600, penalty=l1, solver=saga ......................\n"
     ]
    },
    {
     "name": "stderr",
     "output_type": "stream",
     "text": [
      "C:\\Users\\hanie\\anaconda3\\lib\\site-packages\\sklearn\\model_selection\\_validation.py:548: FitFailedWarning: Estimator fit failed. The score on this train-test partition for these parameters will be set to nan. Details: \n",
      "Traceback (most recent call last):\n",
      "  File \"C:\\Users\\hanie\\anaconda3\\lib\\site-packages\\sklearn\\model_selection\\_validation.py\", line 531, in _fit_and_score\n",
      "    estimator.fit(X_train, y_train, **fit_params)\n",
      "  File \"C:\\Users\\hanie\\anaconda3\\lib\\site-packages\\sklearn\\linear_model\\_logistic.py\", line 1304, in fit\n",
      "    solver = _check_solver(self.solver, self.penalty, self.dual)\n",
      "  File \"C:\\Users\\hanie\\anaconda3\\lib\\site-packages\\sklearn\\linear_model\\_logistic.py\", line 442, in _check_solver\n",
      "    raise ValueError(\"Solver %s supports only 'l2' or 'none' penalties, \"\n",
      "ValueError: Solver sag supports only 'l2' or 'none' penalties, got l1 penalty.\n",
      "\n",
      "  warnings.warn(\"Estimator fit failed. The score on this train-test\"\n"
     ]
    },
    {
     "name": "stdout",
     "output_type": "stream",
     "text": [
      "[CV]  C=1, max_iter=600, penalty=l1, solver=saga, score=0.844, total=   0.4s\n",
      "[CV] C=1, max_iter=600, penalty=l1, solver=saga ......................\n",
      "[CV]  C=1, max_iter=600, penalty=l1, solver=saga, score=0.837, total=   0.4s\n",
      "[CV] C=1, max_iter=600, penalty=l1, solver=saga ......................\n",
      "[CV]  C=1, max_iter=600, penalty=l1, solver=saga, score=0.855, total=   0.4s\n",
      "[CV] C=1, max_iter=600, penalty=l1, solver=saga ......................\n"
     ]
    },
    {
     "name": "stderr",
     "output_type": "stream",
     "text": [
      "C:\\Users\\hanie\\anaconda3\\lib\\site-packages\\sklearn\\linear_model\\_sag.py:329: ConvergenceWarning: The max_iter was reached which means the coef_ did not converge\n",
      "  warnings.warn(\"The max_iter was reached which means \"\n"
     ]
    },
    {
     "name": "stdout",
     "output_type": "stream",
     "text": [
      "[CV]  C=1, max_iter=600, penalty=l1, solver=saga, score=0.821, total=   0.6s\n",
      "[CV] C=1, max_iter=600, penalty=l1, solver=saga ......................\n",
      "[CV]  C=1, max_iter=600, penalty=l1, solver=saga, score=0.825, total=   0.5s\n",
      "[CV] C=1, max_iter=600, penalty=l2, solver=newton-cg .................\n",
      "[CV]  C=1, max_iter=600, penalty=l2, solver=newton-cg, score=0.779, total=   0.0s\n",
      "[CV] C=1, max_iter=600, penalty=l2, solver=newton-cg .................\n",
      "[CV]  C=1, max_iter=600, penalty=l2, solver=newton-cg, score=0.786, total=   0.0s\n",
      "[CV] C=1, max_iter=600, penalty=l2, solver=newton-cg .................\n",
      "[CV]  C=1, max_iter=600, penalty=l2, solver=newton-cg, score=0.793, total=   0.0s\n",
      "[CV] C=1, max_iter=600, penalty=l2, solver=newton-cg .................\n",
      "[CV]  C=1, max_iter=600, penalty=l2, solver=newton-cg, score=0.779, total=   0.0s\n",
      "[CV] C=1, max_iter=600, penalty=l2, solver=newton-cg .................\n",
      "[CV]  C=1, max_iter=600, penalty=l2, solver=newton-cg, score=0.787, total=   0.0s\n",
      "[CV] C=1, max_iter=600, penalty=l2, solver=lbfgs .....................\n",
      "[CV]  C=1, max_iter=600, penalty=l2, solver=lbfgs, score=0.779, total=   0.0s\n",
      "[CV] C=1, max_iter=600, penalty=l2, solver=lbfgs .....................\n",
      "[CV]  C=1, max_iter=600, penalty=l2, solver=lbfgs, score=0.786, total=   0.0s\n",
      "[CV] C=1, max_iter=600, penalty=l2, solver=lbfgs .....................\n",
      "[CV]  C=1, max_iter=600, penalty=l2, solver=lbfgs, score=0.793, total=   0.0s\n",
      "[CV] C=1, max_iter=600, penalty=l2, solver=lbfgs .....................\n",
      "[CV]  C=1, max_iter=600, penalty=l2, solver=lbfgs, score=0.779, total=   0.0s\n",
      "[CV] C=1, max_iter=600, penalty=l2, solver=lbfgs .....................\n",
      "[CV]  C=1, max_iter=600, penalty=l2, solver=lbfgs, score=0.787, total=   0.0s\n",
      "[CV] C=1, max_iter=600, penalty=l2, solver=liblinear .................\n",
      "[CV]  C=1, max_iter=600, penalty=l2, solver=liblinear, score=0.773, total=   0.0s\n",
      "[CV] C=1, max_iter=600, penalty=l2, solver=liblinear .................\n",
      "[CV]  C=1, max_iter=600, penalty=l2, solver=liblinear, score=0.782, total=   0.0s\n",
      "[CV] C=1, max_iter=600, penalty=l2, solver=liblinear .................\n",
      "[CV]  C=1, max_iter=600, penalty=l2, solver=liblinear, score=0.792, total=   0.0s\n",
      "[CV] C=1, max_iter=600, penalty=l2, solver=liblinear .................\n",
      "[CV]  C=1, max_iter=600, penalty=l2, solver=liblinear, score=0.764, total=   0.0s\n",
      "[CV] C=1, max_iter=600, penalty=l2, solver=liblinear .................\n",
      "[CV]  C=1, max_iter=600, penalty=l2, solver=liblinear, score=0.775, total=   0.0s\n",
      "[CV] C=1, max_iter=600, penalty=l2, solver=sag .......................\n",
      "[CV]  C=1, max_iter=600, penalty=l2, solver=sag, score=0.779, total=   0.0s\n",
      "[CV] C=1, max_iter=600, penalty=l2, solver=sag .......................\n",
      "[CV]  C=1, max_iter=600, penalty=l2, solver=sag, score=0.786, total=   0.0s\n",
      "[CV] C=1, max_iter=600, penalty=l2, solver=sag .......................\n",
      "[CV]  C=1, max_iter=600, penalty=l2, solver=sag, score=0.793, total=   0.0s\n",
      "[CV] C=1, max_iter=600, penalty=l2, solver=sag .......................\n",
      "[CV]  C=1, max_iter=600, penalty=l2, solver=sag, score=0.779, total=   0.0s\n",
      "[CV] C=1, max_iter=600, penalty=l2, solver=sag .......................\n",
      "[CV]  C=1, max_iter=600, penalty=l2, solver=sag, score=0.787, total=   0.0s\n",
      "[CV] C=1, max_iter=600, penalty=l2, solver=saga ......................\n",
      "[CV]  C=1, max_iter=600, penalty=l2, solver=saga, score=0.778, total=   0.1s\n",
      "[CV] C=1, max_iter=600, penalty=l2, solver=saga ......................\n",
      "[CV]  C=1, max_iter=600, penalty=l2, solver=saga, score=0.786, total=   0.1s\n",
      "[CV] C=1, max_iter=600, penalty=l2, solver=saga ......................\n",
      "[CV]  C=1, max_iter=600, penalty=l2, solver=saga, score=0.793, total=   0.1s\n",
      "[CV] C=1, max_iter=600, penalty=l2, solver=saga ......................\n",
      "[CV]  C=1, max_iter=600, penalty=l2, solver=saga, score=0.779, total=   0.1s\n",
      "[CV] C=1, max_iter=600, penalty=l2, solver=saga ......................\n",
      "[CV]  C=1, max_iter=600, penalty=l2, solver=saga, score=0.787, total=   0.1s\n",
      "[CV] C=1, max_iter=700, penalty=l1, solver=newton-cg .................\n",
      "[CV]  C=1, max_iter=700, penalty=l1, solver=newton-cg, score=nan, total=   0.0s\n",
      "[CV] C=1, max_iter=700, penalty=l1, solver=newton-cg .................\n",
      "[CV]  C=1, max_iter=700, penalty=l1, solver=newton-cg, score=nan, total=   0.0s\n",
      "[CV] C=1, max_iter=700, penalty=l1, solver=newton-cg .................\n",
      "[CV]  C=1, max_iter=700, penalty=l1, solver=newton-cg, score=nan, total=   0.0s\n",
      "[CV] C=1, max_iter=700, penalty=l1, solver=newton-cg .................\n",
      "[CV]  C=1, max_iter=700, penalty=l1, solver=newton-cg, score=nan, total=   0.0s\n",
      "[CV] C=1, max_iter=700, penalty=l1, solver=newton-cg .................\n",
      "[CV]  C=1, max_iter=700, penalty=l1, solver=newton-cg, score=nan, total=   0.0s\n",
      "[CV] C=1, max_iter=700, penalty=l1, solver=lbfgs .....................\n",
      "[CV]  C=1, max_iter=700, penalty=l1, solver=lbfgs, score=nan, total=   0.0s\n",
      "[CV] C=1, max_iter=700, penalty=l1, solver=lbfgs .....................\n",
      "[CV]  C=1, max_iter=700, penalty=l1, solver=lbfgs, score=nan, total=   0.0s\n",
      "[CV] C=1, max_iter=700, penalty=l1, solver=lbfgs .....................\n",
      "[CV]  C=1, max_iter=700, penalty=l1, solver=lbfgs, score=nan, total=   0.0s\n",
      "[CV] C=1, max_iter=700, penalty=l1, solver=lbfgs .....................\n",
      "[CV]  C=1, max_iter=700, penalty=l1, solver=lbfgs, score=nan, total=   0.0s\n",
      "[CV] C=1, max_iter=700, penalty=l1, solver=lbfgs .....................\n",
      "[CV]  C=1, max_iter=700, penalty=l1, solver=lbfgs, score=nan, total=   0.0s\n",
      "[CV] C=1, max_iter=700, penalty=l1, solver=liblinear .................\n",
      "[CV]  C=1, max_iter=700, penalty=l1, solver=liblinear, score=0.845, total=   0.1s"
     ]
    },
    {
     "name": "stderr",
     "output_type": "stream",
     "text": [
      "C:\\Users\\hanie\\anaconda3\\lib\\site-packages\\sklearn\\model_selection\\_validation.py:548: FitFailedWarning: Estimator fit failed. The score on this train-test partition for these parameters will be set to nan. Details: \n",
      "Traceback (most recent call last):\n",
      "  File \"C:\\Users\\hanie\\anaconda3\\lib\\site-packages\\sklearn\\model_selection\\_validation.py\", line 531, in _fit_and_score\n",
      "    estimator.fit(X_train, y_train, **fit_params)\n",
      "  File \"C:\\Users\\hanie\\anaconda3\\lib\\site-packages\\sklearn\\linear_model\\_logistic.py\", line 1304, in fit\n",
      "    solver = _check_solver(self.solver, self.penalty, self.dual)\n",
      "  File \"C:\\Users\\hanie\\anaconda3\\lib\\site-packages\\sklearn\\linear_model\\_logistic.py\", line 442, in _check_solver\n",
      "    raise ValueError(\"Solver %s supports only 'l2' or 'none' penalties, \"\n",
      "ValueError: Solver newton-cg supports only 'l2' or 'none' penalties, got l1 penalty.\n",
      "\n",
      "  warnings.warn(\"Estimator fit failed. The score on this train-test\"\n",
      "C:\\Users\\hanie\\anaconda3\\lib\\site-packages\\sklearn\\model_selection\\_validation.py:548: FitFailedWarning: Estimator fit failed. The score on this train-test partition for these parameters will be set to nan. Details: \n",
      "Traceback (most recent call last):\n",
      "  File \"C:\\Users\\hanie\\anaconda3\\lib\\site-packages\\sklearn\\model_selection\\_validation.py\", line 531, in _fit_and_score\n",
      "    estimator.fit(X_train, y_train, **fit_params)\n",
      "  File \"C:\\Users\\hanie\\anaconda3\\lib\\site-packages\\sklearn\\linear_model\\_logistic.py\", line 1304, in fit\n",
      "    solver = _check_solver(self.solver, self.penalty, self.dual)\n",
      "  File \"C:\\Users\\hanie\\anaconda3\\lib\\site-packages\\sklearn\\linear_model\\_logistic.py\", line 442, in _check_solver\n",
      "    raise ValueError(\"Solver %s supports only 'l2' or 'none' penalties, \"\n",
      "ValueError: Solver lbfgs supports only 'l2' or 'none' penalties, got l1 penalty.\n",
      "\n",
      "  warnings.warn(\"Estimator fit failed. The score on this train-test\"\n"
     ]
    },
    {
     "name": "stdout",
     "output_type": "stream",
     "text": [
      "\n",
      "[CV] C=1, max_iter=700, penalty=l1, solver=liblinear .................\n",
      "[CV]  C=1, max_iter=700, penalty=l1, solver=liblinear, score=0.838, total=   0.1s\n",
      "[CV] C=1, max_iter=700, penalty=l1, solver=liblinear .................\n",
      "[CV]  C=1, max_iter=700, penalty=l1, solver=liblinear, score=0.850, total=   0.1s\n",
      "[CV] C=1, max_iter=700, penalty=l1, solver=liblinear .................\n",
      "[CV]  C=1, max_iter=700, penalty=l1, solver=liblinear, score=0.819, total=   0.1s\n",
      "[CV] C=1, max_iter=700, penalty=l1, solver=liblinear .................\n",
      "[CV]  C=1, max_iter=700, penalty=l1, solver=liblinear, score=0.825, total=   0.1s\n",
      "[CV] C=1, max_iter=700, penalty=l1, solver=sag .......................\n",
      "[CV]  C=1, max_iter=700, penalty=l1, solver=sag, score=nan, total=   0.0s\n",
      "[CV] C=1, max_iter=700, penalty=l1, solver=sag .......................\n",
      "[CV]  C=1, max_iter=700, penalty=l1, solver=sag, score=nan, total=   0.0s\n",
      "[CV] C=1, max_iter=700, penalty=l1, solver=sag .......................\n",
      "[CV]  C=1, max_iter=700, penalty=l1, solver=sag, score=nan, total=   0.0s\n",
      "[CV] C=1, max_iter=700, penalty=l1, solver=sag .......................\n",
      "[CV]  C=1, max_iter=700, penalty=l1, solver=sag, score=nan, total=   0.0s\n",
      "[CV] C=1, max_iter=700, penalty=l1, solver=sag .......................\n",
      "[CV]  C=1, max_iter=700, penalty=l1, solver=sag, score=nan, total=   0.0s\n",
      "[CV] C=1, max_iter=700, penalty=l1, solver=saga ......................\n"
     ]
    },
    {
     "name": "stderr",
     "output_type": "stream",
     "text": [
      "C:\\Users\\hanie\\anaconda3\\lib\\site-packages\\sklearn\\model_selection\\_validation.py:548: FitFailedWarning: Estimator fit failed. The score on this train-test partition for these parameters will be set to nan. Details: \n",
      "Traceback (most recent call last):\n",
      "  File \"C:\\Users\\hanie\\anaconda3\\lib\\site-packages\\sklearn\\model_selection\\_validation.py\", line 531, in _fit_and_score\n",
      "    estimator.fit(X_train, y_train, **fit_params)\n",
      "  File \"C:\\Users\\hanie\\anaconda3\\lib\\site-packages\\sklearn\\linear_model\\_logistic.py\", line 1304, in fit\n",
      "    solver = _check_solver(self.solver, self.penalty, self.dual)\n",
      "  File \"C:\\Users\\hanie\\anaconda3\\lib\\site-packages\\sklearn\\linear_model\\_logistic.py\", line 442, in _check_solver\n",
      "    raise ValueError(\"Solver %s supports only 'l2' or 'none' penalties, \"\n",
      "ValueError: Solver sag supports only 'l2' or 'none' penalties, got l1 penalty.\n",
      "\n",
      "  warnings.warn(\"Estimator fit failed. The score on this train-test\"\n"
     ]
    },
    {
     "name": "stdout",
     "output_type": "stream",
     "text": [
      "[CV]  C=1, max_iter=700, penalty=l1, solver=saga, score=0.844, total=   0.4s\n",
      "[CV] C=1, max_iter=700, penalty=l1, solver=saga ......................\n",
      "[CV]  C=1, max_iter=700, penalty=l1, solver=saga, score=0.837, total=   0.4s\n",
      "[CV] C=1, max_iter=700, penalty=l1, solver=saga ......................\n",
      "[CV]  C=1, max_iter=700, penalty=l1, solver=saga, score=0.855, total=   0.4s\n",
      "[CV] C=1, max_iter=700, penalty=l1, solver=saga ......................\n"
     ]
    },
    {
     "name": "stderr",
     "output_type": "stream",
     "text": [
      "C:\\Users\\hanie\\anaconda3\\lib\\site-packages\\sklearn\\linear_model\\_sag.py:329: ConvergenceWarning: The max_iter was reached which means the coef_ did not converge\n",
      "  warnings.warn(\"The max_iter was reached which means \"\n"
     ]
    },
    {
     "name": "stdout",
     "output_type": "stream",
     "text": [
      "[CV]  C=1, max_iter=700, penalty=l1, solver=saga, score=0.820, total=   0.8s\n",
      "[CV] C=1, max_iter=700, penalty=l1, solver=saga ......................\n",
      "[CV]  C=1, max_iter=700, penalty=l1, solver=saga, score=0.825, total=   0.6s\n",
      "[CV] C=1, max_iter=700, penalty=l2, solver=newton-cg .................\n",
      "[CV]  C=1, max_iter=700, penalty=l2, solver=newton-cg, score=0.779, total=   0.0s\n",
      "[CV] C=1, max_iter=700, penalty=l2, solver=newton-cg .................\n",
      "[CV]  C=1, max_iter=700, penalty=l2, solver=newton-cg, score=0.786, total=   0.0s\n",
      "[CV] C=1, max_iter=700, penalty=l2, solver=newton-cg .................\n",
      "[CV]  C=1, max_iter=700, penalty=l2, solver=newton-cg, score=0.793, total=   0.0s\n",
      "[CV] C=1, max_iter=700, penalty=l2, solver=newton-cg .................\n",
      "[CV]  C=1, max_iter=700, penalty=l2, solver=newton-cg, score=0.779, total=   0.0s\n",
      "[CV] C=1, max_iter=700, penalty=l2, solver=newton-cg .................\n",
      "[CV]  C=1, max_iter=700, penalty=l2, solver=newton-cg, score=0.787, total=   0.0s\n",
      "[CV] C=1, max_iter=700, penalty=l2, solver=lbfgs .....................\n",
      "[CV]  C=1, max_iter=700, penalty=l2, solver=lbfgs, score=0.779, total=   0.0s\n",
      "[CV] C=1, max_iter=700, penalty=l2, solver=lbfgs .....................\n",
      "[CV]  C=1, max_iter=700, penalty=l2, solver=lbfgs, score=0.786, total=   0.0s\n",
      "[CV] C=1, max_iter=700, penalty=l2, solver=lbfgs .....................\n",
      "[CV]  C=1, max_iter=700, penalty=l2, solver=lbfgs, score=0.793, total=   0.0s\n",
      "[CV] C=1, max_iter=700, penalty=l2, solver=lbfgs .....................\n",
      "[CV]  C=1, max_iter=700, penalty=l2, solver=lbfgs, score=0.779, total=   0.1s\n",
      "[CV] C=1, max_iter=700, penalty=l2, solver=lbfgs .....................\n",
      "[CV]  C=1, max_iter=700, penalty=l2, solver=lbfgs, score=0.787, total=   0.0s\n",
      "[CV] C=1, max_iter=700, penalty=l2, solver=liblinear .................\n",
      "[CV]  C=1, max_iter=700, penalty=l2, solver=liblinear, score=0.773, total=   0.0s\n",
      "[CV] C=1, max_iter=700, penalty=l2, solver=liblinear .................\n",
      "[CV]  C=1, max_iter=700, penalty=l2, solver=liblinear, score=0.782, total=   0.0s\n",
      "[CV] C=1, max_iter=700, penalty=l2, solver=liblinear .................\n",
      "[CV]  C=1, max_iter=700, penalty=l2, solver=liblinear, score=0.792, total=   0.0s\n",
      "[CV] C=1, max_iter=700, penalty=l2, solver=liblinear .................\n",
      "[CV]  C=1, max_iter=700, penalty=l2, solver=liblinear, score=0.764, total=   0.0s\n",
      "[CV] C=1, max_iter=700, penalty=l2, solver=liblinear .................\n",
      "[CV]  C=1, max_iter=700, penalty=l2, solver=liblinear, score=0.775, total=   0.0s\n",
      "[CV] C=1, max_iter=700, penalty=l2, solver=sag .......................\n",
      "[CV]  C=1, max_iter=700, penalty=l2, solver=sag, score=0.778, total=   0.0s\n",
      "[CV] C=1, max_iter=700, penalty=l2, solver=sag .......................\n",
      "[CV]  C=1, max_iter=700, penalty=l2, solver=sag, score=0.786, total=   0.0s\n",
      "[CV] C=1, max_iter=700, penalty=l2, solver=sag .......................\n",
      "[CV]  C=1, max_iter=700, penalty=l2, solver=sag, score=0.793, total=   0.0s\n",
      "[CV] C=1, max_iter=700, penalty=l2, solver=sag .......................\n",
      "[CV]  C=1, max_iter=700, penalty=l2, solver=sag, score=0.779, total=   0.0s\n",
      "[CV] C=1, max_iter=700, penalty=l2, solver=sag .......................\n",
      "[CV]  C=1, max_iter=700, penalty=l2, solver=sag, score=0.787, total=   0.0s\n",
      "[CV] C=1, max_iter=700, penalty=l2, solver=saga ......................\n",
      "[CV]  C=1, max_iter=700, penalty=l2, solver=saga, score=0.778, total=   0.1s\n",
      "[CV] C=1, max_iter=700, penalty=l2, solver=saga ......................\n",
      "[CV]  C=1, max_iter=700, penalty=l2, solver=saga, score=0.786, total=   0.1s\n",
      "[CV] C=1, max_iter=700, penalty=l2, solver=saga ......................\n",
      "[CV]  C=1, max_iter=700, penalty=l2, solver=saga, score=0.793, total=   0.1s\n",
      "[CV] C=1, max_iter=700, penalty=l2, solver=saga ......................\n",
      "[CV]  C=1, max_iter=700, penalty=l2, solver=saga, score=0.779, total=   0.1s\n",
      "[CV] C=1, max_iter=700, penalty=l2, solver=saga ......................\n",
      "[CV]  C=1, max_iter=700, penalty=l2, solver=saga, score=0.787, total=   0.1s\n",
      "[CV] C=10, max_iter=100, penalty=l1, solver=newton-cg ................\n",
      "[CV]  C=10, max_iter=100, penalty=l1, solver=newton-cg, score=nan, total=   0.0s\n",
      "[CV] C=10, max_iter=100, penalty=l1, solver=newton-cg ................\n",
      "[CV]  C=10, max_iter=100, penalty=l1, solver=newton-cg, score=nan, total=   0.0s\n",
      "[CV] C=10, max_iter=100, penalty=l1, solver=newton-cg ................\n",
      "[CV]  C=10, max_iter=100, penalty=l1, solver=newton-cg, score=nan, total=   0.0s\n",
      "[CV] C=10, max_iter=100, penalty=l1, solver=newton-cg ................\n",
      "[CV]  C=10, max_iter=100, penalty=l1, solver=newton-cg, score=nan, total=   0.0s\n",
      "[CV] C=10, max_iter=100, penalty=l1, solver=newton-cg ................\n",
      "[CV]  C=10, max_iter=100, penalty=l1, solver=newton-cg, score=nan, total=   0.0s\n",
      "[CV] C=10, max_iter=100, penalty=l1, solver=lbfgs ....................\n",
      "[CV]  C=10, max_iter=100, penalty=l1, solver=lbfgs, score=nan, total=   0.0s\n",
      "[CV] C=10, max_iter=100, penalty=l1, solver=lbfgs ....................\n",
      "[CV]  C=10, max_iter=100, penalty=l1, solver=lbfgs, score=nan, total=   0.0s\n",
      "[CV] C=10, max_iter=100, penalty=l1, solver=lbfgs ....................\n",
      "[CV]  C=10, max_iter=100, penalty=l1, solver=lbfgs, score=nan, total=   0.0s\n",
      "[CV] C=10, max_iter=100, penalty=l1, solver=lbfgs ....................\n",
      "[CV]  C=10, max_iter=100, penalty=l1, solver=lbfgs, score=nan, total=   0.0s\n",
      "[CV] C=10, max_iter=100, penalty=l1, solver=lbfgs ....................\n",
      "[CV]  C=10, max_iter=100, penalty=l1, solver=lbfgs, score=nan, total=   0.0s\n",
      "[CV] C=10, max_iter=100, penalty=l1, solver=liblinear ................\n"
     ]
    },
    {
     "name": "stderr",
     "output_type": "stream",
     "text": [
      "C:\\Users\\hanie\\anaconda3\\lib\\site-packages\\sklearn\\model_selection\\_validation.py:548: FitFailedWarning: Estimator fit failed. The score on this train-test partition for these parameters will be set to nan. Details: \n",
      "Traceback (most recent call last):\n",
      "  File \"C:\\Users\\hanie\\anaconda3\\lib\\site-packages\\sklearn\\model_selection\\_validation.py\", line 531, in _fit_and_score\n",
      "    estimator.fit(X_train, y_train, **fit_params)\n",
      "  File \"C:\\Users\\hanie\\anaconda3\\lib\\site-packages\\sklearn\\linear_model\\_logistic.py\", line 1304, in fit\n",
      "    solver = _check_solver(self.solver, self.penalty, self.dual)\n",
      "  File \"C:\\Users\\hanie\\anaconda3\\lib\\site-packages\\sklearn\\linear_model\\_logistic.py\", line 442, in _check_solver\n",
      "    raise ValueError(\"Solver %s supports only 'l2' or 'none' penalties, \"\n",
      "ValueError: Solver newton-cg supports only 'l2' or 'none' penalties, got l1 penalty.\n",
      "\n",
      "  warnings.warn(\"Estimator fit failed. The score on this train-test\"\n",
      "C:\\Users\\hanie\\anaconda3\\lib\\site-packages\\sklearn\\model_selection\\_validation.py:548: FitFailedWarning: Estimator fit failed. The score on this train-test partition for these parameters will be set to nan. Details: \n",
      "Traceback (most recent call last):\n",
      "  File \"C:\\Users\\hanie\\anaconda3\\lib\\site-packages\\sklearn\\model_selection\\_validation.py\", line 531, in _fit_and_score\n",
      "    estimator.fit(X_train, y_train, **fit_params)\n",
      "  File \"C:\\Users\\hanie\\anaconda3\\lib\\site-packages\\sklearn\\linear_model\\_logistic.py\", line 1304, in fit\n",
      "    solver = _check_solver(self.solver, self.penalty, self.dual)\n",
      "  File \"C:\\Users\\hanie\\anaconda3\\lib\\site-packages\\sklearn\\linear_model\\_logistic.py\", line 442, in _check_solver\n",
      "    raise ValueError(\"Solver %s supports only 'l2' or 'none' penalties, \"\n",
      "ValueError: Solver lbfgs supports only 'l2' or 'none' penalties, got l1 penalty.\n",
      "\n",
      "  warnings.warn(\"Estimator fit failed. The score on this train-test\"\n"
     ]
    },
    {
     "name": "stdout",
     "output_type": "stream",
     "text": [
      "[CV]  C=10, max_iter=100, penalty=l1, solver=liblinear, score=0.846, total=   0.7s\n",
      "[CV] C=10, max_iter=100, penalty=l1, solver=liblinear ................\n"
     ]
    },
    {
     "name": "stderr",
     "output_type": "stream",
     "text": [
      "C:\\Users\\hanie\\anaconda3\\lib\\site-packages\\sklearn\\svm\\_base.py:976: ConvergenceWarning: Liblinear failed to converge, increase the number of iterations.\n",
      "  warnings.warn(\"Liblinear failed to converge, increase \"\n"
     ]
    },
    {
     "name": "stdout",
     "output_type": "stream",
     "text": [
      "[CV]  C=10, max_iter=100, penalty=l1, solver=liblinear, score=0.841, total=   0.7s\n",
      "[CV] C=10, max_iter=100, penalty=l1, solver=liblinear ................\n",
      "[CV]  C=10, max_iter=100, penalty=l1, solver=liblinear, score=0.861, total=   0.9s\n",
      "[CV] C=10, max_iter=100, penalty=l1, solver=liblinear ................\n",
      "[CV]  C=10, max_iter=100, penalty=l1, solver=liblinear, score=0.831, total=   1.0s\n",
      "[CV] C=10, max_iter=100, penalty=l1, solver=liblinear ................\n",
      "[CV]  C=10, max_iter=100, penalty=l1, solver=liblinear, score=0.823, total=   0.7s\n",
      "[CV] C=10, max_iter=100, penalty=l1, solver=sag ......................\n",
      "[CV]  C=10, max_iter=100, penalty=l1, solver=sag, score=nan, total=   0.0s\n",
      "[CV] C=10, max_iter=100, penalty=l1, solver=sag ......................\n",
      "[CV]  C=10, max_iter=100, penalty=l1, solver=sag, score=nan, total=   0.0s\n",
      "[CV] C=10, max_iter=100, penalty=l1, solver=sag ......................\n",
      "[CV]  C=10, max_iter=100, penalty=l1, solver=sag, score=nan, total=   0.0s\n",
      "[CV] C=10, max_iter=100, penalty=l1, solver=sag ......................\n",
      "[CV]  C=10, max_iter=100, penalty=l1, solver=sag, score=nan, total=   0.0s\n",
      "[CV] C=10, max_iter=100, penalty=l1, solver=sag ......................\n",
      "[CV]  C=10, max_iter=100, penalty=l1, solver=sag, score=nan, total=   0.0s\n",
      "[CV] C=10, max_iter=100, penalty=l1, solver=saga .....................\n",
      "[CV]  C=10, max_iter=100, penalty=l1, solver=saga, score=0.847, total=   0.1s\n",
      "[CV] C=10, max_iter=100, penalty=l1, solver=saga .....................\n"
     ]
    },
    {
     "name": "stderr",
     "output_type": "stream",
     "text": [
      "C:\\Users\\hanie\\anaconda3\\lib\\site-packages\\sklearn\\model_selection\\_validation.py:548: FitFailedWarning: Estimator fit failed. The score on this train-test partition for these parameters will be set to nan. Details: \n",
      "Traceback (most recent call last):\n",
      "  File \"C:\\Users\\hanie\\anaconda3\\lib\\site-packages\\sklearn\\model_selection\\_validation.py\", line 531, in _fit_and_score\n",
      "    estimator.fit(X_train, y_train, **fit_params)\n",
      "  File \"C:\\Users\\hanie\\anaconda3\\lib\\site-packages\\sklearn\\linear_model\\_logistic.py\", line 1304, in fit\n",
      "    solver = _check_solver(self.solver, self.penalty, self.dual)\n",
      "  File \"C:\\Users\\hanie\\anaconda3\\lib\\site-packages\\sklearn\\linear_model\\_logistic.py\", line 442, in _check_solver\n",
      "    raise ValueError(\"Solver %s supports only 'l2' or 'none' penalties, \"\n",
      "ValueError: Solver sag supports only 'l2' or 'none' penalties, got l1 penalty.\n",
      "\n",
      "  warnings.warn(\"Estimator fit failed. The score on this train-test\"\n",
      "C:\\Users\\hanie\\anaconda3\\lib\\site-packages\\sklearn\\linear_model\\_sag.py:329: ConvergenceWarning: The max_iter was reached which means the coef_ did not converge\n",
      "  warnings.warn(\"The max_iter was reached which means \"\n",
      "C:\\Users\\hanie\\anaconda3\\lib\\site-packages\\sklearn\\linear_model\\_sag.py:329: ConvergenceWarning: The max_iter was reached which means the coef_ did not converge\n",
      "  warnings.warn(\"The max_iter was reached which means \"\n",
      "C:\\Users\\hanie\\anaconda3\\lib\\site-packages\\sklearn\\linear_model\\_sag.py:329: ConvergenceWarning: The max_iter was reached which means the coef_ did not converge\n",
      "  warnings.warn(\"The max_iter was reached which means \"\n"
     ]
    },
    {
     "name": "stdout",
     "output_type": "stream",
     "text": [
      "[CV]  C=10, max_iter=100, penalty=l1, solver=saga, score=0.841, total=   0.2s\n",
      "[CV] C=10, max_iter=100, penalty=l1, solver=saga .....................\n",
      "[CV]  C=10, max_iter=100, penalty=l1, solver=saga, score=0.859, total=   0.1s\n",
      "[CV] C=10, max_iter=100, penalty=l1, solver=saga .....................\n"
     ]
    },
    {
     "name": "stderr",
     "output_type": "stream",
     "text": [
      "C:\\Users\\hanie\\anaconda3\\lib\\site-packages\\sklearn\\linear_model\\_sag.py:329: ConvergenceWarning: The max_iter was reached which means the coef_ did not converge\n",
      "  warnings.warn(\"The max_iter was reached which means \"\n",
      "C:\\Users\\hanie\\anaconda3\\lib\\site-packages\\sklearn\\linear_model\\_sag.py:329: ConvergenceWarning: The max_iter was reached which means the coef_ did not converge\n",
      "  warnings.warn(\"The max_iter was reached which means \"\n"
     ]
    },
    {
     "name": "stdout",
     "output_type": "stream",
     "text": [
      "[CV]  C=10, max_iter=100, penalty=l1, solver=saga, score=0.823, total=   0.1s\n",
      "[CV] C=10, max_iter=100, penalty=l1, solver=saga .....................\n",
      "[CV]  C=10, max_iter=100, penalty=l1, solver=saga, score=0.817, total=   0.1s\n",
      "[CV] C=10, max_iter=100, penalty=l2, solver=newton-cg ................\n",
      "[CV]  C=10, max_iter=100, penalty=l2, solver=newton-cg, score=0.837, total=   0.0s\n",
      "[CV] C=10, max_iter=100, penalty=l2, solver=newton-cg ................\n",
      "[CV]  C=10, max_iter=100, penalty=l2, solver=newton-cg, score=0.827, total=   0.0s\n",
      "[CV] C=10, max_iter=100, penalty=l2, solver=newton-cg ................\n",
      "[CV]  C=10, max_iter=100, penalty=l2, solver=newton-cg, score=0.843, total=   0.1s\n",
      "[CV] C=10, max_iter=100, penalty=l2, solver=newton-cg ................\n",
      "[CV]  C=10, max_iter=100, penalty=l2, solver=newton-cg, score=0.813, total=   0.1s\n",
      "[CV] C=10, max_iter=100, penalty=l2, solver=newton-cg ................\n",
      "[CV]  C=10, max_iter=100, penalty=l2, solver=newton-cg, score=0.821, total=   0.1s\n",
      "[CV] C=10, max_iter=100, penalty=l2, solver=lbfgs ....................\n",
      "[CV]  C=10, max_iter=100, penalty=l2, solver=lbfgs, score=0.837, total=   0.0s\n",
      "[CV] C=10, max_iter=100, penalty=l2, solver=lbfgs ....................\n"
     ]
    },
    {
     "name": "stderr",
     "output_type": "stream",
     "text": [
      "C:\\Users\\hanie\\anaconda3\\lib\\site-packages\\sklearn\\linear_model\\_logistic.py:762: ConvergenceWarning: lbfgs failed to converge (status=1):\n",
      "STOP: TOTAL NO. of ITERATIONS REACHED LIMIT.\n",
      "\n",
      "Increase the number of iterations (max_iter) or scale the data as shown in:\n",
      "    https://scikit-learn.org/stable/modules/preprocessing.html\n",
      "Please also refer to the documentation for alternative solver options:\n",
      "    https://scikit-learn.org/stable/modules/linear_model.html#logistic-regression\n",
      "  n_iter_i = _check_optimize_result(\n",
      "C:\\Users\\hanie\\anaconda3\\lib\\site-packages\\sklearn\\linear_model\\_logistic.py:762: ConvergenceWarning: lbfgs failed to converge (status=1):\n",
      "STOP: TOTAL NO. of ITERATIONS REACHED LIMIT.\n",
      "\n",
      "Increase the number of iterations (max_iter) or scale the data as shown in:\n",
      "    https://scikit-learn.org/stable/modules/preprocessing.html\n",
      "Please also refer to the documentation for alternative solver options:\n",
      "    https://scikit-learn.org/stable/modules/linear_model.html#logistic-regression\n",
      "  n_iter_i = _check_optimize_result(\n"
     ]
    },
    {
     "name": "stdout",
     "output_type": "stream",
     "text": [
      "[CV]  C=10, max_iter=100, penalty=l2, solver=lbfgs, score=0.827, total=   0.1s\n",
      "[CV] C=10, max_iter=100, penalty=l2, solver=lbfgs ....................\n",
      "[CV]  C=10, max_iter=100, penalty=l2, solver=lbfgs, score=0.843, total=   0.0s\n",
      "[CV] C=10, max_iter=100, penalty=l2, solver=lbfgs ....................\n",
      "[CV]  C=10, max_iter=100, penalty=l2, solver=lbfgs, score=0.813, total=   0.1s\n",
      "[CV] C=10, max_iter=100, penalty=l2, solver=lbfgs ....................\n",
      "[CV]  C=10, max_iter=100, penalty=l2, solver=lbfgs, score=0.821, total=   0.0s\n",
      "[CV] C=10, max_iter=100, penalty=l2, solver=liblinear ................\n",
      "[CV]  C=10, max_iter=100, penalty=l2, solver=liblinear, score=0.829, total=   0.0s\n",
      "[CV] C=10, max_iter=100, penalty=l2, solver=liblinear ................\n",
      "[CV]  C=10, max_iter=100, penalty=l2, solver=liblinear, score=0.824, total=   0.0s\n",
      "[CV] C=10, max_iter=100, penalty=l2, solver=liblinear ................\n",
      "[CV]  C=10, max_iter=100, penalty=l2, solver=liblinear, score=0.837, total=   0.0s\n",
      "[CV] C=10, max_iter=100, penalty=l2, solver=liblinear ................\n",
      "[CV]  C=10, max_iter=100, penalty=l2, solver=liblinear, score=0.809, total=   0.0s\n",
      "[CV] C=10, max_iter=100, penalty=l2, solver=liblinear ................\n",
      "[CV]  C=10, max_iter=100, penalty=l2, solver=liblinear, score=0.818, total=   0.0s\n",
      "[CV] C=10, max_iter=100, penalty=l2, solver=sag ......................\n",
      "[CV]  C=10, max_iter=100, penalty=l2, solver=sag, score=0.837, total=   0.1s\n",
      "[CV] C=10, max_iter=100, penalty=l2, solver=sag ......................\n"
     ]
    },
    {
     "name": "stderr",
     "output_type": "stream",
     "text": [
      "C:\\Users\\hanie\\anaconda3\\lib\\site-packages\\sklearn\\linear_model\\_sag.py:329: ConvergenceWarning: The max_iter was reached which means the coef_ did not converge\n",
      "  warnings.warn(\"The max_iter was reached which means \"\n",
      "C:\\Users\\hanie\\anaconda3\\lib\\site-packages\\sklearn\\linear_model\\_sag.py:329: ConvergenceWarning: The max_iter was reached which means the coef_ did not converge\n",
      "  warnings.warn(\"The max_iter was reached which means \"\n",
      "C:\\Users\\hanie\\anaconda3\\lib\\site-packages\\sklearn\\linear_model\\_sag.py:329: ConvergenceWarning: The max_iter was reached which means the coef_ did not converge\n",
      "  warnings.warn(\"The max_iter was reached which means \"\n"
     ]
    },
    {
     "name": "stdout",
     "output_type": "stream",
     "text": [
      "[CV]  C=10, max_iter=100, penalty=l2, solver=sag, score=0.827, total=   0.1s\n",
      "[CV] C=10, max_iter=100, penalty=l2, solver=sag ......................\n",
      "[CV]  C=10, max_iter=100, penalty=l2, solver=sag, score=0.843, total=   0.1s\n",
      "[CV] C=10, max_iter=100, penalty=l2, solver=sag ......................\n",
      "[CV]  C=10, max_iter=100, penalty=l2, solver=sag, score=0.813, total=   0.1s\n",
      "[CV] C=10, max_iter=100, penalty=l2, solver=sag ......................\n"
     ]
    },
    {
     "name": "stderr",
     "output_type": "stream",
     "text": [
      "C:\\Users\\hanie\\anaconda3\\lib\\site-packages\\sklearn\\linear_model\\_sag.py:329: ConvergenceWarning: The max_iter was reached which means the coef_ did not converge\n",
      "  warnings.warn(\"The max_iter was reached which means \"\n",
      "C:\\Users\\hanie\\anaconda3\\lib\\site-packages\\sklearn\\linear_model\\_sag.py:329: ConvergenceWarning: The max_iter was reached which means the coef_ did not converge\n",
      "  warnings.warn(\"The max_iter was reached which means \"\n",
      "C:\\Users\\hanie\\anaconda3\\lib\\site-packages\\sklearn\\linear_model\\_sag.py:329: ConvergenceWarning: The max_iter was reached which means the coef_ did not converge\n",
      "  warnings.warn(\"The max_iter was reached which means \"\n"
     ]
    },
    {
     "name": "stdout",
     "output_type": "stream",
     "text": [
      "[CV]  C=10, max_iter=100, penalty=l2, solver=sag, score=0.821, total=   0.1s\n",
      "[CV] C=10, max_iter=100, penalty=l2, solver=saga .....................\n",
      "[CV]  C=10, max_iter=100, penalty=l2, solver=saga, score=0.835, total=   0.1s\n",
      "[CV] C=10, max_iter=100, penalty=l2, solver=saga .....................\n"
     ]
    },
    {
     "name": "stderr",
     "output_type": "stream",
     "text": [
      "C:\\Users\\hanie\\anaconda3\\lib\\site-packages\\sklearn\\linear_model\\_sag.py:329: ConvergenceWarning: The max_iter was reached which means the coef_ did not converge\n",
      "  warnings.warn(\"The max_iter was reached which means \"\n",
      "C:\\Users\\hanie\\anaconda3\\lib\\site-packages\\sklearn\\linear_model\\_sag.py:329: ConvergenceWarning: The max_iter was reached which means the coef_ did not converge\n",
      "  warnings.warn(\"The max_iter was reached which means \"\n",
      "C:\\Users\\hanie\\anaconda3\\lib\\site-packages\\sklearn\\linear_model\\_sag.py:329: ConvergenceWarning: The max_iter was reached which means the coef_ did not converge\n",
      "  warnings.warn(\"The max_iter was reached which means \"\n"
     ]
    },
    {
     "name": "stdout",
     "output_type": "stream",
     "text": [
      "[CV]  C=10, max_iter=100, penalty=l2, solver=saga, score=0.827, total=   0.1s\n",
      "[CV] C=10, max_iter=100, penalty=l2, solver=saga .....................\n",
      "[CV]  C=10, max_iter=100, penalty=l2, solver=saga, score=0.843, total=   0.1s\n",
      "[CV] C=10, max_iter=100, penalty=l2, solver=saga .....................\n",
      "[CV]  C=10, max_iter=100, penalty=l2, solver=saga, score=0.812, total=   0.1s\n",
      "[CV] C=10, max_iter=100, penalty=l2, solver=saga .....................\n"
     ]
    },
    {
     "name": "stderr",
     "output_type": "stream",
     "text": [
      "C:\\Users\\hanie\\anaconda3\\lib\\site-packages\\sklearn\\linear_model\\_sag.py:329: ConvergenceWarning: The max_iter was reached which means the coef_ did not converge\n",
      "  warnings.warn(\"The max_iter was reached which means \"\n",
      "C:\\Users\\hanie\\anaconda3\\lib\\site-packages\\sklearn\\model_selection\\_validation.py:548: FitFailedWarning: Estimator fit failed. The score on this train-test partition for these parameters will be set to nan. Details: \n",
      "Traceback (most recent call last):\n",
      "  File \"C:\\Users\\hanie\\anaconda3\\lib\\site-packages\\sklearn\\model_selection\\_validation.py\", line 531, in _fit_and_score\n",
      "    estimator.fit(X_train, y_train, **fit_params)\n",
      "  File \"C:\\Users\\hanie\\anaconda3\\lib\\site-packages\\sklearn\\linear_model\\_logistic.py\", line 1304, in fit\n",
      "    solver = _check_solver(self.solver, self.penalty, self.dual)\n",
      "  File \"C:\\Users\\hanie\\anaconda3\\lib\\site-packages\\sklearn\\linear_model\\_logistic.py\", line 442, in _check_solver\n",
      "    raise ValueError(\"Solver %s supports only 'l2' or 'none' penalties, \"\n",
      "ValueError: Solver newton-cg supports only 'l2' or 'none' penalties, got l1 penalty.\n",
      "\n",
      "  warnings.warn(\"Estimator fit failed. The score on this train-test\"\n",
      "C:\\Users\\hanie\\anaconda3\\lib\\site-packages\\sklearn\\model_selection\\_validation.py:548: FitFailedWarning: Estimator fit failed. The score on this train-test partition for these parameters will be set to nan. Details: \n",
      "Traceback (most recent call last):\n",
      "  File \"C:\\Users\\hanie\\anaconda3\\lib\\site-packages\\sklearn\\model_selection\\_validation.py\", line 531, in _fit_and_score\n",
      "    estimator.fit(X_train, y_train, **fit_params)\n",
      "  File \"C:\\Users\\hanie\\anaconda3\\lib\\site-packages\\sklearn\\linear_model\\_logistic.py\", line 1304, in fit\n",
      "    solver = _check_solver(self.solver, self.penalty, self.dual)\n",
      "  File \"C:\\Users\\hanie\\anaconda3\\lib\\site-packages\\sklearn\\linear_model\\_logistic.py\", line 442, in _check_solver\n",
      "    raise ValueError(\"Solver %s supports only 'l2' or 'none' penalties, \"\n",
      "ValueError: Solver lbfgs supports only 'l2' or 'none' penalties, got l1 penalty.\n",
      "\n",
      "  warnings.warn(\"Estimator fit failed. The score on this train-test\"\n"
     ]
    },
    {
     "name": "stdout",
     "output_type": "stream",
     "text": [
      "[CV]  C=10, max_iter=100, penalty=l2, solver=saga, score=0.819, total=   0.1s\n",
      "[CV] C=10, max_iter=200, penalty=l1, solver=newton-cg ................\n",
      "[CV]  C=10, max_iter=200, penalty=l1, solver=newton-cg, score=nan, total=   0.0s\n",
      "[CV] C=10, max_iter=200, penalty=l1, solver=newton-cg ................\n",
      "[CV]  C=10, max_iter=200, penalty=l1, solver=newton-cg, score=nan, total=   0.0s\n",
      "[CV] C=10, max_iter=200, penalty=l1, solver=newton-cg ................\n",
      "[CV]  C=10, max_iter=200, penalty=l1, solver=newton-cg, score=nan, total=   0.0s\n",
      "[CV] C=10, max_iter=200, penalty=l1, solver=newton-cg ................\n",
      "[CV]  C=10, max_iter=200, penalty=l1, solver=newton-cg, score=nan, total=   0.0s\n",
      "[CV] C=10, max_iter=200, penalty=l1, solver=newton-cg ................\n",
      "[CV]  C=10, max_iter=200, penalty=l1, solver=newton-cg, score=nan, total=   0.0s\n",
      "[CV] C=10, max_iter=200, penalty=l1, solver=lbfgs ....................\n",
      "[CV]  C=10, max_iter=200, penalty=l1, solver=lbfgs, score=nan, total=   0.0s\n",
      "[CV] C=10, max_iter=200, penalty=l1, solver=lbfgs ....................\n",
      "[CV]  C=10, max_iter=200, penalty=l1, solver=lbfgs, score=nan, total=   0.0s\n",
      "[CV] C=10, max_iter=200, penalty=l1, solver=lbfgs ....................\n",
      "[CV]  C=10, max_iter=200, penalty=l1, solver=lbfgs, score=nan, total=   0.0s\n",
      "[CV] C=10, max_iter=200, penalty=l1, solver=lbfgs ....................\n",
      "[CV]  C=10, max_iter=200, penalty=l1, solver=lbfgs, score=nan, total=   0.0s\n",
      "[CV] C=10, max_iter=200, penalty=l1, solver=lbfgs ....................\n",
      "[CV]  C=10, max_iter=200, penalty=l1, solver=lbfgs, score=nan, total=   0.0s\n",
      "[CV] C=10, max_iter=200, penalty=l1, solver=liblinear ................\n",
      "[CV]  C=10, max_iter=200, penalty=l1, solver=liblinear, score=0.846, total=   0.6s\n",
      "[CV] C=10, max_iter=200, penalty=l1, solver=liblinear ................\n",
      "[CV]  C=10, max_iter=200, penalty=l1, solver=liblinear, score=0.840, total=   1.0s\n",
      "[CV] C=10, max_iter=200, penalty=l1, solver=liblinear ................\n",
      "[CV]  C=10, max_iter=200, penalty=l1, solver=liblinear, score=0.861, total=   0.8s\n",
      "[CV] C=10, max_iter=200, penalty=l1, solver=liblinear ................\n",
      "[CV]  C=10, max_iter=200, penalty=l1, solver=liblinear, score=0.831, total=   0.8s\n",
      "[CV] C=10, max_iter=200, penalty=l1, solver=liblinear ................\n",
      "[CV]  C=10, max_iter=200, penalty=l1, solver=liblinear, score=0.823, total=   0.6s\n",
      "[CV] C=10, max_iter=200, penalty=l1, solver=sag ......................\n",
      "[CV]  C=10, max_iter=200, penalty=l1, solver=sag, score=nan, total=   0.0s\n",
      "[CV] C=10, max_iter=200, penalty=l1, solver=sag ......................\n",
      "[CV]  C=10, max_iter=200, penalty=l1, solver=sag, score=nan, total=   0.0s\n",
      "[CV] C=10, max_iter=200, penalty=l1, solver=sag ......................\n",
      "[CV]  C=10, max_iter=200, penalty=l1, solver=sag, score=nan, total=   0.0s\n",
      "[CV] C=10, max_iter=200, penalty=l1, solver=sag ......................\n",
      "[CV]  C=10, max_iter=200, penalty=l1, solver=sag, score=nan, total=   0.0s\n",
      "[CV] C=10, max_iter=200, penalty=l1, solver=sag ......................\n",
      "[CV]  C=10, max_iter=200, penalty=l1, solver=sag, score=nan, total=   0.0s\n",
      "[CV] C=10, max_iter=200, penalty=l1, solver=saga .....................\n",
      "[CV]  C=10, max_iter=200, penalty=l1, solver=saga, score=0.844, total=   0.2s\n",
      "[CV] C=10, max_iter=200, penalty=l1, solver=saga .....................\n"
     ]
    },
    {
     "name": "stderr",
     "output_type": "stream",
     "text": [
      "C:\\Users\\hanie\\anaconda3\\lib\\site-packages\\sklearn\\model_selection\\_validation.py:548: FitFailedWarning: Estimator fit failed. The score on this train-test partition for these parameters will be set to nan. Details: \n",
      "Traceback (most recent call last):\n",
      "  File \"C:\\Users\\hanie\\anaconda3\\lib\\site-packages\\sklearn\\model_selection\\_validation.py\", line 531, in _fit_and_score\n",
      "    estimator.fit(X_train, y_train, **fit_params)\n",
      "  File \"C:\\Users\\hanie\\anaconda3\\lib\\site-packages\\sklearn\\linear_model\\_logistic.py\", line 1304, in fit\n",
      "    solver = _check_solver(self.solver, self.penalty, self.dual)\n",
      "  File \"C:\\Users\\hanie\\anaconda3\\lib\\site-packages\\sklearn\\linear_model\\_logistic.py\", line 442, in _check_solver\n",
      "    raise ValueError(\"Solver %s supports only 'l2' or 'none' penalties, \"\n",
      "ValueError: Solver sag supports only 'l2' or 'none' penalties, got l1 penalty.\n",
      "\n",
      "  warnings.warn(\"Estimator fit failed. The score on this train-test\"\n",
      "C:\\Users\\hanie\\anaconda3\\lib\\site-packages\\sklearn\\linear_model\\_sag.py:329: ConvergenceWarning: The max_iter was reached which means the coef_ did not converge\n",
      "  warnings.warn(\"The max_iter was reached which means \"\n",
      "C:\\Users\\hanie\\anaconda3\\lib\\site-packages\\sklearn\\linear_model\\_sag.py:329: ConvergenceWarning: The max_iter was reached which means the coef_ did not converge\n",
      "  warnings.warn(\"The max_iter was reached which means \"\n",
      "C:\\Users\\hanie\\anaconda3\\lib\\site-packages\\sklearn\\linear_model\\_sag.py:329: ConvergenceWarning: The max_iter was reached which means the coef_ did not converge\n",
      "  warnings.warn(\"The max_iter was reached which means \"\n"
     ]
    },
    {
     "name": "stdout",
     "output_type": "stream",
     "text": [
      "[CV]  C=10, max_iter=200, penalty=l1, solver=saga, score=0.838, total=   0.2s\n",
      "[CV] C=10, max_iter=200, penalty=l1, solver=saga .....................\n",
      "[CV]  C=10, max_iter=200, penalty=l1, solver=saga, score=0.859, total=   0.2s\n",
      "[CV] C=10, max_iter=200, penalty=l1, solver=saga .....................\n"
     ]
    },
    {
     "name": "stderr",
     "output_type": "stream",
     "text": [
      "C:\\Users\\hanie\\anaconda3\\lib\\site-packages\\sklearn\\linear_model\\_sag.py:329: ConvergenceWarning: The max_iter was reached which means the coef_ did not converge\n",
      "  warnings.warn(\"The max_iter was reached which means \"\n",
      "C:\\Users\\hanie\\anaconda3\\lib\\site-packages\\sklearn\\linear_model\\_sag.py:329: ConvergenceWarning: The max_iter was reached which means the coef_ did not converge\n",
      "  warnings.warn(\"The max_iter was reached which means \"\n"
     ]
    },
    {
     "name": "stdout",
     "output_type": "stream",
     "text": [
      "[CV]  C=10, max_iter=200, penalty=l1, solver=saga, score=0.828, total=   0.2s\n",
      "[CV] C=10, max_iter=200, penalty=l1, solver=saga .....................\n",
      "[CV]  C=10, max_iter=200, penalty=l1, solver=saga, score=0.821, total=   0.2s\n",
      "[CV] C=10, max_iter=200, penalty=l2, solver=newton-cg ................\n",
      "[CV]  C=10, max_iter=200, penalty=l2, solver=newton-cg, score=0.837, total=   0.1s\n",
      "[CV] C=10, max_iter=200, penalty=l2, solver=newton-cg ................\n",
      "[CV]  C=10, max_iter=200, penalty=l2, solver=newton-cg, score=0.827, total=   0.0s\n",
      "[CV] C=10, max_iter=200, penalty=l2, solver=newton-cg ................\n",
      "[CV]  C=10, max_iter=200, penalty=l2, solver=newton-cg, score=0.843, total=   0.1s\n",
      "[CV] C=10, max_iter=200, penalty=l2, solver=newton-cg ................\n",
      "[CV]  C=10, max_iter=200, penalty=l2, solver=newton-cg, score=0.813, total=   0.0s\n",
      "[CV] C=10, max_iter=200, penalty=l2, solver=newton-cg ................\n",
      "[CV]  C=10, max_iter=200, penalty=l2, solver=newton-cg, score=0.821, total=   0.1s\n",
      "[CV] C=10, max_iter=200, penalty=l2, solver=lbfgs ....................\n",
      "[CV]  C=10, max_iter=200, penalty=l2, solver=lbfgs, score=0.837, total=   0.0s\n",
      "[CV] C=10, max_iter=200, penalty=l2, solver=lbfgs ....................\n",
      "[CV]  C=10, max_iter=200, penalty=l2, solver=lbfgs, score=0.827, total=   0.1s\n",
      "[CV] C=10, max_iter=200, penalty=l2, solver=lbfgs ....................\n",
      "[CV]  C=10, max_iter=200, penalty=l2, solver=lbfgs, score=0.843, total=   0.0s\n",
      "[CV] C=10, max_iter=200, penalty=l2, solver=lbfgs ....................\n",
      "[CV]  C=10, max_iter=200, penalty=l2, solver=lbfgs, score=0.813, total=   0.1s\n",
      "[CV] C=10, max_iter=200, penalty=l2, solver=lbfgs ....................\n",
      "[CV]  C=10, max_iter=200, penalty=l2, solver=lbfgs, score=0.821, total=   0.0s\n",
      "[CV] C=10, max_iter=200, penalty=l2, solver=liblinear ................\n",
      "[CV]  C=10, max_iter=200, penalty=l2, solver=liblinear, score=0.829, total=   0.0s\n",
      "[CV] C=10, max_iter=200, penalty=l2, solver=liblinear ................\n",
      "[CV]  C=10, max_iter=200, penalty=l2, solver=liblinear, score=0.824, total=   0.0s\n",
      "[CV] C=10, max_iter=200, penalty=l2, solver=liblinear ................\n",
      "[CV]  C=10, max_iter=200, penalty=l2, solver=liblinear, score=0.837, total=   0.0s\n",
      "[CV] C=10, max_iter=200, penalty=l2, solver=liblinear ................\n",
      "[CV]  C=10, max_iter=200, penalty=l2, solver=liblinear, score=0.809, total=   0.0s\n",
      "[CV] C=10, max_iter=200, penalty=l2, solver=liblinear ................\n",
      "[CV]  C=10, max_iter=200, penalty=l2, solver=liblinear, score=0.818, total=   0.0s\n",
      "[CV] C=10, max_iter=200, penalty=l2, solver=sag ......................\n",
      "[CV]  C=10, max_iter=200, penalty=l2, solver=sag, score=0.837, total=   0.1s\n",
      "[CV] C=10, max_iter=200, penalty=l2, solver=sag ......................\n",
      "[CV]  C=10, max_iter=200, penalty=l2, solver=sag, score=0.827, total=   0.1s\n",
      "[CV] C=10, max_iter=200, penalty=l2, solver=sag ......................\n",
      "[CV]  C=10, max_iter=200, penalty=l2, solver=sag, score=0.843, total=   0.1s\n",
      "[CV] C=10, max_iter=200, penalty=l2, solver=sag ......................\n",
      "[CV]  C=10, max_iter=200, penalty=l2, solver=sag, score=0.813, total=   0.1s\n",
      "[CV] C=10, max_iter=200, penalty=l2, solver=sag ......................\n",
      "[CV]  C=10, max_iter=200, penalty=l2, solver=sag, score=0.821, total=   0.1s\n",
      "[CV] C=10, max_iter=200, penalty=l2, solver=saga .....................\n",
      "[CV]  C=10, max_iter=200, penalty=l2, solver=saga, score=0.837, total=   0.1s\n",
      "[CV] C=10, max_iter=200, penalty=l2, solver=saga .....................\n"
     ]
    },
    {
     "name": "stderr",
     "output_type": "stream",
     "text": [
      "C:\\Users\\hanie\\anaconda3\\lib\\site-packages\\sklearn\\linear_model\\_sag.py:329: ConvergenceWarning: The max_iter was reached which means the coef_ did not converge\n",
      "  warnings.warn(\"The max_iter was reached which means \"\n",
      "C:\\Users\\hanie\\anaconda3\\lib\\site-packages\\sklearn\\linear_model\\_sag.py:329: ConvergenceWarning: The max_iter was reached which means the coef_ did not converge\n",
      "  warnings.warn(\"The max_iter was reached which means \"\n"
     ]
    },
    {
     "name": "stdout",
     "output_type": "stream",
     "text": [
      "[CV]  C=10, max_iter=200, penalty=l2, solver=saga, score=0.828, total=   0.1s\n",
      "[CV] C=10, max_iter=200, penalty=l2, solver=saga .....................\n",
      "[CV]  C=10, max_iter=200, penalty=l2, solver=saga, score=0.843, total=   0.1s\n",
      "[CV] C=10, max_iter=200, penalty=l2, solver=saga .....................\n"
     ]
    },
    {
     "name": "stderr",
     "output_type": "stream",
     "text": [
      "C:\\Users\\hanie\\anaconda3\\lib\\site-packages\\sklearn\\linear_model\\_sag.py:329: ConvergenceWarning: The max_iter was reached which means the coef_ did not converge\n",
      "  warnings.warn(\"The max_iter was reached which means \"\n",
      "C:\\Users\\hanie\\anaconda3\\lib\\site-packages\\sklearn\\linear_model\\_sag.py:329: ConvergenceWarning: The max_iter was reached which means the coef_ did not converge\n",
      "  warnings.warn(\"The max_iter was reached which means \"\n"
     ]
    },
    {
     "name": "stdout",
     "output_type": "stream",
     "text": [
      "[CV]  C=10, max_iter=200, penalty=l2, solver=saga, score=0.813, total=   0.1s\n",
      "[CV] C=10, max_iter=200, penalty=l2, solver=saga .....................\n",
      "[CV]  C=10, max_iter=200, penalty=l2, solver=saga, score=0.821, total=   0.1s\n",
      "[CV] C=10, max_iter=300, penalty=l1, solver=newton-cg ................\n",
      "[CV]  C=10, max_iter=300, penalty=l1, solver=newton-cg, score=nan, total=   0.0s\n",
      "[CV] C=10, max_iter=300, penalty=l1, solver=newton-cg ................\n",
      "[CV]  C=10, max_iter=300, penalty=l1, solver=newton-cg, score=nan, total=   0.0s\n",
      "[CV] C=10, max_iter=300, penalty=l1, solver=newton-cg ................\n",
      "[CV]  C=10, max_iter=300, penalty=l1, solver=newton-cg, score=nan, total=   0.0s\n",
      "[CV] C=10, max_iter=300, penalty=l1, solver=newton-cg ................\n",
      "[CV]  C=10, max_iter=300, penalty=l1, solver=newton-cg, score=nan, total=   0.0s\n",
      "[CV] C=10, max_iter=300, penalty=l1, solver=newton-cg ................\n",
      "[CV]  C=10, max_iter=300, penalty=l1, solver=newton-cg, score=nan, total=   0.0s\n",
      "[CV] C=10, max_iter=300, penalty=l1, solver=lbfgs ....................\n",
      "[CV]  C=10, max_iter=300, penalty=l1, solver=lbfgs, score=nan, total=   0.0s\n",
      "[CV] C=10, max_iter=300, penalty=l1, solver=lbfgs ....................\n",
      "[CV]  C=10, max_iter=300, penalty=l1, solver=lbfgs, score=nan, total=   0.0s\n",
      "[CV] C=10, max_iter=300, penalty=l1, solver=lbfgs ....................\n",
      "[CV]  C=10, max_iter=300, penalty=l1, solver=lbfgs, score=nan, total=   0.0s\n",
      "[CV] C=10, max_iter=300, penalty=l1, solver=lbfgs ....................\n",
      "[CV]  C=10, max_iter=300, penalty=l1, solver=lbfgs, score=nan, total=   0.0s\n",
      "[CV] C=10, max_iter=300, penalty=l1, solver=lbfgs ....................\n",
      "[CV]  C=10, max_iter=300, penalty=l1, solver=lbfgs, score=nan, total=   0.0s\n",
      "[CV] C=10, max_iter=300, penalty=l1, solver=liblinear ................\n"
     ]
    },
    {
     "name": "stderr",
     "output_type": "stream",
     "text": [
      "C:\\Users\\hanie\\anaconda3\\lib\\site-packages\\sklearn\\linear_model\\_sag.py:329: ConvergenceWarning: The max_iter was reached which means the coef_ did not converge\n",
      "  warnings.warn(\"The max_iter was reached which means \"\n",
      "C:\\Users\\hanie\\anaconda3\\lib\\site-packages\\sklearn\\model_selection\\_validation.py:548: FitFailedWarning: Estimator fit failed. The score on this train-test partition for these parameters will be set to nan. Details: \n",
      "Traceback (most recent call last):\n",
      "  File \"C:\\Users\\hanie\\anaconda3\\lib\\site-packages\\sklearn\\model_selection\\_validation.py\", line 531, in _fit_and_score\n",
      "    estimator.fit(X_train, y_train, **fit_params)\n",
      "  File \"C:\\Users\\hanie\\anaconda3\\lib\\site-packages\\sklearn\\linear_model\\_logistic.py\", line 1304, in fit\n",
      "    solver = _check_solver(self.solver, self.penalty, self.dual)\n",
      "  File \"C:\\Users\\hanie\\anaconda3\\lib\\site-packages\\sklearn\\linear_model\\_logistic.py\", line 442, in _check_solver\n",
      "    raise ValueError(\"Solver %s supports only 'l2' or 'none' penalties, \"\n",
      "ValueError: Solver newton-cg supports only 'l2' or 'none' penalties, got l1 penalty.\n",
      "\n",
      "  warnings.warn(\"Estimator fit failed. The score on this train-test\"\n",
      "C:\\Users\\hanie\\anaconda3\\lib\\site-packages\\sklearn\\model_selection\\_validation.py:548: FitFailedWarning: Estimator fit failed. The score on this train-test partition for these parameters will be set to nan. Details: \n",
      "Traceback (most recent call last):\n",
      "  File \"C:\\Users\\hanie\\anaconda3\\lib\\site-packages\\sklearn\\model_selection\\_validation.py\", line 531, in _fit_and_score\n",
      "    estimator.fit(X_train, y_train, **fit_params)\n",
      "  File \"C:\\Users\\hanie\\anaconda3\\lib\\site-packages\\sklearn\\linear_model\\_logistic.py\", line 1304, in fit\n",
      "    solver = _check_solver(self.solver, self.penalty, self.dual)\n",
      "  File \"C:\\Users\\hanie\\anaconda3\\lib\\site-packages\\sklearn\\linear_model\\_logistic.py\", line 442, in _check_solver\n",
      "    raise ValueError(\"Solver %s supports only 'l2' or 'none' penalties, \"\n",
      "ValueError: Solver lbfgs supports only 'l2' or 'none' penalties, got l1 penalty.\n",
      "\n",
      "  warnings.warn(\"Estimator fit failed. The score on this train-test\"\n"
     ]
    },
    {
     "name": "stdout",
     "output_type": "stream",
     "text": [
      "[CV]  C=10, max_iter=300, penalty=l1, solver=liblinear, score=0.846, total=   0.6s\n",
      "[CV] C=10, max_iter=300, penalty=l1, solver=liblinear ................\n",
      "[CV]  C=10, max_iter=300, penalty=l1, solver=liblinear, score=0.840, total=   0.9s\n",
      "[CV] C=10, max_iter=300, penalty=l1, solver=liblinear ................\n",
      "[CV]  C=10, max_iter=300, penalty=l1, solver=liblinear, score=0.861, total=   0.7s\n",
      "[CV] C=10, max_iter=300, penalty=l1, solver=liblinear ................\n",
      "[CV]  C=10, max_iter=300, penalty=l1, solver=liblinear, score=0.831, total=   0.8s\n",
      "[CV] C=10, max_iter=300, penalty=l1, solver=liblinear ................\n",
      "[CV]  C=10, max_iter=300, penalty=l1, solver=liblinear, score=0.823, total=   0.6s\n",
      "[CV] C=10, max_iter=300, penalty=l1, solver=sag ......................\n",
      "[CV]  C=10, max_iter=300, penalty=l1, solver=sag, score=nan, total=   0.0s\n",
      "[CV] C=10, max_iter=300, penalty=l1, solver=sag ......................\n",
      "[CV]  C=10, max_iter=300, penalty=l1, solver=sag, score=nan, total=   0.0s\n",
      "[CV] C=10, max_iter=300, penalty=l1, solver=sag ......................\n",
      "[CV]  C=10, max_iter=300, penalty=l1, solver=sag, score=nan, total=   0.0s\n",
      "[CV] C=10, max_iter=300, penalty=l1, solver=sag ......................\n",
      "[CV]  C=10, max_iter=300, penalty=l1, solver=sag, score=nan, total=   0.0s\n",
      "[CV] C=10, max_iter=300, penalty=l1, solver=sag ......................\n",
      "[CV]  C=10, max_iter=300, penalty=l1, solver=sag, score=nan, total=   0.0s\n",
      "[CV] C=10, max_iter=300, penalty=l1, solver=saga .....................\n"
     ]
    },
    {
     "name": "stderr",
     "output_type": "stream",
     "text": [
      "C:\\Users\\hanie\\anaconda3\\lib\\site-packages\\sklearn\\model_selection\\_validation.py:548: FitFailedWarning: Estimator fit failed. The score on this train-test partition for these parameters will be set to nan. Details: \n",
      "Traceback (most recent call last):\n",
      "  File \"C:\\Users\\hanie\\anaconda3\\lib\\site-packages\\sklearn\\model_selection\\_validation.py\", line 531, in _fit_and_score\n",
      "    estimator.fit(X_train, y_train, **fit_params)\n",
      "  File \"C:\\Users\\hanie\\anaconda3\\lib\\site-packages\\sklearn\\linear_model\\_logistic.py\", line 1304, in fit\n",
      "    solver = _check_solver(self.solver, self.penalty, self.dual)\n",
      "  File \"C:\\Users\\hanie\\anaconda3\\lib\\site-packages\\sklearn\\linear_model\\_logistic.py\", line 442, in _check_solver\n",
      "    raise ValueError(\"Solver %s supports only 'l2' or 'none' penalties, \"\n",
      "ValueError: Solver sag supports only 'l2' or 'none' penalties, got l1 penalty.\n",
      "\n",
      "  warnings.warn(\"Estimator fit failed. The score on this train-test\"\n",
      "C:\\Users\\hanie\\anaconda3\\lib\\site-packages\\sklearn\\linear_model\\_sag.py:329: ConvergenceWarning: The max_iter was reached which means the coef_ did not converge\n",
      "  warnings.warn(\"The max_iter was reached which means \"\n"
     ]
    },
    {
     "name": "stdout",
     "output_type": "stream",
     "text": [
      "[CV]  C=10, max_iter=300, penalty=l1, solver=saga, score=0.844, total=   0.3s\n",
      "[CV] C=10, max_iter=300, penalty=l1, solver=saga .....................\n"
     ]
    },
    {
     "name": "stderr",
     "output_type": "stream",
     "text": [
      "C:\\Users\\hanie\\anaconda3\\lib\\site-packages\\sklearn\\linear_model\\_sag.py:329: ConvergenceWarning: The max_iter was reached which means the coef_ did not converge\n",
      "  warnings.warn(\"The max_iter was reached which means \"\n"
     ]
    },
    {
     "name": "stdout",
     "output_type": "stream",
     "text": [
      "[CV]  C=10, max_iter=300, penalty=l1, solver=saga, score=0.840, total=   0.3s\n",
      "[CV] C=10, max_iter=300, penalty=l1, solver=saga .....................\n"
     ]
    },
    {
     "name": "stderr",
     "output_type": "stream",
     "text": [
      "C:\\Users\\hanie\\anaconda3\\lib\\site-packages\\sklearn\\linear_model\\_sag.py:329: ConvergenceWarning: The max_iter was reached which means the coef_ did not converge\n",
      "  warnings.warn(\"The max_iter was reached which means \"\n"
     ]
    },
    {
     "name": "stdout",
     "output_type": "stream",
     "text": [
      "[CV]  C=10, max_iter=300, penalty=l1, solver=saga, score=0.857, total=   0.3s\n",
      "[CV] C=10, max_iter=300, penalty=l1, solver=saga .....................\n"
     ]
    },
    {
     "name": "stderr",
     "output_type": "stream",
     "text": [
      "C:\\Users\\hanie\\anaconda3\\lib\\site-packages\\sklearn\\linear_model\\_sag.py:329: ConvergenceWarning: The max_iter was reached which means the coef_ did not converge\n",
      "  warnings.warn(\"The max_iter was reached which means \"\n"
     ]
    },
    {
     "name": "stdout",
     "output_type": "stream",
     "text": [
      "[CV]  C=10, max_iter=300, penalty=l1, solver=saga, score=0.827, total=   0.3s\n",
      "[CV] C=10, max_iter=300, penalty=l1, solver=saga .....................\n"
     ]
    },
    {
     "name": "stderr",
     "output_type": "stream",
     "text": [
      "C:\\Users\\hanie\\anaconda3\\lib\\site-packages\\sklearn\\linear_model\\_sag.py:329: ConvergenceWarning: The max_iter was reached which means the coef_ did not converge\n",
      "  warnings.warn(\"The max_iter was reached which means \"\n"
     ]
    },
    {
     "name": "stdout",
     "output_type": "stream",
     "text": [
      "[CV]  C=10, max_iter=300, penalty=l1, solver=saga, score=0.822, total=   0.3s\n",
      "[CV] C=10, max_iter=300, penalty=l2, solver=newton-cg ................\n",
      "[CV]  C=10, max_iter=300, penalty=l2, solver=newton-cg, score=0.837, total=   0.0s\n",
      "[CV] C=10, max_iter=300, penalty=l2, solver=newton-cg ................\n",
      "[CV]  C=10, max_iter=300, penalty=l2, solver=newton-cg, score=0.827, total=   0.0s\n",
      "[CV] C=10, max_iter=300, penalty=l2, solver=newton-cg ................\n",
      "[CV]  C=10, max_iter=300, penalty=l2, solver=newton-cg, score=0.843, total=   0.0s\n",
      "[CV] C=10, max_iter=300, penalty=l2, solver=newton-cg ................\n",
      "[CV]  C=10, max_iter=300, penalty=l2, solver=newton-cg, score=0.813, total=   0.1s\n",
      "[CV] C=10, max_iter=300, penalty=l2, solver=newton-cg ................\n",
      "[CV]  C=10, max_iter=300, penalty=l2, solver=newton-cg, score=0.821, total=   0.1s\n",
      "[CV] C=10, max_iter=300, penalty=l2, solver=lbfgs ....................\n",
      "[CV]  C=10, max_iter=300, penalty=l2, solver=lbfgs, score=0.837, total=   0.0s\n",
      "[CV] C=10, max_iter=300, penalty=l2, solver=lbfgs ....................\n",
      "[CV]  C=10, max_iter=300, penalty=l2, solver=lbfgs, score=0.827, total=   0.1s\n",
      "[CV] C=10, max_iter=300, penalty=l2, solver=lbfgs ....................\n",
      "[CV]  C=10, max_iter=300, penalty=l2, solver=lbfgs, score=0.843, total=   0.0s\n",
      "[CV] C=10, max_iter=300, penalty=l2, solver=lbfgs ....................\n",
      "[CV]  C=10, max_iter=300, penalty=l2, solver=lbfgs, score=0.813, total=   0.1s\n",
      "[CV] C=10, max_iter=300, penalty=l2, solver=lbfgs ....................\n",
      "[CV]  C=10, max_iter=300, penalty=l2, solver=lbfgs, score=0.821, total=   0.1s\n",
      "[CV] C=10, max_iter=300, penalty=l2, solver=liblinear ................\n",
      "[CV]  C=10, max_iter=300, penalty=l2, solver=liblinear, score=0.829, total=   0.0s\n",
      "[CV] C=10, max_iter=300, penalty=l2, solver=liblinear ................\n",
      "[CV]  C=10, max_iter=300, penalty=l2, solver=liblinear, score=0.824, total=   0.0s\n",
      "[CV] C=10, max_iter=300, penalty=l2, solver=liblinear ................\n",
      "[CV]  C=10, max_iter=300, penalty=l2, solver=liblinear, score=0.837, total=   0.0s\n",
      "[CV] C=10, max_iter=300, penalty=l2, solver=liblinear ................\n",
      "[CV]  C=10, max_iter=300, penalty=l2, solver=liblinear, score=0.809, total=   0.0s\n",
      "[CV] C=10, max_iter=300, penalty=l2, solver=liblinear ................\n",
      "[CV]  C=10, max_iter=300, penalty=l2, solver=liblinear, score=0.818, total=   0.0s\n",
      "[CV] C=10, max_iter=300, penalty=l2, solver=sag ......................\n",
      "[CV]  C=10, max_iter=300, penalty=l2, solver=sag, score=0.837, total=   0.2s\n",
      "[CV] C=10, max_iter=300, penalty=l2, solver=sag ......................\n",
      "[CV]  C=10, max_iter=300, penalty=l2, solver=sag, score=0.827, total=   0.1s\n",
      "[CV] C=10, max_iter=300, penalty=l2, solver=sag ......................\n",
      "[CV]  C=10, max_iter=300, penalty=l2, solver=sag, score=0.843, total=   0.1s\n",
      "[CV] C=10, max_iter=300, penalty=l2, solver=sag ......................\n",
      "[CV]  C=10, max_iter=300, penalty=l2, solver=sag, score=0.813, total=   0.1s\n",
      "[CV] C=10, max_iter=300, penalty=l2, solver=sag ......................\n",
      "[CV]  C=10, max_iter=300, penalty=l2, solver=sag, score=0.821, total=   0.1s\n",
      "[CV] C=10, max_iter=300, penalty=l2, solver=saga .....................\n"
     ]
    },
    {
     "name": "stderr",
     "output_type": "stream",
     "text": [
      "C:\\Users\\hanie\\anaconda3\\lib\\site-packages\\sklearn\\linear_model\\_sag.py:329: ConvergenceWarning: The max_iter was reached which means the coef_ did not converge\n",
      "  warnings.warn(\"The max_iter was reached which means \"\n"
     ]
    },
    {
     "name": "stdout",
     "output_type": "stream",
     "text": [
      "[CV]  C=10, max_iter=300, penalty=l2, solver=saga, score=0.837, total=   0.2s\n",
      "[CV] C=10, max_iter=300, penalty=l2, solver=saga .....................\n",
      "[CV]  C=10, max_iter=300, penalty=l2, solver=saga, score=0.827, total=   0.2s\n",
      "[CV] C=10, max_iter=300, penalty=l2, solver=saga .....................\n"
     ]
    },
    {
     "name": "stderr",
     "output_type": "stream",
     "text": [
      "C:\\Users\\hanie\\anaconda3\\lib\\site-packages\\sklearn\\linear_model\\_sag.py:329: ConvergenceWarning: The max_iter was reached which means the coef_ did not converge\n",
      "  warnings.warn(\"The max_iter was reached which means \"\n"
     ]
    },
    {
     "name": "stdout",
     "output_type": "stream",
     "text": [
      "[CV]  C=10, max_iter=300, penalty=l2, solver=saga, score=0.843, total=   0.2s\n",
      "[CV] C=10, max_iter=300, penalty=l2, solver=saga .....................\n"
     ]
    },
    {
     "name": "stderr",
     "output_type": "stream",
     "text": [
      "C:\\Users\\hanie\\anaconda3\\lib\\site-packages\\sklearn\\linear_model\\_sag.py:329: ConvergenceWarning: The max_iter was reached which means the coef_ did not converge\n",
      "  warnings.warn(\"The max_iter was reached which means \"\n"
     ]
    },
    {
     "name": "stdout",
     "output_type": "stream",
     "text": [
      "[CV]  C=10, max_iter=300, penalty=l2, solver=saga, score=0.813, total=   0.2s\n",
      "[CV] C=10, max_iter=300, penalty=l2, solver=saga .....................\n"
     ]
    },
    {
     "name": "stderr",
     "output_type": "stream",
     "text": [
      "C:\\Users\\hanie\\anaconda3\\lib\\site-packages\\sklearn\\linear_model\\_sag.py:329: ConvergenceWarning: The max_iter was reached which means the coef_ did not converge\n",
      "  warnings.warn(\"The max_iter was reached which means \"\n",
      "C:\\Users\\hanie\\anaconda3\\lib\\site-packages\\sklearn\\model_selection\\_validation.py:548: FitFailedWarning: Estimator fit failed. The score on this train-test partition for these parameters will be set to nan. Details: \n",
      "Traceback (most recent call last):\n",
      "  File \"C:\\Users\\hanie\\anaconda3\\lib\\site-packages\\sklearn\\model_selection\\_validation.py\", line 531, in _fit_and_score\n",
      "    estimator.fit(X_train, y_train, **fit_params)\n",
      "  File \"C:\\Users\\hanie\\anaconda3\\lib\\site-packages\\sklearn\\linear_model\\_logistic.py\", line 1304, in fit\n",
      "    solver = _check_solver(self.solver, self.penalty, self.dual)\n",
      "  File \"C:\\Users\\hanie\\anaconda3\\lib\\site-packages\\sklearn\\linear_model\\_logistic.py\", line 442, in _check_solver\n",
      "    raise ValueError(\"Solver %s supports only 'l2' or 'none' penalties, \"\n",
      "ValueError: Solver newton-cg supports only 'l2' or 'none' penalties, got l1 penalty.\n",
      "\n",
      "  warnings.warn(\"Estimator fit failed. The score on this train-test\"\n",
      "C:\\Users\\hanie\\anaconda3\\lib\\site-packages\\sklearn\\model_selection\\_validation.py:548: FitFailedWarning: Estimator fit failed. The score on this train-test partition for these parameters will be set to nan. Details: \n",
      "Traceback (most recent call last):\n",
      "  File \"C:\\Users\\hanie\\anaconda3\\lib\\site-packages\\sklearn\\model_selection\\_validation.py\", line 531, in _fit_and_score\n",
      "    estimator.fit(X_train, y_train, **fit_params)\n",
      "  File \"C:\\Users\\hanie\\anaconda3\\lib\\site-packages\\sklearn\\linear_model\\_logistic.py\", line 1304, in fit\n",
      "    solver = _check_solver(self.solver, self.penalty, self.dual)\n",
      "  File \"C:\\Users\\hanie\\anaconda3\\lib\\site-packages\\sklearn\\linear_model\\_logistic.py\", line 442, in _check_solver\n",
      "    raise ValueError(\"Solver %s supports only 'l2' or 'none' penalties, \"\n",
      "ValueError: Solver lbfgs supports only 'l2' or 'none' penalties, got l1 penalty.\n",
      "\n",
      "  warnings.warn(\"Estimator fit failed. The score on this train-test\"\n"
     ]
    },
    {
     "name": "stdout",
     "output_type": "stream",
     "text": [
      "[CV]  C=10, max_iter=300, penalty=l2, solver=saga, score=0.821, total=   0.2s\n",
      "[CV] C=10, max_iter=400, penalty=l1, solver=newton-cg ................\n",
      "[CV]  C=10, max_iter=400, penalty=l1, solver=newton-cg, score=nan, total=   0.0s\n",
      "[CV] C=10, max_iter=400, penalty=l1, solver=newton-cg ................\n",
      "[CV]  C=10, max_iter=400, penalty=l1, solver=newton-cg, score=nan, total=   0.0s\n",
      "[CV] C=10, max_iter=400, penalty=l1, solver=newton-cg ................\n",
      "[CV]  C=10, max_iter=400, penalty=l1, solver=newton-cg, score=nan, total=   0.0s\n",
      "[CV] C=10, max_iter=400, penalty=l1, solver=newton-cg ................\n",
      "[CV]  C=10, max_iter=400, penalty=l1, solver=newton-cg, score=nan, total=   0.0s\n",
      "[CV] C=10, max_iter=400, penalty=l1, solver=newton-cg ................\n",
      "[CV]  C=10, max_iter=400, penalty=l1, solver=newton-cg, score=nan, total=   0.0s\n",
      "[CV] C=10, max_iter=400, penalty=l1, solver=lbfgs ....................\n",
      "[CV]  C=10, max_iter=400, penalty=l1, solver=lbfgs, score=nan, total=   0.0s\n",
      "[CV] C=10, max_iter=400, penalty=l1, solver=lbfgs ....................\n",
      "[CV]  C=10, max_iter=400, penalty=l1, solver=lbfgs, score=nan, total=   0.0s\n",
      "[CV] C=10, max_iter=400, penalty=l1, solver=lbfgs ....................\n",
      "[CV]  C=10, max_iter=400, penalty=l1, solver=lbfgs, score=nan, total=   0.0s\n",
      "[CV] C=10, max_iter=400, penalty=l1, solver=lbfgs ....................\n",
      "[CV]  C=10, max_iter=400, penalty=l1, solver=lbfgs, score=nan, total=   0.0s\n",
      "[CV] C=10, max_iter=400, penalty=l1, solver=lbfgs ....................\n",
      "[CV]  C=10, max_iter=400, penalty=l1, solver=lbfgs, score=nan, total=   0.0s\n",
      "[CV] C=10, max_iter=400, penalty=l1, solver=liblinear ................\n",
      "[CV]  C=10, max_iter=400, penalty=l1, solver=liblinear, score=0.846, total=   0.7s\n",
      "[CV] C=10, max_iter=400, penalty=l1, solver=liblinear ................\n",
      "[CV]  C=10, max_iter=400, penalty=l1, solver=liblinear, score=0.840, total=   0.7s\n",
      "[CV] C=10, max_iter=400, penalty=l1, solver=liblinear ................\n",
      "[CV]  C=10, max_iter=400, penalty=l1, solver=liblinear, score=0.861, total=   0.7s\n",
      "[CV] C=10, max_iter=400, penalty=l1, solver=liblinear ................\n",
      "[CV]  C=10, max_iter=400, penalty=l1, solver=liblinear, score=0.831, total=   0.8s\n",
      "[CV] C=10, max_iter=400, penalty=l1, solver=liblinear ................\n",
      "[CV]  C=10, max_iter=400, penalty=l1, solver=liblinear, score=0.823, total=   0.6s\n",
      "[CV] C=10, max_iter=400, penalty=l1, solver=sag ......................\n",
      "[CV]  C=10, max_iter=400, penalty=l1, solver=sag, score=nan, total=   0.0s\n",
      "[CV] C=10, max_iter=400, penalty=l1, solver=sag ......................\n",
      "[CV]  C=10, max_iter=400, penalty=l1, solver=sag, score=nan, total=   0.0s\n",
      "[CV] C=10, max_iter=400, penalty=l1, solver=sag ......................\n",
      "[CV]  C=10, max_iter=400, penalty=l1, solver=sag, score=nan, total=   0.0s\n",
      "[CV] C=10, max_iter=400, penalty=l1, solver=sag ......................\n",
      "[CV]  C=10, max_iter=400, penalty=l1, solver=sag, score=nan, total=   0.0s\n",
      "[CV] C=10, max_iter=400, penalty=l1, solver=sag ......................\n",
      "[CV]  C=10, max_iter=400, penalty=l1, solver=sag, score=nan, total=   0.0s\n",
      "[CV] C=10, max_iter=400, penalty=l1, solver=saga .....................\n"
     ]
    },
    {
     "name": "stderr",
     "output_type": "stream",
     "text": [
      "C:\\Users\\hanie\\anaconda3\\lib\\site-packages\\sklearn\\model_selection\\_validation.py:548: FitFailedWarning: Estimator fit failed. The score on this train-test partition for these parameters will be set to nan. Details: \n",
      "Traceback (most recent call last):\n",
      "  File \"C:\\Users\\hanie\\anaconda3\\lib\\site-packages\\sklearn\\model_selection\\_validation.py\", line 531, in _fit_and_score\n",
      "    estimator.fit(X_train, y_train, **fit_params)\n",
      "  File \"C:\\Users\\hanie\\anaconda3\\lib\\site-packages\\sklearn\\linear_model\\_logistic.py\", line 1304, in fit\n",
      "    solver = _check_solver(self.solver, self.penalty, self.dual)\n",
      "  File \"C:\\Users\\hanie\\anaconda3\\lib\\site-packages\\sklearn\\linear_model\\_logistic.py\", line 442, in _check_solver\n",
      "    raise ValueError(\"Solver %s supports only 'l2' or 'none' penalties, \"\n",
      "ValueError: Solver sag supports only 'l2' or 'none' penalties, got l1 penalty.\n",
      "\n",
      "  warnings.warn(\"Estimator fit failed. The score on this train-test\"\n",
      "C:\\Users\\hanie\\anaconda3\\lib\\site-packages\\sklearn\\linear_model\\_sag.py:329: ConvergenceWarning: The max_iter was reached which means the coef_ did not converge\n",
      "  warnings.warn(\"The max_iter was reached which means \"\n"
     ]
    },
    {
     "name": "stdout",
     "output_type": "stream",
     "text": [
      "[CV]  C=10, max_iter=400, penalty=l1, solver=saga, score=0.845, total=   0.3s\n",
      "[CV] C=10, max_iter=400, penalty=l1, solver=saga .....................\n"
     ]
    },
    {
     "name": "stderr",
     "output_type": "stream",
     "text": [
      "C:\\Users\\hanie\\anaconda3\\lib\\site-packages\\sklearn\\linear_model\\_sag.py:329: ConvergenceWarning: The max_iter was reached which means the coef_ did not converge\n",
      "  warnings.warn(\"The max_iter was reached which means \"\n"
     ]
    },
    {
     "name": "stdout",
     "output_type": "stream",
     "text": [
      "[CV]  C=10, max_iter=400, penalty=l1, solver=saga, score=0.840, total=   0.3s\n",
      "[CV] C=10, max_iter=400, penalty=l1, solver=saga .....................\n"
     ]
    },
    {
     "name": "stderr",
     "output_type": "stream",
     "text": [
      "C:\\Users\\hanie\\anaconda3\\lib\\site-packages\\sklearn\\linear_model\\_sag.py:329: ConvergenceWarning: The max_iter was reached which means the coef_ did not converge\n",
      "  warnings.warn(\"The max_iter was reached which means \"\n"
     ]
    },
    {
     "name": "stdout",
     "output_type": "stream",
     "text": [
      "[CV]  C=10, max_iter=400, penalty=l1, solver=saga, score=0.858, total=   0.3s\n",
      "[CV] C=10, max_iter=400, penalty=l1, solver=saga .....................\n"
     ]
    },
    {
     "name": "stderr",
     "output_type": "stream",
     "text": [
      "C:\\Users\\hanie\\anaconda3\\lib\\site-packages\\sklearn\\linear_model\\_sag.py:329: ConvergenceWarning: The max_iter was reached which means the coef_ did not converge\n",
      "  warnings.warn(\"The max_iter was reached which means \"\n"
     ]
    },
    {
     "name": "stdout",
     "output_type": "stream",
     "text": [
      "[CV]  C=10, max_iter=400, penalty=l1, solver=saga, score=0.828, total=   0.3s\n",
      "[CV] C=10, max_iter=400, penalty=l1, solver=saga .....................\n"
     ]
    },
    {
     "name": "stderr",
     "output_type": "stream",
     "text": [
      "C:\\Users\\hanie\\anaconda3\\lib\\site-packages\\sklearn\\linear_model\\_sag.py:329: ConvergenceWarning: The max_iter was reached which means the coef_ did not converge\n",
      "  warnings.warn(\"The max_iter was reached which means \"\n"
     ]
    },
    {
     "name": "stdout",
     "output_type": "stream",
     "text": [
      "[CV]  C=10, max_iter=400, penalty=l1, solver=saga, score=0.822, total=   0.3s\n",
      "[CV] C=10, max_iter=400, penalty=l2, solver=newton-cg ................\n",
      "[CV]  C=10, max_iter=400, penalty=l2, solver=newton-cg, score=0.837, total=   0.0s\n",
      "[CV] C=10, max_iter=400, penalty=l2, solver=newton-cg ................\n",
      "[CV]  C=10, max_iter=400, penalty=l2, solver=newton-cg, score=0.827, total=   0.0s\n",
      "[CV] C=10, max_iter=400, penalty=l2, solver=newton-cg ................\n",
      "[CV]  C=10, max_iter=400, penalty=l2, solver=newton-cg, score=0.843, total=   0.1s\n",
      "[CV] C=10, max_iter=400, penalty=l2, solver=newton-cg ................\n",
      "[CV]  C=10, max_iter=400, penalty=l2, solver=newton-cg, score=0.813, total=   0.0s\n",
      "[CV] C=10, max_iter=400, penalty=l2, solver=newton-cg ................\n",
      "[CV]  C=10, max_iter=400, penalty=l2, solver=newton-cg, score=0.821, total=   0.0s\n",
      "[CV] C=10, max_iter=400, penalty=l2, solver=lbfgs ....................\n",
      "[CV]  C=10, max_iter=400, penalty=l2, solver=lbfgs, score=0.837, total=   0.0s\n",
      "[CV] C=10, max_iter=400, penalty=l2, solver=lbfgs ....................\n",
      "[CV]  C=10, max_iter=400, penalty=l2, solver=lbfgs, score=0.827, total=   0.1s\n",
      "[CV] C=10, max_iter=400, penalty=l2, solver=lbfgs ....................\n",
      "[CV]  C=10, max_iter=400, penalty=l2, solver=lbfgs, score=0.843, total=   0.0s\n",
      "[CV] C=10, max_iter=400, penalty=l2, solver=lbfgs ....................\n",
      "[CV]  C=10, max_iter=400, penalty=l2, solver=lbfgs, score=0.813, total=   0.1s\n",
      "[CV] C=10, max_iter=400, penalty=l2, solver=lbfgs ....................\n",
      "[CV]  C=10, max_iter=400, penalty=l2, solver=lbfgs, score=0.821, total=   0.0s\n",
      "[CV] C=10, max_iter=400, penalty=l2, solver=liblinear ................\n",
      "[CV]  C=10, max_iter=400, penalty=l2, solver=liblinear, score=0.829, total=   0.0s\n",
      "[CV] C=10, max_iter=400, penalty=l2, solver=liblinear ................\n",
      "[CV]  C=10, max_iter=400, penalty=l2, solver=liblinear, score=0.824, total=   0.0s\n",
      "[CV] C=10, max_iter=400, penalty=l2, solver=liblinear ................\n",
      "[CV]  C=10, max_iter=400, penalty=l2, solver=liblinear, score=0.837, total=   0.0s\n",
      "[CV] C=10, max_iter=400, penalty=l2, solver=liblinear ................\n",
      "[CV]  C=10, max_iter=400, penalty=l2, solver=liblinear, score=0.809, total=   0.0s\n",
      "[CV] C=10, max_iter=400, penalty=l2, solver=liblinear ................\n",
      "[CV]  C=10, max_iter=400, penalty=l2, solver=liblinear, score=0.818, total=   0.0s\n",
      "[CV] C=10, max_iter=400, penalty=l2, solver=sag ......................\n",
      "[CV]  C=10, max_iter=400, penalty=l2, solver=sag, score=0.837, total=   0.1s\n",
      "[CV] C=10, max_iter=400, penalty=l2, solver=sag ......................\n",
      "[CV]  C=10, max_iter=400, penalty=l2, solver=sag, score=0.827, total=   0.1s\n",
      "[CV] C=10, max_iter=400, penalty=l2, solver=sag ......................\n",
      "[CV]  C=10, max_iter=400, penalty=l2, solver=sag, score=0.843, total=   0.1s\n",
      "[CV] C=10, max_iter=400, penalty=l2, solver=sag ......................\n",
      "[CV]  C=10, max_iter=400, penalty=l2, solver=sag, score=0.813, total=   0.1s\n",
      "[CV] C=10, max_iter=400, penalty=l2, solver=sag ......................\n",
      "[CV]  C=10, max_iter=400, penalty=l2, solver=sag, score=0.821, total=   0.1s\n",
      "[CV] C=10, max_iter=400, penalty=l2, solver=saga .....................\n",
      "[CV]  C=10, max_iter=400, penalty=l2, solver=saga, score=0.837, total=   0.2s\n",
      "[CV] C=10, max_iter=400, penalty=l2, solver=saga .....................\n",
      "[CV]  C=10, max_iter=400, penalty=l2, solver=saga, score=0.827, total=   0.2s\n",
      "[CV] C=10, max_iter=400, penalty=l2, solver=saga .....................\n",
      "[CV]  C=10, max_iter=400, penalty=l2, solver=saga, score=0.843, total=   0.3s\n",
      "[CV] C=10, max_iter=400, penalty=l2, solver=saga .....................\n",
      "[CV]  C=10, max_iter=400, penalty=l2, solver=saga, score=0.813, total=   0.3s\n",
      "[CV] C=10, max_iter=400, penalty=l2, solver=saga .....................\n",
      "[CV]  C=10, max_iter=400, penalty=l2, solver=saga, score=0.821, total=   0.3s\n",
      "[CV] C=10, max_iter=500, penalty=l1, solver=newton-cg ................\n",
      "[CV]  C=10, max_iter=500, penalty=l1, solver=newton-cg, score=nan, total=   0.0s\n",
      "[CV] C=10, max_iter=500, penalty=l1, solver=newton-cg ................\n",
      "[CV]  C=10, max_iter=500, penalty=l1, solver=newton-cg, score=nan, total=   0.0s\n",
      "[CV] C=10, max_iter=500, penalty=l1, solver=newton-cg ................\n",
      "[CV]  C=10, max_iter=500, penalty=l1, solver=newton-cg, score=nan, total=   0.0s\n",
      "[CV] C=10, max_iter=500, penalty=l1, solver=newton-cg ................\n",
      "[CV]  C=10, max_iter=500, penalty=l1, solver=newton-cg, score=nan, total=   0.0s\n",
      "[CV] C=10, max_iter=500, penalty=l1, solver=newton-cg ................\n",
      "[CV]  C=10, max_iter=500, penalty=l1, solver=newton-cg, score=nan, total=   0.0s\n",
      "[CV] C=10, max_iter=500, penalty=l1, solver=lbfgs ....................\n",
      "[CV]  C=10, max_iter=500, penalty=l1, solver=lbfgs, score=nan, total=   0.0s\n",
      "[CV] C=10, max_iter=500, penalty=l1, solver=lbfgs ....................\n",
      "[CV]  C=10, max_iter=500, penalty=l1, solver=lbfgs, score=nan, total=   0.0s\n",
      "[CV] C=10, max_iter=500, penalty=l1, solver=lbfgs ....................\n",
      "[CV]  C=10, max_iter=500, penalty=l1, solver=lbfgs, score=nan, total=   0.0s\n",
      "[CV] C=10, max_iter=500, penalty=l1, solver=lbfgs ....................\n",
      "[CV]  C=10, max_iter=500, penalty=l1, solver=lbfgs, score=nan, total=   0.0s\n",
      "[CV] C=10, max_iter=500, penalty=l1, solver=lbfgs ....................\n",
      "[CV]  C=10, max_iter=500, penalty=l1, solver=lbfgs, score=nan, total=   0.0s\n",
      "[CV] C=10, max_iter=500, penalty=l1, solver=liblinear ................\n"
     ]
    },
    {
     "name": "stderr",
     "output_type": "stream",
     "text": [
      "C:\\Users\\hanie\\anaconda3\\lib\\site-packages\\sklearn\\model_selection\\_validation.py:548: FitFailedWarning: Estimator fit failed. The score on this train-test partition for these parameters will be set to nan. Details: \n",
      "Traceback (most recent call last):\n",
      "  File \"C:\\Users\\hanie\\anaconda3\\lib\\site-packages\\sklearn\\model_selection\\_validation.py\", line 531, in _fit_and_score\n",
      "    estimator.fit(X_train, y_train, **fit_params)\n",
      "  File \"C:\\Users\\hanie\\anaconda3\\lib\\site-packages\\sklearn\\linear_model\\_logistic.py\", line 1304, in fit\n",
      "    solver = _check_solver(self.solver, self.penalty, self.dual)\n",
      "  File \"C:\\Users\\hanie\\anaconda3\\lib\\site-packages\\sklearn\\linear_model\\_logistic.py\", line 442, in _check_solver\n",
      "    raise ValueError(\"Solver %s supports only 'l2' or 'none' penalties, \"\n",
      "ValueError: Solver newton-cg supports only 'l2' or 'none' penalties, got l1 penalty.\n",
      "\n",
      "  warnings.warn(\"Estimator fit failed. The score on this train-test\"\n",
      "C:\\Users\\hanie\\anaconda3\\lib\\site-packages\\sklearn\\model_selection\\_validation.py:548: FitFailedWarning: Estimator fit failed. The score on this train-test partition for these parameters will be set to nan. Details: \n",
      "Traceback (most recent call last):\n",
      "  File \"C:\\Users\\hanie\\anaconda3\\lib\\site-packages\\sklearn\\model_selection\\_validation.py\", line 531, in _fit_and_score\n",
      "    estimator.fit(X_train, y_train, **fit_params)\n",
      "  File \"C:\\Users\\hanie\\anaconda3\\lib\\site-packages\\sklearn\\linear_model\\_logistic.py\", line 1304, in fit\n",
      "    solver = _check_solver(self.solver, self.penalty, self.dual)\n",
      "  File \"C:\\Users\\hanie\\anaconda3\\lib\\site-packages\\sklearn\\linear_model\\_logistic.py\", line 442, in _check_solver\n",
      "    raise ValueError(\"Solver %s supports only 'l2' or 'none' penalties, \"\n",
      "ValueError: Solver lbfgs supports only 'l2' or 'none' penalties, got l1 penalty.\n",
      "\n",
      "  warnings.warn(\"Estimator fit failed. The score on this train-test\"\n"
     ]
    },
    {
     "name": "stdout",
     "output_type": "stream",
     "text": [
      "[CV]  C=10, max_iter=500, penalty=l1, solver=liblinear, score=0.846, total=   0.7s\n",
      "[CV] C=10, max_iter=500, penalty=l1, solver=liblinear ................\n",
      "[CV]  C=10, max_iter=500, penalty=l1, solver=liblinear, score=0.840, total=   0.9s\n",
      "[CV] C=10, max_iter=500, penalty=l1, solver=liblinear ................\n",
      "[CV]  C=10, max_iter=500, penalty=l1, solver=liblinear, score=0.861, total=   0.7s\n",
      "[CV] C=10, max_iter=500, penalty=l1, solver=liblinear ................\n",
      "[CV]  C=10, max_iter=500, penalty=l1, solver=liblinear, score=0.831, total=   0.9s\n",
      "[CV] C=10, max_iter=500, penalty=l1, solver=liblinear ................\n",
      "[CV]  C=10, max_iter=500, penalty=l1, solver=liblinear, score=0.823, total=   0.7s\n",
      "[CV] C=10, max_iter=500, penalty=l1, solver=sag ......................\n",
      "[CV]  C=10, max_iter=500, penalty=l1, solver=sag, score=nan, total=   0.0s\n",
      "[CV] C=10, max_iter=500, penalty=l1, solver=sag ......................\n",
      "[CV]  C=10, max_iter=500, penalty=l1, solver=sag, score=nan, total=   0.0s\n",
      "[CV] C=10, max_iter=500, penalty=l1, solver=sag ......................\n",
      "[CV]  C=10, max_iter=500, penalty=l1, solver=sag, score=nan, total=   0.0s\n",
      "[CV] C=10, max_iter=500, penalty=l1, solver=sag ......................\n",
      "[CV]  C=10, max_iter=500, penalty=l1, solver=sag, score=nan, total=   0.0s\n",
      "[CV] C=10, max_iter=500, penalty=l1, solver=sag ......................\n",
      "[CV]  C=10, max_iter=500, penalty=l1, solver=sag, score=nan, total=   0.0s\n",
      "[CV] C=10, max_iter=500, penalty=l1, solver=saga .....................\n"
     ]
    },
    {
     "name": "stderr",
     "output_type": "stream",
     "text": [
      "C:\\Users\\hanie\\anaconda3\\lib\\site-packages\\sklearn\\model_selection\\_validation.py:548: FitFailedWarning: Estimator fit failed. The score on this train-test partition for these parameters will be set to nan. Details: \n",
      "Traceback (most recent call last):\n",
      "  File \"C:\\Users\\hanie\\anaconda3\\lib\\site-packages\\sklearn\\model_selection\\_validation.py\", line 531, in _fit_and_score\n",
      "    estimator.fit(X_train, y_train, **fit_params)\n",
      "  File \"C:\\Users\\hanie\\anaconda3\\lib\\site-packages\\sklearn\\linear_model\\_logistic.py\", line 1304, in fit\n",
      "    solver = _check_solver(self.solver, self.penalty, self.dual)\n",
      "  File \"C:\\Users\\hanie\\anaconda3\\lib\\site-packages\\sklearn\\linear_model\\_logistic.py\", line 442, in _check_solver\n",
      "    raise ValueError(\"Solver %s supports only 'l2' or 'none' penalties, \"\n",
      "ValueError: Solver sag supports only 'l2' or 'none' penalties, got l1 penalty.\n",
      "\n",
      "  warnings.warn(\"Estimator fit failed. The score on this train-test\"\n",
      "C:\\Users\\hanie\\anaconda3\\lib\\site-packages\\sklearn\\linear_model\\_sag.py:329: ConvergenceWarning: The max_iter was reached which means the coef_ did not converge\n",
      "  warnings.warn(\"The max_iter was reached which means \"\n"
     ]
    },
    {
     "name": "stdout",
     "output_type": "stream",
     "text": [
      "[CV]  C=10, max_iter=500, penalty=l1, solver=saga, score=0.845, total=   0.5s\n",
      "[CV] C=10, max_iter=500, penalty=l1, solver=saga .....................\n"
     ]
    },
    {
     "name": "stderr",
     "output_type": "stream",
     "text": [
      "C:\\Users\\hanie\\anaconda3\\lib\\site-packages\\sklearn\\linear_model\\_sag.py:329: ConvergenceWarning: The max_iter was reached which means the coef_ did not converge\n",
      "  warnings.warn(\"The max_iter was reached which means \"\n"
     ]
    },
    {
     "name": "stdout",
     "output_type": "stream",
     "text": [
      "[CV]  C=10, max_iter=500, penalty=l1, solver=saga, score=0.840, total=   0.5s\n",
      "[CV] C=10, max_iter=500, penalty=l1, solver=saga .....................\n"
     ]
    },
    {
     "name": "stderr",
     "output_type": "stream",
     "text": [
      "C:\\Users\\hanie\\anaconda3\\lib\\site-packages\\sklearn\\linear_model\\_sag.py:329: ConvergenceWarning: The max_iter was reached which means the coef_ did not converge\n",
      "  warnings.warn(\"The max_iter was reached which means \"\n"
     ]
    },
    {
     "name": "stdout",
     "output_type": "stream",
     "text": [
      "[CV]  C=10, max_iter=500, penalty=l1, solver=saga, score=0.859, total=   0.4s\n",
      "[CV] C=10, max_iter=500, penalty=l1, solver=saga .....................\n"
     ]
    },
    {
     "name": "stderr",
     "output_type": "stream",
     "text": [
      "C:\\Users\\hanie\\anaconda3\\lib\\site-packages\\sklearn\\linear_model\\_sag.py:329: ConvergenceWarning: The max_iter was reached which means the coef_ did not converge\n",
      "  warnings.warn(\"The max_iter was reached which means \"\n"
     ]
    },
    {
     "name": "stdout",
     "output_type": "stream",
     "text": [
      "[CV]  C=10, max_iter=500, penalty=l1, solver=saga, score=0.828, total=   0.5s\n",
      "[CV] C=10, max_iter=500, penalty=l1, solver=saga .....................\n"
     ]
    },
    {
     "name": "stderr",
     "output_type": "stream",
     "text": [
      "C:\\Users\\hanie\\anaconda3\\lib\\site-packages\\sklearn\\linear_model\\_sag.py:329: ConvergenceWarning: The max_iter was reached which means the coef_ did not converge\n",
      "  warnings.warn(\"The max_iter was reached which means \"\n"
     ]
    },
    {
     "name": "stdout",
     "output_type": "stream",
     "text": [
      "[CV]  C=10, max_iter=500, penalty=l1, solver=saga, score=0.822, total=   0.4s\n",
      "[CV] C=10, max_iter=500, penalty=l2, solver=newton-cg ................\n",
      "[CV]  C=10, max_iter=500, penalty=l2, solver=newton-cg, score=0.837, total=   0.0s\n",
      "[CV] C=10, max_iter=500, penalty=l2, solver=newton-cg ................\n",
      "[CV]  C=10, max_iter=500, penalty=l2, solver=newton-cg, score=0.827, total=   0.0s\n",
      "[CV] C=10, max_iter=500, penalty=l2, solver=newton-cg ................\n",
      "[CV]  C=10, max_iter=500, penalty=l2, solver=newton-cg, score=0.843, total=   0.0s\n",
      "[CV] C=10, max_iter=500, penalty=l2, solver=newton-cg ................\n",
      "[CV]  C=10, max_iter=500, penalty=l2, solver=newton-cg, score=0.813, total=   0.0s\n",
      "[CV] C=10, max_iter=500, penalty=l2, solver=newton-cg ................\n",
      "[CV]  C=10, max_iter=500, penalty=l2, solver=newton-cg, score=0.821, total=   0.1s\n",
      "[CV] C=10, max_iter=500, penalty=l2, solver=lbfgs ....................\n",
      "[CV]  C=10, max_iter=500, penalty=l2, solver=lbfgs, score=0.837, total=   0.0s\n",
      "[CV] C=10, max_iter=500, penalty=l2, solver=lbfgs ....................\n",
      "[CV]  C=10, max_iter=500, penalty=l2, solver=lbfgs, score=0.827, total=   0.1s\n",
      "[CV] C=10, max_iter=500, penalty=l2, solver=lbfgs ....................\n",
      "[CV]  C=10, max_iter=500, penalty=l2, solver=lbfgs, score=0.843, total=   0.0s\n",
      "[CV] C=10, max_iter=500, penalty=l2, solver=lbfgs ....................\n",
      "[CV]  C=10, max_iter=500, penalty=l2, solver=lbfgs, score=0.813, total=   0.1s\n",
      "[CV] C=10, max_iter=500, penalty=l2, solver=lbfgs ....................\n",
      "[CV]  C=10, max_iter=500, penalty=l2, solver=lbfgs, score=0.821, total=   0.1s\n",
      "[CV] C=10, max_iter=500, penalty=l2, solver=liblinear ................\n",
      "[CV]  C=10, max_iter=500, penalty=l2, solver=liblinear, score=0.829, total=   0.0s\n",
      "[CV] C=10, max_iter=500, penalty=l2, solver=liblinear ................\n",
      "[CV]  C=10, max_iter=500, penalty=l2, solver=liblinear, score=0.824, total=   0.0s\n",
      "[CV] C=10, max_iter=500, penalty=l2, solver=liblinear ................\n",
      "[CV]  C=10, max_iter=500, penalty=l2, solver=liblinear, score=0.837, total=   0.0s\n",
      "[CV] C=10, max_iter=500, penalty=l2, solver=liblinear ................\n",
      "[CV]  C=10, max_iter=500, penalty=l2, solver=liblinear, score=0.809, total=   0.0s\n",
      "[CV] C=10, max_iter=500, penalty=l2, solver=liblinear ................\n",
      "[CV]  C=10, max_iter=500, penalty=l2, solver=liblinear, score=0.818, total=   0.0s\n",
      "[CV] C=10, max_iter=500, penalty=l2, solver=sag ......................\n",
      "[CV]  C=10, max_iter=500, penalty=l2, solver=sag, score=0.837, total=   0.1s\n",
      "[CV] C=10, max_iter=500, penalty=l2, solver=sag ......................\n",
      "[CV]  C=10, max_iter=500, penalty=l2, solver=sag, score=0.827, total=   0.1s\n",
      "[CV] C=10, max_iter=500, penalty=l2, solver=sag ......................\n",
      "[CV]  C=10, max_iter=500, penalty=l2, solver=sag, score=0.843, total=   0.1s\n",
      "[CV] C=10, max_iter=500, penalty=l2, solver=sag ......................\n",
      "[CV]  C=10, max_iter=500, penalty=l2, solver=sag, score=0.813, total=   0.1s\n",
      "[CV] C=10, max_iter=500, penalty=l2, solver=sag ......................\n",
      "[CV]  C=10, max_iter=500, penalty=l2, solver=sag, score=0.821, total=   0.1s\n",
      "[CV] C=10, max_iter=500, penalty=l2, solver=saga .....................\n",
      "[CV]  C=10, max_iter=500, penalty=l2, solver=saga, score=0.837, total=   0.2s\n",
      "[CV] C=10, max_iter=500, penalty=l2, solver=saga .....................\n",
      "[CV]  C=10, max_iter=500, penalty=l2, solver=saga, score=0.827, total=   0.2s\n",
      "[CV] C=10, max_iter=500, penalty=l2, solver=saga .....................\n",
      "[CV]  C=10, max_iter=500, penalty=l2, solver=saga, score=0.843, total=   0.2s\n",
      "[CV] C=10, max_iter=500, penalty=l2, solver=saga .....................\n",
      "[CV]  C=10, max_iter=500, penalty=l2, solver=saga, score=0.813, total=   0.3s\n",
      "[CV] C=10, max_iter=500, penalty=l2, solver=saga .....................\n",
      "[CV]  C=10, max_iter=500, penalty=l2, solver=saga, score=0.821, total=   0.2s\n",
      "[CV] C=10, max_iter=600, penalty=l1, solver=newton-cg ................\n",
      "[CV]  C=10, max_iter=600, penalty=l1, solver=newton-cg, score=nan, total=   0.0s\n",
      "[CV] C=10, max_iter=600, penalty=l1, solver=newton-cg ................\n",
      "[CV]  C=10, max_iter=600, penalty=l1, solver=newton-cg, score=nan, total=   0.0s\n",
      "[CV] C=10, max_iter=600, penalty=l1, solver=newton-cg ................\n",
      "[CV]  C=10, max_iter=600, penalty=l1, solver=newton-cg, score=nan, total=   0.0s\n",
      "[CV] C=10, max_iter=600, penalty=l1, solver=newton-cg ................\n",
      "[CV]  C=10, max_iter=600, penalty=l1, solver=newton-cg, score=nan, total=   0.0s\n",
      "[CV] C=10, max_iter=600, penalty=l1, solver=newton-cg ................\n",
      "[CV]  C=10, max_iter=600, penalty=l1, solver=newton-cg, score=nan, total=   0.0s\n",
      "[CV] C=10, max_iter=600, penalty=l1, solver=lbfgs ....................\n",
      "[CV]  C=10, max_iter=600, penalty=l1, solver=lbfgs, score=nan, total=   0.0s\n",
      "[CV] C=10, max_iter=600, penalty=l1, solver=lbfgs ....................\n",
      "[CV]  C=10, max_iter=600, penalty=l1, solver=lbfgs, score=nan, total=   0.0s\n",
      "[CV] C=10, max_iter=600, penalty=l1, solver=lbfgs ....................\n",
      "[CV]  C=10, max_iter=600, penalty=l1, solver=lbfgs, score=nan, total=   0.0s\n",
      "[CV] C=10, max_iter=600, penalty=l1, solver=lbfgs ....................\n",
      "[CV]  C=10, max_iter=600, penalty=l1, solver=lbfgs, score=nan, total=   0.0s\n",
      "[CV] C=10, max_iter=600, penalty=l1, solver=lbfgs ....................\n",
      "[CV]  C=10, max_iter=600, penalty=l1, solver=lbfgs, score=nan, total=   0.0s\n",
      "[CV] C=10, max_iter=600, penalty=l1, solver=liblinear ................\n"
     ]
    },
    {
     "name": "stderr",
     "output_type": "stream",
     "text": [
      "C:\\Users\\hanie\\anaconda3\\lib\\site-packages\\sklearn\\model_selection\\_validation.py:548: FitFailedWarning: Estimator fit failed. The score on this train-test partition for these parameters will be set to nan. Details: \n",
      "Traceback (most recent call last):\n",
      "  File \"C:\\Users\\hanie\\anaconda3\\lib\\site-packages\\sklearn\\model_selection\\_validation.py\", line 531, in _fit_and_score\n",
      "    estimator.fit(X_train, y_train, **fit_params)\n",
      "  File \"C:\\Users\\hanie\\anaconda3\\lib\\site-packages\\sklearn\\linear_model\\_logistic.py\", line 1304, in fit\n",
      "    solver = _check_solver(self.solver, self.penalty, self.dual)\n",
      "  File \"C:\\Users\\hanie\\anaconda3\\lib\\site-packages\\sklearn\\linear_model\\_logistic.py\", line 442, in _check_solver\n",
      "    raise ValueError(\"Solver %s supports only 'l2' or 'none' penalties, \"\n",
      "ValueError: Solver newton-cg supports only 'l2' or 'none' penalties, got l1 penalty.\n",
      "\n",
      "  warnings.warn(\"Estimator fit failed. The score on this train-test\"\n",
      "C:\\Users\\hanie\\anaconda3\\lib\\site-packages\\sklearn\\model_selection\\_validation.py:548: FitFailedWarning: Estimator fit failed. The score on this train-test partition for these parameters will be set to nan. Details: \n",
      "Traceback (most recent call last):\n",
      "  File \"C:\\Users\\hanie\\anaconda3\\lib\\site-packages\\sklearn\\model_selection\\_validation.py\", line 531, in _fit_and_score\n",
      "    estimator.fit(X_train, y_train, **fit_params)\n",
      "  File \"C:\\Users\\hanie\\anaconda3\\lib\\site-packages\\sklearn\\linear_model\\_logistic.py\", line 1304, in fit\n",
      "    solver = _check_solver(self.solver, self.penalty, self.dual)\n",
      "  File \"C:\\Users\\hanie\\anaconda3\\lib\\site-packages\\sklearn\\linear_model\\_logistic.py\", line 442, in _check_solver\n",
      "    raise ValueError(\"Solver %s supports only 'l2' or 'none' penalties, \"\n",
      "ValueError: Solver lbfgs supports only 'l2' or 'none' penalties, got l1 penalty.\n",
      "\n",
      "  warnings.warn(\"Estimator fit failed. The score on this train-test\"\n"
     ]
    },
    {
     "name": "stdout",
     "output_type": "stream",
     "text": [
      "[CV]  C=10, max_iter=600, penalty=l1, solver=liblinear, score=0.846, total=   0.7s\n",
      "[CV] C=10, max_iter=600, penalty=l1, solver=liblinear ................\n",
      "[CV]  C=10, max_iter=600, penalty=l1, solver=liblinear, score=0.840, total=   0.9s\n",
      "[CV] C=10, max_iter=600, penalty=l1, solver=liblinear ................\n",
      "[CV]  C=10, max_iter=600, penalty=l1, solver=liblinear, score=0.861, total=   0.7s\n",
      "[CV] C=10, max_iter=600, penalty=l1, solver=liblinear ................\n",
      "[CV]  C=10, max_iter=600, penalty=l1, solver=liblinear, score=0.831, total=   0.9s\n",
      "[CV] C=10, max_iter=600, penalty=l1, solver=liblinear ................\n",
      "[CV]  C=10, max_iter=600, penalty=l1, solver=liblinear, score=0.823, total=   0.7s\n",
      "[CV] C=10, max_iter=600, penalty=l1, solver=sag ......................\n",
      "[CV]  C=10, max_iter=600, penalty=l1, solver=sag, score=nan, total=   0.0s\n",
      "[CV] C=10, max_iter=600, penalty=l1, solver=sag ......................\n",
      "[CV]  C=10, max_iter=600, penalty=l1, solver=sag, score=nan, total=   0.0s\n",
      "[CV] C=10, max_iter=600, penalty=l1, solver=sag ......................\n",
      "[CV]  C=10, max_iter=600, penalty=l1, solver=sag, score=nan, total=   0.0s\n",
      "[CV] C=10, max_iter=600, penalty=l1, solver=sag ......................\n",
      "[CV]  C=10, max_iter=600, penalty=l1, solver=sag, score=nan, total=   0.0s\n",
      "[CV] C=10, max_iter=600, penalty=l1, solver=sag ......................\n",
      "[CV]  C=10, max_iter=600, penalty=l1, solver=sag, score=nan, total=   0.0s\n",
      "[CV] C=10, max_iter=600, penalty=l1, solver=saga .....................\n"
     ]
    },
    {
     "name": "stderr",
     "output_type": "stream",
     "text": [
      "C:\\Users\\hanie\\anaconda3\\lib\\site-packages\\sklearn\\model_selection\\_validation.py:548: FitFailedWarning: Estimator fit failed. The score on this train-test partition for these parameters will be set to nan. Details: \n",
      "Traceback (most recent call last):\n",
      "  File \"C:\\Users\\hanie\\anaconda3\\lib\\site-packages\\sklearn\\model_selection\\_validation.py\", line 531, in _fit_and_score\n",
      "    estimator.fit(X_train, y_train, **fit_params)\n",
      "  File \"C:\\Users\\hanie\\anaconda3\\lib\\site-packages\\sklearn\\linear_model\\_logistic.py\", line 1304, in fit\n",
      "    solver = _check_solver(self.solver, self.penalty, self.dual)\n",
      "  File \"C:\\Users\\hanie\\anaconda3\\lib\\site-packages\\sklearn\\linear_model\\_logistic.py\", line 442, in _check_solver\n",
      "    raise ValueError(\"Solver %s supports only 'l2' or 'none' penalties, \"\n",
      "ValueError: Solver sag supports only 'l2' or 'none' penalties, got l1 penalty.\n",
      "\n",
      "  warnings.warn(\"Estimator fit failed. The score on this train-test\"\n",
      "C:\\Users\\hanie\\anaconda3\\lib\\site-packages\\sklearn\\linear_model\\_sag.py:329: ConvergenceWarning: The max_iter was reached which means the coef_ did not converge\n",
      "  warnings.warn(\"The max_iter was reached which means \"\n"
     ]
    },
    {
     "name": "stdout",
     "output_type": "stream",
     "text": [
      "[CV]  C=10, max_iter=600, penalty=l1, solver=saga, score=0.845, total=   0.5s\n",
      "[CV] C=10, max_iter=600, penalty=l1, solver=saga .....................\n"
     ]
    },
    {
     "name": "stderr",
     "output_type": "stream",
     "text": [
      "C:\\Users\\hanie\\anaconda3\\lib\\site-packages\\sklearn\\linear_model\\_sag.py:329: ConvergenceWarning: The max_iter was reached which means the coef_ did not converge\n",
      "  warnings.warn(\"The max_iter was reached which means \"\n"
     ]
    },
    {
     "name": "stdout",
     "output_type": "stream",
     "text": [
      "[CV]  C=10, max_iter=600, penalty=l1, solver=saga, score=0.839, total=   0.5s\n",
      "[CV] C=10, max_iter=600, penalty=l1, solver=saga .....................\n"
     ]
    },
    {
     "name": "stderr",
     "output_type": "stream",
     "text": [
      "C:\\Users\\hanie\\anaconda3\\lib\\site-packages\\sklearn\\linear_model\\_sag.py:329: ConvergenceWarning: The max_iter was reached which means the coef_ did not converge\n",
      "  warnings.warn(\"The max_iter was reached which means \"\n"
     ]
    },
    {
     "name": "stdout",
     "output_type": "stream",
     "text": [
      "[CV]  C=10, max_iter=600, penalty=l1, solver=saga, score=0.859, total=   0.5s\n",
      "[CV] C=10, max_iter=600, penalty=l1, solver=saga .....................\n"
     ]
    },
    {
     "name": "stderr",
     "output_type": "stream",
     "text": [
      "C:\\Users\\hanie\\anaconda3\\lib\\site-packages\\sklearn\\linear_model\\_sag.py:329: ConvergenceWarning: The max_iter was reached which means the coef_ did not converge\n",
      "  warnings.warn(\"The max_iter was reached which means \"\n"
     ]
    },
    {
     "name": "stdout",
     "output_type": "stream",
     "text": [
      "[CV]  C=10, max_iter=600, penalty=l1, solver=saga, score=0.830, total=   0.5s\n",
      "[CV] C=10, max_iter=600, penalty=l1, solver=saga .....................\n"
     ]
    },
    {
     "name": "stderr",
     "output_type": "stream",
     "text": [
      "C:\\Users\\hanie\\anaconda3\\lib\\site-packages\\sklearn\\linear_model\\_sag.py:329: ConvergenceWarning: The max_iter was reached which means the coef_ did not converge\n",
      "  warnings.warn(\"The max_iter was reached which means \"\n"
     ]
    },
    {
     "name": "stdout",
     "output_type": "stream",
     "text": [
      "[CV]  C=10, max_iter=600, penalty=l1, solver=saga, score=0.821, total=   0.6s\n",
      "[CV] C=10, max_iter=600, penalty=l2, solver=newton-cg ................\n",
      "[CV]  C=10, max_iter=600, penalty=l2, solver=newton-cg, score=0.837, total=   0.0s\n",
      "[CV] C=10, max_iter=600, penalty=l2, solver=newton-cg ................\n",
      "[CV]  C=10, max_iter=600, penalty=l2, solver=newton-cg, score=0.827, total=   0.1s\n",
      "[CV] C=10, max_iter=600, penalty=l2, solver=newton-cg ................\n",
      "[CV]  C=10, max_iter=600, penalty=l2, solver=newton-cg, score=0.843, total=   0.0s\n",
      "[CV] C=10, max_iter=600, penalty=l2, solver=newton-cg ................\n",
      "[CV]  C=10, max_iter=600, penalty=l2, solver=newton-cg, score=0.813, total=   0.0s\n",
      "[CV] C=10, max_iter=600, penalty=l2, solver=newton-cg ................\n",
      "[CV]  C=10, max_iter=600, penalty=l2, solver=newton-cg, score=0.821, total=   0.1s\n",
      "[CV] C=10, max_iter=600, penalty=l2, solver=lbfgs ....................\n",
      "[CV]  C=10, max_iter=600, penalty=l2, solver=lbfgs, score=0.837, total=   0.0s\n",
      "[CV] C=10, max_iter=600, penalty=l2, solver=lbfgs ....................\n",
      "[CV]  C=10, max_iter=600, penalty=l2, solver=lbfgs, score=0.827, total=   0.1s\n",
      "[CV] C=10, max_iter=600, penalty=l2, solver=lbfgs ....................\n",
      "[CV]  C=10, max_iter=600, penalty=l2, solver=lbfgs, score=0.843, total=   0.0s\n",
      "[CV] C=10, max_iter=600, penalty=l2, solver=lbfgs ....................\n",
      "[CV]  C=10, max_iter=600, penalty=l2, solver=lbfgs, score=0.813, total=   0.1s\n",
      "[CV] C=10, max_iter=600, penalty=l2, solver=lbfgs ....................\n",
      "[CV]  C=10, max_iter=600, penalty=l2, solver=lbfgs, score=0.821, total=   0.0s\n",
      "[CV] C=10, max_iter=600, penalty=l2, solver=liblinear ................\n",
      "[CV]  C=10, max_iter=600, penalty=l2, solver=liblinear, score=0.829, total=   0.0s\n",
      "[CV] C=10, max_iter=600, penalty=l2, solver=liblinear ................\n",
      "[CV]  C=10, max_iter=600, penalty=l2, solver=liblinear, score=0.824, total=   0.0s\n",
      "[CV] C=10, max_iter=600, penalty=l2, solver=liblinear ................\n",
      "[CV]  C=10, max_iter=600, penalty=l2, solver=liblinear, score=0.837, total=   0.0s\n",
      "[CV] C=10, max_iter=600, penalty=l2, solver=liblinear ................\n",
      "[CV]  C=10, max_iter=600, penalty=l2, solver=liblinear, score=0.809, total=   0.0s\n",
      "[CV] C=10, max_iter=600, penalty=l2, solver=liblinear ................\n",
      "[CV]  C=10, max_iter=600, penalty=l2, solver=liblinear, score=0.818, total=   0.0s\n",
      "[CV] C=10, max_iter=600, penalty=l2, solver=sag ......................\n",
      "[CV]  C=10, max_iter=600, penalty=l2, solver=sag, score=0.837, total=   0.1s\n",
      "[CV] C=10, max_iter=600, penalty=l2, solver=sag ......................\n",
      "[CV]  C=10, max_iter=600, penalty=l2, solver=sag, score=0.827, total=   0.1s\n",
      "[CV] C=10, max_iter=600, penalty=l2, solver=sag ......................\n",
      "[CV]  C=10, max_iter=600, penalty=l2, solver=sag, score=0.843, total=   0.1s\n",
      "[CV] C=10, max_iter=600, penalty=l2, solver=sag ......................\n",
      "[CV]  C=10, max_iter=600, penalty=l2, solver=sag, score=0.813, total=   0.1s\n",
      "[CV] C=10, max_iter=600, penalty=l2, solver=sag ......................\n",
      "[CV]  C=10, max_iter=600, penalty=l2, solver=sag, score=0.821, total=   0.1s\n",
      "[CV] C=10, max_iter=600, penalty=l2, solver=saga .....................\n",
      "[CV]  C=10, max_iter=600, penalty=l2, solver=saga, score=0.837, total=   0.3s\n",
      "[CV] C=10, max_iter=600, penalty=l2, solver=saga .....................\n",
      "[CV]  C=10, max_iter=600, penalty=l2, solver=saga, score=0.827, total=   0.2s\n",
      "[CV] C=10, max_iter=600, penalty=l2, solver=saga .....................\n",
      "[CV]  C=10, max_iter=600, penalty=l2, solver=saga, score=0.843, total=   0.2s\n",
      "[CV] C=10, max_iter=600, penalty=l2, solver=saga .....................\n",
      "[CV]  C=10, max_iter=600, penalty=l2, solver=saga, score=0.813, total=   0.2s\n",
      "[CV] C=10, max_iter=600, penalty=l2, solver=saga .....................\n",
      "[CV]  C=10, max_iter=600, penalty=l2, solver=saga, score=0.821, total=   0.2s\n",
      "[CV] C=10, max_iter=700, penalty=l1, solver=newton-cg ................\n"
     ]
    },
    {
     "name": "stderr",
     "output_type": "stream",
     "text": [
      "C:\\Users\\hanie\\anaconda3\\lib\\site-packages\\sklearn\\model_selection\\_validation.py:548: FitFailedWarning: Estimator fit failed. The score on this train-test partition for these parameters will be set to nan. Details: \n",
      "Traceback (most recent call last):\n",
      "  File \"C:\\Users\\hanie\\anaconda3\\lib\\site-packages\\sklearn\\model_selection\\_validation.py\", line 531, in _fit_and_score\n",
      "    estimator.fit(X_train, y_train, **fit_params)\n",
      "  File \"C:\\Users\\hanie\\anaconda3\\lib\\site-packages\\sklearn\\linear_model\\_logistic.py\", line 1304, in fit\n",
      "    solver = _check_solver(self.solver, self.penalty, self.dual)\n",
      "  File \"C:\\Users\\hanie\\anaconda3\\lib\\site-packages\\sklearn\\linear_model\\_logistic.py\", line 442, in _check_solver\n",
      "    raise ValueError(\"Solver %s supports only 'l2' or 'none' penalties, \"\n",
      "ValueError: Solver newton-cg supports only 'l2' or 'none' penalties, got l1 penalty.\n",
      "\n",
      "  warnings.warn(\"Estimator fit failed. The score on this train-test\"\n",
      "C:\\Users\\hanie\\anaconda3\\lib\\site-packages\\sklearn\\model_selection\\_validation.py:548: FitFailedWarning: Estimator fit failed. The score on this train-test partition for these parameters will be set to nan. Details: \n",
      "Traceback (most recent call last):\n",
      "  File \"C:\\Users\\hanie\\anaconda3\\lib\\site-packages\\sklearn\\model_selection\\_validation.py\", line 531, in _fit_and_score\n",
      "    estimator.fit(X_train, y_train, **fit_params)\n",
      "  File \"C:\\Users\\hanie\\anaconda3\\lib\\site-packages\\sklearn\\linear_model\\_logistic.py\", line 1304, in fit\n",
      "    solver = _check_solver(self.solver, self.penalty, self.dual)\n",
      "  File \"C:\\Users\\hanie\\anaconda3\\lib\\site-packages\\sklearn\\linear_model\\_logistic.py\", line 442, in _check_solver\n",
      "    raise ValueError(\"Solver %s supports only 'l2' or 'none' penalties, \"\n",
      "ValueError: Solver lbfgs supports only 'l2' or 'none' penalties, got l1 penalty.\n",
      "\n",
      "  warnings.warn(\"Estimator fit failed. The score on this train-test\"\n"
     ]
    },
    {
     "name": "stdout",
     "output_type": "stream",
     "text": [
      "[CV]  C=10, max_iter=700, penalty=l1, solver=newton-cg, score=nan, total=   0.0s\n",
      "[CV] C=10, max_iter=700, penalty=l1, solver=newton-cg ................\n",
      "[CV]  C=10, max_iter=700, penalty=l1, solver=newton-cg, score=nan, total=   0.0s\n",
      "[CV] C=10, max_iter=700, penalty=l1, solver=newton-cg ................\n",
      "[CV]  C=10, max_iter=700, penalty=l1, solver=newton-cg, score=nan, total=   0.0s\n",
      "[CV] C=10, max_iter=700, penalty=l1, solver=newton-cg ................\n",
      "[CV]  C=10, max_iter=700, penalty=l1, solver=newton-cg, score=nan, total=   0.0s\n",
      "[CV] C=10, max_iter=700, penalty=l1, solver=newton-cg ................\n",
      "[CV]  C=10, max_iter=700, penalty=l1, solver=newton-cg, score=nan, total=   0.0s\n",
      "[CV] C=10, max_iter=700, penalty=l1, solver=lbfgs ....................\n",
      "[CV]  C=10, max_iter=700, penalty=l1, solver=lbfgs, score=nan, total=   0.0s\n",
      "[CV] C=10, max_iter=700, penalty=l1, solver=lbfgs ....................\n",
      "[CV]  C=10, max_iter=700, penalty=l1, solver=lbfgs, score=nan, total=   0.0s\n",
      "[CV] C=10, max_iter=700, penalty=l1, solver=lbfgs ....................\n",
      "[CV]  C=10, max_iter=700, penalty=l1, solver=lbfgs, score=nan, total=   0.0s\n",
      "[CV] C=10, max_iter=700, penalty=l1, solver=lbfgs ....................\n",
      "[CV]  C=10, max_iter=700, penalty=l1, solver=lbfgs, score=nan, total=   0.0s\n",
      "[CV] C=10, max_iter=700, penalty=l1, solver=lbfgs ....................\n",
      "[CV]  C=10, max_iter=700, penalty=l1, solver=lbfgs, score=nan, total=   0.0s\n",
      "[CV] C=10, max_iter=700, penalty=l1, solver=liblinear ................\n",
      "[CV]  C=10, max_iter=700, penalty=l1, solver=liblinear, score=0.846, total=   0.7s\n",
      "[CV] C=10, max_iter=700, penalty=l1, solver=liblinear ................\n",
      "[CV]  C=10, max_iter=700, penalty=l1, solver=liblinear, score=0.840, total=   0.9s\n",
      "[CV] C=10, max_iter=700, penalty=l1, solver=liblinear ................\n",
      "[CV]  C=10, max_iter=700, penalty=l1, solver=liblinear, score=0.861, total=   0.7s\n",
      "[CV] C=10, max_iter=700, penalty=l1, solver=liblinear ................\n",
      "[CV]  C=10, max_iter=700, penalty=l1, solver=liblinear, score=0.831, total=   0.8s\n",
      "[CV] C=10, max_iter=700, penalty=l1, solver=liblinear ................\n",
      "[CV]  C=10, max_iter=700, penalty=l1, solver=liblinear, score=0.823, total=   0.7s\n",
      "[CV] C=10, max_iter=700, penalty=l1, solver=sag ......................\n",
      "[CV]  C=10, max_iter=700, penalty=l1, solver=sag, score=nan, total=   0.0s\n",
      "[CV] C=10, max_iter=700, penalty=l1, solver=sag ......................\n",
      "[CV]  C=10, max_iter=700, penalty=l1, solver=sag, score=nan, total=   0.0s\n",
      "[CV] C=10, max_iter=700, penalty=l1, solver=sag ......................\n",
      "[CV]  C=10, max_iter=700, penalty=l1, solver=sag, score=nan, total=   0.0s\n",
      "[CV] C=10, max_iter=700, penalty=l1, solver=sag ......................\n",
      "[CV]  C=10, max_iter=700, penalty=l1, solver=sag, score=nan, total=   0.0s\n",
      "[CV] C=10, max_iter=700, penalty=l1, solver=sag ......................\n",
      "[CV]  C=10, max_iter=700, penalty=l1, solver=sag, score=nan, total=   0.0s\n",
      "[CV] C=10, max_iter=700, penalty=l1, solver=saga .....................\n"
     ]
    },
    {
     "name": "stderr",
     "output_type": "stream",
     "text": [
      "C:\\Users\\hanie\\anaconda3\\lib\\site-packages\\sklearn\\model_selection\\_validation.py:548: FitFailedWarning: Estimator fit failed. The score on this train-test partition for these parameters will be set to nan. Details: \n",
      "Traceback (most recent call last):\n",
      "  File \"C:\\Users\\hanie\\anaconda3\\lib\\site-packages\\sklearn\\model_selection\\_validation.py\", line 531, in _fit_and_score\n",
      "    estimator.fit(X_train, y_train, **fit_params)\n",
      "  File \"C:\\Users\\hanie\\anaconda3\\lib\\site-packages\\sklearn\\linear_model\\_logistic.py\", line 1304, in fit\n",
      "    solver = _check_solver(self.solver, self.penalty, self.dual)\n",
      "  File \"C:\\Users\\hanie\\anaconda3\\lib\\site-packages\\sklearn\\linear_model\\_logistic.py\", line 442, in _check_solver\n",
      "    raise ValueError(\"Solver %s supports only 'l2' or 'none' penalties, \"\n",
      "ValueError: Solver sag supports only 'l2' or 'none' penalties, got l1 penalty.\n",
      "\n",
      "  warnings.warn(\"Estimator fit failed. The score on this train-test\"\n",
      "C:\\Users\\hanie\\anaconda3\\lib\\site-packages\\sklearn\\linear_model\\_sag.py:329: ConvergenceWarning: The max_iter was reached which means the coef_ did not converge\n",
      "  warnings.warn(\"The max_iter was reached which means \"\n"
     ]
    },
    {
     "name": "stdout",
     "output_type": "stream",
     "text": [
      "[CV]  C=10, max_iter=700, penalty=l1, solver=saga, score=0.845, total=   0.6s\n",
      "[CV] C=10, max_iter=700, penalty=l1, solver=saga .....................\n",
      "[CV]  C=10, max_iter=700, penalty=l1, solver=saga, score=0.839, total=   0.6s\n",
      "[CV] C=10, max_iter=700, penalty=l1, solver=saga .....................\n"
     ]
    },
    {
     "name": "stderr",
     "output_type": "stream",
     "text": [
      "C:\\Users\\hanie\\anaconda3\\lib\\site-packages\\sklearn\\linear_model\\_sag.py:329: ConvergenceWarning: The max_iter was reached which means the coef_ did not converge\n",
      "  warnings.warn(\"The max_iter was reached which means \"\n"
     ]
    },
    {
     "name": "stdout",
     "output_type": "stream",
     "text": [
      "[CV]  C=10, max_iter=700, penalty=l1, solver=saga, score=0.859, total=   0.7s\n",
      "[CV] C=10, max_iter=700, penalty=l1, solver=saga .....................\n"
     ]
    },
    {
     "name": "stderr",
     "output_type": "stream",
     "text": [
      "C:\\Users\\hanie\\anaconda3\\lib\\site-packages\\sklearn\\linear_model\\_sag.py:329: ConvergenceWarning: The max_iter was reached which means the coef_ did not converge\n",
      "  warnings.warn(\"The max_iter was reached which means \"\n"
     ]
    },
    {
     "name": "stdout",
     "output_type": "stream",
     "text": [
      "[CV]  C=10, max_iter=700, penalty=l1, solver=saga, score=0.831, total=   0.6s\n",
      "[CV] C=10, max_iter=700, penalty=l1, solver=saga .....................\n"
     ]
    },
    {
     "name": "stderr",
     "output_type": "stream",
     "text": [
      "C:\\Users\\hanie\\anaconda3\\lib\\site-packages\\sklearn\\linear_model\\_sag.py:329: ConvergenceWarning: The max_iter was reached which means the coef_ did not converge\n",
      "  warnings.warn(\"The max_iter was reached which means \"\n"
     ]
    },
    {
     "name": "stdout",
     "output_type": "stream",
     "text": [
      "[CV]  C=10, max_iter=700, penalty=l1, solver=saga, score=0.821, total=   0.6s\n",
      "[CV] C=10, max_iter=700, penalty=l2, solver=newton-cg ................\n",
      "[CV]  C=10, max_iter=700, penalty=l2, solver=newton-cg, score=0.837, total=   0.0s\n",
      "[CV] C=10, max_iter=700, penalty=l2, solver=newton-cg ................\n",
      "[CV]  C=10, max_iter=700, penalty=l2, solver=newton-cg, score=0.827, total=   0.0s\n",
      "[CV] C=10, max_iter=700, penalty=l2, solver=newton-cg ................\n",
      "[CV]  C=10, max_iter=700, penalty=l2, solver=newton-cg, score=0.843, total=   0.0s\n",
      "[CV] C=10, max_iter=700, penalty=l2, solver=newton-cg ................\n",
      "[CV]  C=10, max_iter=700, penalty=l2, solver=newton-cg, score=0.813, total=   0.0s\n",
      "[CV] C=10, max_iter=700, penalty=l2, solver=newton-cg ................\n",
      "[CV]  C=10, max_iter=700, penalty=l2, solver=newton-cg, score=0.821, total=   0.1s\n",
      "[CV] C=10, max_iter=700, penalty=l2, solver=lbfgs ....................\n",
      "[CV]  C=10, max_iter=700, penalty=l2, solver=lbfgs, score=0.837, total=   0.0s\n",
      "[CV] C=10, max_iter=700, penalty=l2, solver=lbfgs ....................\n",
      "[CV]  C=10, max_iter=700, penalty=l2, solver=lbfgs, score=0.827, total=   0.1s\n",
      "[CV] C=10, max_iter=700, penalty=l2, solver=lbfgs ....................\n",
      "[CV]  C=10, max_iter=700, penalty=l2, solver=lbfgs, score=0.843, total=   0.0s\n",
      "[CV] C=10, max_iter=700, penalty=l2, solver=lbfgs ....................\n",
      "[CV]  C=10, max_iter=700, penalty=l2, solver=lbfgs, score=0.813, total=   0.1s\n",
      "[CV] C=10, max_iter=700, penalty=l2, solver=lbfgs ....................\n",
      "[CV]  C=10, max_iter=700, penalty=l2, solver=lbfgs, score=0.821, total=   0.0s\n",
      "[CV] C=10, max_iter=700, penalty=l2, solver=liblinear ................\n",
      "[CV]  C=10, max_iter=700, penalty=l2, solver=liblinear, score=0.829, total=   0.0s\n",
      "[CV] C=10, max_iter=700, penalty=l2, solver=liblinear ................\n",
      "[CV]  C=10, max_iter=700, penalty=l2, solver=liblinear, score=0.824, total=   0.0s\n",
      "[CV] C=10, max_iter=700, penalty=l2, solver=liblinear ................\n",
      "[CV]  C=10, max_iter=700, penalty=l2, solver=liblinear, score=0.837, total=   0.0s\n",
      "[CV] C=10, max_iter=700, penalty=l2, solver=liblinear ................\n",
      "[CV]  C=10, max_iter=700, penalty=l2, solver=liblinear, score=0.809, total=   0.0s\n",
      "[CV] C=10, max_iter=700, penalty=l2, solver=liblinear ................\n",
      "[CV]  C=10, max_iter=700, penalty=l2, solver=liblinear, score=0.818, total=   0.0s\n",
      "[CV] C=10, max_iter=700, penalty=l2, solver=sag ......................\n",
      "[CV]  C=10, max_iter=700, penalty=l2, solver=sag, score=0.837, total=   0.2s\n",
      "[CV] C=10, max_iter=700, penalty=l2, solver=sag ......................\n",
      "[CV]  C=10, max_iter=700, penalty=l2, solver=sag, score=0.827, total=   0.1s\n",
      "[CV] C=10, max_iter=700, penalty=l2, solver=sag ......................\n",
      "[CV]  C=10, max_iter=700, penalty=l2, solver=sag, score=0.843, total=   0.1s\n",
      "[CV] C=10, max_iter=700, penalty=l2, solver=sag ......................\n",
      "[CV]  C=10, max_iter=700, penalty=l2, solver=sag, score=0.813, total=   0.1s\n",
      "[CV] C=10, max_iter=700, penalty=l2, solver=sag ......................\n",
      "[CV]  C=10, max_iter=700, penalty=l2, solver=sag, score=0.821, total=   0.1s\n",
      "[CV] C=10, max_iter=700, penalty=l2, solver=saga .....................\n",
      "[CV]  C=10, max_iter=700, penalty=l2, solver=saga, score=0.837, total=   0.2s\n",
      "[CV] C=10, max_iter=700, penalty=l2, solver=saga .....................\n",
      "[CV]  C=10, max_iter=700, penalty=l2, solver=saga, score=0.827, total=   0.2s\n",
      "[CV] C=10, max_iter=700, penalty=l2, solver=saga .....................\n",
      "[CV]  C=10, max_iter=700, penalty=l2, solver=saga, score=0.843, total=   0.2s\n",
      "[CV] C=10, max_iter=700, penalty=l2, solver=saga .....................\n",
      "[CV]  C=10, max_iter=700, penalty=l2, solver=saga, score=0.813, total=   0.2s\n",
      "[CV] C=10, max_iter=700, penalty=l2, solver=saga .....................\n",
      "[CV]  C=10, max_iter=700, penalty=l2, solver=saga, score=0.821, total=   0.2s\n",
      "[CV] C=100, max_iter=100, penalty=l1, solver=newton-cg ...............\n",
      "[CV]  C=100, max_iter=100, penalty=l1, solver=newton-cg, score=nan, total=   0.0s\n",
      "[CV] C=100, max_iter=100, penalty=l1, solver=newton-cg ...............\n",
      "[CV]  C=100, max_iter=100, penalty=l1, solver=newton-cg, score=nan, total=   0.0s\n",
      "[CV] C=100, max_iter=100, penalty=l1, solver=newton-cg ...............\n",
      "[CV]  C=100, max_iter=100, penalty=l1, solver=newton-cg, score=nan, total=   0.0s\n",
      "[CV] C=100, max_iter=100, penalty=l1, solver=newton-cg ...............\n",
      "[CV]  C=100, max_iter=100, penalty=l1, solver=newton-cg, score=nan, total=   0.0s\n",
      "[CV] C=100, max_iter=100, penalty=l1, solver=newton-cg ...............\n",
      "[CV]  C=100, max_iter=100, penalty=l1, solver=newton-cg, score=nan, total=   0.0s\n",
      "[CV] C=100, max_iter=100, penalty=l1, solver=lbfgs ...................\n",
      "[CV]  C=100, max_iter=100, penalty=l1, solver=lbfgs, score=nan, total=   0.0s\n",
      "[CV] C=100, max_iter=100, penalty=l1, solver=lbfgs ...................\n",
      "[CV]  C=100, max_iter=100, penalty=l1, solver=lbfgs, score=nan, total=   0.0s\n",
      "[CV] C=100, max_iter=100, penalty=l1, solver=lbfgs ...................\n",
      "[CV]  C=100, max_iter=100, penalty=l1, solver=lbfgs, score=nan, total=   0.0s\n",
      "[CV] C=100, max_iter=100, penalty=l1, solver=lbfgs ...................\n",
      "[CV]  C=100, max_iter=100, penalty=l1, solver=lbfgs, score=nan, total=   0.0s\n",
      "[CV] C=100, max_iter=100, penalty=l1, solver=lbfgs ...................\n",
      "[CV]  C=100, max_iter=100, penalty=l1, solver=lbfgs, score=nan, total=   0.0s\n",
      "[CV] C=100, max_iter=100, penalty=l1, solver=liblinear ...............\n",
      "[CV]  C=100, max_iter=100, penalty=l1, solver=liblinear, score=0.856, total=   0.1s\n",
      "[CV] C=100, max_iter=100, penalty=l1, solver=liblinear ...............\n"
     ]
    },
    {
     "name": "stderr",
     "output_type": "stream",
     "text": [
      "C:\\Users\\hanie\\anaconda3\\lib\\site-packages\\sklearn\\model_selection\\_validation.py:548: FitFailedWarning: Estimator fit failed. The score on this train-test partition for these parameters will be set to nan. Details: \n",
      "Traceback (most recent call last):\n",
      "  File \"C:\\Users\\hanie\\anaconda3\\lib\\site-packages\\sklearn\\model_selection\\_validation.py\", line 531, in _fit_and_score\n",
      "    estimator.fit(X_train, y_train, **fit_params)\n",
      "  File \"C:\\Users\\hanie\\anaconda3\\lib\\site-packages\\sklearn\\linear_model\\_logistic.py\", line 1304, in fit\n",
      "    solver = _check_solver(self.solver, self.penalty, self.dual)\n",
      "  File \"C:\\Users\\hanie\\anaconda3\\lib\\site-packages\\sklearn\\linear_model\\_logistic.py\", line 442, in _check_solver\n",
      "    raise ValueError(\"Solver %s supports only 'l2' or 'none' penalties, \"\n",
      "ValueError: Solver newton-cg supports only 'l2' or 'none' penalties, got l1 penalty.\n",
      "\n",
      "  warnings.warn(\"Estimator fit failed. The score on this train-test\"\n",
      "C:\\Users\\hanie\\anaconda3\\lib\\site-packages\\sklearn\\model_selection\\_validation.py:548: FitFailedWarning: Estimator fit failed. The score on this train-test partition for these parameters will be set to nan. Details: \n",
      "Traceback (most recent call last):\n",
      "  File \"C:\\Users\\hanie\\anaconda3\\lib\\site-packages\\sklearn\\model_selection\\_validation.py\", line 531, in _fit_and_score\n",
      "    estimator.fit(X_train, y_train, **fit_params)\n",
      "  File \"C:\\Users\\hanie\\anaconda3\\lib\\site-packages\\sklearn\\linear_model\\_logistic.py\", line 1304, in fit\n",
      "    solver = _check_solver(self.solver, self.penalty, self.dual)\n",
      "  File \"C:\\Users\\hanie\\anaconda3\\lib\\site-packages\\sklearn\\linear_model\\_logistic.py\", line 442, in _check_solver\n",
      "    raise ValueError(\"Solver %s supports only 'l2' or 'none' penalties, \"\n",
      "ValueError: Solver lbfgs supports only 'l2' or 'none' penalties, got l1 penalty.\n",
      "\n",
      "  warnings.warn(\"Estimator fit failed. The score on this train-test\"\n"
     ]
    },
    {
     "name": "stdout",
     "output_type": "stream",
     "text": [
      "[CV]  C=100, max_iter=100, penalty=l1, solver=liblinear, score=0.854, total=   0.5s\n",
      "[CV] C=100, max_iter=100, penalty=l1, solver=liblinear ...............\n",
      "[CV]  C=100, max_iter=100, penalty=l1, solver=liblinear, score=0.867, total=   0.1s\n",
      "[CV] C=100, max_iter=100, penalty=l1, solver=liblinear ...............\n",
      "[CV]  C=100, max_iter=100, penalty=l1, solver=liblinear, score=0.840, total=   0.5s\n",
      "[CV] C=100, max_iter=100, penalty=l1, solver=liblinear ...............\n",
      "[CV]  C=100, max_iter=100, penalty=l1, solver=liblinear, score=0.837, total=   0.2s\n",
      "[CV] C=100, max_iter=100, penalty=l1, solver=sag .....................\n",
      "[CV]  C=100, max_iter=100, penalty=l1, solver=sag, score=nan, total=   0.0s\n",
      "[CV] C=100, max_iter=100, penalty=l1, solver=sag .....................\n",
      "[CV]  C=100, max_iter=100, penalty=l1, solver=sag, score=nan, total=   0.0s\n",
      "[CV] C=100, max_iter=100, penalty=l1, solver=sag .....................\n",
      "[CV]  C=100, max_iter=100, penalty=l1, solver=sag, score=nan, total=   0.0s\n",
      "[CV] C=100, max_iter=100, penalty=l1, solver=sag .....................\n",
      "[CV]  C=100, max_iter=100, penalty=l1, solver=sag, score=nan, total=   0.0s\n",
      "[CV] C=100, max_iter=100, penalty=l1, solver=sag .....................\n",
      "[CV]  C=100, max_iter=100, penalty=l1, solver=sag, score=nan, total=   0.0s\n",
      "[CV] C=100, max_iter=100, penalty=l1, solver=saga ....................\n",
      "[CV]  C=100, max_iter=100, penalty=l1, solver=saga, score=0.846, total=   0.1s\n",
      "[CV] C=100, max_iter=100, penalty=l1, solver=saga ....................\n"
     ]
    },
    {
     "name": "stderr",
     "output_type": "stream",
     "text": [
      "C:\\Users\\hanie\\anaconda3\\lib\\site-packages\\sklearn\\model_selection\\_validation.py:548: FitFailedWarning: Estimator fit failed. The score on this train-test partition for these parameters will be set to nan. Details: \n",
      "Traceback (most recent call last):\n",
      "  File \"C:\\Users\\hanie\\anaconda3\\lib\\site-packages\\sklearn\\model_selection\\_validation.py\", line 531, in _fit_and_score\n",
      "    estimator.fit(X_train, y_train, **fit_params)\n",
      "  File \"C:\\Users\\hanie\\anaconda3\\lib\\site-packages\\sklearn\\linear_model\\_logistic.py\", line 1304, in fit\n",
      "    solver = _check_solver(self.solver, self.penalty, self.dual)\n",
      "  File \"C:\\Users\\hanie\\anaconda3\\lib\\site-packages\\sklearn\\linear_model\\_logistic.py\", line 442, in _check_solver\n",
      "    raise ValueError(\"Solver %s supports only 'l2' or 'none' penalties, \"\n",
      "ValueError: Solver sag supports only 'l2' or 'none' penalties, got l1 penalty.\n",
      "\n",
      "  warnings.warn(\"Estimator fit failed. The score on this train-test\"\n",
      "C:\\Users\\hanie\\anaconda3\\lib\\site-packages\\sklearn\\linear_model\\_sag.py:329: ConvergenceWarning: The max_iter was reached which means the coef_ did not converge\n",
      "  warnings.warn(\"The max_iter was reached which means \"\n",
      "C:\\Users\\hanie\\anaconda3\\lib\\site-packages\\sklearn\\linear_model\\_sag.py:329: ConvergenceWarning: The max_iter was reached which means the coef_ did not converge\n",
      "  warnings.warn(\"The max_iter was reached which means \"\n"
     ]
    },
    {
     "name": "stdout",
     "output_type": "stream",
     "text": [
      "[CV]  C=100, max_iter=100, penalty=l1, solver=saga, score=0.841, total=   0.1s\n",
      "[CV] C=100, max_iter=100, penalty=l1, solver=saga ....................\n",
      "[CV]  C=100, max_iter=100, penalty=l1, solver=saga, score=0.859, total=   0.1s\n",
      "[CV] C=100, max_iter=100, penalty=l1, solver=saga ....................\n",
      "[CV]  C=100, max_iter=100, penalty=l1, solver=saga, score=0.824, total=   0.1s\n",
      "[CV] C=100, max_iter=100, penalty=l1, solver=saga ....................\n"
     ]
    },
    {
     "name": "stderr",
     "output_type": "stream",
     "text": [
      "C:\\Users\\hanie\\anaconda3\\lib\\site-packages\\sklearn\\linear_model\\_sag.py:329: ConvergenceWarning: The max_iter was reached which means the coef_ did not converge\n",
      "  warnings.warn(\"The max_iter was reached which means \"\n",
      "C:\\Users\\hanie\\anaconda3\\lib\\site-packages\\sklearn\\linear_model\\_sag.py:329: ConvergenceWarning: The max_iter was reached which means the coef_ did not converge\n",
      "  warnings.warn(\"The max_iter was reached which means \"\n",
      "C:\\Users\\hanie\\anaconda3\\lib\\site-packages\\sklearn\\linear_model\\_sag.py:329: ConvergenceWarning: The max_iter was reached which means the coef_ did not converge\n",
      "  warnings.warn(\"The max_iter was reached which means \"\n"
     ]
    },
    {
     "name": "stdout",
     "output_type": "stream",
     "text": [
      "[CV]  C=100, max_iter=100, penalty=l1, solver=saga, score=0.817, total=   0.1s\n",
      "[CV] C=100, max_iter=100, penalty=l2, solver=newton-cg ...............\n",
      "[CV]  C=100, max_iter=100, penalty=l2, solver=newton-cg, score=0.845, total=   0.1s\n",
      "[CV] C=100, max_iter=100, penalty=l2, solver=newton-cg ...............\n",
      "[CV]  C=100, max_iter=100, penalty=l2, solver=newton-cg, score=0.840, total=   0.1s\n",
      "[CV] C=100, max_iter=100, penalty=l2, solver=newton-cg ...............\n",
      "[CV]  C=100, max_iter=100, penalty=l2, solver=newton-cg, score=0.858, total=   0.1s\n",
      "[CV] C=100, max_iter=100, penalty=l2, solver=newton-cg ...............\n",
      "[CV]  C=100, max_iter=100, penalty=l2, solver=newton-cg, score=0.826, total=   0.1s\n",
      "[CV] C=100, max_iter=100, penalty=l2, solver=newton-cg ...............\n",
      "[CV]  C=100, max_iter=100, penalty=l2, solver=newton-cg, score=0.821, total=   0.1s\n",
      "[CV] C=100, max_iter=100, penalty=l2, solver=lbfgs ...................\n",
      "[CV]  C=100, max_iter=100, penalty=l2, solver=lbfgs, score=0.845, total=   0.1s\n",
      "[CV] C=100, max_iter=100, penalty=l2, solver=lbfgs ...................\n"
     ]
    },
    {
     "name": "stderr",
     "output_type": "stream",
     "text": [
      "C:\\Users\\hanie\\anaconda3\\lib\\site-packages\\sklearn\\linear_model\\_logistic.py:762: ConvergenceWarning: lbfgs failed to converge (status=1):\n",
      "STOP: TOTAL NO. of ITERATIONS REACHED LIMIT.\n",
      "\n",
      "Increase the number of iterations (max_iter) or scale the data as shown in:\n",
      "    https://scikit-learn.org/stable/modules/preprocessing.html\n",
      "Please also refer to the documentation for alternative solver options:\n",
      "    https://scikit-learn.org/stable/modules/linear_model.html#logistic-regression\n",
      "  n_iter_i = _check_optimize_result(\n",
      "C:\\Users\\hanie\\anaconda3\\lib\\site-packages\\sklearn\\linear_model\\_logistic.py:762: ConvergenceWarning: lbfgs failed to converge (status=1):\n",
      "STOP: TOTAL NO. of ITERATIONS REACHED LIMIT.\n",
      "\n",
      "Increase the number of iterations (max_iter) or scale the data as shown in:\n",
      "    https://scikit-learn.org/stable/modules/preprocessing.html\n",
      "Please also refer to the documentation for alternative solver options:\n",
      "    https://scikit-learn.org/stable/modules/linear_model.html#logistic-regression\n",
      "  n_iter_i = _check_optimize_result(\n",
      "C:\\Users\\hanie\\anaconda3\\lib\\site-packages\\sklearn\\linear_model\\_logistic.py:762: ConvergenceWarning: lbfgs failed to converge (status=1):\n",
      "STOP: TOTAL NO. of ITERATIONS REACHED LIMIT.\n",
      "\n",
      "Increase the number of iterations (max_iter) or scale the data as shown in:\n",
      "    https://scikit-learn.org/stable/modules/preprocessing.html\n",
      "Please also refer to the documentation for alternative solver options:\n",
      "    https://scikit-learn.org/stable/modules/linear_model.html#logistic-regression\n",
      "  n_iter_i = _check_optimize_result(\n"
     ]
    },
    {
     "name": "stdout",
     "output_type": "stream",
     "text": [
      "[CV]  C=100, max_iter=100, penalty=l2, solver=lbfgs, score=0.839, total=   0.1s\n",
      "[CV] C=100, max_iter=100, penalty=l2, solver=lbfgs ...................\n",
      "[CV]  C=100, max_iter=100, penalty=l2, solver=lbfgs, score=0.858, total=   0.1s\n",
      "[CV] C=100, max_iter=100, penalty=l2, solver=lbfgs ...................\n",
      "[CV]  C=100, max_iter=100, penalty=l2, solver=lbfgs, score=0.826, total=   0.1s\n",
      "[CV] C=100, max_iter=100, penalty=l2, solver=lbfgs ...................\n"
     ]
    },
    {
     "name": "stderr",
     "output_type": "stream",
     "text": [
      "C:\\Users\\hanie\\anaconda3\\lib\\site-packages\\sklearn\\linear_model\\_logistic.py:762: ConvergenceWarning: lbfgs failed to converge (status=1):\n",
      "STOP: TOTAL NO. of ITERATIONS REACHED LIMIT.\n",
      "\n",
      "Increase the number of iterations (max_iter) or scale the data as shown in:\n",
      "    https://scikit-learn.org/stable/modules/preprocessing.html\n",
      "Please also refer to the documentation for alternative solver options:\n",
      "    https://scikit-learn.org/stable/modules/linear_model.html#logistic-regression\n",
      "  n_iter_i = _check_optimize_result(\n",
      "C:\\Users\\hanie\\anaconda3\\lib\\site-packages\\sklearn\\linear_model\\_logistic.py:762: ConvergenceWarning: lbfgs failed to converge (status=1):\n",
      "STOP: TOTAL NO. of ITERATIONS REACHED LIMIT.\n",
      "\n",
      "Increase the number of iterations (max_iter) or scale the data as shown in:\n",
      "    https://scikit-learn.org/stable/modules/preprocessing.html\n",
      "Please also refer to the documentation for alternative solver options:\n",
      "    https://scikit-learn.org/stable/modules/linear_model.html#logistic-regression\n",
      "  n_iter_i = _check_optimize_result(\n"
     ]
    },
    {
     "name": "stdout",
     "output_type": "stream",
     "text": [
      "[CV]  C=100, max_iter=100, penalty=l2, solver=lbfgs, score=0.821, total=   0.1s\n",
      "[CV] C=100, max_iter=100, penalty=l2, solver=liblinear ...............\n",
      "[CV]  C=100, max_iter=100, penalty=l2, solver=liblinear, score=0.847, total=   0.0s\n",
      "[CV] C=100, max_iter=100, penalty=l2, solver=liblinear ...............\n",
      "[CV]  C=100, max_iter=100, penalty=l2, solver=liblinear, score=0.840, total=   0.0s\n",
      "[CV] C=100, max_iter=100, penalty=l2, solver=liblinear ...............\n",
      "[CV]  C=100, max_iter=100, penalty=l2, solver=liblinear, score=0.859, total=   0.0s\n",
      "[CV] C=100, max_iter=100, penalty=l2, solver=liblinear ...............\n",
      "[CV]  C=100, max_iter=100, penalty=l2, solver=liblinear, score=0.826, total=   0.0s\n",
      "[CV] C=100, max_iter=100, penalty=l2, solver=liblinear ...............\n",
      "[CV]  C=100, max_iter=100, penalty=l2, solver=liblinear, score=0.821, total=   0.0s\n",
      "[CV] C=100, max_iter=100, penalty=l2, solver=sag .....................\n"
     ]
    },
    {
     "name": "stderr",
     "output_type": "stream",
     "text": [
      "C:\\Users\\hanie\\anaconda3\\lib\\site-packages\\sklearn\\linear_model\\_sag.py:329: ConvergenceWarning: The max_iter was reached which means the coef_ did not converge\n",
      "  warnings.warn(\"The max_iter was reached which means \"\n",
      "C:\\Users\\hanie\\anaconda3\\lib\\site-packages\\sklearn\\linear_model\\_sag.py:329: ConvergenceWarning: The max_iter was reached which means the coef_ did not converge\n",
      "  warnings.warn(\"The max_iter was reached which means \"\n",
      "C:\\Users\\hanie\\anaconda3\\lib\\site-packages\\sklearn\\linear_model\\_sag.py:329: ConvergenceWarning: The max_iter was reached which means the coef_ did not converge\n",
      "  warnings.warn(\"The max_iter was reached which means \"\n"
     ]
    },
    {
     "name": "stdout",
     "output_type": "stream",
     "text": [
      "[CV]  C=100, max_iter=100, penalty=l2, solver=sag, score=0.846, total=   0.1s\n",
      "[CV] C=100, max_iter=100, penalty=l2, solver=sag .....................\n",
      "[CV]  C=100, max_iter=100, penalty=l2, solver=sag, score=0.840, total=   0.1s\n",
      "[CV] C=100, max_iter=100, penalty=l2, solver=sag .....................\n",
      "[CV]  C=100, max_iter=100, penalty=l2, solver=sag, score=0.859, total=   0.1s\n",
      "[CV] C=100, max_iter=100, penalty=l2, solver=sag .....................\n"
     ]
    },
    {
     "name": "stderr",
     "output_type": "stream",
     "text": [
      "C:\\Users\\hanie\\anaconda3\\lib\\site-packages\\sklearn\\linear_model\\_sag.py:329: ConvergenceWarning: The max_iter was reached which means the coef_ did not converge\n",
      "  warnings.warn(\"The max_iter was reached which means \"\n",
      "C:\\Users\\hanie\\anaconda3\\lib\\site-packages\\sklearn\\linear_model\\_sag.py:329: ConvergenceWarning: The max_iter was reached which means the coef_ did not converge\n",
      "  warnings.warn(\"The max_iter was reached which means \"\n",
      "C:\\Users\\hanie\\anaconda3\\lib\\site-packages\\sklearn\\linear_model\\_sag.py:329: ConvergenceWarning: The max_iter was reached which means the coef_ did not converge\n",
      "  warnings.warn(\"The max_iter was reached which means \"\n"
     ]
    },
    {
     "name": "stdout",
     "output_type": "stream",
     "text": [
      "[CV]  C=100, max_iter=100, penalty=l2, solver=sag, score=0.825, total=   0.1s\n",
      "[CV] C=100, max_iter=100, penalty=l2, solver=sag .....................\n",
      "[CV]  C=100, max_iter=100, penalty=l2, solver=sag, score=0.820, total=   0.1s\n",
      "[CV] C=100, max_iter=100, penalty=l2, solver=saga ....................\n",
      "[CV]  C=100, max_iter=100, penalty=l2, solver=saga, score=0.843, total=   0.1s\n",
      "[CV] C=100, max_iter=100, penalty=l2, solver=saga ....................\n"
     ]
    },
    {
     "name": "stderr",
     "output_type": "stream",
     "text": [
      "C:\\Users\\hanie\\anaconda3\\lib\\site-packages\\sklearn\\linear_model\\_sag.py:329: ConvergenceWarning: The max_iter was reached which means the coef_ did not converge\n",
      "  warnings.warn(\"The max_iter was reached which means \"\n",
      "C:\\Users\\hanie\\anaconda3\\lib\\site-packages\\sklearn\\linear_model\\_sag.py:329: ConvergenceWarning: The max_iter was reached which means the coef_ did not converge\n",
      "  warnings.warn(\"The max_iter was reached which means \"\n",
      "C:\\Users\\hanie\\anaconda3\\lib\\site-packages\\sklearn\\linear_model\\_sag.py:329: ConvergenceWarning: The max_iter was reached which means the coef_ did not converge\n",
      "  warnings.warn(\"The max_iter was reached which means \"\n"
     ]
    },
    {
     "name": "stdout",
     "output_type": "stream",
     "text": [
      "[CV]  C=100, max_iter=100, penalty=l2, solver=saga, score=0.840, total=   0.1s\n",
      "[CV] C=100, max_iter=100, penalty=l2, solver=saga ....................\n",
      "[CV]  C=100, max_iter=100, penalty=l2, solver=saga, score=0.860, total=   0.1s\n",
      "[CV] C=100, max_iter=100, penalty=l2, solver=saga ....................\n",
      "[CV]  C=100, max_iter=100, penalty=l2, solver=saga, score=0.823, total=   0.1s\n",
      "[CV] C=100, max_iter=100, penalty=l2, solver=saga ....................\n"
     ]
    },
    {
     "name": "stderr",
     "output_type": "stream",
     "text": [
      "C:\\Users\\hanie\\anaconda3\\lib\\site-packages\\sklearn\\linear_model\\_sag.py:329: ConvergenceWarning: The max_iter was reached which means the coef_ did not converge\n",
      "  warnings.warn(\"The max_iter was reached which means \"\n",
      "C:\\Users\\hanie\\anaconda3\\lib\\site-packages\\sklearn\\model_selection\\_validation.py:548: FitFailedWarning: Estimator fit failed. The score on this train-test partition for these parameters will be set to nan. Details: \n",
      "Traceback (most recent call last):\n",
      "  File \"C:\\Users\\hanie\\anaconda3\\lib\\site-packages\\sklearn\\model_selection\\_validation.py\", line 531, in _fit_and_score\n",
      "    estimator.fit(X_train, y_train, **fit_params)\n",
      "  File \"C:\\Users\\hanie\\anaconda3\\lib\\site-packages\\sklearn\\linear_model\\_logistic.py\", line 1304, in fit\n",
      "    solver = _check_solver(self.solver, self.penalty, self.dual)\n",
      "  File \"C:\\Users\\hanie\\anaconda3\\lib\\site-packages\\sklearn\\linear_model\\_logistic.py\", line 442, in _check_solver\n",
      "    raise ValueError(\"Solver %s supports only 'l2' or 'none' penalties, \"\n",
      "ValueError: Solver newton-cg supports only 'l2' or 'none' penalties, got l1 penalty.\n",
      "\n",
      "  warnings.warn(\"Estimator fit failed. The score on this train-test\"\n",
      "C:\\Users\\hanie\\anaconda3\\lib\\site-packages\\sklearn\\model_selection\\_validation.py:548: FitFailedWarning: Estimator fit failed. The score on this train-test partition for these parameters will be set to nan. Details: \n",
      "Traceback (most recent call last):\n",
      "  File \"C:\\Users\\hanie\\anaconda3\\lib\\site-packages\\sklearn\\model_selection\\_validation.py\", line 531, in _fit_and_score\n",
      "    estimator.fit(X_train, y_train, **fit_params)\n",
      "  File \"C:\\Users\\hanie\\anaconda3\\lib\\site-packages\\sklearn\\linear_model\\_logistic.py\", line 1304, in fit\n",
      "    solver = _check_solver(self.solver, self.penalty, self.dual)\n",
      "  File \"C:\\Users\\hanie\\anaconda3\\lib\\site-packages\\sklearn\\linear_model\\_logistic.py\", line 442, in _check_solver\n",
      "    raise ValueError(\"Solver %s supports only 'l2' or 'none' penalties, \"\n",
      "ValueError: Solver lbfgs supports only 'l2' or 'none' penalties, got l1 penalty.\n",
      "\n",
      "  warnings.warn(\"Estimator fit failed. The score on this train-test\"\n"
     ]
    },
    {
     "name": "stdout",
     "output_type": "stream",
     "text": [
      "[CV]  C=100, max_iter=100, penalty=l2, solver=saga, score=0.814, total=   0.1s\n",
      "[CV] C=100, max_iter=200, penalty=l1, solver=newton-cg ...............\n",
      "[CV]  C=100, max_iter=200, penalty=l1, solver=newton-cg, score=nan, total=   0.0s\n",
      "[CV] C=100, max_iter=200, penalty=l1, solver=newton-cg ...............\n",
      "[CV]  C=100, max_iter=200, penalty=l1, solver=newton-cg, score=nan, total=   0.0s\n",
      "[CV] C=100, max_iter=200, penalty=l1, solver=newton-cg ...............\n",
      "[CV]  C=100, max_iter=200, penalty=l1, solver=newton-cg, score=nan, total=   0.0s\n",
      "[CV] C=100, max_iter=200, penalty=l1, solver=newton-cg ...............\n",
      "[CV]  C=100, max_iter=200, penalty=l1, solver=newton-cg, score=nan, total=   0.0s\n",
      "[CV] C=100, max_iter=200, penalty=l1, solver=newton-cg ...............\n",
      "[CV]  C=100, max_iter=200, penalty=l1, solver=newton-cg, score=nan, total=   0.0s\n",
      "[CV] C=100, max_iter=200, penalty=l1, solver=lbfgs ...................\n",
      "[CV]  C=100, max_iter=200, penalty=l1, solver=lbfgs, score=nan, total=   0.0s\n",
      "[CV] C=100, max_iter=200, penalty=l1, solver=lbfgs ...................\n",
      "[CV]  C=100, max_iter=200, penalty=l1, solver=lbfgs, score=nan, total=   0.0s\n",
      "[CV] C=100, max_iter=200, penalty=l1, solver=lbfgs ...................\n",
      "[CV]  C=100, max_iter=200, penalty=l1, solver=lbfgs, score=nan, total=   0.0s\n",
      "[CV] C=100, max_iter=200, penalty=l1, solver=lbfgs ...................\n",
      "[CV]  C=100, max_iter=200, penalty=l1, solver=lbfgs, score=nan, total=   0.0s\n",
      "[CV] C=100, max_iter=200, penalty=l1, solver=lbfgs ...................\n",
      "[CV]  C=100, max_iter=200, penalty=l1, solver=lbfgs, score=nan, total=   0.0s\n",
      "[CV] C=100, max_iter=200, penalty=l1, solver=liblinear ...............\n",
      "[CV]  C=100, max_iter=200, penalty=l1, solver=liblinear, score=0.859, total=   0.1s\n",
      "[CV] C=100, max_iter=200, penalty=l1, solver=liblinear ...............\n",
      "[CV]  C=100, max_iter=200, penalty=l1, solver=liblinear, score=0.854, total=   0.4s\n",
      "[CV] C=100, max_iter=200, penalty=l1, solver=liblinear ...............\n",
      "[CV]  C=100, max_iter=200, penalty=l1, solver=liblinear, score=0.867, total=   0.1s\n",
      "[CV] C=100, max_iter=200, penalty=l1, solver=liblinear ...............\n",
      "[CV]  C=100, max_iter=200, penalty=l1, solver=liblinear, score=0.840, total=   0.4s\n",
      "[CV] C=100, max_iter=200, penalty=l1, solver=liblinear ...............\n",
      "[CV]  C=100, max_iter=200, penalty=l1, solver=liblinear, score=0.836, total=   0.1s\n",
      "[CV] C=100, max_iter=200, penalty=l1, solver=sag .....................\n",
      "[CV]  C=100, max_iter=200, penalty=l1, solver=sag, score=nan, total=   0.0s\n",
      "[CV] C=100, max_iter=200, penalty=l1, solver=sag .....................\n",
      "[CV]  C=100, max_iter=200, penalty=l1, solver=sag, score=nan, total=   0.0s\n",
      "[CV] C=100, max_iter=200, penalty=l1, solver=sag .....................\n",
      "[CV]  C=100, max_iter=200, penalty=l1, solver=sag, score=nan, total=   0.0s\n",
      "[CV] C=100, max_iter=200, penalty=l1, solver=sag .....................\n",
      "[CV]  C=100, max_iter=200, penalty=l1, solver=sag, score=nan, total=   0.0s\n",
      "[CV] C=100, max_iter=200, penalty=l1, solver=sag .....................\n",
      "[CV]  C=100, max_iter=200, penalty=l1, solver=sag, score=nan, total=   0.0s\n",
      "[CV] C=100, max_iter=200, penalty=l1, solver=saga ....................\n"
     ]
    },
    {
     "name": "stderr",
     "output_type": "stream",
     "text": [
      "C:\\Users\\hanie\\anaconda3\\lib\\site-packages\\sklearn\\model_selection\\_validation.py:548: FitFailedWarning: Estimator fit failed. The score on this train-test partition for these parameters will be set to nan. Details: \n",
      "Traceback (most recent call last):\n",
      "  File \"C:\\Users\\hanie\\anaconda3\\lib\\site-packages\\sklearn\\model_selection\\_validation.py\", line 531, in _fit_and_score\n",
      "    estimator.fit(X_train, y_train, **fit_params)\n",
      "  File \"C:\\Users\\hanie\\anaconda3\\lib\\site-packages\\sklearn\\linear_model\\_logistic.py\", line 1304, in fit\n",
      "    solver = _check_solver(self.solver, self.penalty, self.dual)\n",
      "  File \"C:\\Users\\hanie\\anaconda3\\lib\\site-packages\\sklearn\\linear_model\\_logistic.py\", line 442, in _check_solver\n",
      "    raise ValueError(\"Solver %s supports only 'l2' or 'none' penalties, \"\n",
      "ValueError: Solver sag supports only 'l2' or 'none' penalties, got l1 penalty.\n",
      "\n",
      "  warnings.warn(\"Estimator fit failed. The score on this train-test\"\n",
      "C:\\Users\\hanie\\anaconda3\\lib\\site-packages\\sklearn\\linear_model\\_sag.py:329: ConvergenceWarning: The max_iter was reached which means the coef_ did not converge\n",
      "  warnings.warn(\"The max_iter was reached which means \"\n"
     ]
    },
    {
     "name": "stdout",
     "output_type": "stream",
     "text": [
      "[CV]  C=100, max_iter=200, penalty=l1, solver=saga, score=0.843, total=   0.2s\n",
      "[CV] C=100, max_iter=200, penalty=l1, solver=saga ....................\n",
      "[CV]  C=100, max_iter=200, penalty=l1, solver=saga, score=0.838, total=   0.2s\n",
      "[CV] C=100, max_iter=200, penalty=l1, solver=saga ....................\n"
     ]
    },
    {
     "name": "stderr",
     "output_type": "stream",
     "text": [
      "C:\\Users\\hanie\\anaconda3\\lib\\site-packages\\sklearn\\linear_model\\_sag.py:329: ConvergenceWarning: The max_iter was reached which means the coef_ did not converge\n",
      "  warnings.warn(\"The max_iter was reached which means \"\n",
      "C:\\Users\\hanie\\anaconda3\\lib\\site-packages\\sklearn\\linear_model\\_sag.py:329: ConvergenceWarning: The max_iter was reached which means the coef_ did not converge\n",
      "  warnings.warn(\"The max_iter was reached which means \"\n"
     ]
    },
    {
     "name": "stdout",
     "output_type": "stream",
     "text": [
      "[CV]  C=100, max_iter=200, penalty=l1, solver=saga, score=0.860, total=   0.2s\n",
      "[CV] C=100, max_iter=200, penalty=l1, solver=saga ....................\n"
     ]
    },
    {
     "name": "stderr",
     "output_type": "stream",
     "text": [
      "C:\\Users\\hanie\\anaconda3\\lib\\site-packages\\sklearn\\linear_model\\_sag.py:329: ConvergenceWarning: The max_iter was reached which means the coef_ did not converge\n",
      "  warnings.warn(\"The max_iter was reached which means \"\n",
      "C:\\Users\\hanie\\anaconda3\\lib\\site-packages\\sklearn\\linear_model\\_sag.py:329: ConvergenceWarning: The max_iter was reached which means the coef_ did not converge\n",
      "  warnings.warn(\"The max_iter was reached which means \"\n"
     ]
    },
    {
     "name": "stdout",
     "output_type": "stream",
     "text": [
      "[CV]  C=100, max_iter=200, penalty=l1, solver=saga, score=0.829, total=   0.2s\n",
      "[CV] C=100, max_iter=200, penalty=l1, solver=saga ....................\n",
      "[CV]  C=100, max_iter=200, penalty=l1, solver=saga, score=0.821, total=   0.2s\n",
      "[CV] C=100, max_iter=200, penalty=l2, solver=newton-cg ...............\n",
      "[CV]  C=100, max_iter=200, penalty=l2, solver=newton-cg, score=0.845, total=   0.1s\n",
      "[CV] C=100, max_iter=200, penalty=l2, solver=newton-cg ...............\n",
      "[CV]  C=100, max_iter=200, penalty=l2, solver=newton-cg, score=0.840, total=   0.1s\n",
      "[CV] C=100, max_iter=200, penalty=l2, solver=newton-cg ...............\n",
      "[CV]  C=100, max_iter=200, penalty=l2, solver=newton-cg, score=0.858, total=   0.1s\n",
      "[CV] C=100, max_iter=200, penalty=l2, solver=newton-cg ...............\n",
      "[CV]  C=100, max_iter=200, penalty=l2, solver=newton-cg, score=0.826, total=   0.1s\n",
      "[CV] C=100, max_iter=200, penalty=l2, solver=newton-cg ...............\n",
      "[CV]  C=100, max_iter=200, penalty=l2, solver=newton-cg, score=0.821, total=   0.1s\n",
      "[CV] C=100, max_iter=200, penalty=l2, solver=lbfgs ...................\n",
      "[CV]  C=100, max_iter=200, penalty=l2, solver=lbfgs, score=0.845, total=   0.1s\n",
      "[CV] C=100, max_iter=200, penalty=l2, solver=lbfgs ...................\n",
      "[CV]  C=100, max_iter=200, penalty=l2, solver=lbfgs, score=0.840, total=   0.1s\n",
      "[CV] C=100, max_iter=200, penalty=l2, solver=lbfgs ...................\n",
      "[CV]  C=100, max_iter=200, penalty=l2, solver=lbfgs, score=0.858, total=   0.1s\n",
      "[CV] C=100, max_iter=200, penalty=l2, solver=lbfgs ...................\n",
      "[CV]  C=100, max_iter=200, penalty=l2, solver=lbfgs, score=0.826, total=   0.1s\n",
      "[CV] C=100, max_iter=200, penalty=l2, solver=lbfgs ...................\n",
      "[CV]  C=100, max_iter=200, penalty=l2, solver=lbfgs, score=0.821, total=   0.1s\n",
      "[CV] C=100, max_iter=200, penalty=l2, solver=liblinear ...............\n",
      "[CV]  C=100, max_iter=200, penalty=l2, solver=liblinear, score=0.847, total=   0.0s\n",
      "[CV] C=100, max_iter=200, penalty=l2, solver=liblinear ...............\n",
      "[CV]  C=100, max_iter=200, penalty=l2, solver=liblinear, score=0.840, total=   0.0s\n",
      "[CV] C=100, max_iter=200, penalty=l2, solver=liblinear ...............\n",
      "[CV]  C=100, max_iter=200, penalty=l2, solver=liblinear, score=0.859, total=   0.0s\n",
      "[CV] C=100, max_iter=200, penalty=l2, solver=liblinear ...............\n",
      "[CV]  C=100, max_iter=200, penalty=l2, solver=liblinear, score=0.826, total=   0.0s\n",
      "[CV] C=100, max_iter=200, penalty=l2, solver=liblinear ...............\n",
      "[CV]  C=100, max_iter=200, penalty=l2, solver=liblinear, score=0.821, total=   0.0s\n",
      "[CV] C=100, max_iter=200, penalty=l2, solver=sag .....................\n"
     ]
    },
    {
     "name": "stderr",
     "output_type": "stream",
     "text": [
      "C:\\Users\\hanie\\anaconda3\\lib\\site-packages\\sklearn\\linear_model\\_sag.py:329: ConvergenceWarning: The max_iter was reached which means the coef_ did not converge\n",
      "  warnings.warn(\"The max_iter was reached which means \"\n",
      "C:\\Users\\hanie\\anaconda3\\lib\\site-packages\\sklearn\\linear_model\\_sag.py:329: ConvergenceWarning: The max_iter was reached which means the coef_ did not converge\n",
      "  warnings.warn(\"The max_iter was reached which means \"\n"
     ]
    },
    {
     "name": "stdout",
     "output_type": "stream",
     "text": [
      "[CV]  C=100, max_iter=200, penalty=l2, solver=sag, score=0.846, total=   0.2s\n",
      "[CV] C=100, max_iter=200, penalty=l2, solver=sag .....................\n",
      "[CV]  C=100, max_iter=200, penalty=l2, solver=sag, score=0.841, total=   0.2s\n",
      "[CV] C=100, max_iter=200, penalty=l2, solver=sag .....................\n"
     ]
    },
    {
     "name": "stderr",
     "output_type": "stream",
     "text": [
      "C:\\Users\\hanie\\anaconda3\\lib\\site-packages\\sklearn\\linear_model\\_sag.py:329: ConvergenceWarning: The max_iter was reached which means the coef_ did not converge\n",
      "  warnings.warn(\"The max_iter was reached which means \"\n",
      "C:\\Users\\hanie\\anaconda3\\lib\\site-packages\\sklearn\\linear_model\\_sag.py:329: ConvergenceWarning: The max_iter was reached which means the coef_ did not converge\n",
      "  warnings.warn(\"The max_iter was reached which means \"\n"
     ]
    },
    {
     "name": "stdout",
     "output_type": "stream",
     "text": [
      "[CV]  C=100, max_iter=200, penalty=l2, solver=sag, score=0.859, total=   0.1s\n",
      "[CV] C=100, max_iter=200, penalty=l2, solver=sag .....................\n",
      "[CV]  C=100, max_iter=200, penalty=l2, solver=sag, score=0.824, total=   0.1s\n",
      "[CV] C=100, max_iter=200, penalty=l2, solver=sag .....................\n"
     ]
    },
    {
     "name": "stderr",
     "output_type": "stream",
     "text": [
      "C:\\Users\\hanie\\anaconda3\\lib\\site-packages\\sklearn\\linear_model\\_sag.py:329: ConvergenceWarning: The max_iter was reached which means the coef_ did not converge\n",
      "  warnings.warn(\"The max_iter was reached which means \"\n",
      "C:\\Users\\hanie\\anaconda3\\lib\\site-packages\\sklearn\\linear_model\\_sag.py:329: ConvergenceWarning: The max_iter was reached which means the coef_ did not converge\n",
      "  warnings.warn(\"The max_iter was reached which means \"\n"
     ]
    },
    {
     "name": "stdout",
     "output_type": "stream",
     "text": [
      "[CV]  C=100, max_iter=200, penalty=l2, solver=sag, score=0.822, total=   0.1s\n",
      "[CV] C=100, max_iter=200, penalty=l2, solver=saga ....................\n",
      "[CV]  C=100, max_iter=200, penalty=l2, solver=saga, score=0.846, total=   0.1s\n",
      "[CV] C=100, max_iter=200, penalty=l2, solver=saga ....................\n"
     ]
    },
    {
     "name": "stderr",
     "output_type": "stream",
     "text": [
      "C:\\Users\\hanie\\anaconda3\\lib\\site-packages\\sklearn\\linear_model\\_sag.py:329: ConvergenceWarning: The max_iter was reached which means the coef_ did not converge\n",
      "  warnings.warn(\"The max_iter was reached which means \"\n",
      "C:\\Users\\hanie\\anaconda3\\lib\\site-packages\\sklearn\\linear_model\\_sag.py:329: ConvergenceWarning: The max_iter was reached which means the coef_ did not converge\n",
      "  warnings.warn(\"The max_iter was reached which means \"\n"
     ]
    },
    {
     "name": "stdout",
     "output_type": "stream",
     "text": [
      "[CV]  C=100, max_iter=200, penalty=l2, solver=saga, score=0.840, total=   0.1s\n",
      "[CV] C=100, max_iter=200, penalty=l2, solver=saga ....................\n",
      "[CV]  C=100, max_iter=200, penalty=l2, solver=saga, score=0.859, total=   0.1s\n",
      "[CV] C=100, max_iter=200, penalty=l2, solver=saga ....................\n"
     ]
    },
    {
     "name": "stderr",
     "output_type": "stream",
     "text": [
      "C:\\Users\\hanie\\anaconda3\\lib\\site-packages\\sklearn\\linear_model\\_sag.py:329: ConvergenceWarning: The max_iter was reached which means the coef_ did not converge\n",
      "  warnings.warn(\"The max_iter was reached which means \"\n",
      "C:\\Users\\hanie\\anaconda3\\lib\\site-packages\\sklearn\\linear_model\\_sag.py:329: ConvergenceWarning: The max_iter was reached which means the coef_ did not converge\n",
      "  warnings.warn(\"The max_iter was reached which means \"\n",
      "C:\\Users\\hanie\\anaconda3\\lib\\site-packages\\sklearn\\model_selection\\_validation.py:548: FitFailedWarning: Estimator fit failed. The score on this train-test partition for these parameters will be set to nan. Details: \n",
      "Traceback (most recent call last):\n",
      "  File \"C:\\Users\\hanie\\anaconda3\\lib\\site-packages\\sklearn\\model_selection\\_validation.py\", line 531, in _fit_and_score\n",
      "    estimator.fit(X_train, y_train, **fit_params)\n",
      "  File \"C:\\Users\\hanie\\anaconda3\\lib\\site-packages\\sklearn\\linear_model\\_logistic.py\", line 1304, in fit\n",
      "    solver = _check_solver(self.solver, self.penalty, self.dual)\n",
      "  File \"C:\\Users\\hanie\\anaconda3\\lib\\site-packages\\sklearn\\linear_model\\_logistic.py\", line 442, in _check_solver\n",
      "    raise ValueError(\"Solver %s supports only 'l2' or 'none' penalties, \"\n",
      "ValueError: Solver newton-cg supports only 'l2' or 'none' penalties, got l1 penalty.\n",
      "\n",
      "  warnings.warn(\"Estimator fit failed. The score on this train-test\"\n",
      "C:\\Users\\hanie\\anaconda3\\lib\\site-packages\\sklearn\\model_selection\\_validation.py:548: FitFailedWarning: Estimator fit failed. The score on this train-test partition for these parameters will be set to nan. Details: \n",
      "Traceback (most recent call last):\n",
      "  File \"C:\\Users\\hanie\\anaconda3\\lib\\site-packages\\sklearn\\model_selection\\_validation.py\", line 531, in _fit_and_score\n",
      "    estimator.fit(X_train, y_train, **fit_params)\n",
      "  File \"C:\\Users\\hanie\\anaconda3\\lib\\site-packages\\sklearn\\linear_model\\_logistic.py\", line 1304, in fit\n",
      "    solver = _check_solver(self.solver, self.penalty, self.dual)\n",
      "  File \"C:\\Users\\hanie\\anaconda3\\lib\\site-packages\\sklearn\\linear_model\\_logistic.py\", line 442, in _check_solver\n",
      "    raise ValueError(\"Solver %s supports only 'l2' or 'none' penalties, \"\n",
      "ValueError: Solver lbfgs supports only 'l2' or 'none' penalties, got l1 penalty.\n",
      "\n",
      "  warnings.warn(\"Estimator fit failed. The score on this train-test\"\n"
     ]
    },
    {
     "name": "stdout",
     "output_type": "stream",
     "text": [
      "[CV]  C=100, max_iter=200, penalty=l2, solver=saga, score=0.824, total=   0.1s\n",
      "[CV] C=100, max_iter=200, penalty=l2, solver=saga ....................\n",
      "[CV]  C=100, max_iter=200, penalty=l2, solver=saga, score=0.820, total=   0.1s\n",
      "[CV] C=100, max_iter=300, penalty=l1, solver=newton-cg ...............\n",
      "[CV]  C=100, max_iter=300, penalty=l1, solver=newton-cg, score=nan, total=   0.0s\n",
      "[CV] C=100, max_iter=300, penalty=l1, solver=newton-cg ...............\n",
      "[CV]  C=100, max_iter=300, penalty=l1, solver=newton-cg, score=nan, total=   0.0s\n",
      "[CV] C=100, max_iter=300, penalty=l1, solver=newton-cg ...............\n",
      "[CV]  C=100, max_iter=300, penalty=l1, solver=newton-cg, score=nan, total=   0.0s\n",
      "[CV] C=100, max_iter=300, penalty=l1, solver=newton-cg ...............\n",
      "[CV]  C=100, max_iter=300, penalty=l1, solver=newton-cg, score=nan, total=   0.0s\n",
      "[CV] C=100, max_iter=300, penalty=l1, solver=newton-cg ...............\n",
      "[CV]  C=100, max_iter=300, penalty=l1, solver=newton-cg, score=nan, total=   0.0s\n",
      "[CV] C=100, max_iter=300, penalty=l1, solver=lbfgs ...................\n",
      "[CV]  C=100, max_iter=300, penalty=l1, solver=lbfgs, score=nan, total=   0.0s\n",
      "[CV] C=100, max_iter=300, penalty=l1, solver=lbfgs ...................\n",
      "[CV]  C=100, max_iter=300, penalty=l1, solver=lbfgs, score=nan, total=   0.0s\n",
      "[CV] C=100, max_iter=300, penalty=l1, solver=lbfgs ...................\n",
      "[CV]  C=100, max_iter=300, penalty=l1, solver=lbfgs, score=nan, total=   0.0s\n",
      "[CV] C=100, max_iter=300, penalty=l1, solver=lbfgs ...................\n",
      "[CV]  C=100, max_iter=300, penalty=l1, solver=lbfgs, score=nan, total=   0.0s\n",
      "[CV] C=100, max_iter=300, penalty=l1, solver=lbfgs ...................\n",
      "[CV]  C=100, max_iter=300, penalty=l1, solver=lbfgs, score=nan, total=   0.0s\n",
      "[CV] C=100, max_iter=300, penalty=l1, solver=liblinear ...............\n",
      "[CV]  C=100, max_iter=300, penalty=l1, solver=liblinear, score=0.858, total=   0.1s\n",
      "[CV] C=100, max_iter=300, penalty=l1, solver=liblinear ...............\n",
      "[CV]  C=100, max_iter=300, penalty=l1, solver=liblinear, score=0.854, total=   0.5s\n",
      "[CV] C=100, max_iter=300, penalty=l1, solver=liblinear ...............\n",
      "[CV]  C=100, max_iter=300, penalty=l1, solver=liblinear, score=0.867, total=   0.1s\n",
      "[CV] C=100, max_iter=300, penalty=l1, solver=liblinear ...............\n",
      "[CV]  C=100, max_iter=300, penalty=l1, solver=liblinear, score=0.840, total=   0.4s\n",
      "[CV] C=100, max_iter=300, penalty=l1, solver=liblinear ...............\n",
      "[CV]  C=100, max_iter=300, penalty=l1, solver=liblinear, score=0.839, total=   0.1s\n",
      "[CV] C=100, max_iter=300, penalty=l1, solver=sag .....................\n",
      "[CV]  C=100, max_iter=300, penalty=l1, solver=sag, score=nan, total=   0.0s\n",
      "[CV] C=100, max_iter=300, penalty=l1, solver=sag .....................\n",
      "[CV]  C=100, max_iter=300, penalty=l1, solver=sag, score=nan, total=   0.0s\n",
      "[CV] C=100, max_iter=300, penalty=l1, solver=sag .....................\n",
      "[CV]  C=100, max_iter=300, penalty=l1, solver=sag, score=nan, total=   0.0s\n",
      "[CV] C=100, max_iter=300, penalty=l1, solver=sag .....................\n",
      "[CV]  C=100, max_iter=300, penalty=l1, solver=sag, score=nan, total=   0.0s\n",
      "[CV] C=100, max_iter=300, penalty=l1, solver=sag .....................\n",
      "[CV]  C=100, max_iter=300, penalty=l1, solver=sag, score=nan, total=   0.0s\n",
      "[CV] C=100, max_iter=300, penalty=l1, solver=saga ....................\n"
     ]
    },
    {
     "name": "stderr",
     "output_type": "stream",
     "text": [
      "C:\\Users\\hanie\\anaconda3\\lib\\site-packages\\sklearn\\model_selection\\_validation.py:548: FitFailedWarning: Estimator fit failed. The score on this train-test partition for these parameters will be set to nan. Details: \n",
      "Traceback (most recent call last):\n",
      "  File \"C:\\Users\\hanie\\anaconda3\\lib\\site-packages\\sklearn\\model_selection\\_validation.py\", line 531, in _fit_and_score\n",
      "    estimator.fit(X_train, y_train, **fit_params)\n",
      "  File \"C:\\Users\\hanie\\anaconda3\\lib\\site-packages\\sklearn\\linear_model\\_logistic.py\", line 1304, in fit\n",
      "    solver = _check_solver(self.solver, self.penalty, self.dual)\n",
      "  File \"C:\\Users\\hanie\\anaconda3\\lib\\site-packages\\sklearn\\linear_model\\_logistic.py\", line 442, in _check_solver\n",
      "    raise ValueError(\"Solver %s supports only 'l2' or 'none' penalties, \"\n",
      "ValueError: Solver sag supports only 'l2' or 'none' penalties, got l1 penalty.\n",
      "\n",
      "  warnings.warn(\"Estimator fit failed. The score on this train-test\"\n",
      "C:\\Users\\hanie\\anaconda3\\lib\\site-packages\\sklearn\\linear_model\\_sag.py:329: ConvergenceWarning: The max_iter was reached which means the coef_ did not converge\n",
      "  warnings.warn(\"The max_iter was reached which means \"\n"
     ]
    },
    {
     "name": "stdout",
     "output_type": "stream",
     "text": [
      "[CV]  C=100, max_iter=300, penalty=l1, solver=saga, score=0.845, total=   0.3s\n",
      "[CV] C=100, max_iter=300, penalty=l1, solver=saga ....................\n"
     ]
    },
    {
     "name": "stderr",
     "output_type": "stream",
     "text": [
      "C:\\Users\\hanie\\anaconda3\\lib\\site-packages\\sklearn\\linear_model\\_sag.py:329: ConvergenceWarning: The max_iter was reached which means the coef_ did not converge\n",
      "  warnings.warn(\"The max_iter was reached which means \"\n"
     ]
    },
    {
     "name": "stdout",
     "output_type": "stream",
     "text": [
      "[CV]  C=100, max_iter=300, penalty=l1, solver=saga, score=0.839, total=   0.3s\n",
      "[CV] C=100, max_iter=300, penalty=l1, solver=saga ....................\n"
     ]
    },
    {
     "name": "stderr",
     "output_type": "stream",
     "text": [
      "C:\\Users\\hanie\\anaconda3\\lib\\site-packages\\sklearn\\linear_model\\_sag.py:329: ConvergenceWarning: The max_iter was reached which means the coef_ did not converge\n",
      "  warnings.warn(\"The max_iter was reached which means \"\n"
     ]
    },
    {
     "name": "stdout",
     "output_type": "stream",
     "text": [
      "[CV]  C=100, max_iter=300, penalty=l1, solver=saga, score=0.860, total=   0.3s\n",
      "[CV] C=100, max_iter=300, penalty=l1, solver=saga ....................\n"
     ]
    },
    {
     "name": "stderr",
     "output_type": "stream",
     "text": [
      "C:\\Users\\hanie\\anaconda3\\lib\\site-packages\\sklearn\\linear_model\\_sag.py:329: ConvergenceWarning: The max_iter was reached which means the coef_ did not converge\n",
      "  warnings.warn(\"The max_iter was reached which means \"\n"
     ]
    },
    {
     "name": "stdout",
     "output_type": "stream",
     "text": [
      "[CV]  C=100, max_iter=300, penalty=l1, solver=saga, score=0.831, total=   0.3s\n",
      "[CV] C=100, max_iter=300, penalty=l1, solver=saga ....................\n"
     ]
    },
    {
     "name": "stderr",
     "output_type": "stream",
     "text": [
      "C:\\Users\\hanie\\anaconda3\\lib\\site-packages\\sklearn\\linear_model\\_sag.py:329: ConvergenceWarning: The max_iter was reached which means the coef_ did not converge\n",
      "  warnings.warn(\"The max_iter was reached which means \"\n"
     ]
    },
    {
     "name": "stdout",
     "output_type": "stream",
     "text": [
      "[CV]  C=100, max_iter=300, penalty=l1, solver=saga, score=0.820, total=   0.3s\n",
      "[CV] C=100, max_iter=300, penalty=l2, solver=newton-cg ...............\n",
      "[CV]  C=100, max_iter=300, penalty=l2, solver=newton-cg, score=0.845, total=   0.1s\n",
      "[CV] C=100, max_iter=300, penalty=l2, solver=newton-cg ...............\n",
      "[CV]  C=100, max_iter=300, penalty=l2, solver=newton-cg, score=0.840, total=   0.1s\n",
      "[CV] C=100, max_iter=300, penalty=l2, solver=newton-cg ...............\n",
      "[CV]  C=100, max_iter=300, penalty=l2, solver=newton-cg, score=0.858, total=   0.1s\n",
      "[CV] C=100, max_iter=300, penalty=l2, solver=newton-cg ...............\n",
      "[CV]  C=100, max_iter=300, penalty=l2, solver=newton-cg, score=0.826, total=   0.1s\n",
      "[CV] C=100, max_iter=300, penalty=l2, solver=newton-cg ...............\n",
      "[CV]  C=100, max_iter=300, penalty=l2, solver=newton-cg, score=0.821, total=   0.1s\n",
      "[CV] C=100, max_iter=300, penalty=l2, solver=lbfgs ...................\n",
      "[CV]  C=100, max_iter=300, penalty=l2, solver=lbfgs, score=0.845, total=   0.1s\n",
      "[CV] C=100, max_iter=300, penalty=l2, solver=lbfgs ...................\n",
      "[CV]  C=100, max_iter=300, penalty=l2, solver=lbfgs, score=0.840, total=   0.1s\n",
      "[CV] C=100, max_iter=300, penalty=l2, solver=lbfgs ...................\n",
      "[CV]  C=100, max_iter=300, penalty=l2, solver=lbfgs, score=0.858, total=   0.1s\n",
      "[CV] C=100, max_iter=300, penalty=l2, solver=lbfgs ...................\n",
      "[CV]  C=100, max_iter=300, penalty=l2, solver=lbfgs, score=0.826, total=   0.1s\n",
      "[CV] C=100, max_iter=300, penalty=l2, solver=lbfgs ...................\n",
      "[CV]  C=100, max_iter=300, penalty=l2, solver=lbfgs, score=0.821, total=   0.1s\n",
      "[CV] C=100, max_iter=300, penalty=l2, solver=liblinear ...............\n",
      "[CV]  C=100, max_iter=300, penalty=l2, solver=liblinear, score=0.847, total=   0.0s\n",
      "[CV] C=100, max_iter=300, penalty=l2, solver=liblinear ...............\n",
      "[CV]  C=100, max_iter=300, penalty=l2, solver=liblinear, score=0.840, total=   0.0s\n",
      "[CV] C=100, max_iter=300, penalty=l2, solver=liblinear ...............\n",
      "[CV]  C=100, max_iter=300, penalty=l2, solver=liblinear, score=0.859, total=   0.0s\n",
      "[CV] C=100, max_iter=300, penalty=l2, solver=liblinear ...............\n",
      "[CV]  C=100, max_iter=300, penalty=l2, solver=liblinear, score=0.826, total=   0.0s\n",
      "[CV] C=100, max_iter=300, penalty=l2, solver=liblinear ...............\n",
      "[CV]  C=100, max_iter=300, penalty=l2, solver=liblinear, score=0.821, total=   0.0s\n",
      "[CV] C=100, max_iter=300, penalty=l2, solver=sag .....................\n"
     ]
    },
    {
     "name": "stderr",
     "output_type": "stream",
     "text": [
      "C:\\Users\\hanie\\anaconda3\\lib\\site-packages\\sklearn\\linear_model\\_sag.py:329: ConvergenceWarning: The max_iter was reached which means the coef_ did not converge\n",
      "  warnings.warn(\"The max_iter was reached which means \"\n"
     ]
    },
    {
     "name": "stdout",
     "output_type": "stream",
     "text": [
      "[CV]  C=100, max_iter=300, penalty=l2, solver=sag, score=0.846, total=   0.3s\n",
      "[CV] C=100, max_iter=300, penalty=l2, solver=sag .....................\n"
     ]
    },
    {
     "name": "stderr",
     "output_type": "stream",
     "text": [
      "C:\\Users\\hanie\\anaconda3\\lib\\site-packages\\sklearn\\linear_model\\_sag.py:329: ConvergenceWarning: The max_iter was reached which means the coef_ did not converge\n",
      "  warnings.warn(\"The max_iter was reached which means \"\n",
      "C:\\Users\\hanie\\anaconda3\\lib\\site-packages\\sklearn\\linear_model\\_sag.py:329: ConvergenceWarning: The max_iter was reached which means the coef_ did not converge\n",
      "  warnings.warn(\"The max_iter was reached which means \"\n"
     ]
    },
    {
     "name": "stdout",
     "output_type": "stream",
     "text": [
      "[CV]  C=100, max_iter=300, penalty=l2, solver=sag, score=0.840, total=   0.2s\n",
      "[CV] C=100, max_iter=300, penalty=l2, solver=sag .....................\n"
     ]
    },
    {
     "name": "stderr",
     "output_type": "stream",
     "text": [
      "C:\\Users\\hanie\\anaconda3\\lib\\site-packages\\sklearn\\linear_model\\_sag.py:329: ConvergenceWarning: The max_iter was reached which means the coef_ did not converge\n",
      "  warnings.warn(\"The max_iter was reached which means \"\n",
      "C:\\Users\\hanie\\anaconda3\\lib\\site-packages\\sklearn\\linear_model\\_sag.py:329: ConvergenceWarning: The max_iter was reached which means the coef_ did not converge\n",
      "  warnings.warn(\"The max_iter was reached which means \"\n"
     ]
    },
    {
     "name": "stdout",
     "output_type": "stream",
     "text": [
      "[CV]  C=100, max_iter=300, penalty=l2, solver=sag, score=0.857, total=   0.2s\n",
      "[CV] C=100, max_iter=300, penalty=l2, solver=sag .....................\n",
      "[CV]  C=100, max_iter=300, penalty=l2, solver=sag, score=0.825, total=   0.3s\n",
      "[CV] C=100, max_iter=300, penalty=l2, solver=sag .....................\n",
      "[CV]  C=100, max_iter=300, penalty=l2, solver=sag, score=0.822, total=   0.2s\n",
      "[CV] C=100, max_iter=300, penalty=l2, solver=saga ....................\n"
     ]
    },
    {
     "name": "stderr",
     "output_type": "stream",
     "text": [
      "C:\\Users\\hanie\\anaconda3\\lib\\site-packages\\sklearn\\linear_model\\_sag.py:329: ConvergenceWarning: The max_iter was reached which means the coef_ did not converge\n",
      "  warnings.warn(\"The max_iter was reached which means \"\n"
     ]
    },
    {
     "name": "stdout",
     "output_type": "stream",
     "text": [
      "[CV]  C=100, max_iter=300, penalty=l2, solver=saga, score=0.846, total=   0.2s\n",
      "[CV] C=100, max_iter=300, penalty=l2, solver=saga ....................\n"
     ]
    },
    {
     "name": "stderr",
     "output_type": "stream",
     "text": [
      "C:\\Users\\hanie\\anaconda3\\lib\\site-packages\\sklearn\\linear_model\\_sag.py:329: ConvergenceWarning: The max_iter was reached which means the coef_ did not converge\n",
      "  warnings.warn(\"The max_iter was reached which means \"\n"
     ]
    },
    {
     "name": "stdout",
     "output_type": "stream",
     "text": [
      "[CV]  C=100, max_iter=300, penalty=l2, solver=saga, score=0.841, total=   0.2s\n",
      "[CV] C=100, max_iter=300, penalty=l2, solver=saga ....................\n"
     ]
    },
    {
     "name": "stderr",
     "output_type": "stream",
     "text": [
      "C:\\Users\\hanie\\anaconda3\\lib\\site-packages\\sklearn\\linear_model\\_sag.py:329: ConvergenceWarning: The max_iter was reached which means the coef_ did not converge\n",
      "  warnings.warn(\"The max_iter was reached which means \"\n"
     ]
    },
    {
     "name": "stdout",
     "output_type": "stream",
     "text": [
      "[CV]  C=100, max_iter=300, penalty=l2, solver=saga, score=0.859, total=   0.2s\n",
      "[CV] C=100, max_iter=300, penalty=l2, solver=saga ....................\n"
     ]
    },
    {
     "name": "stderr",
     "output_type": "stream",
     "text": [
      "C:\\Users\\hanie\\anaconda3\\lib\\site-packages\\sklearn\\linear_model\\_sag.py:329: ConvergenceWarning: The max_iter was reached which means the coef_ did not converge\n",
      "  warnings.warn(\"The max_iter was reached which means \"\n"
     ]
    },
    {
     "name": "stdout",
     "output_type": "stream",
     "text": [
      "[CV]  C=100, max_iter=300, penalty=l2, solver=saga, score=0.825, total=   0.3s\n",
      "[CV] C=100, max_iter=300, penalty=l2, solver=saga ....................\n"
     ]
    },
    {
     "name": "stderr",
     "output_type": "stream",
     "text": [
      "C:\\Users\\hanie\\anaconda3\\lib\\site-packages\\sklearn\\linear_model\\_sag.py:329: ConvergenceWarning: The max_iter was reached which means the coef_ did not converge\n",
      "  warnings.warn(\"The max_iter was reached which means \"\n",
      "C:\\Users\\hanie\\anaconda3\\lib\\site-packages\\sklearn\\model_selection\\_validation.py:548: FitFailedWarning: Estimator fit failed. The score on this train-test partition for these parameters will be set to nan. Details: \n",
      "Traceback (most recent call last):\n",
      "  File \"C:\\Users\\hanie\\anaconda3\\lib\\site-packages\\sklearn\\model_selection\\_validation.py\", line 531, in _fit_and_score\n",
      "    estimator.fit(X_train, y_train, **fit_params)\n",
      "  File \"C:\\Users\\hanie\\anaconda3\\lib\\site-packages\\sklearn\\linear_model\\_logistic.py\", line 1304, in fit\n",
      "    solver = _check_solver(self.solver, self.penalty, self.dual)\n",
      "  File \"C:\\Users\\hanie\\anaconda3\\lib\\site-packages\\sklearn\\linear_model\\_logistic.py\", line 442, in _check_solver\n",
      "    raise ValueError(\"Solver %s supports only 'l2' or 'none' penalties, \"\n",
      "ValueError: Solver newton-cg supports only 'l2' or 'none' penalties, got l1 penalty.\n",
      "\n",
      "  warnings.warn(\"Estimator fit failed. The score on this train-test\"\n",
      "C:\\Users\\hanie\\anaconda3\\lib\\site-packages\\sklearn\\model_selection\\_validation.py:548: FitFailedWarning: Estimator fit failed. The score on this train-test partition for these parameters will be set to nan. Details: \n",
      "Traceback (most recent call last):\n",
      "  File \"C:\\Users\\hanie\\anaconda3\\lib\\site-packages\\sklearn\\model_selection\\_validation.py\", line 531, in _fit_and_score\n",
      "    estimator.fit(X_train, y_train, **fit_params)\n",
      "  File \"C:\\Users\\hanie\\anaconda3\\lib\\site-packages\\sklearn\\linear_model\\_logistic.py\", line 1304, in fit\n",
      "    solver = _check_solver(self.solver, self.penalty, self.dual)\n",
      "  File \"C:\\Users\\hanie\\anaconda3\\lib\\site-packages\\sklearn\\linear_model\\_logistic.py\", line 442, in _check_solver\n",
      "    raise ValueError(\"Solver %s supports only 'l2' or 'none' penalties, \"\n",
      "ValueError: Solver lbfgs supports only 'l2' or 'none' penalties, got l1 penalty.\n",
      "\n",
      "  warnings.warn(\"Estimator fit failed. The score on this train-test\"\n"
     ]
    },
    {
     "name": "stdout",
     "output_type": "stream",
     "text": [
      "[CV]  C=100, max_iter=300, penalty=l2, solver=saga, score=0.822, total=   0.3s\n",
      "[CV] C=100, max_iter=400, penalty=l1, solver=newton-cg ...............\n",
      "[CV]  C=100, max_iter=400, penalty=l1, solver=newton-cg, score=nan, total=   0.0s\n",
      "[CV] C=100, max_iter=400, penalty=l1, solver=newton-cg ...............\n",
      "[CV]  C=100, max_iter=400, penalty=l1, solver=newton-cg, score=nan, total=   0.0s\n",
      "[CV] C=100, max_iter=400, penalty=l1, solver=newton-cg ...............\n",
      "[CV]  C=100, max_iter=400, penalty=l1, solver=newton-cg, score=nan, total=   0.0s\n",
      "[CV] C=100, max_iter=400, penalty=l1, solver=newton-cg ...............\n",
      "[CV]  C=100, max_iter=400, penalty=l1, solver=newton-cg, score=nan, total=   0.0s\n",
      "[CV] C=100, max_iter=400, penalty=l1, solver=newton-cg ...............\n",
      "[CV]  C=100, max_iter=400, penalty=l1, solver=newton-cg, score=nan, total=   0.0s\n",
      "[CV] C=100, max_iter=400, penalty=l1, solver=lbfgs ...................\n",
      "[CV]  C=100, max_iter=400, penalty=l1, solver=lbfgs, score=nan, total=   0.0s\n",
      "[CV] C=100, max_iter=400, penalty=l1, solver=lbfgs ...................\n",
      "[CV]  C=100, max_iter=400, penalty=l1, solver=lbfgs, score=nan, total=   0.0s\n",
      "[CV] C=100, max_iter=400, penalty=l1, solver=lbfgs ...................\n",
      "[CV]  C=100, max_iter=400, penalty=l1, solver=lbfgs, score=nan, total=   0.0s\n",
      "[CV] C=100, max_iter=400, penalty=l1, solver=lbfgs ...................\n",
      "[CV]  C=100, max_iter=400, penalty=l1, solver=lbfgs, score=nan, total=   0.0s\n",
      "[CV] C=100, max_iter=400, penalty=l1, solver=lbfgs ...................\n",
      "[CV]  C=100, max_iter=400, penalty=l1, solver=lbfgs, score=nan, total=   0.0s\n",
      "[CV] C=100, max_iter=400, penalty=l1, solver=liblinear ...............\n",
      "[CV]  C=100, max_iter=400, penalty=l1, solver=liblinear, score=0.858, total=   0.1s\n",
      "[CV] C=100, max_iter=400, penalty=l1, solver=liblinear ...............\n",
      "[CV]  C=100, max_iter=400, penalty=l1, solver=liblinear, score=0.854, total=   0.5s\n",
      "[CV] C=100, max_iter=400, penalty=l1, solver=liblinear ...............\n",
      "[CV]  C=100, max_iter=400, penalty=l1, solver=liblinear, score=0.867, total=   0.1s\n",
      "[CV] C=100, max_iter=400, penalty=l1, solver=liblinear ...............\n",
      "[CV]  C=100, max_iter=400, penalty=l1, solver=liblinear, score=0.840, total=   0.4s\n",
      "[CV] C=100, max_iter=400, penalty=l1, solver=liblinear ...............\n",
      "[CV]  C=100, max_iter=400, penalty=l1, solver=liblinear, score=0.839, total=   0.1s\n",
      "[CV] C=100, max_iter=400, penalty=l1, solver=sag .....................\n",
      "[CV]  C=100, max_iter=400, penalty=l1, solver=sag, score=nan, total=   0.0s\n",
      "[CV] C=100, max_iter=400, penalty=l1, solver=sag .....................\n",
      "[CV]  C=100, max_iter=400, penalty=l1, solver=sag, score=nan, total=   0.0s\n",
      "[CV] C=100, max_iter=400, penalty=l1, solver=sag .....................\n",
      "[CV]  C=100, max_iter=400, penalty=l1, solver=sag, score=nan, total=   0.0s\n",
      "[CV] C=100, max_iter=400, penalty=l1, solver=sag .....................\n",
      "[CV]  C=100, max_iter=400, penalty=l1, solver=sag, score=nan, total=   0.0s\n",
      "[CV] C=100, max_iter=400, penalty=l1, solver=sag .....................\n",
      "[CV]  C=100, max_iter=400, penalty=l1, solver=sag, score=nan, total=   0.0s\n",
      "[CV] C=100, max_iter=400, penalty=l1, solver=saga ....................\n"
     ]
    },
    {
     "name": "stderr",
     "output_type": "stream",
     "text": [
      "C:\\Users\\hanie\\anaconda3\\lib\\site-packages\\sklearn\\model_selection\\_validation.py:548: FitFailedWarning: Estimator fit failed. The score on this train-test partition for these parameters will be set to nan. Details: \n",
      "Traceback (most recent call last):\n",
      "  File \"C:\\Users\\hanie\\anaconda3\\lib\\site-packages\\sklearn\\model_selection\\_validation.py\", line 531, in _fit_and_score\n",
      "    estimator.fit(X_train, y_train, **fit_params)\n",
      "  File \"C:\\Users\\hanie\\anaconda3\\lib\\site-packages\\sklearn\\linear_model\\_logistic.py\", line 1304, in fit\n",
      "    solver = _check_solver(self.solver, self.penalty, self.dual)\n",
      "  File \"C:\\Users\\hanie\\anaconda3\\lib\\site-packages\\sklearn\\linear_model\\_logistic.py\", line 442, in _check_solver\n",
      "    raise ValueError(\"Solver %s supports only 'l2' or 'none' penalties, \"\n",
      "ValueError: Solver sag supports only 'l2' or 'none' penalties, got l1 penalty.\n",
      "\n",
      "  warnings.warn(\"Estimator fit failed. The score on this train-test\"\n",
      "C:\\Users\\hanie\\anaconda3\\lib\\site-packages\\sklearn\\linear_model\\_sag.py:329: ConvergenceWarning: The max_iter was reached which means the coef_ did not converge\n",
      "  warnings.warn(\"The max_iter was reached which means \"\n"
     ]
    },
    {
     "name": "stdout",
     "output_type": "stream",
     "text": [
      "[CV]  C=100, max_iter=400, penalty=l1, solver=saga, score=0.844, total=   0.4s\n",
      "[CV] C=100, max_iter=400, penalty=l1, solver=saga ....................\n"
     ]
    },
    {
     "name": "stderr",
     "output_type": "stream",
     "text": [
      "C:\\Users\\hanie\\anaconda3\\lib\\site-packages\\sklearn\\linear_model\\_sag.py:329: ConvergenceWarning: The max_iter was reached which means the coef_ did not converge\n",
      "  warnings.warn(\"The max_iter was reached which means \"\n"
     ]
    },
    {
     "name": "stdout",
     "output_type": "stream",
     "text": [
      "[CV]  C=100, max_iter=400, penalty=l1, solver=saga, score=0.840, total=   0.4s\n",
      "[CV] C=100, max_iter=400, penalty=l1, solver=saga ....................\n"
     ]
    },
    {
     "name": "stderr",
     "output_type": "stream",
     "text": [
      "C:\\Users\\hanie\\anaconda3\\lib\\site-packages\\sklearn\\linear_model\\_sag.py:329: ConvergenceWarning: The max_iter was reached which means the coef_ did not converge\n",
      "  warnings.warn(\"The max_iter was reached which means \"\n"
     ]
    },
    {
     "name": "stdout",
     "output_type": "stream",
     "text": [
      "[CV]  C=100, max_iter=400, penalty=l1, solver=saga, score=0.861, total=   0.4s\n",
      "[CV] C=100, max_iter=400, penalty=l1, solver=saga ....................\n"
     ]
    },
    {
     "name": "stderr",
     "output_type": "stream",
     "text": [
      "C:\\Users\\hanie\\anaconda3\\lib\\site-packages\\sklearn\\linear_model\\_sag.py:329: ConvergenceWarning: The max_iter was reached which means the coef_ did not converge\n",
      "  warnings.warn(\"The max_iter was reached which means \"\n"
     ]
    },
    {
     "name": "stdout",
     "output_type": "stream",
     "text": [
      "[CV]  C=100, max_iter=400, penalty=l1, solver=saga, score=0.830, total=   0.4s\n",
      "[CV] C=100, max_iter=400, penalty=l1, solver=saga ....................\n"
     ]
    },
    {
     "name": "stderr",
     "output_type": "stream",
     "text": [
      "C:\\Users\\hanie\\anaconda3\\lib\\site-packages\\sklearn\\linear_model\\_sag.py:329: ConvergenceWarning: The max_iter was reached which means the coef_ did not converge\n",
      "  warnings.warn(\"The max_iter was reached which means \"\n"
     ]
    },
    {
     "name": "stdout",
     "output_type": "stream",
     "text": [
      "[CV]  C=100, max_iter=400, penalty=l1, solver=saga, score=0.823, total=   0.4s\n",
      "[CV] C=100, max_iter=400, penalty=l2, solver=newton-cg ...............\n",
      "[CV]  C=100, max_iter=400, penalty=l2, solver=newton-cg, score=0.845, total=   0.1s\n",
      "[CV] C=100, max_iter=400, penalty=l2, solver=newton-cg ...............\n",
      "[CV]  C=100, max_iter=400, penalty=l2, solver=newton-cg, score=0.840, total=   0.1s\n",
      "[CV] C=100, max_iter=400, penalty=l2, solver=newton-cg ...............\n",
      "[CV]  C=100, max_iter=400, penalty=l2, solver=newton-cg, score=0.858, total=   0.1s\n",
      "[CV] C=100, max_iter=400, penalty=l2, solver=newton-cg ...............\n",
      "[CV]  C=100, max_iter=400, penalty=l2, solver=newton-cg, score=0.826, total=   0.1s\n",
      "[CV] C=100, max_iter=400, penalty=l2, solver=newton-cg ...............\n",
      "[CV]  C=100, max_iter=400, penalty=l2, solver=newton-cg, score=0.821, total=   0.1s\n",
      "[CV] C=100, max_iter=400, penalty=l2, solver=lbfgs ...................\n",
      "[CV]  C=100, max_iter=400, penalty=l2, solver=lbfgs, score=0.845, total=   0.1s\n",
      "[CV] C=100, max_iter=400, penalty=l2, solver=lbfgs ...................\n",
      "[CV]  C=100, max_iter=400, penalty=l2, solver=lbfgs, score=0.840, total=   0.1s\n",
      "[CV] C=100, max_iter=400, penalty=l2, solver=lbfgs ...................\n",
      "[CV]  C=100, max_iter=400, penalty=l2, solver=lbfgs, score=0.858, total=   0.1s\n",
      "[CV] C=100, max_iter=400, penalty=l2, solver=lbfgs ...................\n",
      "[CV]  C=100, max_iter=400, penalty=l2, solver=lbfgs, score=0.826, total=   0.1s\n",
      "[CV] C=100, max_iter=400, penalty=l2, solver=lbfgs ...................\n",
      "[CV]  C=100, max_iter=400, penalty=l2, solver=lbfgs, score=0.821, total=   0.1s\n",
      "[CV] C=100, max_iter=400, penalty=l2, solver=liblinear ...............\n",
      "[CV]  C=100, max_iter=400, penalty=l2, solver=liblinear, score=0.847, total=   0.0s\n",
      "[CV] C=100, max_iter=400, penalty=l2, solver=liblinear ...............\n",
      "[CV]  C=100, max_iter=400, penalty=l2, solver=liblinear, score=0.840, total=   0.0s\n",
      "[CV] C=100, max_iter=400, penalty=l2, solver=liblinear ...............\n",
      "[CV]  C=100, max_iter=400, penalty=l2, solver=liblinear, score=0.859, total=   0.0s\n",
      "[CV] C=100, max_iter=400, penalty=l2, solver=liblinear ...............\n",
      "[CV]  C=100, max_iter=400, penalty=l2, solver=liblinear, score=0.826, total=   0.0s\n",
      "[CV] C=100, max_iter=400, penalty=l2, solver=liblinear ...............\n",
      "[CV]  C=100, max_iter=400, penalty=l2, solver=liblinear, score=0.821, total=   0.0s\n",
      "[CV] C=100, max_iter=400, penalty=l2, solver=sag .....................\n"
     ]
    },
    {
     "name": "stderr",
     "output_type": "stream",
     "text": [
      "C:\\Users\\hanie\\anaconda3\\lib\\site-packages\\sklearn\\linear_model\\_sag.py:329: ConvergenceWarning: The max_iter was reached which means the coef_ did not converge\n",
      "  warnings.warn(\"The max_iter was reached which means \"\n"
     ]
    },
    {
     "name": "stdout",
     "output_type": "stream",
     "text": [
      "[CV]  C=100, max_iter=400, penalty=l2, solver=sag, score=0.847, total=   0.4s\n",
      "[CV] C=100, max_iter=400, penalty=l2, solver=sag .....................\n"
     ]
    },
    {
     "name": "stderr",
     "output_type": "stream",
     "text": [
      "C:\\Users\\hanie\\anaconda3\\lib\\site-packages\\sklearn\\linear_model\\_sag.py:329: ConvergenceWarning: The max_iter was reached which means the coef_ did not converge\n",
      "  warnings.warn(\"The max_iter was reached which means \"\n"
     ]
    },
    {
     "name": "stdout",
     "output_type": "stream",
     "text": [
      "[CV]  C=100, max_iter=400, penalty=l2, solver=sag, score=0.841, total=   0.3s\n",
      "[CV] C=100, max_iter=400, penalty=l2, solver=sag .....................\n"
     ]
    },
    {
     "name": "stderr",
     "output_type": "stream",
     "text": [
      "C:\\Users\\hanie\\anaconda3\\lib\\site-packages\\sklearn\\linear_model\\_sag.py:329: ConvergenceWarning: The max_iter was reached which means the coef_ did not converge\n",
      "  warnings.warn(\"The max_iter was reached which means \"\n"
     ]
    },
    {
     "name": "stdout",
     "output_type": "stream",
     "text": [
      "[CV]  C=100, max_iter=400, penalty=l2, solver=sag, score=0.857, total=   0.3s\n",
      "[CV] C=100, max_iter=400, penalty=l2, solver=sag .....................\n"
     ]
    },
    {
     "name": "stderr",
     "output_type": "stream",
     "text": [
      "C:\\Users\\hanie\\anaconda3\\lib\\site-packages\\sklearn\\linear_model\\_sag.py:329: ConvergenceWarning: The max_iter was reached which means the coef_ did not converge\n",
      "  warnings.warn(\"The max_iter was reached which means \"\n"
     ]
    },
    {
     "name": "stdout",
     "output_type": "stream",
     "text": [
      "[CV]  C=100, max_iter=400, penalty=l2, solver=sag, score=0.826, total=   0.3s\n",
      "[CV] C=100, max_iter=400, penalty=l2, solver=sag .....................\n"
     ]
    },
    {
     "name": "stderr",
     "output_type": "stream",
     "text": [
      "C:\\Users\\hanie\\anaconda3\\lib\\site-packages\\sklearn\\linear_model\\_sag.py:329: ConvergenceWarning: The max_iter was reached which means the coef_ did not converge\n",
      "  warnings.warn(\"The max_iter was reached which means \"\n"
     ]
    },
    {
     "name": "stdout",
     "output_type": "stream",
     "text": [
      "[CV]  C=100, max_iter=400, penalty=l2, solver=sag, score=0.822, total=   0.3s\n",
      "[CV] C=100, max_iter=400, penalty=l2, solver=saga ....................\n"
     ]
    },
    {
     "name": "stderr",
     "output_type": "stream",
     "text": [
      "C:\\Users\\hanie\\anaconda3\\lib\\site-packages\\sklearn\\linear_model\\_sag.py:329: ConvergenceWarning: The max_iter was reached which means the coef_ did not converge\n",
      "  warnings.warn(\"The max_iter was reached which means \"\n"
     ]
    },
    {
     "name": "stdout",
     "output_type": "stream",
     "text": [
      "[CV]  C=100, max_iter=400, penalty=l2, solver=saga, score=0.846, total=   0.3s\n",
      "[CV] C=100, max_iter=400, penalty=l2, solver=saga ....................\n"
     ]
    },
    {
     "name": "stderr",
     "output_type": "stream",
     "text": [
      "C:\\Users\\hanie\\anaconda3\\lib\\site-packages\\sklearn\\linear_model\\_sag.py:329: ConvergenceWarning: The max_iter was reached which means the coef_ did not converge\n",
      "  warnings.warn(\"The max_iter was reached which means \"\n"
     ]
    },
    {
     "name": "stdout",
     "output_type": "stream",
     "text": [
      "[CV]  C=100, max_iter=400, penalty=l2, solver=saga, score=0.841, total=   0.3s\n",
      "[CV] C=100, max_iter=400, penalty=l2, solver=saga ....................\n"
     ]
    },
    {
     "name": "stderr",
     "output_type": "stream",
     "text": [
      "C:\\Users\\hanie\\anaconda3\\lib\\site-packages\\sklearn\\linear_model\\_sag.py:329: ConvergenceWarning: The max_iter was reached which means the coef_ did not converge\n",
      "  warnings.warn(\"The max_iter was reached which means \"\n"
     ]
    },
    {
     "name": "stdout",
     "output_type": "stream",
     "text": [
      "[CV]  C=100, max_iter=400, penalty=l2, solver=saga, score=0.859, total=   0.3s\n",
      "[CV] C=100, max_iter=400, penalty=l2, solver=saga ....................\n"
     ]
    },
    {
     "name": "stderr",
     "output_type": "stream",
     "text": [
      "C:\\Users\\hanie\\anaconda3\\lib\\site-packages\\sklearn\\linear_model\\_sag.py:329: ConvergenceWarning: The max_iter was reached which means the coef_ did not converge\n",
      "  warnings.warn(\"The max_iter was reached which means \"\n"
     ]
    },
    {
     "name": "stdout",
     "output_type": "stream",
     "text": [
      "[CV]  C=100, max_iter=400, penalty=l2, solver=saga, score=0.824, total=   0.3s\n",
      "[CV] C=100, max_iter=400, penalty=l2, solver=saga ....................\n"
     ]
    },
    {
     "name": "stderr",
     "output_type": "stream",
     "text": [
      "C:\\Users\\hanie\\anaconda3\\lib\\site-packages\\sklearn\\linear_model\\_sag.py:329: ConvergenceWarning: The max_iter was reached which means the coef_ did not converge\n",
      "  warnings.warn(\"The max_iter was reached which means \"\n",
      "C:\\Users\\hanie\\anaconda3\\lib\\site-packages\\sklearn\\model_selection\\_validation.py:548: FitFailedWarning: Estimator fit failed. The score on this train-test partition for these parameters will be set to nan. Details: \n",
      "Traceback (most recent call last):\n",
      "  File \"C:\\Users\\hanie\\anaconda3\\lib\\site-packages\\sklearn\\model_selection\\_validation.py\", line 531, in _fit_and_score\n",
      "    estimator.fit(X_train, y_train, **fit_params)\n",
      "  File \"C:\\Users\\hanie\\anaconda3\\lib\\site-packages\\sklearn\\linear_model\\_logistic.py\", line 1304, in fit\n",
      "    solver = _check_solver(self.solver, self.penalty, self.dual)\n",
      "  File \"C:\\Users\\hanie\\anaconda3\\lib\\site-packages\\sklearn\\linear_model\\_logistic.py\", line 442, in _check_solver\n",
      "    raise ValueError(\"Solver %s supports only 'l2' or 'none' penalties, \"\n",
      "ValueError: Solver newton-cg supports only 'l2' or 'none' penalties, got l1 penalty.\n",
      "\n",
      "  warnings.warn(\"Estimator fit failed. The score on this train-test\"\n",
      "C:\\Users\\hanie\\anaconda3\\lib\\site-packages\\sklearn\\model_selection\\_validation.py:548: FitFailedWarning: Estimator fit failed. The score on this train-test partition for these parameters will be set to nan. Details: \n",
      "Traceback (most recent call last):\n",
      "  File \"C:\\Users\\hanie\\anaconda3\\lib\\site-packages\\sklearn\\model_selection\\_validation.py\", line 531, in _fit_and_score\n",
      "    estimator.fit(X_train, y_train, **fit_params)\n",
      "  File \"C:\\Users\\hanie\\anaconda3\\lib\\site-packages\\sklearn\\linear_model\\_logistic.py\", line 1304, in fit\n",
      "    solver = _check_solver(self.solver, self.penalty, self.dual)\n",
      "  File \"C:\\Users\\hanie\\anaconda3\\lib\\site-packages\\sklearn\\linear_model\\_logistic.py\", line 442, in _check_solver\n",
      "    raise ValueError(\"Solver %s supports only 'l2' or 'none' penalties, \"\n",
      "ValueError: Solver lbfgs supports only 'l2' or 'none' penalties, got l1 penalty.\n",
      "\n",
      "  warnings.warn(\"Estimator fit failed. The score on this train-test\"\n"
     ]
    },
    {
     "name": "stdout",
     "output_type": "stream",
     "text": [
      "[CV]  C=100, max_iter=400, penalty=l2, solver=saga, score=0.822, total=   0.3s\n",
      "[CV] C=100, max_iter=500, penalty=l1, solver=newton-cg ...............\n",
      "[CV]  C=100, max_iter=500, penalty=l1, solver=newton-cg, score=nan, total=   0.0s\n",
      "[CV] C=100, max_iter=500, penalty=l1, solver=newton-cg ...............\n",
      "[CV]  C=100, max_iter=500, penalty=l1, solver=newton-cg, score=nan, total=   0.0s\n",
      "[CV] C=100, max_iter=500, penalty=l1, solver=newton-cg ...............\n",
      "[CV]  C=100, max_iter=500, penalty=l1, solver=newton-cg, score=nan, total=   0.0s\n",
      "[CV] C=100, max_iter=500, penalty=l1, solver=newton-cg ...............\n",
      "[CV]  C=100, max_iter=500, penalty=l1, solver=newton-cg, score=nan, total=   0.0s\n",
      "[CV] C=100, max_iter=500, penalty=l1, solver=newton-cg ...............\n",
      "[CV]  C=100, max_iter=500, penalty=l1, solver=newton-cg, score=nan, total=   0.0s\n",
      "[CV] C=100, max_iter=500, penalty=l1, solver=lbfgs ...................\n",
      "[CV]  C=100, max_iter=500, penalty=l1, solver=lbfgs, score=nan, total=   0.0s\n",
      "[CV] C=100, max_iter=500, penalty=l1, solver=lbfgs ...................\n",
      "[CV]  C=100, max_iter=500, penalty=l1, solver=lbfgs, score=nan, total=   0.0s\n",
      "[CV] C=100, max_iter=500, penalty=l1, solver=lbfgs ...................\n",
      "[CV]  C=100, max_iter=500, penalty=l1, solver=lbfgs, score=nan, total=   0.0s\n",
      "[CV] C=100, max_iter=500, penalty=l1, solver=lbfgs ...................\n",
      "[CV]  C=100, max_iter=500, penalty=l1, solver=lbfgs, score=nan, total=   0.0s\n",
      "[CV] C=100, max_iter=500, penalty=l1, solver=lbfgs ...................\n",
      "[CV]  C=100, max_iter=500, penalty=l1, solver=lbfgs, score=nan, total=   0.0s\n",
      "[CV] C=100, max_iter=500, penalty=l1, solver=liblinear ...............\n",
      "[CV]  C=100, max_iter=500, penalty=l1, solver=liblinear, score=0.860, total=   0.2s\n",
      "[CV] C=100, max_iter=500, penalty=l1, solver=liblinear ...............\n",
      "[CV]  C=100, max_iter=500, penalty=l1, solver=liblinear, score=0.854, total=   0.7s\n",
      "[CV] C=100, max_iter=500, penalty=l1, solver=liblinear ...............\n",
      "[CV]  C=100, max_iter=500, penalty=l1, solver=liblinear, score=0.867, total=   0.2s\n",
      "[CV] C=100, max_iter=500, penalty=l1, solver=liblinear ...............\n",
      "[CV]  C=100, max_iter=500, penalty=l1, solver=liblinear, score=0.840, total=   0.6s\n",
      "[CV] C=100, max_iter=500, penalty=l1, solver=liblinear ...............\n",
      "[CV]  C=100, max_iter=500, penalty=l1, solver=liblinear, score=0.839, total=   0.2s\n",
      "[CV] C=100, max_iter=500, penalty=l1, solver=sag .....................\n",
      "[CV]  C=100, max_iter=500, penalty=l1, solver=sag, score=nan, total=   0.0s\n",
      "[CV] C=100, max_iter=500, penalty=l1, solver=sag .....................\n",
      "[CV]  C=100, max_iter=500, penalty=l1, solver=sag, score=nan, total=   0.0s\n",
      "[CV] C=100, max_iter=500, penalty=l1, solver=sag .....................\n",
      "[CV]  C=100, max_iter=500, penalty=l1, solver=sag, score=nan, total=   0.0s\n",
      "[CV] C=100, max_iter=500, penalty=l1, solver=sag .....................\n",
      "[CV]  C=100, max_iter=500, penalty=l1, solver=sag, score=nan, total=   0.0s\n",
      "[CV] C=100, max_iter=500, penalty=l1, solver=sag .....................\n",
      "[CV]  C=100, max_iter=500, penalty=l1, solver=sag, score=nan, total=   0.0s\n",
      "[CV] C=100, max_iter=500, penalty=l1, solver=saga ....................\n"
     ]
    },
    {
     "name": "stderr",
     "output_type": "stream",
     "text": [
      "C:\\Users\\hanie\\anaconda3\\lib\\site-packages\\sklearn\\model_selection\\_validation.py:548: FitFailedWarning: Estimator fit failed. The score on this train-test partition for these parameters will be set to nan. Details: \n",
      "Traceback (most recent call last):\n",
      "  File \"C:\\Users\\hanie\\anaconda3\\lib\\site-packages\\sklearn\\model_selection\\_validation.py\", line 531, in _fit_and_score\n",
      "    estimator.fit(X_train, y_train, **fit_params)\n",
      "  File \"C:\\Users\\hanie\\anaconda3\\lib\\site-packages\\sklearn\\linear_model\\_logistic.py\", line 1304, in fit\n",
      "    solver = _check_solver(self.solver, self.penalty, self.dual)\n",
      "  File \"C:\\Users\\hanie\\anaconda3\\lib\\site-packages\\sklearn\\linear_model\\_logistic.py\", line 442, in _check_solver\n",
      "    raise ValueError(\"Solver %s supports only 'l2' or 'none' penalties, \"\n",
      "ValueError: Solver sag supports only 'l2' or 'none' penalties, got l1 penalty.\n",
      "\n",
      "  warnings.warn(\"Estimator fit failed. The score on this train-test\"\n",
      "C:\\Users\\hanie\\anaconda3\\lib\\site-packages\\sklearn\\linear_model\\_sag.py:329: ConvergenceWarning: The max_iter was reached which means the coef_ did not converge\n",
      "  warnings.warn(\"The max_iter was reached which means \"\n"
     ]
    },
    {
     "name": "stdout",
     "output_type": "stream",
     "text": [
      "[CV]  C=100, max_iter=500, penalty=l1, solver=saga, score=0.843, total=   0.4s\n",
      "[CV] C=100, max_iter=500, penalty=l1, solver=saga ....................\n"
     ]
    },
    {
     "name": "stderr",
     "output_type": "stream",
     "text": [
      "C:\\Users\\hanie\\anaconda3\\lib\\site-packages\\sklearn\\linear_model\\_sag.py:329: ConvergenceWarning: The max_iter was reached which means the coef_ did not converge\n",
      "  warnings.warn(\"The max_iter was reached which means \"\n"
     ]
    },
    {
     "name": "stdout",
     "output_type": "stream",
     "text": [
      "[CV]  C=100, max_iter=500, penalty=l1, solver=saga, score=0.842, total=   0.5s\n",
      "[CV] C=100, max_iter=500, penalty=l1, solver=saga ....................\n"
     ]
    },
    {
     "name": "stderr",
     "output_type": "stream",
     "text": [
      "C:\\Users\\hanie\\anaconda3\\lib\\site-packages\\sklearn\\linear_model\\_sag.py:329: ConvergenceWarning: The max_iter was reached which means the coef_ did not converge\n",
      "  warnings.warn(\"The max_iter was reached which means \"\n"
     ]
    },
    {
     "name": "stdout",
     "output_type": "stream",
     "text": [
      "[CV]  C=100, max_iter=500, penalty=l1, solver=saga, score=0.862, total=   0.5s\n",
      "[CV] C=100, max_iter=500, penalty=l1, solver=saga ....................\n"
     ]
    },
    {
     "name": "stderr",
     "output_type": "stream",
     "text": [
      "C:\\Users\\hanie\\anaconda3\\lib\\site-packages\\sklearn\\linear_model\\_sag.py:329: ConvergenceWarning: The max_iter was reached which means the coef_ did not converge\n",
      "  warnings.warn(\"The max_iter was reached which means \"\n"
     ]
    },
    {
     "name": "stdout",
     "output_type": "stream",
     "text": [
      "[CV]  C=100, max_iter=500, penalty=l1, solver=saga, score=0.831, total=   0.4s\n",
      "[CV] C=100, max_iter=500, penalty=l1, solver=saga ....................\n"
     ]
    },
    {
     "name": "stderr",
     "output_type": "stream",
     "text": [
      "C:\\Users\\hanie\\anaconda3\\lib\\site-packages\\sklearn\\linear_model\\_sag.py:329: ConvergenceWarning: The max_iter was reached which means the coef_ did not converge\n",
      "  warnings.warn(\"The max_iter was reached which means \"\n"
     ]
    },
    {
     "name": "stdout",
     "output_type": "stream",
     "text": [
      "[CV]  C=100, max_iter=500, penalty=l1, solver=saga, score=0.823, total=   0.6s\n",
      "[CV] C=100, max_iter=500, penalty=l2, solver=newton-cg ...............\n",
      "[CV]  C=100, max_iter=500, penalty=l2, solver=newton-cg, score=0.845, total=   0.1s\n",
      "[CV] C=100, max_iter=500, penalty=l2, solver=newton-cg ...............\n",
      "[CV]  C=100, max_iter=500, penalty=l2, solver=newton-cg, score=0.840, total=   0.1s\n",
      "[CV] C=100, max_iter=500, penalty=l2, solver=newton-cg ...............\n",
      "[CV]  C=100, max_iter=500, penalty=l2, solver=newton-cg, score=0.858, total=   0.1s\n",
      "[CV] C=100, max_iter=500, penalty=l2, solver=newton-cg ...............\n",
      "[CV]  C=100, max_iter=500, penalty=l2, solver=newton-cg, score=0.826, total=   0.1s\n",
      "[CV] C=100, max_iter=500, penalty=l2, solver=newton-cg ...............\n",
      "[CV]  C=100, max_iter=500, penalty=l2, solver=newton-cg, score=0.821, total=   0.1s\n",
      "[CV] C=100, max_iter=500, penalty=l2, solver=lbfgs ...................\n",
      "[CV]  C=100, max_iter=500, penalty=l2, solver=lbfgs, score=0.845, total=   0.1s\n",
      "[CV] C=100, max_iter=500, penalty=l2, solver=lbfgs ...................\n",
      "[CV]  C=100, max_iter=500, penalty=l2, solver=lbfgs, score=0.840, total=   0.1s\n",
      "[CV] C=100, max_iter=500, penalty=l2, solver=lbfgs ...................\n",
      "[CV]  C=100, max_iter=500, penalty=l2, solver=lbfgs, score=0.858, total=   0.1s\n",
      "[CV] C=100, max_iter=500, penalty=l2, solver=lbfgs ...................\n",
      "[CV]  C=100, max_iter=500, penalty=l2, solver=lbfgs, score=0.826, total=   0.1s\n",
      "[CV] C=100, max_iter=500, penalty=l2, solver=lbfgs ...................\n",
      "[CV]  C=100, max_iter=500, penalty=l2, solver=lbfgs, score=0.821, total=   0.1s\n",
      "[CV] C=100, max_iter=500, penalty=l2, solver=liblinear ...............\n",
      "[CV]  C=100, max_iter=500, penalty=l2, solver=liblinear, score=0.847, total=   0.0s\n",
      "[CV] C=100, max_iter=500, penalty=l2, solver=liblinear ...............\n",
      "[CV]  C=100, max_iter=500, penalty=l2, solver=liblinear, score=0.840, total=   0.0s\n",
      "[CV] C=100, max_iter=500, penalty=l2, solver=liblinear ...............\n",
      "[CV]  C=100, max_iter=500, penalty=l2, solver=liblinear, score=0.859, total=   0.0s\n",
      "[CV] C=100, max_iter=500, penalty=l2, solver=liblinear ...............\n",
      "[CV]  C=100, max_iter=500, penalty=l2, solver=liblinear, score=0.826, total=   0.0s\n",
      "[CV] C=100, max_iter=500, penalty=l2, solver=liblinear ...............\n",
      "[CV]  C=100, max_iter=500, penalty=l2, solver=liblinear, score=0.821, total=   0.0s\n",
      "[CV] C=100, max_iter=500, penalty=l2, solver=sag .....................\n"
     ]
    },
    {
     "name": "stderr",
     "output_type": "stream",
     "text": [
      "C:\\Users\\hanie\\anaconda3\\lib\\site-packages\\sklearn\\linear_model\\_sag.py:329: ConvergenceWarning: The max_iter was reached which means the coef_ did not converge\n",
      "  warnings.warn(\"The max_iter was reached which means \"\n"
     ]
    },
    {
     "name": "stdout",
     "output_type": "stream",
     "text": [
      "[CV]  C=100, max_iter=500, penalty=l2, solver=sag, score=0.847, total=   0.4s\n",
      "[CV] C=100, max_iter=500, penalty=l2, solver=sag .....................\n"
     ]
    },
    {
     "name": "stderr",
     "output_type": "stream",
     "text": [
      "C:\\Users\\hanie\\anaconda3\\lib\\site-packages\\sklearn\\linear_model\\_sag.py:329: ConvergenceWarning: The max_iter was reached which means the coef_ did not converge\n",
      "  warnings.warn(\"The max_iter was reached which means \"\n"
     ]
    },
    {
     "name": "stdout",
     "output_type": "stream",
     "text": [
      "[CV]  C=100, max_iter=500, penalty=l2, solver=sag, score=0.841, total=   0.3s\n",
      "[CV] C=100, max_iter=500, penalty=l2, solver=sag .....................\n"
     ]
    },
    {
     "name": "stderr",
     "output_type": "stream",
     "text": [
      "C:\\Users\\hanie\\anaconda3\\lib\\site-packages\\sklearn\\linear_model\\_sag.py:329: ConvergenceWarning: The max_iter was reached which means the coef_ did not converge\n",
      "  warnings.warn(\"The max_iter was reached which means \"\n"
     ]
    },
    {
     "name": "stdout",
     "output_type": "stream",
     "text": [
      "[CV]  C=100, max_iter=500, penalty=l2, solver=sag, score=0.858, total=   0.3s\n",
      "[CV] C=100, max_iter=500, penalty=l2, solver=sag .....................\n"
     ]
    },
    {
     "name": "stderr",
     "output_type": "stream",
     "text": [
      "C:\\Users\\hanie\\anaconda3\\lib\\site-packages\\sklearn\\linear_model\\_sag.py:329: ConvergenceWarning: The max_iter was reached which means the coef_ did not converge\n",
      "  warnings.warn(\"The max_iter was reached which means \"\n"
     ]
    },
    {
     "name": "stdout",
     "output_type": "stream",
     "text": [
      "[CV]  C=100, max_iter=500, penalty=l2, solver=sag, score=0.826, total=   0.3s\n",
      "[CV] C=100, max_iter=500, penalty=l2, solver=sag .....................\n"
     ]
    },
    {
     "name": "stderr",
     "output_type": "stream",
     "text": [
      "C:\\Users\\hanie\\anaconda3\\lib\\site-packages\\sklearn\\linear_model\\_sag.py:329: ConvergenceWarning: The max_iter was reached which means the coef_ did not converge\n",
      "  warnings.warn(\"The max_iter was reached which means \"\n"
     ]
    },
    {
     "name": "stdout",
     "output_type": "stream",
     "text": [
      "[CV]  C=100, max_iter=500, penalty=l2, solver=sag, score=0.822, total=   0.3s\n",
      "[CV] C=100, max_iter=500, penalty=l2, solver=saga ....................\n"
     ]
    },
    {
     "name": "stderr",
     "output_type": "stream",
     "text": [
      "C:\\Users\\hanie\\anaconda3\\lib\\site-packages\\sklearn\\linear_model\\_sag.py:329: ConvergenceWarning: The max_iter was reached which means the coef_ did not converge\n",
      "  warnings.warn(\"The max_iter was reached which means \"\n"
     ]
    },
    {
     "name": "stdout",
     "output_type": "stream",
     "text": [
      "[CV]  C=100, max_iter=500, penalty=l2, solver=saga, score=0.846, total=   0.4s\n",
      "[CV] C=100, max_iter=500, penalty=l2, solver=saga ....................\n"
     ]
    },
    {
     "name": "stderr",
     "output_type": "stream",
     "text": [
      "C:\\Users\\hanie\\anaconda3\\lib\\site-packages\\sklearn\\linear_model\\_sag.py:329: ConvergenceWarning: The max_iter was reached which means the coef_ did not converge\n",
      "  warnings.warn(\"The max_iter was reached which means \"\n"
     ]
    },
    {
     "name": "stdout",
     "output_type": "stream",
     "text": [
      "[CV]  C=100, max_iter=500, penalty=l2, solver=saga, score=0.840, total=   0.4s\n",
      "[CV] C=100, max_iter=500, penalty=l2, solver=saga ....................\n"
     ]
    },
    {
     "name": "stderr",
     "output_type": "stream",
     "text": [
      "C:\\Users\\hanie\\anaconda3\\lib\\site-packages\\sklearn\\linear_model\\_sag.py:329: ConvergenceWarning: The max_iter was reached which means the coef_ did not converge\n",
      "  warnings.warn(\"The max_iter was reached which means \"\n"
     ]
    },
    {
     "name": "stdout",
     "output_type": "stream",
     "text": [
      "[CV]  C=100, max_iter=500, penalty=l2, solver=saga, score=0.858, total=   0.4s\n",
      "[CV] C=100, max_iter=500, penalty=l2, solver=saga ....................\n"
     ]
    },
    {
     "name": "stderr",
     "output_type": "stream",
     "text": [
      "C:\\Users\\hanie\\anaconda3\\lib\\site-packages\\sklearn\\linear_model\\_sag.py:329: ConvergenceWarning: The max_iter was reached which means the coef_ did not converge\n",
      "  warnings.warn(\"The max_iter was reached which means \"\n"
     ]
    },
    {
     "name": "stdout",
     "output_type": "stream",
     "text": [
      "[CV]  C=100, max_iter=500, penalty=l2, solver=saga, score=0.824, total=   0.4s\n",
      "[CV] C=100, max_iter=500, penalty=l2, solver=saga ....................\n"
     ]
    },
    {
     "name": "stderr",
     "output_type": "stream",
     "text": [
      "C:\\Users\\hanie\\anaconda3\\lib\\site-packages\\sklearn\\linear_model\\_sag.py:329: ConvergenceWarning: The max_iter was reached which means the coef_ did not converge\n",
      "  warnings.warn(\"The max_iter was reached which means \"\n",
      "C:\\Users\\hanie\\anaconda3\\lib\\site-packages\\sklearn\\model_selection\\_validation.py:548: FitFailedWarning: Estimator fit failed. The score on this train-test partition for these parameters will be set to nan. Details: \n",
      "Traceback (most recent call last):\n",
      "  File \"C:\\Users\\hanie\\anaconda3\\lib\\site-packages\\sklearn\\model_selection\\_validation.py\", line 531, in _fit_and_score\n",
      "    estimator.fit(X_train, y_train, **fit_params)\n",
      "  File \"C:\\Users\\hanie\\anaconda3\\lib\\site-packages\\sklearn\\linear_model\\_logistic.py\", line 1304, in fit\n",
      "    solver = _check_solver(self.solver, self.penalty, self.dual)\n",
      "  File \"C:\\Users\\hanie\\anaconda3\\lib\\site-packages\\sklearn\\linear_model\\_logistic.py\", line 442, in _check_solver\n",
      "    raise ValueError(\"Solver %s supports only 'l2' or 'none' penalties, \"\n",
      "ValueError: Solver newton-cg supports only 'l2' or 'none' penalties, got l1 penalty.\n",
      "\n",
      "  warnings.warn(\"Estimator fit failed. The score on this train-test\"\n",
      "C:\\Users\\hanie\\anaconda3\\lib\\site-packages\\sklearn\\model_selection\\_validation.py:548: FitFailedWarning: Estimator fit failed. The score on this train-test partition for these parameters will be set to nan. Details: \n",
      "Traceback (most recent call last):\n",
      "  File \"C:\\Users\\hanie\\anaconda3\\lib\\site-packages\\sklearn\\model_selection\\_validation.py\", line 531, in _fit_and_score\n",
      "    estimator.fit(X_train, y_train, **fit_params)\n",
      "  File \"C:\\Users\\hanie\\anaconda3\\lib\\site-packages\\sklearn\\linear_model\\_logistic.py\", line 1304, in fit\n",
      "    solver = _check_solver(self.solver, self.penalty, self.dual)\n",
      "  File \"C:\\Users\\hanie\\anaconda3\\lib\\site-packages\\sklearn\\linear_model\\_logistic.py\", line 442, in _check_solver\n",
      "    raise ValueError(\"Solver %s supports only 'l2' or 'none' penalties, \"\n",
      "ValueError: Solver lbfgs supports only 'l2' or 'none' penalties, got l1 penalty.\n",
      "\n",
      "  warnings.warn(\"Estimator fit failed. The score on this train-test\"\n"
     ]
    },
    {
     "name": "stdout",
     "output_type": "stream",
     "text": [
      "[CV]  C=100, max_iter=500, penalty=l2, solver=saga, score=0.822, total=   0.4s\n",
      "[CV] C=100, max_iter=600, penalty=l1, solver=newton-cg ...............\n",
      "[CV]  C=100, max_iter=600, penalty=l1, solver=newton-cg, score=nan, total=   0.0s\n",
      "[CV] C=100, max_iter=600, penalty=l1, solver=newton-cg ...............\n",
      "[CV]  C=100, max_iter=600, penalty=l1, solver=newton-cg, score=nan, total=   0.0s\n",
      "[CV] C=100, max_iter=600, penalty=l1, solver=newton-cg ...............\n",
      "[CV]  C=100, max_iter=600, penalty=l1, solver=newton-cg, score=nan, total=   0.0s\n",
      "[CV] C=100, max_iter=600, penalty=l1, solver=newton-cg ...............\n",
      "[CV]  C=100, max_iter=600, penalty=l1, solver=newton-cg, score=nan, total=   0.0s\n",
      "[CV] C=100, max_iter=600, penalty=l1, solver=newton-cg ...............\n",
      "[CV]  C=100, max_iter=600, penalty=l1, solver=newton-cg, score=nan, total=   0.0s\n",
      "[CV] C=100, max_iter=600, penalty=l1, solver=lbfgs ...................\n",
      "[CV]  C=100, max_iter=600, penalty=l1, solver=lbfgs, score=nan, total=   0.0s\n",
      "[CV] C=100, max_iter=600, penalty=l1, solver=lbfgs ...................\n",
      "[CV]  C=100, max_iter=600, penalty=l1, solver=lbfgs, score=nan, total=   0.0s\n",
      "[CV] C=100, max_iter=600, penalty=l1, solver=lbfgs ...................\n",
      "[CV]  C=100, max_iter=600, penalty=l1, solver=lbfgs, score=nan, total=   0.0s\n",
      "[CV] C=100, max_iter=600, penalty=l1, solver=lbfgs ...................\n",
      "[CV]  C=100, max_iter=600, penalty=l1, solver=lbfgs, score=nan, total=   0.0s\n",
      "[CV] C=100, max_iter=600, penalty=l1, solver=lbfgs ...................\n",
      "[CV]  C=100, max_iter=600, penalty=l1, solver=lbfgs, score=nan, total=   0.0s\n",
      "[CV] C=100, max_iter=600, penalty=l1, solver=liblinear ...............\n",
      "[CV]  C=100, max_iter=600, penalty=l1, solver=liblinear, score=0.859, total=   0.1s\n",
      "[CV] C=100, max_iter=600, penalty=l1, solver=liblinear ...............\n",
      "[CV]  C=100, max_iter=600, penalty=l1, solver=liblinear, score=0.854, total=   0.5s\n",
      "[CV] C=100, max_iter=600, penalty=l1, solver=liblinear ...............\n",
      "[CV]  C=100, max_iter=600, penalty=l1, solver=liblinear, score=0.867, total=   0.2s\n",
      "[CV] C=100, max_iter=600, penalty=l1, solver=liblinear ...............\n",
      "[CV]  C=100, max_iter=600, penalty=l1, solver=liblinear, score=0.840, total=   0.6s\n",
      "[CV] C=100, max_iter=600, penalty=l1, solver=liblinear ...............\n",
      "[CV]  C=100, max_iter=600, penalty=l1, solver=liblinear, score=0.839, total=   0.1s\n",
      "[CV] C=100, max_iter=600, penalty=l1, solver=sag .....................\n",
      "[CV]  C=100, max_iter=600, penalty=l1, solver=sag, score=nan, total=   0.0s\n",
      "[CV] C=100, max_iter=600, penalty=l1, solver=sag .....................\n",
      "[CV]  C=100, max_iter=600, penalty=l1, solver=sag, score=nan, total=   0.0s\n",
      "[CV] C=100, max_iter=600, penalty=l1, solver=sag .....................\n",
      "[CV]  C=100, max_iter=600, penalty=l1, solver=sag, score=nan, total=   0.0s\n",
      "[CV] C=100, max_iter=600, penalty=l1, solver=sag .....................\n",
      "[CV]  C=100, max_iter=600, penalty=l1, solver=sag, score=nan, total=   0.0s\n",
      "[CV] C=100, max_iter=600, penalty=l1, solver=sag .....................\n",
      "[CV]  C=100, max_iter=600, penalty=l1, solver=sag, score=nan, total=   0.0s\n",
      "[CV] C=100, max_iter=600, penalty=l1, solver=saga ....................\n"
     ]
    },
    {
     "name": "stderr",
     "output_type": "stream",
     "text": [
      "C:\\Users\\hanie\\anaconda3\\lib\\site-packages\\sklearn\\model_selection\\_validation.py:548: FitFailedWarning: Estimator fit failed. The score on this train-test partition for these parameters will be set to nan. Details: \n",
      "Traceback (most recent call last):\n",
      "  File \"C:\\Users\\hanie\\anaconda3\\lib\\site-packages\\sklearn\\model_selection\\_validation.py\", line 531, in _fit_and_score\n",
      "    estimator.fit(X_train, y_train, **fit_params)\n",
      "  File \"C:\\Users\\hanie\\anaconda3\\lib\\site-packages\\sklearn\\linear_model\\_logistic.py\", line 1304, in fit\n",
      "    solver = _check_solver(self.solver, self.penalty, self.dual)\n",
      "  File \"C:\\Users\\hanie\\anaconda3\\lib\\site-packages\\sklearn\\linear_model\\_logistic.py\", line 442, in _check_solver\n",
      "    raise ValueError(\"Solver %s supports only 'l2' or 'none' penalties, \"\n",
      "ValueError: Solver sag supports only 'l2' or 'none' penalties, got l1 penalty.\n",
      "\n",
      "  warnings.warn(\"Estimator fit failed. The score on this train-test\"\n",
      "C:\\Users\\hanie\\anaconda3\\lib\\site-packages\\sklearn\\linear_model\\_sag.py:329: ConvergenceWarning: The max_iter was reached which means the coef_ did not converge\n",
      "  warnings.warn(\"The max_iter was reached which means \"\n"
     ]
    },
    {
     "name": "stdout",
     "output_type": "stream",
     "text": [
      "[CV]  C=100, max_iter=600, penalty=l1, solver=saga, score=0.843, total=   0.5s\n",
      "[CV] C=100, max_iter=600, penalty=l1, solver=saga ....................\n"
     ]
    },
    {
     "name": "stderr",
     "output_type": "stream",
     "text": [
      "C:\\Users\\hanie\\anaconda3\\lib\\site-packages\\sklearn\\linear_model\\_sag.py:329: ConvergenceWarning: The max_iter was reached which means the coef_ did not converge\n",
      "  warnings.warn(\"The max_iter was reached which means \"\n"
     ]
    },
    {
     "name": "stdout",
     "output_type": "stream",
     "text": [
      "[CV]  C=100, max_iter=600, penalty=l1, solver=saga, score=0.842, total=   0.5s\n",
      "[CV] C=100, max_iter=600, penalty=l1, solver=saga ....................\n"
     ]
    },
    {
     "name": "stderr",
     "output_type": "stream",
     "text": [
      "C:\\Users\\hanie\\anaconda3\\lib\\site-packages\\sklearn\\linear_model\\_sag.py:329: ConvergenceWarning: The max_iter was reached which means the coef_ did not converge\n",
      "  warnings.warn(\"The max_iter was reached which means \"\n"
     ]
    },
    {
     "name": "stdout",
     "output_type": "stream",
     "text": [
      "[CV]  C=100, max_iter=600, penalty=l1, solver=saga, score=0.862, total=   0.5s\n",
      "[CV] C=100, max_iter=600, penalty=l1, solver=saga ....................\n"
     ]
    },
    {
     "name": "stderr",
     "output_type": "stream",
     "text": [
      "C:\\Users\\hanie\\anaconda3\\lib\\site-packages\\sklearn\\linear_model\\_sag.py:329: ConvergenceWarning: The max_iter was reached which means the coef_ did not converge\n",
      "  warnings.warn(\"The max_iter was reached which means \"\n"
     ]
    },
    {
     "name": "stdout",
     "output_type": "stream",
     "text": [
      "[CV]  C=100, max_iter=600, penalty=l1, solver=saga, score=0.831, total=   0.5s\n",
      "[CV] C=100, max_iter=600, penalty=l1, solver=saga ....................\n"
     ]
    },
    {
     "name": "stderr",
     "output_type": "stream",
     "text": [
      "C:\\Users\\hanie\\anaconda3\\lib\\site-packages\\sklearn\\linear_model\\_sag.py:329: ConvergenceWarning: The max_iter was reached which means the coef_ did not converge\n",
      "  warnings.warn(\"The max_iter was reached which means \"\n"
     ]
    },
    {
     "name": "stdout",
     "output_type": "stream",
     "text": [
      "[CV]  C=100, max_iter=600, penalty=l1, solver=saga, score=0.823, total=   0.5s\n",
      "[CV] C=100, max_iter=600, penalty=l2, solver=newton-cg ...............\n",
      "[CV]  C=100, max_iter=600, penalty=l2, solver=newton-cg, score=0.845, total=   0.1s\n",
      "[CV] C=100, max_iter=600, penalty=l2, solver=newton-cg ...............\n",
      "[CV]  C=100, max_iter=600, penalty=l2, solver=newton-cg, score=0.840, total=   0.1s\n",
      "[CV] C=100, max_iter=600, penalty=l2, solver=newton-cg ...............\n",
      "[CV]  C=100, max_iter=600, penalty=l2, solver=newton-cg, score=0.858, total=   0.1s\n",
      "[CV] C=100, max_iter=600, penalty=l2, solver=newton-cg ...............\n",
      "[CV]  C=100, max_iter=600, penalty=l2, solver=newton-cg, score=0.826, total=   0.1s\n",
      "[CV] C=100, max_iter=600, penalty=l2, solver=newton-cg ...............\n",
      "[CV]  C=100, max_iter=600, penalty=l2, solver=newton-cg, score=0.821, total=   0.1s\n",
      "[CV] C=100, max_iter=600, penalty=l2, solver=lbfgs ...................\n",
      "[CV]  C=100, max_iter=600, penalty=l2, solver=lbfgs, score=0.845, total=   0.1s\n",
      "[CV] C=100, max_iter=600, penalty=l2, solver=lbfgs ...................\n",
      "[CV]  C=100, max_iter=600, penalty=l2, solver=lbfgs, score=0.840, total=   0.1s\n",
      "[CV] C=100, max_iter=600, penalty=l2, solver=lbfgs ...................\n",
      "[CV]  C=100, max_iter=600, penalty=l2, solver=lbfgs, score=0.858, total=   0.1s\n",
      "[CV] C=100, max_iter=600, penalty=l2, solver=lbfgs ...................\n",
      "[CV]  C=100, max_iter=600, penalty=l2, solver=lbfgs, score=0.826, total=   0.1s\n",
      "[CV] C=100, max_iter=600, penalty=l2, solver=lbfgs ...................\n",
      "[CV]  C=100, max_iter=600, penalty=l2, solver=lbfgs, score=0.821, total=   0.1s\n",
      "[CV] C=100, max_iter=600, penalty=l2, solver=liblinear ...............\n",
      "[CV]  C=100, max_iter=600, penalty=l2, solver=liblinear, score=0.847, total=   0.0s\n",
      "[CV] C=100, max_iter=600, penalty=l2, solver=liblinear ...............\n",
      "[CV]  C=100, max_iter=600, penalty=l2, solver=liblinear, score=0.840, total=   0.0s\n",
      "[CV] C=100, max_iter=600, penalty=l2, solver=liblinear ...............\n",
      "[CV]  C=100, max_iter=600, penalty=l2, solver=liblinear, score=0.859, total=   0.0s\n",
      "[CV] C=100, max_iter=600, penalty=l2, solver=liblinear ...............\n",
      "[CV]  C=100, max_iter=600, penalty=l2, solver=liblinear, score=0.826, total=   0.0s\n",
      "[CV] C=100, max_iter=600, penalty=l2, solver=liblinear ...............\n",
      "[CV]  C=100, max_iter=600, penalty=l2, solver=liblinear, score=0.821, total=   0.0s\n",
      "[CV] C=100, max_iter=600, penalty=l2, solver=sag .....................\n"
     ]
    },
    {
     "name": "stderr",
     "output_type": "stream",
     "text": [
      "C:\\Users\\hanie\\anaconda3\\lib\\site-packages\\sklearn\\linear_model\\_sag.py:329: ConvergenceWarning: The max_iter was reached which means the coef_ did not converge\n",
      "  warnings.warn(\"The max_iter was reached which means \"\n"
     ]
    },
    {
     "name": "stdout",
     "output_type": "stream",
     "text": [
      "[CV]  C=100, max_iter=600, penalty=l2, solver=sag, score=0.847, total=   0.5s\n",
      "[CV] C=100, max_iter=600, penalty=l2, solver=sag .....................\n"
     ]
    },
    {
     "name": "stderr",
     "output_type": "stream",
     "text": [
      "C:\\Users\\hanie\\anaconda3\\lib\\site-packages\\sklearn\\linear_model\\_sag.py:329: ConvergenceWarning: The max_iter was reached which means the coef_ did not converge\n",
      "  warnings.warn(\"The max_iter was reached which means \"\n"
     ]
    },
    {
     "name": "stdout",
     "output_type": "stream",
     "text": [
      "[CV]  C=100, max_iter=600, penalty=l2, solver=sag, score=0.840, total=   0.4s\n",
      "[CV] C=100, max_iter=600, penalty=l2, solver=sag .....................\n"
     ]
    },
    {
     "name": "stderr",
     "output_type": "stream",
     "text": [
      "C:\\Users\\hanie\\anaconda3\\lib\\site-packages\\sklearn\\linear_model\\_sag.py:329: ConvergenceWarning: The max_iter was reached which means the coef_ did not converge\n",
      "  warnings.warn(\"The max_iter was reached which means \"\n"
     ]
    },
    {
     "name": "stdout",
     "output_type": "stream",
     "text": [
      "[CV]  C=100, max_iter=600, penalty=l2, solver=sag, score=0.858, total=   0.4s\n",
      "[CV] C=100, max_iter=600, penalty=l2, solver=sag .....................\n"
     ]
    },
    {
     "name": "stderr",
     "output_type": "stream",
     "text": [
      "C:\\Users\\hanie\\anaconda3\\lib\\site-packages\\sklearn\\linear_model\\_sag.py:329: ConvergenceWarning: The max_iter was reached which means the coef_ did not converge\n",
      "  warnings.warn(\"The max_iter was reached which means \"\n"
     ]
    },
    {
     "name": "stdout",
     "output_type": "stream",
     "text": [
      "[CV]  C=100, max_iter=600, penalty=l2, solver=sag, score=0.826, total=   0.4s\n",
      "[CV] C=100, max_iter=600, penalty=l2, solver=sag .....................\n"
     ]
    },
    {
     "name": "stderr",
     "output_type": "stream",
     "text": [
      "C:\\Users\\hanie\\anaconda3\\lib\\site-packages\\sklearn\\linear_model\\_sag.py:329: ConvergenceWarning: The max_iter was reached which means the coef_ did not converge\n",
      "  warnings.warn(\"The max_iter was reached which means \"\n"
     ]
    },
    {
     "name": "stdout",
     "output_type": "stream",
     "text": [
      "[CV]  C=100, max_iter=600, penalty=l2, solver=sag, score=0.822, total=   0.4s\n",
      "[CV] C=100, max_iter=600, penalty=l2, solver=saga ....................\n"
     ]
    },
    {
     "name": "stderr",
     "output_type": "stream",
     "text": [
      "C:\\Users\\hanie\\anaconda3\\lib\\site-packages\\sklearn\\linear_model\\_sag.py:329: ConvergenceWarning: The max_iter was reached which means the coef_ did not converge\n",
      "  warnings.warn(\"The max_iter was reached which means \"\n"
     ]
    },
    {
     "name": "stdout",
     "output_type": "stream",
     "text": [
      "[CV]  C=100, max_iter=600, penalty=l2, solver=saga, score=0.846, total=   0.4s\n",
      "[CV] C=100, max_iter=600, penalty=l2, solver=saga ....................\n"
     ]
    },
    {
     "name": "stderr",
     "output_type": "stream",
     "text": [
      "C:\\Users\\hanie\\anaconda3\\lib\\site-packages\\sklearn\\linear_model\\_sag.py:329: ConvergenceWarning: The max_iter was reached which means the coef_ did not converge\n",
      "  warnings.warn(\"The max_iter was reached which means \"\n"
     ]
    },
    {
     "name": "stdout",
     "output_type": "stream",
     "text": [
      "[CV]  C=100, max_iter=600, penalty=l2, solver=saga, score=0.839, total=   0.4s\n",
      "[CV] C=100, max_iter=600, penalty=l2, solver=saga ....................\n"
     ]
    },
    {
     "name": "stderr",
     "output_type": "stream",
     "text": [
      "C:\\Users\\hanie\\anaconda3\\lib\\site-packages\\sklearn\\linear_model\\_sag.py:329: ConvergenceWarning: The max_iter was reached which means the coef_ did not converge\n",
      "  warnings.warn(\"The max_iter was reached which means \"\n"
     ]
    },
    {
     "name": "stdout",
     "output_type": "stream",
     "text": [
      "[CV]  C=100, max_iter=600, penalty=l2, solver=saga, score=0.857, total=   0.4s\n",
      "[CV] C=100, max_iter=600, penalty=l2, solver=saga ....................\n"
     ]
    },
    {
     "name": "stderr",
     "output_type": "stream",
     "text": [
      "C:\\Users\\hanie\\anaconda3\\lib\\site-packages\\sklearn\\linear_model\\_sag.py:329: ConvergenceWarning: The max_iter was reached which means the coef_ did not converge\n",
      "  warnings.warn(\"The max_iter was reached which means \"\n"
     ]
    },
    {
     "name": "stdout",
     "output_type": "stream",
     "text": [
      "[CV]  C=100, max_iter=600, penalty=l2, solver=saga, score=0.824, total=   0.4s\n",
      "[CV] C=100, max_iter=600, penalty=l2, solver=saga ....................\n"
     ]
    },
    {
     "name": "stderr",
     "output_type": "stream",
     "text": [
      "C:\\Users\\hanie\\anaconda3\\lib\\site-packages\\sklearn\\linear_model\\_sag.py:329: ConvergenceWarning: The max_iter was reached which means the coef_ did not converge\n",
      "  warnings.warn(\"The max_iter was reached which means \"\n",
      "C:\\Users\\hanie\\anaconda3\\lib\\site-packages\\sklearn\\model_selection\\_validation.py:548: FitFailedWarning: Estimator fit failed. The score on this train-test partition for these parameters will be set to nan. Details: \n",
      "Traceback (most recent call last):\n",
      "  File \"C:\\Users\\hanie\\anaconda3\\lib\\site-packages\\sklearn\\model_selection\\_validation.py\", line 531, in _fit_and_score\n",
      "    estimator.fit(X_train, y_train, **fit_params)\n",
      "  File \"C:\\Users\\hanie\\anaconda3\\lib\\site-packages\\sklearn\\linear_model\\_logistic.py\", line 1304, in fit\n",
      "    solver = _check_solver(self.solver, self.penalty, self.dual)\n",
      "  File \"C:\\Users\\hanie\\anaconda3\\lib\\site-packages\\sklearn\\linear_model\\_logistic.py\", line 442, in _check_solver\n",
      "    raise ValueError(\"Solver %s supports only 'l2' or 'none' penalties, \"\n",
      "ValueError: Solver newton-cg supports only 'l2' or 'none' penalties, got l1 penalty.\n",
      "\n",
      "  warnings.warn(\"Estimator fit failed. The score on this train-test\"\n",
      "C:\\Users\\hanie\\anaconda3\\lib\\site-packages\\sklearn\\model_selection\\_validation.py:548: FitFailedWarning: Estimator fit failed. The score on this train-test partition for these parameters will be set to nan. Details: \n",
      "Traceback (most recent call last):\n",
      "  File \"C:\\Users\\hanie\\anaconda3\\lib\\site-packages\\sklearn\\model_selection\\_validation.py\", line 531, in _fit_and_score\n",
      "    estimator.fit(X_train, y_train, **fit_params)\n",
      "  File \"C:\\Users\\hanie\\anaconda3\\lib\\site-packages\\sklearn\\linear_model\\_logistic.py\", line 1304, in fit\n",
      "    solver = _check_solver(self.solver, self.penalty, self.dual)\n",
      "  File \"C:\\Users\\hanie\\anaconda3\\lib\\site-packages\\sklearn\\linear_model\\_logistic.py\", line 442, in _check_solver\n",
      "    raise ValueError(\"Solver %s supports only 'l2' or 'none' penalties, \"\n",
      "ValueError: Solver lbfgs supports only 'l2' or 'none' penalties, got l1 penalty.\n",
      "\n",
      "  warnings.warn(\"Estimator fit failed. The score on this train-test\"\n"
     ]
    },
    {
     "name": "stdout",
     "output_type": "stream",
     "text": [
      "[CV]  C=100, max_iter=600, penalty=l2, solver=saga, score=0.822, total=   0.4s\n",
      "[CV] C=100, max_iter=700, penalty=l1, solver=newton-cg ...............\n",
      "[CV]  C=100, max_iter=700, penalty=l1, solver=newton-cg, score=nan, total=   0.0s\n",
      "[CV] C=100, max_iter=700, penalty=l1, solver=newton-cg ...............\n",
      "[CV]  C=100, max_iter=700, penalty=l1, solver=newton-cg, score=nan, total=   0.0s\n",
      "[CV] C=100, max_iter=700, penalty=l1, solver=newton-cg ...............\n",
      "[CV]  C=100, max_iter=700, penalty=l1, solver=newton-cg, score=nan, total=   0.0s\n",
      "[CV] C=100, max_iter=700, penalty=l1, solver=newton-cg ...............\n",
      "[CV]  C=100, max_iter=700, penalty=l1, solver=newton-cg, score=nan, total=   0.0s\n",
      "[CV] C=100, max_iter=700, penalty=l1, solver=newton-cg ...............\n",
      "[CV]  C=100, max_iter=700, penalty=l1, solver=newton-cg, score=nan, total=   0.0s\n",
      "[CV] C=100, max_iter=700, penalty=l1, solver=lbfgs ...................\n",
      "[CV]  C=100, max_iter=700, penalty=l1, solver=lbfgs, score=nan, total=   0.0s\n",
      "[CV] C=100, max_iter=700, penalty=l1, solver=lbfgs ...................\n",
      "[CV]  C=100, max_iter=700, penalty=l1, solver=lbfgs, score=nan, total=   0.0s\n",
      "[CV] C=100, max_iter=700, penalty=l1, solver=lbfgs ...................\n",
      "[CV]  C=100, max_iter=700, penalty=l1, solver=lbfgs, score=nan, total=   0.0s\n",
      "[CV] C=100, max_iter=700, penalty=l1, solver=lbfgs ...................\n",
      "[CV]  C=100, max_iter=700, penalty=l1, solver=lbfgs, score=nan, total=   0.0s\n",
      "[CV] C=100, max_iter=700, penalty=l1, solver=lbfgs ...................\n",
      "[CV]  C=100, max_iter=700, penalty=l1, solver=lbfgs, score=nan, total=   0.0s\n",
      "[CV] C=100, max_iter=700, penalty=l1, solver=liblinear ...............\n",
      "[CV]  C=100, max_iter=700, penalty=l1, solver=liblinear, score=0.859, total=   0.1s\n",
      "[CV] C=100, max_iter=700, penalty=l1, solver=liblinear ...............\n",
      "[CV]  C=100, max_iter=700, penalty=l1, solver=liblinear, score=0.854, total=   0.5s\n",
      "[CV] C=100, max_iter=700, penalty=l1, solver=liblinear ...............\n",
      "[CV]  C=100, max_iter=700, penalty=l1, solver=liblinear, score=0.867, total=   0.3s\n",
      "[CV] C=100, max_iter=700, penalty=l1, solver=liblinear ...............\n",
      "[CV]  C=100, max_iter=700, penalty=l1, solver=liblinear, score=0.840, total=   0.4s\n",
      "[CV] C=100, max_iter=700, penalty=l1, solver=liblinear ...............\n",
      "[CV]  C=100, max_iter=700, penalty=l1, solver=liblinear, score=0.838, total=   0.2s\n",
      "[CV] C=100, max_iter=700, penalty=l1, solver=sag .....................\n",
      "[CV]  C=100, max_iter=700, penalty=l1, solver=sag, score=nan, total=   0.0s\n",
      "[CV] C=100, max_iter=700, penalty=l1, solver=sag .....................\n",
      "[CV]  C=100, max_iter=700, penalty=l1, solver=sag, score=nan, total=   0.0s\n",
      "[CV] C=100, max_iter=700, penalty=l1, solver=sag .....................\n",
      "[CV]  C=100, max_iter=700, penalty=l1, solver=sag, score=nan, total=   0.0s\n",
      "[CV] C=100, max_iter=700, penalty=l1, solver=sag .....................\n",
      "[CV]  C=100, max_iter=700, penalty=l1, solver=sag, score=nan, total=   0.0s\n",
      "[CV] C=100, max_iter=700, penalty=l1, solver=sag .....................\n",
      "[CV]  C=100, max_iter=700, penalty=l1, solver=sag, score=nan, total=   0.0s\n",
      "[CV] C=100, max_iter=700, penalty=l1, solver=saga ....................\n"
     ]
    },
    {
     "name": "stderr",
     "output_type": "stream",
     "text": [
      "C:\\Users\\hanie\\anaconda3\\lib\\site-packages\\sklearn\\model_selection\\_validation.py:548: FitFailedWarning: Estimator fit failed. The score on this train-test partition for these parameters will be set to nan. Details: \n",
      "Traceback (most recent call last):\n",
      "  File \"C:\\Users\\hanie\\anaconda3\\lib\\site-packages\\sklearn\\model_selection\\_validation.py\", line 531, in _fit_and_score\n",
      "    estimator.fit(X_train, y_train, **fit_params)\n",
      "  File \"C:\\Users\\hanie\\anaconda3\\lib\\site-packages\\sklearn\\linear_model\\_logistic.py\", line 1304, in fit\n",
      "    solver = _check_solver(self.solver, self.penalty, self.dual)\n",
      "  File \"C:\\Users\\hanie\\anaconda3\\lib\\site-packages\\sklearn\\linear_model\\_logistic.py\", line 442, in _check_solver\n",
      "    raise ValueError(\"Solver %s supports only 'l2' or 'none' penalties, \"\n",
      "ValueError: Solver sag supports only 'l2' or 'none' penalties, got l1 penalty.\n",
      "\n",
      "  warnings.warn(\"Estimator fit failed. The score on this train-test\"\n",
      "C:\\Users\\hanie\\anaconda3\\lib\\site-packages\\sklearn\\linear_model\\_sag.py:329: ConvergenceWarning: The max_iter was reached which means the coef_ did not converge\n",
      "  warnings.warn(\"The max_iter was reached which means \"\n"
     ]
    },
    {
     "name": "stdout",
     "output_type": "stream",
     "text": [
      "[CV]  C=100, max_iter=700, penalty=l1, solver=saga, score=0.843, total=   0.7s\n",
      "[CV] C=100, max_iter=700, penalty=l1, solver=saga ....................\n"
     ]
    },
    {
     "name": "stderr",
     "output_type": "stream",
     "text": [
      "C:\\Users\\hanie\\anaconda3\\lib\\site-packages\\sklearn\\linear_model\\_sag.py:329: ConvergenceWarning: The max_iter was reached which means the coef_ did not converge\n",
      "  warnings.warn(\"The max_iter was reached which means \"\n"
     ]
    },
    {
     "name": "stdout",
     "output_type": "stream",
     "text": [
      "[CV]  C=100, max_iter=700, penalty=l1, solver=saga, score=0.842, total=   0.7s\n",
      "[CV] C=100, max_iter=700, penalty=l1, solver=saga ....................\n"
     ]
    },
    {
     "name": "stderr",
     "output_type": "stream",
     "text": [
      "C:\\Users\\hanie\\anaconda3\\lib\\site-packages\\sklearn\\linear_model\\_sag.py:329: ConvergenceWarning: The max_iter was reached which means the coef_ did not converge\n",
      "  warnings.warn(\"The max_iter was reached which means \"\n"
     ]
    },
    {
     "name": "stdout",
     "output_type": "stream",
     "text": [
      "[CV]  C=100, max_iter=700, penalty=l1, solver=saga, score=0.863, total=   0.6s\n",
      "[CV] C=100, max_iter=700, penalty=l1, solver=saga ....................\n"
     ]
    },
    {
     "name": "stderr",
     "output_type": "stream",
     "text": [
      "C:\\Users\\hanie\\anaconda3\\lib\\site-packages\\sklearn\\linear_model\\_sag.py:329: ConvergenceWarning: The max_iter was reached which means the coef_ did not converge\n",
      "  warnings.warn(\"The max_iter was reached which means \"\n"
     ]
    },
    {
     "name": "stdout",
     "output_type": "stream",
     "text": [
      "[CV]  C=100, max_iter=700, penalty=l1, solver=saga, score=0.831, total=   0.6s\n",
      "[CV] C=100, max_iter=700, penalty=l1, solver=saga ....................\n"
     ]
    },
    {
     "name": "stderr",
     "output_type": "stream",
     "text": [
      "C:\\Users\\hanie\\anaconda3\\lib\\site-packages\\sklearn\\linear_model\\_sag.py:329: ConvergenceWarning: The max_iter was reached which means the coef_ did not converge\n",
      "  warnings.warn(\"The max_iter was reached which means \"\n"
     ]
    },
    {
     "name": "stdout",
     "output_type": "stream",
     "text": [
      "[CV]  C=100, max_iter=700, penalty=l1, solver=saga, score=0.823, total=   0.7s\n",
      "[CV] C=100, max_iter=700, penalty=l2, solver=newton-cg ...............\n",
      "[CV]  C=100, max_iter=700, penalty=l2, solver=newton-cg, score=0.845, total=   0.1s\n",
      "[CV] C=100, max_iter=700, penalty=l2, solver=newton-cg ...............\n",
      "[CV]  C=100, max_iter=700, penalty=l2, solver=newton-cg, score=0.840, total=   0.1s\n",
      "[CV] C=100, max_iter=700, penalty=l2, solver=newton-cg ...............\n",
      "[CV]  C=100, max_iter=700, penalty=l2, solver=newton-cg, score=0.858, total=   0.1s\n",
      "[CV] C=100, max_iter=700, penalty=l2, solver=newton-cg ...............\n",
      "[CV]  C=100, max_iter=700, penalty=l2, solver=newton-cg, score=0.826, total=   0.1s\n",
      "[CV] C=100, max_iter=700, penalty=l2, solver=newton-cg ...............\n",
      "[CV]  C=100, max_iter=700, penalty=l2, solver=newton-cg, score=0.821, total=   0.1s\n",
      "[CV] C=100, max_iter=700, penalty=l2, solver=lbfgs ...................\n",
      "[CV]  C=100, max_iter=700, penalty=l2, solver=lbfgs, score=0.845, total=   0.1s\n",
      "[CV] C=100, max_iter=700, penalty=l2, solver=lbfgs ...................\n",
      "[CV]  C=100, max_iter=700, penalty=l2, solver=lbfgs, score=0.840, total=   0.1s\n",
      "[CV] C=100, max_iter=700, penalty=l2, solver=lbfgs ...................\n",
      "[CV]  C=100, max_iter=700, penalty=l2, solver=lbfgs, score=0.858, total=   0.1s\n",
      "[CV] C=100, max_iter=700, penalty=l2, solver=lbfgs ...................\n",
      "[CV]  C=100, max_iter=700, penalty=l2, solver=lbfgs, score=0.826, total=   0.1s\n",
      "[CV] C=100, max_iter=700, penalty=l2, solver=lbfgs ...................\n",
      "[CV]  C=100, max_iter=700, penalty=l2, solver=lbfgs, score=0.821, total=   0.1s\n",
      "[CV] C=100, max_iter=700, penalty=l2, solver=liblinear ...............\n",
      "[CV]  C=100, max_iter=700, penalty=l2, solver=liblinear, score=0.847, total=   0.0s\n",
      "[CV] C=100, max_iter=700, penalty=l2, solver=liblinear ...............\n",
      "[CV]  C=100, max_iter=700, penalty=l2, solver=liblinear, score=0.840, total=   0.0s\n",
      "[CV] C=100, max_iter=700, penalty=l2, solver=liblinear ...............\n",
      "[CV]  C=100, max_iter=700, penalty=l2, solver=liblinear, score=0.859, total=   0.0s\n",
      "[CV] C=100, max_iter=700, penalty=l2, solver=liblinear ...............\n",
      "[CV]  C=100, max_iter=700, penalty=l2, solver=liblinear, score=0.826, total=   0.0s\n",
      "[CV] C=100, max_iter=700, penalty=l2, solver=liblinear ...............\n",
      "[CV]  C=100, max_iter=700, penalty=l2, solver=liblinear, score=0.821, total=   0.0s\n",
      "[CV] C=100, max_iter=700, penalty=l2, solver=sag .....................\n",
      "[CV]  C=100, max_iter=700, penalty=l2, solver=sag, score=0.847, total=   0.5s\n",
      "[CV] C=100, max_iter=700, penalty=l2, solver=sag .....................\n",
      "[CV]  C=100, max_iter=700, penalty=l2, solver=sag, score=0.840, total=   0.4s\n",
      "[CV] C=100, max_iter=700, penalty=l2, solver=sag .....................\n",
      "[CV]  C=100, max_iter=700, penalty=l2, solver=sag, score=0.858, total=   0.4s\n",
      "[CV] C=100, max_iter=700, penalty=l2, solver=sag .....................\n"
     ]
    },
    {
     "name": "stderr",
     "output_type": "stream",
     "text": [
      "C:\\Users\\hanie\\anaconda3\\lib\\site-packages\\sklearn\\linear_model\\_sag.py:329: ConvergenceWarning: The max_iter was reached which means the coef_ did not converge\n",
      "  warnings.warn(\"The max_iter was reached which means \"\n"
     ]
    },
    {
     "name": "stdout",
     "output_type": "stream",
     "text": [
      "[CV]  C=100, max_iter=700, penalty=l2, solver=sag, score=0.826, total=   0.4s\n",
      "[CV] C=100, max_iter=700, penalty=l2, solver=sag .....................\n"
     ]
    },
    {
     "name": "stderr",
     "output_type": "stream",
     "text": [
      "C:\\Users\\hanie\\anaconda3\\lib\\site-packages\\sklearn\\linear_model\\_sag.py:329: ConvergenceWarning: The max_iter was reached which means the coef_ did not converge\n",
      "  warnings.warn(\"The max_iter was reached which means \"\n"
     ]
    },
    {
     "name": "stdout",
     "output_type": "stream",
     "text": [
      "[CV]  C=100, max_iter=700, penalty=l2, solver=sag, score=0.821, total=   0.4s\n",
      "[CV] C=100, max_iter=700, penalty=l2, solver=saga ....................\n"
     ]
    },
    {
     "name": "stderr",
     "output_type": "stream",
     "text": [
      "C:\\Users\\hanie\\anaconda3\\lib\\site-packages\\sklearn\\linear_model\\_sag.py:329: ConvergenceWarning: The max_iter was reached which means the coef_ did not converge\n",
      "  warnings.warn(\"The max_iter was reached which means \"\n"
     ]
    },
    {
     "name": "stdout",
     "output_type": "stream",
     "text": [
      "[CV]  C=100, max_iter=700, penalty=l2, solver=saga, score=0.846, total=   0.5s\n",
      "[CV] C=100, max_iter=700, penalty=l2, solver=saga ....................\n"
     ]
    },
    {
     "name": "stderr",
     "output_type": "stream",
     "text": [
      "C:\\Users\\hanie\\anaconda3\\lib\\site-packages\\sklearn\\linear_model\\_sag.py:329: ConvergenceWarning: The max_iter was reached which means the coef_ did not converge\n",
      "  warnings.warn(\"The max_iter was reached which means \"\n"
     ]
    },
    {
     "name": "stdout",
     "output_type": "stream",
     "text": [
      "[CV]  C=100, max_iter=700, penalty=l2, solver=saga, score=0.840, total=   0.5s\n",
      "[CV] C=100, max_iter=700, penalty=l2, solver=saga ....................\n"
     ]
    },
    {
     "name": "stderr",
     "output_type": "stream",
     "text": [
      "C:\\Users\\hanie\\anaconda3\\lib\\site-packages\\sklearn\\linear_model\\_sag.py:329: ConvergenceWarning: The max_iter was reached which means the coef_ did not converge\n",
      "  warnings.warn(\"The max_iter was reached which means \"\n"
     ]
    },
    {
     "name": "stdout",
     "output_type": "stream",
     "text": [
      "[CV]  C=100, max_iter=700, penalty=l2, solver=saga, score=0.857, total=   0.5s\n",
      "[CV] C=100, max_iter=700, penalty=l2, solver=saga ....................\n"
     ]
    },
    {
     "name": "stderr",
     "output_type": "stream",
     "text": [
      "C:\\Users\\hanie\\anaconda3\\lib\\site-packages\\sklearn\\linear_model\\_sag.py:329: ConvergenceWarning: The max_iter was reached which means the coef_ did not converge\n",
      "  warnings.warn(\"The max_iter was reached which means \"\n"
     ]
    },
    {
     "name": "stdout",
     "output_type": "stream",
     "text": [
      "[CV]  C=100, max_iter=700, penalty=l2, solver=saga, score=0.824, total=   0.5s\n",
      "[CV] C=100, max_iter=700, penalty=l2, solver=saga ....................\n"
     ]
    },
    {
     "name": "stderr",
     "output_type": "stream",
     "text": [
      "C:\\Users\\hanie\\anaconda3\\lib\\site-packages\\sklearn\\linear_model\\_sag.py:329: ConvergenceWarning: The max_iter was reached which means the coef_ did not converge\n",
      "  warnings.warn(\"The max_iter was reached which means \"\n",
      "C:\\Users\\hanie\\anaconda3\\lib\\site-packages\\sklearn\\model_selection\\_validation.py:548: FitFailedWarning: Estimator fit failed. The score on this train-test partition for these parameters will be set to nan. Details: \n",
      "Traceback (most recent call last):\n",
      "  File \"C:\\Users\\hanie\\anaconda3\\lib\\site-packages\\sklearn\\model_selection\\_validation.py\", line 531, in _fit_and_score\n",
      "    estimator.fit(X_train, y_train, **fit_params)\n",
      "  File \"C:\\Users\\hanie\\anaconda3\\lib\\site-packages\\sklearn\\linear_model\\_logistic.py\", line 1304, in fit\n",
      "    solver = _check_solver(self.solver, self.penalty, self.dual)\n",
      "  File \"C:\\Users\\hanie\\anaconda3\\lib\\site-packages\\sklearn\\linear_model\\_logistic.py\", line 442, in _check_solver\n",
      "    raise ValueError(\"Solver %s supports only 'l2' or 'none' penalties, \"\n",
      "ValueError: Solver newton-cg supports only 'l2' or 'none' penalties, got l1 penalty.\n",
      "\n",
      "  warnings.warn(\"Estimator fit failed. The score on this train-test\"\n",
      "C:\\Users\\hanie\\anaconda3\\lib\\site-packages\\sklearn\\model_selection\\_validation.py:548: FitFailedWarning: Estimator fit failed. The score on this train-test partition for these parameters will be set to nan. Details: \n",
      "Traceback (most recent call last):\n",
      "  File \"C:\\Users\\hanie\\anaconda3\\lib\\site-packages\\sklearn\\model_selection\\_validation.py\", line 531, in _fit_and_score\n",
      "    estimator.fit(X_train, y_train, **fit_params)\n",
      "  File \"C:\\Users\\hanie\\anaconda3\\lib\\site-packages\\sklearn\\linear_model\\_logistic.py\", line 1304, in fit\n",
      "    solver = _check_solver(self.solver, self.penalty, self.dual)\n",
      "  File \"C:\\Users\\hanie\\anaconda3\\lib\\site-packages\\sklearn\\linear_model\\_logistic.py\", line 442, in _check_solver\n",
      "    raise ValueError(\"Solver %s supports only 'l2' or 'none' penalties, \"\n",
      "ValueError: Solver lbfgs supports only 'l2' or 'none' penalties, got l1 penalty.\n",
      "\n",
      "  warnings.warn(\"Estimator fit failed. The score on this train-test\"\n"
     ]
    },
    {
     "name": "stdout",
     "output_type": "stream",
     "text": [
      "[CV]  C=100, max_iter=700, penalty=l2, solver=saga, score=0.822, total=   0.5s\n",
      "[CV] C=1000, max_iter=100, penalty=l1, solver=newton-cg ..............\n",
      "[CV]  C=1000, max_iter=100, penalty=l1, solver=newton-cg, score=nan, total=   0.0s\n",
      "[CV] C=1000, max_iter=100, penalty=l1, solver=newton-cg ..............\n",
      "[CV]  C=1000, max_iter=100, penalty=l1, solver=newton-cg, score=nan, total=   0.0s\n",
      "[CV] C=1000, max_iter=100, penalty=l1, solver=newton-cg ..............\n",
      "[CV]  C=1000, max_iter=100, penalty=l1, solver=newton-cg, score=nan, total=   0.0s\n",
      "[CV] C=1000, max_iter=100, penalty=l1, solver=newton-cg ..............\n",
      "[CV]  C=1000, max_iter=100, penalty=l1, solver=newton-cg, score=nan, total=   0.0s\n",
      "[CV] C=1000, max_iter=100, penalty=l1, solver=newton-cg ..............\n",
      "[CV]  C=1000, max_iter=100, penalty=l1, solver=newton-cg, score=nan, total=   0.0s\n",
      "[CV] C=1000, max_iter=100, penalty=l1, solver=lbfgs ..................\n",
      "[CV]  C=1000, max_iter=100, penalty=l1, solver=lbfgs, score=nan, total=   0.0s\n",
      "[CV] C=1000, max_iter=100, penalty=l1, solver=lbfgs ..................\n",
      "[CV]  C=1000, max_iter=100, penalty=l1, solver=lbfgs, score=nan, total=   0.0s\n",
      "[CV] C=1000, max_iter=100, penalty=l1, solver=lbfgs ..................\n",
      "[CV]  C=1000, max_iter=100, penalty=l1, solver=lbfgs, score=nan, total=   0.0s\n",
      "[CV] C=1000, max_iter=100, penalty=l1, solver=lbfgs ..................\n",
      "[CV]  C=1000, max_iter=100, penalty=l1, solver=lbfgs, score=nan, total=   0.0s\n",
      "[CV] C=1000, max_iter=100, penalty=l1, solver=lbfgs ..................\n",
      "[CV]  C=1000, max_iter=100, penalty=l1, solver=lbfgs, score=nan, total=   0.0s\n",
      "[CV] C=1000, max_iter=100, penalty=l1, solver=liblinear ..............\n",
      "[CV]  C=1000, max_iter=100, penalty=l1, solver=liblinear, score=0.869, total=   1.1s\n",
      "[CV] C=1000, max_iter=100, penalty=l1, solver=liblinear ..............\n",
      "[CV]  C=1000, max_iter=100, penalty=l1, solver=liblinear, score=0.861, total=   0.6s\n",
      "[CV] C=1000, max_iter=100, penalty=l1, solver=liblinear ..............\n",
      "[CV]  C=1000, max_iter=100, penalty=l1, solver=liblinear, score=0.879, total=   0.6s\n",
      "[CV] C=1000, max_iter=100, penalty=l1, solver=liblinear ..............\n",
      "[CV]  C=1000, max_iter=100, penalty=l1, solver=liblinear, score=0.843, total=   0.7s\n",
      "[CV] C=1000, max_iter=100, penalty=l1, solver=liblinear ..............\n",
      "[CV]  C=1000, max_iter=100, penalty=l1, solver=liblinear, score=0.842, total=   1.7s\n",
      "[CV] C=1000, max_iter=100, penalty=l1, solver=sag ....................\n",
      "[CV]  C=1000, max_iter=100, penalty=l1, solver=sag, score=nan, total=   0.0s\n",
      "[CV] C=1000, max_iter=100, penalty=l1, solver=sag ....................\n",
      "[CV]  C=1000, max_iter=100, penalty=l1, solver=sag, score=nan, total=   0.0s\n",
      "[CV] C=1000, max_iter=100, penalty=l1, solver=sag ....................\n",
      "[CV]  C=1000, max_iter=100, penalty=l1, solver=sag, score=nan, total=   0.0s\n",
      "[CV] C=1000, max_iter=100, penalty=l1, solver=sag ....................\n",
      "[CV]  C=1000, max_iter=100, penalty=l1, solver=sag, score=nan, total=   0.0s\n",
      "[CV] C=1000, max_iter=100, penalty=l1, solver=sag ....................\n",
      "[CV]  C=1000, max_iter=100, penalty=l1, solver=sag, score=nan, total=   0.0s\n",
      "[CV] C=1000, max_iter=100, penalty=l1, solver=saga ...................\n",
      "[CV]  C=1000, max_iter=100, penalty=l1, solver=saga, score=0.846, total=   0.1s\n",
      "[CV] C=1000, max_iter=100, penalty=l1, solver=saga ...................\n"
     ]
    },
    {
     "name": "stderr",
     "output_type": "stream",
     "text": [
      "C:\\Users\\hanie\\anaconda3\\lib\\site-packages\\sklearn\\model_selection\\_validation.py:548: FitFailedWarning: Estimator fit failed. The score on this train-test partition for these parameters will be set to nan. Details: \n",
      "Traceback (most recent call last):\n",
      "  File \"C:\\Users\\hanie\\anaconda3\\lib\\site-packages\\sklearn\\model_selection\\_validation.py\", line 531, in _fit_and_score\n",
      "    estimator.fit(X_train, y_train, **fit_params)\n",
      "  File \"C:\\Users\\hanie\\anaconda3\\lib\\site-packages\\sklearn\\linear_model\\_logistic.py\", line 1304, in fit\n",
      "    solver = _check_solver(self.solver, self.penalty, self.dual)\n",
      "  File \"C:\\Users\\hanie\\anaconda3\\lib\\site-packages\\sklearn\\linear_model\\_logistic.py\", line 442, in _check_solver\n",
      "    raise ValueError(\"Solver %s supports only 'l2' or 'none' penalties, \"\n",
      "ValueError: Solver sag supports only 'l2' or 'none' penalties, got l1 penalty.\n",
      "\n",
      "  warnings.warn(\"Estimator fit failed. The score on this train-test\"\n",
      "C:\\Users\\hanie\\anaconda3\\lib\\site-packages\\sklearn\\linear_model\\_sag.py:329: ConvergenceWarning: The max_iter was reached which means the coef_ did not converge\n",
      "  warnings.warn(\"The max_iter was reached which means \"\n",
      "C:\\Users\\hanie\\anaconda3\\lib\\site-packages\\sklearn\\linear_model\\_sag.py:329: ConvergenceWarning: The max_iter was reached which means the coef_ did not converge\n",
      "  warnings.warn(\"The max_iter was reached which means \"\n"
     ]
    },
    {
     "name": "stdout",
     "output_type": "stream",
     "text": [
      "[CV]  C=1000, max_iter=100, penalty=l1, solver=saga, score=0.840, total=   0.1s\n",
      "[CV] C=1000, max_iter=100, penalty=l1, solver=saga ...................\n",
      "[CV]  C=1000, max_iter=100, penalty=l1, solver=saga, score=0.859, total=   0.1s\n",
      "[CV] C=1000, max_iter=100, penalty=l1, solver=saga ...................\n",
      "[CV]  C=1000, max_iter=100, penalty=l1, solver=saga, score=0.824, total=   0.1s\n",
      "[CV] C=1000, max_iter=100, penalty=l1, solver=saga ...................\n"
     ]
    },
    {
     "name": "stderr",
     "output_type": "stream",
     "text": [
      "C:\\Users\\hanie\\anaconda3\\lib\\site-packages\\sklearn\\linear_model\\_sag.py:329: ConvergenceWarning: The max_iter was reached which means the coef_ did not converge\n",
      "  warnings.warn(\"The max_iter was reached which means \"\n",
      "C:\\Users\\hanie\\anaconda3\\lib\\site-packages\\sklearn\\linear_model\\_sag.py:329: ConvergenceWarning: The max_iter was reached which means the coef_ did not converge\n",
      "  warnings.warn(\"The max_iter was reached which means \"\n",
      "C:\\Users\\hanie\\anaconda3\\lib\\site-packages\\sklearn\\linear_model\\_sag.py:329: ConvergenceWarning: The max_iter was reached which means the coef_ did not converge\n",
      "  warnings.warn(\"The max_iter was reached which means \"\n"
     ]
    },
    {
     "name": "stdout",
     "output_type": "stream",
     "text": [
      "[CV]  C=1000, max_iter=100, penalty=l1, solver=saga, score=0.818, total=   0.1s\n",
      "[CV] C=1000, max_iter=100, penalty=l2, solver=newton-cg ..............\n",
      "[CV]  C=1000, max_iter=100, penalty=l2, solver=newton-cg, score=0.845, total=   0.1s\n",
      "[CV] C=1000, max_iter=100, penalty=l2, solver=newton-cg ..............\n",
      "[CV]  C=1000, max_iter=100, penalty=l2, solver=newton-cg, score=0.843, total=   0.1s\n",
      "[CV] C=1000, max_iter=100, penalty=l2, solver=newton-cg ..............\n",
      "[CV]  C=1000, max_iter=100, penalty=l2, solver=newton-cg, score=0.863, total=   0.1s\n",
      "[CV] C=1000, max_iter=100, penalty=l2, solver=newton-cg ..............\n",
      "[CV]  C=1000, max_iter=100, penalty=l2, solver=newton-cg, score=0.833, total=   0.1s\n",
      "[CV] C=1000, max_iter=100, penalty=l2, solver=newton-cg ..............\n",
      "[CV]  C=1000, max_iter=100, penalty=l2, solver=newton-cg, score=0.825, total=   0.1s\n",
      "[CV] C=1000, max_iter=100, penalty=l2, solver=lbfgs ..................\n"
     ]
    },
    {
     "name": "stderr",
     "output_type": "stream",
     "text": [
      "C:\\Users\\hanie\\anaconda3\\lib\\site-packages\\sklearn\\linear_model\\_logistic.py:762: ConvergenceWarning: lbfgs failed to converge (status=1):\n",
      "STOP: TOTAL NO. of ITERATIONS REACHED LIMIT.\n",
      "\n",
      "Increase the number of iterations (max_iter) or scale the data as shown in:\n",
      "    https://scikit-learn.org/stable/modules/preprocessing.html\n",
      "Please also refer to the documentation for alternative solver options:\n",
      "    https://scikit-learn.org/stable/modules/linear_model.html#logistic-regression\n",
      "  n_iter_i = _check_optimize_result(\n",
      "C:\\Users\\hanie\\anaconda3\\lib\\site-packages\\sklearn\\linear_model\\_logistic.py:762: ConvergenceWarning: lbfgs failed to converge (status=1):\n",
      "STOP: TOTAL NO. of ITERATIONS REACHED LIMIT.\n",
      "\n",
      "Increase the number of iterations (max_iter) or scale the data as shown in:\n",
      "    https://scikit-learn.org/stable/modules/preprocessing.html\n",
      "Please also refer to the documentation for alternative solver options:\n",
      "    https://scikit-learn.org/stable/modules/linear_model.html#logistic-regression\n",
      "  n_iter_i = _check_optimize_result(\n",
      "C:\\Users\\hanie\\anaconda3\\lib\\site-packages\\sklearn\\linear_model\\_logistic.py:762: ConvergenceWarning: lbfgs failed to converge (status=1):\n",
      "STOP: TOTAL NO. of ITERATIONS REACHED LIMIT.\n",
      "\n",
      "Increase the number of iterations (max_iter) or scale the data as shown in:\n",
      "    https://scikit-learn.org/stable/modules/preprocessing.html\n",
      "Please also refer to the documentation for alternative solver options:\n",
      "    https://scikit-learn.org/stable/modules/linear_model.html#logistic-regression\n",
      "  n_iter_i = _check_optimize_result(\n"
     ]
    },
    {
     "name": "stdout",
     "output_type": "stream",
     "text": [
      "[CV]  C=1000, max_iter=100, penalty=l2, solver=lbfgs, score=0.845, total=   0.1s\n",
      "[CV] C=1000, max_iter=100, penalty=l2, solver=lbfgs ..................\n",
      "[CV]  C=1000, max_iter=100, penalty=l2, solver=lbfgs, score=0.843, total=   0.0s\n",
      "[CV] C=1000, max_iter=100, penalty=l2, solver=lbfgs ..................\n",
      "[CV]  C=1000, max_iter=100, penalty=l2, solver=lbfgs, score=0.863, total=   0.1s\n",
      "[CV] C=1000, max_iter=100, penalty=l2, solver=lbfgs ..................\n",
      "[CV]  C=1000, max_iter=100, penalty=l2, solver=lbfgs, score=0.832, total=   0.1s\n",
      "[CV] C=1000, max_iter=100, penalty=l2, solver=lbfgs ..................\n"
     ]
    },
    {
     "name": "stderr",
     "output_type": "stream",
     "text": [
      "C:\\Users\\hanie\\anaconda3\\lib\\site-packages\\sklearn\\linear_model\\_logistic.py:762: ConvergenceWarning: lbfgs failed to converge (status=1):\n",
      "STOP: TOTAL NO. of ITERATIONS REACHED LIMIT.\n",
      "\n",
      "Increase the number of iterations (max_iter) or scale the data as shown in:\n",
      "    https://scikit-learn.org/stable/modules/preprocessing.html\n",
      "Please also refer to the documentation for alternative solver options:\n",
      "    https://scikit-learn.org/stable/modules/linear_model.html#logistic-regression\n",
      "  n_iter_i = _check_optimize_result(\n",
      "C:\\Users\\hanie\\anaconda3\\lib\\site-packages\\sklearn\\linear_model\\_sag.py:329: ConvergenceWarning: The max_iter was reached which means the coef_ did not converge\n",
      "  warnings.warn(\"The max_iter was reached which means \"\n"
     ]
    },
    {
     "name": "stdout",
     "output_type": "stream",
     "text": [
      "[CV]  C=1000, max_iter=100, penalty=l2, solver=lbfgs, score=0.823, total=   0.1s\n",
      "[CV] C=1000, max_iter=100, penalty=l2, solver=liblinear ..............\n",
      "[CV]  C=1000, max_iter=100, penalty=l2, solver=liblinear, score=0.845, total=   0.0s\n",
      "[CV] C=1000, max_iter=100, penalty=l2, solver=liblinear ..............\n",
      "[CV]  C=1000, max_iter=100, penalty=l2, solver=liblinear, score=0.842, total=   0.0s\n",
      "[CV] C=1000, max_iter=100, penalty=l2, solver=liblinear ..............\n",
      "[CV]  C=1000, max_iter=100, penalty=l2, solver=liblinear, score=0.863, total=   0.0s\n",
      "[CV] C=1000, max_iter=100, penalty=l2, solver=liblinear ..............\n",
      "[CV]  C=1000, max_iter=100, penalty=l2, solver=liblinear, score=0.833, total=   0.0s\n",
      "[CV] C=1000, max_iter=100, penalty=l2, solver=liblinear ..............\n",
      "[CV]  C=1000, max_iter=100, penalty=l2, solver=liblinear, score=0.823, total=   0.0s\n",
      "[CV] C=1000, max_iter=100, penalty=l2, solver=sag ....................\n",
      "[CV]  C=1000, max_iter=100, penalty=l2, solver=sag, score=0.843, total=   0.1s\n",
      "[CV] C=1000, max_iter=100, penalty=l2, solver=sag ....................\n"
     ]
    },
    {
     "name": "stderr",
     "output_type": "stream",
     "text": [
      "C:\\Users\\hanie\\anaconda3\\lib\\site-packages\\sklearn\\linear_model\\_sag.py:329: ConvergenceWarning: The max_iter was reached which means the coef_ did not converge\n",
      "  warnings.warn(\"The max_iter was reached which means \"\n",
      "C:\\Users\\hanie\\anaconda3\\lib\\site-packages\\sklearn\\linear_model\\_sag.py:329: ConvergenceWarning: The max_iter was reached which means the coef_ did not converge\n",
      "  warnings.warn(\"The max_iter was reached which means \"\n",
      "C:\\Users\\hanie\\anaconda3\\lib\\site-packages\\sklearn\\linear_model\\_sag.py:329: ConvergenceWarning: The max_iter was reached which means the coef_ did not converge\n",
      "  warnings.warn(\"The max_iter was reached which means \"\n",
      "C:\\Users\\hanie\\anaconda3\\lib\\site-packages\\sklearn\\linear_model\\_sag.py:329: ConvergenceWarning: The max_iter was reached which means the coef_ did not converge\n",
      "  warnings.warn(\"The max_iter was reached which means \"\n"
     ]
    },
    {
     "name": "stdout",
     "output_type": "stream",
     "text": [
      "[CV]  C=1000, max_iter=100, penalty=l2, solver=sag, score=0.838, total=   0.1s\n",
      "[CV] C=1000, max_iter=100, penalty=l2, solver=sag ....................\n",
      "[CV]  C=1000, max_iter=100, penalty=l2, solver=sag, score=0.861, total=   0.1s\n",
      "[CV] C=1000, max_iter=100, penalty=l2, solver=sag ....................\n",
      "[CV]  C=1000, max_iter=100, penalty=l2, solver=sag, score=0.829, total=   0.1s\n",
      "[CV] C=1000, max_iter=100, penalty=l2, solver=sag ....................\n",
      "[CV]  C=1000, max_iter=100, penalty=l2, solver=sag, score=0.821, total=   0.1s\n",
      "[CV] C=1000, max_iter=100, penalty=l2, solver=saga ...................\n",
      "[CV]  C=1000, max_iter=100, penalty=l2, solver=saga, score=0.846, total=   0.1s\n",
      "[CV] C=1000, max_iter=100, penalty=l2, solver=saga ...................\n",
      "[CV]  C=1000, max_iter=100, penalty=l2, solver=saga, score=0.840, total=   0.1s\n",
      "[CV] C=1000, max_iter=100, penalty=l2, solver=saga ...................\n"
     ]
    },
    {
     "name": "stderr",
     "output_type": "stream",
     "text": [
      "C:\\Users\\hanie\\anaconda3\\lib\\site-packages\\sklearn\\linear_model\\_sag.py:329: ConvergenceWarning: The max_iter was reached which means the coef_ did not converge\n",
      "  warnings.warn(\"The max_iter was reached which means \"\n",
      "C:\\Users\\hanie\\anaconda3\\lib\\site-packages\\sklearn\\linear_model\\_sag.py:329: ConvergenceWarning: The max_iter was reached which means the coef_ did not converge\n",
      "  warnings.warn(\"The max_iter was reached which means \"\n",
      "C:\\Users\\hanie\\anaconda3\\lib\\site-packages\\sklearn\\linear_model\\_sag.py:329: ConvergenceWarning: The max_iter was reached which means the coef_ did not converge\n",
      "  warnings.warn(\"The max_iter was reached which means \"\n",
      "C:\\Users\\hanie\\anaconda3\\lib\\site-packages\\sklearn\\linear_model\\_sag.py:329: ConvergenceWarning: The max_iter was reached which means the coef_ did not converge\n",
      "  warnings.warn(\"The max_iter was reached which means \"\n"
     ]
    },
    {
     "name": "stdout",
     "output_type": "stream",
     "text": [
      "[CV]  C=1000, max_iter=100, penalty=l2, solver=saga, score=0.859, total=   0.1s\n",
      "[CV] C=1000, max_iter=100, penalty=l2, solver=saga ...................\n",
      "[CV]  C=1000, max_iter=100, penalty=l2, solver=saga, score=0.824, total=   0.1s\n",
      "[CV] C=1000, max_iter=100, penalty=l2, solver=saga ...................\n",
      "[CV]  C=1000, max_iter=100, penalty=l2, solver=saga, score=0.817, total=   0.1s\n",
      "[CV] C=1000, max_iter=200, penalty=l1, solver=newton-cg ..............\n",
      "[CV]  C=1000, max_iter=200, penalty=l1, solver=newton-cg, score=nan, total=   0.0s\n",
      "[CV] C=1000, max_iter=200, penalty=l1, solver=newton-cg ..............\n",
      "[CV]  C=1000, max_iter=200, penalty=l1, solver=newton-cg, score=nan, total=   0.0s\n",
      "[CV] C=1000, max_iter=200, penalty=l1, solver=newton-cg ..............\n",
      "[CV]  C=1000, max_iter=200, penalty=l1, solver=newton-cg, score=nan, total=   0.0s\n",
      "[CV] C=1000, max_iter=200, penalty=l1, solver=newton-cg ..............\n",
      "[CV]  C=1000, max_iter=200, penalty=l1, solver=newton-cg, score=nan, total=   0.0s\n",
      "[CV] C=1000, max_iter=200, penalty=l1, solver=newton-cg ..............\n",
      "[CV]  C=1000, max_iter=200, penalty=l1, solver=newton-cg, score=nan, total=   0.0s\n",
      "[CV] C=1000, max_iter=200, penalty=l1, solver=lbfgs ..................\n",
      "[CV]  C=1000, max_iter=200, penalty=l1, solver=lbfgs, score=nan, total=   0.0s\n",
      "[CV] C=1000, max_iter=200, penalty=l1, solver=lbfgs ..................\n",
      "[CV]  C=1000, max_iter=200, penalty=l1, solver=lbfgs, score=nan, total=   0.0s\n",
      "[CV] C=1000, max_iter=200, penalty=l1, solver=lbfgs ..................\n",
      "[CV]  C=1000, max_iter=200, penalty=l1, solver=lbfgs, score=nan, total=   0.0s\n",
      "[CV] C=1000, max_iter=200, penalty=l1, solver=lbfgs ..................\n",
      "[CV]  C=1000, max_iter=200, penalty=l1, solver=lbfgs, score=nan, total=   0.0s\n",
      "[CV] C=1000, max_iter=200, penalty=l1, solver=lbfgs ..................\n",
      "[CV]  C=1000, max_iter=200, penalty=l1, solver=lbfgs, score=nan, total=   0.0s\n",
      "[CV] C=1000, max_iter=200, penalty=l1, solver=liblinear ..............\n"
     ]
    },
    {
     "name": "stderr",
     "output_type": "stream",
     "text": [
      "C:\\Users\\hanie\\anaconda3\\lib\\site-packages\\sklearn\\linear_model\\_sag.py:329: ConvergenceWarning: The max_iter was reached which means the coef_ did not converge\n",
      "  warnings.warn(\"The max_iter was reached which means \"\n",
      "C:\\Users\\hanie\\anaconda3\\lib\\site-packages\\sklearn\\model_selection\\_validation.py:548: FitFailedWarning: Estimator fit failed. The score on this train-test partition for these parameters will be set to nan. Details: \n",
      "Traceback (most recent call last):\n",
      "  File \"C:\\Users\\hanie\\anaconda3\\lib\\site-packages\\sklearn\\model_selection\\_validation.py\", line 531, in _fit_and_score\n",
      "    estimator.fit(X_train, y_train, **fit_params)\n",
      "  File \"C:\\Users\\hanie\\anaconda3\\lib\\site-packages\\sklearn\\linear_model\\_logistic.py\", line 1304, in fit\n",
      "    solver = _check_solver(self.solver, self.penalty, self.dual)\n",
      "  File \"C:\\Users\\hanie\\anaconda3\\lib\\site-packages\\sklearn\\linear_model\\_logistic.py\", line 442, in _check_solver\n",
      "    raise ValueError(\"Solver %s supports only 'l2' or 'none' penalties, \"\n",
      "ValueError: Solver newton-cg supports only 'l2' or 'none' penalties, got l1 penalty.\n",
      "\n",
      "  warnings.warn(\"Estimator fit failed. The score on this train-test\"\n",
      "C:\\Users\\hanie\\anaconda3\\lib\\site-packages\\sklearn\\model_selection\\_validation.py:548: FitFailedWarning: Estimator fit failed. The score on this train-test partition for these parameters will be set to nan. Details: \n",
      "Traceback (most recent call last):\n",
      "  File \"C:\\Users\\hanie\\anaconda3\\lib\\site-packages\\sklearn\\model_selection\\_validation.py\", line 531, in _fit_and_score\n",
      "    estimator.fit(X_train, y_train, **fit_params)\n",
      "  File \"C:\\Users\\hanie\\anaconda3\\lib\\site-packages\\sklearn\\linear_model\\_logistic.py\", line 1304, in fit\n",
      "    solver = _check_solver(self.solver, self.penalty, self.dual)\n",
      "  File \"C:\\Users\\hanie\\anaconda3\\lib\\site-packages\\sklearn\\linear_model\\_logistic.py\", line 442, in _check_solver\n",
      "    raise ValueError(\"Solver %s supports only 'l2' or 'none' penalties, \"\n",
      "ValueError: Solver lbfgs supports only 'l2' or 'none' penalties, got l1 penalty.\n",
      "\n",
      "  warnings.warn(\"Estimator fit failed. The score on this train-test\"\n"
     ]
    },
    {
     "name": "stdout",
     "output_type": "stream",
     "text": [
      "[CV]  C=1000, max_iter=200, penalty=l1, solver=liblinear, score=0.868, total=   1.0s\n",
      "[CV] C=1000, max_iter=200, penalty=l1, solver=liblinear ..............\n",
      "[CV]  C=1000, max_iter=200, penalty=l1, solver=liblinear, score=0.862, total=   0.4s\n",
      "[CV] C=1000, max_iter=200, penalty=l1, solver=liblinear ..............\n",
      "[CV]  C=1000, max_iter=200, penalty=l1, solver=liblinear, score=0.867, total=   0.1s\n",
      "[CV] C=1000, max_iter=200, penalty=l1, solver=liblinear ..............\n",
      "[CV]  C=1000, max_iter=200, penalty=l1, solver=liblinear, score=0.841, total=   0.3s\n",
      "[CV] C=1000, max_iter=200, penalty=l1, solver=liblinear ..............\n",
      "[CV]  C=1000, max_iter=200, penalty=l1, solver=liblinear, score=0.839, total=   0.1s\n",
      "[CV] C=1000, max_iter=200, penalty=l1, solver=sag ....................\n",
      "[CV]  C=1000, max_iter=200, penalty=l1, solver=sag, score=nan, total=   0.0s\n",
      "[CV] C=1000, max_iter=200, penalty=l1, solver=sag ....................\n",
      "[CV]  C=1000, max_iter=200, penalty=l1, solver=sag, score=nan, total=   0.0s\n",
      "[CV] C=1000, max_iter=200, penalty=l1, solver=sag ....................\n",
      "[CV]  C=1000, max_iter=200, penalty=l1, solver=sag, score=nan, total=   0.0s\n",
      "[CV] C=1000, max_iter=200, penalty=l1, solver=sag ....................\n",
      "[CV]  C=1000, max_iter=200, penalty=l1, solver=sag, score=nan, total=   0.0s\n",
      "[CV] C=1000, max_iter=200, penalty=l1, solver=sag ....................\n",
      "[CV]  C=1000, max_iter=200, penalty=l1, solver=sag, score=nan, total=   0.0s\n",
      "[CV] C=1000, max_iter=200, penalty=l1, solver=saga ...................\n"
     ]
    },
    {
     "name": "stderr",
     "output_type": "stream",
     "text": [
      "C:\\Users\\hanie\\anaconda3\\lib\\site-packages\\sklearn\\model_selection\\_validation.py:548: FitFailedWarning: Estimator fit failed. The score on this train-test partition for these parameters will be set to nan. Details: \n",
      "Traceback (most recent call last):\n",
      "  File \"C:\\Users\\hanie\\anaconda3\\lib\\site-packages\\sklearn\\model_selection\\_validation.py\", line 531, in _fit_and_score\n",
      "    estimator.fit(X_train, y_train, **fit_params)\n",
      "  File \"C:\\Users\\hanie\\anaconda3\\lib\\site-packages\\sklearn\\linear_model\\_logistic.py\", line 1304, in fit\n",
      "    solver = _check_solver(self.solver, self.penalty, self.dual)\n",
      "  File \"C:\\Users\\hanie\\anaconda3\\lib\\site-packages\\sklearn\\linear_model\\_logistic.py\", line 442, in _check_solver\n",
      "    raise ValueError(\"Solver %s supports only 'l2' or 'none' penalties, \"\n",
      "ValueError: Solver sag supports only 'l2' or 'none' penalties, got l1 penalty.\n",
      "\n",
      "  warnings.warn(\"Estimator fit failed. The score on this train-test\"\n",
      "C:\\Users\\hanie\\anaconda3\\lib\\site-packages\\sklearn\\linear_model\\_sag.py:329: ConvergenceWarning: The max_iter was reached which means the coef_ did not converge\n",
      "  warnings.warn(\"The max_iter was reached which means \"\n"
     ]
    },
    {
     "name": "stdout",
     "output_type": "stream",
     "text": [
      "[CV]  C=1000, max_iter=200, penalty=l1, solver=saga, score=0.843, total=   0.2s\n",
      "[CV] C=1000, max_iter=200, penalty=l1, solver=saga ...................\n",
      "[CV]  C=1000, max_iter=200, penalty=l1, solver=saga, score=0.838, total=   0.2s\n"
     ]
    },
    {
     "name": "stderr",
     "output_type": "stream",
     "text": [
      "C:\\Users\\hanie\\anaconda3\\lib\\site-packages\\sklearn\\linear_model\\_sag.py:329: ConvergenceWarning: The max_iter was reached which means the coef_ did not converge\n",
      "  warnings.warn(\"The max_iter was reached which means \"\n",
      "C:\\Users\\hanie\\anaconda3\\lib\\site-packages\\sklearn\\linear_model\\_sag.py:329: ConvergenceWarning: The max_iter was reached which means the coef_ did not converge\n",
      "  warnings.warn(\"The max_iter was reached which means \"\n"
     ]
    },
    {
     "name": "stdout",
     "output_type": "stream",
     "text": [
      "[CV] C=1000, max_iter=200, penalty=l1, solver=saga ...................\n",
      "[CV]  C=1000, max_iter=200, penalty=l1, solver=saga, score=0.860, total=   0.2s\n",
      "[CV] C=1000, max_iter=200, penalty=l1, solver=saga ...................\n"
     ]
    },
    {
     "name": "stderr",
     "output_type": "stream",
     "text": [
      "C:\\Users\\hanie\\anaconda3\\lib\\site-packages\\sklearn\\linear_model\\_sag.py:329: ConvergenceWarning: The max_iter was reached which means the coef_ did not converge\n",
      "  warnings.warn(\"The max_iter was reached which means \"\n",
      "C:\\Users\\hanie\\anaconda3\\lib\\site-packages\\sklearn\\linear_model\\_sag.py:329: ConvergenceWarning: The max_iter was reached which means the coef_ did not converge\n",
      "  warnings.warn(\"The max_iter was reached which means \"\n"
     ]
    },
    {
     "name": "stdout",
     "output_type": "stream",
     "text": [
      "[CV]  C=1000, max_iter=200, penalty=l1, solver=saga, score=0.829, total=   0.2s\n",
      "[CV] C=1000, max_iter=200, penalty=l1, solver=saga ...................\n",
      "[CV]  C=1000, max_iter=200, penalty=l1, solver=saga, score=0.821, total=   0.2s\n",
      "[CV] C=1000, max_iter=200, penalty=l2, solver=newton-cg ..............\n",
      "[CV]  C=1000, max_iter=200, penalty=l2, solver=newton-cg, score=0.845, total=   0.1s\n",
      "[CV] C=1000, max_iter=200, penalty=l2, solver=newton-cg ..............\n",
      "[CV]  C=1000, max_iter=200, penalty=l2, solver=newton-cg, score=0.843, total=   0.1s\n",
      "[CV] C=1000, max_iter=200, penalty=l2, solver=newton-cg ..............\n",
      "[CV]  C=1000, max_iter=200, penalty=l2, solver=newton-cg, score=0.863, total=   0.1s\n",
      "[CV] C=1000, max_iter=200, penalty=l2, solver=newton-cg ..............\n",
      "[CV]  C=1000, max_iter=200, penalty=l2, solver=newton-cg, score=0.833, total=   0.1s\n",
      "[CV] C=1000, max_iter=200, penalty=l2, solver=newton-cg ..............\n",
      "[CV]  C=1000, max_iter=200, penalty=l2, solver=newton-cg, score=0.825, total=   0.1s\n",
      "[CV] C=1000, max_iter=200, penalty=l2, solver=lbfgs ..................\n",
      "[CV]  C=1000, max_iter=200, penalty=l2, solver=lbfgs, score=0.845, total=   0.1s\n",
      "[CV] C=1000, max_iter=200, penalty=l2, solver=lbfgs ..................\n",
      "[CV]  C=1000, max_iter=200, penalty=l2, solver=lbfgs, score=0.843, total=   0.0s\n",
      "[CV] C=1000, max_iter=200, penalty=l2, solver=lbfgs ..................\n",
      "[CV]  C=1000, max_iter=200, penalty=l2, solver=lbfgs, score=0.863, total=   0.1s\n",
      "[CV] C=1000, max_iter=200, penalty=l2, solver=lbfgs ..................\n"
     ]
    },
    {
     "name": "stderr",
     "output_type": "stream",
     "text": [
      "C:\\Users\\hanie\\anaconda3\\lib\\site-packages\\sklearn\\linear_model\\_logistic.py:762: ConvergenceWarning: lbfgs failed to converge (status=1):\n",
      "STOP: TOTAL NO. of ITERATIONS REACHED LIMIT.\n",
      "\n",
      "Increase the number of iterations (max_iter) or scale the data as shown in:\n",
      "    https://scikit-learn.org/stable/modules/preprocessing.html\n",
      "Please also refer to the documentation for alternative solver options:\n",
      "    https://scikit-learn.org/stable/modules/linear_model.html#logistic-regression\n",
      "  n_iter_i = _check_optimize_result(\n"
     ]
    },
    {
     "name": "stdout",
     "output_type": "stream",
     "text": [
      "[CV]  C=1000, max_iter=200, penalty=l2, solver=lbfgs, score=0.833, total=   0.1s\n",
      "[CV] C=1000, max_iter=200, penalty=l2, solver=lbfgs ..................\n",
      "[CV]  C=1000, max_iter=200, penalty=l2, solver=lbfgs, score=0.824, total=   0.1s\n",
      "[CV] C=1000, max_iter=200, penalty=l2, solver=liblinear ..............\n",
      "[CV]  C=1000, max_iter=200, penalty=l2, solver=liblinear, score=0.845, total=   0.0s\n",
      "[CV] C=1000, max_iter=200, penalty=l2, solver=liblinear ..............\n",
      "[CV]  C=1000, max_iter=200, penalty=l2, solver=liblinear, score=0.842, total=   0.0s\n",
      "[CV] C=1000, max_iter=200, penalty=l2, solver=liblinear ..............\n",
      "[CV]  C=1000, max_iter=200, penalty=l2, solver=liblinear, score=0.863, total=   0.0s\n",
      "[CV] C=1000, max_iter=200, penalty=l2, solver=liblinear ..............\n",
      "[CV]  C=1000, max_iter=200, penalty=l2, solver=liblinear, score=0.833, total=   0.0s\n",
      "[CV] C=1000, max_iter=200, penalty=l2, solver=liblinear ..............\n",
      "[CV]  C=1000, max_iter=200, penalty=l2, solver=liblinear, score=0.823, total=   0.0s\n",
      "[CV] C=1000, max_iter=200, penalty=l2, solver=sag ....................\n"
     ]
    },
    {
     "name": "stderr",
     "output_type": "stream",
     "text": [
      "C:\\Users\\hanie\\anaconda3\\lib\\site-packages\\sklearn\\linear_model\\_sag.py:329: ConvergenceWarning: The max_iter was reached which means the coef_ did not converge\n",
      "  warnings.warn(\"The max_iter was reached which means \"\n",
      "C:\\Users\\hanie\\anaconda3\\lib\\site-packages\\sklearn\\linear_model\\_sag.py:329: ConvergenceWarning: The max_iter was reached which means the coef_ did not converge\n",
      "  warnings.warn(\"The max_iter was reached which means \"\n"
     ]
    },
    {
     "name": "stdout",
     "output_type": "stream",
     "text": [
      "[CV]  C=1000, max_iter=200, penalty=l2, solver=sag, score=0.846, total=   0.2s\n",
      "[CV] C=1000, max_iter=200, penalty=l2, solver=sag ....................\n",
      "[CV]  C=1000, max_iter=200, penalty=l2, solver=sag, score=0.839, total=   0.1s\n",
      "[CV] C=1000, max_iter=200, penalty=l2, solver=sag ....................\n"
     ]
    },
    {
     "name": "stderr",
     "output_type": "stream",
     "text": [
      "C:\\Users\\hanie\\anaconda3\\lib\\site-packages\\sklearn\\linear_model\\_sag.py:329: ConvergenceWarning: The max_iter was reached which means the coef_ did not converge\n",
      "  warnings.warn(\"The max_iter was reached which means \"\n",
      "C:\\Users\\hanie\\anaconda3\\lib\\site-packages\\sklearn\\linear_model\\_sag.py:329: ConvergenceWarning: The max_iter was reached which means the coef_ did not converge\n",
      "  warnings.warn(\"The max_iter was reached which means \"\n"
     ]
    },
    {
     "name": "stdout",
     "output_type": "stream",
     "text": [
      "[CV]  C=1000, max_iter=200, penalty=l2, solver=sag, score=0.860, total=   0.1s\n",
      "[CV] C=1000, max_iter=200, penalty=l2, solver=sag ....................\n",
      "[CV]  C=1000, max_iter=200, penalty=l2, solver=sag, score=0.830, total=   0.1s\n",
      "[CV] C=1000, max_iter=200, penalty=l2, solver=sag ....................\n"
     ]
    },
    {
     "name": "stderr",
     "output_type": "stream",
     "text": [
      "C:\\Users\\hanie\\anaconda3\\lib\\site-packages\\sklearn\\linear_model\\_sag.py:329: ConvergenceWarning: The max_iter was reached which means the coef_ did not converge\n",
      "  warnings.warn(\"The max_iter was reached which means \"\n",
      "C:\\Users\\hanie\\anaconda3\\lib\\site-packages\\sklearn\\linear_model\\_sag.py:329: ConvergenceWarning: The max_iter was reached which means the coef_ did not converge\n",
      "  warnings.warn(\"The max_iter was reached which means \"\n"
     ]
    },
    {
     "name": "stdout",
     "output_type": "stream",
     "text": [
      "[CV]  C=1000, max_iter=200, penalty=l2, solver=sag, score=0.822, total=   0.1s\n",
      "[CV] C=1000, max_iter=200, penalty=l2, solver=saga ...................\n",
      "[CV]  C=1000, max_iter=200, penalty=l2, solver=saga, score=0.843, total=   0.1s\n",
      "[CV] C=1000, max_iter=200, penalty=l2, solver=saga ...................\n"
     ]
    },
    {
     "name": "stderr",
     "output_type": "stream",
     "text": [
      "C:\\Users\\hanie\\anaconda3\\lib\\site-packages\\sklearn\\linear_model\\_sag.py:329: ConvergenceWarning: The max_iter was reached which means the coef_ did not converge\n",
      "  warnings.warn(\"The max_iter was reached which means \"\n",
      "C:\\Users\\hanie\\anaconda3\\lib\\site-packages\\sklearn\\linear_model\\_sag.py:329: ConvergenceWarning: The max_iter was reached which means the coef_ did not converge\n",
      "  warnings.warn(\"The max_iter was reached which means \"\n"
     ]
    },
    {
     "name": "stdout",
     "output_type": "stream",
     "text": [
      "[CV]  C=1000, max_iter=200, penalty=l2, solver=saga, score=0.838, total=   0.1s\n",
      "[CV] C=1000, max_iter=200, penalty=l2, solver=saga ...................\n",
      "[CV]  C=1000, max_iter=200, penalty=l2, solver=saga, score=0.860, total=   0.1s\n",
      "[CV] C=1000, max_iter=200, penalty=l2, solver=saga ...................\n"
     ]
    },
    {
     "name": "stderr",
     "output_type": "stream",
     "text": [
      "C:\\Users\\hanie\\anaconda3\\lib\\site-packages\\sklearn\\linear_model\\_sag.py:329: ConvergenceWarning: The max_iter was reached which means the coef_ did not converge\n",
      "  warnings.warn(\"The max_iter was reached which means \"\n",
      "C:\\Users\\hanie\\anaconda3\\lib\\site-packages\\sklearn\\linear_model\\_sag.py:329: ConvergenceWarning: The max_iter was reached which means the coef_ did not converge\n",
      "  warnings.warn(\"The max_iter was reached which means \"\n",
      "C:\\Users\\hanie\\anaconda3\\lib\\site-packages\\sklearn\\model_selection\\_validation.py:548: FitFailedWarning: Estimator fit failed. The score on this train-test partition for these parameters will be set to nan. Details: \n",
      "Traceback (most recent call last):\n",
      "  File \"C:\\Users\\hanie\\anaconda3\\lib\\site-packages\\sklearn\\model_selection\\_validation.py\", line 531, in _fit_and_score\n",
      "    estimator.fit(X_train, y_train, **fit_params)\n",
      "  File \"C:\\Users\\hanie\\anaconda3\\lib\\site-packages\\sklearn\\linear_model\\_logistic.py\", line 1304, in fit\n",
      "    solver = _check_solver(self.solver, self.penalty, self.dual)\n",
      "  File \"C:\\Users\\hanie\\anaconda3\\lib\\site-packages\\sklearn\\linear_model\\_logistic.py\", line 442, in _check_solver\n",
      "    raise ValueError(\"Solver %s supports only 'l2' or 'none' penalties, \"\n",
      "ValueError: Solver newton-cg supports only 'l2' or 'none' penalties, got l1 penalty.\n",
      "\n",
      "  warnings.warn(\"Estimator fit failed. The score on this train-test\"\n",
      "C:\\Users\\hanie\\anaconda3\\lib\\site-packages\\sklearn\\model_selection\\_validation.py:548: FitFailedWarning: Estimator fit failed. The score on this train-test partition for these parameters will be set to nan. Details: \n",
      "Traceback (most recent call last):\n",
      "  File \"C:\\Users\\hanie\\anaconda3\\lib\\site-packages\\sklearn\\model_selection\\_validation.py\", line 531, in _fit_and_score\n",
      "    estimator.fit(X_train, y_train, **fit_params)\n",
      "  File \"C:\\Users\\hanie\\anaconda3\\lib\\site-packages\\sklearn\\linear_model\\_logistic.py\", line 1304, in fit\n",
      "    solver = _check_solver(self.solver, self.penalty, self.dual)\n",
      "  File \"C:\\Users\\hanie\\anaconda3\\lib\\site-packages\\sklearn\\linear_model\\_logistic.py\", line 442, in _check_solver\n",
      "    raise ValueError(\"Solver %s supports only 'l2' or 'none' penalties, \"\n",
      "ValueError: Solver lbfgs supports only 'l2' or 'none' penalties, got l1 penalty.\n",
      "\n",
      "  warnings.warn(\"Estimator fit failed. The score on this train-test\"\n"
     ]
    },
    {
     "name": "stdout",
     "output_type": "stream",
     "text": [
      "[CV]  C=1000, max_iter=200, penalty=l2, solver=saga, score=0.829, total=   0.1s\n",
      "[CV] C=1000, max_iter=200, penalty=l2, solver=saga ...................\n",
      "[CV]  C=1000, max_iter=200, penalty=l2, solver=saga, score=0.821, total=   0.1s\n",
      "[CV] C=1000, max_iter=300, penalty=l1, solver=newton-cg ..............\n",
      "[CV]  C=1000, max_iter=300, penalty=l1, solver=newton-cg, score=nan, total=   0.0s\n",
      "[CV] C=1000, max_iter=300, penalty=l1, solver=newton-cg ..............\n",
      "[CV]  C=1000, max_iter=300, penalty=l1, solver=newton-cg, score=nan, total=   0.0s\n",
      "[CV] C=1000, max_iter=300, penalty=l1, solver=newton-cg ..............\n",
      "[CV]  C=1000, max_iter=300, penalty=l1, solver=newton-cg, score=nan, total=   0.0s\n",
      "[CV] C=1000, max_iter=300, penalty=l1, solver=newton-cg ..............\n",
      "[CV]  C=1000, max_iter=300, penalty=l1, solver=newton-cg, score=nan, total=   0.0s\n",
      "[CV] C=1000, max_iter=300, penalty=l1, solver=newton-cg ..............\n",
      "[CV]  C=1000, max_iter=300, penalty=l1, solver=newton-cg, score=nan, total=   0.0s\n",
      "[CV] C=1000, max_iter=300, penalty=l1, solver=lbfgs ..................\n",
      "[CV]  C=1000, max_iter=300, penalty=l1, solver=lbfgs, score=nan, total=   0.0s\n",
      "[CV] C=1000, max_iter=300, penalty=l1, solver=lbfgs ..................\n",
      "[CV]  C=1000, max_iter=300, penalty=l1, solver=lbfgs, score=nan, total=   0.0s\n",
      "[CV] C=1000, max_iter=300, penalty=l1, solver=lbfgs ..................\n",
      "[CV]  C=1000, max_iter=300, penalty=l1, solver=lbfgs, score=nan, total=   0.0s\n",
      "[CV] C=1000, max_iter=300, penalty=l1, solver=lbfgs ..................\n",
      "[CV]  C=1000, max_iter=300, penalty=l1, solver=lbfgs, score=nan, total=   0.0s\n",
      "[CV] C=1000, max_iter=300, penalty=l1, solver=lbfgs ..................\n",
      "[CV]  C=1000, max_iter=300, penalty=l1, solver=lbfgs, score=nan, total=   0.0s\n",
      "[CV] C=1000, max_iter=300, penalty=l1, solver=liblinear ..............\n",
      "[CV]  C=1000, max_iter=300, penalty=l1, solver=liblinear, score=0.863, total=   0.1s\n",
      "[CV] C=1000, max_iter=300, penalty=l1, solver=liblinear ..............\n",
      "[CV]  C=1000, max_iter=300, penalty=l1, solver=liblinear, score=0.862, total=   0.2s\n",
      "[CV] C=1000, max_iter=300, penalty=l1, solver=liblinear ..............\n",
      "[CV]  C=1000, max_iter=300, penalty=l1, solver=liblinear, score=0.879, total=   0.9s\n",
      "[CV] C=1000, max_iter=300, penalty=l1, solver=liblinear ..............\n",
      "[CV]  C=1000, max_iter=300, penalty=l1, solver=liblinear, score=0.841, total=   0.2s\n",
      "[CV] C=1000, max_iter=300, penalty=l1, solver=liblinear ..............\n",
      "[CV]  C=1000, max_iter=300, penalty=l1, solver=liblinear, score=0.842, total=   1.1s\n",
      "[CV] C=1000, max_iter=300, penalty=l1, solver=sag ....................\n",
      "[CV]  C=1000, max_iter=300, penalty=l1, solver=sag, score=nan, total=   0.0s\n",
      "[CV] C=1000, max_iter=300, penalty=l1, solver=sag ....................\n",
      "[CV]  C=1000, max_iter=300, penalty=l1, solver=sag, score=nan, total=   0.0s\n",
      "[CV] C=1000, max_iter=300, penalty=l1, solver=sag ....................\n",
      "[CV]  C=1000, max_iter=300, penalty=l1, solver=sag, score=nan, total=   0.0s\n",
      "[CV] C=1000, max_iter=300, penalty=l1, solver=sag ....................\n",
      "[CV]  C=1000, max_iter=300, penalty=l1, solver=sag, score=nan, total=   0.0s\n",
      "[CV] C=1000, max_iter=300, penalty=l1, solver=sag ....................\n",
      "[CV]  C=1000, max_iter=300, penalty=l1, solver=sag, score=nan, total=   0.0s\n",
      "[CV] C=1000, max_iter=300, penalty=l1, solver=saga ...................\n"
     ]
    },
    {
     "name": "stderr",
     "output_type": "stream",
     "text": [
      "C:\\Users\\hanie\\anaconda3\\lib\\site-packages\\sklearn\\model_selection\\_validation.py:548: FitFailedWarning: Estimator fit failed. The score on this train-test partition for these parameters will be set to nan. Details: \n",
      "Traceback (most recent call last):\n",
      "  File \"C:\\Users\\hanie\\anaconda3\\lib\\site-packages\\sklearn\\model_selection\\_validation.py\", line 531, in _fit_and_score\n",
      "    estimator.fit(X_train, y_train, **fit_params)\n",
      "  File \"C:\\Users\\hanie\\anaconda3\\lib\\site-packages\\sklearn\\linear_model\\_logistic.py\", line 1304, in fit\n",
      "    solver = _check_solver(self.solver, self.penalty, self.dual)\n",
      "  File \"C:\\Users\\hanie\\anaconda3\\lib\\site-packages\\sklearn\\linear_model\\_logistic.py\", line 442, in _check_solver\n",
      "    raise ValueError(\"Solver %s supports only 'l2' or 'none' penalties, \"\n",
      "ValueError: Solver sag supports only 'l2' or 'none' penalties, got l1 penalty.\n",
      "\n",
      "  warnings.warn(\"Estimator fit failed. The score on this train-test\"\n",
      "C:\\Users\\hanie\\anaconda3\\lib\\site-packages\\sklearn\\linear_model\\_sag.py:329: ConvergenceWarning: The max_iter was reached which means the coef_ did not converge\n",
      "  warnings.warn(\"The max_iter was reached which means \"\n"
     ]
    },
    {
     "name": "stdout",
     "output_type": "stream",
     "text": [
      "[CV]  C=1000, max_iter=300, penalty=l1, solver=saga, score=0.845, total=   0.2s\n",
      "[CV] C=1000, max_iter=300, penalty=l1, solver=saga ...................\n"
     ]
    },
    {
     "name": "stderr",
     "output_type": "stream",
     "text": [
      "C:\\Users\\hanie\\anaconda3\\lib\\site-packages\\sklearn\\linear_model\\_sag.py:329: ConvergenceWarning: The max_iter was reached which means the coef_ did not converge\n",
      "  warnings.warn(\"The max_iter was reached which means \"\n"
     ]
    },
    {
     "name": "stdout",
     "output_type": "stream",
     "text": [
      "[CV]  C=1000, max_iter=300, penalty=l1, solver=saga, score=0.839, total=   0.2s\n",
      "[CV] C=1000, max_iter=300, penalty=l1, solver=saga ...................\n"
     ]
    },
    {
     "name": "stderr",
     "output_type": "stream",
     "text": [
      "C:\\Users\\hanie\\anaconda3\\lib\\site-packages\\sklearn\\linear_model\\_sag.py:329: ConvergenceWarning: The max_iter was reached which means the coef_ did not converge\n",
      "  warnings.warn(\"The max_iter was reached which means \"\n"
     ]
    },
    {
     "name": "stdout",
     "output_type": "stream",
     "text": [
      "[CV]  C=1000, max_iter=300, penalty=l1, solver=saga, score=0.860, total=   0.3s\n",
      "[CV] C=1000, max_iter=300, penalty=l1, solver=saga ...................\n"
     ]
    },
    {
     "name": "stderr",
     "output_type": "stream",
     "text": [
      "C:\\Users\\hanie\\anaconda3\\lib\\site-packages\\sklearn\\linear_model\\_sag.py:329: ConvergenceWarning: The max_iter was reached which means the coef_ did not converge\n",
      "  warnings.warn(\"The max_iter was reached which means \"\n"
     ]
    },
    {
     "name": "stdout",
     "output_type": "stream",
     "text": [
      "[CV]  C=1000, max_iter=300, penalty=l1, solver=saga, score=0.831, total=   0.2s\n",
      "[CV] C=1000, max_iter=300, penalty=l1, solver=saga ...................\n"
     ]
    },
    {
     "name": "stderr",
     "output_type": "stream",
     "text": [
      "C:\\Users\\hanie\\anaconda3\\lib\\site-packages\\sklearn\\linear_model\\_sag.py:329: ConvergenceWarning: The max_iter was reached which means the coef_ did not converge\n",
      "  warnings.warn(\"The max_iter was reached which means \"\n"
     ]
    },
    {
     "name": "stdout",
     "output_type": "stream",
     "text": [
      "[CV]  C=1000, max_iter=300, penalty=l1, solver=saga, score=0.823, total=   0.2s\n",
      "[CV] C=1000, max_iter=300, penalty=l2, solver=newton-cg ..............\n",
      "[CV]  C=1000, max_iter=300, penalty=l2, solver=newton-cg, score=0.845, total=   0.1s\n",
      "[CV] C=1000, max_iter=300, penalty=l2, solver=newton-cg ..............\n",
      "[CV]  C=1000, max_iter=300, penalty=l2, solver=newton-cg, score=0.843, total=   0.1s\n",
      "[CV] C=1000, max_iter=300, penalty=l2, solver=newton-cg ..............\n",
      "[CV]  C=1000, max_iter=300, penalty=l2, solver=newton-cg, score=0.863, total=   0.1s\n",
      "[CV] C=1000, max_iter=300, penalty=l2, solver=newton-cg ..............\n",
      "[CV]  C=1000, max_iter=300, penalty=l2, solver=newton-cg, score=0.833, total=   0.1s\n",
      "[CV] C=1000, max_iter=300, penalty=l2, solver=newton-cg ..............\n",
      "[CV]  C=1000, max_iter=300, penalty=l2, solver=newton-cg, score=0.825, total=   0.1s\n",
      "[CV] C=1000, max_iter=300, penalty=l2, solver=lbfgs ..................\n",
      "[CV]  C=1000, max_iter=300, penalty=l2, solver=lbfgs, score=0.845, total=   0.1s\n",
      "[CV] C=1000, max_iter=300, penalty=l2, solver=lbfgs ..................\n",
      "[CV]  C=1000, max_iter=300, penalty=l2, solver=lbfgs, score=0.843, total=   0.1s\n",
      "[CV] C=1000, max_iter=300, penalty=l2, solver=lbfgs ..................\n",
      "[CV]  C=1000, max_iter=300, penalty=l2, solver=lbfgs, score=0.863, total=   0.1s\n",
      "[CV] C=1000, max_iter=300, penalty=l2, solver=lbfgs ..................\n",
      "[CV]  C=1000, max_iter=300, penalty=l2, solver=lbfgs, score=0.833, total=   0.1s\n",
      "[CV] C=1000, max_iter=300, penalty=l2, solver=lbfgs ..................\n",
      "[CV]  C=1000, max_iter=300, penalty=l2, solver=lbfgs, score=0.824, total=   0.1s\n",
      "[CV] C=1000, max_iter=300, penalty=l2, solver=liblinear ..............\n",
      "[CV]  C=1000, max_iter=300, penalty=l2, solver=liblinear, score=0.845, total=   0.0s\n",
      "[CV] C=1000, max_iter=300, penalty=l2, solver=liblinear ..............\n",
      "[CV]  C=1000, max_iter=300, penalty=l2, solver=liblinear, score=0.842, total=   0.0s\n",
      "[CV] C=1000, max_iter=300, penalty=l2, solver=liblinear ..............\n",
      "[CV]  C=1000, max_iter=300, penalty=l2, solver=liblinear, score=0.863, total=   0.0s\n",
      "[CV] C=1000, max_iter=300, penalty=l2, solver=liblinear ..............\n",
      "[CV]  C=1000, max_iter=300, penalty=l2, solver=liblinear, score=0.833, total=   0.0s\n",
      "[CV] C=1000, max_iter=300, penalty=l2, solver=liblinear ..............\n",
      "[CV]  C=1000, max_iter=300, penalty=l2, solver=liblinear, score=0.823, total=   0.0s\n",
      "[CV] C=1000, max_iter=300, penalty=l2, solver=sag ....................\n"
     ]
    },
    {
     "name": "stderr",
     "output_type": "stream",
     "text": [
      "C:\\Users\\hanie\\anaconda3\\lib\\site-packages\\sklearn\\linear_model\\_sag.py:329: ConvergenceWarning: The max_iter was reached which means the coef_ did not converge\n",
      "  warnings.warn(\"The max_iter was reached which means \"\n",
      "C:\\Users\\hanie\\anaconda3\\lib\\site-packages\\sklearn\\linear_model\\_sag.py:329: ConvergenceWarning: The max_iter was reached which means the coef_ did not converge\n",
      "  warnings.warn(\"The max_iter was reached which means \"\n"
     ]
    },
    {
     "name": "stdout",
     "output_type": "stream",
     "text": [
      "[CV]  C=1000, max_iter=300, penalty=l2, solver=sag, score=0.845, total=   0.2s\n",
      "[CV] C=1000, max_iter=300, penalty=l2, solver=sag ....................\n"
     ]
    },
    {
     "name": "stderr",
     "output_type": "stream",
     "text": [
      "C:\\Users\\hanie\\anaconda3\\lib\\site-packages\\sklearn\\linear_model\\_sag.py:329: ConvergenceWarning: The max_iter was reached which means the coef_ did not converge\n",
      "  warnings.warn(\"The max_iter was reached which means \"\n"
     ]
    },
    {
     "name": "stdout",
     "output_type": "stream",
     "text": [
      "[CV]  C=1000, max_iter=300, penalty=l2, solver=sag, score=0.840, total=   0.2s\n",
      "[CV] C=1000, max_iter=300, penalty=l2, solver=sag ....................\n",
      "[CV]  C=1000, max_iter=300, penalty=l2, solver=sag, score=0.860, total=   0.2s\n",
      "[CV] C=1000, max_iter=300, penalty=l2, solver=sag ....................\n"
     ]
    },
    {
     "name": "stderr",
     "output_type": "stream",
     "text": [
      "C:\\Users\\hanie\\anaconda3\\lib\\site-packages\\sklearn\\linear_model\\_sag.py:329: ConvergenceWarning: The max_iter was reached which means the coef_ did not converge\n",
      "  warnings.warn(\"The max_iter was reached which means \"\n",
      "C:\\Users\\hanie\\anaconda3\\lib\\site-packages\\sklearn\\linear_model\\_sag.py:329: ConvergenceWarning: The max_iter was reached which means the coef_ did not converge\n",
      "  warnings.warn(\"The max_iter was reached which means \"\n"
     ]
    },
    {
     "name": "stdout",
     "output_type": "stream",
     "text": [
      "[CV]  C=1000, max_iter=300, penalty=l2, solver=sag, score=0.831, total=   0.2s\n",
      "[CV] C=1000, max_iter=300, penalty=l2, solver=sag ....................\n"
     ]
    },
    {
     "name": "stderr",
     "output_type": "stream",
     "text": [
      "C:\\Users\\hanie\\anaconda3\\lib\\site-packages\\sklearn\\linear_model\\_sag.py:329: ConvergenceWarning: The max_iter was reached which means the coef_ did not converge\n",
      "  warnings.warn(\"The max_iter was reached which means \"\n"
     ]
    },
    {
     "name": "stdout",
     "output_type": "stream",
     "text": [
      "[CV]  C=1000, max_iter=300, penalty=l2, solver=sag, score=0.823, total=   0.2s\n",
      "[CV] C=1000, max_iter=300, penalty=l2, solver=saga ...................\n",
      "[CV]  C=1000, max_iter=300, penalty=l2, solver=saga, score=0.844, total=   0.2s\n",
      "[CV] C=1000, max_iter=300, penalty=l2, solver=saga ...................\n",
      "[CV]  C=1000, max_iter=300, penalty=l2, solver=saga, score=0.840, total=   0.2s\n",
      "[CV] C=1000, max_iter=300, penalty=l2, solver=saga ...................\n"
     ]
    },
    {
     "name": "stderr",
     "output_type": "stream",
     "text": [
      "C:\\Users\\hanie\\anaconda3\\lib\\site-packages\\sklearn\\linear_model\\_sag.py:329: ConvergenceWarning: The max_iter was reached which means the coef_ did not converge\n",
      "  warnings.warn(\"The max_iter was reached which means \"\n",
      "C:\\Users\\hanie\\anaconda3\\lib\\site-packages\\sklearn\\linear_model\\_sag.py:329: ConvergenceWarning: The max_iter was reached which means the coef_ did not converge\n",
      "  warnings.warn(\"The max_iter was reached which means \"\n"
     ]
    },
    {
     "name": "stdout",
     "output_type": "stream",
     "text": [
      "[CV]  C=1000, max_iter=300, penalty=l2, solver=saga, score=0.859, total=   0.2s\n",
      "[CV] C=1000, max_iter=300, penalty=l2, solver=saga ...................\n"
     ]
    },
    {
     "name": "stderr",
     "output_type": "stream",
     "text": [
      "C:\\Users\\hanie\\anaconda3\\lib\\site-packages\\sklearn\\linear_model\\_sag.py:329: ConvergenceWarning: The max_iter was reached which means the coef_ did not converge\n",
      "  warnings.warn(\"The max_iter was reached which means \"\n",
      "C:\\Users\\hanie\\anaconda3\\lib\\site-packages\\sklearn\\linear_model\\_sag.py:329: ConvergenceWarning: The max_iter was reached which means the coef_ did not converge\n",
      "  warnings.warn(\"The max_iter was reached which means \"\n"
     ]
    },
    {
     "name": "stdout",
     "output_type": "stream",
     "text": [
      "[CV]  C=1000, max_iter=300, penalty=l2, solver=saga, score=0.829, total=   0.2s\n",
      "[CV] C=1000, max_iter=300, penalty=l2, solver=saga ...................\n",
      "[CV]  C=1000, max_iter=300, penalty=l2, solver=saga, score=0.821, total=   0.2s\n",
      "[CV] C=1000, max_iter=400, penalty=l1, solver=newton-cg ..............\n",
      "[CV]  C=1000, max_iter=400, penalty=l1, solver=newton-cg, score=nan, total=   0.0s\n",
      "[CV] C=1000, max_iter=400, penalty=l1, solver=newton-cg ..............\n",
      "[CV]  C=1000, max_iter=400, penalty=l1, solver=newton-cg, score=nan, total=   0.0s\n",
      "[CV] C=1000, max_iter=400, penalty=l1, solver=newton-cg ..............\n",
      "[CV]  C=1000, max_iter=400, penalty=l1, solver=newton-cg, score=nan, total=   0.0s\n",
      "[CV] C=1000, max_iter=400, penalty=l1, solver=newton-cg ..............\n",
      "[CV]  C=1000, max_iter=400, penalty=l1, solver=newton-cg, score=nan, total=   0.0s\n",
      "[CV] C=1000, max_iter=400, penalty=l1, solver=newton-cg ..............\n",
      "[CV]  C=1000, max_iter=400, penalty=l1, solver=newton-cg, score=nan, total=   0.0s\n",
      "[CV] C=1000, max_iter=400, penalty=l1, solver=lbfgs ..................\n",
      "[CV]  C=1000, max_iter=400, penalty=l1, solver=lbfgs, score=nan, total=   0.0s\n",
      "[CV] C=1000, max_iter=400, penalty=l1, solver=lbfgs ..................\n",
      "[CV]  C=1000, max_iter=400, penalty=l1, solver=lbfgs, score=nan, total=   0.0s\n",
      "[CV] C=1000, max_iter=400, penalty=l1, solver=lbfgs ..................\n",
      "[CV]  C=1000, max_iter=400, penalty=l1, solver=lbfgs, score=nan, total=   0.0s\n",
      "[CV] C=1000, max_iter=400, penalty=l1, solver=lbfgs ..................\n",
      "[CV]  C=1000, max_iter=400, penalty=l1, solver=lbfgs, score=nan, total=   0.0s\n",
      "[CV] C=1000, max_iter=400, penalty=l1, solver=lbfgs ..................\n",
      "[CV]  C=1000, max_iter=400, penalty=l1, solver=lbfgs, score=nan, total=   0.0s\n",
      "[CV] C=1000, max_iter=400, penalty=l1, solver=liblinear ..............\n"
     ]
    },
    {
     "name": "stderr",
     "output_type": "stream",
     "text": [
      "C:\\Users\\hanie\\anaconda3\\lib\\site-packages\\sklearn\\model_selection\\_validation.py:548: FitFailedWarning: Estimator fit failed. The score on this train-test partition for these parameters will be set to nan. Details: \n",
      "Traceback (most recent call last):\n",
      "  File \"C:\\Users\\hanie\\anaconda3\\lib\\site-packages\\sklearn\\model_selection\\_validation.py\", line 531, in _fit_and_score\n",
      "    estimator.fit(X_train, y_train, **fit_params)\n",
      "  File \"C:\\Users\\hanie\\anaconda3\\lib\\site-packages\\sklearn\\linear_model\\_logistic.py\", line 1304, in fit\n",
      "    solver = _check_solver(self.solver, self.penalty, self.dual)\n",
      "  File \"C:\\Users\\hanie\\anaconda3\\lib\\site-packages\\sklearn\\linear_model\\_logistic.py\", line 442, in _check_solver\n",
      "    raise ValueError(\"Solver %s supports only 'l2' or 'none' penalties, \"\n",
      "ValueError: Solver newton-cg supports only 'l2' or 'none' penalties, got l1 penalty.\n",
      "\n",
      "  warnings.warn(\"Estimator fit failed. The score on this train-test\"\n",
      "C:\\Users\\hanie\\anaconda3\\lib\\site-packages\\sklearn\\model_selection\\_validation.py:548: FitFailedWarning: Estimator fit failed. The score on this train-test partition for these parameters will be set to nan. Details: \n",
      "Traceback (most recent call last):\n",
      "  File \"C:\\Users\\hanie\\anaconda3\\lib\\site-packages\\sklearn\\model_selection\\_validation.py\", line 531, in _fit_and_score\n",
      "    estimator.fit(X_train, y_train, **fit_params)\n",
      "  File \"C:\\Users\\hanie\\anaconda3\\lib\\site-packages\\sklearn\\linear_model\\_logistic.py\", line 1304, in fit\n",
      "    solver = _check_solver(self.solver, self.penalty, self.dual)\n",
      "  File \"C:\\Users\\hanie\\anaconda3\\lib\\site-packages\\sklearn\\linear_model\\_logistic.py\", line 442, in _check_solver\n",
      "    raise ValueError(\"Solver %s supports only 'l2' or 'none' penalties, \"\n",
      "ValueError: Solver lbfgs supports only 'l2' or 'none' penalties, got l1 penalty.\n",
      "\n",
      "  warnings.warn(\"Estimator fit failed. The score on this train-test\"\n"
     ]
    },
    {
     "name": "stdout",
     "output_type": "stream",
     "text": [
      "[CV]  C=1000, max_iter=400, penalty=l1, solver=liblinear, score=0.868, total=   1.1s\n",
      "[CV] C=1000, max_iter=400, penalty=l1, solver=liblinear ..............\n",
      "[CV]  C=1000, max_iter=400, penalty=l1, solver=liblinear, score=0.861, total=   0.2s\n",
      "[CV] C=1000, max_iter=400, penalty=l1, solver=liblinear ..............\n",
      "[CV]  C=1000, max_iter=400, penalty=l1, solver=liblinear, score=0.869, total=   0.1s\n",
      "[CV] C=1000, max_iter=400, penalty=l1, solver=liblinear ..............\n",
      "[CV]  C=1000, max_iter=400, penalty=l1, solver=liblinear, score=0.841, total=   0.3s\n",
      "[CV] C=1000, max_iter=400, penalty=l1, solver=liblinear ..............\n",
      "[CV]  C=1000, max_iter=400, penalty=l1, solver=liblinear, score=0.842, total=   1.1s\n",
      "[CV] C=1000, max_iter=400, penalty=l1, solver=sag ....................\n",
      "[CV]  C=1000, max_iter=400, penalty=l1, solver=sag, score=nan, total=   0.0s\n",
      "[CV] C=1000, max_iter=400, penalty=l1, solver=sag ....................\n",
      "[CV]  C=1000, max_iter=400, penalty=l1, solver=sag, score=nan, total=   0.0s\n",
      "[CV] C=1000, max_iter=400, penalty=l1, solver=sag ....................\n",
      "[CV]  C=1000, max_iter=400, penalty=l1, solver=sag, score=nan, total=   0.0s\n",
      "[CV] C=1000, max_iter=400, penalty=l1, solver=sag ....................\n",
      "[CV]  C=1000, max_iter=400, penalty=l1, solver=sag, score=nan, total=   0.0s\n",
      "[CV] C=1000, max_iter=400, penalty=l1, solver=sag ....................\n",
      "[CV]  C=1000, max_iter=400, penalty=l1, solver=sag, score=nan, total=   0.0s\n",
      "[CV] C=1000, max_iter=400, penalty=l1, solver=saga ...................\n"
     ]
    },
    {
     "name": "stderr",
     "output_type": "stream",
     "text": [
      "C:\\Users\\hanie\\anaconda3\\lib\\site-packages\\sklearn\\model_selection\\_validation.py:548: FitFailedWarning: Estimator fit failed. The score on this train-test partition for these parameters will be set to nan. Details: \n",
      "Traceback (most recent call last):\n",
      "  File \"C:\\Users\\hanie\\anaconda3\\lib\\site-packages\\sklearn\\model_selection\\_validation.py\", line 531, in _fit_and_score\n",
      "    estimator.fit(X_train, y_train, **fit_params)\n",
      "  File \"C:\\Users\\hanie\\anaconda3\\lib\\site-packages\\sklearn\\linear_model\\_logistic.py\", line 1304, in fit\n",
      "    solver = _check_solver(self.solver, self.penalty, self.dual)\n",
      "  File \"C:\\Users\\hanie\\anaconda3\\lib\\site-packages\\sklearn\\linear_model\\_logistic.py\", line 442, in _check_solver\n",
      "    raise ValueError(\"Solver %s supports only 'l2' or 'none' penalties, \"\n",
      "ValueError: Solver sag supports only 'l2' or 'none' penalties, got l1 penalty.\n",
      "\n",
      "  warnings.warn(\"Estimator fit failed. The score on this train-test\"\n",
      "C:\\Users\\hanie\\anaconda3\\lib\\site-packages\\sklearn\\linear_model\\_sag.py:329: ConvergenceWarning: The max_iter was reached which means the coef_ did not converge\n",
      "  warnings.warn(\"The max_iter was reached which means \"\n"
     ]
    },
    {
     "name": "stdout",
     "output_type": "stream",
     "text": [
      "[CV]  C=1000, max_iter=400, penalty=l1, solver=saga, score=0.843, total=   0.4s\n",
      "[CV] C=1000, max_iter=400, penalty=l1, solver=saga ...................\n"
     ]
    },
    {
     "name": "stderr",
     "output_type": "stream",
     "text": [
      "C:\\Users\\hanie\\anaconda3\\lib\\site-packages\\sklearn\\linear_model\\_sag.py:329: ConvergenceWarning: The max_iter was reached which means the coef_ did not converge\n",
      "  warnings.warn(\"The max_iter was reached which means \"\n"
     ]
    },
    {
     "name": "stdout",
     "output_type": "stream",
     "text": [
      "[CV]  C=1000, max_iter=400, penalty=l1, solver=saga, score=0.840, total=   0.4s\n",
      "[CV] C=1000, max_iter=400, penalty=l1, solver=saga ...................\n"
     ]
    },
    {
     "name": "stderr",
     "output_type": "stream",
     "text": [
      "C:\\Users\\hanie\\anaconda3\\lib\\site-packages\\sklearn\\linear_model\\_sag.py:329: ConvergenceWarning: The max_iter was reached which means the coef_ did not converge\n",
      "  warnings.warn(\"The max_iter was reached which means \"\n"
     ]
    },
    {
     "name": "stdout",
     "output_type": "stream",
     "text": [
      "[CV]  C=1000, max_iter=400, penalty=l1, solver=saga, score=0.861, total=   0.4s\n",
      "[CV] C=1000, max_iter=400, penalty=l1, solver=saga ...................\n"
     ]
    },
    {
     "name": "stderr",
     "output_type": "stream",
     "text": [
      "C:\\Users\\hanie\\anaconda3\\lib\\site-packages\\sklearn\\linear_model\\_sag.py:329: ConvergenceWarning: The max_iter was reached which means the coef_ did not converge\n",
      "  warnings.warn(\"The max_iter was reached which means \"\n"
     ]
    },
    {
     "name": "stdout",
     "output_type": "stream",
     "text": [
      "[CV]  C=1000, max_iter=400, penalty=l1, solver=saga, score=0.830, total=   0.4s\n",
      "[CV] C=1000, max_iter=400, penalty=l1, solver=saga ...................\n"
     ]
    },
    {
     "name": "stderr",
     "output_type": "stream",
     "text": [
      "C:\\Users\\hanie\\anaconda3\\lib\\site-packages\\sklearn\\linear_model\\_sag.py:329: ConvergenceWarning: The max_iter was reached which means the coef_ did not converge\n",
      "  warnings.warn(\"The max_iter was reached which means \"\n"
     ]
    },
    {
     "name": "stdout",
     "output_type": "stream",
     "text": [
      "[CV]  C=1000, max_iter=400, penalty=l1, solver=saga, score=0.823, total=   0.4s\n",
      "[CV] C=1000, max_iter=400, penalty=l2, solver=newton-cg ..............\n",
      "[CV]  C=1000, max_iter=400, penalty=l2, solver=newton-cg, score=0.845, total=   0.1s\n",
      "[CV] C=1000, max_iter=400, penalty=l2, solver=newton-cg ..............\n",
      "[CV]  C=1000, max_iter=400, penalty=l2, solver=newton-cg, score=0.843, total=   0.1s\n",
      "[CV] C=1000, max_iter=400, penalty=l2, solver=newton-cg ..............\n",
      "[CV]  C=1000, max_iter=400, penalty=l2, solver=newton-cg, score=0.863, total=   0.1s\n",
      "[CV] C=1000, max_iter=400, penalty=l2, solver=newton-cg ..............\n",
      "[CV]  C=1000, max_iter=400, penalty=l2, solver=newton-cg, score=0.833, total=   0.1s\n",
      "[CV] C=1000, max_iter=400, penalty=l2, solver=newton-cg ..............\n",
      "[CV]  C=1000, max_iter=400, penalty=l2, solver=newton-cg, score=0.825, total=   0.1s\n",
      "[CV] C=1000, max_iter=400, penalty=l2, solver=lbfgs ..................\n",
      "[CV]  C=1000, max_iter=400, penalty=l2, solver=lbfgs, score=0.845, total=   0.1s\n",
      "[CV] C=1000, max_iter=400, penalty=l2, solver=lbfgs ..................\n",
      "[CV]  C=1000, max_iter=400, penalty=l2, solver=lbfgs, score=0.843, total=   0.1s\n",
      "[CV] C=1000, max_iter=400, penalty=l2, solver=lbfgs ..................\n",
      "[CV]  C=1000, max_iter=400, penalty=l2, solver=lbfgs, score=0.863, total=   0.1s\n",
      "[CV] C=1000, max_iter=400, penalty=l2, solver=lbfgs ..................\n",
      "[CV]  C=1000, max_iter=400, penalty=l2, solver=lbfgs, score=0.833, total=   0.1s\n",
      "[CV] C=1000, max_iter=400, penalty=l2, solver=lbfgs ..................\n",
      "[CV]  C=1000, max_iter=400, penalty=l2, solver=lbfgs, score=0.824, total=   0.1s\n",
      "[CV] C=1000, max_iter=400, penalty=l2, solver=liblinear ..............\n",
      "[CV]  C=1000, max_iter=400, penalty=l2, solver=liblinear, score=0.845, total=   0.0s\n",
      "[CV] C=1000, max_iter=400, penalty=l2, solver=liblinear ..............\n",
      "[CV]  C=1000, max_iter=400, penalty=l2, solver=liblinear, score=0.842, total=   0.0s\n",
      "[CV] C=1000, max_iter=400, penalty=l2, solver=liblinear ..............\n",
      "[CV]  C=1000, max_iter=400, penalty=l2, solver=liblinear, score=0.863, total=   0.0s\n",
      "[CV] C=1000, max_iter=400, penalty=l2, solver=liblinear ..............\n",
      "[CV]  C=1000, max_iter=400, penalty=l2, solver=liblinear, score=0.833, total=   0.0s\n",
      "[CV] C=1000, max_iter=400, penalty=l2, solver=liblinear ..............\n",
      "[CV]  C=1000, max_iter=400, penalty=l2, solver=liblinear, score=0.823, total=   0.0s\n",
      "[CV] C=1000, max_iter=400, penalty=l2, solver=sag ....................\n"
     ]
    },
    {
     "name": "stderr",
     "output_type": "stream",
     "text": [
      "C:\\Users\\hanie\\anaconda3\\lib\\site-packages\\sklearn\\linear_model\\_sag.py:329: ConvergenceWarning: The max_iter was reached which means the coef_ did not converge\n",
      "  warnings.warn(\"The max_iter was reached which means \"\n"
     ]
    },
    {
     "name": "stdout",
     "output_type": "stream",
     "text": [
      "[CV]  C=1000, max_iter=400, penalty=l2, solver=sag, score=0.844, total=   0.3s\n",
      "[CV] C=1000, max_iter=400, penalty=l2, solver=sag ....................\n"
     ]
    },
    {
     "name": "stderr",
     "output_type": "stream",
     "text": [
      "C:\\Users\\hanie\\anaconda3\\lib\\site-packages\\sklearn\\linear_model\\_sag.py:329: ConvergenceWarning: The max_iter was reached which means the coef_ did not converge\n",
      "  warnings.warn(\"The max_iter was reached which means \"\n"
     ]
    },
    {
     "name": "stdout",
     "output_type": "stream",
     "text": [
      "[CV]  C=1000, max_iter=400, penalty=l2, solver=sag, score=0.841, total=   0.3s\n",
      "[CV] C=1000, max_iter=400, penalty=l2, solver=sag ....................\n"
     ]
    },
    {
     "name": "stderr",
     "output_type": "stream",
     "text": [
      "C:\\Users\\hanie\\anaconda3\\lib\\site-packages\\sklearn\\linear_model\\_sag.py:329: ConvergenceWarning: The max_iter was reached which means the coef_ did not converge\n",
      "  warnings.warn(\"The max_iter was reached which means \"\n"
     ]
    },
    {
     "name": "stdout",
     "output_type": "stream",
     "text": [
      "[CV]  C=1000, max_iter=400, penalty=l2, solver=sag, score=0.861, total=   0.3s\n",
      "[CV] C=1000, max_iter=400, penalty=l2, solver=sag ....................\n"
     ]
    },
    {
     "name": "stderr",
     "output_type": "stream",
     "text": [
      "C:\\Users\\hanie\\anaconda3\\lib\\site-packages\\sklearn\\linear_model\\_sag.py:329: ConvergenceWarning: The max_iter was reached which means the coef_ did not converge\n",
      "  warnings.warn(\"The max_iter was reached which means \"\n"
     ]
    },
    {
     "name": "stdout",
     "output_type": "stream",
     "text": [
      "[CV]  C=1000, max_iter=400, penalty=l2, solver=sag, score=0.830, total=   0.2s\n",
      "[CV] C=1000, max_iter=400, penalty=l2, solver=sag ....................\n"
     ]
    },
    {
     "name": "stderr",
     "output_type": "stream",
     "text": [
      "C:\\Users\\hanie\\anaconda3\\lib\\site-packages\\sklearn\\linear_model\\_sag.py:329: ConvergenceWarning: The max_iter was reached which means the coef_ did not converge\n",
      "  warnings.warn(\"The max_iter was reached which means \"\n"
     ]
    },
    {
     "name": "stdout",
     "output_type": "stream",
     "text": [
      "[CV]  C=1000, max_iter=400, penalty=l2, solver=sag, score=0.823, total=   0.3s\n",
      "[CV] C=1000, max_iter=400, penalty=l2, solver=saga ...................\n"
     ]
    },
    {
     "name": "stderr",
     "output_type": "stream",
     "text": [
      "C:\\Users\\hanie\\anaconda3\\lib\\site-packages\\sklearn\\linear_model\\_sag.py:329: ConvergenceWarning: The max_iter was reached which means the coef_ did not converge\n",
      "  warnings.warn(\"The max_iter was reached which means \"\n"
     ]
    },
    {
     "name": "stdout",
     "output_type": "stream",
     "text": [
      "[CV]  C=1000, max_iter=400, penalty=l2, solver=saga, score=0.845, total=   0.3s\n",
      "[CV] C=1000, max_iter=400, penalty=l2, solver=saga ...................\n"
     ]
    },
    {
     "name": "stderr",
     "output_type": "stream",
     "text": [
      "C:\\Users\\hanie\\anaconda3\\lib\\site-packages\\sklearn\\linear_model\\_sag.py:329: ConvergenceWarning: The max_iter was reached which means the coef_ did not converge\n",
      "  warnings.warn(\"The max_iter was reached which means \"\n"
     ]
    },
    {
     "name": "stdout",
     "output_type": "stream",
     "text": [
      "[CV]  C=1000, max_iter=400, penalty=l2, solver=saga, score=0.839, total=   0.4s\n",
      "[CV] C=1000, max_iter=400, penalty=l2, solver=saga ...................\n"
     ]
    },
    {
     "name": "stderr",
     "output_type": "stream",
     "text": [
      "C:\\Users\\hanie\\anaconda3\\lib\\site-packages\\sklearn\\linear_model\\_sag.py:329: ConvergenceWarning: The max_iter was reached which means the coef_ did not converge\n",
      "  warnings.warn(\"The max_iter was reached which means \"\n"
     ]
    },
    {
     "name": "stdout",
     "output_type": "stream",
     "text": [
      "[CV]  C=1000, max_iter=400, penalty=l2, solver=saga, score=0.860, total=   0.3s\n",
      "[CV] C=1000, max_iter=400, penalty=l2, solver=saga ...................\n"
     ]
    },
    {
     "name": "stderr",
     "output_type": "stream",
     "text": [
      "C:\\Users\\hanie\\anaconda3\\lib\\site-packages\\sklearn\\linear_model\\_sag.py:329: ConvergenceWarning: The max_iter was reached which means the coef_ did not converge\n",
      "  warnings.warn(\"The max_iter was reached which means \"\n"
     ]
    },
    {
     "name": "stdout",
     "output_type": "stream",
     "text": [
      "[CV]  C=1000, max_iter=400, penalty=l2, solver=saga, score=0.830, total=   0.4s\n",
      "[CV] C=1000, max_iter=400, penalty=l2, solver=saga ...................\n"
     ]
    },
    {
     "name": "stderr",
     "output_type": "stream",
     "text": [
      "C:\\Users\\hanie\\anaconda3\\lib\\site-packages\\sklearn\\linear_model\\_sag.py:329: ConvergenceWarning: The max_iter was reached which means the coef_ did not converge\n",
      "  warnings.warn(\"The max_iter was reached which means \"\n",
      "C:\\Users\\hanie\\anaconda3\\lib\\site-packages\\sklearn\\model_selection\\_validation.py:548: FitFailedWarning: Estimator fit failed. The score on this train-test partition for these parameters will be set to nan. Details: \n",
      "Traceback (most recent call last):\n",
      "  File \"C:\\Users\\hanie\\anaconda3\\lib\\site-packages\\sklearn\\model_selection\\_validation.py\", line 531, in _fit_and_score\n",
      "    estimator.fit(X_train, y_train, **fit_params)\n",
      "  File \"C:\\Users\\hanie\\anaconda3\\lib\\site-packages\\sklearn\\linear_model\\_logistic.py\", line 1304, in fit\n",
      "    solver = _check_solver(self.solver, self.penalty, self.dual)\n",
      "  File \"C:\\Users\\hanie\\anaconda3\\lib\\site-packages\\sklearn\\linear_model\\_logistic.py\", line 442, in _check_solver\n",
      "    raise ValueError(\"Solver %s supports only 'l2' or 'none' penalties, \"\n",
      "ValueError: Solver newton-cg supports only 'l2' or 'none' penalties, got l1 penalty.\n",
      "\n",
      "  warnings.warn(\"Estimator fit failed. The score on this train-test\"\n",
      "C:\\Users\\hanie\\anaconda3\\lib\\site-packages\\sklearn\\model_selection\\_validation.py:548: FitFailedWarning: Estimator fit failed. The score on this train-test partition for these parameters will be set to nan. Details: \n",
      "Traceback (most recent call last):\n",
      "  File \"C:\\Users\\hanie\\anaconda3\\lib\\site-packages\\sklearn\\model_selection\\_validation.py\", line 531, in _fit_and_score\n",
      "    estimator.fit(X_train, y_train, **fit_params)\n",
      "  File \"C:\\Users\\hanie\\anaconda3\\lib\\site-packages\\sklearn\\linear_model\\_logistic.py\", line 1304, in fit\n",
      "    solver = _check_solver(self.solver, self.penalty, self.dual)\n",
      "  File \"C:\\Users\\hanie\\anaconda3\\lib\\site-packages\\sklearn\\linear_model\\_logistic.py\", line 442, in _check_solver\n",
      "    raise ValueError(\"Solver %s supports only 'l2' or 'none' penalties, \"\n",
      "ValueError: Solver lbfgs supports only 'l2' or 'none' penalties, got l1 penalty.\n",
      "\n",
      "  warnings.warn(\"Estimator fit failed. The score on this train-test\"\n"
     ]
    },
    {
     "name": "stdout",
     "output_type": "stream",
     "text": [
      "[CV]  C=1000, max_iter=400, penalty=l2, solver=saga, score=0.822, total=   0.3s\n",
      "[CV] C=1000, max_iter=500, penalty=l1, solver=newton-cg ..............\n",
      "[CV]  C=1000, max_iter=500, penalty=l1, solver=newton-cg, score=nan, total=   0.0s\n",
      "[CV] C=1000, max_iter=500, penalty=l1, solver=newton-cg ..............\n",
      "[CV]  C=1000, max_iter=500, penalty=l1, solver=newton-cg, score=nan, total=   0.0s\n",
      "[CV] C=1000, max_iter=500, penalty=l1, solver=newton-cg ..............\n",
      "[CV]  C=1000, max_iter=500, penalty=l1, solver=newton-cg, score=nan, total=   0.0s\n",
      "[CV] C=1000, max_iter=500, penalty=l1, solver=newton-cg ..............\n",
      "[CV]  C=1000, max_iter=500, penalty=l1, solver=newton-cg, score=nan, total=   0.0s\n",
      "[CV] C=1000, max_iter=500, penalty=l1, solver=newton-cg ..............\n",
      "[CV]  C=1000, max_iter=500, penalty=l1, solver=newton-cg, score=nan, total=   0.0s\n",
      "[CV] C=1000, max_iter=500, penalty=l1, solver=lbfgs ..................\n",
      "[CV]  C=1000, max_iter=500, penalty=l1, solver=lbfgs, score=nan, total=   0.0s\n",
      "[CV] C=1000, max_iter=500, penalty=l1, solver=lbfgs ..................\n",
      "[CV]  C=1000, max_iter=500, penalty=l1, solver=lbfgs, score=nan, total=   0.0s\n",
      "[CV] C=1000, max_iter=500, penalty=l1, solver=lbfgs ..................\n",
      "[CV]  C=1000, max_iter=500, penalty=l1, solver=lbfgs, score=nan, total=   0.0s\n",
      "[CV] C=1000, max_iter=500, penalty=l1, solver=lbfgs ..................\n",
      "[CV]  C=1000, max_iter=500, penalty=l1, solver=lbfgs, score=nan, total=   0.0s\n",
      "[CV] C=1000, max_iter=500, penalty=l1, solver=lbfgs ..................\n",
      "[CV]  C=1000, max_iter=500, penalty=l1, solver=lbfgs, score=nan, total=   0.0s\n",
      "[CV] C=1000, max_iter=500, penalty=l1, solver=liblinear ..............\n",
      "[CV]  C=1000, max_iter=500, penalty=l1, solver=liblinear, score=0.869, total=   1.5s\n",
      "[CV] C=1000, max_iter=500, penalty=l1, solver=liblinear ..............\n",
      "[CV]  C=1000, max_iter=500, penalty=l1, solver=liblinear, score=0.861, total=   0.3s\n",
      "[CV] C=1000, max_iter=500, penalty=l1, solver=liblinear ..............\n",
      "[CV]  C=1000, max_iter=500, penalty=l1, solver=liblinear, score=0.868, total=   0.1s\n",
      "[CV] C=1000, max_iter=500, penalty=l1, solver=liblinear ..............\n",
      "[CV]  C=1000, max_iter=500, penalty=l1, solver=liblinear, score=0.843, total=   1.5s\n",
      "[CV] C=1000, max_iter=500, penalty=l1, solver=liblinear ..............\n",
      "[CV]  C=1000, max_iter=500, penalty=l1, solver=liblinear, score=0.842, total=   1.3s\n",
      "[CV] C=1000, max_iter=500, penalty=l1, solver=sag ....................\n",
      "[CV]  C=1000, max_iter=500, penalty=l1, solver=sag, score=nan, total=   0.0s\n",
      "[CV] C=1000, max_iter=500, penalty=l1, solver=sag ....................\n",
      "[CV]  C=1000, max_iter=500, penalty=l1, solver=sag, score=nan, total=   0.0s\n",
      "[CV] C=1000, max_iter=500, penalty=l1, solver=sag ....................\n",
      "[CV]  C=1000, max_iter=500, penalty=l1, solver=sag, score=nan, total=   0.0s\n",
      "[CV] C=1000, max_iter=500, penalty=l1, solver=sag ....................\n",
      "[CV]  C=1000, max_iter=500, penalty=l1, solver=sag, score=nan, total=   0.0s\n",
      "[CV] C=1000, max_iter=500, penalty=l1, solver=sag ....................\n",
      "[CV]  C=1000, max_iter=500, penalty=l1, solver=sag, score=nan, total=   0.0s\n",
      "[CV] C=1000, max_iter=500, penalty=l1, solver=saga ...................\n"
     ]
    },
    {
     "name": "stderr",
     "output_type": "stream",
     "text": [
      "C:\\Users\\hanie\\anaconda3\\lib\\site-packages\\sklearn\\model_selection\\_validation.py:548: FitFailedWarning: Estimator fit failed. The score on this train-test partition for these parameters will be set to nan. Details: \n",
      "Traceback (most recent call last):\n",
      "  File \"C:\\Users\\hanie\\anaconda3\\lib\\site-packages\\sklearn\\model_selection\\_validation.py\", line 531, in _fit_and_score\n",
      "    estimator.fit(X_train, y_train, **fit_params)\n",
      "  File \"C:\\Users\\hanie\\anaconda3\\lib\\site-packages\\sklearn\\linear_model\\_logistic.py\", line 1304, in fit\n",
      "    solver = _check_solver(self.solver, self.penalty, self.dual)\n",
      "  File \"C:\\Users\\hanie\\anaconda3\\lib\\site-packages\\sklearn\\linear_model\\_logistic.py\", line 442, in _check_solver\n",
      "    raise ValueError(\"Solver %s supports only 'l2' or 'none' penalties, \"\n",
      "ValueError: Solver sag supports only 'l2' or 'none' penalties, got l1 penalty.\n",
      "\n",
      "  warnings.warn(\"Estimator fit failed. The score on this train-test\"\n",
      "C:\\Users\\hanie\\anaconda3\\lib\\site-packages\\sklearn\\linear_model\\_sag.py:329: ConvergenceWarning: The max_iter was reached which means the coef_ did not converge\n",
      "  warnings.warn(\"The max_iter was reached which means \"\n"
     ]
    },
    {
     "name": "stdout",
     "output_type": "stream",
     "text": [
      "[CV]  C=1000, max_iter=500, penalty=l1, solver=saga, score=0.843, total=   0.4s\n",
      "[CV] C=1000, max_iter=500, penalty=l1, solver=saga ...................\n"
     ]
    },
    {
     "name": "stderr",
     "output_type": "stream",
     "text": [
      "C:\\Users\\hanie\\anaconda3\\lib\\site-packages\\sklearn\\linear_model\\_sag.py:329: ConvergenceWarning: The max_iter was reached which means the coef_ did not converge\n",
      "  warnings.warn(\"The max_iter was reached which means \"\n"
     ]
    },
    {
     "name": "stdout",
     "output_type": "stream",
     "text": [
      "[CV]  C=1000, max_iter=500, penalty=l1, solver=saga, score=0.842, total=   0.5s\n",
      "[CV] C=1000, max_iter=500, penalty=l1, solver=saga ...................\n"
     ]
    },
    {
     "name": "stderr",
     "output_type": "stream",
     "text": [
      "C:\\Users\\hanie\\anaconda3\\lib\\site-packages\\sklearn\\linear_model\\_sag.py:329: ConvergenceWarning: The max_iter was reached which means the coef_ did not converge\n",
      "  warnings.warn(\"The max_iter was reached which means \"\n"
     ]
    },
    {
     "name": "stdout",
     "output_type": "stream",
     "text": [
      "[CV]  C=1000, max_iter=500, penalty=l1, solver=saga, score=0.862, total=   0.4s\n",
      "[CV] C=1000, max_iter=500, penalty=l1, solver=saga ...................\n"
     ]
    },
    {
     "name": "stderr",
     "output_type": "stream",
     "text": [
      "C:\\Users\\hanie\\anaconda3\\lib\\site-packages\\sklearn\\linear_model\\_sag.py:329: ConvergenceWarning: The max_iter was reached which means the coef_ did not converge\n",
      "  warnings.warn(\"The max_iter was reached which means \"\n"
     ]
    },
    {
     "name": "stdout",
     "output_type": "stream",
     "text": [
      "[CV]  C=1000, max_iter=500, penalty=l1, solver=saga, score=0.831, total=   0.4s\n",
      "[CV] C=1000, max_iter=500, penalty=l1, solver=saga ...................\n"
     ]
    },
    {
     "name": "stderr",
     "output_type": "stream",
     "text": [
      "C:\\Users\\hanie\\anaconda3\\lib\\site-packages\\sklearn\\linear_model\\_sag.py:329: ConvergenceWarning: The max_iter was reached which means the coef_ did not converge\n",
      "  warnings.warn(\"The max_iter was reached which means \"\n"
     ]
    },
    {
     "name": "stdout",
     "output_type": "stream",
     "text": [
      "[CV]  C=1000, max_iter=500, penalty=l1, solver=saga, score=0.823, total=   0.4s\n",
      "[CV] C=1000, max_iter=500, penalty=l2, solver=newton-cg ..............\n",
      "[CV]  C=1000, max_iter=500, penalty=l2, solver=newton-cg, score=0.845, total=   0.1s\n",
      "[CV] C=1000, max_iter=500, penalty=l2, solver=newton-cg ..............\n",
      "[CV]  C=1000, max_iter=500, penalty=l2, solver=newton-cg, score=0.843, total=   0.1s\n",
      "[CV] C=1000, max_iter=500, penalty=l2, solver=newton-cg ..............\n",
      "[CV]  C=1000, max_iter=500, penalty=l2, solver=newton-cg, score=0.863, total=   0.1s\n",
      "[CV] C=1000, max_iter=500, penalty=l2, solver=newton-cg ..............\n",
      "[CV]  C=1000, max_iter=500, penalty=l2, solver=newton-cg, score=0.833, total=   0.1s\n",
      "[CV] C=1000, max_iter=500, penalty=l2, solver=newton-cg ..............\n",
      "[CV]  C=1000, max_iter=500, penalty=l2, solver=newton-cg, score=0.825, total=   0.1s\n",
      "[CV] C=1000, max_iter=500, penalty=l2, solver=lbfgs ..................\n",
      "[CV]  C=1000, max_iter=500, penalty=l2, solver=lbfgs, score=0.845, total=   0.1s\n",
      "[CV] C=1000, max_iter=500, penalty=l2, solver=lbfgs ..................\n",
      "[CV]  C=1000, max_iter=500, penalty=l2, solver=lbfgs, score=0.843, total=   0.1s\n",
      "[CV] C=1000, max_iter=500, penalty=l2, solver=lbfgs ..................\n",
      "[CV]  C=1000, max_iter=500, penalty=l2, solver=lbfgs, score=0.863, total=   0.1s\n",
      "[CV] C=1000, max_iter=500, penalty=l2, solver=lbfgs ..................\n",
      "[CV]  C=1000, max_iter=500, penalty=l2, solver=lbfgs, score=0.833, total=   0.1s\n",
      "[CV] C=1000, max_iter=500, penalty=l2, solver=lbfgs ..................\n",
      "[CV]  C=1000, max_iter=500, penalty=l2, solver=lbfgs, score=0.824, total=   0.1s\n",
      "[CV] C=1000, max_iter=500, penalty=l2, solver=liblinear ..............\n",
      "[CV]  C=1000, max_iter=500, penalty=l2, solver=liblinear, score=0.845, total=   0.0s\n",
      "[CV] C=1000, max_iter=500, penalty=l2, solver=liblinear ..............\n",
      "[CV]  C=1000, max_iter=500, penalty=l2, solver=liblinear, score=0.842, total=   0.0s\n",
      "[CV] C=1000, max_iter=500, penalty=l2, solver=liblinear ..............\n",
      "[CV]  C=1000, max_iter=500, penalty=l2, solver=liblinear, score=0.863, total=   0.0s\n",
      "[CV] C=1000, max_iter=500, penalty=l2, solver=liblinear ..............\n",
      "[CV]  C=1000, max_iter=500, penalty=l2, solver=liblinear, score=0.833, total=   0.0s\n",
      "[CV] C=1000, max_iter=500, penalty=l2, solver=liblinear ..............\n",
      "[CV]  C=1000, max_iter=500, penalty=l2, solver=liblinear, score=0.823, total=   0.0s\n",
      "[CV] C=1000, max_iter=500, penalty=l2, solver=sag ....................\n"
     ]
    },
    {
     "name": "stderr",
     "output_type": "stream",
     "text": [
      "C:\\Users\\hanie\\anaconda3\\lib\\site-packages\\sklearn\\linear_model\\_sag.py:329: ConvergenceWarning: The max_iter was reached which means the coef_ did not converge\n",
      "  warnings.warn(\"The max_iter was reached which means \"\n"
     ]
    },
    {
     "name": "stdout",
     "output_type": "stream",
     "text": [
      "[CV]  C=1000, max_iter=500, penalty=l2, solver=sag, score=0.844, total=   0.4s\n",
      "[CV] C=1000, max_iter=500, penalty=l2, solver=sag ....................\n"
     ]
    },
    {
     "name": "stderr",
     "output_type": "stream",
     "text": [
      "C:\\Users\\hanie\\anaconda3\\lib\\site-packages\\sklearn\\linear_model\\_sag.py:329: ConvergenceWarning: The max_iter was reached which means the coef_ did not converge\n",
      "  warnings.warn(\"The max_iter was reached which means \"\n"
     ]
    },
    {
     "name": "stdout",
     "output_type": "stream",
     "text": [
      "[CV]  C=1000, max_iter=500, penalty=l2, solver=sag, score=0.841, total=   0.3s\n",
      "[CV] C=1000, max_iter=500, penalty=l2, solver=sag ....................\n"
     ]
    },
    {
     "name": "stderr",
     "output_type": "stream",
     "text": [
      "C:\\Users\\hanie\\anaconda3\\lib\\site-packages\\sklearn\\linear_model\\_sag.py:329: ConvergenceWarning: The max_iter was reached which means the coef_ did not converge\n",
      "  warnings.warn(\"The max_iter was reached which means \"\n"
     ]
    },
    {
     "name": "stdout",
     "output_type": "stream",
     "text": [
      "[CV]  C=1000, max_iter=500, penalty=l2, solver=sag, score=0.862, total=   0.3s\n",
      "[CV] C=1000, max_iter=500, penalty=l2, solver=sag ....................\n"
     ]
    },
    {
     "name": "stderr",
     "output_type": "stream",
     "text": [
      "C:\\Users\\hanie\\anaconda3\\lib\\site-packages\\sklearn\\linear_model\\_sag.py:329: ConvergenceWarning: The max_iter was reached which means the coef_ did not converge\n",
      "  warnings.warn(\"The max_iter was reached which means \"\n"
     ]
    },
    {
     "name": "stdout",
     "output_type": "stream",
     "text": [
      "[CV]  C=1000, max_iter=500, penalty=l2, solver=sag, score=0.830, total=   0.3s\n",
      "[CV] C=1000, max_iter=500, penalty=l2, solver=sag ....................\n"
     ]
    },
    {
     "name": "stderr",
     "output_type": "stream",
     "text": [
      "C:\\Users\\hanie\\anaconda3\\lib\\site-packages\\sklearn\\linear_model\\_sag.py:329: ConvergenceWarning: The max_iter was reached which means the coef_ did not converge\n",
      "  warnings.warn(\"The max_iter was reached which means \"\n"
     ]
    },
    {
     "name": "stdout",
     "output_type": "stream",
     "text": [
      "[CV]  C=1000, max_iter=500, penalty=l2, solver=sag, score=0.823, total=   0.3s\n",
      "[CV] C=1000, max_iter=500, penalty=l2, solver=saga ...................\n"
     ]
    },
    {
     "name": "stderr",
     "output_type": "stream",
     "text": [
      "C:\\Users\\hanie\\anaconda3\\lib\\site-packages\\sklearn\\linear_model\\_sag.py:329: ConvergenceWarning: The max_iter was reached which means the coef_ did not converge\n",
      "  warnings.warn(\"The max_iter was reached which means \"\n"
     ]
    },
    {
     "name": "stdout",
     "output_type": "stream",
     "text": [
      "[CV]  C=1000, max_iter=500, penalty=l2, solver=saga, score=0.845, total=   0.3s\n",
      "[CV] C=1000, max_iter=500, penalty=l2, solver=saga ...................\n"
     ]
    },
    {
     "name": "stderr",
     "output_type": "stream",
     "text": [
      "C:\\Users\\hanie\\anaconda3\\lib\\site-packages\\sklearn\\linear_model\\_sag.py:329: ConvergenceWarning: The max_iter was reached which means the coef_ did not converge\n",
      "  warnings.warn(\"The max_iter was reached which means \"\n"
     ]
    },
    {
     "name": "stdout",
     "output_type": "stream",
     "text": [
      "[CV]  C=1000, max_iter=500, penalty=l2, solver=saga, score=0.839, total=   0.3s\n",
      "[CV] C=1000, max_iter=500, penalty=l2, solver=saga ...................\n"
     ]
    },
    {
     "name": "stderr",
     "output_type": "stream",
     "text": [
      "C:\\Users\\hanie\\anaconda3\\lib\\site-packages\\sklearn\\linear_model\\_sag.py:329: ConvergenceWarning: The max_iter was reached which means the coef_ did not converge\n",
      "  warnings.warn(\"The max_iter was reached which means \"\n"
     ]
    },
    {
     "name": "stdout",
     "output_type": "stream",
     "text": [
      "[CV]  C=1000, max_iter=500, penalty=l2, solver=saga, score=0.860, total=   0.3s\n",
      "[CV] C=1000, max_iter=500, penalty=l2, solver=saga ...................\n"
     ]
    },
    {
     "name": "stderr",
     "output_type": "stream",
     "text": [
      "C:\\Users\\hanie\\anaconda3\\lib\\site-packages\\sklearn\\linear_model\\_sag.py:329: ConvergenceWarning: The max_iter was reached which means the coef_ did not converge\n",
      "  warnings.warn(\"The max_iter was reached which means \"\n"
     ]
    },
    {
     "name": "stdout",
     "output_type": "stream",
     "text": [
      "[CV]  C=1000, max_iter=500, penalty=l2, solver=saga, score=0.832, total=   0.3s\n",
      "[CV] C=1000, max_iter=500, penalty=l2, solver=saga ...................\n"
     ]
    },
    {
     "name": "stderr",
     "output_type": "stream",
     "text": [
      "C:\\Users\\hanie\\anaconda3\\lib\\site-packages\\sklearn\\linear_model\\_sag.py:329: ConvergenceWarning: The max_iter was reached which means the coef_ did not converge\n",
      "  warnings.warn(\"The max_iter was reached which means \"\n",
      "C:\\Users\\hanie\\anaconda3\\lib\\site-packages\\sklearn\\model_selection\\_validation.py:548: FitFailedWarning: Estimator fit failed. The score on this train-test partition for these parameters will be set to nan. Details: \n",
      "Traceback (most recent call last):\n",
      "  File \"C:\\Users\\hanie\\anaconda3\\lib\\site-packages\\sklearn\\model_selection\\_validation.py\", line 531, in _fit_and_score\n",
      "    estimator.fit(X_train, y_train, **fit_params)\n",
      "  File \"C:\\Users\\hanie\\anaconda3\\lib\\site-packages\\sklearn\\linear_model\\_logistic.py\", line 1304, in fit\n",
      "    solver = _check_solver(self.solver, self.penalty, self.dual)\n",
      "  File \"C:\\Users\\hanie\\anaconda3\\lib\\site-packages\\sklearn\\linear_model\\_logistic.py\", line 442, in _check_solver\n",
      "    raise ValueError(\"Solver %s supports only 'l2' or 'none' penalties, \"\n",
      "ValueError: Solver newton-cg supports only 'l2' or 'none' penalties, got l1 penalty.\n",
      "\n",
      "  warnings.warn(\"Estimator fit failed. The score on this train-test\"\n",
      "C:\\Users\\hanie\\anaconda3\\lib\\site-packages\\sklearn\\model_selection\\_validation.py:548: FitFailedWarning: Estimator fit failed. The score on this train-test partition for these parameters will be set to nan. Details: \n",
      "Traceback (most recent call last):\n",
      "  File \"C:\\Users\\hanie\\anaconda3\\lib\\site-packages\\sklearn\\model_selection\\_validation.py\", line 531, in _fit_and_score\n",
      "    estimator.fit(X_train, y_train, **fit_params)\n",
      "  File \"C:\\Users\\hanie\\anaconda3\\lib\\site-packages\\sklearn\\linear_model\\_logistic.py\", line 1304, in fit\n",
      "    solver = _check_solver(self.solver, self.penalty, self.dual)\n",
      "  File \"C:\\Users\\hanie\\anaconda3\\lib\\site-packages\\sklearn\\linear_model\\_logistic.py\", line 442, in _check_solver\n",
      "    raise ValueError(\"Solver %s supports only 'l2' or 'none' penalties, \"\n",
      "ValueError: Solver lbfgs supports only 'l2' or 'none' penalties, got l1 penalty.\n",
      "\n",
      "  warnings.warn(\"Estimator fit failed. The score on this train-test\"\n"
     ]
    },
    {
     "name": "stdout",
     "output_type": "stream",
     "text": [
      "[CV]  C=1000, max_iter=500, penalty=l2, solver=saga, score=0.823, total=   0.3s\n",
      "[CV] C=1000, max_iter=600, penalty=l1, solver=newton-cg ..............\n",
      "[CV]  C=1000, max_iter=600, penalty=l1, solver=newton-cg, score=nan, total=   0.0s\n",
      "[CV] C=1000, max_iter=600, penalty=l1, solver=newton-cg ..............\n",
      "[CV]  C=1000, max_iter=600, penalty=l1, solver=newton-cg, score=nan, total=   0.0s\n",
      "[CV] C=1000, max_iter=600, penalty=l1, solver=newton-cg ..............\n",
      "[CV]  C=1000, max_iter=600, penalty=l1, solver=newton-cg, score=nan, total=   0.0s\n",
      "[CV] C=1000, max_iter=600, penalty=l1, solver=newton-cg ..............\n",
      "[CV]  C=1000, max_iter=600, penalty=l1, solver=newton-cg, score=nan, total=   0.0s\n",
      "[CV] C=1000, max_iter=600, penalty=l1, solver=newton-cg ..............\n",
      "[CV]  C=1000, max_iter=600, penalty=l1, solver=newton-cg, score=nan, total=   0.0s\n",
      "[CV] C=1000, max_iter=600, penalty=l1, solver=lbfgs ..................\n",
      "[CV]  C=1000, max_iter=600, penalty=l1, solver=lbfgs, score=nan, total=   0.0s\n",
      "[CV] C=1000, max_iter=600, penalty=l1, solver=lbfgs ..................\n",
      "[CV]  C=1000, max_iter=600, penalty=l1, solver=lbfgs, score=nan, total=   0.0s\n",
      "[CV] C=1000, max_iter=600, penalty=l1, solver=lbfgs ..................\n",
      "[CV]  C=1000, max_iter=600, penalty=l1, solver=lbfgs, score=nan, total=   0.0s\n",
      "[CV] C=1000, max_iter=600, penalty=l1, solver=lbfgs ..................\n",
      "[CV]  C=1000, max_iter=600, penalty=l1, solver=lbfgs, score=nan, total=   0.0s\n",
      "[CV] C=1000, max_iter=600, penalty=l1, solver=lbfgs ..................\n",
      "[CV]  C=1000, max_iter=600, penalty=l1, solver=lbfgs, score=nan, total=   0.0s\n",
      "[CV] C=1000, max_iter=600, penalty=l1, solver=liblinear ..............\n",
      "[CV]  C=1000, max_iter=600, penalty=l1, solver=liblinear, score=0.868, total=   1.0s\n",
      "[CV] C=1000, max_iter=600, penalty=l1, solver=liblinear ..............\n",
      "[CV]  C=1000, max_iter=600, penalty=l1, solver=liblinear, score=0.861, total=   0.2s\n",
      "[CV] C=1000, max_iter=600, penalty=l1, solver=liblinear ..............\n",
      "[CV]  C=1000, max_iter=600, penalty=l1, solver=liblinear, score=0.868, total=   0.1s\n",
      "[CV] C=1000, max_iter=600, penalty=l1, solver=liblinear ..............\n",
      "[CV]  C=1000, max_iter=600, penalty=l1, solver=liblinear, score=0.841, total=   0.5s\n",
      "[CV] C=1000, max_iter=600, penalty=l1, solver=liblinear ..............\n",
      "[CV]  C=1000, max_iter=600, penalty=l1, solver=liblinear, score=0.842, total=   1.0s\n",
      "[CV] C=1000, max_iter=600, penalty=l1, solver=sag ....................\n",
      "[CV]  C=1000, max_iter=600, penalty=l1, solver=sag, score=nan, total=   0.0s\n",
      "[CV] C=1000, max_iter=600, penalty=l1, solver=sag ....................\n",
      "[CV]  C=1000, max_iter=600, penalty=l1, solver=sag, score=nan, total=   0.0s\n",
      "[CV] C=1000, max_iter=600, penalty=l1, solver=sag ....................\n",
      "[CV]  C=1000, max_iter=600, penalty=l1, solver=sag, score=nan, total=   0.0s\n",
      "[CV] C=1000, max_iter=600, penalty=l1, solver=sag ....................\n",
      "[CV]  C=1000, max_iter=600, penalty=l1, solver=sag, score=nan, total=   0.0s\n",
      "[CV] C=1000, max_iter=600, penalty=l1, solver=sag ....................\n",
      "[CV]  C=1000, max_iter=600, penalty=l1, solver=sag, score=nan, total=   0.0s\n",
      "[CV] C=1000, max_iter=600, penalty=l1, solver=saga ...................\n"
     ]
    },
    {
     "name": "stderr",
     "output_type": "stream",
     "text": [
      "C:\\Users\\hanie\\anaconda3\\lib\\site-packages\\sklearn\\model_selection\\_validation.py:548: FitFailedWarning: Estimator fit failed. The score on this train-test partition for these parameters will be set to nan. Details: \n",
      "Traceback (most recent call last):\n",
      "  File \"C:\\Users\\hanie\\anaconda3\\lib\\site-packages\\sklearn\\model_selection\\_validation.py\", line 531, in _fit_and_score\n",
      "    estimator.fit(X_train, y_train, **fit_params)\n",
      "  File \"C:\\Users\\hanie\\anaconda3\\lib\\site-packages\\sklearn\\linear_model\\_logistic.py\", line 1304, in fit\n",
      "    solver = _check_solver(self.solver, self.penalty, self.dual)\n",
      "  File \"C:\\Users\\hanie\\anaconda3\\lib\\site-packages\\sklearn\\linear_model\\_logistic.py\", line 442, in _check_solver\n",
      "    raise ValueError(\"Solver %s supports only 'l2' or 'none' penalties, \"\n",
      "ValueError: Solver sag supports only 'l2' or 'none' penalties, got l1 penalty.\n",
      "\n",
      "  warnings.warn(\"Estimator fit failed. The score on this train-test\"\n",
      "C:\\Users\\hanie\\anaconda3\\lib\\site-packages\\sklearn\\linear_model\\_sag.py:329: ConvergenceWarning: The max_iter was reached which means the coef_ did not converge\n",
      "  warnings.warn(\"The max_iter was reached which means \"\n"
     ]
    },
    {
     "name": "stdout",
     "output_type": "stream",
     "text": [
      "[CV]  C=1000, max_iter=600, penalty=l1, solver=saga, score=0.843, total=   0.5s\n",
      "[CV] C=1000, max_iter=600, penalty=l1, solver=saga ...................\n"
     ]
    },
    {
     "name": "stderr",
     "output_type": "stream",
     "text": [
      "C:\\Users\\hanie\\anaconda3\\lib\\site-packages\\sklearn\\linear_model\\_sag.py:329: ConvergenceWarning: The max_iter was reached which means the coef_ did not converge\n",
      "  warnings.warn(\"The max_iter was reached which means \"\n"
     ]
    },
    {
     "name": "stdout",
     "output_type": "stream",
     "text": [
      "[CV]  C=1000, max_iter=600, penalty=l1, solver=saga, score=0.842, total=   0.5s\n",
      "[CV] C=1000, max_iter=600, penalty=l1, solver=saga ...................\n"
     ]
    },
    {
     "name": "stderr",
     "output_type": "stream",
     "text": [
      "C:\\Users\\hanie\\anaconda3\\lib\\site-packages\\sklearn\\linear_model\\_sag.py:329: ConvergenceWarning: The max_iter was reached which means the coef_ did not converge\n",
      "  warnings.warn(\"The max_iter was reached which means \"\n"
     ]
    },
    {
     "name": "stdout",
     "output_type": "stream",
     "text": [
      "[CV]  C=1000, max_iter=600, penalty=l1, solver=saga, score=0.863, total=   0.5s\n",
      "[CV] C=1000, max_iter=600, penalty=l1, solver=saga ...................\n"
     ]
    },
    {
     "name": "stderr",
     "output_type": "stream",
     "text": [
      "C:\\Users\\hanie\\anaconda3\\lib\\site-packages\\sklearn\\linear_model\\_sag.py:329: ConvergenceWarning: The max_iter was reached which means the coef_ did not converge\n",
      "  warnings.warn(\"The max_iter was reached which means \"\n"
     ]
    },
    {
     "name": "stdout",
     "output_type": "stream",
     "text": [
      "[CV]  C=1000, max_iter=600, penalty=l1, solver=saga, score=0.832, total=   0.5s\n",
      "[CV] C=1000, max_iter=600, penalty=l1, solver=saga ...................\n"
     ]
    },
    {
     "name": "stderr",
     "output_type": "stream",
     "text": [
      "C:\\Users\\hanie\\anaconda3\\lib\\site-packages\\sklearn\\linear_model\\_sag.py:329: ConvergenceWarning: The max_iter was reached which means the coef_ did not converge\n",
      "  warnings.warn(\"The max_iter was reached which means \"\n"
     ]
    },
    {
     "name": "stdout",
     "output_type": "stream",
     "text": [
      "[CV]  C=1000, max_iter=600, penalty=l1, solver=saga, score=0.823, total=   0.5s\n",
      "[CV] C=1000, max_iter=600, penalty=l2, solver=newton-cg ..............\n",
      "[CV]  C=1000, max_iter=600, penalty=l2, solver=newton-cg, score=0.845, total=   0.1s\n",
      "[CV] C=1000, max_iter=600, penalty=l2, solver=newton-cg ..............\n",
      "[CV]  C=1000, max_iter=600, penalty=l2, solver=newton-cg, score=0.843, total=   0.1s\n",
      "[CV] C=1000, max_iter=600, penalty=l2, solver=newton-cg ..............\n",
      "[CV]  C=1000, max_iter=600, penalty=l2, solver=newton-cg, score=0.863, total=   0.1s\n",
      "[CV] C=1000, max_iter=600, penalty=l2, solver=newton-cg ..............\n",
      "[CV]  C=1000, max_iter=600, penalty=l2, solver=newton-cg, score=0.833, total=   0.1s\n",
      "[CV] C=1000, max_iter=600, penalty=l2, solver=newton-cg ..............\n",
      "[CV]  C=1000, max_iter=600, penalty=l2, solver=newton-cg, score=0.825, total=   0.1s\n",
      "[CV] C=1000, max_iter=600, penalty=l2, solver=lbfgs ..................\n",
      "[CV]  C=1000, max_iter=600, penalty=l2, solver=lbfgs, score=0.845, total=   0.1s\n",
      "[CV] C=1000, max_iter=600, penalty=l2, solver=lbfgs ..................\n",
      "[CV]  C=1000, max_iter=600, penalty=l2, solver=lbfgs, score=0.843, total=   0.1s\n",
      "[CV] C=1000, max_iter=600, penalty=l2, solver=lbfgs ..................\n",
      "[CV]  C=1000, max_iter=600, penalty=l2, solver=lbfgs, score=0.863, total=   0.1s\n",
      "[CV] C=1000, max_iter=600, penalty=l2, solver=lbfgs ..................\n",
      "[CV]  C=1000, max_iter=600, penalty=l2, solver=lbfgs, score=0.833, total=   0.1s\n",
      "[CV] C=1000, max_iter=600, penalty=l2, solver=lbfgs ..................\n",
      "[CV]  C=1000, max_iter=600, penalty=l2, solver=lbfgs, score=0.824, total=   0.1s\n",
      "[CV] C=1000, max_iter=600, penalty=l2, solver=liblinear ..............\n",
      "[CV]  C=1000, max_iter=600, penalty=l2, solver=liblinear, score=0.845, total=   0.0s\n",
      "[CV] C=1000, max_iter=600, penalty=l2, solver=liblinear ..............\n",
      "[CV]  C=1000, max_iter=600, penalty=l2, solver=liblinear, score=0.842, total=   0.0s\n",
      "[CV] C=1000, max_iter=600, penalty=l2, solver=liblinear ..............\n",
      "[CV]  C=1000, max_iter=600, penalty=l2, solver=liblinear, score=0.863, total=   0.0s\n",
      "[CV] C=1000, max_iter=600, penalty=l2, solver=liblinear ..............\n",
      "[CV]  C=1000, max_iter=600, penalty=l2, solver=liblinear, score=0.833, total=   0.0s\n",
      "[CV] C=1000, max_iter=600, penalty=l2, solver=liblinear ..............\n",
      "[CV]  C=1000, max_iter=600, penalty=l2, solver=liblinear, score=0.823, total=   0.0s\n",
      "[CV] C=1000, max_iter=600, penalty=l2, solver=sag ....................\n"
     ]
    },
    {
     "name": "stderr",
     "output_type": "stream",
     "text": [
      "C:\\Users\\hanie\\anaconda3\\lib\\site-packages\\sklearn\\linear_model\\_sag.py:329: ConvergenceWarning: The max_iter was reached which means the coef_ did not converge\n",
      "  warnings.warn(\"The max_iter was reached which means \"\n"
     ]
    },
    {
     "name": "stdout",
     "output_type": "stream",
     "text": [
      "[CV]  C=1000, max_iter=600, penalty=l2, solver=sag, score=0.844, total=   0.5s\n",
      "[CV] C=1000, max_iter=600, penalty=l2, solver=sag ....................\n"
     ]
    },
    {
     "name": "stderr",
     "output_type": "stream",
     "text": [
      "C:\\Users\\hanie\\anaconda3\\lib\\site-packages\\sklearn\\linear_model\\_sag.py:329: ConvergenceWarning: The max_iter was reached which means the coef_ did not converge\n",
      "  warnings.warn(\"The max_iter was reached which means \"\n"
     ]
    },
    {
     "name": "stdout",
     "output_type": "stream",
     "text": [
      "[CV]  C=1000, max_iter=600, penalty=l2, solver=sag, score=0.841, total=   0.4s\n",
      "[CV] C=1000, max_iter=600, penalty=l2, solver=sag ....................\n"
     ]
    },
    {
     "name": "stderr",
     "output_type": "stream",
     "text": [
      "C:\\Users\\hanie\\anaconda3\\lib\\site-packages\\sklearn\\linear_model\\_sag.py:329: ConvergenceWarning: The max_iter was reached which means the coef_ did not converge\n",
      "  warnings.warn(\"The max_iter was reached which means \"\n"
     ]
    },
    {
     "name": "stdout",
     "output_type": "stream",
     "text": [
      "[CV]  C=1000, max_iter=600, penalty=l2, solver=sag, score=0.862, total=   0.4s\n",
      "[CV] C=1000, max_iter=600, penalty=l2, solver=sag ....................\n"
     ]
    },
    {
     "name": "stderr",
     "output_type": "stream",
     "text": [
      "C:\\Users\\hanie\\anaconda3\\lib\\site-packages\\sklearn\\linear_model\\_sag.py:329: ConvergenceWarning: The max_iter was reached which means the coef_ did not converge\n",
      "  warnings.warn(\"The max_iter was reached which means \"\n"
     ]
    },
    {
     "name": "stdout",
     "output_type": "stream",
     "text": [
      "[CV]  C=1000, max_iter=600, penalty=l2, solver=sag, score=0.832, total=   0.4s\n",
      "[CV] C=1000, max_iter=600, penalty=l2, solver=sag ....................\n"
     ]
    },
    {
     "name": "stderr",
     "output_type": "stream",
     "text": [
      "C:\\Users\\hanie\\anaconda3\\lib\\site-packages\\sklearn\\linear_model\\_sag.py:329: ConvergenceWarning: The max_iter was reached which means the coef_ did not converge\n",
      "  warnings.warn(\"The max_iter was reached which means \"\n"
     ]
    },
    {
     "name": "stdout",
     "output_type": "stream",
     "text": [
      "[CV]  C=1000, max_iter=600, penalty=l2, solver=sag, score=0.823, total=   0.4s\n",
      "[CV] C=1000, max_iter=600, penalty=l2, solver=saga ...................\n"
     ]
    },
    {
     "name": "stderr",
     "output_type": "stream",
     "text": [
      "C:\\Users\\hanie\\anaconda3\\lib\\site-packages\\sklearn\\linear_model\\_sag.py:329: ConvergenceWarning: The max_iter was reached which means the coef_ did not converge\n",
      "  warnings.warn(\"The max_iter was reached which means \"\n"
     ]
    },
    {
     "name": "stdout",
     "output_type": "stream",
     "text": [
      "[CV]  C=1000, max_iter=600, penalty=l2, solver=saga, score=0.845, total=   0.4s\n",
      "[CV] C=1000, max_iter=600, penalty=l2, solver=saga ...................\n"
     ]
    },
    {
     "name": "stderr",
     "output_type": "stream",
     "text": [
      "C:\\Users\\hanie\\anaconda3\\lib\\site-packages\\sklearn\\linear_model\\_sag.py:329: ConvergenceWarning: The max_iter was reached which means the coef_ did not converge\n",
      "  warnings.warn(\"The max_iter was reached which means \"\n"
     ]
    },
    {
     "name": "stdout",
     "output_type": "stream",
     "text": [
      "[CV]  C=1000, max_iter=600, penalty=l2, solver=saga, score=0.840, total=   0.4s\n",
      "[CV] C=1000, max_iter=600, penalty=l2, solver=saga ...................\n"
     ]
    },
    {
     "name": "stderr",
     "output_type": "stream",
     "text": [
      "C:\\Users\\hanie\\anaconda3\\lib\\site-packages\\sklearn\\linear_model\\_sag.py:329: ConvergenceWarning: The max_iter was reached which means the coef_ did not converge\n",
      "  warnings.warn(\"The max_iter was reached which means \"\n"
     ]
    },
    {
     "name": "stdout",
     "output_type": "stream",
     "text": [
      "[CV]  C=1000, max_iter=600, penalty=l2, solver=saga, score=0.860, total=   0.4s\n",
      "[CV] C=1000, max_iter=600, penalty=l2, solver=saga ...................\n"
     ]
    },
    {
     "name": "stderr",
     "output_type": "stream",
     "text": [
      "C:\\Users\\hanie\\anaconda3\\lib\\site-packages\\sklearn\\linear_model\\_sag.py:329: ConvergenceWarning: The max_iter was reached which means the coef_ did not converge\n",
      "  warnings.warn(\"The max_iter was reached which means \"\n"
     ]
    },
    {
     "name": "stdout",
     "output_type": "stream",
     "text": [
      "[CV]  C=1000, max_iter=600, penalty=l2, solver=saga, score=0.831, total=   0.4s\n",
      "[CV] C=1000, max_iter=600, penalty=l2, solver=saga ...................\n"
     ]
    },
    {
     "name": "stderr",
     "output_type": "stream",
     "text": [
      "C:\\Users\\hanie\\anaconda3\\lib\\site-packages\\sklearn\\linear_model\\_sag.py:329: ConvergenceWarning: The max_iter was reached which means the coef_ did not converge\n",
      "  warnings.warn(\"The max_iter was reached which means \"\n",
      "C:\\Users\\hanie\\anaconda3\\lib\\site-packages\\sklearn\\model_selection\\_validation.py:548: FitFailedWarning: Estimator fit failed. The score on this train-test partition for these parameters will be set to nan. Details: \n",
      "Traceback (most recent call last):\n",
      "  File \"C:\\Users\\hanie\\anaconda3\\lib\\site-packages\\sklearn\\model_selection\\_validation.py\", line 531, in _fit_and_score\n",
      "    estimator.fit(X_train, y_train, **fit_params)\n",
      "  File \"C:\\Users\\hanie\\anaconda3\\lib\\site-packages\\sklearn\\linear_model\\_logistic.py\", line 1304, in fit\n",
      "    solver = _check_solver(self.solver, self.penalty, self.dual)\n",
      "  File \"C:\\Users\\hanie\\anaconda3\\lib\\site-packages\\sklearn\\linear_model\\_logistic.py\", line 442, in _check_solver\n",
      "    raise ValueError(\"Solver %s supports only 'l2' or 'none' penalties, \"\n",
      "ValueError: Solver newton-cg supports only 'l2' or 'none' penalties, got l1 penalty.\n",
      "\n",
      "  warnings.warn(\"Estimator fit failed. The score on this train-test\"\n",
      "C:\\Users\\hanie\\anaconda3\\lib\\site-packages\\sklearn\\model_selection\\_validation.py:548: FitFailedWarning: Estimator fit failed. The score on this train-test partition for these parameters will be set to nan. Details: \n",
      "Traceback (most recent call last):\n",
      "  File \"C:\\Users\\hanie\\anaconda3\\lib\\site-packages\\sklearn\\model_selection\\_validation.py\", line 531, in _fit_and_score\n",
      "    estimator.fit(X_train, y_train, **fit_params)\n",
      "  File \"C:\\Users\\hanie\\anaconda3\\lib\\site-packages\\sklearn\\linear_model\\_logistic.py\", line 1304, in fit\n",
      "    solver = _check_solver(self.solver, self.penalty, self.dual)\n",
      "  File \"C:\\Users\\hanie\\anaconda3\\lib\\site-packages\\sklearn\\linear_model\\_logistic.py\", line 442, in _check_solver\n",
      "    raise ValueError(\"Solver %s supports only 'l2' or 'none' penalties, \"\n",
      "ValueError: Solver lbfgs supports only 'l2' or 'none' penalties, got l1 penalty.\n",
      "\n",
      "  warnings.warn(\"Estimator fit failed. The score on this train-test\"\n"
     ]
    },
    {
     "name": "stdout",
     "output_type": "stream",
     "text": [
      "[CV]  C=1000, max_iter=600, penalty=l2, solver=saga, score=0.823, total=   0.5s\n",
      "[CV] C=1000, max_iter=700, penalty=l1, solver=newton-cg ..............\n",
      "[CV]  C=1000, max_iter=700, penalty=l1, solver=newton-cg, score=nan, total=   0.0s\n",
      "[CV] C=1000, max_iter=700, penalty=l1, solver=newton-cg ..............\n",
      "[CV]  C=1000, max_iter=700, penalty=l1, solver=newton-cg, score=nan, total=   0.0s\n",
      "[CV] C=1000, max_iter=700, penalty=l1, solver=newton-cg ..............\n",
      "[CV]  C=1000, max_iter=700, penalty=l1, solver=newton-cg, score=nan, total=   0.0s\n",
      "[CV] C=1000, max_iter=700, penalty=l1, solver=newton-cg ..............\n",
      "[CV]  C=1000, max_iter=700, penalty=l1, solver=newton-cg, score=nan, total=   0.0s\n",
      "[CV] C=1000, max_iter=700, penalty=l1, solver=newton-cg ..............\n",
      "[CV]  C=1000, max_iter=700, penalty=l1, solver=newton-cg, score=nan, total=   0.0s\n",
      "[CV] C=1000, max_iter=700, penalty=l1, solver=lbfgs ..................\n",
      "[CV]  C=1000, max_iter=700, penalty=l1, solver=lbfgs, score=nan, total=   0.0s\n",
      "[CV] C=1000, max_iter=700, penalty=l1, solver=lbfgs ..................\n",
      "[CV]  C=1000, max_iter=700, penalty=l1, solver=lbfgs, score=nan, total=   0.0s\n",
      "[CV] C=1000, max_iter=700, penalty=l1, solver=lbfgs ..................\n",
      "[CV]  C=1000, max_iter=700, penalty=l1, solver=lbfgs, score=nan, total=   0.0s\n",
      "[CV] C=1000, max_iter=700, penalty=l1, solver=lbfgs ..................\n",
      "[CV]  C=1000, max_iter=700, penalty=l1, solver=lbfgs, score=nan, total=   0.0s\n",
      "[CV] C=1000, max_iter=700, penalty=l1, solver=lbfgs ..................\n",
      "[CV]  C=1000, max_iter=700, penalty=l1, solver=lbfgs, score=nan, total=   0.0s\n",
      "[CV] C=1000, max_iter=700, penalty=l1, solver=liblinear ..............\n",
      "[CV]  C=1000, max_iter=700, penalty=l1, solver=liblinear, score=0.858, total=   0.1s\n",
      "[CV] C=1000, max_iter=700, penalty=l1, solver=liblinear ..............\n",
      "[CV]  C=1000, max_iter=700, penalty=l1, solver=liblinear, score=0.862, total=   0.3s\n",
      "[CV] C=1000, max_iter=700, penalty=l1, solver=liblinear ..............\n",
      "[CV]  C=1000, max_iter=700, penalty=l1, solver=liblinear, score=0.879, total=   0.6s\n",
      "[CV] C=1000, max_iter=700, penalty=l1, solver=liblinear ..............\n",
      "[CV]  C=1000, max_iter=700, penalty=l1, solver=liblinear, score=0.841, total=   0.8s\n",
      "[CV] C=1000, max_iter=700, penalty=l1, solver=liblinear ..............\n",
      "[CV]  C=1000, max_iter=700, penalty=l1, solver=liblinear, score=0.842, total=   0.8s\n",
      "[CV] C=1000, max_iter=700, penalty=l1, solver=sag ....................\n",
      "[CV]  C=1000, max_iter=700, penalty=l1, solver=sag, score=nan, total=   0.0s\n",
      "[CV] C=1000, max_iter=700, penalty=l1, solver=sag ....................\n",
      "[CV]  C=1000, max_iter=700, penalty=l1, solver=sag, score=nan, total=   0.0s\n",
      "[CV] C=1000, max_iter=700, penalty=l1, solver=sag ....................\n",
      "[CV]  C=1000, max_iter=700, penalty=l1, solver=sag, score=nan, total=   0.0s\n",
      "[CV] C=1000, max_iter=700, penalty=l1, solver=sag ....................\n",
      "[CV]  C=1000, max_iter=700, penalty=l1, solver=sag, score=nan, total=   0.0s\n",
      "[CV] C=1000, max_iter=700, penalty=l1, solver=sag ....................\n",
      "[CV]  C=1000, max_iter=700, penalty=l1, solver=sag, score=nan, total=   0.0s\n",
      "[CV] C=1000, max_iter=700, penalty=l1, solver=saga ...................\n"
     ]
    },
    {
     "name": "stderr",
     "output_type": "stream",
     "text": [
      "C:\\Users\\hanie\\anaconda3\\lib\\site-packages\\sklearn\\model_selection\\_validation.py:548: FitFailedWarning: Estimator fit failed. The score on this train-test partition for these parameters will be set to nan. Details: \n",
      "Traceback (most recent call last):\n",
      "  File \"C:\\Users\\hanie\\anaconda3\\lib\\site-packages\\sklearn\\model_selection\\_validation.py\", line 531, in _fit_and_score\n",
      "    estimator.fit(X_train, y_train, **fit_params)\n",
      "  File \"C:\\Users\\hanie\\anaconda3\\lib\\site-packages\\sklearn\\linear_model\\_logistic.py\", line 1304, in fit\n",
      "    solver = _check_solver(self.solver, self.penalty, self.dual)\n",
      "  File \"C:\\Users\\hanie\\anaconda3\\lib\\site-packages\\sklearn\\linear_model\\_logistic.py\", line 442, in _check_solver\n",
      "    raise ValueError(\"Solver %s supports only 'l2' or 'none' penalties, \"\n",
      "ValueError: Solver sag supports only 'l2' or 'none' penalties, got l1 penalty.\n",
      "\n",
      "  warnings.warn(\"Estimator fit failed. The score on this train-test\"\n",
      "C:\\Users\\hanie\\anaconda3\\lib\\site-packages\\sklearn\\linear_model\\_sag.py:329: ConvergenceWarning: The max_iter was reached which means the coef_ did not converge\n",
      "  warnings.warn(\"The max_iter was reached which means \"\n"
     ]
    },
    {
     "name": "stdout",
     "output_type": "stream",
     "text": [
      "[CV]  C=1000, max_iter=700, penalty=l1, solver=saga, score=0.843, total=   0.6s\n",
      "[CV] C=1000, max_iter=700, penalty=l1, solver=saga ...................\n"
     ]
    },
    {
     "name": "stderr",
     "output_type": "stream",
     "text": [
      "C:\\Users\\hanie\\anaconda3\\lib\\site-packages\\sklearn\\linear_model\\_sag.py:329: ConvergenceWarning: The max_iter was reached which means the coef_ did not converge\n",
      "  warnings.warn(\"The max_iter was reached which means \"\n"
     ]
    },
    {
     "name": "stdout",
     "output_type": "stream",
     "text": [
      "[CV]  C=1000, max_iter=700, penalty=l1, solver=saga, score=0.842, total=   0.6s\n",
      "[CV] C=1000, max_iter=700, penalty=l1, solver=saga ...................\n"
     ]
    },
    {
     "name": "stderr",
     "output_type": "stream",
     "text": [
      "C:\\Users\\hanie\\anaconda3\\lib\\site-packages\\sklearn\\linear_model\\_sag.py:329: ConvergenceWarning: The max_iter was reached which means the coef_ did not converge\n",
      "  warnings.warn(\"The max_iter was reached which means \"\n"
     ]
    },
    {
     "name": "stdout",
     "output_type": "stream",
     "text": [
      "[CV]  C=1000, max_iter=700, penalty=l1, solver=saga, score=0.863, total=   0.6s\n",
      "[CV] C=1000, max_iter=700, penalty=l1, solver=saga ...................\n"
     ]
    },
    {
     "name": "stderr",
     "output_type": "stream",
     "text": [
      "C:\\Users\\hanie\\anaconda3\\lib\\site-packages\\sklearn\\linear_model\\_sag.py:329: ConvergenceWarning: The max_iter was reached which means the coef_ did not converge\n",
      "  warnings.warn(\"The max_iter was reached which means \"\n"
     ]
    },
    {
     "name": "stdout",
     "output_type": "stream",
     "text": [
      "[CV]  C=1000, max_iter=700, penalty=l1, solver=saga, score=0.831, total=   0.6s\n",
      "[CV] C=1000, max_iter=700, penalty=l1, solver=saga ...................\n"
     ]
    },
    {
     "name": "stderr",
     "output_type": "stream",
     "text": [
      "C:\\Users\\hanie\\anaconda3\\lib\\site-packages\\sklearn\\linear_model\\_sag.py:329: ConvergenceWarning: The max_iter was reached which means the coef_ did not converge\n",
      "  warnings.warn(\"The max_iter was reached which means \"\n"
     ]
    },
    {
     "name": "stdout",
     "output_type": "stream",
     "text": [
      "[CV]  C=1000, max_iter=700, penalty=l1, solver=saga, score=0.824, total=   0.6s\n",
      "[CV] C=1000, max_iter=700, penalty=l2, solver=newton-cg ..............\n",
      "[CV]  C=1000, max_iter=700, penalty=l2, solver=newton-cg, score=0.845, total=   0.1s\n",
      "[CV] C=1000, max_iter=700, penalty=l2, solver=newton-cg ..............\n",
      "[CV]  C=1000, max_iter=700, penalty=l2, solver=newton-cg, score=0.843, total=   0.1s\n",
      "[CV] C=1000, max_iter=700, penalty=l2, solver=newton-cg ..............\n",
      "[CV]  C=1000, max_iter=700, penalty=l2, solver=newton-cg, score=0.863, total=   0.1s\n",
      "[CV] C=1000, max_iter=700, penalty=l2, solver=newton-cg ..............\n",
      "[CV]  C=1000, max_iter=700, penalty=l2, solver=newton-cg, score=0.833, total=   0.1s\n",
      "[CV] C=1000, max_iter=700, penalty=l2, solver=newton-cg ..............\n",
      "[CV]  C=1000, max_iter=700, penalty=l2, solver=newton-cg, score=0.825, total=   0.1s\n",
      "[CV] C=1000, max_iter=700, penalty=l2, solver=lbfgs ..................\n",
      "[CV]  C=1000, max_iter=700, penalty=l2, solver=lbfgs, score=0.845, total=   0.1s\n",
      "[CV] C=1000, max_iter=700, penalty=l2, solver=lbfgs ..................\n",
      "[CV]  C=1000, max_iter=700, penalty=l2, solver=lbfgs, score=0.843, total=   0.1s\n",
      "[CV] C=1000, max_iter=700, penalty=l2, solver=lbfgs ..................\n",
      "[CV]  C=1000, max_iter=700, penalty=l2, solver=lbfgs, score=0.863, total=   0.2s\n",
      "[CV] C=1000, max_iter=700, penalty=l2, solver=lbfgs ..................\n",
      "[CV]  C=1000, max_iter=700, penalty=l2, solver=lbfgs, score=0.833, total=   0.1s\n",
      "[CV] C=1000, max_iter=700, penalty=l2, solver=lbfgs ..................\n",
      "[CV]  C=1000, max_iter=700, penalty=l2, solver=lbfgs, score=0.824, total=   0.1s\n",
      "[CV] C=1000, max_iter=700, penalty=l2, solver=liblinear ..............\n",
      "[CV]  C=1000, max_iter=700, penalty=l2, solver=liblinear, score=0.845, total=   0.0s\n",
      "[CV] C=1000, max_iter=700, penalty=l2, solver=liblinear ..............\n",
      "[CV]  C=1000, max_iter=700, penalty=l2, solver=liblinear, score=0.842, total=   0.0s\n",
      "[CV] C=1000, max_iter=700, penalty=l2, solver=liblinear ..............\n",
      "[CV]  C=1000, max_iter=700, penalty=l2, solver=liblinear, score=0.863, total=   0.0s\n",
      "[CV] C=1000, max_iter=700, penalty=l2, solver=liblinear ..............\n",
      "[CV]  C=1000, max_iter=700, penalty=l2, solver=liblinear, score=0.833, total=   0.0s\n",
      "[CV] C=1000, max_iter=700, penalty=l2, solver=liblinear ..............\n",
      "[CV]  C=1000, max_iter=700, penalty=l2, solver=liblinear, score=0.823, total=   0.0s\n",
      "[CV] C=1000, max_iter=700, penalty=l2, solver=sag ....................\n"
     ]
    },
    {
     "name": "stderr",
     "output_type": "stream",
     "text": [
      "C:\\Users\\hanie\\anaconda3\\lib\\site-packages\\sklearn\\linear_model\\_sag.py:329: ConvergenceWarning: The max_iter was reached which means the coef_ did not converge\n",
      "  warnings.warn(\"The max_iter was reached which means \"\n"
     ]
    },
    {
     "name": "stdout",
     "output_type": "stream",
     "text": [
      "[CV]  C=1000, max_iter=700, penalty=l2, solver=sag, score=0.844, total=   0.6s\n",
      "[CV] C=1000, max_iter=700, penalty=l2, solver=sag ....................\n"
     ]
    },
    {
     "name": "stderr",
     "output_type": "stream",
     "text": [
      "C:\\Users\\hanie\\anaconda3\\lib\\site-packages\\sklearn\\linear_model\\_sag.py:329: ConvergenceWarning: The max_iter was reached which means the coef_ did not converge\n",
      "  warnings.warn(\"The max_iter was reached which means \"\n"
     ]
    },
    {
     "name": "stdout",
     "output_type": "stream",
     "text": [
      "[CV]  C=1000, max_iter=700, penalty=l2, solver=sag, score=0.841, total=   0.5s\n",
      "[CV] C=1000, max_iter=700, penalty=l2, solver=sag ....................\n"
     ]
    },
    {
     "name": "stderr",
     "output_type": "stream",
     "text": [
      "C:\\Users\\hanie\\anaconda3\\lib\\site-packages\\sklearn\\linear_model\\_sag.py:329: ConvergenceWarning: The max_iter was reached which means the coef_ did not converge\n",
      "  warnings.warn(\"The max_iter was reached which means \"\n"
     ]
    },
    {
     "name": "stdout",
     "output_type": "stream",
     "text": [
      "[CV]  C=1000, max_iter=700, penalty=l2, solver=sag, score=0.862, total=   0.5s\n",
      "[CV] C=1000, max_iter=700, penalty=l2, solver=sag ....................\n"
     ]
    },
    {
     "name": "stderr",
     "output_type": "stream",
     "text": [
      "C:\\Users\\hanie\\anaconda3\\lib\\site-packages\\sklearn\\linear_model\\_sag.py:329: ConvergenceWarning: The max_iter was reached which means the coef_ did not converge\n",
      "  warnings.warn(\"The max_iter was reached which means \"\n"
     ]
    },
    {
     "name": "stdout",
     "output_type": "stream",
     "text": [
      "[CV]  C=1000, max_iter=700, penalty=l2, solver=sag, score=0.833, total=   0.5s\n",
      "[CV] C=1000, max_iter=700, penalty=l2, solver=sag ....................\n"
     ]
    },
    {
     "name": "stderr",
     "output_type": "stream",
     "text": [
      "C:\\Users\\hanie\\anaconda3\\lib\\site-packages\\sklearn\\linear_model\\_sag.py:329: ConvergenceWarning: The max_iter was reached which means the coef_ did not converge\n",
      "  warnings.warn(\"The max_iter was reached which means \"\n"
     ]
    },
    {
     "name": "stdout",
     "output_type": "stream",
     "text": [
      "[CV]  C=1000, max_iter=700, penalty=l2, solver=sag, score=0.823, total=   0.5s\n",
      "[CV] C=1000, max_iter=700, penalty=l2, solver=saga ...................\n"
     ]
    },
    {
     "name": "stderr",
     "output_type": "stream",
     "text": [
      "C:\\Users\\hanie\\anaconda3\\lib\\site-packages\\sklearn\\linear_model\\_sag.py:329: ConvergenceWarning: The max_iter was reached which means the coef_ did not converge\n",
      "  warnings.warn(\"The max_iter was reached which means \"\n"
     ]
    },
    {
     "name": "stdout",
     "output_type": "stream",
     "text": [
      "[CV]  C=1000, max_iter=700, penalty=l2, solver=saga, score=0.844, total=   0.5s\n",
      "[CV] C=1000, max_iter=700, penalty=l2, solver=saga ...................\n"
     ]
    },
    {
     "name": "stderr",
     "output_type": "stream",
     "text": [
      "C:\\Users\\hanie\\anaconda3\\lib\\site-packages\\sklearn\\linear_model\\_sag.py:329: ConvergenceWarning: The max_iter was reached which means the coef_ did not converge\n",
      "  warnings.warn(\"The max_iter was reached which means \"\n"
     ]
    },
    {
     "name": "stdout",
     "output_type": "stream",
     "text": [
      "[CV]  C=1000, max_iter=700, penalty=l2, solver=saga, score=0.841, total=   0.6s\n",
      "[CV] C=1000, max_iter=700, penalty=l2, solver=saga ...................\n"
     ]
    },
    {
     "name": "stderr",
     "output_type": "stream",
     "text": [
      "C:\\Users\\hanie\\anaconda3\\lib\\site-packages\\sklearn\\linear_model\\_sag.py:329: ConvergenceWarning: The max_iter was reached which means the coef_ did not converge\n",
      "  warnings.warn(\"The max_iter was reached which means \"\n"
     ]
    },
    {
     "name": "stdout",
     "output_type": "stream",
     "text": [
      "[CV]  C=1000, max_iter=700, penalty=l2, solver=saga, score=0.861, total=   0.6s\n",
      "[CV] C=1000, max_iter=700, penalty=l2, solver=saga ...................\n"
     ]
    },
    {
     "name": "stderr",
     "output_type": "stream",
     "text": [
      "C:\\Users\\hanie\\anaconda3\\lib\\site-packages\\sklearn\\linear_model\\_sag.py:329: ConvergenceWarning: The max_iter was reached which means the coef_ did not converge\n",
      "  warnings.warn(\"The max_iter was reached which means \"\n"
     ]
    },
    {
     "name": "stdout",
     "output_type": "stream",
     "text": [
      "[CV]  C=1000, max_iter=700, penalty=l2, solver=saga, score=0.831, total=   0.5s\n",
      "[CV] C=1000, max_iter=700, penalty=l2, solver=saga ...................\n"
     ]
    },
    {
     "name": "stderr",
     "output_type": "stream",
     "text": [
      "C:\\Users\\hanie\\anaconda3\\lib\\site-packages\\sklearn\\linear_model\\_sag.py:329: ConvergenceWarning: The max_iter was reached which means the coef_ did not converge\n",
      "  warnings.warn(\"The max_iter was reached which means \"\n",
      "[Parallel(n_jobs=1)]: Done 2450 out of 2450 | elapsed:  3.3min finished\n"
     ]
    },
    {
     "name": "stdout",
     "output_type": "stream",
     "text": [
      "[CV]  C=1000, max_iter=700, penalty=l2, solver=saga, score=0.823, total=   0.5s\n"
     ]
    },
    {
     "data": {
      "text/plain": [
       "GridSearchCV(estimator=LogisticRegression(),\n",
       "             param_grid={'C': [0.001, 0.01, 0.1, 1, 10, 100, 1000],\n",
       "                         'max_iter': [100, 200, 300, 400, 500, 600, 700],\n",
       "                         'penalty': ['l1', 'l2'],\n",
       "                         'solver': ['newton-cg', 'lbfgs', 'liblinear', 'sag',\n",
       "                                    'saga']},\n",
       "             verbose=3)"
      ]
     },
     "execution_count": 60,
     "metadata": {},
     "output_type": "execute_result"
    }
   ],
   "source": [
    "grid.fit(X_train_scaled, y_train)"
   ]
  },
  {
   "cell_type": "code",
   "execution_count": 61,
   "metadata": {},
   "outputs": [
    {
     "name": "stdout",
     "output_type": "stream",
     "text": [
      "{'C': 1000, 'max_iter': 100, 'penalty': 'l1', 'solver': 'liblinear'}\n",
      "0.8586623756540217\n"
     ]
    }
   ],
   "source": [
    "print(grid.best_params_)\n",
    "print(grid.best_score_)"
   ]
  },
  {
   "cell_type": "code",
   "execution_count": 68,
   "metadata": {},
   "outputs": [
    {
     "name": "stderr",
     "output_type": "stream",
     "text": [
      "C:\\Users\\hanie\\anaconda3\\lib\\site-packages\\sklearn\\linear_model\\_sag.py:329: ConvergenceWarning: The max_iter was reached which means the coef_ did not converge\n",
      "  warnings.warn(\"The max_iter was reached which means \"\n"
     ]
    },
    {
     "data": {
      "text/plain": [
       "LogisticRegression(max_iter=200, penalty='l1', solver='saga')"
      ]
     },
     "execution_count": 68,
     "metadata": {},
     "output_type": "execute_result"
    }
   ],
   "source": [
    "classifier_final=LogisticRegression(C=1.0, max_iter= 200, penalty= 'l1', solver='saga')\n",
    "classifier_final.fit(X_train_scaled, y_train)"
   ]
  },
  {
   "cell_type": "code",
   "execution_count": 69,
   "metadata": {},
   "outputs": [
    {
     "data": {
      "text/plain": [
       "0.8094965675057209"
      ]
     },
     "execution_count": 69,
     "metadata": {},
     "output_type": "execute_result"
    }
   ],
   "source": [
    "classifier_final.score(X_test_scaled, y_test)"
   ]
  },
  {
   "cell_type": "code",
   "execution_count": 70,
   "metadata": {},
   "outputs": [
    {
     "data": {
      "text/plain": [
       "['logisticregression.sav']"
      ]
     },
     "execution_count": 70,
     "metadata": {},
     "output_type": "execute_result"
    }
   ],
   "source": [
    "# save your model by updating \"your_name\" with your name\n",
    "# and \"your_model\" with your model variable\n",
    "# be sure to turn this in to BCS\n",
    "# if joblib fails to import, try running the command to install in terminal/git-bash\n",
    "import joblib\n",
    "filename = 'logisticregression.sav'\n",
    "joblib.dump(classifier_final, filename)"
   ]
  },
  {
   "cell_type": "code",
   "execution_count": null,
   "metadata": {},
   "outputs": [],
   "source": []
  }
 ],
 "metadata": {
  "kernelspec": {
   "display_name": "Python 3",
   "language": "python",
   "name": "python3"
  },
  "language_info": {
   "codemirror_mode": {
    "name": "ipython",
    "version": 3
   },
   "file_extension": ".py",
   "mimetype": "text/x-python",
   "name": "python",
   "nbconvert_exporter": "python",
   "pygments_lexer": "ipython3",
   "version": "3.8.3"
  }
 },
 "nbformat": 4,
 "nbformat_minor": 4
}
